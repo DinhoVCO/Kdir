{
 "cells": [
  {
   "cell_type": "code",
   "execution_count": null,
   "id": "4c0915a7-6a60-4d67-8a6b-5c0dd59c1c62",
   "metadata": {},
   "outputs": [],
   "source": [
    "#docker pull qdrant/qdrant"
   ]
  },
  {
   "cell_type": "code",
   "execution_count": null,
   "id": "dce206ce-bc04-4687-889b-80ba9aceee62",
   "metadata": {},
   "outputs": [],
   "source": [
    "# docker run -p 6333:6333 -p 6334:6334 \\\n",
    "#     -v \"$(pwd)/qdrant_storage:/qdrant/storage:z\" \\\n",
    "#     qdrant/qdrant"
   ]
  }
 ],
 "metadata": {
  "kernelspec": {
   "display_name": "Python 3 (ipykernel)",
   "language": "python",
   "name": "python3"
  },
  "language_info": {
   "codemirror_mode": {
    "name": "ipython",
    "version": 3
   },
   "file_extension": ".py",
   "mimetype": "text/x-python",
   "name": "python",
   "nbconvert_exporter": "python",
   "pygments_lexer": "ipython3",
   "version": "3.10.14"
  }
 },
 "nbformat": 4,
 "nbformat_minor": 5
}
