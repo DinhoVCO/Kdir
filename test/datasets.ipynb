{
 "cells": [
  {
   "cell_type": "code",
   "execution_count": 1,
   "id": "e52a5ba1-ffc1-46c1-8338-f811bedc18b3",
   "metadata": {},
   "outputs": [
    {
     "name": "stderr",
     "output_type": "stream",
     "text": [
      "/local1/ronaldinho/enviroments/env_kdir/lib/python3.10/site-packages/beir/util.py:11: TqdmExperimentalWarning: Using `tqdm.autonotebook.tqdm` in notebook mode. Use `tqdm.tqdm` instead to force console mode (e.g. in jupyter console)\n",
      "  from tqdm.autonotebook import tqdm\n"
     ]
    }
   ],
   "source": [
    "from beir import util\n",
    "from beir.datasets.data_loader import GenericDataLoader"
   ]
  },
  {
   "cell_type": "markdown",
   "id": "3edf176d-3b53-44dc-940b-ff1263a4184e",
   "metadata": {},
   "source": [
    "## Arguana"
   ]
  },
  {
   "cell_type": "code",
   "execution_count": 2,
   "id": "2838bc01-5548-47a3-8550-28fc21f8a836",
   "metadata": {},
   "outputs": [
    {
     "data": {
      "application/vnd.jupyter.widget-view+json": {
       "model_id": "71128af2947743f888db01538550ea7e",
       "version_major": 2,
       "version_minor": 0
      },
      "text/plain": [
       "datasets/arguana.zip:   0%|          | 0.00/3.60M [00:00<?, ?iB/s]"
      ]
     },
     "metadata": {},
     "output_type": "display_data"
    },
    {
     "data": {
      "application/vnd.jupyter.widget-view+json": {
       "model_id": "6dc981a4a3e343789e11a0727a8b85af",
       "version_major": 2,
       "version_minor": 0
      },
      "text/plain": [
       "  0%|          | 0/8674 [00:00<?, ?it/s]"
      ]
     },
     "metadata": {},
     "output_type": "display_data"
    }
   ],
   "source": [
    "dataset = \"arguana\"\n",
    "url = \"https://public.ukp.informatik.tu-darmstadt.de/thakur/BEIR/datasets/{}.zip\".format(dataset)\n",
    "data_path = util.download_and_unzip(url, \"datasets\")\n",
    "corpus, queries, qrels = GenericDataLoader(data_folder=data_path).load(split=\"test\")"
   ]
  },
  {
   "cell_type": "code",
   "execution_count": 5,
   "id": "6f19bb7e-1fa1-4e37-a0e9-716e09d36551",
   "metadata": {},
   "outputs": [
    {
     "name": "stdout",
     "output_type": "stream",
     "text": [
      "8674\n",
      "1406\n",
      "1406\n"
     ]
    }
   ],
   "source": [
    "print(len(corpus))\n",
    "print(len(queries))\n",
    "print(len(qrels))"
   ]
  },
  {
   "cell_type": "code",
   "execution_count": 25,
   "id": "7a3665cb-6874-47ec-b6ab-7ebb8700a6c0",
   "metadata": {
    "scrolled": true
   },
   "outputs": [
    {
     "data": {
      "text/plain": [
       "'People will die if we don’t do animal testing  Every year, 23 new drugs are introduced in the UK alone.[13] Almost all will be tested on animals. A new drug will be used for a long time. Think of all the people saved by the use of penicillin. If drugs cost more to test, that means drug companies will develop less. This means more people suffering and dying'"
      ]
     },
     "execution_count": 25,
     "metadata": {},
     "output_type": "execute_result"
    }
   ],
   "source": [
    "queries['test-environment-assgbatj-con02a']"
   ]
  },
  {
   "cell_type": "code",
   "execution_count": 22,
   "id": "d24a8260-c54a-4905-a9d6-9369159818c4",
   "metadata": {},
   "outputs": [
    {
     "data": {
      "text/plain": [
       "{'test-environment-assgbatj-con02b': 1}"
      ]
     },
     "execution_count": 22,
     "metadata": {},
     "output_type": "execute_result"
    }
   ],
   "source": [
    "qrels['test-environment-assgbatj-con02a']"
   ]
  },
  {
   "cell_type": "code",
   "execution_count": 23,
   "id": "69df5c21-a65a-4755-af45-a0b6d8281575",
   "metadata": {},
   "outputs": [
    {
     "data": {
      "text/plain": [
       "{'text': 'Many of these drugs are “me too” drugs – ones with a slight change that doesn’t make much difference to an existing drug. [14] So often the benefits from animal testing are marginal, and even if there was a slight increase in human suffering, it would be worth it based on the animal suffering saved.',\n",
       " 'title': 'animals science science general ban animal testing junior'}"
      ]
     },
     "execution_count": 23,
     "metadata": {},
     "output_type": "execute_result"
    }
   ],
   "source": [
    "corpus['test-environment-assgbatj-con02b']"
   ]
  },
  {
   "cell_type": "markdown",
   "id": "da5bd729-ea89-4718-90ea-dc1f87de0955",
   "metadata": {
    "jp-MarkdownHeadingCollapsed": true
   },
   "source": [
    "## FiQA2018"
   ]
  },
  {
   "cell_type": "code",
   "execution_count": 26,
   "id": "c83e090d-ce3e-4611-8a19-8d6e3e6f1f91",
   "metadata": {},
   "outputs": [
    {
     "data": {
      "application/vnd.jupyter.widget-view+json": {
       "model_id": "d32ed3de5c5c4492b9e60fff329affac",
       "version_major": 2,
       "version_minor": 0
      },
      "text/plain": [
       "datasets/fiqa.zip:   0%|          | 0.00/17.1M [00:00<?, ?iB/s]"
      ]
     },
     "metadata": {},
     "output_type": "display_data"
    },
    {
     "data": {
      "application/vnd.jupyter.widget-view+json": {
       "model_id": "9f3b2b0e19234cd89a86a009f209d956",
       "version_major": 2,
       "version_minor": 0
      },
      "text/plain": [
       "  0%|          | 0/57638 [00:00<?, ?it/s]"
      ]
     },
     "metadata": {},
     "output_type": "display_data"
    }
   ],
   "source": [
    "dataset = \"fiqa\"\n",
    "url = \"https://public.ukp.informatik.tu-darmstadt.de/thakur/BEIR/datasets/{}.zip\".format(dataset)\n",
    "data_path = util.download_and_unzip(url, \"datasets\")\n",
    "corpus, queries, qrels = GenericDataLoader(data_folder=data_path).load(split=\"test\")"
   ]
  },
  {
   "cell_type": "code",
   "execution_count": 27,
   "id": "07cb9d75-4893-4a77-b2d6-78702a581bec",
   "metadata": {},
   "outputs": [
    {
     "name": "stdout",
     "output_type": "stream",
     "text": [
      "57638\n",
      "648\n",
      "648\n"
     ]
    }
   ],
   "source": [
    "print(len(corpus))\n",
    "print(len(queries))\n",
    "print(len(qrels))"
   ]
  },
  {
   "cell_type": "code",
   "execution_count": 29,
   "id": "65d912c7-83ab-475f-abcc-d003bd9801e4",
   "metadata": {},
   "outputs": [
    {
     "data": {
      "text/plain": [
       "'How to deposit a cheque issued to an associate in my business into my business account?'"
      ]
     },
     "execution_count": 29,
     "metadata": {},
     "output_type": "execute_result"
    }
   ],
   "source": [
    "queries['8']"
   ]
  },
  {
   "cell_type": "code",
   "execution_count": 30,
   "id": "7cdcce66-a7c7-45a4-a8e7-d203984ac31b",
   "metadata": {},
   "outputs": [
    {
     "data": {
      "text/plain": [
       "{'566392': 1, '65404': 1}"
      ]
     },
     "execution_count": 30,
     "metadata": {},
     "output_type": "execute_result"
    }
   ],
   "source": [
    "qrels['8']"
   ]
  },
  {
   "cell_type": "code",
   "execution_count": 31,
   "id": "c4fd92e1-955e-4ec1-8937-0654be37c13a",
   "metadata": {},
   "outputs": [
    {
     "data": {
      "text/plain": [
       "{'text': 'Have the check reissued to the proper payee.', 'title': ''}"
      ]
     },
     "execution_count": 31,
     "metadata": {},
     "output_type": "execute_result"
    }
   ],
   "source": [
    "corpus['566392']"
   ]
  },
  {
   "cell_type": "code",
   "execution_count": 32,
   "id": "d20b93cb-09f0-44c1-b6f5-b1e939652a80",
   "metadata": {},
   "outputs": [
    {
     "data": {
      "text/plain": [
       "{'text': \"Just have the associate sign the back and then deposit it.  It's called a third party cheque and is perfectly legal.  I wouldn't be surprised if it has a longer hold period and, as always, you don't get the money if the cheque doesn't clear. Now, you may have problems if it's a large amount or you're not very well known at the bank.  In that case you can have the associate go to the bank and endorse it in front of the teller with some ID.  You don't even technically have to be there.  Anybody can deposit money to your account if they have the account number. He could also just deposit it in his account and write a cheque to the business.\",\n",
       " 'title': ''}"
      ]
     },
     "execution_count": 32,
     "metadata": {},
     "output_type": "execute_result"
    }
   ],
   "source": [
    "corpus['65404']"
   ]
  },
  {
   "cell_type": "markdown",
   "id": "406b1b3c-b031-4173-a3a5-679d49d54677",
   "metadata": {
    "jp-MarkdownHeadingCollapsed": true
   },
   "source": [
    "## Climate fever "
   ]
  },
  {
   "cell_type": "code",
   "execution_count": 33,
   "id": "d9f0a9c7-1ec5-4020-8c1a-12908b7cd149",
   "metadata": {},
   "outputs": [
    {
     "data": {
      "application/vnd.jupyter.widget-view+json": {
       "model_id": "16b3ad0cf456468584671bfcc7e4ac3e",
       "version_major": 2,
       "version_minor": 0
      },
      "text/plain": [
       "datasets/climate-fever.zip:   0%|          | 0.00/1.14G [00:00<?, ?iB/s]"
      ]
     },
     "metadata": {},
     "output_type": "display_data"
    },
    {
     "data": {
      "application/vnd.jupyter.widget-view+json": {
       "model_id": "79eb31dcb5664c5b9f2555040daf3e2b",
       "version_major": 2,
       "version_minor": 0
      },
      "text/plain": [
       "  0%|          | 0/5416593 [00:00<?, ?it/s]"
      ]
     },
     "metadata": {},
     "output_type": "display_data"
    }
   ],
   "source": [
    "dataset = \"climate-fever\"\n",
    "url = \"https://public.ukp.informatik.tu-darmstadt.de/thakur/BEIR/datasets/{}.zip\".format(dataset)\n",
    "data_path = util.download_and_unzip(url, \"datasets\")\n",
    "corpus, queries, qrels = GenericDataLoader(data_folder=data_path).load(split=\"test\")"
   ]
  },
  {
   "cell_type": "code",
   "execution_count": 34,
   "id": "8991f402-b3d6-4e4c-b9b1-ebc134026975",
   "metadata": {},
   "outputs": [
    {
     "name": "stdout",
     "output_type": "stream",
     "text": [
      "5416593\n",
      "1535\n",
      "1535\n"
     ]
    }
   ],
   "source": [
    "print(len(corpus))\n",
    "print(len(queries))\n",
    "print(len(qrels))"
   ]
  },
  {
   "cell_type": "code",
   "execution_count": 36,
   "id": "e549e77f-3afe-40c2-ba1c-da9fe9031ed2",
   "metadata": {},
   "outputs": [
    {
     "data": {
      "text/plain": [
       "'Global warming is driving polar bears toward extinction'"
      ]
     },
     "execution_count": 36,
     "metadata": {},
     "output_type": "execute_result"
    }
   ],
   "source": [
    "queries['0']"
   ]
  },
  {
   "cell_type": "code",
   "execution_count": 37,
   "id": "1519171f-00cd-480f-ba79-56ff0f1bbcba",
   "metadata": {},
   "outputs": [
    {
     "data": {
      "text/plain": [
       "{'Habitat_destruction': 1,\n",
       " 'Polar_bear': 1,\n",
       " 'Extinction_risk_from_global_warming': 1,\n",
       " 'Global_warming': 1}"
      ]
     },
     "execution_count": 37,
     "metadata": {},
     "output_type": "execute_result"
    }
   ],
   "source": [
    "qrels['0']"
   ]
  },
  {
   "cell_type": "code",
   "execution_count": 38,
   "id": "32a27b69-3e8f-4d15-a5bb-764d35f5066b",
   "metadata": {},
   "outputs": [
    {
     "data": {
      "text/plain": [
       "{'text': 'Habitat destruction is the process in which natural habitat is rendered unable to support the species present . In this process , the organisms that previously used the site are displaced or destroyed , reducing biodiversity . Habitat destruction by human activity is mainly for the purpose of harvesting natural resources for industry production and urbanization . Clearing habitats for agriculture is the principal cause of habitat destruction . Other important causes of habitat destruction include mining , logging , trawling and urban sprawl . Habitat destruction is currently ranked as the primary cause of species extinction worldwide . It is a process of natural environmental change that may be caused by habitat fragmentation , geological processes , climate change or by human activities such as the introduction of invasive species , ecosystem nutrient depletion , and other human activities   The terms habitat loss and habitat reduction are also used in a wider sense , including loss of habitat from other factors , such as water and noise pollution .',\n",
       " 'title': 'Habitat destruction'}"
      ]
     },
     "execution_count": 38,
     "metadata": {},
     "output_type": "execute_result"
    }
   ],
   "source": [
    "corpus['Habitat_destruction']"
   ]
  },
  {
   "cell_type": "code",
   "execution_count": 39,
   "id": "5419ff4e-92c9-402c-b92c-f1ff264f23fd",
   "metadata": {},
   "outputs": [
    {
     "data": {
      "text/plain": [
       "{'text': \"The polar bear ( ursus #Latin maritimus #Latin ) is a carnivorous bear whose native range lies largely within the Arctic Circle , encompassing the Arctic Ocean , its surrounding seas and surrounding land masses . It is a large bear , approximately the same size as the omnivorous Kodiak bear ( Ursus arctos middendorffi ) . A boar ( adult male ) weighs around 350 -- , while a sow ( adult female ) is about half that size . Although it is the sister species of the brown bear , it has evolved to occupy a narrower ecological niche , with many body characteristics adapted for cold temperatures , for moving across snow , ice and open water , and for hunting seals , which make up most of its diet . Although most polar bears are born on land , they spend most of their time on the sea ice . Their scientific name means `` maritime bear '' and derives from this fact . Polar bears hunt their preferred food of seals from the edge of sea ice , often living off fat reserves when no sea ice is present . Because of their dependence on the sea ice , polar bears are classified as marine mammals ; an alternative basis for classification as marine mammals is that they depend on the ocean as their main food source .   Because of expected habitat loss caused by climate change , the polar bear is classified as a vulnerable species , and at least three of the nineteen polar bear subpopulations are currently in decline . For decades , large-scale hunting raised international concern for the future of the species , but populations rebounded after controls and quotas began to take effect . For thousands of years , the polar bear has been a key figure in the material , spiritual , and cultural life of circumpolar peoples , and polar bears remain important in their cultures .\",\n",
       " 'title': 'Polar bear'}"
      ]
     },
     "execution_count": 39,
     "metadata": {},
     "output_type": "execute_result"
    }
   ],
   "source": [
    "corpus['Polar_bear']"
   ]
  },
  {
   "cell_type": "markdown",
   "id": "c55d42ef-d5ee-4eed-b9fd-c304366ed80e",
   "metadata": {
    "jp-MarkdownHeadingCollapsed": true
   },
   "source": [
    "## NFCorpus"
   ]
  },
  {
   "cell_type": "code",
   "execution_count": 40,
   "id": "b40e9d7e-848f-43ea-93f9-ce00135e2d71",
   "metadata": {},
   "outputs": [
    {
     "data": {
      "application/vnd.jupyter.widget-view+json": {
       "model_id": "4fce0e43c1524c96bc6aa9ad0e59232e",
       "version_major": 2,
       "version_minor": 0
      },
      "text/plain": [
       "datasets/nfcorpus.zip:   0%|          | 0.00/2.34M [00:00<?, ?iB/s]"
      ]
     },
     "metadata": {},
     "output_type": "display_data"
    },
    {
     "data": {
      "application/vnd.jupyter.widget-view+json": {
       "model_id": "ef35a799401943668c99725638f04aa8",
       "version_major": 2,
       "version_minor": 0
      },
      "text/plain": [
       "  0%|          | 0/3633 [00:00<?, ?it/s]"
      ]
     },
     "metadata": {},
     "output_type": "display_data"
    }
   ],
   "source": [
    "dataset = \"nfcorpus\"\n",
    "url = \"https://public.ukp.informatik.tu-darmstadt.de/thakur/BEIR/datasets/{}.zip\".format(dataset)\n",
    "data_path = util.download_and_unzip(url, \"datasets\")\n",
    "corpus, queries, qrels = GenericDataLoader(data_folder=data_path).load(split=\"test\")"
   ]
  },
  {
   "cell_type": "code",
   "execution_count": 41,
   "id": "a40560a4-ed20-4aed-be43-20967da01e25",
   "metadata": {},
   "outputs": [
    {
     "name": "stdout",
     "output_type": "stream",
     "text": [
      "3633\n",
      "323\n",
      "323\n"
     ]
    }
   ],
   "source": [
    "print(len(corpus))\n",
    "print(len(queries))\n",
    "print(len(qrels))"
   ]
  },
  {
   "cell_type": "code",
   "execution_count": 43,
   "id": "0fd6b5cb-3b57-4346-a44c-b4ec44625f2f",
   "metadata": {},
   "outputs": [
    {
     "data": {
      "text/plain": [
       "'Do Cholesterol Statin Drugs Cause Breast Cancer?'"
      ]
     },
     "execution_count": 43,
     "metadata": {},
     "output_type": "execute_result"
    }
   ],
   "source": [
    "queries['PLAIN-2']"
   ]
  },
  {
   "cell_type": "code",
   "execution_count": 44,
   "id": "62651512-f430-445d-927e-268fdd53fb0b",
   "metadata": {
    "scrolled": true
   },
   "outputs": [
    {
     "data": {
      "text/plain": [
       "{'MED-2427': 2,\n",
       " 'MED-10': 2,\n",
       " 'MED-2429': 2,\n",
       " 'MED-2430': 2,\n",
       " 'MED-2431': 2,\n",
       " 'MED-14': 2,\n",
       " 'MED-2432': 2,\n",
       " 'MED-2428': 1,\n",
       " 'MED-2440': 1,\n",
       " 'MED-2434': 1,\n",
       " 'MED-2435': 1,\n",
       " 'MED-2436': 1,\n",
       " 'MED-2437': 1,\n",
       " 'MED-2438': 1,\n",
       " 'MED-2439': 1,\n",
       " 'MED-3597': 1,\n",
       " 'MED-3598': 1,\n",
       " 'MED-3599': 1,\n",
       " 'MED-4556': 1,\n",
       " 'MED-4559': 1,\n",
       " 'MED-4560': 1,\n",
       " 'MED-4828': 1,\n",
       " 'MED-4829': 1,\n",
       " 'MED-4830': 1}"
      ]
     },
     "execution_count": 44,
     "metadata": {},
     "output_type": "execute_result"
    }
   ],
   "source": [
    "qrels['PLAIN-2']"
   ]
  },
  {
   "cell_type": "code",
   "execution_count": 45,
   "id": "b42f6ab8-d288-4ca9-b058-ecfe7ffb067c",
   "metadata": {},
   "outputs": [
    {
     "data": {
      "text/plain": [
       "{'text': 'Lipid rafts/caveolae are membrane platforms for signaling molecules that regulate various cellular functions, including cell survival. To better understand the role of rafts in tumor progression and therapeutics, we investigated the effect of raft disruption on cell viability and compared raft levels in human cancer cell lines versus their normal counterparts. Here, we report that cholesterol depletion using methyl-β cyclodextrin caused anoikis-like apoptosis, which in A431 cells involved decreased raft levels, Bcl-xL down-regulation, caspase-3 activation, and Akt inactivation regardless of epidermal growth factor receptor activation. Cholesterol repletion replenished rafts on the cell surface and restored Akt activation and cell viability. Moreover, the breast cancer and the prostate cancer cell lines contained more lipid rafts and were more sensitive to cholesterol depletion-induced cell death than their normal counterparts. These results indicate that cancer cells contain increased levels of rafts and suggest a potential use of raft-modulating agents as anti-cancer drugs.',\n",
       " 'title': 'Elevated Levels of Cholesterol-Rich Lipid Rafts in Cancer Cells Are Correlated with Apoptosis Sensitivity Induced by Cholesterol-Depleting Agents'}"
      ]
     },
     "execution_count": 45,
     "metadata": {},
     "output_type": "execute_result"
    }
   ],
   "source": [
    "corpus['MED-2427']"
   ]
  },
  {
   "cell_type": "markdown",
   "id": "f03581f2-265d-4e84-aed2-5f19693bcf2a",
   "metadata": {
    "jp-MarkdownHeadingCollapsed": true
   },
   "source": [
    "## SCIDOCS"
   ]
  },
  {
   "cell_type": "code",
   "execution_count": 46,
   "id": "a028dca0-dd00-410d-a132-4d55a6b1ba0f",
   "metadata": {},
   "outputs": [
    {
     "data": {
      "application/vnd.jupyter.widget-view+json": {
       "model_id": "44eeb9be87e741c8ab33b2c8d1686cd0",
       "version_major": 2,
       "version_minor": 0
      },
      "text/plain": [
       "datasets/scidocs.zip:   0%|          | 0.00/136M [00:00<?, ?iB/s]"
      ]
     },
     "metadata": {},
     "output_type": "display_data"
    },
    {
     "data": {
      "application/vnd.jupyter.widget-view+json": {
       "model_id": "a556c3a5eb4d4046ac7ee94bd3628908",
       "version_major": 2,
       "version_minor": 0
      },
      "text/plain": [
       "  0%|          | 0/25657 [00:00<?, ?it/s]"
      ]
     },
     "metadata": {},
     "output_type": "display_data"
    }
   ],
   "source": [
    "dataset = \"scidocs\"\n",
    "url = \"https://public.ukp.informatik.tu-darmstadt.de/thakur/BEIR/datasets/{}.zip\".format(dataset)\n",
    "data_path = util.download_and_unzip(url, \"datasets\")\n",
    "corpus, queries, qrels = GenericDataLoader(data_folder=data_path).load(split=\"test\")"
   ]
  },
  {
   "cell_type": "code",
   "execution_count": 47,
   "id": "97ccfca3-0f9c-48b7-bfa4-19885ae43dcc",
   "metadata": {},
   "outputs": [
    {
     "name": "stdout",
     "output_type": "stream",
     "text": [
      "25657\n",
      "1000\n",
      "1000\n"
     ]
    }
   ],
   "source": [
    "print(len(corpus))\n",
    "print(len(queries))\n",
    "print(len(qrels))"
   ]
  },
  {
   "cell_type": "code",
   "execution_count": 49,
   "id": "dbd6ac16-b9f8-4250-bffa-20d0299828da",
   "metadata": {},
   "outputs": [
    {
     "data": {
      "text/plain": [
       "'A Direct Search Method to solve Economic Dispatch Problem with Valve-Point Effect'"
      ]
     },
     "execution_count": 49,
     "metadata": {},
     "output_type": "execute_result"
    }
   ],
   "source": [
    "queries['78495383450e02c5fe817e408726134b3084905d']"
   ]
  },
  {
   "cell_type": "code",
   "execution_count": 50,
   "id": "e64da2ae-d73a-4b83-bbbf-188f18f87274",
   "metadata": {},
   "outputs": [
    {
     "data": {
      "text/plain": [
       "{'632589828c8b9fca2c3a59e97451fde8fa7d188d': 1,\n",
       " '86e87db2dab958f1bd5877dc7d5b8105d6e31e46': 1,\n",
       " '2a047d8c4c2a4825e0f0305294e7da14f8de6fd3': 1,\n",
       " '506172b0e0dd4269bdcfe96dda9ea9d8602bbfb6': 1,\n",
       " '51317b6082322a96b4570818b7a5ec8b2e330f2f': 1,\n",
       " '857a8c6c46b0a85ed6019f5830294872f2f1dcf5': 0,\n",
       " '12f107016fd3d062dff88a00d6b0f5f81f00522d': 0,\n",
       " '1ae0ac5e13134df7a0d670fc08c2b404f1e3803c': 0,\n",
       " '7d3c9c4064b588d5d8c7c0cb398118aac239c71b': 0,\n",
       " '305c45fb798afdad9e6d34505b4195fa37c2ee4f': 0,\n",
       " '9f234867df1f335a76ea07933e4ae1bd34eeb48a': 0,\n",
       " '5ebfcd50c56e51aada28ccecd041db5e002f5862': 0,\n",
       " '73a7144e072356b5c9512bd4a87b22457d33760c': 0,\n",
       " 'c2aa3c7fd59a43c949844e98569429261dba36e6': 0,\n",
       " 'befdf0eb1a3d2e0d404e7fbdb43438be7ae607e5': 0,\n",
       " '506d4ca228f81715946ed1ad8d9205fad20fddfe': 0,\n",
       " '772205182fbb6ad842df4a6cd937741145eeece0': 0,\n",
       " 'd2018e51b772aba852e54ccc0ba7f0b7c2792115': 0,\n",
       " 'cc76f5d348ab6c3a20ab4adb285fc1ad96d3c009': 0,\n",
       " '1b2a0e8af5c1f18e47e71244973ce4ace4ac6034': 0,\n",
       " 'c9d41f115eae5e03c5ed45c663d9435cb66ec942': 0,\n",
       " 'b579366db457216b0548220bf369ab9eb183a0cc': 0,\n",
       " 'f69253e97f487b9d77b72553a9115fc814e3ed51': 0,\n",
       " '6c9bd4bd7e30470e069f8600dadb4fd6d2de6bc1': 0,\n",
       " 'a72daf1fc4b1fc16d3c8a2e33f9aac6e17461d9a': 0,\n",
       " '585da6b6355f3536e1b12b30ef4c3ea54b955f2d': 0,\n",
       " 'd18cc66f7f87e041dec544a0b843496085ab54e1': 0,\n",
       " '22fc3af1fb55d48f3c03cd96f277503e92541c60': 0,\n",
       " '4114c89bec92ebde7c20d12d0303281983ed1df8': 0,\n",
       " '8e508720cdb495b7821bf6e43c740eeb5f3a444a': 0}"
      ]
     },
     "execution_count": 50,
     "metadata": {},
     "output_type": "execute_result"
    }
   ],
   "source": [
    "qrels['78495383450e02c5fe817e408726134b3084905d']"
   ]
  },
  {
   "cell_type": "code",
   "execution_count": 51,
   "id": "bad89cf7-87de-4459-8d30-f8305f2466e0",
   "metadata": {},
   "outputs": [
    {
     "data": {
      "text/plain": [
       "{'text': 'An evolutionary recurrent network which automates the design of recurrent neural/fuzzy networks using a new evolutionary learning algorithm is proposed in this paper. This new evolutionary learning algorithm is based on a hybrid of genetic algorithm (GA) and particle swarm optimization (PSO), and is thus called HGAPSO. In HGAPSO, individuals in a new generation are created, not only by crossover and mutation operation as in GA, but also by PSO. The concept of elite strategy is adopted in HGAPSO, where the upper-half of the best-performing individuals in a population are regarded as elites. However, instead of being reproduced directly to the next generation, these elites are first enhanced. The group constituted by the elites is regarded as a swarm, and each elite corresponds to a particle within it. In this regard, the elites are enhanced by PSO, an operation which mimics the maturing phenomenon in nature. These enhanced elites constitute half of the population in the new generation, whereas the other half is generated by performing crossover and mutation operation on these enhanced elites. HGAPSO is applied to recurrent neural/fuzzy network design as follows. For recurrent neural network, a fully connected recurrent neural network is designed and applied to a temporal sequence production problem. For recurrent fuzzy network design, a Takagi-Sugeno-Kang-type recurrent fuzzy network is designed and applied to dynamic plant control. The performance of HGAPSO is compared to both GA and PSO in these recurrent networks design problems, demonstrating its superiority.',\n",
       " 'title': 'A hybrid of genetic algorithm and particle swarm optimization for recurrent network design'}"
      ]
     },
     "execution_count": 51,
     "metadata": {},
     "output_type": "execute_result"
    }
   ],
   "source": [
    "corpus['632589828c8b9fca2c3a59e97451fde8fa7d188d']"
   ]
  },
  {
   "cell_type": "markdown",
   "id": "14ade413-3b08-491f-a4f9-38c9ab92fde9",
   "metadata": {
    "jp-MarkdownHeadingCollapsed": true
   },
   "source": [
    "## Touche"
   ]
  },
  {
   "cell_type": "code",
   "execution_count": 55,
   "id": "e5a3574b-64b7-447c-9e8d-3cc2ed2b8af7",
   "metadata": {},
   "outputs": [
    {
     "data": {
      "application/vnd.jupyter.widget-view+json": {
       "model_id": "2ea79a80e841420e9ed08a3a761ea7be",
       "version_major": 2,
       "version_minor": 0
      },
      "text/plain": [
       "datasets/webis-touche2020.zip:   0%|          | 0.00/217M [00:00<?, ?iB/s]"
      ]
     },
     "metadata": {},
     "output_type": "display_data"
    },
    {
     "data": {
      "application/vnd.jupyter.widget-view+json": {
       "model_id": "79875c831f4e4791add1dfd29dc67487",
       "version_major": 2,
       "version_minor": 0
      },
      "text/plain": [
       "  0%|          | 0/382545 [00:00<?, ?it/s]"
      ]
     },
     "metadata": {},
     "output_type": "display_data"
    }
   ],
   "source": [
    "dataset = \"webis-touche2020\"\n",
    "url = \"https://public.ukp.informatik.tu-darmstadt.de/thakur/BEIR/datasets/{}.zip\".format(dataset)\n",
    "data_path = util.download_and_unzip(url, \"datasets\")\n",
    "corpus, queries, qrels = GenericDataLoader(data_folder=data_path).load(split=\"test\")"
   ]
  },
  {
   "cell_type": "code",
   "execution_count": 56,
   "id": "0d8f9d35-a2f3-4959-a1bf-d67be06c5ee5",
   "metadata": {},
   "outputs": [
    {
     "name": "stdout",
     "output_type": "stream",
     "text": [
      "382545\n",
      "49\n",
      "49\n"
     ]
    }
   ],
   "source": [
    "print(len(corpus))\n",
    "print(len(queries))\n",
    "print(len(qrels))"
   ]
  },
  {
   "cell_type": "code",
   "execution_count": 60,
   "id": "a4bc6ff1-5b74-4b80-91a8-f125333547e6",
   "metadata": {},
   "outputs": [
    {
     "data": {
      "text/plain": [
       "'Should insider trading be allowed?'"
      ]
     },
     "execution_count": 60,
     "metadata": {},
     "output_type": "execute_result"
    }
   ],
   "source": [
    "queries['3']"
   ]
  },
  {
   "cell_type": "code",
   "execution_count": 61,
   "id": "63a2cce4-3246-408f-9a3d-8ed587d096d7",
   "metadata": {},
   "outputs": [
    {
     "data": {
      "text/plain": [
       "{'41e8d87f-2019-04-17T11:47:37Z-00035-000': 0,\n",
       " '3b255dde-2019-04-19T12:44:21Z-00003-000': 0,\n",
       " '3b255dde-2019-04-19T12:44:21Z-00005-000': 0,\n",
       " '34a77a0a-2019-04-17T11:47:33Z-00016-000': 0,\n",
       " '68e62a4e-2019-04-18T13:14:27Z-00005-000': 0,\n",
       " '42b2be2d-2019-04-18T18:21:23Z-00003-000': 0,\n",
       " '9c855f56-2019-04-18T13:11:47Z-00002-000': 0,\n",
       " '920c32e3-2019-04-18T13:42:05Z-00002-000': 0,\n",
       " '89802f9e-2019-04-18T16:26:02Z-00005-000': 0,\n",
       " '88fca69b-2019-04-18T16:16:37Z-00001-000': 0,\n",
       " '82973dd4-2019-04-18T18:46:16Z-00004-000': 2,\n",
       " '82973dd4-2019-04-18T18:46:16Z-00001-000': 2,\n",
       " '82973dd4-2019-04-18T18:46:16Z-00003-000': 2,\n",
       " 'ff9d7dd1-2019-04-18T17:27:12Z-00002-000': 0,\n",
       " '82973dd4-2019-04-18T18:46:16Z-00002-000': 2,\n",
       " '758c64cb-2019-04-18T16:21:16Z-00000-000': 0,\n",
       " '758c64cb-2019-04-18T16:21:16Z-00004-000': 0,\n",
       " '6c1e3b72-2019-04-18T16:56:13Z-00003-000': 0,\n",
       " '5e154437-2019-04-18T18:57:34Z-00004-000': 0,\n",
       " '5023cb9c-2019-04-15T20:24:36Z-00024-000': 0,\n",
       " '4c68354c-2019-04-18T13:19:39Z-00000-000': 0,\n",
       " '4852b088-2019-04-18T15:44:20Z-00005-000': 0,\n",
       " '758c64cb-2019-04-18T16:21:16Z-00001-000': 0,\n",
       " '34a77a0a-2019-04-17T11:47:33Z-00026-000': 0,\n",
       " '34a77a0a-2019-04-17T11:47:33Z-00068-000': 0,\n",
       " '2473cc48-2019-04-18T15:40:21Z-00001-000': 0,\n",
       " '34a77a0a-2019-04-17T11:47:33Z-00000-000': 0,\n",
       " 'f0bf014b-2019-04-15T20:23:05Z-00029-000': 1,\n",
       " 'ea0427e-2019-04-18T19:28:33Z-00000-000': 0,\n",
       " 'ea0427e-2019-04-18T19:28:33Z-00008-000': 0,\n",
       " 'ea0427e-2019-04-18T19:28:33Z-00006-000': 0,\n",
       " 'db035a1f-2019-04-19T12:45:53Z-00016-000': 0,\n",
       " 'd551a373-2019-04-15T20:24:21Z-00009-000': 0,\n",
       " 'cf2ed51-2019-04-18T17:32:56Z-00005-000': 1,\n",
       " 'c40de107-2019-04-18T12:23:18Z-00002-000': 0,\n",
       " 'c40de0c9-2019-04-18T15:41:52Z-00007-000': 0,\n",
       " 'f68733ed-2019-04-18T15:40:22Z-00005-000': 0,\n",
       " 'b7a04059-2019-04-18T18:01:45Z-00005-000': 0,\n",
       " 'bbd58885-2019-04-18T13:27:03Z-00004-000': 0,\n",
       " '2127b44a-2019-04-18T14:02:51Z-00005-000': 0,\n",
       " '1f37e667-2019-04-18T17:51:54Z-00000-000': 0,\n",
       " '1f37e667-2019-04-18T17:51:54Z-00001-000': 0,\n",
       " 'a1db94b6-2019-04-18T18:22:29Z-00002-000': 0,\n",
       " '1fba06e8-2019-04-18T18:19:54Z-00003-000': 0,\n",
       " 'b004ca79-2019-04-17T11:47:36Z-00003-000': 0,\n",
       " 'b14f10e5-2019-04-19T12:47:23Z-00045-000': 0,\n",
       " 'b58ff37e-2019-04-17T11:47:36Z-00018-000': 0}"
      ]
     },
     "execution_count": 61,
     "metadata": {},
     "output_type": "execute_result"
    }
   ],
   "source": [
    "qrels['3']"
   ]
  },
  {
   "cell_type": "code",
   "execution_count": null,
   "id": "ab8ae826-5e8a-4021-8ddb-7843c151dd76",
   "metadata": {},
   "outputs": [],
   "source": []
  }
 ],
 "metadata": {
  "kernelspec": {
   "display_name": "Python 3 (ipykernel)",
   "language": "python",
   "name": "python3"
  },
  "language_info": {
   "codemirror_mode": {
    "name": "ipython",
    "version": 3
   },
   "file_extension": ".py",
   "mimetype": "text/x-python",
   "name": "python",
   "nbconvert_exporter": "python",
   "pygments_lexer": "ipython3",
   "version": "3.10.14"
  }
 },
 "nbformat": 4,
 "nbformat_minor": 5
}
