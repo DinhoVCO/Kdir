{
 "cells": [
  {
   "cell_type": "markdown",
   "id": "af5ae89d-e8d6-4cf7-bdbb-39b8073eb7d8",
   "metadata": {
    "jp-MarkdownHeadingCollapsed": true
   },
   "source": [
    "## NFCorpus"
   ]
  },
  {
   "cell_type": "code",
   "execution_count": 1,
   "id": "50329453-0b2d-4c98-8aa4-40c31e83fdf5",
   "metadata": {},
   "outputs": [
    {
     "name": "stderr",
     "output_type": "stream",
     "text": [
      "/local1/ronaldinho/enviroments/env_kdir/lib/python3.10/site-packages/beir/util.py:11: TqdmExperimentalWarning: Using `tqdm.autonotebook.tqdm` in notebook mode. Use `tqdm.tqdm` instead to force console mode (e.g. in jupyter console)\n",
      "  from tqdm.autonotebook import tqdm\n"
     ]
    }
   ],
   "source": [
    "from kdir_src.fire.Fire import Fire\n",
    "from kdir_src.fire.promptor_fire import Promptor_fire\n",
    "from kdir_src.generators.mistral_ai import MistralGenerator\n",
    "from kdir_src.models.all_models import load_models"
   ]
  },
  {
   "cell_type": "code",
   "execution_count": 2,
   "id": "7f900227-59fd-4b01-bbad-9df0322e381b",
   "metadata": {
    "scrolled": true
   },
   "outputs": [
    {
     "name": "stdout",
     "output_type": "stream",
     "text": [
      "Loading contriever...\n",
      "Loading contriever FT...\n",
      "Loading question dpr...\n"
     ]
    },
    {
     "name": "stderr",
     "output_type": "stream",
     "text": [
      "Some weights of the model checkpoint at facebook/dpr-question_encoder-single-nq-base were not used when initializing DPRQuestionEncoder: ['question_encoder.bert_model.pooler.dense.bias', 'question_encoder.bert_model.pooler.dense.weight']\n",
      "- This IS expected if you are initializing DPRQuestionEncoder from the checkpoint of a model trained on another task or with another architecture (e.g. initializing a BertForSequenceClassification model from a BertForPreTraining model).\n",
      "- This IS NOT expected if you are initializing DPRQuestionEncoder from the checkpoint of a model that you expect to be exactly identical (initializing a BertForSequenceClassification model from a BertForSequenceClassification model).\n"
     ]
    },
    {
     "name": "stdout",
     "output_type": "stream",
     "text": [
      "Loading context dpr...\n"
     ]
    },
    {
     "name": "stderr",
     "output_type": "stream",
     "text": [
      "The tokenizer class you load from this checkpoint is not the same type as the class this function is called from. It may result in unexpected tokenization. \n",
      "The tokenizer class you load from this checkpoint is 'DPRQuestionEncoderTokenizer'. \n",
      "The class this function is called from is 'DPRContextEncoderTokenizer'.\n",
      "Some weights of the model checkpoint at facebook/dpr-ctx_encoder-single-nq-base were not used when initializing DPRContextEncoder: ['ctx_encoder.bert_model.pooler.dense.bias', 'ctx_encoder.bert_model.pooler.dense.weight']\n",
      "- This IS expected if you are initializing DPRContextEncoder from the checkpoint of a model trained on another task or with another architecture (e.g. initializing a BertForSequenceClassification model from a BertForPreTraining model).\n",
      "- This IS NOT expected if you are initializing DPRContextEncoder from the checkpoint of a model that you expect to be exactly identical (initializing a BertForSequenceClassification model from a BertForSequenceClassification model).\n"
     ]
    },
    {
     "name": "stdout",
     "output_type": "stream",
     "text": [
      "Loading bge large...\n",
      "Loading gte large...\n",
      "Loading bm25...\n"
     ]
    }
   ],
   "source": [
    "dataset_name='nfcorpus'\n",
    "promptor = Promptor_fire(dataset_name)\n",
    "encoder_models = load_models()\n",
    "KEY = 'jTrxtC1mqMP1Lj9aMg8fvexSh2xDgZC4'\n",
    "generator = MistralGenerator('mistral-small-2503', KEY, 1, 512, 0.0)\n",
    "fire_rag = Fire(dataset_name, promptor, generator, encoder_models)"
   ]
  },
  {
   "cell_type": "markdown",
   "id": "392d8728-b6d3-4b90-a593-d2686b671555",
   "metadata": {},
   "source": [
    "### Simple rerank"
   ]
  },
  {
   "cell_type": "code",
   "execution_count": 3,
   "id": "54ee9c98-b90a-4aae-adfa-73ac65cba7f1",
   "metadata": {
    "scrolled": true
   },
   "outputs": [
    {
     "name": "stderr",
     "output_type": "stream",
     "text": [
      "Procesando contriever...: 100%|████████████████████████████████████████████████████████| 3/3 [00:00<00:00,  6.04batch/s]\n",
      "Procesando contriever...: 100%|████████████████████████████████████████████████████████| 3/3 [00:02<00:00,  1.01batch/s]\n",
      "Procesando contriever...: 100%|████████████████████████████████████████████████████████| 3/3 [00:00<00:00,  5.91batch/s]\n",
      "Procesando contriever...: 100%|████████████████████████████████████████████████████████| 3/3 [00:02<00:00,  1.35batch/s]\n",
      "obteniendo resultados contriever: 323it [00:01, 233.80it/s]\n",
      "obteniendo resultados contriever: 323it [00:01, 244.57it/s]\n",
      "obteniendo resultados contriever: 323it [00:01, 248.94it/s]\n",
      "obteniendo resultados contriever: 323it [00:01, 249.64it/s]\n",
      "Procesando contriever...: 100%|████████████████████████████████████████████████████████| 3/3 [00:00<00:00, 24.01batch/s]\n",
      "Procesando contriever...: 100%|████████████████████████████████████████████████████████| 3/3 [00:03<00:00,  1.00s/batch]\n",
      "Procesando contriever...: 100%|████████████████████████████████████████████████████████| 3/3 [00:00<00:00,  6.18batch/s]\n",
      "Procesando contriever...: 100%|████████████████████████████████████████████████████████| 3/3 [00:02<00:00,  1.18batch/s]\n",
      "obteniendo resultados contriever_ft: 323it [00:01, 250.97it/s]\n",
      "obteniendo resultados contriever_ft: 323it [00:01, 253.28it/s]\n",
      "obteniendo resultados contriever_ft: 323it [00:01, 250.11it/s]\n",
      "obteniendo resultados contriever_ft: 323it [00:01, 244.65it/s]\n",
      "Procesando dpr...: 100%|███████████████████████████████████████████████████████████████| 3/3 [00:00<00:00, 18.48batch/s]\n",
      "Procesando dpr...: 100%|███████████████████████████████████████████████████████████████| 3/3 [00:04<00:00,  1.39s/batch]\n",
      "Procesando dpr...: 100%|███████████████████████████████████████████████████████████████| 3/3 [00:00<00:00,  4.04batch/s]\n",
      "Procesando dpr...: 100%|███████████████████████████████████████████████████████████████| 3/3 [00:02<00:00,  1.06batch/s]\n",
      "obteniendo resultados dpr: 323it [00:01, 247.63it/s]\n",
      "obteniendo resultados dpr: 323it [00:01, 244.30it/s]\n",
      "obteniendo resultados dpr: 323it [00:01, 254.52it/s]\n",
      "obteniendo resultados dpr: 323it [00:01, 262.81it/s]\n"
     ]
    },
    {
     "data": {
      "application/vnd.jupyter.widget-view+json": {
       "model_id": "a874ade636b449ab9c3425ab0a6d5734",
       "version_major": 2,
       "version_minor": 0
      },
      "text/plain": [
       "Batches:   0%|          | 0/3 [00:00<?, ?it/s]"
      ]
     },
     "metadata": {},
     "output_type": "display_data"
    },
    {
     "data": {
      "application/vnd.jupyter.widget-view+json": {
       "model_id": "6b2dfc98a02e4d2b997db1d8d31c5434",
       "version_major": 2,
       "version_minor": 0
      },
      "text/plain": [
       "Batches:   0%|          | 0/3 [00:00<?, ?it/s]"
      ]
     },
     "metadata": {},
     "output_type": "display_data"
    },
    {
     "data": {
      "application/vnd.jupyter.widget-view+json": {
       "model_id": "d867c0efc33b40f1bff75457ab23aea3",
       "version_major": 2,
       "version_minor": 0
      },
      "text/plain": [
       "Batches:   0%|          | 0/3 [00:00<?, ?it/s]"
      ]
     },
     "metadata": {},
     "output_type": "display_data"
    },
    {
     "data": {
      "application/vnd.jupyter.widget-view+json": {
       "model_id": "81e73120600649249bcbc0344e04dcf8",
       "version_major": 2,
       "version_minor": 0
      },
      "text/plain": [
       "Batches:   0%|          | 0/3 [00:00<?, ?it/s]"
      ]
     },
     "metadata": {},
     "output_type": "display_data"
    },
    {
     "name": "stderr",
     "output_type": "stream",
     "text": [
      "obteniendo resultados bge_large: 323it [00:01, 202.34it/s]\n",
      "obteniendo resultados bge_large: 323it [00:01, 217.35it/s]\n",
      "obteniendo resultados bge_large: 323it [00:01, 220.90it/s]\n",
      "obteniendo resultados bge_large: 323it [00:01, 211.30it/s]\n"
     ]
    },
    {
     "data": {
      "application/vnd.jupyter.widget-view+json": {
       "model_id": "cabd3d13c5544cc7884c8c1c53245798",
       "version_major": 2,
       "version_minor": 0
      },
      "text/plain": [
       "Batches:   0%|          | 0/3 [00:00<?, ?it/s]"
      ]
     },
     "metadata": {},
     "output_type": "display_data"
    },
    {
     "data": {
      "application/vnd.jupyter.widget-view+json": {
       "model_id": "dd65ef6d00f445ed82211e00d3f41d90",
       "version_major": 2,
       "version_minor": 0
      },
      "text/plain": [
       "Batches:   0%|          | 0/3 [00:00<?, ?it/s]"
      ]
     },
     "metadata": {},
     "output_type": "display_data"
    },
    {
     "data": {
      "application/vnd.jupyter.widget-view+json": {
       "model_id": "ba194002d0c848cbbc739941fb71977d",
       "version_major": 2,
       "version_minor": 0
      },
      "text/plain": [
       "Batches:   0%|          | 0/3 [00:00<?, ?it/s]"
      ]
     },
     "metadata": {},
     "output_type": "display_data"
    },
    {
     "data": {
      "application/vnd.jupyter.widget-view+json": {
       "model_id": "0ddff699ef6b47fd906d5f3db57c0e58",
       "version_major": 2,
       "version_minor": 0
      },
      "text/plain": [
       "Batches:   0%|          | 0/3 [00:00<?, ?it/s]"
      ]
     },
     "metadata": {},
     "output_type": "display_data"
    },
    {
     "name": "stderr",
     "output_type": "stream",
     "text": [
      "obteniendo resultados gte_large: 323it [00:01, 216.14it/s]\n",
      "obteniendo resultados gte_large: 323it [00:01, 207.72it/s]\n",
      "obteniendo resultados gte_large: 323it [00:01, 214.87it/s]\n",
      "obteniendo resultados gte_large: 323it [00:01, 214.53it/s]\n"
     ]
    },
    {
     "name": "stdout",
     "output_type": "stream",
     "text": [
      "Procesando BM25 embeddings\n",
      "Procesando BM25 embeddings\n",
      "Procesando BM25 embeddings\n",
      "Procesando BM25 embeddings\n"
     ]
    },
    {
     "name": "stderr",
     "output_type": "stream",
     "text": [
      "obteniendo resultados sparse_bm25: 323it [00:00, 498.72it/s]\n",
      "obteniendo resultados sparse_bm25: 323it [00:00, 392.68it/s]\n",
      "obteniendo resultados sparse_bm25: 323it [00:00, 384.62it/s]\n",
      "obteniendo resultados sparse_bm25: 323it [00:00, 425.52it/s]\n"
     ]
    }
   ],
   "source": [
    "fire_rag.get_results_from_jsonl_fire('../doc_gen/fire/doc5/',f'../results/fire/all_simple/{dataset_name}/', 32,10,10)"
   ]
  },
  {
   "cell_type": "code",
   "execution_count": 4,
   "id": "da4ca5ff-7a42-4425-96b6-bedaef32e042",
   "metadata": {},
   "outputs": [
    {
     "name": "stdout",
     "output_type": "stream",
     "text": [
      "nfcorpus\n"
     ]
    },
    {
     "data": {
      "application/vnd.jupyter.widget-view+json": {
       "model_id": "1d9a0ea837f640f7ba63661538102d91",
       "version_major": 2,
       "version_minor": 0
      },
      "text/plain": [
       "  0%|          | 0/3633 [00:00<?, ?it/s]"
      ]
     },
     "metadata": {},
     "output_type": "display_data"
    },
    {
     "name": "stdout",
     "output_type": "stream",
     "text": [
      "Calculando metricas de results_contriever_ft.json\n",
      "  Métricas guardadas en: ../metrics/all_simple/nfcorpus/results_contriever_ft.json\n",
      "Calculando metricas de results_bge_large.json\n",
      "  Métricas guardadas en: ../metrics/all_simple/nfcorpus/results_bge_large.json\n",
      "Calculando metricas de results_dpr.json\n",
      "  Métricas guardadas en: ../metrics/all_simple/nfcorpus/results_dpr.json\n",
      "Calculando metricas de results_contriever.json\n",
      "  Métricas guardadas en: ../metrics/all_simple/nfcorpus/results_contriever.json\n",
      "Calculando metricas de results_gte_large.json\n",
      "  Métricas guardadas en: ../metrics/all_simple/nfcorpus/results_gte_large.json\n",
      "Calculando metricas de results_sparse_bm25.json\n",
      "  Métricas guardadas en: ../metrics/all_simple/nfcorpus/results_sparse_bm25.json\n"
     ]
    }
   ],
   "source": [
    "from kdir_src.utils.evaluation import evaluate_all_results\n",
    "evaluate_all_results(f'../results/fire/all_simple/{dataset_name}')"
   ]
  },
  {
   "cell_type": "markdown",
   "id": "3ae5ba73-bd97-456b-85c8-dbea4b114932",
   "metadata": {},
   "source": [
    "### only docs"
   ]
  },
  {
   "cell_type": "code",
   "execution_count": 5,
   "id": "abfbf5a0-310f-4064-a764-c351892f10e3",
   "metadata": {},
   "outputs": [
    {
     "name": "stderr",
     "output_type": "stream",
     "text": [
      "Procesando contriever...: 100%|████████████████████████████████████████████████████████| 3/3 [00:03<00:00,  1.00s/batch]\n",
      "obteniendo resultados contriever: 323it [00:01, 265.73it/s]\n",
      "Procesando contriever...: 100%|████████████████████████████████████████████████████████| 3/3 [00:03<00:00,  1.02s/batch]\n",
      "obteniendo resultados contriever_ft: 323it [00:01, 249.50it/s]\n",
      "Procesando dpr...: 100%|███████████████████████████████████████████████████████████████| 3/3 [00:04<00:00,  1.38s/batch]\n",
      "obteniendo resultados dpr: 323it [00:01, 253.85it/s]\n"
     ]
    },
    {
     "data": {
      "application/vnd.jupyter.widget-view+json": {
       "model_id": "b2fec38062834292b0c7c745662a335a",
       "version_major": 2,
       "version_minor": 0
      },
      "text/plain": [
       "Batches:   0%|          | 0/3 [00:00<?, ?it/s]"
      ]
     },
     "metadata": {},
     "output_type": "display_data"
    },
    {
     "name": "stderr",
     "output_type": "stream",
     "text": [
      "obteniendo resultados bge_large: 323it [00:01, 209.21it/s]\n"
     ]
    },
    {
     "data": {
      "application/vnd.jupyter.widget-view+json": {
       "model_id": "b82b99ea18d84bb6856f03babb32e178",
       "version_major": 2,
       "version_minor": 0
      },
      "text/plain": [
       "Batches:   0%|          | 0/3 [00:00<?, ?it/s]"
      ]
     },
     "metadata": {},
     "output_type": "display_data"
    },
    {
     "name": "stderr",
     "output_type": "stream",
     "text": [
      "obteniendo resultados gte_large: 323it [00:01, 221.77it/s]\n"
     ]
    },
    {
     "name": "stdout",
     "output_type": "stream",
     "text": [
      "Procesando BM25 embeddings\n"
     ]
    },
    {
     "name": "stderr",
     "output_type": "stream",
     "text": [
      "obteniendo resultados sparse_bm25: 323it [00:00, 371.21it/s]\n"
     ]
    }
   ],
   "source": [
    "pseudo = 'generated_document' # \"generated_document\"    \"generated_query\"   \"generated_answer\"\n",
    "fire_rag.get_results_only_one_from_jsonl_fire(pseudo, '../doc_gen/fire/doc5/',f'../results/fire/fire_{pseudo}/{dataset_name}/', 32,10,10)"
   ]
  },
  {
   "cell_type": "code",
   "execution_count": 6,
   "id": "01c0549f-232d-4593-be35-398cce7249f0",
   "metadata": {},
   "outputs": [
    {
     "name": "stdout",
     "output_type": "stream",
     "text": [
      "nfcorpus\n"
     ]
    },
    {
     "data": {
      "application/vnd.jupyter.widget-view+json": {
       "model_id": "8aafc60ded334eb38ebe4dcefd00f25f",
       "version_major": 2,
       "version_minor": 0
      },
      "text/plain": [
       "  0%|          | 0/3633 [00:00<?, ?it/s]"
      ]
     },
     "metadata": {},
     "output_type": "display_data"
    },
    {
     "name": "stdout",
     "output_type": "stream",
     "text": [
      "Calculando metricas de results_contriever_ft.json\n",
      "  Métricas guardadas en: ../metrics/fire_generated_document/nfcorpus/results_contriever_ft.json\n",
      "Calculando metricas de results_bge_large.json\n",
      "  Métricas guardadas en: ../metrics/fire_generated_document/nfcorpus/results_bge_large.json\n",
      "Calculando metricas de results_dpr.json\n",
      "  Métricas guardadas en: ../metrics/fire_generated_document/nfcorpus/results_dpr.json\n",
      "Calculando metricas de results_contriever.json\n",
      "  Métricas guardadas en: ../metrics/fire_generated_document/nfcorpus/results_contriever.json\n",
      "Calculando metricas de results_gte_large.json\n",
      "  Métricas guardadas en: ../metrics/fire_generated_document/nfcorpus/results_gte_large.json\n",
      "Calculando metricas de results_sparse_bm25.json\n",
      "  Métricas guardadas en: ../metrics/fire_generated_document/nfcorpus/results_sparse_bm25.json\n"
     ]
    }
   ],
   "source": [
    "from kdir_src.utils.evaluation import evaluate_all_results\n",
    "evaluate_all_results(f'../results/fire/fire_{pseudo}/{dataset_name}')"
   ]
  },
  {
   "cell_type": "markdown",
   "id": "2a99d580-2fc5-41bb-b2cf-80c29d11ba07",
   "metadata": {},
   "source": [
    "### Only query "
   ]
  },
  {
   "cell_type": "code",
   "execution_count": 7,
   "id": "2c66089b-09f3-4350-a1e7-a4e8b7384e05",
   "metadata": {},
   "outputs": [
    {
     "name": "stderr",
     "output_type": "stream",
     "text": [
      "Procesando contriever...: 100%|████████████████████████████████████████████████████████| 3/3 [00:00<00:00,  5.38batch/s]\n",
      "obteniendo resultados contriever: 323it [00:01, 262.76it/s]\n",
      "Procesando contriever...: 100%|████████████████████████████████████████████████████████| 3/3 [00:00<00:00,  6.16batch/s]\n",
      "obteniendo resultados contriever_ft: 323it [00:01, 247.17it/s]\n",
      "Procesando dpr...: 100%|███████████████████████████████████████████████████████████████| 3/3 [00:00<00:00,  3.81batch/s]\n",
      "obteniendo resultados dpr: 323it [00:01, 259.59it/s]\n"
     ]
    },
    {
     "data": {
      "application/vnd.jupyter.widget-view+json": {
       "model_id": "95a7a2d7cb7b49d3a891a844c6859075",
       "version_major": 2,
       "version_minor": 0
      },
      "text/plain": [
       "Batches:   0%|          | 0/3 [00:00<?, ?it/s]"
      ]
     },
     "metadata": {},
     "output_type": "display_data"
    },
    {
     "name": "stderr",
     "output_type": "stream",
     "text": [
      "obteniendo resultados bge_large: 323it [00:01, 216.64it/s]\n"
     ]
    },
    {
     "data": {
      "application/vnd.jupyter.widget-view+json": {
       "model_id": "5627a42283cd494cbda2e08858b4f08d",
       "version_major": 2,
       "version_minor": 0
      },
      "text/plain": [
       "Batches:   0%|          | 0/3 [00:00<?, ?it/s]"
      ]
     },
     "metadata": {},
     "output_type": "display_data"
    },
    {
     "name": "stderr",
     "output_type": "stream",
     "text": [
      "obteniendo resultados gte_large: 323it [00:01, 198.20it/s]\n"
     ]
    },
    {
     "name": "stdout",
     "output_type": "stream",
     "text": [
      "Procesando BM25 embeddings\n"
     ]
    },
    {
     "name": "stderr",
     "output_type": "stream",
     "text": [
      "obteniendo resultados sparse_bm25: 323it [00:00, 447.68it/s]\n"
     ]
    }
   ],
   "source": [
    "pseudo = 'generated_query' # \"generated_document\"    \"generated_query\"   \"generated_answer\"\n",
    "fire_rag.get_results_only_one_from_jsonl_fire(pseudo, '../doc_gen/fire/doc5/',f'../results/fire/fire_{pseudo}/{dataset_name}/', 32,10,10)"
   ]
  },
  {
   "cell_type": "code",
   "execution_count": 8,
   "id": "7a66da42-7b9c-4389-b974-2aa2b16914d9",
   "metadata": {},
   "outputs": [
    {
     "name": "stdout",
     "output_type": "stream",
     "text": [
      "nfcorpus\n"
     ]
    },
    {
     "data": {
      "application/vnd.jupyter.widget-view+json": {
       "model_id": "5c85a3a1ba0f4699b46eaeec1dc81e3e",
       "version_major": 2,
       "version_minor": 0
      },
      "text/plain": [
       "  0%|          | 0/3633 [00:00<?, ?it/s]"
      ]
     },
     "metadata": {},
     "output_type": "display_data"
    },
    {
     "name": "stdout",
     "output_type": "stream",
     "text": [
      "Calculando metricas de results_contriever_ft.json\n",
      "  Métricas guardadas en: ../metrics/fire_generated_query/nfcorpus/results_contriever_ft.json\n",
      "Calculando metricas de results_bge_large.json\n",
      "  Métricas guardadas en: ../metrics/fire_generated_query/nfcorpus/results_bge_large.json\n",
      "Calculando metricas de results_dpr.json\n",
      "  Métricas guardadas en: ../metrics/fire_generated_query/nfcorpus/results_dpr.json\n",
      "Calculando metricas de results_contriever.json\n",
      "  Métricas guardadas en: ../metrics/fire_generated_query/nfcorpus/results_contriever.json\n",
      "Calculando metricas de results_gte_large.json\n",
      "  Métricas guardadas en: ../metrics/fire_generated_query/nfcorpus/results_gte_large.json\n",
      "Calculando metricas de results_sparse_bm25.json\n",
      "  Métricas guardadas en: ../metrics/fire_generated_query/nfcorpus/results_sparse_bm25.json\n"
     ]
    }
   ],
   "source": [
    "from kdir_src.utils.evaluation import evaluate_all_results\n",
    "evaluate_all_results(f'../results/fire/fire_{pseudo}/{dataset_name}')"
   ]
  },
  {
   "cell_type": "markdown",
   "id": "a8953b56-1689-48a3-bfcb-ed2d5d0ceb87",
   "metadata": {},
   "source": [
    "### Only Answer "
   ]
  },
  {
   "cell_type": "code",
   "execution_count": 9,
   "id": "98527c7e-b9ba-4189-97ae-9a5ddc3b2ef6",
   "metadata": {},
   "outputs": [
    {
     "name": "stderr",
     "output_type": "stream",
     "text": [
      "Procesando contriever...: 100%|████████████████████████████████████████████████████████| 3/3 [00:02<00:00,  1.32batch/s]\n",
      "obteniendo resultados contriever: 323it [00:01, 237.90it/s]\n",
      "Procesando contriever...: 100%|████████████████████████████████████████████████████████| 3/3 [00:02<00:00,  1.20batch/s]\n",
      "obteniendo resultados contriever_ft: 323it [00:01, 245.60it/s]\n",
      "Procesando dpr...: 100%|███████████████████████████████████████████████████████████████| 3/3 [00:02<00:00,  1.08batch/s]\n",
      "obteniendo resultados dpr: 323it [00:01, 249.22it/s]\n"
     ]
    },
    {
     "data": {
      "application/vnd.jupyter.widget-view+json": {
       "model_id": "caacca6a756f4831a90bba9ce81e1306",
       "version_major": 2,
       "version_minor": 0
      },
      "text/plain": [
       "Batches:   0%|          | 0/3 [00:00<?, ?it/s]"
      ]
     },
     "metadata": {},
     "output_type": "display_data"
    },
    {
     "name": "stderr",
     "output_type": "stream",
     "text": [
      "obteniendo resultados bge_large: 323it [00:01, 211.87it/s]\n"
     ]
    },
    {
     "data": {
      "application/vnd.jupyter.widget-view+json": {
       "model_id": "47339364ecf74cd9bc62ca8c512556ac",
       "version_major": 2,
       "version_minor": 0
      },
      "text/plain": [
       "Batches:   0%|          | 0/3 [00:00<?, ?it/s]"
      ]
     },
     "metadata": {},
     "output_type": "display_data"
    },
    {
     "name": "stderr",
     "output_type": "stream",
     "text": [
      "obteniendo resultados gte_large: 323it [00:01, 210.65it/s]\n"
     ]
    },
    {
     "name": "stdout",
     "output_type": "stream",
     "text": [
      "Procesando BM25 embeddings\n"
     ]
    },
    {
     "name": "stderr",
     "output_type": "stream",
     "text": [
      "obteniendo resultados sparse_bm25: 323it [00:00, 440.58it/s]\n"
     ]
    }
   ],
   "source": [
    "pseudo = 'generated_answer' # \"generated_document\"    \"generated_query\"   \"generated_answer\"\n",
    "fire_rag.get_results_only_one_from_jsonl_fire(pseudo, '../doc_gen/fire/doc5/',f'../results/fire/fire_{pseudo}/{dataset_name}/', 32,10,10)"
   ]
  },
  {
   "cell_type": "code",
   "execution_count": 10,
   "id": "54e1c69c-64a6-4fe2-9c65-073b1111d030",
   "metadata": {},
   "outputs": [
    {
     "name": "stdout",
     "output_type": "stream",
     "text": [
      "nfcorpus\n"
     ]
    },
    {
     "data": {
      "application/vnd.jupyter.widget-view+json": {
       "model_id": "d0b60992b09c433db6f47d6e3c971642",
       "version_major": 2,
       "version_minor": 0
      },
      "text/plain": [
       "  0%|          | 0/3633 [00:00<?, ?it/s]"
      ]
     },
     "metadata": {},
     "output_type": "display_data"
    },
    {
     "name": "stdout",
     "output_type": "stream",
     "text": [
      "Calculando metricas de results_contriever_ft.json\n",
      "  Métricas guardadas en: ../metrics/fire_generated_answer/nfcorpus/results_contriever_ft.json\n",
      "Calculando metricas de results_bge_large.json\n",
      "  Métricas guardadas en: ../metrics/fire_generated_answer/nfcorpus/results_bge_large.json\n",
      "Calculando metricas de results_dpr.json\n",
      "  Métricas guardadas en: ../metrics/fire_generated_answer/nfcorpus/results_dpr.json\n",
      "Calculando metricas de results_contriever.json\n",
      "  Métricas guardadas en: ../metrics/fire_generated_answer/nfcorpus/results_contriever.json\n",
      "Calculando metricas de results_gte_large.json\n",
      "  Métricas guardadas en: ../metrics/fire_generated_answer/nfcorpus/results_gte_large.json\n",
      "Calculando metricas de results_sparse_bm25.json\n",
      "  Métricas guardadas en: ../metrics/fire_generated_answer/nfcorpus/results_sparse_bm25.json\n"
     ]
    }
   ],
   "source": [
    "from kdir_src.utils.evaluation import evaluate_all_results\n",
    "evaluate_all_results(f'../results/fire/fire_{pseudo}/{dataset_name}')"
   ]
  },
  {
   "cell_type": "markdown",
   "id": "a25898f5-9d82-41e8-adeb-5567acc2c613",
   "metadata": {
    "jp-MarkdownHeadingCollapsed": true
   },
   "source": [
    "## Fiqa"
   ]
  },
  {
   "cell_type": "code",
   "execution_count": 1,
   "id": "ed37fef5-79d8-47fb-b6f8-6c6484fc074b",
   "metadata": {},
   "outputs": [
    {
     "name": "stderr",
     "output_type": "stream",
     "text": [
      "/local1/ronaldinho/enviroments/env_kdir/lib/python3.10/site-packages/beir/util.py:11: TqdmExperimentalWarning: Using `tqdm.autonotebook.tqdm` in notebook mode. Use `tqdm.tqdm` instead to force console mode (e.g. in jupyter console)\n",
      "  from tqdm.autonotebook import tqdm\n"
     ]
    }
   ],
   "source": [
    "from kdir_src.fire.Fire import Fire\n",
    "from kdir_src.fire.promptor_fire import Promptor_fire\n",
    "from kdir_src.generators.mistral_ai import MistralGenerator\n",
    "from kdir_src.models.all_models import load_models"
   ]
  },
  {
   "cell_type": "code",
   "execution_count": 2,
   "id": "4b38d59b-918f-4927-939f-69b4684e08ca",
   "metadata": {},
   "outputs": [
    {
     "name": "stdout",
     "output_type": "stream",
     "text": [
      "Loading contriever...\n",
      "Loading contriever FT...\n",
      "Loading question dpr...\n"
     ]
    },
    {
     "name": "stderr",
     "output_type": "stream",
     "text": [
      "Some weights of the model checkpoint at facebook/dpr-question_encoder-single-nq-base were not used when initializing DPRQuestionEncoder: ['question_encoder.bert_model.pooler.dense.bias', 'question_encoder.bert_model.pooler.dense.weight']\n",
      "- This IS expected if you are initializing DPRQuestionEncoder from the checkpoint of a model trained on another task or with another architecture (e.g. initializing a BertForSequenceClassification model from a BertForPreTraining model).\n",
      "- This IS NOT expected if you are initializing DPRQuestionEncoder from the checkpoint of a model that you expect to be exactly identical (initializing a BertForSequenceClassification model from a BertForSequenceClassification model).\n"
     ]
    },
    {
     "name": "stdout",
     "output_type": "stream",
     "text": [
      "Loading context dpr...\n"
     ]
    },
    {
     "name": "stderr",
     "output_type": "stream",
     "text": [
      "The tokenizer class you load from this checkpoint is not the same type as the class this function is called from. It may result in unexpected tokenization. \n",
      "The tokenizer class you load from this checkpoint is 'DPRQuestionEncoderTokenizer'. \n",
      "The class this function is called from is 'DPRContextEncoderTokenizer'.\n",
      "Some weights of the model checkpoint at facebook/dpr-ctx_encoder-single-nq-base were not used when initializing DPRContextEncoder: ['ctx_encoder.bert_model.pooler.dense.bias', 'ctx_encoder.bert_model.pooler.dense.weight']\n",
      "- This IS expected if you are initializing DPRContextEncoder from the checkpoint of a model trained on another task or with another architecture (e.g. initializing a BertForSequenceClassification model from a BertForPreTraining model).\n",
      "- This IS NOT expected if you are initializing DPRContextEncoder from the checkpoint of a model that you expect to be exactly identical (initializing a BertForSequenceClassification model from a BertForSequenceClassification model).\n"
     ]
    },
    {
     "name": "stdout",
     "output_type": "stream",
     "text": [
      "Loading bge large...\n",
      "Loading gte large...\n",
      "Loading bm25...\n"
     ]
    }
   ],
   "source": [
    "dataset_name='fiqa'\n",
    "promptor = Promptor_fire(dataset_name)\n",
    "encoder_models = load_models()\n",
    "KEY = 'jTrxtC1mqMP1Lj9aMg8fvexSh2xDgZC4'\n",
    "generator = MistralGenerator('mistral-small-2503', KEY, 1, 512, 0.0)\n",
    "fire_rag = Fire(dataset_name, promptor, generator, encoder_models)"
   ]
  },
  {
   "cell_type": "markdown",
   "id": "a679e622-9145-465e-86c8-cb4afe050145",
   "metadata": {},
   "source": [
    "### Docs"
   ]
  },
  {
   "cell_type": "code",
   "execution_count": 3,
   "id": "ec04abc5-8a1c-44ce-a394-e03f8053d088",
   "metadata": {},
   "outputs": [
    {
     "name": "stderr",
     "output_type": "stream",
     "text": [
      "Procesando contriever...: 100%|████████████████████████████████████████████████████████| 6/6 [00:06<00:00,  1.03s/batch]\n",
      "obteniendo resultados contriever: 648it [00:04, 140.79it/s]\n",
      "Procesando contriever...: 100%|████████████████████████████████████████████████████████| 6/6 [00:06<00:00,  1.01s/batch]\n",
      "obteniendo resultados contriever_ft: 648it [00:04, 158.77it/s]\n",
      "Procesando dpr...: 100%|███████████████████████████████████████████████████████████████| 6/6 [00:08<00:00,  1.44s/batch]\n",
      "obteniendo resultados dpr: 648it [00:03, 176.00it/s]\n"
     ]
    },
    {
     "data": {
      "application/vnd.jupyter.widget-view+json": {
       "model_id": "2b84a482c6394c578f6f6253ee6e19d3",
       "version_major": 2,
       "version_minor": 0
      },
      "text/plain": [
       "Batches:   0%|          | 0/6 [00:00<?, ?it/s]"
      ]
     },
     "metadata": {},
     "output_type": "display_data"
    },
    {
     "name": "stderr",
     "output_type": "stream",
     "text": [
      "obteniendo resultados bge_large: 648it [00:04, 153.43it/s]\n"
     ]
    },
    {
     "data": {
      "application/vnd.jupyter.widget-view+json": {
       "model_id": "569e44494cdf46c29e42b0e291821676",
       "version_major": 2,
       "version_minor": 0
      },
      "text/plain": [
       "Batches:   0%|          | 0/6 [00:00<?, ?it/s]"
      ]
     },
     "metadata": {},
     "output_type": "display_data"
    },
    {
     "name": "stderr",
     "output_type": "stream",
     "text": [
      "obteniendo resultados gte_large: 648it [00:04, 151.09it/s]\n"
     ]
    },
    {
     "name": "stdout",
     "output_type": "stream",
     "text": [
      "Procesando BM25 embeddings\n"
     ]
    },
    {
     "name": "stderr",
     "output_type": "stream",
     "text": [
      "obteniendo resultados sparse_bm25: 648it [00:02, 253.26it/s]\n"
     ]
    }
   ],
   "source": [
    "pseudo = 'generated_document' # \"generated_document\"    \"generated_query\"   \"generated_answer\"\n",
    "fire_rag.get_results_only_one_from_jsonl_fire(pseudo, '../doc_gen/fire/doc5/',f'../results/fire/fire_{pseudo}/{dataset_name}/', 32,10,10)"
   ]
  },
  {
   "cell_type": "code",
   "execution_count": 4,
   "id": "f707eeb4-2c13-40c7-806e-600ee76f8ef7",
   "metadata": {},
   "outputs": [
    {
     "name": "stdout",
     "output_type": "stream",
     "text": [
      "fiqa\n"
     ]
    },
    {
     "data": {
      "application/vnd.jupyter.widget-view+json": {
       "model_id": "d7b39ef99e224f46b041d0a9c9930085",
       "version_major": 2,
       "version_minor": 0
      },
      "text/plain": [
       "  0%|          | 0/57638 [00:00<?, ?it/s]"
      ]
     },
     "metadata": {},
     "output_type": "display_data"
    },
    {
     "name": "stdout",
     "output_type": "stream",
     "text": [
      "Calculando metricas de results_contriever_ft.json\n",
      "  Métricas guardadas en: ../metrics/fire_generated_document/fiqa/results_contriever_ft.json\n",
      "Calculando metricas de results_bge_large.json\n",
      "  Métricas guardadas en: ../metrics/fire_generated_document/fiqa/results_bge_large.json\n",
      "Calculando metricas de results_dpr.json\n",
      "  Métricas guardadas en: ../metrics/fire_generated_document/fiqa/results_dpr.json\n",
      "Calculando metricas de results_contriever.json\n",
      "  Métricas guardadas en: ../metrics/fire_generated_document/fiqa/results_contriever.json\n",
      "Calculando metricas de results_gte_large.json\n",
      "  Métricas guardadas en: ../metrics/fire_generated_document/fiqa/results_gte_large.json\n",
      "Calculando metricas de results_sparse_bm25.json\n",
      "  Métricas guardadas en: ../metrics/fire_generated_document/fiqa/results_sparse_bm25.json\n"
     ]
    }
   ],
   "source": [
    "from kdir_src.utils.evaluation import evaluate_all_results\n",
    "evaluate_all_results(f'../results/fire/fire_{pseudo}/{dataset_name}')"
   ]
  },
  {
   "cell_type": "markdown",
   "id": "d7822674-c5eb-42d5-ae2e-19d1a1022230",
   "metadata": {},
   "source": [
    "### query"
   ]
  },
  {
   "cell_type": "code",
   "execution_count": 5,
   "id": "a35b70c9-6336-4f3d-b4c9-6245fc8ec96b",
   "metadata": {},
   "outputs": [
    {
     "name": "stderr",
     "output_type": "stream",
     "text": [
      "Procesando contriever...: 100%|████████████████████████████████████████████████████████| 6/6 [00:01<00:00,  4.83batch/s]\n",
      "obteniendo resultados contriever: 648it [00:04, 149.50it/s]\n",
      "Procesando contriever...: 100%|████████████████████████████████████████████████████████| 6/6 [00:01<00:00,  4.80batch/s]\n",
      "obteniendo resultados contriever_ft: 648it [00:03, 171.38it/s]\n",
      "Procesando dpr...: 100%|███████████████████████████████████████████████████████████████| 6/6 [00:01<00:00,  3.14batch/s]\n",
      "obteniendo resultados dpr: 648it [00:03, 179.45it/s]\n"
     ]
    },
    {
     "data": {
      "application/vnd.jupyter.widget-view+json": {
       "model_id": "cbe78a8108414e74a8af294f78a6d2a2",
       "version_major": 2,
       "version_minor": 0
      },
      "text/plain": [
       "Batches:   0%|          | 0/6 [00:00<?, ?it/s]"
      ]
     },
     "metadata": {},
     "output_type": "display_data"
    },
    {
     "name": "stderr",
     "output_type": "stream",
     "text": [
      "obteniendo resultados bge_large: 648it [00:04, 148.72it/s]\n"
     ]
    },
    {
     "data": {
      "application/vnd.jupyter.widget-view+json": {
       "model_id": "919aff374de245619ee89407ea03e936",
       "version_major": 2,
       "version_minor": 0
      },
      "text/plain": [
       "Batches:   0%|          | 0/6 [00:00<?, ?it/s]"
      ]
     },
     "metadata": {},
     "output_type": "display_data"
    },
    {
     "name": "stderr",
     "output_type": "stream",
     "text": [
      "obteniendo resultados gte_large: 648it [00:04, 150.20it/s]\n"
     ]
    },
    {
     "name": "stdout",
     "output_type": "stream",
     "text": [
      "Procesando BM25 embeddings\n"
     ]
    },
    {
     "name": "stderr",
     "output_type": "stream",
     "text": [
      "obteniendo resultados sparse_bm25: 648it [00:01, 368.26it/s]\n"
     ]
    }
   ],
   "source": [
    "pseudo = 'generated_query' # \"generated_document\"    \"generated_query\"   \"generated_answer\"\n",
    "fire_rag.get_results_only_one_from_jsonl_fire(pseudo, '../doc_gen/fire/doc5/',f'../results/fire/fire_{pseudo}/{dataset_name}/', 32,10,10)"
   ]
  },
  {
   "cell_type": "code",
   "execution_count": 6,
   "id": "38ecf867-0aa1-4fb1-8c7c-42ef6701b669",
   "metadata": {},
   "outputs": [
    {
     "name": "stdout",
     "output_type": "stream",
     "text": [
      "fiqa\n"
     ]
    },
    {
     "data": {
      "application/vnd.jupyter.widget-view+json": {
       "model_id": "240f20740f6244cda3bf3424e799037c",
       "version_major": 2,
       "version_minor": 0
      },
      "text/plain": [
       "  0%|          | 0/57638 [00:00<?, ?it/s]"
      ]
     },
     "metadata": {},
     "output_type": "display_data"
    },
    {
     "name": "stdout",
     "output_type": "stream",
     "text": [
      "Calculando metricas de results_contriever_ft.json\n",
      "  Métricas guardadas en: ../metrics/fire_generated_query/fiqa/results_contriever_ft.json\n",
      "Calculando metricas de results_bge_large.json\n",
      "  Métricas guardadas en: ../metrics/fire_generated_query/fiqa/results_bge_large.json\n",
      "Calculando metricas de results_dpr.json\n",
      "  Métricas guardadas en: ../metrics/fire_generated_query/fiqa/results_dpr.json\n",
      "Calculando metricas de results_contriever.json\n",
      "  Métricas guardadas en: ../metrics/fire_generated_query/fiqa/results_contriever.json\n",
      "Calculando metricas de results_gte_large.json\n",
      "  Métricas guardadas en: ../metrics/fire_generated_query/fiqa/results_gte_large.json\n",
      "Calculando metricas de results_sparse_bm25.json\n",
      "  Métricas guardadas en: ../metrics/fire_generated_query/fiqa/results_sparse_bm25.json\n"
     ]
    }
   ],
   "source": [
    "from kdir_src.utils.evaluation import evaluate_all_results\n",
    "evaluate_all_results(f'../results/fire/fire_{pseudo}/{dataset_name}')"
   ]
  },
  {
   "cell_type": "markdown",
   "id": "c018d60a-01d2-4f0d-a3c8-17b19832f3ca",
   "metadata": {},
   "source": [
    "### answer"
   ]
  },
  {
   "cell_type": "code",
   "execution_count": 7,
   "id": "1fd11ed0-163f-41c3-8e67-0e0fe1aab9c8",
   "metadata": {},
   "outputs": [
    {
     "name": "stderr",
     "output_type": "stream",
     "text": [
      "Procesando contriever...: 100%|████████████████████████████████████████████████████████| 6/6 [00:03<00:00,  1.57batch/s]\n",
      "obteniendo resultados contriever: 648it [00:04, 159.24it/s]\n",
      "Procesando contriever...: 100%|████████████████████████████████████████████████████████| 6/6 [00:04<00:00,  1.44batch/s]\n",
      "obteniendo resultados contriever_ft: 648it [00:03, 172.43it/s]\n",
      "Procesando dpr...: 100%|███████████████████████████████████████████████████████████████| 6/6 [00:05<00:00,  1.18batch/s]\n",
      "obteniendo resultados dpr: 648it [00:03, 177.36it/s]\n"
     ]
    },
    {
     "data": {
      "application/vnd.jupyter.widget-view+json": {
       "model_id": "ec37c456c5684847a5fa2e45fd1e6ea7",
       "version_major": 2,
       "version_minor": 0
      },
      "text/plain": [
       "Batches:   0%|          | 0/6 [00:00<?, ?it/s]"
      ]
     },
     "metadata": {},
     "output_type": "display_data"
    },
    {
     "name": "stderr",
     "output_type": "stream",
     "text": [
      "obteniendo resultados bge_large: 648it [00:04, 150.07it/s]\n"
     ]
    },
    {
     "data": {
      "application/vnd.jupyter.widget-view+json": {
       "model_id": "3fbcdd5ff7fc4651be47c303b4e818fc",
       "version_major": 2,
       "version_minor": 0
      },
      "text/plain": [
       "Batches:   0%|          | 0/6 [00:00<?, ?it/s]"
      ]
     },
     "metadata": {},
     "output_type": "display_data"
    },
    {
     "name": "stderr",
     "output_type": "stream",
     "text": [
      "obteniendo resultados gte_large: 648it [00:04, 143.77it/s]\n"
     ]
    },
    {
     "name": "stdout",
     "output_type": "stream",
     "text": [
      "Procesando BM25 embeddings\n"
     ]
    },
    {
     "name": "stderr",
     "output_type": "stream",
     "text": [
      "obteniendo resultados sparse_bm25: 648it [00:01, 334.64it/s]\n"
     ]
    }
   ],
   "source": [
    "pseudo = 'generated_answer' # \"generated_document\"    \"generated_query\"   \"generated_answer\"\n",
    "fire_rag.get_results_only_one_from_jsonl_fire(pseudo, '../doc_gen/fire/doc5/',f'../results/fire/fire_{pseudo}/{dataset_name}/', 32,10,10)"
   ]
  },
  {
   "cell_type": "code",
   "execution_count": 8,
   "id": "cbb3b371-5086-4c36-8f63-93ec8a490e82",
   "metadata": {},
   "outputs": [
    {
     "name": "stdout",
     "output_type": "stream",
     "text": [
      "fiqa\n"
     ]
    },
    {
     "data": {
      "application/vnd.jupyter.widget-view+json": {
       "model_id": "4bcdc2471548412cadbf8a25dd811394",
       "version_major": 2,
       "version_minor": 0
      },
      "text/plain": [
       "  0%|          | 0/57638 [00:00<?, ?it/s]"
      ]
     },
     "metadata": {},
     "output_type": "display_data"
    },
    {
     "name": "stdout",
     "output_type": "stream",
     "text": [
      "Calculando metricas de results_contriever_ft.json\n",
      "  Métricas guardadas en: ../metrics/fire_generated_answer/fiqa/results_contriever_ft.json\n",
      "Calculando metricas de results_bge_large.json\n",
      "  Métricas guardadas en: ../metrics/fire_generated_answer/fiqa/results_bge_large.json\n",
      "Calculando metricas de results_dpr.json\n",
      "  Métricas guardadas en: ../metrics/fire_generated_answer/fiqa/results_dpr.json\n",
      "Calculando metricas de results_contriever.json\n",
      "  Métricas guardadas en: ../metrics/fire_generated_answer/fiqa/results_contriever.json\n",
      "Calculando metricas de results_gte_large.json\n",
      "  Métricas guardadas en: ../metrics/fire_generated_answer/fiqa/results_gte_large.json\n",
      "Calculando metricas de results_sparse_bm25.json\n",
      "  Métricas guardadas en: ../metrics/fire_generated_answer/fiqa/results_sparse_bm25.json\n"
     ]
    }
   ],
   "source": [
    "from kdir_src.utils.evaluation import evaluate_all_results\n",
    "evaluate_all_results(f'../results/fire/fire_{pseudo}/{dataset_name}')"
   ]
  },
  {
   "cell_type": "markdown",
   "id": "4e302fe9-9840-47c6-8602-8c13498f0c92",
   "metadata": {},
   "source": [
    "## Scidocs"
   ]
  },
  {
   "cell_type": "code",
   "execution_count": 1,
   "id": "36bafebf-115e-48ff-9781-81f0934b3f68",
   "metadata": {},
   "outputs": [
    {
     "name": "stderr",
     "output_type": "stream",
     "text": [
      "/local1/ronaldinho/enviroments/env_kdir/lib/python3.10/site-packages/beir/util.py:11: TqdmExperimentalWarning: Using `tqdm.autonotebook.tqdm` in notebook mode. Use `tqdm.tqdm` instead to force console mode (e.g. in jupyter console)\n",
      "  from tqdm.autonotebook import tqdm\n"
     ]
    }
   ],
   "source": [
    "from kdir_src.fire.Fire import Fire\n",
    "from kdir_src.fire.promptor_fire import Promptor_fire\n",
    "from kdir_src.generators.mistral_ai import MistralGenerator\n",
    "from kdir_src.models.all_models import load_models"
   ]
  },
  {
   "cell_type": "code",
   "execution_count": 2,
   "id": "c55ba4d0-2cf7-4287-b6e1-8f27651b28d0",
   "metadata": {},
   "outputs": [
    {
     "name": "stdout",
     "output_type": "stream",
     "text": [
      "Loading contriever...\n",
      "Loading contriever FT...\n",
      "Loading question dpr...\n"
     ]
    },
    {
     "name": "stderr",
     "output_type": "stream",
     "text": [
      "Some weights of the model checkpoint at facebook/dpr-question_encoder-single-nq-base were not used when initializing DPRQuestionEncoder: ['question_encoder.bert_model.pooler.dense.bias', 'question_encoder.bert_model.pooler.dense.weight']\n",
      "- This IS expected if you are initializing DPRQuestionEncoder from the checkpoint of a model trained on another task or with another architecture (e.g. initializing a BertForSequenceClassification model from a BertForPreTraining model).\n",
      "- This IS NOT expected if you are initializing DPRQuestionEncoder from the checkpoint of a model that you expect to be exactly identical (initializing a BertForSequenceClassification model from a BertForSequenceClassification model).\n"
     ]
    },
    {
     "name": "stdout",
     "output_type": "stream",
     "text": [
      "Loading context dpr...\n"
     ]
    },
    {
     "name": "stderr",
     "output_type": "stream",
     "text": [
      "The tokenizer class you load from this checkpoint is not the same type as the class this function is called from. It may result in unexpected tokenization. \n",
      "The tokenizer class you load from this checkpoint is 'DPRQuestionEncoderTokenizer'. \n",
      "The class this function is called from is 'DPRContextEncoderTokenizer'.\n",
      "Some weights of the model checkpoint at facebook/dpr-ctx_encoder-single-nq-base were not used when initializing DPRContextEncoder: ['ctx_encoder.bert_model.pooler.dense.bias', 'ctx_encoder.bert_model.pooler.dense.weight']\n",
      "- This IS expected if you are initializing DPRContextEncoder from the checkpoint of a model trained on another task or with another architecture (e.g. initializing a BertForSequenceClassification model from a BertForPreTraining model).\n",
      "- This IS NOT expected if you are initializing DPRContextEncoder from the checkpoint of a model that you expect to be exactly identical (initializing a BertForSequenceClassification model from a BertForSequenceClassification model).\n"
     ]
    },
    {
     "name": "stdout",
     "output_type": "stream",
     "text": [
      "Loading bge large...\n",
      "Loading gte large...\n",
      "Loading bm25...\n"
     ]
    }
   ],
   "source": [
    "dataset_name='scidocs'\n",
    "promptor = Promptor_fire(dataset_name)\n",
    "encoder_models = load_models()\n",
    "KEY = 'jTrxtC1mqMP1Lj9aMg8fvexSh2xDgZC4'\n",
    "generator = MistralGenerator('mistral-small-2503', KEY, 1, 512, 0.0)\n",
    "fire_rag = Fire(dataset_name, promptor, generator, encoder_models)"
   ]
  },
  {
   "cell_type": "markdown",
   "id": "36979e45-6ccc-49ac-867a-5f438a77f3ec",
   "metadata": {},
   "source": [
    "### docs"
   ]
  },
  {
   "cell_type": "code",
   "execution_count": 3,
   "id": "594ab384-05d1-4666-9fa7-a34af1d4d98d",
   "metadata": {
    "scrolled": true
   },
   "outputs": [
    {
     "name": "stderr",
     "output_type": "stream",
     "text": [
      "Procesando contriever...: 100%|████████████████████████████████████████████████████████| 8/8 [00:08<00:00,  1.10s/batch]\n",
      "obteniendo resultados contriever: 1000it [00:09, 101.73it/s]\n",
      "Procesando contriever...: 100%|████████████████████████████████████████████████████████| 8/8 [00:09<00:00,  1.17s/batch]\n",
      "obteniendo resultados contriever_ft: 1000it [00:09, 108.63it/s]\n",
      "Procesando dpr...: 100%|███████████████████████████████████████████████████████████████| 8/8 [00:12<00:00,  1.57s/batch]\n",
      "obteniendo resultados dpr: 1000it [00:09, 110.74it/s]\n"
     ]
    },
    {
     "data": {
      "application/vnd.jupyter.widget-view+json": {
       "model_id": "c23cef16b4c24a4ca1a77f9b3c416264",
       "version_major": 2,
       "version_minor": 0
      },
      "text/plain": [
       "Batches:   0%|          | 0/8 [00:00<?, ?it/s]"
      ]
     },
     "metadata": {},
     "output_type": "display_data"
    },
    {
     "name": "stderr",
     "output_type": "stream",
     "text": [
      "obteniendo resultados bge_large: 1000it [00:11, 86.88it/s]\n"
     ]
    },
    {
     "data": {
      "application/vnd.jupyter.widget-view+json": {
       "model_id": "0b07e31bf3744b5e91d909984021d948",
       "version_major": 2,
       "version_minor": 0
      },
      "text/plain": [
       "Batches:   0%|          | 0/8 [00:00<?, ?it/s]"
      ]
     },
     "metadata": {},
     "output_type": "display_data"
    },
    {
     "name": "stderr",
     "output_type": "stream",
     "text": [
      "obteniendo resultados gte_large: 1000it [00:11, 89.41it/s]\n"
     ]
    },
    {
     "name": "stdout",
     "output_type": "stream",
     "text": [
      "Procesando BM25 embeddings\n"
     ]
    },
    {
     "name": "stderr",
     "output_type": "stream",
     "text": [
      "obteniendo resultados sparse_bm25: 1000it [00:03, 316.78it/s]\n"
     ]
    }
   ],
   "source": [
    "pseudo = 'generated_document' # \"generated_document\"    \"generated_query\"   \"generated_answer\"\n",
    "fire_rag.get_results_only_one_from_jsonl_fire(pseudo, '../doc_gen/fire/doc5/',f'../results/fire/fire_{pseudo}/{dataset_name}/', 32,10,10)"
   ]
  },
  {
   "cell_type": "code",
   "execution_count": 4,
   "id": "6c73f1ed-e619-4a5f-9ddc-736295fe0a50",
   "metadata": {},
   "outputs": [
    {
     "name": "stdout",
     "output_type": "stream",
     "text": [
      "scidocs\n"
     ]
    },
    {
     "data": {
      "application/vnd.jupyter.widget-view+json": {
       "model_id": "c26b5f7df1f1484493f61990b25611c1",
       "version_major": 2,
       "version_minor": 0
      },
      "text/plain": [
       "  0%|          | 0/25657 [00:00<?, ?it/s]"
      ]
     },
     "metadata": {},
     "output_type": "display_data"
    },
    {
     "name": "stdout",
     "output_type": "stream",
     "text": [
      "Calculando metricas de results_contriever_ft.json\n",
      "  Métricas guardadas en: ../metrics/fire_generated_document/scidocs/results_contriever_ft.json\n",
      "Calculando metricas de results_bge_large.json\n",
      "  Métricas guardadas en: ../metrics/fire_generated_document/scidocs/results_bge_large.json\n",
      "Calculando metricas de results_dpr.json\n",
      "  Métricas guardadas en: ../metrics/fire_generated_document/scidocs/results_dpr.json\n",
      "Calculando metricas de results_contriever.json\n",
      "  Métricas guardadas en: ../metrics/fire_generated_document/scidocs/results_contriever.json\n",
      "Calculando metricas de results_gte_large.json\n",
      "  Métricas guardadas en: ../metrics/fire_generated_document/scidocs/results_gte_large.json\n",
      "Calculando metricas de results_sparse_bm25.json\n",
      "  Métricas guardadas en: ../metrics/fire_generated_document/scidocs/results_sparse_bm25.json\n"
     ]
    }
   ],
   "source": [
    "from kdir_src.utils.evaluation import evaluate_all_results\n",
    "evaluate_all_results(f'../results/fire/fire_{pseudo}/{dataset_name}')"
   ]
  },
  {
   "cell_type": "markdown",
   "id": "ceb97578-47f9-4da4-91a9-219c150c1bde",
   "metadata": {},
   "source": [
    "### query"
   ]
  },
  {
   "cell_type": "code",
   "execution_count": 5,
   "id": "7ecc33d1-0e72-4fa5-9f5c-8158f787c84f",
   "metadata": {},
   "outputs": [
    {
     "name": "stderr",
     "output_type": "stream",
     "text": [
      "Procesando contriever...: 100%|████████████████████████████████████████████████████████| 8/8 [00:01<00:00,  6.23batch/s]\n",
      "obteniendo resultados contriever: 1000it [00:10, 97.13it/s]\n",
      "Procesando contriever...: 100%|████████████████████████████████████████████████████████| 8/8 [00:01<00:00,  6.47batch/s]\n",
      "obteniendo resultados contriever_ft: 1000it [00:10, 95.98it/s]\n",
      "Procesando dpr...: 100%|███████████████████████████████████████████████████████████████| 8/8 [00:01<00:00,  4.22batch/s]\n",
      "obteniendo resultados dpr: 1000it [00:10, 97.32it/s]\n"
     ]
    },
    {
     "data": {
      "application/vnd.jupyter.widget-view+json": {
       "model_id": "d61b7dff2d2447bf886f447ff235578e",
       "version_major": 2,
       "version_minor": 0
      },
      "text/plain": [
       "Batches:   0%|          | 0/8 [00:00<?, ?it/s]"
      ]
     },
     "metadata": {},
     "output_type": "display_data"
    },
    {
     "name": "stderr",
     "output_type": "stream",
     "text": [
      "obteniendo resultados bge_large: 1000it [00:12, 80.14it/s]\n"
     ]
    },
    {
     "data": {
      "application/vnd.jupyter.widget-view+json": {
       "model_id": "e8ccee381dfc472787287a812ef71523",
       "version_major": 2,
       "version_minor": 0
      },
      "text/plain": [
       "Batches:   0%|          | 0/8 [00:00<?, ?it/s]"
      ]
     },
     "metadata": {},
     "output_type": "display_data"
    },
    {
     "name": "stderr",
     "output_type": "stream",
     "text": [
      "obteniendo resultados gte_large: 1000it [00:12, 80.29it/s]\n"
     ]
    },
    {
     "name": "stdout",
     "output_type": "stream",
     "text": [
      "Procesando BM25 embeddings\n"
     ]
    },
    {
     "name": "stderr",
     "output_type": "stream",
     "text": [
      "obteniendo resultados sparse_bm25: 1000it [00:02, 389.80it/s]\n"
     ]
    }
   ],
   "source": [
    "pseudo = 'generated_query' # \"generated_document\"    \"generated_query\"   \"generated_answer\"\n",
    "fire_rag.get_results_only_one_from_jsonl_fire(pseudo, '../doc_gen/fire/doc5/',f'../results/fire/fire_{pseudo}/{dataset_name}/', 32,10,10)"
   ]
  },
  {
   "cell_type": "code",
   "execution_count": 6,
   "id": "c8a71fb4-a161-4a3f-8443-38dede172c54",
   "metadata": {},
   "outputs": [
    {
     "name": "stdout",
     "output_type": "stream",
     "text": [
      "scidocs\n"
     ]
    },
    {
     "data": {
      "application/vnd.jupyter.widget-view+json": {
       "model_id": "8afbd71cff76485e83b4f2867a35dc45",
       "version_major": 2,
       "version_minor": 0
      },
      "text/plain": [
       "  0%|          | 0/25657 [00:00<?, ?it/s]"
      ]
     },
     "metadata": {},
     "output_type": "display_data"
    },
    {
     "name": "stdout",
     "output_type": "stream",
     "text": [
      "Calculando metricas de results_contriever_ft.json\n",
      "  Métricas guardadas en: ../metrics/fire_generated_query/scidocs/results_contriever_ft.json\n",
      "Calculando metricas de results_bge_large.json\n",
      "  Métricas guardadas en: ../metrics/fire_generated_query/scidocs/results_bge_large.json\n",
      "Calculando metricas de results_dpr.json\n",
      "  Métricas guardadas en: ../metrics/fire_generated_query/scidocs/results_dpr.json\n",
      "Calculando metricas de results_contriever.json\n",
      "  Métricas guardadas en: ../metrics/fire_generated_query/scidocs/results_contriever.json\n",
      "Calculando metricas de results_gte_large.json\n",
      "  Métricas guardadas en: ../metrics/fire_generated_query/scidocs/results_gte_large.json\n",
      "Calculando metricas de results_sparse_bm25.json\n",
      "  Métricas guardadas en: ../metrics/fire_generated_query/scidocs/results_sparse_bm25.json\n"
     ]
    }
   ],
   "source": [
    "from kdir_src.utils.evaluation import evaluate_all_results\n",
    "evaluate_all_results(f'../results/fire/fire_{pseudo}/{dataset_name}')"
   ]
  },
  {
   "cell_type": "markdown",
   "id": "90f8d6d7-7cf9-4264-986a-79abd0d514aa",
   "metadata": {},
   "source": [
    "### answer"
   ]
  },
  {
   "cell_type": "code",
   "execution_count": 8,
   "id": "d4f2be16-0cc6-4810-8a8b-53d16442d0ca",
   "metadata": {},
   "outputs": [
    {
     "name": "stderr",
     "output_type": "stream",
     "text": [
      "Procesando contriever...: 100%|████████████████████████████████████████████████████████| 8/8 [00:04<00:00,  1.62batch/s]\n",
      "obteniendo resultados contriever: 1000it [00:10, 97.21it/s]\n",
      "Procesando contriever...: 100%|████████████████████████████████████████████████████████| 8/8 [00:05<00:00,  1.35batch/s]\n",
      "obteniendo resultados contriever_ft: 1000it [00:10, 97.53it/s]\n",
      "Procesando dpr...: 100%|███████████████████████████████████████████████████████████████| 8/8 [00:08<00:00,  1.04s/batch]\n",
      "obteniendo resultados dpr: 1000it [00:10, 97.92it/s]\n"
     ]
    },
    {
     "data": {
      "application/vnd.jupyter.widget-view+json": {
       "model_id": "bb32031101fc4e10850961d2343d67e0",
       "version_major": 2,
       "version_minor": 0
      },
      "text/plain": [
       "Batches:   0%|          | 0/8 [00:00<?, ?it/s]"
      ]
     },
     "metadata": {},
     "output_type": "display_data"
    },
    {
     "name": "stderr",
     "output_type": "stream",
     "text": [
      "obteniendo resultados bge_large: 1000it [00:12, 79.39it/s]\n"
     ]
    },
    {
     "data": {
      "application/vnd.jupyter.widget-view+json": {
       "model_id": "e1dddcff3dfe4e818be0b2c809321cad",
       "version_major": 2,
       "version_minor": 0
      },
      "text/plain": [
       "Batches:   0%|          | 0/8 [00:00<?, ?it/s]"
      ]
     },
     "metadata": {},
     "output_type": "display_data"
    },
    {
     "name": "stderr",
     "output_type": "stream",
     "text": [
      "obteniendo resultados gte_large: 1000it [00:12, 79.55it/s]\n"
     ]
    },
    {
     "name": "stdout",
     "output_type": "stream",
     "text": [
      "Procesando BM25 embeddings\n"
     ]
    },
    {
     "name": "stderr",
     "output_type": "stream",
     "text": [
      "obteniendo resultados sparse_bm25: 1000it [00:03, 306.77it/s]\n"
     ]
    }
   ],
   "source": [
    "pseudo = 'generated_answer' # \"generated_document\"    \"generated_query\"   \"generated_answer\"\n",
    "fire_rag.get_results_only_one_from_jsonl_fire(pseudo, '../doc_gen/fire/doc5/',f'../results/fire/fire_{pseudo}/{dataset_name}/', 32,10,10)"
   ]
  },
  {
   "cell_type": "code",
   "execution_count": 9,
   "id": "a6e1d789-59ee-40c2-9ff7-84457714a582",
   "metadata": {},
   "outputs": [
    {
     "name": "stdout",
     "output_type": "stream",
     "text": [
      "scidocs\n"
     ]
    },
    {
     "data": {
      "application/vnd.jupyter.widget-view+json": {
       "model_id": "8ec4bf39f525446ba2f894d3dc8d8153",
       "version_major": 2,
       "version_minor": 0
      },
      "text/plain": [
       "  0%|          | 0/25657 [00:00<?, ?it/s]"
      ]
     },
     "metadata": {},
     "output_type": "display_data"
    },
    {
     "name": "stdout",
     "output_type": "stream",
     "text": [
      "Calculando metricas de results_contriever_ft.json\n",
      "  Métricas guardadas en: ../metrics/fire_generated_answer/scidocs/results_contriever_ft.json\n",
      "Calculando metricas de results_bge_large.json\n",
      "  Métricas guardadas en: ../metrics/fire_generated_answer/scidocs/results_bge_large.json\n",
      "Calculando metricas de results_dpr.json\n",
      "  Métricas guardadas en: ../metrics/fire_generated_answer/scidocs/results_dpr.json\n",
      "Calculando metricas de results_contriever.json\n",
      "  Métricas guardadas en: ../metrics/fire_generated_answer/scidocs/results_contriever.json\n",
      "Calculando metricas de results_gte_large.json\n",
      "  Métricas guardadas en: ../metrics/fire_generated_answer/scidocs/results_gte_large.json\n",
      "Calculando metricas de results_sparse_bm25.json\n",
      "  Métricas guardadas en: ../metrics/fire_generated_answer/scidocs/results_sparse_bm25.json\n"
     ]
    }
   ],
   "source": [
    "from kdir_src.utils.evaluation import evaluate_all_results\n",
    "evaluate_all_results(f'../results/fire/fire_{pseudo}/{dataset_name}')"
   ]
  },
  {
   "cell_type": "markdown",
   "id": "1b8f1cc4-2ee5-49e0-b858-0fc9c22a192a",
   "metadata": {},
   "source": [
    "## arguana "
   ]
  },
  {
   "cell_type": "code",
   "execution_count": 1,
   "id": "0ee441d1-491e-43ac-b41d-c807539887dd",
   "metadata": {},
   "outputs": [
    {
     "name": "stderr",
     "output_type": "stream",
     "text": [
      "/local1/ronaldinho/enviroments/env_kdir/lib/python3.10/site-packages/beir/util.py:11: TqdmExperimentalWarning: Using `tqdm.autonotebook.tqdm` in notebook mode. Use `tqdm.tqdm` instead to force console mode (e.g. in jupyter console)\n",
      "  from tqdm.autonotebook import tqdm\n"
     ]
    }
   ],
   "source": [
    "from kdir_src.fire.Fire import Fire\n",
    "from kdir_src.fire.promptor_fire import Promptor_fire\n",
    "from kdir_src.generators.mistral_ai import MistralGenerator\n",
    "from kdir_src.models.all_models import load_models"
   ]
  },
  {
   "cell_type": "code",
   "execution_count": 2,
   "id": "e60e1933-57de-4ab8-b379-2d4b5f4f4c18",
   "metadata": {
    "scrolled": true
   },
   "outputs": [
    {
     "name": "stdout",
     "output_type": "stream",
     "text": [
      "Loading contriever...\n",
      "Loading contriever FT...\n",
      "Loading question dpr...\n"
     ]
    },
    {
     "name": "stderr",
     "output_type": "stream",
     "text": [
      "Some weights of the model checkpoint at facebook/dpr-question_encoder-single-nq-base were not used when initializing DPRQuestionEncoder: ['question_encoder.bert_model.pooler.dense.bias', 'question_encoder.bert_model.pooler.dense.weight']\n",
      "- This IS expected if you are initializing DPRQuestionEncoder from the checkpoint of a model trained on another task or with another architecture (e.g. initializing a BertForSequenceClassification model from a BertForPreTraining model).\n",
      "- This IS NOT expected if you are initializing DPRQuestionEncoder from the checkpoint of a model that you expect to be exactly identical (initializing a BertForSequenceClassification model from a BertForSequenceClassification model).\n",
      "The tokenizer class you load from this checkpoint is not the same type as the class this function is called from. It may result in unexpected tokenization. \n",
      "The tokenizer class you load from this checkpoint is 'DPRQuestionEncoderTokenizer'. \n",
      "The class this function is called from is 'DPRContextEncoderTokenizer'.\n"
     ]
    },
    {
     "name": "stdout",
     "output_type": "stream",
     "text": [
      "Loading context dpr...\n"
     ]
    },
    {
     "name": "stderr",
     "output_type": "stream",
     "text": [
      "Some weights of the model checkpoint at facebook/dpr-ctx_encoder-single-nq-base were not used when initializing DPRContextEncoder: ['ctx_encoder.bert_model.pooler.dense.bias', 'ctx_encoder.bert_model.pooler.dense.weight']\n",
      "- This IS expected if you are initializing DPRContextEncoder from the checkpoint of a model trained on another task or with another architecture (e.g. initializing a BertForSequenceClassification model from a BertForPreTraining model).\n",
      "- This IS NOT expected if you are initializing DPRContextEncoder from the checkpoint of a model that you expect to be exactly identical (initializing a BertForSequenceClassification model from a BertForSequenceClassification model).\n"
     ]
    },
    {
     "name": "stdout",
     "output_type": "stream",
     "text": [
      "Loading bge large...\n",
      "Loading gte large...\n",
      "Loading bm25...\n"
     ]
    }
   ],
   "source": [
    "dataset_name='arguana'\n",
    "promptor = Promptor_fire(dataset_name)\n",
    "encoder_models = load_models()\n",
    "KEY = 'jTrxtC1mqMP1Lj9aMg8fvexSh2xDgZC4'\n",
    "generator = MistralGenerator('mistral-small-2503', KEY, 1, 512, 0.0)\n",
    "fire_rag = Fire(dataset_name, promptor, generator, encoder_models)"
   ]
  },
  {
   "cell_type": "code",
   "execution_count": 3,
   "id": "a1c37aff-b4f5-48e5-a842-c97075f5342f",
   "metadata": {},
   "outputs": [
    {
     "name": "stderr",
     "output_type": "stream",
     "text": [
      "Procesando contriever...: 100%|██████████████████████████████████████████████████████| 11/11 [00:06<00:00,  1.66batch/s]\n",
      "obteniendo resultados contriever: 1406it [00:05, 249.64it/s]\n",
      "Procesando contriever...: 100%|██████████████████████████████████████████████████████| 11/11 [00:06<00:00,  1.67batch/s]\n",
      "obteniendo resultados contriever_ft: 1406it [00:05, 255.50it/s]\n",
      "Procesando dpr...: 100%|█████████████████████████████████████████████████████████████| 11/11 [00:09<00:00,  1.16batch/s]\n",
      "obteniendo resultados dpr: 1406it [00:05, 257.42it/s]\n"
     ]
    },
    {
     "data": {
      "application/vnd.jupyter.widget-view+json": {
       "model_id": "0c11ac0312e144e382e12fdee462d3c1",
       "version_major": 2,
       "version_minor": 0
      },
      "text/plain": [
       "Batches:   0%|          | 0/11 [00:00<?, ?it/s]"
      ]
     },
     "metadata": {},
     "output_type": "display_data"
    },
    {
     "name": "stderr",
     "output_type": "stream",
     "text": [
      "obteniendo resultados bge_large: 1406it [00:06, 214.88it/s]\n"
     ]
    },
    {
     "data": {
      "application/vnd.jupyter.widget-view+json": {
       "model_id": "7f1b8cfaf3b44f2995dfaea00480a840",
       "version_major": 2,
       "version_minor": 0
      },
      "text/plain": [
       "Batches:   0%|          | 0/11 [00:00<?, ?it/s]"
      ]
     },
     "metadata": {},
     "output_type": "display_data"
    },
    {
     "name": "stderr",
     "output_type": "stream",
     "text": [
      "obteniendo resultados gte_large: 1406it [00:06, 213.57it/s]\n"
     ]
    },
    {
     "name": "stdout",
     "output_type": "stream",
     "text": [
      "Procesando BM25 embeddings\n"
     ]
    },
    {
     "name": "stderr",
     "output_type": "stream",
     "text": [
      "obteniendo resultados sparse_bm25: 1406it [00:03, 372.76it/s]\n"
     ]
    }
   ],
   "source": [
    "pseudo = 'generated_document' # \"generated_document\"    \"generated_query\"   \"generated_answer\"\n",
    "fire_rag.get_results_only_one_from_jsonl_fire(pseudo, '../doc_gen/fire/doc5/',f'../results/fire/fire_{pseudo}/{dataset_name}/', 32,10,10)"
   ]
  },
  {
   "cell_type": "code",
   "execution_count": 4,
   "id": "57d9c582-b5ab-4aaf-b457-7616117e98a8",
   "metadata": {},
   "outputs": [
    {
     "name": "stdout",
     "output_type": "stream",
     "text": [
      "arguana\n"
     ]
    },
    {
     "data": {
      "application/vnd.jupyter.widget-view+json": {
       "model_id": "cdf8fd49488f4b37b4f57a48ddda1329",
       "version_major": 2,
       "version_minor": 0
      },
      "text/plain": [
       "  0%|          | 0/8674 [00:00<?, ?it/s]"
      ]
     },
     "metadata": {},
     "output_type": "display_data"
    },
    {
     "name": "stdout",
     "output_type": "stream",
     "text": [
      "Calculando metricas de results_contriever_ft.json\n",
      "  Métricas guardadas en: ../metrics/fire_generated_document/arguana/results_contriever_ft.json\n",
      "Calculando metricas de results_bge_large.json\n",
      "  Métricas guardadas en: ../metrics/fire_generated_document/arguana/results_bge_large.json\n",
      "Calculando metricas de results_dpr.json\n",
      "  Métricas guardadas en: ../metrics/fire_generated_document/arguana/results_dpr.json\n",
      "Calculando metricas de results_contriever.json\n",
      "  Métricas guardadas en: ../metrics/fire_generated_document/arguana/results_contriever.json\n",
      "Calculando metricas de results_gte_large.json\n",
      "  Métricas guardadas en: ../metrics/fire_generated_document/arguana/results_gte_large.json\n",
      "Calculando metricas de results_sparse_bm25.json\n",
      "  Métricas guardadas en: ../metrics/fire_generated_document/arguana/results_sparse_bm25.json\n"
     ]
    }
   ],
   "source": [
    "from kdir_src.utils.evaluation import evaluate_all_results\n",
    "evaluate_all_results(f'../results/fire/fire_{pseudo}/{dataset_name}')"
   ]
  },
  {
   "cell_type": "code",
   "execution_count": 5,
   "id": "9661b7d0-0bcb-43ec-8460-1e60e18dcc0d",
   "metadata": {},
   "outputs": [
    {
     "name": "stderr",
     "output_type": "stream",
     "text": [
      "Procesando contriever...: 100%|██████████████████████████████████████████████████████| 11/11 [00:12<00:00,  1.13s/batch]\n",
      "obteniendo resultados contriever: 1406it [00:05, 256.07it/s]\n",
      "Procesando contriever...: 100%|██████████████████████████████████████████████████████| 11/11 [00:12<00:00,  1.13s/batch]\n",
      "obteniendo resultados contriever_ft: 1406it [00:05, 254.97it/s]\n",
      "Procesando dpr...: 100%|█████████████████████████████████████████████████████████████| 11/11 [00:17<00:00,  1.57s/batch]\n",
      "obteniendo resultados dpr: 1406it [00:05, 255.94it/s]\n"
     ]
    },
    {
     "data": {
      "application/vnd.jupyter.widget-view+json": {
       "model_id": "94bb1013c0dd4ecfba326d014c1d2971",
       "version_major": 2,
       "version_minor": 0
      },
      "text/plain": [
       "Batches:   0%|          | 0/11 [00:00<?, ?it/s]"
      ]
     },
     "metadata": {},
     "output_type": "display_data"
    },
    {
     "name": "stderr",
     "output_type": "stream",
     "text": [
      "obteniendo resultados bge_large: 1406it [00:06, 213.86it/s]\n"
     ]
    },
    {
     "data": {
      "application/vnd.jupyter.widget-view+json": {
       "model_id": "f1c21f3a8a804cb7b68cb49f86c0e390",
       "version_major": 2,
       "version_minor": 0
      },
      "text/plain": [
       "Batches:   0%|          | 0/11 [00:00<?, ?it/s]"
      ]
     },
     "metadata": {},
     "output_type": "display_data"
    },
    {
     "name": "stderr",
     "output_type": "stream",
     "text": [
      "obteniendo resultados gte_large: 1406it [00:06, 212.38it/s]\n"
     ]
    },
    {
     "name": "stdout",
     "output_type": "stream",
     "text": [
      "Procesando BM25 embeddings\n"
     ]
    },
    {
     "name": "stderr",
     "output_type": "stream",
     "text": [
      "obteniendo resultados sparse_bm25: 1406it [00:03, 365.50it/s]"
     ]
    },
    {
     "name": "stdout",
     "output_type": "stream",
     "text": [
      "arguana\n"
     ]
    },
    {
     "name": "stderr",
     "output_type": "stream",
     "text": [
      "\n"
     ]
    },
    {
     "data": {
      "application/vnd.jupyter.widget-view+json": {
       "model_id": "3d1a6176f5864c55bb7702bbb5c27ebe",
       "version_major": 2,
       "version_minor": 0
      },
      "text/plain": [
       "  0%|          | 0/8674 [00:00<?, ?it/s]"
      ]
     },
     "metadata": {},
     "output_type": "display_data"
    },
    {
     "name": "stdout",
     "output_type": "stream",
     "text": [
      "Calculando metricas de results_contriever_ft.json\n",
      "  Métricas guardadas en: ../metrics/fire_generated_query/arguana/results_contriever_ft.json\n",
      "Calculando metricas de results_bge_large.json\n",
      "  Métricas guardadas en: ../metrics/fire_generated_query/arguana/results_bge_large.json\n",
      "Calculando metricas de results_dpr.json\n",
      "  Métricas guardadas en: ../metrics/fire_generated_query/arguana/results_dpr.json\n",
      "Calculando metricas de results_contriever.json\n",
      "  Métricas guardadas en: ../metrics/fire_generated_query/arguana/results_contriever.json\n",
      "Calculando metricas de results_gte_large.json\n",
      "  Métricas guardadas en: ../metrics/fire_generated_query/arguana/results_gte_large.json\n",
      "Calculando metricas de results_sparse_bm25.json\n",
      "  Métricas guardadas en: ../metrics/fire_generated_query/arguana/results_sparse_bm25.json\n"
     ]
    }
   ],
   "source": [
    "pseudo = 'generated_query' # \"generated_document\"    \"generated_query\"   \"generated_answer\"\n",
    "fire_rag.get_results_only_one_from_jsonl_fire(pseudo, '../doc_gen/fire/doc5/',f'../results/fire/fire_{pseudo}/{dataset_name}/', 32,10,10)\n",
    "evaluate_all_results(f'../results/fire/fire_{pseudo}/{dataset_name}')"
   ]
  },
  {
   "cell_type": "code",
   "execution_count": 6,
   "id": "a511bd11-9729-4ad6-b455-aa1ea9c1f0fa",
   "metadata": {},
   "outputs": [
    {
     "name": "stderr",
     "output_type": "stream",
     "text": [
      "Procesando contriever...: 100%|██████████████████████████████████████████████████████| 11/11 [00:06<00:00,  1.70batch/s]\n",
      "obteniendo resultados contriever: 1406it [00:05, 258.62it/s]\n",
      "Procesando contriever...: 100%|██████████████████████████████████████████████████████| 11/11 [00:07<00:00,  1.52batch/s]\n",
      "obteniendo resultados contriever_ft: 1406it [00:05, 256.18it/s]\n",
      "Procesando dpr...: 100%|█████████████████████████████████████████████████████████████| 11/11 [00:08<00:00,  1.23batch/s]\n",
      "obteniendo resultados dpr: 1406it [00:05, 256.50it/s]\n"
     ]
    },
    {
     "data": {
      "application/vnd.jupyter.widget-view+json": {
       "model_id": "5dff21cfe9684dd69089a3c37e5feb2c",
       "version_major": 2,
       "version_minor": 0
      },
      "text/plain": [
       "Batches:   0%|          | 0/11 [00:00<?, ?it/s]"
      ]
     },
     "metadata": {},
     "output_type": "display_data"
    },
    {
     "name": "stderr",
     "output_type": "stream",
     "text": [
      "obteniendo resultados bge_large: 1406it [00:06, 213.75it/s]\n"
     ]
    },
    {
     "data": {
      "application/vnd.jupyter.widget-view+json": {
       "model_id": "dfb80f7d50bd4b3292c91c80d5cc39ac",
       "version_major": 2,
       "version_minor": 0
      },
      "text/plain": [
       "Batches:   0%|          | 0/11 [00:00<?, ?it/s]"
      ]
     },
     "metadata": {},
     "output_type": "display_data"
    },
    {
     "name": "stderr",
     "output_type": "stream",
     "text": [
      "obteniendo resultados gte_large: 1406it [00:06, 212.93it/s]\n"
     ]
    },
    {
     "name": "stdout",
     "output_type": "stream",
     "text": [
      "Procesando BM25 embeddings\n"
     ]
    },
    {
     "name": "stderr",
     "output_type": "stream",
     "text": [
      "obteniendo resultados sparse_bm25: 1406it [00:04, 340.66it/s]"
     ]
    },
    {
     "name": "stdout",
     "output_type": "stream",
     "text": [
      "arguana\n"
     ]
    },
    {
     "name": "stderr",
     "output_type": "stream",
     "text": [
      "\n"
     ]
    },
    {
     "data": {
      "application/vnd.jupyter.widget-view+json": {
       "model_id": "01121219a1fc43cba21dd644b477befa",
       "version_major": 2,
       "version_minor": 0
      },
      "text/plain": [
       "  0%|          | 0/8674 [00:00<?, ?it/s]"
      ]
     },
     "metadata": {},
     "output_type": "display_data"
    },
    {
     "name": "stdout",
     "output_type": "stream",
     "text": [
      "Calculando metricas de results_contriever_ft.json\n",
      "  Métricas guardadas en: ../metrics/fire_generated_answer/arguana/results_contriever_ft.json\n",
      "Calculando metricas de results_bge_large.json\n",
      "  Métricas guardadas en: ../metrics/fire_generated_answer/arguana/results_bge_large.json\n",
      "Calculando metricas de results_dpr.json\n",
      "  Métricas guardadas en: ../metrics/fire_generated_answer/arguana/results_dpr.json\n",
      "Calculando metricas de results_contriever.json\n",
      "  Métricas guardadas en: ../metrics/fire_generated_answer/arguana/results_contriever.json\n",
      "Calculando metricas de results_gte_large.json\n",
      "  Métricas guardadas en: ../metrics/fire_generated_answer/arguana/results_gte_large.json\n",
      "Calculando metricas de results_sparse_bm25.json\n",
      "  Métricas guardadas en: ../metrics/fire_generated_answer/arguana/results_sparse_bm25.json\n"
     ]
    }
   ],
   "source": [
    "pseudo = 'generated_answer' # \"generated_document\"    \"generated_query\"   \"generated_answer\"\n",
    "fire_rag.get_results_only_one_from_jsonl_fire(pseudo, '../doc_gen/fire/doc5/',f'../results/fire/fire_{pseudo}/{dataset_name}/', 32,10,10)\n",
    "evaluate_all_results(f'../results/fire/fire_{pseudo}/{dataset_name}')"
   ]
  },
  {
   "cell_type": "code",
   "execution_count": null,
   "id": "db464ca2-e9f8-42ca-bfe9-b94879bd48f0",
   "metadata": {},
   "outputs": [],
   "source": []
  }
 ],
 "metadata": {
  "kernelspec": {
   "display_name": "Python 3 (ipykernel)",
   "language": "python",
   "name": "python3"
  },
  "language_info": {
   "codemirror_mode": {
    "name": "ipython",
    "version": 3
   },
   "file_extension": ".py",
   "mimetype": "text/x-python",
   "name": "python",
   "nbconvert_exporter": "python",
   "pygments_lexer": "ipython3",
   "version": "3.10.14"
  }
 },
 "nbformat": 4,
 "nbformat_minor": 5
}
