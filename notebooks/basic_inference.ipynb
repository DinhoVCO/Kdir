{
 "cells": [
  {
   "cell_type": "markdown",
   "id": "d937fc7b-a6ad-4e34-bac6-25f522b50df4",
   "metadata": {
    "jp-MarkdownHeadingCollapsed": true
   },
   "source": [
    "## Arguana"
   ]
  },
  {
   "cell_type": "code",
   "execution_count": 1,
   "id": "d6ea43bc-aea8-4cd5-8707-130b559fc38e",
   "metadata": {},
   "outputs": [],
   "source": [
    "from kdir_src.utils.inference import get_results"
   ]
  },
  {
   "cell_type": "code",
   "execution_count": 3,
   "id": "48d08267-86d7-4733-8619-bbd00c8261d2",
   "metadata": {
    "scrolled": true
   },
   "outputs": [
    {
     "name": "stdout",
     "output_type": "stream",
     "text": [
      "Loading contriever...\n",
      "Loading contriever FT...\n",
      "Loading question dpr...\n"
     ]
    },
    {
     "name": "stderr",
     "output_type": "stream",
     "text": [
      "Some weights of the model checkpoint at facebook/dpr-question_encoder-single-nq-base were not used when initializing DPRQuestionEncoder: ['question_encoder.bert_model.pooler.dense.bias', 'question_encoder.bert_model.pooler.dense.weight']\n",
      "- This IS expected if you are initializing DPRQuestionEncoder from the checkpoint of a model trained on another task or with another architecture (e.g. initializing a BertForSequenceClassification model from a BertForPreTraining model).\n",
      "- This IS NOT expected if you are initializing DPRQuestionEncoder from the checkpoint of a model that you expect to be exactly identical (initializing a BertForSequenceClassification model from a BertForSequenceClassification model).\n"
     ]
    },
    {
     "name": "stdout",
     "output_type": "stream",
     "text": [
      "Loading context dpr...\n"
     ]
    },
    {
     "name": "stderr",
     "output_type": "stream",
     "text": [
      "The tokenizer class you load from this checkpoint is not the same type as the class this function is called from. It may result in unexpected tokenization. \n",
      "The tokenizer class you load from this checkpoint is 'DPRQuestionEncoderTokenizer'. \n",
      "The class this function is called from is 'DPRContextEncoderTokenizer'.\n",
      "Some weights of the model checkpoint at facebook/dpr-ctx_encoder-single-nq-base were not used when initializing DPRContextEncoder: ['ctx_encoder.bert_model.pooler.dense.bias', 'ctx_encoder.bert_model.pooler.dense.weight']\n",
      "- This IS expected if you are initializing DPRContextEncoder from the checkpoint of a model trained on another task or with another architecture (e.g. initializing a BertForSequenceClassification model from a BertForPreTraining model).\n",
      "- This IS NOT expected if you are initializing DPRContextEncoder from the checkpoint of a model that you expect to be exactly identical (initializing a BertForSequenceClassification model from a BertForSequenceClassification model).\n"
     ]
    },
    {
     "name": "stdout",
     "output_type": "stream",
     "text": [
      "Loading bge large...\n",
      "Loading gte large...\n",
      "Loading bm25...\n"
     ]
    },
    {
     "data": {
      "application/vnd.jupyter.widget-view+json": {
       "model_id": "0a74a69ad440441584cdd30c5fdee4db",
       "version_major": 2,
       "version_minor": 0
      },
      "text/plain": [
       "  0%|          | 0/8674 [00:00<?, ?it/s]"
      ]
     },
     "metadata": {},
     "output_type": "display_data"
    },
    {
     "name": "stderr",
     "output_type": "stream",
     "text": [
      "Procesando queries: 100%|██████████████████████████████████████████████████████| 1406/1406 [00:00<00:00, 4427320.89it/s]\n",
      "Procesando contriever...: 100%|██████████████████████████████████████████████████████| 11/11 [00:12<00:00,  1.10s/batch]\n",
      "Procesando contriever...: 100%|██████████████████████████████████████████████████████| 11/11 [00:12<00:00,  1.11s/batch]\n",
      "Procesando dpr...: 100%|█████████████████████████████████████████████████████████████| 11/11 [00:16<00:00,  1.46s/batch]\n"
     ]
    },
    {
     "data": {
      "application/vnd.jupyter.widget-view+json": {
       "model_id": "0729cf226e834985857452973d3d455d",
       "version_major": 2,
       "version_minor": 0
      },
      "text/plain": [
       "Batches:   0%|          | 0/11 [00:00<?, ?it/s]"
      ]
     },
     "metadata": {},
     "output_type": "display_data"
    },
    {
     "data": {
      "application/vnd.jupyter.widget-view+json": {
       "model_id": "80a844d8cbbc4e1ebb98c3279dbba399",
       "version_major": 2,
       "version_minor": 0
      },
      "text/plain": [
       "Batches:   0%|          | 0/11 [00:00<?, ?it/s]"
      ]
     },
     "metadata": {},
     "output_type": "display_data"
    },
    {
     "name": "stdout",
     "output_type": "stream",
     "text": [
      "Procesando BM25 embeddings\n",
      "Embeddings finalizado\n"
     ]
    },
    {
     "name": "stderr",
     "output_type": "stream",
     "text": [
      "obteniendo resultados contriever: 1406it [00:05, 256.15it/s]\n",
      "obteniendo resultados contriever_ft: 1406it [00:05, 254.42it/s]\n",
      "obteniendo resultados dpr: 1406it [00:05, 255.81it/s]\n",
      "obteniendo resultados bge_large: 1406it [00:06, 215.14it/s]\n",
      "obteniendo resultados gte_large: 1406it [00:06, 214.28it/s]\n",
      "obteniendo resultados sparse_bm25: 1406it [00:04, 313.39it/s]\n"
     ]
    }
   ],
   "source": [
    "dataset='arguana'\n",
    "get_results(dataset, f'../results/basic/{dataset}/',128, top_k=11)"
   ]
  },
  {
   "cell_type": "markdown",
   "id": "47d08c09-0569-4cb1-861d-82352839f8e7",
   "metadata": {
    "jp-MarkdownHeadingCollapsed": true
   },
   "source": [
    "## NFCorpus"
   ]
  },
  {
   "cell_type": "code",
   "execution_count": 1,
   "id": "09ac6f9c-a12e-4a45-82ac-1acc526e25e5",
   "metadata": {},
   "outputs": [],
   "source": [
    "from kdir_src.utils.inference import get_results"
   ]
  },
  {
   "cell_type": "code",
   "execution_count": 2,
   "id": "63783447-027c-49b8-b82e-9124a78fa344",
   "metadata": {},
   "outputs": [
    {
     "name": "stdout",
     "output_type": "stream",
     "text": [
      "Loading contriever...\n",
      "Loading contriever FT...\n",
      "Loading question dpr...\n"
     ]
    },
    {
     "name": "stderr",
     "output_type": "stream",
     "text": [
      "Some weights of the model checkpoint at facebook/dpr-question_encoder-single-nq-base were not used when initializing DPRQuestionEncoder: ['question_encoder.bert_model.pooler.dense.bias', 'question_encoder.bert_model.pooler.dense.weight']\n",
      "- This IS expected if you are initializing DPRQuestionEncoder from the checkpoint of a model trained on another task or with another architecture (e.g. initializing a BertForSequenceClassification model from a BertForPreTraining model).\n",
      "- This IS NOT expected if you are initializing DPRQuestionEncoder from the checkpoint of a model that you expect to be exactly identical (initializing a BertForSequenceClassification model from a BertForSequenceClassification model).\n",
      "The tokenizer class you load from this checkpoint is not the same type as the class this function is called from. It may result in unexpected tokenization. \n",
      "The tokenizer class you load from this checkpoint is 'DPRQuestionEncoderTokenizer'. \n",
      "The class this function is called from is 'DPRContextEncoderTokenizer'.\n"
     ]
    },
    {
     "name": "stdout",
     "output_type": "stream",
     "text": [
      "Loading context dpr...\n"
     ]
    },
    {
     "name": "stderr",
     "output_type": "stream",
     "text": [
      "Some weights of the model checkpoint at facebook/dpr-ctx_encoder-single-nq-base were not used when initializing DPRContextEncoder: ['ctx_encoder.bert_model.pooler.dense.bias', 'ctx_encoder.bert_model.pooler.dense.weight']\n",
      "- This IS expected if you are initializing DPRContextEncoder from the checkpoint of a model trained on another task or with another architecture (e.g. initializing a BertForSequenceClassification model from a BertForPreTraining model).\n",
      "- This IS NOT expected if you are initializing DPRContextEncoder from the checkpoint of a model that you expect to be exactly identical (initializing a BertForSequenceClassification model from a BertForSequenceClassification model).\n"
     ]
    },
    {
     "name": "stdout",
     "output_type": "stream",
     "text": [
      "Loading bge large...\n",
      "Loading gte large...\n",
      "Loading bm25...\n"
     ]
    },
    {
     "data": {
      "application/vnd.jupyter.widget-view+json": {
       "model_id": "cfba3bc8ed0b4b7f974e479f563ef332",
       "version_major": 2,
       "version_minor": 0
      },
      "text/plain": [
       "  0%|          | 0/3633 [00:00<?, ?it/s]"
      ]
     },
     "metadata": {},
     "output_type": "display_data"
    },
    {
     "name": "stderr",
     "output_type": "stream",
     "text": [
      "Procesando queries: 100%|████████████████████████████████████████████████████████| 323/323 [00:00<00:00, 1833234.36it/s]\n",
      "Procesando contriever...: 100%|████████████████████████████████████████████████████████| 3/3 [00:00<00:00,  5.77batch/s]\n",
      "Procesando contriever...: 100%|████████████████████████████████████████████████████████| 3/3 [00:00<00:00, 21.49batch/s]\n",
      "Procesando dpr...: 100%|███████████████████████████████████████████████████████████████| 3/3 [00:00<00:00, 18.00batch/s]\n"
     ]
    },
    {
     "data": {
      "application/vnd.jupyter.widget-view+json": {
       "model_id": "c8934b4124c34115b775bdbd3bc68944",
       "version_major": 2,
       "version_minor": 0
      },
      "text/plain": [
       "Batches:   0%|          | 0/3 [00:00<?, ?it/s]"
      ]
     },
     "metadata": {},
     "output_type": "display_data"
    },
    {
     "data": {
      "application/vnd.jupyter.widget-view+json": {
       "model_id": "e9932997ca13421d954ac99ecfbf364f",
       "version_major": 2,
       "version_minor": 0
      },
      "text/plain": [
       "Batches:   0%|          | 0/3 [00:00<?, ?it/s]"
      ]
     },
     "metadata": {},
     "output_type": "display_data"
    },
    {
     "name": "stdout",
     "output_type": "stream",
     "text": [
      "Procesando BM25 embeddings\n",
      "Embeddings finalizado\n"
     ]
    },
    {
     "name": "stderr",
     "output_type": "stream",
     "text": [
      "obteniendo resultados contriever: 323it [00:01, 209.79it/s]\n",
      "obteniendo resultados contriever_ft: 323it [00:01, 224.72it/s]\n",
      "obteniendo resultados dpr: 323it [00:01, 232.45it/s]\n",
      "obteniendo resultados bge_large: 323it [00:01, 197.02it/s]\n",
      "obteniendo resultados gte_large: 323it [00:01, 197.77it/s]\n",
      "obteniendo resultados sparse_bm25: 323it [00:00, 412.48it/s]\n"
     ]
    }
   ],
   "source": [
    "dataset='nfcorpus'\n",
    "get_results(dataset, f'../results/basic/{dataset}/',128, top_k=11)"
   ]
  },
  {
   "cell_type": "code",
   "execution_count": 3,
   "id": "2fad88f2-0276-4144-bfc9-caefc995add8",
   "metadata": {},
   "outputs": [
    {
     "name": "stdout",
     "output_type": "stream",
     "text": [
      "nfcorpus\n"
     ]
    },
    {
     "data": {
      "application/vnd.jupyter.widget-view+json": {
       "model_id": "a7d2aeb5982d4ff9839cb6fb12200e3a",
       "version_major": 2,
       "version_minor": 0
      },
      "text/plain": [
       "  0%|          | 0/3633 [00:00<?, ?it/s]"
      ]
     },
     "metadata": {},
     "output_type": "display_data"
    },
    {
     "name": "stdout",
     "output_type": "stream",
     "text": [
      "Calculando metricas de results_contriever_ft.json\n",
      "  Métricas guardadas en: ../metrics/basic/nfcorpus/results_contriever_ft.json\n",
      "Calculando metricas de results_bge_large.json\n",
      "  Métricas guardadas en: ../metrics/basic/nfcorpus/results_bge_large.json\n",
      "Calculando metricas de results_dpr.json\n",
      "  Métricas guardadas en: ../metrics/basic/nfcorpus/results_dpr.json\n",
      "Calculando metricas de results_contriever.json\n",
      "  Métricas guardadas en: ../metrics/basic/nfcorpus/results_contriever.json\n",
      "Calculando metricas de results_gte_large.json\n",
      "  Métricas guardadas en: ../metrics/basic/nfcorpus/results_gte_large.json\n",
      "Calculando metricas de results_sparse_bm25.json\n",
      "  Métricas guardadas en: ../metrics/basic/nfcorpus/results_sparse_bm25.json\n"
     ]
    }
   ],
   "source": [
    "from kdir_src.utils.evaluation import evaluate_all_results\n",
    "evaluate_all_results('../results/basic/nfcorpus')"
   ]
  },
  {
   "cell_type": "markdown",
   "id": "3ac7a89b-cce1-4f60-b4e9-1ac06d5b9232",
   "metadata": {
    "jp-MarkdownHeadingCollapsed": true
   },
   "source": [
    "## FIQA2018"
   ]
  },
  {
   "cell_type": "code",
   "execution_count": 2,
   "id": "d5e48144-87ff-4d57-b265-3a73cc9d9ebb",
   "metadata": {},
   "outputs": [
    {
     "name": "stdout",
     "output_type": "stream",
     "text": [
      "Loading contriever...\n",
      "Loading contriever FT...\n",
      "Loading question dpr...\n"
     ]
    },
    {
     "name": "stderr",
     "output_type": "stream",
     "text": [
      "Some weights of the model checkpoint at facebook/dpr-question_encoder-single-nq-base were not used when initializing DPRQuestionEncoder: ['question_encoder.bert_model.pooler.dense.bias', 'question_encoder.bert_model.pooler.dense.weight']\n",
      "- This IS expected if you are initializing DPRQuestionEncoder from the checkpoint of a model trained on another task or with another architecture (e.g. initializing a BertForSequenceClassification model from a BertForPreTraining model).\n",
      "- This IS NOT expected if you are initializing DPRQuestionEncoder from the checkpoint of a model that you expect to be exactly identical (initializing a BertForSequenceClassification model from a BertForSequenceClassification model).\n",
      "The tokenizer class you load from this checkpoint is not the same type as the class this function is called from. It may result in unexpected tokenization. \n",
      "The tokenizer class you load from this checkpoint is 'DPRQuestionEncoderTokenizer'. \n",
      "The class this function is called from is 'DPRContextEncoderTokenizer'.\n"
     ]
    },
    {
     "name": "stdout",
     "output_type": "stream",
     "text": [
      "Loading context dpr...\n"
     ]
    },
    {
     "name": "stderr",
     "output_type": "stream",
     "text": [
      "Some weights of the model checkpoint at facebook/dpr-ctx_encoder-single-nq-base were not used when initializing DPRContextEncoder: ['ctx_encoder.bert_model.pooler.dense.bias', 'ctx_encoder.bert_model.pooler.dense.weight']\n",
      "- This IS expected if you are initializing DPRContextEncoder from the checkpoint of a model trained on another task or with another architecture (e.g. initializing a BertForSequenceClassification model from a BertForPreTraining model).\n",
      "- This IS NOT expected if you are initializing DPRContextEncoder from the checkpoint of a model that you expect to be exactly identical (initializing a BertForSequenceClassification model from a BertForSequenceClassification model).\n"
     ]
    },
    {
     "name": "stdout",
     "output_type": "stream",
     "text": [
      "Loading bge large...\n",
      "Loading gte large...\n",
      "Loading bm25...\n"
     ]
    },
    {
     "data": {
      "application/vnd.jupyter.widget-view+json": {
       "model_id": "89f85727f97849c1b5c002aa04f4fab0",
       "version_major": 2,
       "version_minor": 0
      },
      "text/plain": [
       "  0%|          | 0/57638 [00:00<?, ?it/s]"
      ]
     },
     "metadata": {},
     "output_type": "display_data"
    },
    {
     "name": "stderr",
     "output_type": "stream",
     "text": [
      "Procesando queries: 100%|████████████████████████████████████████████████████████| 648/648 [00:00<00:00, 4168572.07it/s]\n",
      "Procesando contriever...: 100%|████████████████████████████████████████████████████████| 6/6 [00:00<00:00,  7.21batch/s]\n",
      "Procesando contriever...: 100%|████████████████████████████████████████████████████████| 6/6 [00:00<00:00, 18.26batch/s]\n",
      "Procesando dpr...: 100%|███████████████████████████████████████████████████████████████| 6/6 [00:00<00:00, 13.37batch/s]\n"
     ]
    },
    {
     "data": {
      "application/vnd.jupyter.widget-view+json": {
       "model_id": "9bbb684c010a4b63b2e7cb06b770888a",
       "version_major": 2,
       "version_minor": 0
      },
      "text/plain": [
       "Batches:   0%|          | 0/6 [00:00<?, ?it/s]"
      ]
     },
     "metadata": {},
     "output_type": "display_data"
    },
    {
     "data": {
      "application/vnd.jupyter.widget-view+json": {
       "model_id": "88364e59b6934905a398f3d957b93853",
       "version_major": 2,
       "version_minor": 0
      },
      "text/plain": [
       "Batches:   0%|          | 0/6 [00:00<?, ?it/s]"
      ]
     },
     "metadata": {},
     "output_type": "display_data"
    },
    {
     "name": "stdout",
     "output_type": "stream",
     "text": [
      "Procesando BM25 embeddings\n",
      "Embeddings finalizado\n"
     ]
    },
    {
     "name": "stderr",
     "output_type": "stream",
     "text": [
      "obteniendo resultados contriever: 648it [00:03, 188.78it/s]\n",
      "obteniendo resultados contriever_ft: 648it [00:02, 223.89it/s]\n",
      "obteniendo resultados dpr: 648it [00:02, 227.21it/s]\n",
      "obteniendo resultados bge_large: 648it [00:03, 194.99it/s]\n",
      "obteniendo resultados gte_large: 648it [00:03, 197.58it/s]\n",
      "obteniendo resultados sparse_bm25: 648it [00:02, 308.28it/s]\n"
     ]
    }
   ],
   "source": [
    "from kdir_src.utils.inference import get_results\n",
    "dataset='fiqa'\n",
    "get_results(dataset, f'../results/basic/{dataset}/',128, top_k=10)"
   ]
  },
  {
   "cell_type": "code",
   "execution_count": 3,
   "id": "effee26f-4177-4564-b176-f270b240912f",
   "metadata": {},
   "outputs": [
    {
     "name": "stdout",
     "output_type": "stream",
     "text": [
      "fiqa\n"
     ]
    },
    {
     "data": {
      "application/vnd.jupyter.widget-view+json": {
       "model_id": "fad171a0eff0467f99e469e2fff10258",
       "version_major": 2,
       "version_minor": 0
      },
      "text/plain": [
       "  0%|          | 0/57638 [00:00<?, ?it/s]"
      ]
     },
     "metadata": {},
     "output_type": "display_data"
    },
    {
     "name": "stdout",
     "output_type": "stream",
     "text": [
      "Calculando metricas de results_contriever_ft.json\n",
      "  Métricas guardadas en: ../metrics/basic/fiqa/results_contriever_ft.json\n",
      "Calculando metricas de results_bge_large.json\n",
      "  Métricas guardadas en: ../metrics/basic/fiqa/results_bge_large.json\n",
      "Calculando metricas de results_dpr.json\n",
      "  Métricas guardadas en: ../metrics/basic/fiqa/results_dpr.json\n",
      "Calculando metricas de results_contriever.json\n",
      "  Métricas guardadas en: ../metrics/basic/fiqa/results_contriever.json\n",
      "Calculando metricas de results_gte_large.json\n",
      "  Métricas guardadas en: ../metrics/basic/fiqa/results_gte_large.json\n",
      "Calculando metricas de results_sparse_bm25.json\n",
      "  Métricas guardadas en: ../metrics/basic/fiqa/results_sparse_bm25.json\n"
     ]
    }
   ],
   "source": [
    "from kdir_src.utils.evaluation import evaluate_all_results\n",
    "evaluate_all_results('../results/basic/fiqa')"
   ]
  },
  {
   "cell_type": "markdown",
   "id": "90e33cd5-88d2-4e6d-a659-538820ce7167",
   "metadata": {
    "jp-MarkdownHeadingCollapsed": true
   },
   "source": [
    "## Scidocs"
   ]
  },
  {
   "cell_type": "code",
   "execution_count": 1,
   "id": "37211210-ac2e-4627-a02e-993c10174303",
   "metadata": {},
   "outputs": [
    {
     "name": "stdout",
     "output_type": "stream",
     "text": [
      "Loading contriever...\n",
      "Loading contriever FT...\n",
      "Loading question dpr...\n"
     ]
    },
    {
     "name": "stderr",
     "output_type": "stream",
     "text": [
      "Some weights of the model checkpoint at facebook/dpr-question_encoder-single-nq-base were not used when initializing DPRQuestionEncoder: ['question_encoder.bert_model.pooler.dense.bias', 'question_encoder.bert_model.pooler.dense.weight']\n",
      "- This IS expected if you are initializing DPRQuestionEncoder from the checkpoint of a model trained on another task or with another architecture (e.g. initializing a BertForSequenceClassification model from a BertForPreTraining model).\n",
      "- This IS NOT expected if you are initializing DPRQuestionEncoder from the checkpoint of a model that you expect to be exactly identical (initializing a BertForSequenceClassification model from a BertForSequenceClassification model).\n",
      "The tokenizer class you load from this checkpoint is not the same type as the class this function is called from. It may result in unexpected tokenization. \n",
      "The tokenizer class you load from this checkpoint is 'DPRQuestionEncoderTokenizer'. \n",
      "The class this function is called from is 'DPRContextEncoderTokenizer'.\n"
     ]
    },
    {
     "name": "stdout",
     "output_type": "stream",
     "text": [
      "Loading context dpr...\n"
     ]
    },
    {
     "name": "stderr",
     "output_type": "stream",
     "text": [
      "Some weights of the model checkpoint at facebook/dpr-ctx_encoder-single-nq-base were not used when initializing DPRContextEncoder: ['ctx_encoder.bert_model.pooler.dense.bias', 'ctx_encoder.bert_model.pooler.dense.weight']\n",
      "- This IS expected if you are initializing DPRContextEncoder from the checkpoint of a model trained on another task or with another architecture (e.g. initializing a BertForSequenceClassification model from a BertForPreTraining model).\n",
      "- This IS NOT expected if you are initializing DPRContextEncoder from the checkpoint of a model that you expect to be exactly identical (initializing a BertForSequenceClassification model from a BertForSequenceClassification model).\n"
     ]
    },
    {
     "name": "stdout",
     "output_type": "stream",
     "text": [
      "Loading bge large...\n",
      "Loading gte large...\n",
      "Loading bm25...\n"
     ]
    },
    {
     "data": {
      "application/vnd.jupyter.widget-view+json": {
       "model_id": "a43895288beb4d6db12d82251ce5eb00",
       "version_major": 2,
       "version_minor": 0
      },
      "text/plain": [
       "  0%|          | 0/25657 [00:00<?, ?it/s]"
      ]
     },
     "metadata": {},
     "output_type": "display_data"
    },
    {
     "name": "stderr",
     "output_type": "stream",
     "text": [
      "Procesando queries: 100%|██████████████████████████████████████████████████████| 1000/1000 [00:00<00:00, 4306266.94it/s]\n",
      "Procesando contriever...: 100%|████████████████████████████████████████████████████████| 8/8 [00:00<00:00,  8.79batch/s]\n",
      "Procesando contriever...: 100%|████████████████████████████████████████████████████████| 8/8 [00:00<00:00, 13.43batch/s]\n",
      "Procesando dpr...: 100%|███████████████████████████████████████████████████████████████| 8/8 [00:00<00:00,  9.90batch/s]\n"
     ]
    },
    {
     "data": {
      "application/vnd.jupyter.widget-view+json": {
       "model_id": "c69cac51a2e54bfa8f44a2cadf05c105",
       "version_major": 2,
       "version_minor": 0
      },
      "text/plain": [
       "Batches:   0%|          | 0/8 [00:00<?, ?it/s]"
      ]
     },
     "metadata": {},
     "output_type": "display_data"
    },
    {
     "data": {
      "application/vnd.jupyter.widget-view+json": {
       "model_id": "0625342076bb4d728646dddb12bc5b46",
       "version_major": 2,
       "version_minor": 0
      },
      "text/plain": [
       "Batches:   0%|          | 0/8 [00:00<?, ?it/s]"
      ]
     },
     "metadata": {},
     "output_type": "display_data"
    },
    {
     "name": "stdout",
     "output_type": "stream",
     "text": [
      "Procesando BM25 embeddings\n",
      "Embeddings finalizado\n"
     ]
    },
    {
     "name": "stderr",
     "output_type": "stream",
     "text": [
      "obteniendo resultados contriever: 1000it [00:06, 146.47it/s]\n",
      "obteniendo resultados contriever_ft: 1000it [00:06, 146.26it/s]\n",
      "obteniendo resultados dpr: 1000it [00:06, 145.72it/s]\n",
      "obteniendo resultados bge_large: 1000it [00:08, 115.30it/s]\n",
      "obteniendo resultados gte_large: 1000it [00:08, 115.19it/s]\n",
      "obteniendo resultados sparse_bm25: 1000it [00:02, 482.91it/s]\n"
     ]
    }
   ],
   "source": [
    "from kdir_src.utils.inference import get_results\n",
    "dataset='scidocs'\n",
    "get_results(dataset, f'../results/basic/{dataset}/',128, top_k=10)"
   ]
  },
  {
   "cell_type": "code",
   "execution_count": 2,
   "id": "bc6f2f8f-8e6c-4002-ae12-ea911749477b",
   "metadata": {},
   "outputs": [
    {
     "name": "stdout",
     "output_type": "stream",
     "text": [
      "scidocs\n"
     ]
    },
    {
     "data": {
      "application/vnd.jupyter.widget-view+json": {
       "model_id": "a898b199751747c69b41684ee64f36d0",
       "version_major": 2,
       "version_minor": 0
      },
      "text/plain": [
       "  0%|          | 0/25657 [00:00<?, ?it/s]"
      ]
     },
     "metadata": {},
     "output_type": "display_data"
    },
    {
     "name": "stdout",
     "output_type": "stream",
     "text": [
      "Calculando metricas de results_contriever_ft.json\n",
      "  Métricas guardadas en: ../metrics/basic/scidocs/results_contriever_ft.json\n",
      "Calculando metricas de results_bge_large.json\n",
      "  Métricas guardadas en: ../metrics/basic/scidocs/results_bge_large.json\n",
      "Calculando metricas de results_dpr.json\n",
      "  Métricas guardadas en: ../metrics/basic/scidocs/results_dpr.json\n",
      "Calculando metricas de results_contriever.json\n",
      "  Métricas guardadas en: ../metrics/basic/scidocs/results_contriever.json\n",
      "Calculando metricas de results_gte_large.json\n",
      "  Métricas guardadas en: ../metrics/basic/scidocs/results_gte_large.json\n",
      "Calculando metricas de results_sparse_bm25.json\n",
      "  Métricas guardadas en: ../metrics/basic/scidocs/results_sparse_bm25.json\n"
     ]
    }
   ],
   "source": [
    "from kdir_src.utils.evaluation import evaluate_all_results\n",
    "evaluate_all_results(f'../results/basic/{dataset}')"
   ]
  },
  {
   "cell_type": "markdown",
   "id": "f94e8b63-6335-4cb1-ba46-4e0d50e24478",
   "metadata": {
    "jp-MarkdownHeadingCollapsed": true
   },
   "source": [
    "## Scifact"
   ]
  },
  {
   "cell_type": "code",
   "execution_count": 1,
   "id": "0451e9d2-74a3-4459-8848-5bc8a7e43928",
   "metadata": {},
   "outputs": [
    {
     "name": "stdout",
     "output_type": "stream",
     "text": [
      "Loading contriever...\n",
      "Loading contriever FT...\n",
      "Loading question dpr...\n"
     ]
    },
    {
     "name": "stderr",
     "output_type": "stream",
     "text": [
      "Some weights of the model checkpoint at facebook/dpr-question_encoder-single-nq-base were not used when initializing DPRQuestionEncoder: ['question_encoder.bert_model.pooler.dense.bias', 'question_encoder.bert_model.pooler.dense.weight']\n",
      "- This IS expected if you are initializing DPRQuestionEncoder from the checkpoint of a model trained on another task or with another architecture (e.g. initializing a BertForSequenceClassification model from a BertForPreTraining model).\n",
      "- This IS NOT expected if you are initializing DPRQuestionEncoder from the checkpoint of a model that you expect to be exactly identical (initializing a BertForSequenceClassification model from a BertForSequenceClassification model).\n",
      "The tokenizer class you load from this checkpoint is not the same type as the class this function is called from. It may result in unexpected tokenization. \n",
      "The tokenizer class you load from this checkpoint is 'DPRQuestionEncoderTokenizer'. \n",
      "The class this function is called from is 'DPRContextEncoderTokenizer'.\n"
     ]
    },
    {
     "name": "stdout",
     "output_type": "stream",
     "text": [
      "Loading context dpr...\n"
     ]
    },
    {
     "name": "stderr",
     "output_type": "stream",
     "text": [
      "Some weights of the model checkpoint at facebook/dpr-ctx_encoder-single-nq-base were not used when initializing DPRContextEncoder: ['ctx_encoder.bert_model.pooler.dense.bias', 'ctx_encoder.bert_model.pooler.dense.weight']\n",
      "- This IS expected if you are initializing DPRContextEncoder from the checkpoint of a model trained on another task or with another architecture (e.g. initializing a BertForSequenceClassification model from a BertForPreTraining model).\n",
      "- This IS NOT expected if you are initializing DPRContextEncoder from the checkpoint of a model that you expect to be exactly identical (initializing a BertForSequenceClassification model from a BertForSequenceClassification model).\n"
     ]
    },
    {
     "name": "stdout",
     "output_type": "stream",
     "text": [
      "Loading bge large...\n",
      "Loading gte large...\n",
      "Loading bm25...\n"
     ]
    },
    {
     "data": {
      "application/vnd.jupyter.widget-view+json": {
       "model_id": "a0976cbc3e0f4117b00b5fb4b0d5a784",
       "version_major": 2,
       "version_minor": 0
      },
      "text/plain": [
       "  0%|          | 0/5183 [00:00<?, ?it/s]"
      ]
     },
     "metadata": {},
     "output_type": "display_data"
    },
    {
     "name": "stderr",
     "output_type": "stream",
     "text": [
      "Procesando queries: 100%|████████████████████████████████████████████████████████| 300/300 [00:00<00:00, 3456843.96it/s]\n",
      "Procesando contriever...: 100%|████████████████████████████████████████████████████████| 3/3 [00:00<00:00,  5.56batch/s]\n",
      "Procesando contriever...: 100%|████████████████████████████████████████████████████████| 3/3 [00:00<00:00, 12.32batch/s]\n",
      "Procesando dpr...: 100%|███████████████████████████████████████████████████████████████| 3/3 [00:00<00:00,  9.38batch/s]\n"
     ]
    },
    {
     "data": {
      "application/vnd.jupyter.widget-view+json": {
       "model_id": "6a7d10aa585d436ca1ca24d4680df5d5",
       "version_major": 2,
       "version_minor": 0
      },
      "text/plain": [
       "Batches:   0%|          | 0/3 [00:00<?, ?it/s]"
      ]
     },
     "metadata": {},
     "output_type": "display_data"
    },
    {
     "data": {
      "application/vnd.jupyter.widget-view+json": {
       "model_id": "734c787995dd4242bf46b2c05e9a4dd9",
       "version_major": 2,
       "version_minor": 0
      },
      "text/plain": [
       "Batches:   0%|          | 0/3 [00:00<?, ?it/s]"
      ]
     },
     "metadata": {},
     "output_type": "display_data"
    },
    {
     "name": "stdout",
     "output_type": "stream",
     "text": [
      "Procesando BM25 embeddings\n",
      "Embeddings finalizado\n"
     ]
    },
    {
     "name": "stderr",
     "output_type": "stream",
     "text": [
      "obteniendo resultados contriever: 300it [00:01, 299.56it/s]\n",
      "obteniendo resultados contriever_ft: 300it [00:01, 297.68it/s]\n",
      "obteniendo resultados dpr: 300it [00:01, 299.81it/s]\n",
      "obteniendo resultados bge_large: 300it [00:01, 252.92it/s]\n",
      "obteniendo resultados gte_large: 300it [00:01, 256.14it/s]\n",
      "obteniendo resultados sparse_bm25: 300it [00:00, 427.20it/s]\n"
     ]
    }
   ],
   "source": [
    "from kdir_src.utils.inference import get_results\n",
    "dataset='scifact'\n",
    "get_results(dataset, f'../results/basic/{dataset}/',128, top_k=10)"
   ]
  },
  {
   "cell_type": "code",
   "execution_count": 2,
   "id": "71a6fc4f-ad25-412a-be1c-85116b151c98",
   "metadata": {},
   "outputs": [
    {
     "name": "stdout",
     "output_type": "stream",
     "text": [
      "scifact\n"
     ]
    },
    {
     "data": {
      "application/vnd.jupyter.widget-view+json": {
       "model_id": "e30c5228d5f24e2d82b3a399ef1350a9",
       "version_major": 2,
       "version_minor": 0
      },
      "text/plain": [
       "  0%|          | 0/5183 [00:00<?, ?it/s]"
      ]
     },
     "metadata": {},
     "output_type": "display_data"
    },
    {
     "name": "stdout",
     "output_type": "stream",
     "text": [
      "Calculando metricas de results_contriever_ft.json\n",
      "  Métricas guardadas en: ../metrics/basic/scifact/results_contriever_ft.json\n",
      "Calculando metricas de results_bge_large.json\n",
      "  Métricas guardadas en: ../metrics/basic/scifact/results_bge_large.json\n",
      "Calculando metricas de results_dpr.json\n",
      "  Métricas guardadas en: ../metrics/basic/scifact/results_dpr.json\n",
      "Calculando metricas de results_contriever.json\n",
      "  Métricas guardadas en: ../metrics/basic/scifact/results_contriever.json\n",
      "Calculando metricas de results_gte_large.json\n",
      "  Métricas guardadas en: ../metrics/basic/scifact/results_gte_large.json\n",
      "Calculando metricas de results_sparse_bm25.json\n",
      "  Métricas guardadas en: ../metrics/basic/scifact/results_sparse_bm25.json\n"
     ]
    }
   ],
   "source": [
    "from kdir_src.utils.evaluation import evaluate_all_results\n",
    "evaluate_all_results(f'../results/basic/{dataset}')"
   ]
  },
  {
   "cell_type": "code",
   "execution_count": null,
   "id": "39b46a95-7ac3-4640-8513-46b383ba8702",
   "metadata": {},
   "outputs": [],
   "source": []
  }
 ],
 "metadata": {
  "kernelspec": {
   "display_name": "Python 3 (ipykernel)",
   "language": "python",
   "name": "python3"
  },
  "language_info": {
   "codemirror_mode": {
    "name": "ipython",
    "version": 3
   },
   "file_extension": ".py",
   "mimetype": "text/x-python",
   "name": "python",
   "nbconvert_exporter": "python",
   "pygments_lexer": "ipython3",
   "version": "3.10.14"
  }
 },
 "nbformat": 4,
 "nbformat_minor": 5
}
