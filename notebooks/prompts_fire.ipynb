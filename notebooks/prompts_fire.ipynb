{
 "cells": [
  {
   "cell_type": "markdown",
   "id": "7702b152-3afd-46d4-bc0c-a7540b55335f",
   "metadata": {
    "jp-MarkdownHeadingCollapsed": true
   },
   "source": [
    "## Arguana"
   ]
  },
  {
   "cell_type": "code",
   "execution_count": 1,
   "id": "4de97ba8-41b9-48b6-821c-6baacb71efd7",
   "metadata": {},
   "outputs": [],
   "source": [
    "from kdir_src.fire.promptor_fire import Promptor_fire"
   ]
  },
  {
   "cell_type": "code",
   "execution_count": 2,
   "id": "69fb8422-4a33-49c5-be13-63d6b004b79b",
   "metadata": {},
   "outputs": [],
   "source": [
    "promptot = Promptor_fire('arguana')"
   ]
  },
  {
   "cell_type": "code",
   "execution_count": 3,
   "id": "679c94a0-41b9-4745-aa06-29565d317034",
   "metadata": {},
   "outputs": [
    {
     "name": "stderr",
     "output_type": "stream",
     "text": [
      "/local1/ronaldinho/enviroments/env_kdir/lib/python3.10/site-packages/beir/util.py:11: TqdmExperimentalWarning: Using `tqdm.autonotebook.tqdm` in notebook mode. Use `tqdm.tqdm` instead to force console mode (e.g. in jupyter console)\n",
      "  from tqdm.autonotebook import tqdm\n"
     ]
    },
    {
     "data": {
      "application/vnd.jupyter.widget-view+json": {
       "model_id": "da1d716a493241dc8a8eada67994e42a",
       "version_major": 2,
       "version_minor": 0
      },
      "text/plain": [
       "  0%|          | 0/8674 [00:00<?, ?it/s]"
      ]
     },
     "metadata": {},
     "output_type": "display_data"
    },
    {
     "name": "stderr",
     "output_type": "stream",
     "text": [
      "Procesando queries: 100%|█████████████████████████████████████████████████████████████| 1406/1406 [00:00<00:00, 4361827.98it/s]\n"
     ]
    }
   ],
   "source": [
    "from kdir_src.dataset.beir import get_sentences_queries\n",
    "sentences, queries_ids = get_sentences_queries('arguana')"
   ]
  },
  {
   "cell_type": "code",
   "execution_count": 4,
   "id": "56779338-7cd2-419b-a141-1745d9cf3b9a",
   "metadata": {
    "scrolled": true
   },
   "outputs": [
    {
     "name": "stdout",
     "output_type": "stream",
     "text": [
      "Loading contriever...\n",
      "Loading contriever FT...\n",
      "Loading question dpr...\n"
     ]
    },
    {
     "name": "stderr",
     "output_type": "stream",
     "text": [
      "Some weights of the model checkpoint at facebook/dpr-question_encoder-single-nq-base were not used when initializing DPRQuestionEncoder: ['question_encoder.bert_model.pooler.dense.bias', 'question_encoder.bert_model.pooler.dense.weight']\n",
      "- This IS expected if you are initializing DPRQuestionEncoder from the checkpoint of a model trained on another task or with another architecture (e.g. initializing a BertForSequenceClassification model from a BertForPreTraining model).\n",
      "- This IS NOT expected if you are initializing DPRQuestionEncoder from the checkpoint of a model that you expect to be exactly identical (initializing a BertForSequenceClassification model from a BertForSequenceClassification model).\n",
      "The tokenizer class you load from this checkpoint is not the same type as the class this function is called from. It may result in unexpected tokenization. \n",
      "The tokenizer class you load from this checkpoint is 'DPRQuestionEncoderTokenizer'. \n",
      "The class this function is called from is 'DPRContextEncoderTokenizer'.\n"
     ]
    },
    {
     "name": "stdout",
     "output_type": "stream",
     "text": [
      "Loading context dpr...\n"
     ]
    },
    {
     "name": "stderr",
     "output_type": "stream",
     "text": [
      "Some weights of the model checkpoint at facebook/dpr-ctx_encoder-single-nq-base were not used when initializing DPRContextEncoder: ['ctx_encoder.bert_model.pooler.dense.bias', 'ctx_encoder.bert_model.pooler.dense.weight']\n",
      "- This IS expected if you are initializing DPRContextEncoder from the checkpoint of a model trained on another task or with another architecture (e.g. initializing a BertForSequenceClassification model from a BertForPreTraining model).\n",
      "- This IS NOT expected if you are initializing DPRContextEncoder from the checkpoint of a model that you expect to be exactly identical (initializing a BertForSequenceClassification model from a BertForSequenceClassification model).\n"
     ]
    },
    {
     "name": "stdout",
     "output_type": "stream",
     "text": [
      "Loading bge large...\n",
      "Loading gte large...\n",
      "Loading bm25...\n"
     ]
    },
    {
     "name": "stderr",
     "output_type": "stream",
     "text": [
      "Procesando contriever...: 100%|███████████████████████████████████████████████████████████████| 1/1 [00:00<00:00,  3.61batch/s]\n",
      "Procesando contriever...: 100%|██████████████████████████████████████████████████████████████| 1/1 [00:00<00:00, 140.79batch/s]\n",
      "Procesando dpr...: 100%|█████████████████████████████████████████████████████████████████████| 1/1 [00:00<00:00, 115.04batch/s]\n"
     ]
    },
    {
     "data": {
      "application/vnd.jupyter.widget-view+json": {
       "model_id": "9e232dca24f54436b506b692eb32784f",
       "version_major": 2,
       "version_minor": 0
      },
      "text/plain": [
       "Batches:   0%|          | 0/1 [00:00<?, ?it/s]"
      ]
     },
     "metadata": {},
     "output_type": "display_data"
    },
    {
     "data": {
      "application/vnd.jupyter.widget-view+json": {
       "model_id": "831cf0637867405789dc7b9d9c0c6df7",
       "version_major": 2,
       "version_minor": 0
      },
      "text/plain": [
       "Batches:   0%|          | 0/1 [00:00<?, ?it/s]"
      ]
     },
     "metadata": {},
     "output_type": "display_data"
    },
    {
     "name": "stdout",
     "output_type": "stream",
     "text": [
      "Procesando BM25 embeddings\n",
      "Embeddings finalizado\n"
     ]
    }
   ],
   "source": [
    "from kdir_src.models.all_models import get_query_embeddings\n",
    "from kdir_src.models.all_models import load_models\n",
    "encoder_models = load_models()\n",
    "c_emb_list = get_query_embeddings(encoder_models, [sentences[3]],1,True)"
   ]
  },
  {
   "cell_type": "code",
   "execution_count": 5,
   "id": "49dc33c8-38d2-48bb-93e8-36449624e60f",
   "metadata": {},
   "outputs": [],
   "source": [
    "from kdir_src.utils.qdrant import recuperar_documentos\n",
    "collection_name= f\"kdir_arguana\"\n",
    "rel_docs = recuperar_documentos(collection_name, c_emb_list[0][0].tolist(), 'contriever', 5)"
   ]
  },
  {
   "cell_type": "code",
   "execution_count": 7,
   "id": "1a1f4f60-2151-43a0-99c7-78ac864ccebb",
   "metadata": {},
   "outputs": [],
   "source": [
    "prompts = promptot.get_prompt(sentences[3], rel_docs)"
   ]
  },
  {
   "cell_type": "code",
   "execution_count": 11,
   "id": "0e2f9cfe-679e-4a49-9e5c-d39930c462a0",
   "metadata": {},
   "outputs": [],
   "source": [
    "from kdir_src.generators.mistral_ai import MistralGenerator\n",
    "KEY = 'jTrxtC1mqMP1Lj9aMg8fvexSh2xDgZC4'\n",
    "generator = MistralGenerator('mistral-small-2503', KEY, 1, 512, 0.0)"
   ]
  },
  {
   "cell_type": "code",
   "execution_count": 8,
   "id": "3b758611-2d38-491a-88a0-5f2d8558f706",
   "metadata": {
    "scrolled": true
   },
   "outputs": [
    {
     "name": "stdout",
     "output_type": "stream",
     "text": [
      "\n",
      "Task: Write a compelling and well-founded counter-argument for the following argument.\n",
      "\n",
      "- Use the 'Reference Arguments' provided below as inspiration or incorporate their ideas if they are relevant and helpful.\n",
      "- **Closely match the style of the 'Reference Arguments'. This includes their approximate length (e.g., a single concise sentence), tone, and overall structure.**\n",
      "- The Counter-Argument should be logical and maintain a respectful tone.\n",
      "- Your response must ONLY be the text of the final Counter-Argument, with no introduction or explanation.\n",
      "\n",
      "Argument: Being vegetarian reduces risks of food poisoning  Almost all dangerous types of food poisoning are passed on through meat or eggs. So Campylobacter bacteria, the most common cause of food poisoning in England, are usually found in raw meat and poultry, unpasteurised milk and untreated water. Salmonella come from raw meat, poultry and dairy products and most cases of escherichia coli (E-Coli) food poisoning occur after eating undercooked beef or drinking unpasteurised milk. [1]  Close contact between humans and animals also leads to zoonosis – diseases such as bird ‘flu which can be passed on from animals to humans. Using animal brains in the processed feed for livestock led to BSE in cattle and to CJD in humans who ate beef from infected cows.  [1] Causes of food poisoning, nhs.co.uk, 23rd June 2009\n",
      "\n",
      "Reference Arguments:\n",
      "1. animals environment general health health general weight philosophy ethics\n",
      "\n",
      "Being vegetarian reduces risks of food poisoning  Almost all dangerous types of food poisoning are passed on through meat or eggs. So Campylobacter bacteria, the most common cause of food poisoning in England, are usually found in raw meat and poultry, unpasteurised milk and untreated water. Salmonella come from raw meat, poultry and dairy products and most cases of escherichia coli (E-Coli) food poisoning occur after eating undercooked beef or drinking unpasteurised milk. [1]  Close contact between humans and animals also leads to zoonosis – diseases such as bird ‘flu which can be passed on from animals to humans. Using animal brains in the processed feed for livestock led to BSE in cattle and to CJD in humans who ate beef from infected cows.  [1] Causes of food poisoning, nhs.co.uk, 23rd June 2009\n",
      "\n",
      "\n",
      "2. animals environment general health health general weight philosophy ethics\n",
      "\n",
      "Food safety and hygiene are very important for everyone, and governments should act to ensure that high standards are in place particularly in restaurants and other places where people get their food from. But food poisoning can occur anywhere “People don't like to admit that the germs might have come from their own home” [1] and while meat is particularly vulnerable to contamination there are bacteria that can be transmitted on vegetables, for example Listeria monocytogenes can be transmitted raw vegetables. [2]  Almost three-quarters of zoonotic transmissions are caused by pathogens of wildlife origin; even some that could have been caused by livestock such as avian flu could equally have come from wild animals. There is little we can do about the transmission of such diseases except by reducing close contact. Thus changing to vegetarianism may reduce such diseases by reducing contact but would not eliminate them. [3]  Just as meat production can raise health issues, so does the arable farming of plants – examples include GM crops and worries about pesticide residues on fruit and vegetables. The important thing is not whether the diet is meat based or vegetarian; just that we should ensure all food is produced in a safe and healthy way.  [1] ‘ 10 ways to prevent food poisoning’, nhs.co.uk, 28th November 2010.  [2] Food Poisoning, emedicinehealth.  [3] Ulrich Desselberger, ‘The significance of zoonotic transmission of viruses in human disease’, Microbiology Today, November 2009.\n",
      "\n",
      "\n",
      "3. animals environment general health health general weight philosophy ethics\n",
      "\n",
      "The key to good health is a balanced diet, not a meat- and fish-free diet. Meat and fish are good sources of protein, iron, and other vitamins and minerals. Most of the health benefits of a vegetarian diet derive from its being high in fibre and low in fat and cholesterol. These can be achieved by avoiding fatty and fried foods, eating only lean grilled meat and fish, and including a large amount of fruit and vegetables in your diet along with meat and fish. In general, raw, unprocessed meat from the muscle is made up of the following: protein 15 - 22 % Fat 3 - 15 % Minerals, carbohydrates 1 - 5 % Water 65 - 75 %, all things that we need in moderation. [1] A meat- and fish-free diet is unbalanced and makes it more likely that you will go short of protein, iron and some minerals such as B12 for which we are primarily dependent on animal foodstuffs. Also, a vegetarian diet, in the West, is a more expensive option - a luxury for the middle classes. Fresh fruit and vegetables are extremely expensive compared to processed meats, bacon, burgers, sausages etc.  [1] Bell, ‘Nutrition &amp; Well-Being’\n",
      "\n",
      "\n",
      "4. \n",
      "\n",
      "A cull is needed to prevent bovine TB  Bovine TB is a disease that affects cattle. When a herd is infected the animals in question need to be slaughtered to prevent the disease getting into the foodchain. The UK’s Chief vet, Nigel Gibbons argues that the risk of infection of humans will increase if there is no cull. [1] Since the protection of badgers in 1992 there have been increases in the numbers of badgers and at the same time an increase in infections. In 1992 there were only about 800 infected herds but by 2012 that had increased to 9000. Scotland, which has only 10% of the UK’s badgers compared to 25% in the South West of England has very low prevalence of bovine TB. [2] It seems clear that we need to halt the spread of bovine TB to prevent the infection of humans and a badger cull has to be a part of the answer.  [1] Bawden, Tom, ‘Chief vet: We need badger cull to prevent spread of TB to humans’, The Independent, 30 May 2013,   [2] ‘Bovine tuberculosis statistics and costs’, bovinetb.info,  (chart f and j)\n",
      "\n",
      "\n",
      "5. animals environment general health health general weight philosophy ethics\n",
      "\n",
      "There are problems with being vegetarian  A vegetarian or vegan diet may result in a person not getting enough iron. This is because, although you can get iron from foods such as pulses, green leafy vegetables and nuts, the iron in these foods isn't absorbed so easily. The symptoms of this feeling breathless after little exercise, feeling tired and a short attention span and poor concentration. [1] These symptoms could negatively affect proficiency in school and the ability to perform well at work ultimately leading to a loss of productivity which has both personal effects and broader effects for the economy. Other conditions include frequently becoming ill, frequently becoming depressed, and malnourishment.  [1] Bupa's Health Information Team, ‘Iron-deficiency anaemia’, bupa.co.uk, March 2010,\n",
      "\n",
      "\n",
      "\n",
      "Counter-Argument:\n",
      "\n",
      "\n"
     ]
    }
   ],
   "source": [
    "print(prompts[0])"
   ]
  },
  {
   "cell_type": "code",
   "execution_count": 13,
   "id": "1a57e1f7-412c-4d89-90ec-a4c9923b150f",
   "metadata": {},
   "outputs": [
    {
     "name": "stdout",
     "output_type": "stream",
     "text": [
      "While it is true that certain types of food poisoning are associated with meat and dairy products, it is essential to recognize that foodborne illnesses can also originate from plant-based sources. For instance, vegetables and fruits can harbor bacteria like Listeria monocytogenes and E. coli, especially if they are not properly washed or handled. Moreover, zoonotic diseases, which can be transmitted from animals to humans, are not exclusively linked to livestock; many pathogens originate from wildlife, making the risk of transmission present regardless of dietary choices. Additionally, the safety of food is not solely determined by its source but by the hygiene and safety standards in place during production, processing, and preparation. Therefore, focusing on stringent food safety practices across all food types is crucial, rather than advocating for a specific diet to mitigate food poisoning risks.\n"
     ]
    }
   ],
   "source": [
    "ans1 = generator.generate(prompts[0])\n",
    "print(ans1[0])"
   ]
  },
  {
   "cell_type": "code",
   "execution_count": 9,
   "id": "211b45bc-b174-4945-9e7e-8c744ee86059",
   "metadata": {
    "scrolled": true
   },
   "outputs": [
    {
     "name": "stdout",
     "output_type": "stream",
     "text": [
      "\n",
      "Task: Generate a new, insightful Argument using the reference arguments for context.\n",
      "\n",
      "- Use the 'Reference Arguments' provided below for context and inspiration.\n",
      "- The new query should be logical, well-formed, and directly related to the original inputs.\n",
      "- **Your response must ONLY be the text of the final Generated Argument, with no introduction or explanation.**\n",
      "\n",
      "Original Argument: Being vegetarian reduces risks of food poisoning  Almost all dangerous types of food poisoning are passed on through meat or eggs. So Campylobacter bacteria, the most common cause of food poisoning in England, are usually found in raw meat and poultry, unpasteurised milk and untreated water. Salmonella come from raw meat, poultry and dairy products and most cases of escherichia coli (E-Coli) food poisoning occur after eating undercooked beef or drinking unpasteurised milk. [1]  Close contact between humans and animals also leads to zoonosis – diseases such as bird ‘flu which can be passed on from animals to humans. Using animal brains in the processed feed for livestock led to BSE in cattle and to CJD in humans who ate beef from infected cows.  [1] Causes of food poisoning, nhs.co.uk, 23rd June 2009\n",
      "\n",
      "Reference Arguments:\n",
      "1. animals environment general health health general weight philosophy ethics\n",
      "\n",
      "Being vegetarian reduces risks of food poisoning  Almost all dangerous types of food poisoning are passed on through meat or eggs. So Campylobacter bacteria, the most common cause of food poisoning in England, are usually found in raw meat and poultry, unpasteurised milk and untreated water. Salmonella come from raw meat, poultry and dairy products and most cases of escherichia coli (E-Coli) food poisoning occur after eating undercooked beef or drinking unpasteurised milk. [1]  Close contact between humans and animals also leads to zoonosis – diseases such as bird ‘flu which can be passed on from animals to humans. Using animal brains in the processed feed for livestock led to BSE in cattle and to CJD in humans who ate beef from infected cows.  [1] Causes of food poisoning, nhs.co.uk, 23rd June 2009\n",
      "\n",
      "\n",
      "2. animals environment general health health general weight philosophy ethics\n",
      "\n",
      "Food safety and hygiene are very important for everyone, and governments should act to ensure that high standards are in place particularly in restaurants and other places where people get their food from. But food poisoning can occur anywhere “People don't like to admit that the germs might have come from their own home” [1] and while meat is particularly vulnerable to contamination there are bacteria that can be transmitted on vegetables, for example Listeria monocytogenes can be transmitted raw vegetables. [2]  Almost three-quarters of zoonotic transmissions are caused by pathogens of wildlife origin; even some that could have been caused by livestock such as avian flu could equally have come from wild animals. There is little we can do about the transmission of such diseases except by reducing close contact. Thus changing to vegetarianism may reduce such diseases by reducing contact but would not eliminate them. [3]  Just as meat production can raise health issues, so does the arable farming of plants – examples include GM crops and worries about pesticide residues on fruit and vegetables. The important thing is not whether the diet is meat based or vegetarian; just that we should ensure all food is produced in a safe and healthy way.  [1] ‘ 10 ways to prevent food poisoning’, nhs.co.uk, 28th November 2010.  [2] Food Poisoning, emedicinehealth.  [3] Ulrich Desselberger, ‘The significance of zoonotic transmission of viruses in human disease’, Microbiology Today, November 2009.\n",
      "\n",
      "\n",
      "3. animals environment general health health general weight philosophy ethics\n",
      "\n",
      "The key to good health is a balanced diet, not a meat- and fish-free diet. Meat and fish are good sources of protein, iron, and other vitamins and minerals. Most of the health benefits of a vegetarian diet derive from its being high in fibre and low in fat and cholesterol. These can be achieved by avoiding fatty and fried foods, eating only lean grilled meat and fish, and including a large amount of fruit and vegetables in your diet along with meat and fish. In general, raw, unprocessed meat from the muscle is made up of the following: protein 15 - 22 % Fat 3 - 15 % Minerals, carbohydrates 1 - 5 % Water 65 - 75 %, all things that we need in moderation. [1] A meat- and fish-free diet is unbalanced and makes it more likely that you will go short of protein, iron and some minerals such as B12 for which we are primarily dependent on animal foodstuffs. Also, a vegetarian diet, in the West, is a more expensive option - a luxury for the middle classes. Fresh fruit and vegetables are extremely expensive compared to processed meats, bacon, burgers, sausages etc.  [1] Bell, ‘Nutrition &amp; Well-Being’\n",
      "\n",
      "\n",
      "4. \n",
      "\n",
      "A cull is needed to prevent bovine TB  Bovine TB is a disease that affects cattle. When a herd is infected the animals in question need to be slaughtered to prevent the disease getting into the foodchain. The UK’s Chief vet, Nigel Gibbons argues that the risk of infection of humans will increase if there is no cull. [1] Since the protection of badgers in 1992 there have been increases in the numbers of badgers and at the same time an increase in infections. In 1992 there were only about 800 infected herds but by 2012 that had increased to 9000. Scotland, which has only 10% of the UK’s badgers compared to 25% in the South West of England has very low prevalence of bovine TB. [2] It seems clear that we need to halt the spread of bovine TB to prevent the infection of humans and a badger cull has to be a part of the answer.  [1] Bawden, Tom, ‘Chief vet: We need badger cull to prevent spread of TB to humans’, The Independent, 30 May 2013,   [2] ‘Bovine tuberculosis statistics and costs’, bovinetb.info,  (chart f and j)\n",
      "\n",
      "\n",
      "5. animals environment general health health general weight philosophy ethics\n",
      "\n",
      "There are problems with being vegetarian  A vegetarian or vegan diet may result in a person not getting enough iron. This is because, although you can get iron from foods such as pulses, green leafy vegetables and nuts, the iron in these foods isn't absorbed so easily. The symptoms of this feeling breathless after little exercise, feeling tired and a short attention span and poor concentration. [1] These symptoms could negatively affect proficiency in school and the ability to perform well at work ultimately leading to a loss of productivity which has both personal effects and broader effects for the economy. Other conditions include frequently becoming ill, frequently becoming depressed, and malnourishment.  [1] Bupa's Health Information Team, ‘Iron-deficiency anaemia’, bupa.co.uk, March 2010,\n",
      "\n",
      "\n",
      "\n",
      "Generated Argument:\n",
      "\n",
      "\n"
     ]
    }
   ],
   "source": [
    "print(prompts[1])"
   ]
  },
  {
   "cell_type": "code",
   "execution_count": 14,
   "id": "c53efb5c-6cae-44c0-bf18-395bacae2931",
   "metadata": {},
   "outputs": [
    {
     "name": "stdout",
     "output_type": "stream",
     "text": [
      "While it is true that adopting a vegetarian diet can reduce the risk of certain types of food poisoning, it is essential to recognize that food safety extends beyond the choice between meat and plant-based diets. The primary concern should be the overall hygiene and safety standards in food production and preparation, regardless of the type of food. For instance, vegetables can also be sources of foodborne illnesses, such as Listeria monocytogenes, which can be transmitted through raw vegetables. Therefore, the focus should be on ensuring that all food, whether animal or plant-based, is produced and handled in a manner that minimizes the risk of contamination. Additionally, the ethical and environmental implications of food choices must be considered. For example, the culling of badgers to prevent bovine TB highlights the complex interplay between animal welfare, public health, and environmental sustainability. Thus, a balanced approach that prioritizes food safety, ethical considerations, and environmental impact is crucial. This approach ensures that dietary choices contribute positively to both individual health and the broader ecosystem.\n"
     ]
    }
   ],
   "source": [
    "ans2 = generator.generate(prompts[1])\n",
    "print(ans2[0])"
   ]
  },
  {
   "cell_type": "code",
   "execution_count": 10,
   "id": "dce06424-b6a5-428b-8c85-c09d0f89ba96",
   "metadata": {
    "scrolled": true
   },
   "outputs": [
    {
     "name": "stdout",
     "output_type": "stream",
     "text": [
      "\n",
      "Task: Extract the core claim and the key premises or evidence used to support it from the Argument\n",
      "\n",
      "- Use the 'Reference Arguments' provided below as inspiration or incorporate their ideas if they are relevant and helpful.\n",
      "- The Claim should be logical and maintain a respectful tone.\n",
      "- Your response must ONLY be the text of the final Claim, with no introduction or explanation.\n",
      "\n",
      "Argument: Being vegetarian reduces risks of food poisoning  Almost all dangerous types of food poisoning are passed on through meat or eggs. So Campylobacter bacteria, the most common cause of food poisoning in England, are usually found in raw meat and poultry, unpasteurised milk and untreated water. Salmonella come from raw meat, poultry and dairy products and most cases of escherichia coli (E-Coli) food poisoning occur after eating undercooked beef or drinking unpasteurised milk. [1]  Close contact between humans and animals also leads to zoonosis – diseases such as bird ‘flu which can be passed on from animals to humans. Using animal brains in the processed feed for livestock led to BSE in cattle and to CJD in humans who ate beef from infected cows.  [1] Causes of food poisoning, nhs.co.uk, 23rd June 2009\n",
      "\n",
      "Reference Arguments:\n",
      "1. animals environment general health health general weight philosophy ethics\n",
      "\n",
      "Being vegetarian reduces risks of food poisoning  Almost all dangerous types of food poisoning are passed on through meat or eggs. So Campylobacter bacteria, the most common cause of food poisoning in England, are usually found in raw meat and poultry, unpasteurised milk and untreated water. Salmonella come from raw meat, poultry and dairy products and most cases of escherichia coli (E-Coli) food poisoning occur after eating undercooked beef or drinking unpasteurised milk. [1]  Close contact between humans and animals also leads to zoonosis – diseases such as bird ‘flu which can be passed on from animals to humans. Using animal brains in the processed feed for livestock led to BSE in cattle and to CJD in humans who ate beef from infected cows.  [1] Causes of food poisoning, nhs.co.uk, 23rd June 2009\n",
      "\n",
      "\n",
      "2. animals environment general health health general weight philosophy ethics\n",
      "\n",
      "Food safety and hygiene are very important for everyone, and governments should act to ensure that high standards are in place particularly in restaurants and other places where people get their food from. But food poisoning can occur anywhere “People don't like to admit that the germs might have come from their own home” [1] and while meat is particularly vulnerable to contamination there are bacteria that can be transmitted on vegetables, for example Listeria monocytogenes can be transmitted raw vegetables. [2]  Almost three-quarters of zoonotic transmissions are caused by pathogens of wildlife origin; even some that could have been caused by livestock such as avian flu could equally have come from wild animals. There is little we can do about the transmission of such diseases except by reducing close contact. Thus changing to vegetarianism may reduce such diseases by reducing contact but would not eliminate them. [3]  Just as meat production can raise health issues, so does the arable farming of plants – examples include GM crops and worries about pesticide residues on fruit and vegetables. The important thing is not whether the diet is meat based or vegetarian; just that we should ensure all food is produced in a safe and healthy way.  [1] ‘ 10 ways to prevent food poisoning’, nhs.co.uk, 28th November 2010.  [2] Food Poisoning, emedicinehealth.  [3] Ulrich Desselberger, ‘The significance of zoonotic transmission of viruses in human disease’, Microbiology Today, November 2009.\n",
      "\n",
      "\n",
      "3. animals environment general health health general weight philosophy ethics\n",
      "\n",
      "The key to good health is a balanced diet, not a meat- and fish-free diet. Meat and fish are good sources of protein, iron, and other vitamins and minerals. Most of the health benefits of a vegetarian diet derive from its being high in fibre and low in fat and cholesterol. These can be achieved by avoiding fatty and fried foods, eating only lean grilled meat and fish, and including a large amount of fruit and vegetables in your diet along with meat and fish. In general, raw, unprocessed meat from the muscle is made up of the following: protein 15 - 22 % Fat 3 - 15 % Minerals, carbohydrates 1 - 5 % Water 65 - 75 %, all things that we need in moderation. [1] A meat- and fish-free diet is unbalanced and makes it more likely that you will go short of protein, iron and some minerals such as B12 for which we are primarily dependent on animal foodstuffs. Also, a vegetarian diet, in the West, is a more expensive option - a luxury for the middle classes. Fresh fruit and vegetables are extremely expensive compared to processed meats, bacon, burgers, sausages etc.  [1] Bell, ‘Nutrition &amp; Well-Being’\n",
      "\n",
      "\n",
      "4. \n",
      "\n",
      "A cull is needed to prevent bovine TB  Bovine TB is a disease that affects cattle. When a herd is infected the animals in question need to be slaughtered to prevent the disease getting into the foodchain. The UK’s Chief vet, Nigel Gibbons argues that the risk of infection of humans will increase if there is no cull. [1] Since the protection of badgers in 1992 there have been increases in the numbers of badgers and at the same time an increase in infections. In 1992 there were only about 800 infected herds but by 2012 that had increased to 9000. Scotland, which has only 10% of the UK’s badgers compared to 25% in the South West of England has very low prevalence of bovine TB. [2] It seems clear that we need to halt the spread of bovine TB to prevent the infection of humans and a badger cull has to be a part of the answer.  [1] Bawden, Tom, ‘Chief vet: We need badger cull to prevent spread of TB to humans’, The Independent, 30 May 2013,   [2] ‘Bovine tuberculosis statistics and costs’, bovinetb.info,  (chart f and j)\n",
      "\n",
      "\n",
      "5. animals environment general health health general weight philosophy ethics\n",
      "\n",
      "There are problems with being vegetarian  A vegetarian or vegan diet may result in a person not getting enough iron. This is because, although you can get iron from foods such as pulses, green leafy vegetables and nuts, the iron in these foods isn't absorbed so easily. The symptoms of this feeling breathless after little exercise, feeling tired and a short attention span and poor concentration. [1] These symptoms could negatively affect proficiency in school and the ability to perform well at work ultimately leading to a loss of productivity which has both personal effects and broader effects for the economy. Other conditions include frequently becoming ill, frequently becoming depressed, and malnourishment.  [1] Bupa's Health Information Team, ‘Iron-deficiency anaemia’, bupa.co.uk, March 2010,\n",
      "\n",
      "\n",
      "\n",
      "Claim:\n",
      "\n",
      "\n"
     ]
    }
   ],
   "source": [
    "print(prompts[2])"
   ]
  },
  {
   "cell_type": "code",
   "execution_count": 15,
   "id": "43ad4cf7-66bd-4793-b8fe-f81d5926db18",
   "metadata": {},
   "outputs": [
    {
     "name": "stdout",
     "output_type": "stream",
     "text": [
      "Adopting a vegetarian diet can significantly reduce the risk of food poisoning, as the majority of dangerous foodborne pathogens are associated with the consumption of meat and animal products. Key pathogens such as Campylobacter, Salmonella, and E. coli are commonly found in raw or undercooked meat, poultry, and unpasteurized dairy products. Additionally, close contact with animals, which is more prevalent in meat production, increases the risk of zoonotic diseases. Therefore, by eliminating meat and animal products from one's diet, the likelihood of contracting these foodborne illnesses is substantially decreased.\n"
     ]
    }
   ],
   "source": [
    "ans3 = generator.generate(prompts[2])\n",
    "print(ans3[0])"
   ]
  },
  {
   "cell_type": "markdown",
   "id": "c24acb49-9655-4d5a-8722-35835111439d",
   "metadata": {
    "jp-MarkdownHeadingCollapsed": true
   },
   "source": [
    "## NFCOrpus"
   ]
  },
  {
   "cell_type": "code",
   "execution_count": 1,
   "id": "f867b856-2770-41e9-b391-f91b4db9f300",
   "metadata": {},
   "outputs": [
    {
     "name": "stderr",
     "output_type": "stream",
     "text": [
      "/local1/ronaldinho/enviroments/env_kdir/lib/python3.10/site-packages/beir/util.py:11: TqdmExperimentalWarning: Using `tqdm.autonotebook.tqdm` in notebook mode. Use `tqdm.tqdm` instead to force console mode (e.g. in jupyter console)\n",
      "  from tqdm.autonotebook import tqdm\n"
     ]
    }
   ],
   "source": [
    "from kdir_src.fire.promptor_fire import Promptor_fire\n",
    "from kdir_src.dataset.beir import get_sentences_queries\n",
    "from kdir_src.models.all_models import get_query_embeddings\n",
    "from kdir_src.models.all_models import load_models\n",
    "from kdir_src.utils.qdrant import recuperar_documentos\n",
    "from kdir_src.generators.mistral_ai import MistralGenerator"
   ]
  },
  {
   "cell_type": "code",
   "execution_count": 2,
   "id": "ac182d5d-e890-4427-a352-b9261ce1e01b",
   "metadata": {},
   "outputs": [
    {
     "data": {
      "application/vnd.jupyter.widget-view+json": {
       "model_id": "44142bc27d0b4412babf90de67044a2e",
       "version_major": 2,
       "version_minor": 0
      },
      "text/plain": [
       "  0%|          | 0/3633 [00:00<?, ?it/s]"
      ]
     },
     "metadata": {},
     "output_type": "display_data"
    },
    {
     "name": "stderr",
     "output_type": "stream",
     "text": [
      "Procesando queries: 100%|███████████████████████████████████████████████████████████████| 323/323 [00:00<00:00, 3058149.42it/s]\n"
     ]
    },
    {
     "name": "stdout",
     "output_type": "stream",
     "text": [
      "Loading contriever...\n",
      "Loading contriever FT...\n",
      "Loading question dpr...\n"
     ]
    },
    {
     "name": "stderr",
     "output_type": "stream",
     "text": [
      "Some weights of the model checkpoint at facebook/dpr-question_encoder-single-nq-base were not used when initializing DPRQuestionEncoder: ['question_encoder.bert_model.pooler.dense.bias', 'question_encoder.bert_model.pooler.dense.weight']\n",
      "- This IS expected if you are initializing DPRQuestionEncoder from the checkpoint of a model trained on another task or with another architecture (e.g. initializing a BertForSequenceClassification model from a BertForPreTraining model).\n",
      "- This IS NOT expected if you are initializing DPRQuestionEncoder from the checkpoint of a model that you expect to be exactly identical (initializing a BertForSequenceClassification model from a BertForSequenceClassification model).\n",
      "The tokenizer class you load from this checkpoint is not the same type as the class this function is called from. It may result in unexpected tokenization. \n",
      "The tokenizer class you load from this checkpoint is 'DPRQuestionEncoderTokenizer'. \n",
      "The class this function is called from is 'DPRContextEncoderTokenizer'.\n"
     ]
    },
    {
     "name": "stdout",
     "output_type": "stream",
     "text": [
      "Loading context dpr...\n"
     ]
    },
    {
     "name": "stderr",
     "output_type": "stream",
     "text": [
      "Some weights of the model checkpoint at facebook/dpr-ctx_encoder-single-nq-base were not used when initializing DPRContextEncoder: ['ctx_encoder.bert_model.pooler.dense.bias', 'ctx_encoder.bert_model.pooler.dense.weight']\n",
      "- This IS expected if you are initializing DPRContextEncoder from the checkpoint of a model trained on another task or with another architecture (e.g. initializing a BertForSequenceClassification model from a BertForPreTraining model).\n",
      "- This IS NOT expected if you are initializing DPRContextEncoder from the checkpoint of a model that you expect to be exactly identical (initializing a BertForSequenceClassification model from a BertForSequenceClassification model).\n"
     ]
    },
    {
     "name": "stdout",
     "output_type": "stream",
     "text": [
      "Loading bge large...\n",
      "Loading gte large...\n",
      "Loading bm25...\n"
     ]
    }
   ],
   "source": [
    "dataset_name='nfcorpus'\n",
    "promptot = Promptor_fire(dataset_name)\n",
    "sentences, queries_ids = get_sentences_queries(dataset_name)\n",
    "encoder_models = load_models()\n",
    "KEY = 'jTrxtC1mqMP1Lj9aMg8fvexSh2xDgZC4'\n",
    "generator = MistralGenerator('mistral-small-2503', KEY, 1, 512, 0.0)"
   ]
  },
  {
   "cell_type": "code",
   "execution_count": 3,
   "id": "25875f43-9efe-4774-984b-15c8b8054807",
   "metadata": {},
   "outputs": [
    {
     "name": "stderr",
     "output_type": "stream",
     "text": [
      "Procesando contriever...: 100%|███████████████████████████████████████████████████████████████| 1/1 [00:00<00:00,  3.56batch/s]\n",
      "Procesando contriever...: 100%|██████████████████████████████████████████████████████████████| 1/1 [00:00<00:00, 161.30batch/s]\n",
      "Procesando dpr...: 100%|█████████████████████████████████████████████████████████████████████| 1/1 [00:00<00:00, 161.15batch/s]\n"
     ]
    },
    {
     "data": {
      "application/vnd.jupyter.widget-view+json": {
       "model_id": "1b5737305395401c9ff56bddb4fd58a4",
       "version_major": 2,
       "version_minor": 0
      },
      "text/plain": [
       "Batches:   0%|          | 0/1 [00:00<?, ?it/s]"
      ]
     },
     "metadata": {},
     "output_type": "display_data"
    },
    {
     "data": {
      "application/vnd.jupyter.widget-view+json": {
       "model_id": "146eacbd15b24213a7d9285bab9c1d19",
       "version_major": 2,
       "version_minor": 0
      },
      "text/plain": [
       "Batches:   0%|          | 0/1 [00:00<?, ?it/s]"
      ]
     },
     "metadata": {},
     "output_type": "display_data"
    },
    {
     "name": "stdout",
     "output_type": "stream",
     "text": [
      "Procesando BM25 embeddings\n",
      "Embeddings finalizado\n"
     ]
    }
   ],
   "source": [
    "c_emb_list = get_query_embeddings(encoder_models, [sentences[3]],1,True)"
   ]
  },
  {
   "cell_type": "code",
   "execution_count": 4,
   "id": "2cbc011c-bb7f-4be7-9030-fc0cf24dbe2c",
   "metadata": {},
   "outputs": [],
   "source": [
    "from kdir_src.generators.mistral_ai import MistralGenerator"
   ]
  },
  {
   "cell_type": "code",
   "execution_count": 64,
   "id": "56015d29-3bb1-42eb-b1cb-08620e345478",
   "metadata": {},
   "outputs": [],
   "source": [
    "KEY = 'jTrxtC1mqMP1Lj9aMg8fvexSh2xDgZC4'\n",
    "generator = MistralGenerator('mistral-small-2503', KEY, 1, 512, 0.0)"
   ]
  },
  {
   "cell_type": "code",
   "execution_count": 58,
   "id": "57f27389-1f4c-4c2d-9c39-a1697d463375",
   "metadata": {},
   "outputs": [],
   "source": [
    "PROMPT_TEMPLATE = \"\"\"\n",
    "Task: Write a compelling and well-founded counter-argument for the following passage.\n",
    "\n",
    "- Use the 'Reference Arguments' provided below as inspiration or incorporate their ideas if they are relevant and helpful.\n",
    "---> - **Closely match the style of the 'Reference Arguments'. This includes their approximate length (e.g., a single concise sentence), tone, and overall structure.**\n",
    "- The counter-argument should be logical and maintain a respectful tone.\n",
    "- Your response must ONLY be the text of the final counter-argument, with no introduction or explanation.\n",
    "\n",
    "Passage: {passage}\n",
    "Reference Arguments: {reference_arguments}\n",
    "Counter-Argument:\n",
    "\"\"\"\n"
   ]
  },
  {
   "cell_type": "code",
   "execution_count": 59,
   "id": "7d54420d-b669-4845-9492-69d51b06bb39",
   "metadata": {},
   "outputs": [],
   "source": [
    "def formatear_doc(arg):\n",
    "    contraargumento = f\"{arg.payload['title']}\\n\\n{arg.payload['text']}\\n\\n\"\n",
    "    return contraargumento\n",
    "\n",
    "\n",
    "def formatear_prompt_argumento(\n",
    "    passage: str,\n",
    "    candidate_counter_arguments: list[str]\n",
    ") -> str:\n",
    "    \"\"\"\n",
    "    Formatea el prompt final para generar un contraargumento,\n",
    "    incluyendo un pasaje y una lista de candidatos a evaluar.\n",
    "\n",
    "    Args:\n",
    "        passage (str): El texto principal para el cual se necesita un contraargumento.\n",
    "        candidate_counter_arguments (list[str]): Una lista de \"pseudo-contraargumentos\"\n",
    "                                                   para ser evaluados por el modelo.\n",
    "\n",
    "    Returns:\n",
    "        str: El prompt de texto completo, formateado y listo para ser enviado a un modelo de lenguaje.\n",
    "    \"\"\"\n",
    "    # Formatea la lista de candidatos para que sea legible en el prompt.\n",
    "    if candidate_counter_arguments:\n",
    "        # Crea una cadena de texto con los argumentos numerados.\n",
    "        formatted_candidates = \"\\n\".join(\n",
    "            [f\"{i+1}. {formatear_doc(arg)}\" for i, arg in enumerate(candidate_counter_arguments)]\n",
    "        )\n",
    "    else:\n",
    "        # Maneja el caso donde no se proporcionan candidatos.\n",
    "        formatted_candidates = \"None provided.\"\n",
    "\n",
    "    # Rellena la plantilla con la información proporcionada.\n",
    "    final_prompt = PROMPT_TEMPLATE.format(\n",
    "        passage=passage,\n",
    "        reference_arguments=formatted_candidates\n",
    "    )\n",
    "\n",
    "    return final_prompt"
   ]
  },
  {
   "cell_type": "code",
   "execution_count": 7,
   "id": "6d685c24-7371-417c-bdf6-d99b949db923",
   "metadata": {},
   "outputs": [
    {
     "name": "stderr",
     "output_type": "stream",
     "text": [
      "/local1/ronaldinho/enviroments/env_kdir/lib/python3.10/site-packages/beir/util.py:11: TqdmExperimentalWarning: Using `tqdm.autonotebook.tqdm` in notebook mode. Use `tqdm.tqdm` instead to force console mode (e.g. in jupyter console)\n",
      "  from tqdm.autonotebook import tqdm\n"
     ]
    },
    {
     "data": {
      "application/vnd.jupyter.widget-view+json": {
       "model_id": "5304ec696aef41e69fcc3736d01418c6",
       "version_major": 2,
       "version_minor": 0
      },
      "text/plain": [
       "  0%|          | 0/8674 [00:00<?, ?it/s]"
      ]
     },
     "metadata": {},
     "output_type": "display_data"
    },
    {
     "name": "stderr",
     "output_type": "stream",
     "text": [
      "Procesando queries: 100%|█████████████████████████████████████████████████████████████| 1406/1406 [00:00<00:00, 4008967.66it/s]\n"
     ]
    }
   ],
   "source": [
    "from kdir_src.dataset.beir import get_sentences_queries\n",
    "\n",
    "sentences, queries_ids = get_sentences_queries('arguana')"
   ]
  },
  {
   "cell_type": "code",
   "execution_count": 11,
   "id": "8a859fe3-b301-48f5-b548-d76024737a7a",
   "metadata": {},
   "outputs": [
    {
     "data": {
      "text/plain": [
       "'Being vegetarian reduces risks of food poisoning  Almost all dangerous types of food poisoning are passed on through meat or eggs. So Campylobacter bacteria, the most common cause of food poisoning in England, are usually found in raw meat and poultry, unpasteurised milk and untreated water. Salmonella come from raw meat, poultry and dairy products and most cases of escherichia coli (E-Coli) food poisoning occur after eating undercooked beef or drinking unpasteurised milk. [1]  Close contact between humans and animals also leads to zoonosis – diseases such as bird ‘flu which can be passed on from animals to humans. Using animal brains in the processed feed for livestock led to BSE in cattle and to CJD in humans who ate beef from infected cows.  [1] Causes of food poisoning, nhs.co.uk, 23rd June 2009'"
      ]
     },
     "execution_count": 11,
     "metadata": {},
     "output_type": "execute_result"
    }
   ],
   "source": [
    "sentences[3]"
   ]
  },
  {
   "cell_type": "code",
   "execution_count": 12,
   "id": "38bbbfdc-5125-4108-b3b7-99d8bcd2c23e",
   "metadata": {},
   "outputs": [
    {
     "name": "stdout",
     "output_type": "stream",
     "text": [
      "Loading contriever...\n",
      "Loading contriever FT...\n",
      "Loading question dpr...\n"
     ]
    },
    {
     "name": "stderr",
     "output_type": "stream",
     "text": [
      "Some weights of the model checkpoint at facebook/dpr-question_encoder-single-nq-base were not used when initializing DPRQuestionEncoder: ['question_encoder.bert_model.pooler.dense.bias', 'question_encoder.bert_model.pooler.dense.weight']\n",
      "- This IS expected if you are initializing DPRQuestionEncoder from the checkpoint of a model trained on another task or with another architecture (e.g. initializing a BertForSequenceClassification model from a BertForPreTraining model).\n",
      "- This IS NOT expected if you are initializing DPRQuestionEncoder from the checkpoint of a model that you expect to be exactly identical (initializing a BertForSequenceClassification model from a BertForSequenceClassification model).\n",
      "The tokenizer class you load from this checkpoint is not the same type as the class this function is called from. It may result in unexpected tokenization. \n",
      "The tokenizer class you load from this checkpoint is 'DPRQuestionEncoderTokenizer'. \n",
      "The class this function is called from is 'DPRContextEncoderTokenizer'.\n"
     ]
    },
    {
     "name": "stdout",
     "output_type": "stream",
     "text": [
      "Loading context dpr...\n"
     ]
    },
    {
     "name": "stderr",
     "output_type": "stream",
     "text": [
      "Some weights of the model checkpoint at facebook/dpr-ctx_encoder-single-nq-base were not used when initializing DPRContextEncoder: ['ctx_encoder.bert_model.pooler.dense.bias', 'ctx_encoder.bert_model.pooler.dense.weight']\n",
      "- This IS expected if you are initializing DPRContextEncoder from the checkpoint of a model trained on another task or with another architecture (e.g. initializing a BertForSequenceClassification model from a BertForPreTraining model).\n",
      "- This IS NOT expected if you are initializing DPRContextEncoder from the checkpoint of a model that you expect to be exactly identical (initializing a BertForSequenceClassification model from a BertForSequenceClassification model).\n"
     ]
    },
    {
     "name": "stdout",
     "output_type": "stream",
     "text": [
      "Loading bge large...\n",
      "Loading gte large...\n",
      "Loading bm25...\n"
     ]
    },
    {
     "name": "stderr",
     "output_type": "stream",
     "text": [
      "Procesando contriever...: 100%|███████████████████████████████████████████████████████████████| 1/1 [00:00<00:00,  2.19batch/s]\n",
      "Procesando contriever...: 100%|██████████████████████████████████████████████████████████████| 1/1 [00:00<00:00, 113.50batch/s]\n",
      "Procesando dpr...: 100%|██████████████████████████████████████████████████████████████████████| 1/1 [00:00<00:00, 90.14batch/s]\n"
     ]
    },
    {
     "data": {
      "application/vnd.jupyter.widget-view+json": {
       "model_id": "c0a73c6c871e4861af950c7dc8421d6a",
       "version_major": 2,
       "version_minor": 0
      },
      "text/plain": [
       "Batches:   0%|          | 0/1 [00:00<?, ?it/s]"
      ]
     },
     "metadata": {},
     "output_type": "display_data"
    },
    {
     "data": {
      "application/vnd.jupyter.widget-view+json": {
       "model_id": "5de6a8e5e8d94098a9ecad5493f73c0f",
       "version_major": 2,
       "version_minor": 0
      },
      "text/plain": [
       "Batches:   0%|          | 0/1 [00:00<?, ?it/s]"
      ]
     },
     "metadata": {},
     "output_type": "display_data"
    },
    {
     "name": "stdout",
     "output_type": "stream",
     "text": [
      "Procesando BM25 embeddings\n",
      "Embeddings finalizado\n"
     ]
    }
   ],
   "source": [
    "from kdir_src.models.all_models import get_query_embeddings\n",
    "from kdir_src.models.all_models import load_models\n",
    "encoder_models = load_models()\n",
    "c_emb_list = get_query_embeddings(encoder_models, [sentences[3]],1,True)"
   ]
  },
  {
   "cell_type": "code",
   "execution_count": 8,
   "id": "57898c69-04dc-4366-8d70-cdd9970c77ed",
   "metadata": {},
   "outputs": [],
   "source": [
    "from kdir_src.utils.qdrant import recuperar_documentos"
   ]
  },
  {
   "cell_type": "code",
   "execution_count": 16,
   "id": "6f4499df-bbd0-4f22-8172-3101365881d5",
   "metadata": {},
   "outputs": [],
   "source": [
    "collection_name= f\"kdir_arguana\"\n",
    "rel_docs = recuperar_documentos(collection_name, c_emb_list[0][0].tolist(), 'contriever', 5)"
   ]
  },
  {
   "cell_type": "code",
   "execution_count": 18,
   "id": "ba14b779-4979-4d92-ac4f-7ffae1759931",
   "metadata": {},
   "outputs": [
    {
     "data": {
      "text/plain": [
       "ScoredPoint(id=7, version=0, score=1.0, payload={'doc_id': 'test-environment-aeghhgwpe-pro04a', 'title': 'animals environment general health health general weight philosophy ethics', 'text': 'Being vegetarian reduces risks of food poisoning  Almost all dangerous types of food poisoning are passed on through meat or eggs. So Campylobacter bacteria, the most common cause of food poisoning in England, are usually found in raw meat and poultry, unpasteurised milk and untreated water. Salmonella come from raw meat, poultry and dairy products and most cases of escherichia coli (E-Coli) food poisoning occur after eating undercooked beef or drinking unpasteurised milk. [1]  Close contact between humans and animals also leads to zoonosis – diseases such as bird ‘flu which can be passed on from animals to humans. Using animal brains in the processed feed for livestock led to BSE in cattle and to CJD in humans who ate beef from infected cows.  [1] Causes of food poisoning, nhs.co.uk, 23rd June 2009'}, vector=None, shard_key=None, order_value=None)"
      ]
     },
     "execution_count": 18,
     "metadata": {},
     "output_type": "execute_result"
    }
   ],
   "source": [
    "rel_docs[0]"
   ]
  },
  {
   "cell_type": "code",
   "execution_count": 60,
   "id": "f292fcaf-239d-4b83-851e-78e8bec5c713",
   "metadata": {},
   "outputs": [],
   "source": [
    "formateado=formatear_prompt_argumento(sentences[3],rel_docs)"
   ]
  },
  {
   "cell_type": "code",
   "execution_count": 61,
   "id": "0be569e8-d624-4c2e-b747-6f7939b5c090",
   "metadata": {
    "scrolled": true
   },
   "outputs": [
    {
     "name": "stdout",
     "output_type": "stream",
     "text": [
      "\n",
      "Task: Write a compelling and well-founded counter-argument for the following passage.\n",
      "\n",
      "- Use the 'Reference Arguments' provided below as inspiration or incorporate their ideas if they are relevant and helpful.\n",
      "---> - **Closely match the style of the 'Reference Arguments'. This includes their approximate length (e.g., a single concise sentence), tone, and overall structure.**\n",
      "- The counter-argument should be logical and maintain a respectful tone.\n",
      "- Your response must ONLY be the text of the final counter-argument, with no introduction or explanation.\n",
      "\n",
      "Passage: Being vegetarian reduces risks of food poisoning  Almost all dangerous types of food poisoning are passed on through meat or eggs. So Campylobacter bacteria, the most common cause of food poisoning in England, are usually found in raw meat and poultry, unpasteurised milk and untreated water. Salmonella come from raw meat, poultry and dairy products and most cases of escherichia coli (E-Coli) food poisoning occur after eating undercooked beef or drinking unpasteurised milk. [1]  Close contact between humans and animals also leads to zoonosis – diseases such as bird ‘flu which can be passed on from animals to humans. Using animal brains in the processed feed for livestock led to BSE in cattle and to CJD in humans who ate beef from infected cows.  [1] Causes of food poisoning, nhs.co.uk, 23rd June 2009\n",
      "Reference Arguments: 1. animals environment general health health general weight philosophy ethics\n",
      "\n",
      "Being vegetarian reduces risks of food poisoning  Almost all dangerous types of food poisoning are passed on through meat or eggs. So Campylobacter bacteria, the most common cause of food poisoning in England, are usually found in raw meat and poultry, unpasteurised milk and untreated water. Salmonella come from raw meat, poultry and dairy products and most cases of escherichia coli (E-Coli) food poisoning occur after eating undercooked beef or drinking unpasteurised milk. [1]  Close contact between humans and animals also leads to zoonosis – diseases such as bird ‘flu which can be passed on from animals to humans. Using animal brains in the processed feed for livestock led to BSE in cattle and to CJD in humans who ate beef from infected cows.  [1] Causes of food poisoning, nhs.co.uk, 23rd June 2009\n",
      "\n",
      "\n",
      "2. animals environment general health health general weight philosophy ethics\n",
      "\n",
      "Food safety and hygiene are very important for everyone, and governments should act to ensure that high standards are in place particularly in restaurants and other places where people get their food from. But food poisoning can occur anywhere “People don't like to admit that the germs might have come from their own home” [1] and while meat is particularly vulnerable to contamination there are bacteria that can be transmitted on vegetables, for example Listeria monocytogenes can be transmitted raw vegetables. [2]  Almost three-quarters of zoonotic transmissions are caused by pathogens of wildlife origin; even some that could have been caused by livestock such as avian flu could equally have come from wild animals. There is little we can do about the transmission of such diseases except by reducing close contact. Thus changing to vegetarianism may reduce such diseases by reducing contact but would not eliminate them. [3]  Just as meat production can raise health issues, so does the arable farming of plants – examples include GM crops and worries about pesticide residues on fruit and vegetables. The important thing is not whether the diet is meat based or vegetarian; just that we should ensure all food is produced in a safe and healthy way.  [1] ‘ 10 ways to prevent food poisoning’, nhs.co.uk, 28th November 2010.  [2] Food Poisoning, emedicinehealth.  [3] Ulrich Desselberger, ‘The significance of zoonotic transmission of viruses in human disease’, Microbiology Today, November 2009.\n",
      "\n",
      "\n",
      "3. animals environment general health health general weight philosophy ethics\n",
      "\n",
      "The key to good health is a balanced diet, not a meat- and fish-free diet. Meat and fish are good sources of protein, iron, and other vitamins and minerals. Most of the health benefits of a vegetarian diet derive from its being high in fibre and low in fat and cholesterol. These can be achieved by avoiding fatty and fried foods, eating only lean grilled meat and fish, and including a large amount of fruit and vegetables in your diet along with meat and fish. In general, raw, unprocessed meat from the muscle is made up of the following: protein 15 - 22 % Fat 3 - 15 % Minerals, carbohydrates 1 - 5 % Water 65 - 75 %, all things that we need in moderation. [1] A meat- and fish-free diet is unbalanced and makes it more likely that you will go short of protein, iron and some minerals such as B12 for which we are primarily dependent on animal foodstuffs. Also, a vegetarian diet, in the West, is a more expensive option - a luxury for the middle classes. Fresh fruit and vegetables are extremely expensive compared to processed meats, bacon, burgers, sausages etc.  [1] Bell, ‘Nutrition &amp; Well-Being’\n",
      "\n",
      "\n",
      "4. \n",
      "\n",
      "A cull is needed to prevent bovine TB  Bovine TB is a disease that affects cattle. When a herd is infected the animals in question need to be slaughtered to prevent the disease getting into the foodchain. The UK’s Chief vet, Nigel Gibbons argues that the risk of infection of humans will increase if there is no cull. [1] Since the protection of badgers in 1992 there have been increases in the numbers of badgers and at the same time an increase in infections. In 1992 there were only about 800 infected herds but by 2012 that had increased to 9000. Scotland, which has only 10% of the UK’s badgers compared to 25% in the South West of England has very low prevalence of bovine TB. [2] It seems clear that we need to halt the spread of bovine TB to prevent the infection of humans and a badger cull has to be a part of the answer.  [1] Bawden, Tom, ‘Chief vet: We need badger cull to prevent spread of TB to humans’, The Independent, 30 May 2013,   [2] ‘Bovine tuberculosis statistics and costs’, bovinetb.info,  (chart f and j)\n",
      "\n",
      "\n",
      "5. animals environment general health health general weight philosophy ethics\n",
      "\n",
      "There are problems with being vegetarian  A vegetarian or vegan diet may result in a person not getting enough iron. This is because, although you can get iron from foods such as pulses, green leafy vegetables and nuts, the iron in these foods isn't absorbed so easily. The symptoms of this feeling breathless after little exercise, feeling tired and a short attention span and poor concentration. [1] These symptoms could negatively affect proficiency in school and the ability to perform well at work ultimately leading to a loss of productivity which has both personal effects and broader effects for the economy. Other conditions include frequently becoming ill, frequently becoming depressed, and malnourishment.  [1] Bupa's Health Information Team, ‘Iron-deficiency anaemia’, bupa.co.uk, March 2010,\n",
      "\n",
      "\n",
      "Counter-Argument:\n",
      "\n"
     ]
    }
   ],
   "source": [
    "print(formateado)"
   ]
  },
  {
   "cell_type": "code",
   "execution_count": 36,
   "id": "75c9d0c6-9cf1-4f38-9a11-14f08a4d9bb4",
   "metadata": {},
   "outputs": [],
   "source": [
    "ans=generator.generate(formateado)"
   ]
  },
  {
   "cell_type": "code",
   "execution_count": 37,
   "id": "e6eeed2d-a49e-4f0d-a502-c24e9850412f",
   "metadata": {
    "scrolled": true
   },
   "outputs": [
    {
     "name": "stdout",
     "output_type": "stream",
     "text": [
      "### Analysis of the Passage\n",
      "\n",
      "The passage argues that being vegetarian reduces the risk of food poisoning. It supports this claim by citing specific bacteria and diseases associated with meat and dairy products, such as Campylobacter, Salmonella, and E. coli. The passage also mentions zoonotic diseases like bird flu and the risks associated with BSE and CJD, which are linked to animal-derived products.\n",
      "\n",
      "### Evaluation of Candidate Counter-Arguments\n",
      "\n",
      "1. **Candidate Counter-Argument 1**: This argument is incoherent and lacks a clear structure. It does not present a logical counter-argument to the passage.\n",
      "\n",
      "2. **Candidate Counter-Argument 2**: This argument highlights that food poisoning can occur from sources other than meat, such as raw vegetables contaminated with Listeria. It also mentions that zoonotic diseases can come from wildlife, not just livestock. This argument is relevant and logical but could be more focused and structured.\n",
      "\n",
      "3. **Candidate Counter-Argument 3**: This argument discusses the nutritional benefits of meat and fish, suggesting that a balanced diet is more important than avoiding meat. It also mentions the potential expense of a vegetarian diet. While this argument touches on relevant points, it does not directly counter the food poisoning aspect of the passage.\n",
      "\n",
      "4. **Candidate Counter-Argument 4**: This argument is entirely off-topic, discussing the need for a badger cull to prevent bovine TB. It does not address the central claim of the passage.\n",
      "\n",
      "5. **Candidate Counter-Argument 5**: This argument discusses the potential health risks of a vegetarian diet, such as iron deficiency. While it presents valid points, it does not directly address the food poisoning aspect of the passage.\n",
      "\n",
      "### Final Counter-Argument\n",
      "\n",
      "Given the evaluation, **Candidate Counter-Argument 2** is the most relevant and logical. However, it can be refined and strengthened to create a more compelling counter-argument.\n",
      "\n",
      "---\n",
      "\n",
      "**Counter-Argument:**\n",
      "\n",
      "While it is true that certain types of food poisoning are associated with meat and dairy products, the claim that being vegetarian significantly reduces the risk of food poisoning is an oversimplification. Food safety and hygiene are critical for everyone, regardless of dietary choices. Bacteria such as Listeria monocytogenes can be transmitted through raw vegetables, indicating that the risk of food poisoning is not exclusively linked to animal products. Moreover, almost three-quarters of zoonotic transmissions are caused by pathogens of wildlife origin, which means that reducing contact with livestock alone will not eliminate the risk of zoonotic diseases.\n",
      "\n",
      "Furthermore, the production of plant-based foods is\n"
     ]
    }
   ],
   "source": [
    "print(ans[0])"
   ]
  },
  {
   "cell_type": "code",
   "execution_count": 62,
   "id": "c3ed25e2-96f5-4fc3-b790-d1bb112fcc08",
   "metadata": {},
   "outputs": [
    {
     "name": "stdout",
     "output_type": "stream",
     "text": [
      "While it is true that certain types of food poisoning are associated with meat and dairy products, the risk can be significantly mitigated through proper food handling, cooking, and regulatory standards. Many cases of food poisoning stem from poor hygiene practices rather than the inherent properties of the food itself. For instance, both meat and plant-based foods can be contaminated with pathogens like Listeria if not handled correctly. Moreover, the emphasis should be on ensuring that all food, regardless of its source, is produced and prepared in a safe and hygienic manner. Additionally, a balanced diet that includes meat can provide essential nutrients that are harder to obtain from a vegetarian diet, such as vitamin B12 and certain types of iron, which are crucial for overall health and productivity.\n"
     ]
    }
   ],
   "source": [
    "ans2=generator.generate(formateado)\n",
    "print(ans2[0])"
   ]
  },
  {
   "cell_type": "code",
   "execution_count": 66,
   "id": "e9f9a308-791f-4bb5-b469-5179bd830f14",
   "metadata": {},
   "outputs": [
    {
     "name": "stdout",
     "output_type": "stream",
     "text": [
      "While it is true that certain types of food poisoning are associated with meat and dairy products, it is not accurate to claim that adopting a vegetarian diet entirely eliminates the risk of foodborne illnesses. Vegetables and plant-based foods can also harbor harmful bacteria such as Listeria monocytogenes, which can cause severe food poisoning. Moreover, the risk of zoonotic diseases is not solely mitigated by avoiding animal products, as many pathogens originate from wildlife and can be transmitted through environmental contact. Therefore, focusing solely on dietary changes may not be the most effective strategy for reducing foodborne illnesses. Instead, comprehensive food safety measures and hygiene practices across all food types are essential for minimizing health risks.\n"
     ]
    }
   ],
   "source": [
    "ans2=generator.generate(formateado)\n",
    "print(ans2[0])"
   ]
  },
  {
   "cell_type": "code",
   "execution_count": 2,
   "id": "056bea16-5b03-45ef-9141-b4eedf66ce15",
   "metadata": {},
   "outputs": [],
   "source": [
    "from kdir_src.generators.mistral_ai import MistralGenerator\n",
    "KEY = 'jTrxtC1mqMP1Lj9aMg8fvexSh2xDgZC4'\n",
    "generator = MistralGenerator('mistral-small-2503', KEY, 1, 512, 0.0)"
   ]
  },
  {
   "cell_type": "code",
   "execution_count": 18,
   "id": "f6767d30-4f09-49b2-806f-e7a09fcd8c13",
   "metadata": {},
   "outputs": [],
   "source": [
    "# --- PLANTILLA DE PROMPT (NFCorpus - Síntesis Multi-Documento) ---\n",
    "PROMPT_TEMPLATE = \"\"\"\n",
    "Task: Write a single, new, and comprehensive medical article passage that provides a definitive answer to the user's query.\n",
    "\n",
    "- Use the 'Source Documents' provided below as inspiration or incorporate their ideas if they are relevant and helpful.\n",
    "- **Closely match the style of the 'Source Documents'. This includes their approximate length (e.g., a single concise sentence), tone, and overall structure.**\n",
    "- The Generated Document should be logical and maintain a respectful tone.\n",
    "- Your response must ONLY be the text of the final Generated Document, with no introduction or explanation.\n",
    "\n",
    "Query: {query}\n",
    "\n",
    "Source Documents:\n",
    "{reference_docs}\n",
    "\n",
    "Generated Document:\n",
    "\"\"\""
   ]
  },
  {
   "cell_type": "code",
   "execution_count": 19,
   "id": "72caf542-c106-4c49-ab47-c88275ebb35c",
   "metadata": {},
   "outputs": [],
   "source": [
    "def formatear_doc(arg):\n",
    "    contraargumento = f\"{arg.payload['title']}\\n\\n{arg.payload['text']}\\n\\n\"\n",
    "    return contraargumento\n",
    "\n",
    "\n",
    "def formatear_prompt_argumento(\n",
    "    query: str,\n",
    "    reference_docs: list\n",
    ") -> str:\n",
    "    \"\"\"\n",
    "    Formatea el prompt final para generar un contraargumento,\n",
    "    incluyendo un pasaje y una lista de candidatos a evaluar.\n",
    "\n",
    "    Args:\n",
    "        passage (str): El texto principal para el cual se necesita un contraargumento.\n",
    "        candidate_counter_arguments (list[str]): Una lista de \"pseudo-contraargumentos\"\n",
    "                                                   para ser evaluados por el modelo.\n",
    "\n",
    "    Returns:\n",
    "        str: El prompt de texto completo, formateado y listo para ser enviado a un modelo de lenguaje.\n",
    "    \"\"\"\n",
    "    # Formatea la lista de candidatos para que sea legible en el prompt.\n",
    "    if reference_docs:\n",
    "        # Crea una cadena de texto con los argumentos numerados.\n",
    "        formatted_candidates = \"\\n\".join(\n",
    "            [f\"{i+1}. {formatear_doc(arg)}\" for i, arg in enumerate(reference_docs)]\n",
    "        )\n",
    "    else:\n",
    "        # Maneja el caso donde no se proporcionan candidatos.\n",
    "        formatted_candidates = \"None provided.\"\n",
    "\n",
    "    # Rellena la plantilla con la información proporcionada.\n",
    "    final_prompt = PROMPT_TEMPLATE.format(\n",
    "        query=query,\n",
    "        reference_docs=formatted_candidates\n",
    "    )\n",
    "\n",
    "    return final_prompt"
   ]
  },
  {
   "cell_type": "code",
   "execution_count": 6,
   "id": "cb7c7690-c2f7-45c1-855b-fd0fb419f37d",
   "metadata": {},
   "outputs": [
    {
     "name": "stderr",
     "output_type": "stream",
     "text": [
      "/local1/ronaldinho/enviroments/env_kdir/lib/python3.10/site-packages/beir/util.py:11: TqdmExperimentalWarning: Using `tqdm.autonotebook.tqdm` in notebook mode. Use `tqdm.tqdm` instead to force console mode (e.g. in jupyter console)\n",
      "  from tqdm.autonotebook import tqdm\n"
     ]
    },
    {
     "data": {
      "application/vnd.jupyter.widget-view+json": {
       "model_id": "d6ab982710074b4ca8f23230a98d2d66",
       "version_major": 2,
       "version_minor": 0
      },
      "text/plain": [
       "  0%|          | 0/3633 [00:00<?, ?it/s]"
      ]
     },
     "metadata": {},
     "output_type": "display_data"
    },
    {
     "name": "stderr",
     "output_type": "stream",
     "text": [
      "Procesando queries: 100%|███████████████████████████████████████████████████████████████| 323/323 [00:00<00:00, 2693360.22it/s]\n"
     ]
    }
   ],
   "source": [
    "from kdir_src.dataset.beir import get_sentences_queries\n",
    "sentences, queries_ids = get_sentences_queries('nfcorpus')"
   ]
  },
  {
   "cell_type": "code",
   "execution_count": 7,
   "id": "92d1fd60-d883-46e6-a576-e9b2bcef82de",
   "metadata": {},
   "outputs": [
    {
     "data": {
      "text/plain": [
       "'What’s Driving America’s Obesity Problem?'"
      ]
     },
     "execution_count": 7,
     "metadata": {},
     "output_type": "execute_result"
    }
   ],
   "source": [
    "sentences[3]"
   ]
  },
  {
   "cell_type": "code",
   "execution_count": 8,
   "id": "9e89dc33-470a-4fbc-9f8a-4a274f107c97",
   "metadata": {},
   "outputs": [
    {
     "name": "stdout",
     "output_type": "stream",
     "text": [
      "Loading contriever...\n",
      "Loading contriever FT...\n",
      "Loading question dpr...\n"
     ]
    },
    {
     "name": "stderr",
     "output_type": "stream",
     "text": [
      "Some weights of the model checkpoint at facebook/dpr-question_encoder-single-nq-base were not used when initializing DPRQuestionEncoder: ['question_encoder.bert_model.pooler.dense.bias', 'question_encoder.bert_model.pooler.dense.weight']\n",
      "- This IS expected if you are initializing DPRQuestionEncoder from the checkpoint of a model trained on another task or with another architecture (e.g. initializing a BertForSequenceClassification model from a BertForPreTraining model).\n",
      "- This IS NOT expected if you are initializing DPRQuestionEncoder from the checkpoint of a model that you expect to be exactly identical (initializing a BertForSequenceClassification model from a BertForSequenceClassification model).\n",
      "The tokenizer class you load from this checkpoint is not the same type as the class this function is called from. It may result in unexpected tokenization. \n",
      "The tokenizer class you load from this checkpoint is 'DPRQuestionEncoderTokenizer'. \n",
      "The class this function is called from is 'DPRContextEncoderTokenizer'.\n"
     ]
    },
    {
     "name": "stdout",
     "output_type": "stream",
     "text": [
      "Loading context dpr...\n"
     ]
    },
    {
     "name": "stderr",
     "output_type": "stream",
     "text": [
      "Some weights of the model checkpoint at facebook/dpr-ctx_encoder-single-nq-base were not used when initializing DPRContextEncoder: ['ctx_encoder.bert_model.pooler.dense.bias', 'ctx_encoder.bert_model.pooler.dense.weight']\n",
      "- This IS expected if you are initializing DPRContextEncoder from the checkpoint of a model trained on another task or with another architecture (e.g. initializing a BertForSequenceClassification model from a BertForPreTraining model).\n",
      "- This IS NOT expected if you are initializing DPRContextEncoder from the checkpoint of a model that you expect to be exactly identical (initializing a BertForSequenceClassification model from a BertForSequenceClassification model).\n"
     ]
    },
    {
     "name": "stdout",
     "output_type": "stream",
     "text": [
      "Loading bge large...\n",
      "Loading gte large...\n",
      "Loading bm25...\n"
     ]
    },
    {
     "name": "stderr",
     "output_type": "stream",
     "text": [
      "Procesando contriever...: 100%|███████████████████████████████████████████████████████████████| 1/1 [00:00<00:00,  2.64batch/s]\n",
      "Procesando contriever...: 100%|██████████████████████████████████████████████████████████████| 1/1 [00:00<00:00, 149.60batch/s]\n",
      "Procesando dpr...: 100%|█████████████████████████████████████████████████████████████████████| 1/1 [00:00<00:00, 131.03batch/s]\n"
     ]
    },
    {
     "data": {
      "application/vnd.jupyter.widget-view+json": {
       "model_id": "55d68f8bae0b427abdeab6438d4131ec",
       "version_major": 2,
       "version_minor": 0
      },
      "text/plain": [
       "Batches:   0%|          | 0/1 [00:00<?, ?it/s]"
      ]
     },
     "metadata": {},
     "output_type": "display_data"
    },
    {
     "data": {
      "application/vnd.jupyter.widget-view+json": {
       "model_id": "91d2037cc4ee4fa19c91821e9faf65ff",
       "version_major": 2,
       "version_minor": 0
      },
      "text/plain": [
       "Batches:   0%|          | 0/1 [00:00<?, ?it/s]"
      ]
     },
     "metadata": {},
     "output_type": "display_data"
    },
    {
     "name": "stdout",
     "output_type": "stream",
     "text": [
      "Procesando BM25 embeddings\n",
      "Embeddings finalizado\n"
     ]
    }
   ],
   "source": [
    "from kdir_src.models.all_models import get_query_embeddings\n",
    "from kdir_src.models.all_models import load_models\n",
    "encoder_models = load_models()\n",
    "c_emb_list = get_query_embeddings(encoder_models, [sentences[3]],1,True)"
   ]
  },
  {
   "cell_type": "code",
   "execution_count": 9,
   "id": "5a9ee407-2486-431a-baf8-a914ce55658d",
   "metadata": {},
   "outputs": [],
   "source": [
    "from kdir_src.utils.qdrant import recuperar_documentos\n",
    "collection_name= f\"kdir_nfcorpus\"\n",
    "rel_docs = recuperar_documentos(collection_name, c_emb_list[0][0].tolist(), 'contriever', 5)"
   ]
  },
  {
   "cell_type": "code",
   "execution_count": 20,
   "id": "8ed4c357-1042-4790-9cb1-574abd5fb5f6",
   "metadata": {},
   "outputs": [
    {
     "name": "stdout",
     "output_type": "stream",
     "text": [
      "\n",
      "Task: Write a single, new, and comprehensive medical article passage that provides a definitive answer to the user's query.\n",
      "\n",
      "- Use the 'Source Documents' provided below as inspiration or incorporate their ideas if they are relevant and helpful.\n",
      "- **Closely match the style of the 'Source Documents'. This includes their approximate length (e.g., a single concise sentence), tone, and overall structure.**\n",
      "- The Generated Document should be logical and maintain a respectful tone.\n",
      "- Your response must ONLY be the text of the final Generated Document, with no introduction or explanation.\n",
      "\n",
      "Query: What’s Driving America’s Obesity Problem?\n",
      "\n",
      "Source Documents:\n",
      "1. Agricultural policies, food and public health\n",
      "\n",
      "A historical view on how our agricultural systems evolved and how they are contributing to obesity and disease.\n",
      "\n",
      "\n",
      "2. Tobacco and obesity epidemics: not so different after all?\n",
      "\n",
      "Short abstract Campaigns to promote healthy eating are undermined by the ubiquity of processed, energy dense foods. A global strategy is now needed to tackle the rising prevalence of obesity\n",
      "\n",
      "\n",
      "3. Implications from addiction research towards the understanding and treatment of obesity.\n",
      "\n",
      "Recent research indicates similarities between obesity and addictive disorders on both the phenomenological and neurobiological level. In particular, neuroendocrine and imaging studies suggest a close link between the homeostatic regulation of appetite on the on hand, and motivation and reward expectancy on the other. In addition, findings from neuropsychological studies additionally demonstrate alterations of cognitive function in both obesity and addictive disorders that possibly contribute to a lack of control in resisting consumption. In this review, recent findings on overlapping neurobiological and phenomenological pathways are summarized and the impact with regard to new treatment approaches for obesity is discussed. © 2011 The Authors, Addiction Biology © 2011 Society for the Study of Addiction.\n",
      "\n",
      "\n",
      "4. The glycemic index: physiological mechanisms relating to obesity, diabetes, and cardiovascular disease.\n",
      "\n",
      "The glycemic index was proposed in 1981 as an alternative system for classifying carbohydrate-containing food. Since then, several hundred scientific articles and numerous popular diet books have been published on the topic. However, the clinical significance of the glycemic index remains the subject of debate. The purpose of this review is to examine the physiological effects of the glycemic index and the relevance of these effects in preventing and treating obesity, diabetes, and cardiovascular disease.\n",
      "\n",
      "\n",
      "5. Nutraceutical supplements for weight loss: a systematic review.\n",
      "\n",
      "Obesity is a global public health issue. Although the etiology of this global epidemic is multifactorial, most sufferers would be delighted to find a relatively effortless way to lose weight. Herbal \"weight loss pills\" can fit the bill. The authors systematically review the scientific evidence concerning various weight loss agents that are available over the counter or in food stores. The review provides a starting point to make informed choices among nutraceutical agents promoted for weight loss, as well as advice for incorporating healthy alternatives in the diet.\n",
      "\n",
      "\n",
      "\n",
      "Generated Document:\n",
      "\n"
     ]
    }
   ],
   "source": [
    "formateado=formatear_prompt_argumento(sentences[3],rel_docs)\n",
    "print(formateado)"
   ]
  },
  {
   "cell_type": "code",
   "execution_count": 21,
   "id": "78afc928-91b1-4bb2-bdf8-d8ad91e59592",
   "metadata": {},
   "outputs": [
    {
     "name": "stdout",
     "output_type": "stream",
     "text": [
      "America's obesity problem is driven by a complex interplay of factors rooted in agricultural policies, food availability, and neurobiological responses to food. Historically, agricultural policies have prioritized the production of calorie-dense, processed foods, which are now ubiquitous in the American diet. These foods, often high in sugar and unhealthy fats, are designed to be highly palatable and rewarding, triggering neurobiological pathways similar to those activated by addictive substances. This creates a cycle of overconsumption and difficulty in resisting unhealthy food choices, akin to addictive behaviors. Moreover, the glycemic index of these foods can exacerbate issues related to obesity, diabetes, and cardiovascular disease, further complicating public health efforts. Campaigns promoting healthy eating are often undermined by the pervasive availability of these processed, energy-dense foods, necessitating a global strategy to address the rising prevalence of obesity. While nutraceutical supplements and herbal weight loss pills may offer short-term solutions, sustainable weight management requires a comprehensive approach that includes policy changes, public health initiatives, and a deeper understanding of the neurobiological underpinnings of food addiction.\n"
     ]
    }
   ],
   "source": [
    "ans=generator.generate(formateado)\n",
    "print(ans[0])"
   ]
  },
  {
   "cell_type": "code",
   "execution_count": null,
   "id": "1db023ce-b251-4801-a8c6-696b8e317e60",
   "metadata": {},
   "outputs": [],
   "source": []
  },
  {
   "cell_type": "code",
   "execution_count": 5,
   "id": "d6954c8f-0e43-4d42-aa9d-8008f7c9fd4f",
   "metadata": {},
   "outputs": [],
   "source": [
    "collection_name= f\"kdir_{dataset_name}\"\n",
    "rel_docs = recuperar_documentos(collection_name, c_emb_list[0][0].tolist(), 'contriever', 5)\n",
    "prompts = promptot.get_prompt(sentences[3], rel_docs)"
   ]
  },
  {
   "cell_type": "code",
   "execution_count": 6,
   "id": "5cbf9262-6924-4405-ad18-485f774d0809",
   "metadata": {},
   "outputs": [
    {
     "name": "stdout",
     "output_type": "stream",
     "text": [
      "America's obesity problem is driven by a complex interplay of factors rooted in agricultural policies, food availability, and neurobiological responses to food. Historically, agricultural policies have prioritized the production of high-calorie, energy-dense foods, which are now ubiquitous in the American diet. These processed foods, often high in sugar and unhealthy fats, are designed to be highly palatable and readily available, undermining efforts to promote healthy eating. The ubiquity of such foods creates an environment where making healthier choices is challenging, much like the challenges faced in reducing tobacco use. Moreover, recent research suggests that obesity shares similarities with addictive disorders, both in terms of neurobiological mechanisms and cognitive functions. Neuroendocrine and imaging studies indicate a close link between the regulation of appetite and the brain's reward systems, which can lead to a lack of control in resisting consumption. Additionally, the glycemic index of foods plays a role in how the body processes carbohydrates, influencing obesity, diabetes, and cardiovascular disease. While nutraceutical supplements and herbal weight loss pills are often sought as effortless solutions, their effectiveness remains debated, and they should not replace a balanced diet and healthy lifestyle. Addressing America's obesity problem requires a comprehensive strategy that includes policy changes, public health campaigns, and a deeper understanding of the neurobiological underpinnings of food addiction.\n"
     ]
    }
   ],
   "source": [
    "ans1 = generator.generate(prompts[0])\n",
    "print(ans1[0])"
   ]
  },
  {
   "cell_type": "code",
   "execution_count": 7,
   "id": "5d74b148-4b43-4bd7-86ba-22bf0f1d685d",
   "metadata": {},
   "outputs": [
    {
     "name": "stdout",
     "output_type": "stream",
     "text": [
      "How do agricultural policies and the prevalence of processed, energy-dense foods contribute to the obesity epidemic in America, and what role do addictive behaviors and the glycemic index play in this context? Additionally, what are the potential benefits and limitations of nutraceutical supplements in addressing obesity?\n"
     ]
    }
   ],
   "source": [
    "ans2 = generator.generate(prompts[1])\n",
    "print(ans2[0])"
   ]
  },
  {
   "cell_type": "code",
   "execution_count": 8,
   "id": "27d2a27b-f41a-4f15-8ff2-bb61d22e8645",
   "metadata": {},
   "outputs": [
    {
     "name": "stdout",
     "output_type": "stream",
     "text": [
      "America's obesity problem is driven by a combination of several key factors:\n",
      "\n",
      "1. **Agricultural Policies and Food Systems**: Historical agricultural policies have favored the production of cheap, calorie-dense foods, which are often high in sugar and unhealthy fats. These foods are widely available and heavily marketed, making it easier for people to consume more calories than they need.\n",
      "\n",
      "2. **Processed, Energy-Dense Foods**: The ubiquity of processed, energy-dense foods undermines efforts to promote healthy eating. These foods are designed to be highly palatable and convenient, leading to overconsumption.\n",
      "\n",
      "3. **Addictive Properties of Food**: Research suggests that obesity shares similarities with addictive disorders. The neurobiological and cognitive mechanisms involved in obesity can make it difficult for individuals to resist consuming high-calorie foods, contributing to a lack of control over eating habits.\n",
      "\n",
      "4. **Glycemic Index and Dietary Choices**: The glycemic index of foods can influence obesity, diabetes, and cardiovascular disease. Foods with a high glycemic index can lead to rapid spikes in blood sugar, which may contribute to weight gain and related health issues.\n",
      "\n",
      "5. **Public Health and Marketing**: Campaigns to promote healthy eating are often overshadowed by the pervasive marketing of unhealthy foods. A global strategy is needed to address the rising prevalence of obesity effectively.\n",
      "\n",
      "Addressing these factors requires a multifaceted approach, including policy changes, public health initiatives, and individual efforts to make healthier dietary choices.\n"
     ]
    }
   ],
   "source": [
    "ans3 = generator.generate(prompts[2])\n",
    "print(ans3[0])"
   ]
  },
  {
   "cell_type": "markdown",
   "id": "7b5eb423-6f0f-404c-be96-1e81ea5c45c5",
   "metadata": {
    "jp-MarkdownHeadingCollapsed": true
   },
   "source": [
    "## FIQA"
   ]
  },
  {
   "cell_type": "code",
   "execution_count": 11,
   "id": "e1976e9a-af67-49b6-9117-8850075728eb",
   "metadata": {},
   "outputs": [],
   "source": [
    "from kdir_src.fire.promptor_fire import Promptor_fire\n",
    "from kdir_src.dataset.beir import get_sentences_queries\n",
    "from kdir_src.models.all_models import get_query_embeddings\n",
    "from kdir_src.models.all_models import load_models\n",
    "from kdir_src.utils.qdrant import recuperar_documentos\n",
    "from kdir_src.generators.mistral_ai import MistralGenerator"
   ]
  },
  {
   "cell_type": "code",
   "execution_count": 15,
   "id": "c2a428f5-ed70-47bd-a046-6924dce67f08",
   "metadata": {},
   "outputs": [
    {
     "data": {
      "application/vnd.jupyter.widget-view+json": {
       "model_id": "b4e7bcee6582411ab1d00c9e9bcdd3fb",
       "version_major": 2,
       "version_minor": 0
      },
      "text/plain": [
       "  0%|          | 0/57638 [00:00<?, ?it/s]"
      ]
     },
     "metadata": {},
     "output_type": "display_data"
    },
    {
     "name": "stderr",
     "output_type": "stream",
     "text": [
      "Procesando queries: 100%|███████████████████████████████████████████████████████████████| 648/648 [00:00<00:00, 3393144.81it/s]\n"
     ]
    }
   ],
   "source": [
    "dataset_name='fiqa'\n",
    "promptot = Promptor_fire(dataset_name)\n",
    "sentences, queries_ids = get_sentences_queries(dataset_name)\n",
    "#encoder_models = load_models()\n",
    "KEY = 'jTrxtC1mqMP1Lj9aMg8fvexSh2xDgZC4'\n",
    "generator = MistralGenerator('mistral-small-2503', KEY, 1, 512, 0.0)"
   ]
  },
  {
   "cell_type": "code",
   "execution_count": 26,
   "id": "23986942-7c8c-41f7-8df1-680568977b71",
   "metadata": {},
   "outputs": [
    {
     "name": "stderr",
     "output_type": "stream",
     "text": [
      "Procesando contriever...: 100%|███████████████████████████████████████████████████████████████| 1/1 [00:00<00:00, 94.58batch/s]\n",
      "Procesando contriever...: 100%|██████████████████████████████████████████████████████████████| 1/1 [00:00<00:00, 156.67batch/s]\n",
      "Procesando dpr...: 100%|█████████████████████████████████████████████████████████████████████| 1/1 [00:00<00:00, 143.80batch/s]\n"
     ]
    },
    {
     "data": {
      "application/vnd.jupyter.widget-view+json": {
       "model_id": "3f5c1b595a0548499fe5966c22fd6528",
       "version_major": 2,
       "version_minor": 0
      },
      "text/plain": [
       "Batches:   0%|          | 0/1 [00:00<?, ?it/s]"
      ]
     },
     "metadata": {},
     "output_type": "display_data"
    },
    {
     "data": {
      "application/vnd.jupyter.widget-view+json": {
       "model_id": "86907c42d262449bba962b9d986ff4b2",
       "version_major": 2,
       "version_minor": 0
      },
      "text/plain": [
       "Batches:   0%|          | 0/1 [00:00<?, ?it/s]"
      ]
     },
     "metadata": {},
     "output_type": "display_data"
    },
    {
     "name": "stdout",
     "output_type": "stream",
     "text": [
      "Procesando BM25 embeddings\n",
      "Embeddings finalizado\n"
     ]
    }
   ],
   "source": [
    "c_emb_list = get_query_embeddings(encoder_models, [sentences[4]],1,True)\n",
    "collection_name= f\"kdir_{dataset_name}\"\n",
    "rel_docs = recuperar_documentos(collection_name, c_emb_list[0][0].tolist(), 'contriever', 5)\n",
    "prompts = promptot.get_prompt(sentences[4], rel_docs)"
   ]
  },
  {
   "cell_type": "code",
   "execution_count": 27,
   "id": "23507b6f-aff9-411b-8505-39c0449d91d4",
   "metadata": {},
   "outputs": [
    {
     "name": "stdout",
     "output_type": "stream",
     "text": [
      "When a business closes, managing your 401(k) becomes a critical task. Unlike changing jobs, where rolling over to an Individual Retirement Account (IRA) is often the best remedy, closing a business presents unique challenges. Typically, you cannot roll funds from a 401(k) while still employed with the company, but since the business is closing, you are effectively separated from service, allowing you to initiate a rollover. This process can help you avoid the pitfalls of 401(k) choices, which are often limited and less flexible than IRA options. When you roll over your 401(k) to an IRA, you gain more control over your investments and can potentially benefit from a wider range of investment options. It's important to note that all distributions from a regular (non-Roth) 401(k) are considered regular income and are includible in taxable income at retirement, except for qualified distributions from designated Roth accounts. Therefore, consulting with a financial advisor to understand the tax implications and to ensure a smooth transition is advisable. Additionally, if you were self-employed, you might have had a self-employed 401(k), which allows for significant contributions, including both personal and profit-sharing/matching portions, up to $50,000 annually. Ensuring that all employees are treated equally in terms of matching contributions is crucial, as 401(k) plans must not be discriminatory.\n"
     ]
    }
   ],
   "source": [
    "ans1 = generator.generate(prompts[0])\n",
    "print(ans1[0])"
   ]
  },
  {
   "cell_type": "code",
   "execution_count": 28,
   "id": "54a8d1f0-9301-4d1e-b91f-2d77b763ad24",
   "metadata": {},
   "outputs": [
    {
     "name": "stdout",
     "output_type": "stream",
     "text": [
      "What are the specific tax implications and rollover options for a 401(k) plan when a business closes, and how do these options compare to the rollover process when changing jobs or retiring, particularly in terms of the timing and tax treatment of distributions?\n"
     ]
    }
   ],
   "source": [
    "ans2 = generator.generate(prompts[1])\n",
    "print(ans2[0])"
   ]
  },
  {
   "cell_type": "code",
   "execution_count": 29,
   "id": "02078737-7c8d-43ff-8b92-61f506950f9b",
   "metadata": {},
   "outputs": [
    {
     "name": "stdout",
     "output_type": "stream",
     "text": [
      "If your business closes, you can transfer your 401(k) funds to an Individual Retirement Account (IRA) without incurring taxes or penalties, provided you follow the rollover rules. This is often recommended because IRAs typically offer a wider range of investment options compared to 401(k) plans. Alternatively, if you start a new business, you could open a self-employed 401(k) and roll your funds into it, allowing you to contribute up to $50,000 annually, including personal contributions and profit-sharing/matching portions. Ensure you consult with a financial advisor to understand the specific rules and benefits applicable to your situation.\n"
     ]
    }
   ],
   "source": [
    "ans3 = generator.generate(prompts[2])\n",
    "print(ans3[0])"
   ]
  },
  {
   "cell_type": "markdown",
   "id": "9e0b33a3-1c21-4d65-bc4e-39680471f717",
   "metadata": {
    "jp-MarkdownHeadingCollapsed": true
   },
   "source": [
    "## scidocs"
   ]
  },
  {
   "cell_type": "code",
   "execution_count": 31,
   "id": "484022e8-3215-46c8-a0ea-d651f5b1ba3b",
   "metadata": {},
   "outputs": [],
   "source": [
    "from kdir_src.fire.promptor_fire import Promptor_fire\n",
    "from kdir_src.dataset.beir import get_sentences_queries\n",
    "from kdir_src.models.all_models import get_query_embeddings\n",
    "from kdir_src.models.all_models import load_models\n",
    "from kdir_src.utils.qdrant import recuperar_documentos\n",
    "from kdir_src.generators.mistral_ai import MistralGenerator"
   ]
  },
  {
   "cell_type": "code",
   "execution_count": 32,
   "id": "c029c247-db02-4ca0-8392-c102d8226af9",
   "metadata": {},
   "outputs": [
    {
     "data": {
      "application/vnd.jupyter.widget-view+json": {
       "model_id": "a00508a3468041bebd0a1c7a464931b5",
       "version_major": 2,
       "version_minor": 0
      },
      "text/plain": [
       "  0%|          | 0/25657 [00:00<?, ?it/s]"
      ]
     },
     "metadata": {},
     "output_type": "display_data"
    },
    {
     "name": "stderr",
     "output_type": "stream",
     "text": [
      "Procesando queries: 100%|█████████████████████████████████████████████████████████████| 1000/1000 [00:00<00:00, 1440351.65it/s]\n"
     ]
    }
   ],
   "source": [
    "dataset_name='scidocs'\n",
    "promptot = Promptor_fire(dataset_name)\n",
    "sentences, queries_ids = get_sentences_queries(dataset_name)\n",
    "#encoder_models = load_models()\n",
    "KEY = 'jTrxtC1mqMP1Lj9aMg8fvexSh2xDgZC4'\n",
    "generator = MistralGenerator('mistral-small-2503', KEY, 1, 512, 0.0)"
   ]
  },
  {
   "cell_type": "code",
   "execution_count": 33,
   "id": "3fcd1dda-84a1-436f-bcd9-bfc13ad4ef64",
   "metadata": {},
   "outputs": [
    {
     "name": "stderr",
     "output_type": "stream",
     "text": [
      "Procesando contriever...: 100%|███████████████████████████████████████████████████████████████| 1/1 [00:00<00:00, 65.35batch/s]\n",
      "Procesando contriever...: 100%|███████████████████████████████████████████████████████████████| 1/1 [00:00<00:00, 88.56batch/s]\n",
      "Procesando dpr...: 100%|█████████████████████████████████████████████████████████████████████| 1/1 [00:00<00:00, 158.16batch/s]\n"
     ]
    },
    {
     "data": {
      "application/vnd.jupyter.widget-view+json": {
       "model_id": "57dbad4e3c7e4385a9b9e084681a9d75",
       "version_major": 2,
       "version_minor": 0
      },
      "text/plain": [
       "Batches:   0%|          | 0/1 [00:00<?, ?it/s]"
      ]
     },
     "metadata": {},
     "output_type": "display_data"
    },
    {
     "data": {
      "application/vnd.jupyter.widget-view+json": {
       "model_id": "4db6443bdefc458f8ee036c2f0453bd1",
       "version_major": 2,
       "version_minor": 0
      },
      "text/plain": [
       "Batches:   0%|          | 0/1 [00:00<?, ?it/s]"
      ]
     },
     "metadata": {},
     "output_type": "display_data"
    },
    {
     "name": "stdout",
     "output_type": "stream",
     "text": [
      "Procesando BM25 embeddings\n",
      "Embeddings finalizado\n"
     ]
    }
   ],
   "source": [
    "c_emb_list = get_query_embeddings(encoder_models, [sentences[4]],1,True)\n",
    "collection_name= f\"kdir_{dataset_name}\"\n",
    "rel_docs = recuperar_documentos(collection_name, c_emb_list[0][0].tolist(), 'contriever', 5)\n",
    "prompts = promptot.get_prompt(sentences[4], rel_docs)"
   ]
  },
  {
   "cell_type": "code",
   "execution_count": 35,
   "id": "92b5c919-1c8a-44fd-b116-b70eb6f9e45b",
   "metadata": {},
   "outputs": [
    {
     "name": "stdout",
     "output_type": "stream",
     "text": [
      "Ad hoc retrieval experiments using WordNet and automatically constructed thesauri present a promising avenue for enhancing information retrieval systems. While traditional thesauri have shown inconsistent benefits and are challenging to construct automatically for large text databases, methods like PhraseFinder offer a viable solution by generating collection-dependent association thesauri from full-text document collections. These thesauri can be integrated into systems like INQUERY, which supports natural language queries, to evaluate and compare different types of association thesauri across various collections. Additionally, algorithmic approaches such as symbolic branch-and-bound search and connectionist Hopfield net activation provide efficient means for concept exploration in large, heterogeneous knowledge networks. These algorithms, tested on extensive text-based networks, demonstrate comparable performance to manual browsing but with significantly reduced effort. Concept-based retrieval methods, including Explicit Semantic Analysis (ESA), further augment keyword-based retrieval by incorporating comprehensive human knowledge repositories, leading to superior retrieval performance. Moreover, the automatic construction of thesauri using distributional patterns and statistical clustering methods has shown substantial improvements in retrieval effectiveness, validating the potential of these approaches in practical applications.\n"
     ]
    }
   ],
   "source": [
    "ans1 = generator.generate(prompts[0])\n",
    "print(ans1[0])"
   ]
  },
  {
   "cell_type": "code",
   "execution_count": 36,
   "id": "4b9692a1-e970-478d-9821-3936b51bc11f",
   "metadata": {},
   "outputs": [
    {
     "name": "stdout",
     "output_type": "stream",
     "text": [
      "\"Comparative Analysis of Automatic Thesaurus Construction Methods for Enhancing Ad Hoc Retrieval Performance in Large Text Databases\"\n"
     ]
    }
   ],
   "source": [
    "ans2 = generator.generate(prompts[1])\n",
    "print(ans2[0])"
   ]
  },
  {
   "cell_type": "code",
   "execution_count": 38,
   "id": "6a9d1d7a-8f46-49dd-9225-c9044bb15c67",
   "metadata": {},
   "outputs": [
    {
     "name": "stdout",
     "output_type": "stream",
     "text": [
      "Ad hoc retrieval experiments using WordNet and automatically constructed thesauri aim to enhance information retrieval systems by leveraging semantic relationships between terms. Traditional keyword-based retrieval methods often fall short due to variations in terminology and the need for comprehensive human knowledge. Concept-based retrieval approaches, such as those using Explicit Semantic Analysis (ESA) and automatically constructed thesauri, address these issues by augmenting text representation with concept-based features. Techniques like PhraseFinder and statistical clustering methods have been developed to automatically generate thesauri from large text collections, improving retrieval effectiveness. Algorithmic approaches, including symbolic branch-and-bound search and neural network-based methods, facilitate efficient traversal of large, heterogeneous knowledge networks. These methods have shown comparable or superior performance to manual browsing, reducing cognitive load and effort. Overall, the integration of WordNet and automatically constructed thesauri in retrieval experiments demonstrates significant potential for improving the accuracy and efficiency of information retrieval systems.\n"
     ]
    }
   ],
   "source": [
    "ans3 = generator.generate(prompts[2])\n",
    "print(ans3[0])"
   ]
  },
  {
   "cell_type": "markdown",
   "id": "ed179f21-165b-46b1-89a0-e56e9918bc07",
   "metadata": {},
   "source": [
    "## scifact"
   ]
  },
  {
   "cell_type": "code",
   "execution_count": 1,
   "id": "137a14f0-2e43-4061-9ba3-5c8b59a35989",
   "metadata": {},
   "outputs": [
    {
     "name": "stderr",
     "output_type": "stream",
     "text": [
      "/local1/ronaldinho/enviroments/env_kdir/lib/python3.10/site-packages/beir/util.py:11: TqdmExperimentalWarning: Using `tqdm.autonotebook.tqdm` in notebook mode. Use `tqdm.tqdm` instead to force console mode (e.g. in jupyter console)\n",
      "  from tqdm.autonotebook import tqdm\n"
     ]
    }
   ],
   "source": [
    "from kdir_src.fire.promptor_fire import Promptor_fire\n",
    "from kdir_src.dataset.beir import get_sentences_queries\n",
    "from kdir_src.models.all_models import get_query_embeddings\n",
    "from kdir_src.models.all_models import load_models\n",
    "from kdir_src.utils.qdrant import recuperar_documentos\n",
    "from kdir_src.generators.mistral_ai import MistralGenerator"
   ]
  },
  {
   "cell_type": "code",
   "execution_count": 2,
   "id": "f829826a-933d-46cc-95e4-0aca62e03cce",
   "metadata": {},
   "outputs": [
    {
     "data": {
      "application/vnd.jupyter.widget-view+json": {
       "model_id": "adac679b705a4971a14d13a852c4fbdb",
       "version_major": 2,
       "version_minor": 0
      },
      "text/plain": [
       "  0%|          | 0/5183 [00:00<?, ?it/s]"
      ]
     },
     "metadata": {},
     "output_type": "display_data"
    },
    {
     "name": "stderr",
     "output_type": "stream",
     "text": [
      "Procesando queries: 100%|███████████████████████████████████████████████████████████████| 300/300 [00:00<00:00, 2953735.21it/s]\n"
     ]
    },
    {
     "name": "stdout",
     "output_type": "stream",
     "text": [
      "Loading contriever...\n",
      "Loading contriever FT...\n",
      "Loading question dpr...\n"
     ]
    },
    {
     "name": "stderr",
     "output_type": "stream",
     "text": [
      "Some weights of the model checkpoint at facebook/dpr-question_encoder-single-nq-base were not used when initializing DPRQuestionEncoder: ['question_encoder.bert_model.pooler.dense.bias', 'question_encoder.bert_model.pooler.dense.weight']\n",
      "- This IS expected if you are initializing DPRQuestionEncoder from the checkpoint of a model trained on another task or with another architecture (e.g. initializing a BertForSequenceClassification model from a BertForPreTraining model).\n",
      "- This IS NOT expected if you are initializing DPRQuestionEncoder from the checkpoint of a model that you expect to be exactly identical (initializing a BertForSequenceClassification model from a BertForSequenceClassification model).\n",
      "The tokenizer class you load from this checkpoint is not the same type as the class this function is called from. It may result in unexpected tokenization. \n",
      "The tokenizer class you load from this checkpoint is 'DPRQuestionEncoderTokenizer'. \n",
      "The class this function is called from is 'DPRContextEncoderTokenizer'.\n"
     ]
    },
    {
     "name": "stdout",
     "output_type": "stream",
     "text": [
      "Loading context dpr...\n"
     ]
    },
    {
     "name": "stderr",
     "output_type": "stream",
     "text": [
      "Some weights of the model checkpoint at facebook/dpr-ctx_encoder-single-nq-base were not used when initializing DPRContextEncoder: ['ctx_encoder.bert_model.pooler.dense.bias', 'ctx_encoder.bert_model.pooler.dense.weight']\n",
      "- This IS expected if you are initializing DPRContextEncoder from the checkpoint of a model trained on another task or with another architecture (e.g. initializing a BertForSequenceClassification model from a BertForPreTraining model).\n",
      "- This IS NOT expected if you are initializing DPRContextEncoder from the checkpoint of a model that you expect to be exactly identical (initializing a BertForSequenceClassification model from a BertForSequenceClassification model).\n"
     ]
    },
    {
     "name": "stdout",
     "output_type": "stream",
     "text": [
      "Loading bge large...\n",
      "Loading gte large...\n",
      "Loading bm25...\n"
     ]
    }
   ],
   "source": [
    "dataset_name='scifact'\n",
    "promptot = Promptor_fire(dataset_name)\n",
    "sentences, queries_ids = get_sentences_queries(dataset_name)\n",
    "encoder_models = load_models()\n",
    "KEY = 'jTrxtC1mqMP1Lj9aMg8fvexSh2xDgZC4'\n",
    "generator = MistralGenerator('mistral-small-2503', KEY, 1, 512, 0.0)"
   ]
  },
  {
   "cell_type": "code",
   "execution_count": 3,
   "id": "c6447ffb-ee3a-441b-9bd2-9c76a893af39",
   "metadata": {},
   "outputs": [
    {
     "name": "stderr",
     "output_type": "stream",
     "text": [
      "Procesando contriever...: 100%|███████████████████████████████████████████████████████████████| 1/1 [00:00<00:00,  2.72batch/s]\n",
      "Procesando contriever...: 100%|██████████████████████████████████████████████████████████████| 1/1 [00:00<00:00, 147.50batch/s]\n",
      "Procesando dpr...: 100%|█████████████████████████████████████████████████████████████████████| 1/1 [00:00<00:00, 145.10batch/s]\n"
     ]
    },
    {
     "data": {
      "application/vnd.jupyter.widget-view+json": {
       "model_id": "4f871232e44d40c68a4becfb573eac05",
       "version_major": 2,
       "version_minor": 0
      },
      "text/plain": [
       "Batches:   0%|          | 0/1 [00:00<?, ?it/s]"
      ]
     },
     "metadata": {},
     "output_type": "display_data"
    },
    {
     "data": {
      "application/vnd.jupyter.widget-view+json": {
       "model_id": "eb6c75e2c8084abbb6a4f67e8c4e7610",
       "version_major": 2,
       "version_minor": 0
      },
      "text/plain": [
       "Batches:   0%|          | 0/1 [00:00<?, ?it/s]"
      ]
     },
     "metadata": {},
     "output_type": "display_data"
    },
    {
     "name": "stdout",
     "output_type": "stream",
     "text": [
      "Procesando BM25 embeddings\n",
      "Embeddings finalizado\n"
     ]
    }
   ],
   "source": [
    "c_emb_list = get_query_embeddings(encoder_models, [sentences[4]],1,True)\n",
    "collection_name= f\"kdir_{dataset_name}\"\n",
    "rel_docs = recuperar_documentos(collection_name, c_emb_list[0][0].tolist(), 'contriever', 5)\n",
    "prompts = promptot.get_prompt(sentences[4], rel_docs)"
   ]
  },
  {
   "cell_type": "code",
   "execution_count": 4,
   "id": "3febc108-c30f-41cf-80fe-b96660f7fe8c",
   "metadata": {},
   "outputs": [
    {
     "name": "stdout",
     "output_type": "stream",
     "text": [
      "A deficiency of vitamin B12 is well-documented to increase blood levels of homocysteine, a condition known as hyperhomocysteinemia. This relationship is supported by the understanding that vitamin B12, along with folic acid, plays a crucial role in the metabolism of homocysteine. Specifically, vitamin B12 is essential for the conversion of homocysteine to methionine, a process that is impaired in the absence of adequate B12 levels. Consequently, elevated homocysteine levels are often observed in individuals with vitamin B12 deficiency, highlighting the critical interplay between these nutrients in maintaining homocysteine homeostasis. This biochemical interaction underscores the importance of ensuring sufficient vitamin B12 intake to prevent the adverse cardiovascular and vascular outcomes associated with elevated homocysteine levels.\n"
     ]
    }
   ],
   "source": [
    "ans1 = generator.generate(prompts[0])\n",
    "print(ans1[0])"
   ]
  },
  {
   "cell_type": "code",
   "execution_count": 5,
   "id": "b3a12be0-bbda-45f5-913b-3b2bfc83490d",
   "metadata": {},
   "outputs": [
    {
     "name": "stdout",
     "output_type": "stream",
     "text": [
      "\"Does vitamin B12 supplementation independently affect blood homocysteine levels in individuals with normal folic acid intake, and if so, to what extent?\"\n"
     ]
    }
   ],
   "source": [
    "ans2 = generator.generate(prompts[1])\n",
    "print(ans2[0])"
   ]
  },
  {
   "cell_type": "code",
   "execution_count": 6,
   "id": "2551598c-06cd-477a-9823-9e98454a717e",
   "metadata": {},
   "outputs": [
    {
     "name": "stdout",
     "output_type": "stream",
     "text": [
      "The claim that \"A deficiency of vitamin B12 increases blood levels of homocysteine\" is supported by the information provided in the source documents, albeit indirectly. While the documents primarily focus on the role of folic acid in reducing homocysteine levels, they also imply the interconnectedness of B vitamins in homocysteine metabolism.\n",
      "\n",
      "Document 2 mentions that \"Higher doses of folic acid and cyanocobalamin (vitamin B12) supplements may be required in some patients\" to manage hyperhomocysteinemia. This suggests that vitamin B12 plays a role in homocysteine metabolism. Document 4 explicitly states that \"Folate and vitamin B12 are two vital regulators in the metabolic process of homocysteine.\" This indicates that a deficiency in vitamin B12, similar to a deficiency in folate, can disrupt the normal metabolism of homocysteine, leading to increased blood levels.\n",
      "\n",
      "Therefore, based on the information provided, it is logical to conclude that a deficiency of vitamin B12 can indeed increase blood levels of homocysteine.\n"
     ]
    }
   ],
   "source": [
    "ans3 = generator.generate(prompts[2])\n",
    "print(ans3[0])"
   ]
  }
 ],
 "metadata": {
  "kernelspec": {
   "display_name": "Python 3 (ipykernel)",
   "language": "python",
   "name": "python3"
  },
  "language_info": {
   "codemirror_mode": {
    "name": "ipython",
    "version": 3
   },
   "file_extension": ".py",
   "mimetype": "text/x-python",
   "name": "python",
   "nbconvert_exporter": "python",
   "pygments_lexer": "ipython3",
   "version": "3.10.14"
  }
 },
 "nbformat": 4,
 "nbformat_minor": 5
}
