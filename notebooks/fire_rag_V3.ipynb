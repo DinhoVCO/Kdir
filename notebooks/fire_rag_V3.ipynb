{
 "cells": [
  {
   "cell_type": "markdown",
   "id": "f9e44147-65d5-45ee-a240-22075622eede",
   "metadata": {
    "jp-MarkdownHeadingCollapsed": true
   },
   "source": [
    "## fiqa"
   ]
  },
  {
   "cell_type": "code",
   "execution_count": 1,
   "id": "df8ddb35-54bc-47ce-9649-41fa554d63ef",
   "metadata": {},
   "outputs": [
    {
     "name": "stderr",
     "output_type": "stream",
     "text": [
      "/local1/ronaldinho/enviroments/env_kdir/lib/python3.10/site-packages/beir/util.py:11: TqdmExperimentalWarning: Using `tqdm.autonotebook.tqdm` in notebook mode. Use `tqdm.tqdm` instead to force console mode (e.g. in jupyter console)\n",
      "  from tqdm.autonotebook import tqdm\n"
     ]
    }
   ],
   "source": [
    "from kdir_src.fire.Fire import Fire\n",
    "from kdir_src.fire.promptor_fire import Promptor_fire\n",
    "from kdir_src.generators.mistral_ai import MistralGenerator\n",
    "from kdir_src.models.all_models import load_models"
   ]
  },
  {
   "cell_type": "code",
   "execution_count": 2,
   "id": "bdeece49-8583-44ba-900e-90a088f6bffd",
   "metadata": {},
   "outputs": [
    {
     "name": "stdout",
     "output_type": "stream",
     "text": [
      "Loading contriever...\n",
      "Loading contriever FT...\n",
      "Loading question dpr...\n"
     ]
    },
    {
     "name": "stderr",
     "output_type": "stream",
     "text": [
      "Some weights of the model checkpoint at facebook/dpr-question_encoder-single-nq-base were not used when initializing DPRQuestionEncoder: ['question_encoder.bert_model.pooler.dense.bias', 'question_encoder.bert_model.pooler.dense.weight']\n",
      "- This IS expected if you are initializing DPRQuestionEncoder from the checkpoint of a model trained on another task or with another architecture (e.g. initializing a BertForSequenceClassification model from a BertForPreTraining model).\n",
      "- This IS NOT expected if you are initializing DPRQuestionEncoder from the checkpoint of a model that you expect to be exactly identical (initializing a BertForSequenceClassification model from a BertForSequenceClassification model).\n",
      "The tokenizer class you load from this checkpoint is not the same type as the class this function is called from. It may result in unexpected tokenization. \n",
      "The tokenizer class you load from this checkpoint is 'DPRQuestionEncoderTokenizer'. \n",
      "The class this function is called from is 'DPRContextEncoderTokenizer'.\n"
     ]
    },
    {
     "name": "stdout",
     "output_type": "stream",
     "text": [
      "Loading context dpr...\n"
     ]
    },
    {
     "name": "stderr",
     "output_type": "stream",
     "text": [
      "Some weights of the model checkpoint at facebook/dpr-ctx_encoder-single-nq-base were not used when initializing DPRContextEncoder: ['ctx_encoder.bert_model.pooler.dense.bias', 'ctx_encoder.bert_model.pooler.dense.weight']\n",
      "- This IS expected if you are initializing DPRContextEncoder from the checkpoint of a model trained on another task or with another architecture (e.g. initializing a BertForSequenceClassification model from a BertForPreTraining model).\n",
      "- This IS NOT expected if you are initializing DPRContextEncoder from the checkpoint of a model that you expect to be exactly identical (initializing a BertForSequenceClassification model from a BertForSequenceClassification model).\n"
     ]
    },
    {
     "name": "stdout",
     "output_type": "stream",
     "text": [
      "Loading bge large...\n",
      "Loading gte large...\n",
      "Loading bm25...\n"
     ]
    },
    {
     "name": "stderr",
     "output_type": "stream",
     "text": [
      "Processing queries (generate or skip): 514it [00:18, 108.67it/s]"
     ]
    }
   ],
   "source": [
    "dataset_name='fiqa'\n",
    "promptor = Promptor_fire(dataset_name)\n",
    "encoder_models = load_models()\n",
    "KEY = 'yePvSeeCCvZlpR3Uhdigg5s8PyZaYrAV'\n",
    "generator = MistralGenerator('mistral-small-2503', KEY, 1, 512, 0.0)\n",
    "fire_rag = Fire(dataset_name, promptor, generator, encoder_models)"
   ]
  },
  {
   "cell_type": "code",
   "execution_count": 4,
   "id": "b5b4c491-bf63-43d2-8f4f-a2fe2e5c8024",
   "metadata": {},
   "outputs": [
    {
     "data": {
      "application/vnd.jupyter.widget-view+json": {
       "model_id": "ea51f1469ccc4f8493f2b76d471cc633",
       "version_major": 2,
       "version_minor": 0
      },
      "text/plain": [
       "  0%|          | 0/57638 [00:00<?, ?it/s]"
      ]
     },
     "metadata": {},
     "output_type": "display_data"
    },
    {
     "name": "stderr",
     "output_type": "stream",
     "text": [
      "Procesando queries: 100%|████████████████████████████████████████████████████████| 648/648 [00:00<00:00, 3282498.78it/s]\n",
      "Procesando contriever...: 100%|████████████████████████████████████████████████████████| 6/6 [00:00<00:00, 14.62batch/s]\n",
      "Procesando contriever...: 100%|████████████████████████████████████████████████████████| 6/6 [00:00<00:00, 15.95batch/s]\n",
      "Procesando dpr...: 100%|███████████████████████████████████████████████████████████████| 6/6 [00:00<00:00, 11.55batch/s]\n"
     ]
    },
    {
     "data": {
      "application/vnd.jupyter.widget-view+json": {
       "model_id": "ff62dbaf858a44feb63d6ae355ec4d93",
       "version_major": 2,
       "version_minor": 0
      },
      "text/plain": [
       "Batches:   0%|          | 0/6 [00:00<?, ?it/s]"
      ]
     },
     "metadata": {},
     "output_type": "display_data"
    },
    {
     "data": {
      "application/vnd.jupyter.widget-view+json": {
       "model_id": "61110e207c50419b80676672bd4b614a",
       "version_major": 2,
       "version_minor": 0
      },
      "text/plain": [
       "Batches:   0%|          | 0/6 [00:00<?, ?it/s]"
      ]
     },
     "metadata": {},
     "output_type": "display_data"
    },
    {
     "name": "stdout",
     "output_type": "stream",
     "text": [
      "Procesando BM25 embeddings\n",
      "Embeddings finalizado\n"
     ]
    },
    {
     "name": "stderr",
     "output_type": "stream",
     "text": [
      "obteniendo rel_docs contriever: 648it [00:05, 121.73it/s]\n",
      "obteniendo rel_docs contriever_ft: 648it [00:04, 144.45it/s]\n",
      "obteniendo rel_docs dpr: 648it [00:04, 144.34it/s]\n",
      "obteniendo rel_docs bge_large: 648it [00:05, 124.52it/s]\n",
      "obteniendo rel_docs gte_large: 648it [00:05, 118.51it/s]\n",
      "obteniendo rel_docs sparse_bm25: 648it [00:02, 306.36it/s]\n"
     ]
    },
    {
     "name": "stdout",
     "output_type": "stream",
     "text": [
      "Found 648 previously generated documents in '../doc_gen/fire/doc5/contriever/generated_documents_fiqa.jsonl'.\n"
     ]
    },
    {
     "name": "stderr",
     "output_type": "stream",
     "text": [
      "Processing queries (generate or skip): 648it [00:00, 2126689.35it/s]\n"
     ]
    },
    {
     "name": "stdout",
     "output_type": "stream",
     "text": [
      "Document generation complete. Results saved in: ../doc_gen/fire/doc5/contriever/generated_documents_fiqa.jsonl\n",
      "Found 648 previously generated documents in '../doc_gen/fire/doc5/contriever_ft/generated_documents_fiqa.jsonl'.\n"
     ]
    },
    {
     "name": "stderr",
     "output_type": "stream",
     "text": [
      "Processing queries (generate or skip): 648it [00:00, 1982428.15it/s]\n"
     ]
    },
    {
     "name": "stdout",
     "output_type": "stream",
     "text": [
      "Document generation complete. Results saved in: ../doc_gen/fire/doc5/contriever_ft/generated_documents_fiqa.jsonl\n",
      "Found 648 previously generated documents in '../doc_gen/fire/doc5/dpr/generated_documents_fiqa.jsonl'.\n"
     ]
    },
    {
     "name": "stderr",
     "output_type": "stream",
     "text": [
      "Processing queries (generate or skip): 648it [00:00, 2493494.49it/s]\n"
     ]
    },
    {
     "name": "stdout",
     "output_type": "stream",
     "text": [
      "Document generation complete. Results saved in: ../doc_gen/fire/doc5/dpr/generated_documents_fiqa.jsonl\n",
      "Found 648 previously generated documents in '../doc_gen/fire/doc5/bge_large/generated_documents_fiqa.jsonl'.\n"
     ]
    },
    {
     "name": "stderr",
     "output_type": "stream",
     "text": [
      "Processing queries (generate or skip): 648it [00:00, 2595901.62it/s]\n"
     ]
    },
    {
     "name": "stdout",
     "output_type": "stream",
     "text": [
      "Document generation complete. Results saved in: ../doc_gen/fire/doc5/bge_large/generated_documents_fiqa.jsonl\n",
      "Found 513 previously generated documents in '../doc_gen/fire/doc5/gte_large/generated_documents_fiqa.jsonl'.\n"
     ]
    },
    {
     "name": "stderr",
     "output_type": "stream",
     "text": [
      "Processing queries (generate or skip): 648it [10:08,  1.07it/s] \n"
     ]
    },
    {
     "name": "stdout",
     "output_type": "stream",
     "text": [
      "Document generation complete. Results saved in: ../doc_gen/fire/doc5/gte_large/generated_documents_fiqa.jsonl\n",
      "Found 0 previously generated documents in '../doc_gen/fire/doc5/sparse_bm25/generated_documents_fiqa.jsonl'.\n"
     ]
    },
    {
     "name": "stderr",
     "output_type": "stream",
     "text": [
      "Processing queries (generate or skip): 648it [54:50,  5.08s/it]"
     ]
    },
    {
     "name": "stdout",
     "output_type": "stream",
     "text": [
      "Document generation complete. Results saved in: ../doc_gen/fire/doc5/sparse_bm25/generated_documents_fiqa.jsonl\n"
     ]
    },
    {
     "name": "stderr",
     "output_type": "stream",
     "text": [
      "\n"
     ]
    }
   ],
   "source": [
    "fire_rag.generate_and_save_prf(path='../doc_gen/fire/doc5/', batch_size=128, top_k=5)"
   ]
  },
  {
   "cell_type": "markdown",
   "id": "0cd50b2d-f254-420f-9305-df013d7dea29",
   "metadata": {},
   "source": [
    "## Arguana"
   ]
  },
  {
   "cell_type": "code",
   "execution_count": 1,
   "id": "8d84638e-1536-4f76-9f7a-70939c3b47b2",
   "metadata": {},
   "outputs": [
    {
     "name": "stderr",
     "output_type": "stream",
     "text": [
      "/local1/ronaldinho/enviroments/env_kdir/lib/python3.10/site-packages/beir/util.py:11: TqdmExperimentalWarning: Using `tqdm.autonotebook.tqdm` in notebook mode. Use `tqdm.tqdm` instead to force console mode (e.g. in jupyter console)\n",
      "  from tqdm.autonotebook import tqdm\n"
     ]
    }
   ],
   "source": [
    "from kdir_src.fire.Fire import Fire\n",
    "from kdir_src.fire.promptor_fire import Promptor_fire\n",
    "from kdir_src.generators.mistral_ai import MistralGenerator\n",
    "from kdir_src.models.all_models import load_models"
   ]
  },
  {
   "cell_type": "code",
   "execution_count": 2,
   "id": "2178fde0-af4e-469e-aa33-00ea7592753d",
   "metadata": {
    "scrolled": true
   },
   "outputs": [
    {
     "name": "stdout",
     "output_type": "stream",
     "text": [
      "Loading contriever...\n",
      "Loading contriever FT...\n",
      "Loading question dpr...\n"
     ]
    },
    {
     "name": "stderr",
     "output_type": "stream",
     "text": [
      "Some weights of the model checkpoint at facebook/dpr-question_encoder-single-nq-base were not used when initializing DPRQuestionEncoder: ['question_encoder.bert_model.pooler.dense.bias', 'question_encoder.bert_model.pooler.dense.weight']\n",
      "- This IS expected if you are initializing DPRQuestionEncoder from the checkpoint of a model trained on another task or with another architecture (e.g. initializing a BertForSequenceClassification model from a BertForPreTraining model).\n",
      "- This IS NOT expected if you are initializing DPRQuestionEncoder from the checkpoint of a model that you expect to be exactly identical (initializing a BertForSequenceClassification model from a BertForSequenceClassification model).\n",
      "The tokenizer class you load from this checkpoint is not the same type as the class this function is called from. It may result in unexpected tokenization. \n",
      "The tokenizer class you load from this checkpoint is 'DPRQuestionEncoderTokenizer'. \n",
      "The class this function is called from is 'DPRContextEncoderTokenizer'.\n"
     ]
    },
    {
     "name": "stdout",
     "output_type": "stream",
     "text": [
      "Loading context dpr...\n"
     ]
    },
    {
     "name": "stderr",
     "output_type": "stream",
     "text": [
      "Some weights of the model checkpoint at facebook/dpr-ctx_encoder-single-nq-base were not used when initializing DPRContextEncoder: ['ctx_encoder.bert_model.pooler.dense.bias', 'ctx_encoder.bert_model.pooler.dense.weight']\n",
      "- This IS expected if you are initializing DPRContextEncoder from the checkpoint of a model trained on another task or with another architecture (e.g. initializing a BertForSequenceClassification model from a BertForPreTraining model).\n",
      "- This IS NOT expected if you are initializing DPRContextEncoder from the checkpoint of a model that you expect to be exactly identical (initializing a BertForSequenceClassification model from a BertForSequenceClassification model).\n"
     ]
    },
    {
     "name": "stdout",
     "output_type": "stream",
     "text": [
      "Loading bge large...\n",
      "Loading gte large...\n",
      "Loading bm25...\n"
     ]
    }
   ],
   "source": [
    "dataset_name='arguana'\n",
    "promptor = Promptor_fire(dataset_name)\n",
    "encoder_models = load_models()\n",
    "KEY = 'yePvSeeCCvZlpR3Uhdigg5s8PyZaYrAV'\n",
    "generator = MistralGenerator('mistral-small-2503', KEY, 1, 512, 0.0)\n",
    "fire_rag = Fire(dataset_name, promptor, generator, encoder_models)"
   ]
  },
  {
   "cell_type": "code",
   "execution_count": 4,
   "id": "def00f1a-3ee6-4e3b-b50b-ee2908330ffe",
   "metadata": {
    "scrolled": true
   },
   "outputs": [
    {
     "data": {
      "application/vnd.jupyter.widget-view+json": {
       "model_id": "c0315cf0f04944fd91cc0ffbea4e2b1f",
       "version_major": 2,
       "version_minor": 0
      },
      "text/plain": [
       "  0%|          | 0/8674 [00:00<?, ?it/s]"
      ]
     },
     "metadata": {},
     "output_type": "display_data"
    },
    {
     "name": "stderr",
     "output_type": "stream",
     "text": [
      "Procesando queries: 100%|██████████████████████████████████████████████████████| 1406/1406 [00:00<00:00, 3539730.75it/s]\n",
      "Procesando contriever...: 100%|██████████████████████████████████████████████████████| 11/11 [00:13<00:00,  1.19s/batch]\n",
      "Procesando contriever...: 100%|██████████████████████████████████████████████████████| 11/11 [00:13<00:00,  1.20s/batch]\n",
      "Procesando dpr...: 100%|█████████████████████████████████████████████████████████████| 11/11 [00:17<00:00,  1.57s/batch]\n"
     ]
    },
    {
     "data": {
      "application/vnd.jupyter.widget-view+json": {
       "model_id": "a4e1727caecd40fe86bd8eb6d804b8a5",
       "version_major": 2,
       "version_minor": 0
      },
      "text/plain": [
       "Batches:   0%|          | 0/11 [00:00<?, ?it/s]"
      ]
     },
     "metadata": {},
     "output_type": "display_data"
    },
    {
     "data": {
      "application/vnd.jupyter.widget-view+json": {
       "model_id": "1057fbccc66a433a95dd850b98603579",
       "version_major": 2,
       "version_minor": 0
      },
      "text/plain": [
       "Batches:   0%|          | 0/11 [00:00<?, ?it/s]"
      ]
     },
     "metadata": {},
     "output_type": "display_data"
    },
    {
     "name": "stdout",
     "output_type": "stream",
     "text": [
      "Procesando BM25 embeddings\n",
      "Embeddings finalizado\n"
     ]
    },
    {
     "name": "stderr",
     "output_type": "stream",
     "text": [
      "obteniendo rel_docs contriever: 1406it [00:07, 186.89it/s]\n",
      "obteniendo rel_docs contriever_ft: 1406it [00:07, 181.54it/s]\n",
      "obteniendo rel_docs dpr: 1406it [00:07, 189.67it/s]\n",
      "obteniendo rel_docs bge_large: 1406it [00:08, 157.47it/s]\n",
      "obteniendo rel_docs gte_large: 1406it [00:08, 157.59it/s]\n",
      "obteniendo rel_docs sparse_bm25: 1406it [00:03, 454.25it/s]\n"
     ]
    },
    {
     "name": "stdout",
     "output_type": "stream",
     "text": [
      "Found 679 previously generated documents in '../doc_gen/fire/doc5/contriever/generated_documents_arguana.jsonl'.\n"
     ]
    },
    {
     "name": "stderr",
     "output_type": "stream",
     "text": [
      "Processing queries (generate or skip): 1406it [55:41,  2.38s/it]\n"
     ]
    },
    {
     "name": "stdout",
     "output_type": "stream",
     "text": [
      "Document generation complete. Results saved in: ../doc_gen/fire/doc5/contriever/generated_documents_arguana.jsonl\n",
      "Found 0 previously generated documents in '../doc_gen/fire/doc5/contriever_ft/generated_documents_arguana.jsonl'.\n"
     ]
    },
    {
     "name": "stderr",
     "output_type": "stream",
     "text": [
      "Processing queries (generate or skip): 1406it [1:50:19,  4.71s/it]\n"
     ]
    },
    {
     "name": "stdout",
     "output_type": "stream",
     "text": [
      "Document generation complete. Results saved in: ../doc_gen/fire/doc5/contriever_ft/generated_documents_arguana.jsonl\n",
      "Found 0 previously generated documents in '../doc_gen/fire/doc5/dpr/generated_documents_arguana.jsonl'.\n"
     ]
    },
    {
     "name": "stderr",
     "output_type": "stream",
     "text": [
      "Processing queries (generate or skip): 1406it [1:48:51,  4.65s/it]\n"
     ]
    },
    {
     "name": "stdout",
     "output_type": "stream",
     "text": [
      "Document generation complete. Results saved in: ../doc_gen/fire/doc5/dpr/generated_documents_arguana.jsonl\n",
      "Found 0 previously generated documents in '../doc_gen/fire/doc5/bge_large/generated_documents_arguana.jsonl'.\n"
     ]
    },
    {
     "name": "stderr",
     "output_type": "stream",
     "text": [
      "Processing queries (generate or skip): 1406it [1:46:01,  4.52s/it]\n"
     ]
    },
    {
     "name": "stdout",
     "output_type": "stream",
     "text": [
      "Document generation complete. Results saved in: ../doc_gen/fire/doc5/bge_large/generated_documents_arguana.jsonl\n",
      "Found 0 previously generated documents in '../doc_gen/fire/doc5/gte_large/generated_documents_arguana.jsonl'.\n"
     ]
    },
    {
     "name": "stderr",
     "output_type": "stream",
     "text": [
      "Processing queries (generate or skip): 1406it [1:50:17,  4.71s/it]\n"
     ]
    },
    {
     "name": "stdout",
     "output_type": "stream",
     "text": [
      "Document generation complete. Results saved in: ../doc_gen/fire/doc5/gte_large/generated_documents_arguana.jsonl\n",
      "Found 0 previously generated documents in '../doc_gen/fire/doc5/sparse_bm25/generated_documents_arguana.jsonl'.\n"
     ]
    },
    {
     "name": "stderr",
     "output_type": "stream",
     "text": [
      "Processing queries (generate or skip): 1406it [2:02:06,  5.21s/it]\n"
     ]
    },
    {
     "name": "stdout",
     "output_type": "stream",
     "text": [
      "Document generation complete. Results saved in: ../doc_gen/fire/doc5/sparse_bm25/generated_documents_arguana.jsonl\n"
     ]
    }
   ],
   "source": [
    "fire_rag.generate_and_save_prf(path='../doc_gen/fire/doc5/', batch_size=128, top_k=5)"
   ]
  },
  {
   "cell_type": "code",
   "execution_count": null,
   "id": "592f5460-5bc6-44fe-ad32-413ff99cc244",
   "metadata": {},
   "outputs": [],
   "source": []
  }
 ],
 "metadata": {
  "kernelspec": {
   "display_name": "Python 3 (ipykernel)",
   "language": "python",
   "name": "python3"
  },
  "language_info": {
   "codemirror_mode": {
    "name": "ipython",
    "version": 3
   },
   "file_extension": ".py",
   "mimetype": "text/x-python",
   "name": "python",
   "nbconvert_exporter": "python",
   "pygments_lexer": "ipython3",
   "version": "3.10.14"
  }
 },
 "nbformat": 4,
 "nbformat_minor": 5
}
