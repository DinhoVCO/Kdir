{
 "cells": [
  {
   "cell_type": "code",
   "execution_count": 1,
   "id": "d6ea43bc-aea8-4cd5-8707-130b559fc38e",
   "metadata": {},
   "outputs": [],
   "source": [
    "from kdir_src.utils.inference import get_results"
   ]
  },
  {
   "cell_type": "code",
   "execution_count": 3,
   "id": "48d08267-86d7-4733-8619-bbd00c8261d2",
   "metadata": {
    "scrolled": true
   },
   "outputs": [
    {
     "name": "stdout",
     "output_type": "stream",
     "text": [
      "Loading contriever...\n",
      "Loading contriever FT...\n",
      "Loading question dpr...\n"
     ]
    },
    {
     "name": "stderr",
     "output_type": "stream",
     "text": [
      "Some weights of the model checkpoint at facebook/dpr-question_encoder-single-nq-base were not used when initializing DPRQuestionEncoder: ['question_encoder.bert_model.pooler.dense.bias', 'question_encoder.bert_model.pooler.dense.weight']\n",
      "- This IS expected if you are initializing DPRQuestionEncoder from the checkpoint of a model trained on another task or with another architecture (e.g. initializing a BertForSequenceClassification model from a BertForPreTraining model).\n",
      "- This IS NOT expected if you are initializing DPRQuestionEncoder from the checkpoint of a model that you expect to be exactly identical (initializing a BertForSequenceClassification model from a BertForSequenceClassification model).\n"
     ]
    },
    {
     "name": "stdout",
     "output_type": "stream",
     "text": [
      "Loading context dpr...\n"
     ]
    },
    {
     "name": "stderr",
     "output_type": "stream",
     "text": [
      "The tokenizer class you load from this checkpoint is not the same type as the class this function is called from. It may result in unexpected tokenization. \n",
      "The tokenizer class you load from this checkpoint is 'DPRQuestionEncoderTokenizer'. \n",
      "The class this function is called from is 'DPRContextEncoderTokenizer'.\n",
      "Some weights of the model checkpoint at facebook/dpr-ctx_encoder-single-nq-base were not used when initializing DPRContextEncoder: ['ctx_encoder.bert_model.pooler.dense.bias', 'ctx_encoder.bert_model.pooler.dense.weight']\n",
      "- This IS expected if you are initializing DPRContextEncoder from the checkpoint of a model trained on another task or with another architecture (e.g. initializing a BertForSequenceClassification model from a BertForPreTraining model).\n",
      "- This IS NOT expected if you are initializing DPRContextEncoder from the checkpoint of a model that you expect to be exactly identical (initializing a BertForSequenceClassification model from a BertForSequenceClassification model).\n"
     ]
    },
    {
     "name": "stdout",
     "output_type": "stream",
     "text": [
      "Loading bge large...\n",
      "Loading gte large...\n",
      "Loading bm25...\n"
     ]
    },
    {
     "data": {
      "application/vnd.jupyter.widget-view+json": {
       "model_id": "0a74a69ad440441584cdd30c5fdee4db",
       "version_major": 2,
       "version_minor": 0
      },
      "text/plain": [
       "  0%|          | 0/8674 [00:00<?, ?it/s]"
      ]
     },
     "metadata": {},
     "output_type": "display_data"
    },
    {
     "name": "stderr",
     "output_type": "stream",
     "text": [
      "Procesando queries: 100%|██████████████████████████████████████████████████████| 1406/1406 [00:00<00:00, 4427320.89it/s]\n",
      "Procesando contriever...: 100%|██████████████████████████████████████████████████████| 11/11 [00:12<00:00,  1.10s/batch]\n",
      "Procesando contriever...: 100%|██████████████████████████████████████████████████████| 11/11 [00:12<00:00,  1.11s/batch]\n",
      "Procesando dpr...: 100%|█████████████████████████████████████████████████████████████| 11/11 [00:16<00:00,  1.46s/batch]\n"
     ]
    },
    {
     "data": {
      "application/vnd.jupyter.widget-view+json": {
       "model_id": "0729cf226e834985857452973d3d455d",
       "version_major": 2,
       "version_minor": 0
      },
      "text/plain": [
       "Batches:   0%|          | 0/11 [00:00<?, ?it/s]"
      ]
     },
     "metadata": {},
     "output_type": "display_data"
    },
    {
     "data": {
      "application/vnd.jupyter.widget-view+json": {
       "model_id": "80a844d8cbbc4e1ebb98c3279dbba399",
       "version_major": 2,
       "version_minor": 0
      },
      "text/plain": [
       "Batches:   0%|          | 0/11 [00:00<?, ?it/s]"
      ]
     },
     "metadata": {},
     "output_type": "display_data"
    },
    {
     "name": "stdout",
     "output_type": "stream",
     "text": [
      "Procesando BM25 embeddings\n",
      "Embeddings finalizado\n"
     ]
    },
    {
     "name": "stderr",
     "output_type": "stream",
     "text": [
      "obteniendo resultados contriever: 1406it [00:05, 256.15it/s]\n",
      "obteniendo resultados contriever_ft: 1406it [00:05, 254.42it/s]\n",
      "obteniendo resultados dpr: 1406it [00:05, 255.81it/s]\n",
      "obteniendo resultados bge_large: 1406it [00:06, 215.14it/s]\n",
      "obteniendo resultados gte_large: 1406it [00:06, 214.28it/s]\n",
      "obteniendo resultados sparse_bm25: 1406it [00:04, 313.39it/s]\n"
     ]
    }
   ],
   "source": [
    "dataset='arguana'\n",
    "get_results(dataset, f'../results/basic/{dataset}/',128, top_k=11)"
   ]
  },
  {
   "cell_type": "code",
   "execution_count": null,
   "id": "6deab886-dcb3-48bc-b4d0-833c2e179cd6",
   "metadata": {},
   "outputs": [],
   "source": []
  }
 ],
 "metadata": {
  "kernelspec": {
   "display_name": "Python 3 (ipykernel)",
   "language": "python",
   "name": "python3"
  },
  "language_info": {
   "codemirror_mode": {
    "name": "ipython",
    "version": 3
   },
   "file_extension": ".py",
   "mimetype": "text/x-python",
   "name": "python",
   "nbconvert_exporter": "python",
   "pygments_lexer": "ipython3",
   "version": "3.10.14"
  }
 },
 "nbformat": 4,
 "nbformat_minor": 5
}
