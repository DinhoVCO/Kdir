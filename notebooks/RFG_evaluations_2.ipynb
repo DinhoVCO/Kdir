{
 "cells": [
  {
   "cell_type": "markdown",
   "id": "f9e44147-65d5-45ee-a240-22075622eede",
   "metadata": {
    "jp-MarkdownHeadingCollapsed": true
   },
   "source": [
    "## nfcorpus"
   ]
  },
  {
   "cell_type": "code",
   "execution_count": 1,
   "id": "df8ddb35-54bc-47ce-9649-41fa554d63ef",
   "metadata": {},
   "outputs": [
    {
     "name": "stderr",
     "output_type": "stream",
     "text": [
      "/local1/ronaldinho/enviroments/env_kdir/lib/python3.10/site-packages/beir/util.py:11: TqdmExperimentalWarning: Using `tqdm.autonotebook.tqdm` in notebook mode. Use `tqdm.tqdm` instead to force console mode (e.g. in jupyter console)\n",
      "  from tqdm.autonotebook import tqdm\n"
     ]
    }
   ],
   "source": [
    "from kdir_src.fire.Fire import Fire\n",
    "from kdir_src.fire.promptor_fire import Promptor_fire\n",
    "from kdir_src.generators.mistral_ai import MistralGenerator\n",
    "from kdir_src.models.all_models import load_models"
   ]
  },
  {
   "cell_type": "code",
   "execution_count": null,
   "id": "bdeece49-8583-44ba-900e-90a088f6bffd",
   "metadata": {},
   "outputs": [
    {
     "name": "stdout",
     "output_type": "stream",
     "text": [
      "Loading contriever...\n",
      "Loading contriever FT...\n",
      "Loading question dpr...\n"
     ]
    },
    {
     "name": "stderr",
     "output_type": "stream",
     "text": [
      "Some weights of the model checkpoint at facebook/dpr-question_encoder-single-nq-base were not used when initializing DPRQuestionEncoder: ['question_encoder.bert_model.pooler.dense.bias', 'question_encoder.bert_model.pooler.dense.weight']\n",
      "- This IS expected if you are initializing DPRQuestionEncoder from the checkpoint of a model trained on another task or with another architecture (e.g. initializing a BertForSequenceClassification model from a BertForPreTraining model).\n",
      "- This IS NOT expected if you are initializing DPRQuestionEncoder from the checkpoint of a model that you expect to be exactly identical (initializing a BertForSequenceClassification model from a BertForSequenceClassification model).\n",
      "The tokenizer class you load from this checkpoint is not the same type as the class this function is called from. It may result in unexpected tokenization. \n",
      "The tokenizer class you load from this checkpoint is 'DPRQuestionEncoderTokenizer'. \n",
      "The class this function is called from is 'DPRContextEncoderTokenizer'.\n"
     ]
    },
    {
     "name": "stdout",
     "output_type": "stream",
     "text": [
      "Loading context dpr...\n"
     ]
    },
    {
     "name": "stderr",
     "output_type": "stream",
     "text": [
      "Some weights of the model checkpoint at facebook/dpr-ctx_encoder-single-nq-base were not used when initializing DPRContextEncoder: ['ctx_encoder.bert_model.pooler.dense.bias', 'ctx_encoder.bert_model.pooler.dense.weight']\n",
      "- This IS expected if you are initializing DPRContextEncoder from the checkpoint of a model trained on another task or with another architecture (e.g. initializing a BertForSequenceClassification model from a BertForPreTraining model).\n",
      "- This IS NOT expected if you are initializing DPRContextEncoder from the checkpoint of a model that you expect to be exactly identical (initializing a BertForSequenceClassification model from a BertForSequenceClassification model).\n"
     ]
    },
    {
     "name": "stdout",
     "output_type": "stream",
     "text": [
      "Loading bge large...\n",
      "Loading gte large...\n",
      "Loading bm25...\n"
     ]
    }
   ],
   "source": [
    "dataset_name='nfcorpus'\n",
    "promptor = Promptor_fire(dataset_name)\n",
    "encoder_models = load_models()\n",
    "KEY = ''\n",
    "generator = MistralGenerator('mistral-small-2503', KEY, 1, 512, 0.0)\n",
    "fire_rag = Fire(dataset_name, promptor, generator, encoder_models)"
   ]
  },
  {
   "cell_type": "code",
   "execution_count": 3,
   "id": "b5b4c491-bf63-43d2-8f4f-a2fe2e5c8024",
   "metadata": {
    "scrolled": true
   },
   "outputs": [
    {
     "data": {
      "application/vnd.jupyter.widget-view+json": {
       "model_id": "cc33c31ac2a74f1b975c5dd0f726c58b",
       "version_major": 2,
       "version_minor": 0
      },
      "text/plain": [
       "  0%|          | 0/3633 [00:00<?, ?it/s]"
      ]
     },
     "metadata": {},
     "output_type": "display_data"
    },
    {
     "name": "stderr",
     "output_type": "stream",
     "text": [
      "Procesando queries: 100%|████████████████████████████████████████████████████████| 323/323 [00:00<00:00, 3180188.24it/s]\n",
      "Procesando contriever...: 100%|████████████████████████████████████████████████████████| 3/3 [00:00<00:00,  5.39batch/s]\n",
      "Procesando contriever...: 100%|████████████████████████████████████████████████████████| 3/3 [00:00<00:00, 10.85batch/s]\n",
      "Procesando dpr...: 100%|███████████████████████████████████████████████████████████████| 3/3 [00:00<00:00, 18.95batch/s]\n"
     ]
    },
    {
     "data": {
      "application/vnd.jupyter.widget-view+json": {
       "model_id": "508662246b084cf4a0cdde6a53d600ce",
       "version_major": 2,
       "version_minor": 0
      },
      "text/plain": [
       "Batches:   0%|          | 0/3 [00:00<?, ?it/s]"
      ]
     },
     "metadata": {},
     "output_type": "display_data"
    },
    {
     "data": {
      "application/vnd.jupyter.widget-view+json": {
       "model_id": "0a329be2005d410fb6eabc02b098a6dd",
       "version_major": 2,
       "version_minor": 0
      },
      "text/plain": [
       "Batches:   0%|          | 0/3 [00:00<?, ?it/s]"
      ]
     },
     "metadata": {},
     "output_type": "display_data"
    },
    {
     "name": "stdout",
     "output_type": "stream",
     "text": [
      "Procesando BM25 embeddings\n",
      "Embeddings finalizado\n"
     ]
    },
    {
     "name": "stderr",
     "output_type": "stream",
     "text": [
      "obteniendo rel_docs contriever: 323it [00:00, 346.83it/s]\n",
      "obteniendo rel_docs contriever_ft: 323it [00:01, 303.50it/s]\n",
      "obteniendo rel_docs dpr: 323it [00:01, 214.77it/s]\n",
      "obteniendo rel_docs bge_large: 323it [00:01, 180.41it/s]\n",
      "obteniendo rel_docs gte_large: 323it [00:01, 198.26it/s]\n",
      "obteniendo rel_docs sparse_bm25: 323it [00:00, 485.77it/s]\n"
     ]
    },
    {
     "name": "stdout",
     "output_type": "stream",
     "text": [
      "Found 323 previously generated documents in '../doc_gen/fire/doc5/contriever/generated_documents_nfcorpus.jsonl'.\n"
     ]
    },
    {
     "name": "stderr",
     "output_type": "stream",
     "text": [
      "Processing queries (generate or skip): 323it [00:00, 1823365.00it/s]\n"
     ]
    },
    {
     "name": "stdout",
     "output_type": "stream",
     "text": [
      "Document generation complete. Results saved in: ../doc_gen/fire/doc5/contriever/generated_documents_nfcorpus.jsonl\n",
      "Found 323 previously generated documents in '../doc_gen/fire/doc5/contriever_ft/generated_documents_nfcorpus.jsonl'.\n"
     ]
    },
    {
     "name": "stderr",
     "output_type": "stream",
     "text": [
      "Processing queries (generate or skip): 323it [00:00, 1935371.70it/s]\n"
     ]
    },
    {
     "name": "stdout",
     "output_type": "stream",
     "text": [
      "Document generation complete. Results saved in: ../doc_gen/fire/doc5/contriever_ft/generated_documents_nfcorpus.jsonl\n",
      "Found 323 previously generated documents in '../doc_gen/fire/doc5/dpr/generated_documents_nfcorpus.jsonl'.\n"
     ]
    },
    {
     "name": "stderr",
     "output_type": "stream",
     "text": [
      "Processing queries (generate or skip): 323it [00:00, 2335793.43it/s]\n"
     ]
    },
    {
     "name": "stdout",
     "output_type": "stream",
     "text": [
      "Document generation complete. Results saved in: ../doc_gen/fire/doc5/dpr/generated_documents_nfcorpus.jsonl\n",
      "Found 323 previously generated documents in '../doc_gen/fire/doc5/bge_large/generated_documents_nfcorpus.jsonl'.\n"
     ]
    },
    {
     "name": "stderr",
     "output_type": "stream",
     "text": [
      "Processing queries (generate or skip): 323it [00:00, 1966270.24it/s]\n"
     ]
    },
    {
     "name": "stdout",
     "output_type": "stream",
     "text": [
      "Document generation complete. Results saved in: ../doc_gen/fire/doc5/bge_large/generated_documents_nfcorpus.jsonl\n",
      "Found 323 previously generated documents in '../doc_gen/fire/doc5/gte_large/generated_documents_nfcorpus.jsonl'.\n"
     ]
    },
    {
     "name": "stderr",
     "output_type": "stream",
     "text": [
      "Processing queries (generate or skip): 323it [00:00, 1949295.24it/s]\n"
     ]
    },
    {
     "name": "stdout",
     "output_type": "stream",
     "text": [
      "Document generation complete. Results saved in: ../doc_gen/fire/doc5/gte_large/generated_documents_nfcorpus.jsonl\n",
      "Found 157 previously generated documents in '../doc_gen/fire/doc5/sparse_bm25/generated_documents_nfcorpus.jsonl'.\n"
     ]
    },
    {
     "name": "stderr",
     "output_type": "stream",
     "text": [
      "Processing queries (generate or skip): 323it [11:18,  2.10s/it]"
     ]
    },
    {
     "name": "stdout",
     "output_type": "stream",
     "text": [
      "Document generation complete. Results saved in: ../doc_gen/fire/doc5/sparse_bm25/generated_documents_nfcorpus.jsonl\n"
     ]
    },
    {
     "name": "stderr",
     "output_type": "stream",
     "text": [
      "\n"
     ]
    }
   ],
   "source": [
    "fire_rag.generate_and_save_prf(path='../doc_gen/fire/doc5/', batch_size=128, top_k=5)"
   ]
  },
  {
   "cell_type": "markdown",
   "id": "703364d3-02aa-4681-80bd-b72b38c75aab",
   "metadata": {},
   "source": [
    "## Scidocs"
   ]
  },
  {
   "cell_type": "code",
   "execution_count": 1,
   "id": "1c48958d-793d-4f5f-ac86-ca2c932bac8a",
   "metadata": {},
   "outputs": [
    {
     "name": "stderr",
     "output_type": "stream",
     "text": [
      "/local1/ronaldinho/enviroments/env_kdir/lib/python3.10/site-packages/beir/util.py:11: TqdmExperimentalWarning: Using `tqdm.autonotebook.tqdm` in notebook mode. Use `tqdm.tqdm` instead to force console mode (e.g. in jupyter console)\n",
      "  from tqdm.autonotebook import tqdm\n"
     ]
    }
   ],
   "source": [
    "from kdir_src.fire.Fire import Fire\n",
    "from kdir_src.fire.promptor_fire import Promptor_fire\n",
    "from kdir_src.generators.mistral_ai import MistralGenerator\n",
    "from kdir_src.models.all_models import load_models"
   ]
  },
  {
   "cell_type": "code",
   "execution_count": null,
   "id": "6471472d-1031-404d-a976-b521734ed1fb",
   "metadata": {
    "scrolled": true
   },
   "outputs": [],
   "source": [
    "dataset_name='scidocs'\n",
    "promptor = Promptor_fire(dataset_name)\n",
    "encoder_models = load_models()\n",
    "KEY = ''\n",
    "generator = MistralGenerator('mistral-small-2503', KEY, 1, 512, 0.0)\n",
    "fire_rag = Fire(dataset_name, promptor, generator, encoder_models)"
   ]
  },
  {
   "cell_type": "code",
   "execution_count": 3,
   "id": "ce55aa47-ac0a-4378-a12d-f4206f6de755",
   "metadata": {
    "scrolled": true
   },
   "outputs": [
    {
     "data": {
      "application/vnd.jupyter.widget-view+json": {
       "model_id": "85c996e92dc04352bf5cdad6467d2a7b",
       "version_major": 2,
       "version_minor": 0
      },
      "text/plain": [
       "  0%|          | 0/25657 [00:00<?, ?it/s]"
      ]
     },
     "metadata": {},
     "output_type": "display_data"
    },
    {
     "name": "stderr",
     "output_type": "stream",
     "text": [
      "Procesando queries: 100%|██████████████████████████████████████████████████████| 1000/1000 [00:00<00:00, 1016062.02it/s]\n",
      "Procesando contriever...: 100%|████████████████████████████████████████████████████████| 8/8 [00:02<00:00,  3.19batch/s]\n",
      "Procesando contriever...: 100%|████████████████████████████████████████████████████████| 8/8 [00:00<00:00, 11.92batch/s]\n",
      "Procesando dpr...: 100%|███████████████████████████████████████████████████████████████| 8/8 [00:00<00:00,  8.80batch/s]\n"
     ]
    },
    {
     "data": {
      "application/vnd.jupyter.widget-view+json": {
       "model_id": "a5fff3c082c54c119fc552869eaaef50",
       "version_major": 2,
       "version_minor": 0
      },
      "text/plain": [
       "Batches:   0%|          | 0/8 [00:00<?, ?it/s]"
      ]
     },
     "metadata": {},
     "output_type": "display_data"
    },
    {
     "data": {
      "application/vnd.jupyter.widget-view+json": {
       "model_id": "0c1beedaac0541609cdc786f5ef05683",
       "version_major": 2,
       "version_minor": 0
      },
      "text/plain": [
       "Batches:   0%|          | 0/8 [00:00<?, ?it/s]"
      ]
     },
     "metadata": {},
     "output_type": "display_data"
    },
    {
     "name": "stdout",
     "output_type": "stream",
     "text": [
      "Procesando BM25 embeddings\n",
      "Embeddings finalizado\n"
     ]
    },
    {
     "name": "stderr",
     "output_type": "stream",
     "text": [
      "obteniendo rel_docs contriever: 1000it [00:10, 91.85it/s]\n",
      "obteniendo rel_docs contriever_ft: 1000it [00:10, 94.50it/s]\n",
      "obteniendo rel_docs dpr: 1000it [00:10, 99.89it/s]\n",
      "obteniendo rel_docs bge_large: 1000it [00:12, 79.23it/s]\n",
      "obteniendo rel_docs gte_large: 1000it [00:12, 78.99it/s]\n",
      "obteniendo rel_docs sparse_bm25: 1000it [00:02, 421.63it/s]\n"
     ]
    },
    {
     "name": "stdout",
     "output_type": "stream",
     "text": [
      "Found 0 previously generated documents in '../doc_gen/fire/doc5/contriever/generated_documents_scidocs.jsonl'.\n"
     ]
    },
    {
     "name": "stderr",
     "output_type": "stream",
     "text": [
      "Processing queries (generate or skip): 1000it [1:00:01,  3.60s/it]\n"
     ]
    },
    {
     "name": "stdout",
     "output_type": "stream",
     "text": [
      "Document generation complete. Results saved in: ../doc_gen/fire/doc5/contriever/generated_documents_scidocs.jsonl\n",
      "Found 0 previously generated documents in '../doc_gen/fire/doc5/contriever_ft/generated_documents_scidocs.jsonl'.\n"
     ]
    },
    {
     "name": "stderr",
     "output_type": "stream",
     "text": [
      "Processing queries (generate or skip): 1000it [1:04:01,  3.84s/it]\n"
     ]
    },
    {
     "name": "stdout",
     "output_type": "stream",
     "text": [
      "Document generation complete. Results saved in: ../doc_gen/fire/doc5/contriever_ft/generated_documents_scidocs.jsonl\n",
      "Found 0 previously generated documents in '../doc_gen/fire/doc5/dpr/generated_documents_scidocs.jsonl'.\n"
     ]
    },
    {
     "name": "stderr",
     "output_type": "stream",
     "text": [
      "Processing queries (generate or skip): 1000it [1:02:39,  3.76s/it]\n"
     ]
    },
    {
     "name": "stdout",
     "output_type": "stream",
     "text": [
      "Document generation complete. Results saved in: ../doc_gen/fire/doc5/dpr/generated_documents_scidocs.jsonl\n",
      "Found 0 previously generated documents in '../doc_gen/fire/doc5/bge_large/generated_documents_scidocs.jsonl'.\n"
     ]
    },
    {
     "name": "stderr",
     "output_type": "stream",
     "text": [
      "Processing queries (generate or skip): 1000it [1:05:08,  3.91s/it]\n"
     ]
    },
    {
     "name": "stdout",
     "output_type": "stream",
     "text": [
      "Document generation complete. Results saved in: ../doc_gen/fire/doc5/bge_large/generated_documents_scidocs.jsonl\n",
      "Found 0 previously generated documents in '../doc_gen/fire/doc5/gte_large/generated_documents_scidocs.jsonl'.\n"
     ]
    },
    {
     "name": "stderr",
     "output_type": "stream",
     "text": [
      "Processing queries (generate or skip): 1000it [1:05:58,  3.96s/it]\n"
     ]
    },
    {
     "name": "stdout",
     "output_type": "stream",
     "text": [
      "Document generation complete. Results saved in: ../doc_gen/fire/doc5/gte_large/generated_documents_scidocs.jsonl\n",
      "Found 0 previously generated documents in '../doc_gen/fire/doc5/sparse_bm25/generated_documents_scidocs.jsonl'.\n"
     ]
    },
    {
     "name": "stderr",
     "output_type": "stream",
     "text": [
      "Processing queries (generate or skip): 1000it [1:09:07,  4.15s/it]"
     ]
    },
    {
     "name": "stdout",
     "output_type": "stream",
     "text": [
      "Document generation complete. Results saved in: ../doc_gen/fire/doc5/sparse_bm25/generated_documents_scidocs.jsonl\n"
     ]
    },
    {
     "name": "stderr",
     "output_type": "stream",
     "text": [
      "\n"
     ]
    }
   ],
   "source": [
    "fire_rag.generate_and_save_prf(path='../doc_gen/fire/doc5/', batch_size=128, top_k=5)"
   ]
  },
  {
   "cell_type": "code",
   "execution_count": null,
   "id": "d162e2e3-cf9b-4efe-b27e-8d2b0aa08ac0",
   "metadata": {},
   "outputs": [],
   "source": []
  }
 ],
 "metadata": {
  "kernelspec": {
   "display_name": "Python 3 (ipykernel)",
   "language": "python",
   "name": "python3"
  },
  "language_info": {
   "codemirror_mode": {
    "name": "ipython",
    "version": 3
   },
   "file_extension": ".py",
   "mimetype": "text/x-python",
   "name": "python",
   "nbconvert_exporter": "python",
   "pygments_lexer": "ipython3",
   "version": "3.10.14"
  }
 },
 "nbformat": 4,
 "nbformat_minor": 5
}
