{
 "cells": [
  {
   "cell_type": "markdown",
   "id": "10ec61f2-1d5f-427b-8260-9c8ca88e03f0",
   "metadata": {
    "jp-MarkdownHeadingCollapsed": true
   },
   "source": [
    "## Qdrant Arguana"
   ]
  },
  {
   "cell_type": "code",
   "execution_count": 1,
   "id": "48bdf5f5-442e-44a3-8d91-5f800e3722cc",
   "metadata": {},
   "outputs": [],
   "source": [
    "from kdir_src.utils.qdrant import process_corpus"
   ]
  },
  {
   "cell_type": "code",
   "execution_count": 2,
   "id": "8c81412b-205d-4004-922f-52609f23b808",
   "metadata": {
    "scrolled": true
   },
   "outputs": [
    {
     "name": "stdout",
     "output_type": "stream",
     "text": [
      "Loading contriever...\n",
      "Loading contriever FT...\n",
      "Loading question dpr...\n"
     ]
    },
    {
     "name": "stderr",
     "output_type": "stream",
     "text": [
      "Some weights of the model checkpoint at facebook/dpr-question_encoder-single-nq-base were not used when initializing DPRQuestionEncoder: ['question_encoder.bert_model.pooler.dense.bias', 'question_encoder.bert_model.pooler.dense.weight']\n",
      "- This IS expected if you are initializing DPRQuestionEncoder from the checkpoint of a model trained on another task or with another architecture (e.g. initializing a BertForSequenceClassification model from a BertForPreTraining model).\n",
      "- This IS NOT expected if you are initializing DPRQuestionEncoder from the checkpoint of a model that you expect to be exactly identical (initializing a BertForSequenceClassification model from a BertForSequenceClassification model).\n",
      "The tokenizer class you load from this checkpoint is not the same type as the class this function is called from. It may result in unexpected tokenization. \n",
      "The tokenizer class you load from this checkpoint is 'DPRQuestionEncoderTokenizer'. \n",
      "The class this function is called from is 'DPRContextEncoderTokenizer'.\n"
     ]
    },
    {
     "name": "stdout",
     "output_type": "stream",
     "text": [
      "Loading context dpr...\n"
     ]
    },
    {
     "name": "stderr",
     "output_type": "stream",
     "text": [
      "Some weights of the model checkpoint at facebook/dpr-ctx_encoder-single-nq-base were not used when initializing DPRContextEncoder: ['ctx_encoder.bert_model.pooler.dense.bias', 'ctx_encoder.bert_model.pooler.dense.weight']\n",
      "- This IS expected if you are initializing DPRContextEncoder from the checkpoint of a model trained on another task or with another architecture (e.g. initializing a BertForSequenceClassification model from a BertForPreTraining model).\n",
      "- This IS NOT expected if you are initializing DPRContextEncoder from the checkpoint of a model that you expect to be exactly identical (initializing a BertForSequenceClassification model from a BertForSequenceClassification model).\n"
     ]
    },
    {
     "name": "stdout",
     "output_type": "stream",
     "text": [
      "Loading bge large...\n",
      "Loading gte large...\n",
      "Loading bm25...\n"
     ]
    },
    {
     "data": {
      "application/vnd.jupyter.widget-view+json": {
       "model_id": "ed4735c49a7a4203a3d274cb9f27275e",
       "version_major": 2,
       "version_minor": 0
      },
      "text/plain": [
       "  0%|          | 0/8674 [00:00<?, ?it/s]"
      ]
     },
     "metadata": {},
     "output_type": "display_data"
    },
    {
     "name": "stderr",
     "output_type": "stream",
     "text": [
      "Procesando corpus: 100%|█████████████████████████████████████| 8674/8674 [00:00<00:00, 2264777.94it/s]\n",
      "Procesando contriever...: 100%|████████████████████████████████████| 68/68 [01:15<00:00,  1.11s/batch]\n",
      "Procesando contriever...: 100%|████████████████████████████████████| 68/68 [01:16<00:00,  1.13s/batch]\n",
      "Procesando dpr...: 100%|███████████████████████████████████████████| 68/68 [01:35<00:00,  1.41s/batch]\n"
     ]
    },
    {
     "data": {
      "application/vnd.jupyter.widget-view+json": {
       "model_id": "3cb7a7f60a5045d5af987afcfa3e2f4d",
       "version_major": 2,
       "version_minor": 0
      },
      "text/plain": [
       "Batches:   0%|          | 0/68 [00:00<?, ?it/s]"
      ]
     },
     "metadata": {},
     "output_type": "display_data"
    },
    {
     "data": {
      "application/vnd.jupyter.widget-view+json": {
       "model_id": "096c7649d94c4b89a3ab22356a8f828c",
       "version_major": 2,
       "version_minor": 0
      },
      "text/plain": [
       "Batches:   0%|          | 0/68 [00:00<?, ?it/s]"
      ]
     },
     "metadata": {},
     "output_type": "display_data"
    },
    {
     "name": "stdout",
     "output_type": "stream",
     "text": [
      "Procesando BM25 embeddings\n",
      "Embeddings finalizado\n"
     ]
    },
    {
     "name": "stderr",
     "output_type": "stream",
     "text": [
      "creando points: 8674it [01:13, 118.50it/s]\n"
     ]
    },
    {
     "name": "stdout",
     "output_type": "stream",
     "text": [
      "La colección 'kdir_arguana' ya existe.\n"
     ]
    },
    {
     "name": "stderr",
     "output_type": "stream",
     "text": [
      "Insertando documentos en lotes: 100%|█████████████████████████████████| 68/68 [00:30<00:00,  2.24it/s]\n"
     ]
    },
    {
     "name": "stdout",
     "output_type": "stream",
     "text": [
      "Coleccion creada\n"
     ]
    }
   ],
   "source": [
    "dataset_name = 'arguana'\n",
    "process_corpus(dataset_name, 128, 128)"
   ]
  },
  {
   "cell_type": "markdown",
   "id": "fd3578d7-acb0-4b7b-ab18-a6d23908d2fe",
   "metadata": {
    "jp-MarkdownHeadingCollapsed": true
   },
   "source": [
    "## Qdrant NFCorpus"
   ]
  },
  {
   "cell_type": "code",
   "execution_count": 1,
   "id": "ca6bf0a9-fb7a-4820-9bbe-fc8562d5e77e",
   "metadata": {},
   "outputs": [],
   "source": [
    "from kdir_src.utils.qdrant import process_corpus"
   ]
  },
  {
   "cell_type": "code",
   "execution_count": 2,
   "id": "e8ef2ba5-b652-486f-b060-039f5451b6be",
   "metadata": {
    "scrolled": true
   },
   "outputs": [
    {
     "name": "stdout",
     "output_type": "stream",
     "text": [
      "Loading contriever...\n",
      "Loading contriever FT...\n",
      "Loading question dpr...\n"
     ]
    },
    {
     "name": "stderr",
     "output_type": "stream",
     "text": [
      "Some weights of the model checkpoint at facebook/dpr-question_encoder-single-nq-base were not used when initializing DPRQuestionEncoder: ['question_encoder.bert_model.pooler.dense.bias', 'question_encoder.bert_model.pooler.dense.weight']\n",
      "- This IS expected if you are initializing DPRQuestionEncoder from the checkpoint of a model trained on another task or with another architecture (e.g. initializing a BertForSequenceClassification model from a BertForPreTraining model).\n",
      "- This IS NOT expected if you are initializing DPRQuestionEncoder from the checkpoint of a model that you expect to be exactly identical (initializing a BertForSequenceClassification model from a BertForSequenceClassification model).\n",
      "The tokenizer class you load from this checkpoint is not the same type as the class this function is called from. It may result in unexpected tokenization. \n",
      "The tokenizer class you load from this checkpoint is 'DPRQuestionEncoderTokenizer'. \n",
      "The class this function is called from is 'DPRContextEncoderTokenizer'.\n"
     ]
    },
    {
     "name": "stdout",
     "output_type": "stream",
     "text": [
      "Loading context dpr...\n"
     ]
    },
    {
     "name": "stderr",
     "output_type": "stream",
     "text": [
      "Some weights of the model checkpoint at facebook/dpr-ctx_encoder-single-nq-base were not used when initializing DPRContextEncoder: ['ctx_encoder.bert_model.pooler.dense.bias', 'ctx_encoder.bert_model.pooler.dense.weight']\n",
      "- This IS expected if you are initializing DPRContextEncoder from the checkpoint of a model trained on another task or with another architecture (e.g. initializing a BertForSequenceClassification model from a BertForPreTraining model).\n",
      "- This IS NOT expected if you are initializing DPRContextEncoder from the checkpoint of a model that you expect to be exactly identical (initializing a BertForSequenceClassification model from a BertForSequenceClassification model).\n"
     ]
    },
    {
     "name": "stdout",
     "output_type": "stream",
     "text": [
      "Loading bge large...\n",
      "Loading gte large...\n",
      "Loading bm25...\n"
     ]
    },
    {
     "data": {
      "application/vnd.jupyter.widget-view+json": {
       "model_id": "da1422df69934e8988e73fd6131aa807",
       "version_major": 2,
       "version_minor": 0
      },
      "text/plain": [
       "  0%|          | 0/3633 [00:00<?, ?it/s]"
      ]
     },
     "metadata": {},
     "output_type": "display_data"
    },
    {
     "name": "stderr",
     "output_type": "stream",
     "text": [
      "Procesando corpus: 100%|███████████████████████████████████████████████████████| 3633/3633 [00:00<00:00, 2059733.23it/s]\n",
      "Procesando contriever...: 100%|██████████████████████████████████████████████████████| 29/29 [00:32<00:00,  1.11s/batch]\n",
      "Procesando contriever...: 100%|██████████████████████████████████████████████████████| 29/29 [00:32<00:00,  1.13s/batch]\n",
      "Procesando dpr...: 100%|█████████████████████████████████████████████████████████████| 29/29 [00:44<00:00,  1.55s/batch]\n"
     ]
    },
    {
     "data": {
      "application/vnd.jupyter.widget-view+json": {
       "model_id": "55c0cc994c35417d95dbc312bdddab75",
       "version_major": 2,
       "version_minor": 0
      },
      "text/plain": [
       "Batches:   0%|          | 0/29 [00:00<?, ?it/s]"
      ]
     },
     "metadata": {},
     "output_type": "display_data"
    },
    {
     "data": {
      "application/vnd.jupyter.widget-view+json": {
       "model_id": "185038dc7b7b464f92522849f0da2b8f",
       "version_major": 2,
       "version_minor": 0
      },
      "text/plain": [
       "Batches:   0%|          | 0/29 [00:00<?, ?it/s]"
      ]
     },
     "metadata": {},
     "output_type": "display_data"
    },
    {
     "name": "stdout",
     "output_type": "stream",
     "text": [
      "Procesando BM25 embeddings\n",
      "Embeddings finalizado\n"
     ]
    },
    {
     "name": "stderr",
     "output_type": "stream",
     "text": [
      "creando points: 3633it [00:30, 120.63it/s]\n",
      "Insertando documentos en lotes: 100%|███████████████████████████████████████████████████| 29/29 [00:13<00:00,  2.22it/s]\n"
     ]
    },
    {
     "name": "stdout",
     "output_type": "stream",
     "text": [
      "Coleccion creada\n"
     ]
    }
   ],
   "source": [
    "dataset_name = 'nfcorpus'\n",
    "process_corpus(dataset_name, 128, 128)"
   ]
  },
  {
   "cell_type": "markdown",
   "id": "712bff20-4b9c-4923-9703-e3a29fcd64a6",
   "metadata": {
    "jp-MarkdownHeadingCollapsed": true
   },
   "source": [
    "## Fiqa2018"
   ]
  },
  {
   "cell_type": "code",
   "execution_count": 1,
   "id": "9699fc26-38cc-4be5-a2cf-4e808499a9b6",
   "metadata": {},
   "outputs": [],
   "source": [
    "from kdir_src.utils.qdrant import process_corpus"
   ]
  },
  {
   "cell_type": "code",
   "execution_count": 2,
   "id": "55975b27-85cb-4335-82ee-85f94215b54b",
   "metadata": {
    "scrolled": true
   },
   "outputs": [
    {
     "name": "stdout",
     "output_type": "stream",
     "text": [
      "Loading contriever...\n",
      "Loading contriever FT...\n",
      "Loading question dpr...\n"
     ]
    },
    {
     "name": "stderr",
     "output_type": "stream",
     "text": [
      "Some weights of the model checkpoint at facebook/dpr-question_encoder-single-nq-base were not used when initializing DPRQuestionEncoder: ['question_encoder.bert_model.pooler.dense.bias', 'question_encoder.bert_model.pooler.dense.weight']\n",
      "- This IS expected if you are initializing DPRQuestionEncoder from the checkpoint of a model trained on another task or with another architecture (e.g. initializing a BertForSequenceClassification model from a BertForPreTraining model).\n",
      "- This IS NOT expected if you are initializing DPRQuestionEncoder from the checkpoint of a model that you expect to be exactly identical (initializing a BertForSequenceClassification model from a BertForSequenceClassification model).\n",
      "The tokenizer class you load from this checkpoint is not the same type as the class this function is called from. It may result in unexpected tokenization. \n",
      "The tokenizer class you load from this checkpoint is 'DPRQuestionEncoderTokenizer'. \n",
      "The class this function is called from is 'DPRContextEncoderTokenizer'.\n"
     ]
    },
    {
     "name": "stdout",
     "output_type": "stream",
     "text": [
      "Loading context dpr...\n"
     ]
    },
    {
     "name": "stderr",
     "output_type": "stream",
     "text": [
      "Some weights of the model checkpoint at facebook/dpr-ctx_encoder-single-nq-base were not used when initializing DPRContextEncoder: ['ctx_encoder.bert_model.pooler.dense.bias', 'ctx_encoder.bert_model.pooler.dense.weight']\n",
      "- This IS expected if you are initializing DPRContextEncoder from the checkpoint of a model trained on another task or with another architecture (e.g. initializing a BertForSequenceClassification model from a BertForPreTraining model).\n",
      "- This IS NOT expected if you are initializing DPRContextEncoder from the checkpoint of a model that you expect to be exactly identical (initializing a BertForSequenceClassification model from a BertForSequenceClassification model).\n"
     ]
    },
    {
     "name": "stdout",
     "output_type": "stream",
     "text": [
      "Loading bge large...\n",
      "Loading gte large...\n",
      "Loading bm25...\n"
     ]
    },
    {
     "data": {
      "application/vnd.jupyter.widget-view+json": {
       "model_id": "4e1895236561490599c46dbc51a2b1a4",
       "version_major": 2,
       "version_minor": 0
      },
      "text/plain": [
       "  0%|          | 0/57638 [00:00<?, ?it/s]"
      ]
     },
     "metadata": {},
     "output_type": "display_data"
    },
    {
     "name": "stderr",
     "output_type": "stream",
     "text": [
      "Procesando corpus: 100%|█████████████████████████████████████████████████████| 57638/57638 [00:00<00:00, 2264309.74it/s]\n",
      "Procesando contriever...: 100%|████████████████████████████████████████████████████| 451/451 [08:47<00:00,  1.17s/batch]\n",
      "Procesando contriever...: 100%|████████████████████████████████████████████████████| 451/451 [08:50<00:00,  1.18s/batch]\n",
      "Procesando dpr...: 100%|███████████████████████████████████████████████████████████| 451/451 [12:47<00:00,  1.70s/batch]\n"
     ]
    },
    {
     "data": {
      "application/vnd.jupyter.widget-view+json": {
       "model_id": "400a10080ef440e0b06c57d936d99903",
       "version_major": 2,
       "version_minor": 0
      },
      "text/plain": [
       "Batches:   0%|          | 0/451 [00:00<?, ?it/s]"
      ]
     },
     "metadata": {},
     "output_type": "display_data"
    },
    {
     "data": {
      "application/vnd.jupyter.widget-view+json": {
       "model_id": "74bfb7bfb0094a23862964a029083550",
       "version_major": 2,
       "version_minor": 0
      },
      "text/plain": [
       "Batches:   0%|          | 0/451 [00:00<?, ?it/s]"
      ]
     },
     "metadata": {},
     "output_type": "display_data"
    },
    {
     "name": "stdout",
     "output_type": "stream",
     "text": [
      "Procesando BM25 embeddings\n",
      "Embeddings finalizado\n"
     ]
    },
    {
     "name": "stderr",
     "output_type": "stream",
     "text": [
      "creando points: 57638it [09:09, 104.80it/s]\n",
      "Insertando documentos en lotes: 100%|█████████████████████████████████████████████████| 451/451 [03:29<00:00,  2.16it/s]\n"
     ]
    },
    {
     "name": "stdout",
     "output_type": "stream",
     "text": [
      "Coleccion creada\n"
     ]
    }
   ],
   "source": [
    "dataset_name = 'fiqa'\n",
    "process_corpus(dataset_name, 128, 128)"
   ]
  },
  {
   "cell_type": "markdown",
   "id": "76e2926b-486b-40e2-8ba9-2bef3ec1852e",
   "metadata": {
    "jp-MarkdownHeadingCollapsed": true
   },
   "source": [
    "## SciDocs"
   ]
  },
  {
   "cell_type": "code",
   "execution_count": 1,
   "id": "8085645c-b2b9-4e7c-aafa-0df0fefdc9c3",
   "metadata": {
    "scrolled": true
   },
   "outputs": [
    {
     "name": "stdout",
     "output_type": "stream",
     "text": [
      "Loading contriever...\n",
      "Loading contriever FT...\n",
      "Loading question dpr...\n"
     ]
    },
    {
     "name": "stderr",
     "output_type": "stream",
     "text": [
      "Some weights of the model checkpoint at facebook/dpr-question_encoder-single-nq-base were not used when initializing DPRQuestionEncoder: ['question_encoder.bert_model.pooler.dense.bias', 'question_encoder.bert_model.pooler.dense.weight']\n",
      "- This IS expected if you are initializing DPRQuestionEncoder from the checkpoint of a model trained on another task or with another architecture (e.g. initializing a BertForSequenceClassification model from a BertForPreTraining model).\n",
      "- This IS NOT expected if you are initializing DPRQuestionEncoder from the checkpoint of a model that you expect to be exactly identical (initializing a BertForSequenceClassification model from a BertForSequenceClassification model).\n",
      "The tokenizer class you load from this checkpoint is not the same type as the class this function is called from. It may result in unexpected tokenization. \n",
      "The tokenizer class you load from this checkpoint is 'DPRQuestionEncoderTokenizer'. \n",
      "The class this function is called from is 'DPRContextEncoderTokenizer'.\n"
     ]
    },
    {
     "name": "stdout",
     "output_type": "stream",
     "text": [
      "Loading context dpr...\n"
     ]
    },
    {
     "name": "stderr",
     "output_type": "stream",
     "text": [
      "Some weights of the model checkpoint at facebook/dpr-ctx_encoder-single-nq-base were not used when initializing DPRContextEncoder: ['ctx_encoder.bert_model.pooler.dense.bias', 'ctx_encoder.bert_model.pooler.dense.weight']\n",
      "- This IS expected if you are initializing DPRContextEncoder from the checkpoint of a model trained on another task or with another architecture (e.g. initializing a BertForSequenceClassification model from a BertForPreTraining model).\n",
      "- This IS NOT expected if you are initializing DPRContextEncoder from the checkpoint of a model that you expect to be exactly identical (initializing a BertForSequenceClassification model from a BertForSequenceClassification model).\n"
     ]
    },
    {
     "name": "stdout",
     "output_type": "stream",
     "text": [
      "Loading bge large...\n",
      "Loading gte large...\n",
      "Loading bm25...\n"
     ]
    },
    {
     "data": {
      "application/vnd.jupyter.widget-view+json": {
       "model_id": "10aca573e52247449d0ab522fee6758e",
       "version_major": 2,
       "version_minor": 0
      },
      "text/plain": [
       "  0%|          | 0/25657 [00:00<?, ?it/s]"
      ]
     },
     "metadata": {},
     "output_type": "display_data"
    },
    {
     "name": "stderr",
     "output_type": "stream",
     "text": [
      "Procesando corpus: 100%|█████████████████████████████████████████████████████| 25657/25657 [00:00<00:00, 2176467.47it/s]\n",
      "Procesando contriever...: 100%|████████████████████████████████████████████████████| 201/201 [03:51<00:00,  1.15s/batch]\n",
      "Procesando contriever...: 100%|████████████████████████████████████████████████████| 201/201 [03:55<00:00,  1.17s/batch]\n",
      "Procesando dpr...: 100%|███████████████████████████████████████████████████████████| 201/201 [04:54<00:00,  1.46s/batch]\n"
     ]
    },
    {
     "data": {
      "application/vnd.jupyter.widget-view+json": {
       "model_id": "092b5e73e7da4529903dd7eee4c79c81",
       "version_major": 2,
       "version_minor": 0
      },
      "text/plain": [
       "Batches:   0%|          | 0/201 [00:00<?, ?it/s]"
      ]
     },
     "metadata": {},
     "output_type": "display_data"
    },
    {
     "data": {
      "application/vnd.jupyter.widget-view+json": {
       "model_id": "b1f8caf83c8e46fdaa2d181b82660891",
       "version_major": 2,
       "version_minor": 0
      },
      "text/plain": [
       "Batches:   0%|          | 0/201 [00:00<?, ?it/s]"
      ]
     },
     "metadata": {},
     "output_type": "display_data"
    },
    {
     "name": "stdout",
     "output_type": "stream",
     "text": [
      "Procesando BM25 embeddings\n",
      "Embeddings finalizado\n"
     ]
    },
    {
     "name": "stderr",
     "output_type": "stream",
     "text": [
      "creando points: 25657it [03:52, 110.31it/s]\n",
      "Insertando documentos en lotes: 100%|█████████████████████████████████████████████████| 201/201 [01:30<00:00,  2.23it/s]\n"
     ]
    },
    {
     "name": "stdout",
     "output_type": "stream",
     "text": [
      "Coleccion creada\n"
     ]
    }
   ],
   "source": [
    "from kdir_src.utils.qdrant import process_corpus\n",
    "dataset_name = 'scidocs'\n",
    "process_corpus(dataset_name, 128, 128)"
   ]
  },
  {
   "cell_type": "markdown",
   "id": "9b4eeb3a-7135-426c-a49e-bd353c70784e",
   "metadata": {
    "jp-MarkdownHeadingCollapsed": true
   },
   "source": [
    "## SciFact"
   ]
  },
  {
   "cell_type": "code",
   "execution_count": 1,
   "id": "2c7f0b1c-e8fe-419d-93e8-cd58efe98603",
   "metadata": {},
   "outputs": [
    {
     "name": "stdout",
     "output_type": "stream",
     "text": [
      "Loading contriever...\n",
      "Loading contriever FT...\n",
      "Loading question dpr...\n"
     ]
    },
    {
     "name": "stderr",
     "output_type": "stream",
     "text": [
      "Some weights of the model checkpoint at facebook/dpr-question_encoder-single-nq-base were not used when initializing DPRQuestionEncoder: ['question_encoder.bert_model.pooler.dense.bias', 'question_encoder.bert_model.pooler.dense.weight']\n",
      "- This IS expected if you are initializing DPRQuestionEncoder from the checkpoint of a model trained on another task or with another architecture (e.g. initializing a BertForSequenceClassification model from a BertForPreTraining model).\n",
      "- This IS NOT expected if you are initializing DPRQuestionEncoder from the checkpoint of a model that you expect to be exactly identical (initializing a BertForSequenceClassification model from a BertForSequenceClassification model).\n"
     ]
    },
    {
     "name": "stdout",
     "output_type": "stream",
     "text": [
      "Loading context dpr...\n"
     ]
    },
    {
     "name": "stderr",
     "output_type": "stream",
     "text": [
      "The tokenizer class you load from this checkpoint is not the same type as the class this function is called from. It may result in unexpected tokenization. \n",
      "The tokenizer class you load from this checkpoint is 'DPRQuestionEncoderTokenizer'. \n",
      "The class this function is called from is 'DPRContextEncoderTokenizer'.\n",
      "Some weights of the model checkpoint at facebook/dpr-ctx_encoder-single-nq-base were not used when initializing DPRContextEncoder: ['ctx_encoder.bert_model.pooler.dense.bias', 'ctx_encoder.bert_model.pooler.dense.weight']\n",
      "- This IS expected if you are initializing DPRContextEncoder from the checkpoint of a model trained on another task or with another architecture (e.g. initializing a BertForSequenceClassification model from a BertForPreTraining model).\n",
      "- This IS NOT expected if you are initializing DPRContextEncoder from the checkpoint of a model that you expect to be exactly identical (initializing a BertForSequenceClassification model from a BertForSequenceClassification model).\n"
     ]
    },
    {
     "name": "stdout",
     "output_type": "stream",
     "text": [
      "Loading bge large...\n",
      "Loading gte large...\n",
      "Loading bm25...\n"
     ]
    },
    {
     "data": {
      "application/vnd.jupyter.widget-view+json": {
       "model_id": "8bb126b5bda34de288b2f9317fd95a87",
       "version_major": 2,
       "version_minor": 0
      },
      "text/plain": [
       "../datasets/scifact.zip:   0%|          | 0.00/2.69M [00:00<?, ?iB/s]"
      ]
     },
     "metadata": {},
     "output_type": "display_data"
    },
    {
     "data": {
      "application/vnd.jupyter.widget-view+json": {
       "model_id": "52bd15b870cc4013b43c4f0395bbdb0c",
       "version_major": 2,
       "version_minor": 0
      },
      "text/plain": [
       "  0%|          | 0/5183 [00:00<?, ?it/s]"
      ]
     },
     "metadata": {},
     "output_type": "display_data"
    },
    {
     "name": "stderr",
     "output_type": "stream",
     "text": [
      "Procesando corpus: 100%|███████████████████████████████████████████████████████| 5183/5183 [00:00<00:00, 2318834.95it/s]\n",
      "Procesando contriever...: 100%|██████████████████████████████████████████████████████| 41/41 [00:46<00:00,  1.12s/batch]\n",
      "Procesando contriever...: 100%|██████████████████████████████████████████████████████| 41/41 [00:47<00:00,  1.15s/batch]\n",
      "Procesando dpr...: 100%|█████████████████████████████████████████████████████████████| 41/41 [01:03<00:00,  1.54s/batch]\n"
     ]
    },
    {
     "data": {
      "application/vnd.jupyter.widget-view+json": {
       "model_id": "d6064c00279c47a1b236c5a3de276471",
       "version_major": 2,
       "version_minor": 0
      },
      "text/plain": [
       "Batches:   0%|          | 0/41 [00:00<?, ?it/s]"
      ]
     },
     "metadata": {},
     "output_type": "display_data"
    },
    {
     "data": {
      "application/vnd.jupyter.widget-view+json": {
       "model_id": "e2fa46b1b07042d2978075834fed901f",
       "version_major": 2,
       "version_minor": 0
      },
      "text/plain": [
       "Batches:   0%|          | 0/41 [00:00<?, ?it/s]"
      ]
     },
     "metadata": {},
     "output_type": "display_data"
    },
    {
     "name": "stdout",
     "output_type": "stream",
     "text": [
      "Procesando BM25 embeddings\n",
      "Embeddings finalizado\n"
     ]
    },
    {
     "name": "stderr",
     "output_type": "stream",
     "text": [
      "creando points: 5183it [00:44, 116.54it/s]\n",
      "Insertando documentos en lotes: 100%|███████████████████████████████████████████████████| 41/41 [00:18<00:00,  2.23it/s]"
     ]
    },
    {
     "name": "stdout",
     "output_type": "stream",
     "text": [
      "Coleccion creada\n"
     ]
    },
    {
     "name": "stderr",
     "output_type": "stream",
     "text": [
      "\n"
     ]
    }
   ],
   "source": [
    "from kdir_src.utils.qdrant import process_corpus\n",
    "dataset_name = 'scifact'\n",
    "process_corpus(dataset_name, 128, 128)"
   ]
  },
  {
   "cell_type": "markdown",
   "id": "df9daaa0-48b6-453d-9c49-ad985e214696",
   "metadata": {},
   "source": [
    "## webis-touche2020"
   ]
  },
  {
   "cell_type": "code",
   "execution_count": null,
   "id": "d6873cfe-7bfd-4353-815d-ece5fc8be14b",
   "metadata": {},
   "outputs": [
    {
     "name": "stdout",
     "output_type": "stream",
     "text": [
      "Loading contriever...\n",
      "Loading contriever FT...\n",
      "Loading question dpr...\n"
     ]
    },
    {
     "name": "stderr",
     "output_type": "stream",
     "text": [
      "Some weights of the model checkpoint at facebook/dpr-question_encoder-single-nq-base were not used when initializing DPRQuestionEncoder: ['question_encoder.bert_model.pooler.dense.bias', 'question_encoder.bert_model.pooler.dense.weight']\n",
      "- This IS expected if you are initializing DPRQuestionEncoder from the checkpoint of a model trained on another task or with another architecture (e.g. initializing a BertForSequenceClassification model from a BertForPreTraining model).\n",
      "- This IS NOT expected if you are initializing DPRQuestionEncoder from the checkpoint of a model that you expect to be exactly identical (initializing a BertForSequenceClassification model from a BertForSequenceClassification model).\n",
      "The tokenizer class you load from this checkpoint is not the same type as the class this function is called from. It may result in unexpected tokenization. \n",
      "The tokenizer class you load from this checkpoint is 'DPRQuestionEncoderTokenizer'. \n",
      "The class this function is called from is 'DPRContextEncoderTokenizer'.\n"
     ]
    },
    {
     "name": "stdout",
     "output_type": "stream",
     "text": [
      "Loading context dpr...\n"
     ]
    },
    {
     "name": "stderr",
     "output_type": "stream",
     "text": [
      "Some weights of the model checkpoint at facebook/dpr-ctx_encoder-single-nq-base were not used when initializing DPRContextEncoder: ['ctx_encoder.bert_model.pooler.dense.bias', 'ctx_encoder.bert_model.pooler.dense.weight']\n",
      "- This IS expected if you are initializing DPRContextEncoder from the checkpoint of a model trained on another task or with another architecture (e.g. initializing a BertForSequenceClassification model from a BertForPreTraining model).\n",
      "- This IS NOT expected if you are initializing DPRContextEncoder from the checkpoint of a model that you expect to be exactly identical (initializing a BertForSequenceClassification model from a BertForSequenceClassification model).\n"
     ]
    },
    {
     "name": "stdout",
     "output_type": "stream",
     "text": [
      "Loading bge large...\n",
      "Loading gte large...\n",
      "Loading bm25...\n"
     ]
    },
    {
     "data": {
      "application/vnd.jupyter.widget-view+json": {
       "model_id": "6ee0eaf32fec4ab39b62b8a93d796774",
       "version_major": 2,
       "version_minor": 0
      },
      "text/plain": [
       "  0%|          | 0/382545 [00:00<?, ?it/s]"
      ]
     },
     "metadata": {},
     "output_type": "display_data"
    },
    {
     "name": "stderr",
     "output_type": "stream",
     "text": [
      "Procesando corpus: 100%|███████████████████████████████████████████████████| 382545/382545 [00:00<00:00, 2396930.43it/s]\n",
      "Procesando contriever...:   3%|█▎                                                   | 19/748 [01:28<57:01,  4.69s/batch]"
     ]
    }
   ],
   "source": [
    "from kdir_src.utils.qdrant import process_corpus_save_embedding\n",
    "dataset_name = 'webis-touche2020'\n",
    "process_corpus_save_embedding(dataset_name,'contriever','../embeddings/touche2020/', 512)"
   ]
  }
 ],
 "metadata": {
  "kernelspec": {
   "display_name": "Python 3 (ipykernel)",
   "language": "python",
   "name": "python3"
  },
  "language_info": {
   "codemirror_mode": {
    "name": "ipython",
    "version": 3
   },
   "file_extension": ".py",
   "mimetype": "text/x-python",
   "name": "python",
   "nbconvert_exporter": "python",
   "pygments_lexer": "ipython3",
   "version": "3.10.14"
  }
 },
 "nbformat": 4,
 "nbformat_minor": 5
}
