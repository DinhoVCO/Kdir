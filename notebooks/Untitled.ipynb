{
 "cells": [
  {
   "cell_type": "code",
   "execution_count": 2,
   "id": "a4007091-e508-40b8-b58b-75d63d53de83",
   "metadata": {},
   "outputs": [
    {
     "name": "stdout",
     "output_type": "stream",
     "text": [
      "{\n",
      "  \"id_A\": {\n",
      "    \"doc_01\": 2,\n",
      "    \"doc_03\": 1,\n",
      "    \"doc_07\": 1\n",
      "  },\n",
      "  \"id_B\": {\n",
      "    \"doc_02\": 3,\n",
      "    \"doc_08\": 1\n",
      "  }\n",
      "}\n"
     ]
    }
   ],
   "source": [
    "import json\n",
    "\n",
    "# --- 1. Datos iniciales (sin cambios) ---\n",
    "dict_1 = {'id_A': {'doc_01': 0.98}, 'id_B': {'doc_02': 0.87}}\n",
    "dict_2 = {'id_A': {'doc_01': 0.95}, 'id_B': {'doc_02': 0.91}}\n",
    "dict_3 = {'id_A': {'doc_03': 0.85}, 'id_B': {'doc_02': 0.93}}\n",
    "dict_4 = {'id_A': {'doc_07': 0.99}, 'id_B': {'doc_08': 0.76}}\n",
    "\n",
    "lista_de_diccionarios = [dict_1, dict_2, dict_3, dict_4]\n",
    "\n",
    "# --- 2. Contar las repeticiones (sin cambios) ---\n",
    "doc_counts = {}\n",
    "for d in lista_de_diccionarios:\n",
    "    for id_clave, docs in d.items():\n",
    "        if id_clave not in doc_counts:\n",
    "            doc_counts[id_clave] = {}\n",
    "        for doc_id in docs.keys():\n",
    "            doc_counts[id_clave][doc_id] = doc_counts[id_clave].get(doc_id, 0) + 1\n",
    "\n",
    "# --- 3. Ordenar y crear el diccionario final (AQUÍ ESTÁ EL CAMBIO) ---\n",
    "# Se crea el diccionario final que contendrá los resultados.\n",
    "sorted_doc_counts_dict = {}\n",
    "\n",
    "# Se itera sobre el diccionario de conteos.\n",
    "for id_clave, counts in doc_counts.items():\n",
    "    # Primero, se obtiene la lista ordenada de tuplas (doc_id, conteo).\n",
    "    sorted_docs_list = sorted(counts.items(), key=lambda item: item[1], reverse=True)\n",
    "    \n",
    "    # ¡NUEVO! Se convierte esa lista ordenada de nuevo en un diccionario.\n",
    "    # Python 3.7+ mantiene el orden de inserción, por lo que el diccionario quedará ordenado.\n",
    "    ordered_dict = dict(sorted_docs_list)\n",
    "    \n",
    "    # Se almacena el nuevo diccionario ordenado en el resultado final.\n",
    "    sorted_doc_counts_dict[id_clave] = ordered_dict\n",
    "\n",
    "# --- 4. Imprimir el resultado final ---\n",
    "print(json.dumps(sorted_doc_counts_dict, indent=2))"
   ]
  },
  {
   "cell_type": "code",
   "execution_count": 2,
   "id": "c164ea59-e9ea-479d-a003-3318508e8033",
   "metadata": {},
   "outputs": [],
   "source": [
    "import json\n",
    "\n",
    "def reciprocal_rank_fusion(results: list[list], k=60):\n",
    "    \"\"\" \n",
    "    Reciprocal Rank Fusion que toma múltiples listas de documentos clasificados\n",
    "    y un parámetro opcional k utilizado en la fórmula RRF.\n",
    "    Esta versión no tiene dependencias externas como LangChain.\n",
    "    \"\"\"\n",
    "    \n",
    "    # Inicializa un diccionario para mantener los puntajes fusionados de cada documento único\n",
    "    fused_scores = {}\n",
    "\n",
    "    # Itera a través de cada lista de documentos clasificados\n",
    "    for docs in results:\n",
    "        # Itera a través de cada documento en la lista, con su rango (posición)\n",
    "        for rank, doc in enumerate(docs):\n",
    "            # Convierte el documento a un formato de string para usarlo como clave.\n",
    "            # Usamos json.dumps con sort_keys=True para asegurar que el mismo\n",
    "            # diccionario siempre produzca el mismo string.\n",
    "            doc_str = json.dumps(doc, sort_keys=True)\n",
    "            \n",
    "            # Si el documento aún no está en el diccionario fused_scores, añádelo con un puntaje inicial de 0\n",
    "            if doc_str not in fused_scores:\n",
    "                fused_scores[doc_str] = 0\n",
    "            \n",
    "            # Actualiza el puntaje del documento usando la fórmula RRF: 1 / (rank + k)\n",
    "            fused_scores[doc_str] += 1 / (rank + k)\n",
    "\n",
    "    # Ordena los documentos basándose en sus puntajes fusionados en orden descendente\n",
    "    reranked_results = [\n",
    "        (json.loads(doc), score)\n",
    "        for doc, score in sorted(fused_scores.items(), key=lambda x: x[1], reverse=True)\n",
    "    ]\n",
    "\n",
    "    # Devuelve los resultados re-clasificados como una lista de tuplas (documento, puntaje)\n",
    "    return reranked_results"
   ]
  },
  {
   "cell_type": "code",
   "execution_count": 5,
   "id": "b7395059-1e82-4f0d-853b-a95240ca46bf",
   "metadata": {},
   "outputs": [
    {
     "name": "stdout",
     "output_type": "stream",
     "text": [
      "Puntaje: 0.0331 -> Documento: {'id': 'B'}\n",
      "Puntaje: 0.0328 -> Documento: {'id': 'A'}\n",
      "Puntaje: 0.0164 -> Documento: {'id': 'C'}\n"
     ]
    }
   ],
   "source": [
    "# Documentos de ejemplo (pueden ser cualquier objeto serializable a JSON)\n",
    "doc1 = {\"id\": \"A\"}\n",
    "doc2 = {\"id\": \"B\"}\n",
    "doc3 = {\"id\": \"C\"}\n",
    "\n",
    "# Listas de resultados de dos sistemas de búsqueda diferentes\n",
    "results_list_1 = [doc1, doc2]\n",
    "results_list_2 = [doc2, doc3, doc1]\n",
    "\n",
    "# Combinar las listas usando RRF\n",
    "final_ranking = reciprocal_rank_fusion([results_list_1, results_list_2], k=60)\n",
    "\n",
    "# Imprimir el ranking final\n",
    "for doc, score in final_ranking:\n",
    "    print(f\"Puntaje: {score:.4f} -> Documento: {doc}\")\n",
    "\n",
    "# Salida esperada:\n",
    "# Puntaje: 0.0331 -> Documento: {'id': 'B', 'text': 'Contenido del documento B'}\n",
    "# Puntaje: 0.0328 -> Documento: {'id': 'A', 'text': 'Este es el documento A'}\n",
    "# Puntaje: 0.0164 -> Documento: {'id': 'C', 'text': 'Información sobre C'}"
   ]
  },
  {
   "cell_type": "code",
   "execution_count": 6,
   "id": "1b7b07cf-f4a7-4ce3-b6f9-cdba57f810e3",
   "metadata": {},
   "outputs": [
    {
     "name": "stdout",
     "output_type": "stream",
     "text": [
      "[({'id': 'B'}, 0.03306010928961749), ({'id': 'A'}, 0.03279569892473118), ({'id': 'C'}, 0.01639344262295082)]\n"
     ]
    }
   ],
   "source": [
    "print(final_ranking)"
   ]
  },
  {
   "cell_type": "code",
   "execution_count": 7,
   "id": "0244b82f-841c-4bfe-8878-1ea769608b48",
   "metadata": {},
   "outputs": [],
   "source": [
    "def reciprocal_rank_fusion_from_scores(results: list[dict], k=60):\n",
    "    \"\"\"\n",
    "    Realiza Reciprocal Rank Fusion a partir de una lista de diccionarios.\n",
    "    Cada diccionario contiene pares {id_documento: puntaje}.\n",
    "    \"\"\"\n",
    "    \n",
    "    # Diccionario para mantener los puntajes RRF acumulados de cada documento\n",
    "    fused_scores = {}\n",
    "\n",
    "    # Itera a través de cada diccionario de resultados (de cada sistema de búsqueda)\n",
    "    for result_dict in results:\n",
    "        \n",
    "        # --- PASO CLAVE: Convertir puntajes en una lista ordenada por rango ---\n",
    "        # Ordenamos los items del diccionario por su valor (puntaje) en orden descendente.\n",
    "        # Esto nos da una lista de tuplas (id_doc, score) ordenada por relevancia.\n",
    "        ranked_list = [\n",
    "            doc_id for doc_id, score in sorted(result_dict.items(), key=lambda item: item[1], reverse=True)\n",
    "        ]\n",
    "        \n",
    "        # --- Ahora aplicamos la lógica RRF original sobre la lista ordenada ---\n",
    "        # Itera a través de la lista recién creada para obtener el rango y el id del documento\n",
    "        for rank, doc_id in enumerate(ranked_list):\n",
    "            \n",
    "            # Si es la primera vez que vemos este doc_id, lo inicializamos\n",
    "            if doc_id not in fused_scores:\n",
    "                fused_scores[doc_id] = 0\n",
    "            \n",
    "            # Sumamos el puntaje RRF basado en el rango\n",
    "            fused_scores[doc_id] += 1 / (rank + k)\n",
    "\n",
    "    # Ordenamos el resultado final basado en el puntaje RRF acumulado\n",
    "    reranked_results = sorted(fused_scores.items(), key=lambda item: item[1], reverse=True)\n",
    "\n",
    "    # Devolvemos la lista final de tuplas (id_documento, puntaje_rrf_final)\n",
    "    return reranked_results"
   ]
  },
  {
   "cell_type": "code",
   "execution_count": 8,
   "id": "3ade4693-e041-4185-b42b-87cda087aaae",
   "metadata": {},
   "outputs": [
    {
     "name": "stdout",
     "output_type": "stream",
     "text": [
      "Puntaje RRF: 0.0331 -> Documento: doc_A\n",
      "Puntaje RRF: 0.0325 -> Documento: doc_C\n",
      "Puntaje RRF: 0.0167 -> Documento: doc_B\n"
     ]
    }
   ],
   "source": [
    "# Resultados del Sistema 1 (doc_A es el mejor)\n",
    "resultados_1 = {'doc_A': 0.9, 'doc_C': 0.5}\n",
    "\n",
    "# Resultados del Sistema 2 (doc_B es el mejor)\n",
    "resultados_2 = {'doc_B': 0.8, 'doc_A': 0.7, 'doc_C': 0.6}\n",
    "\n",
    "# Lista de todos los resultados\n",
    "todas_las_listas = [resultados_1, resultados_2]\n",
    "\n",
    "# Ejecutar la fusión\n",
    "ranking_final = reciprocal_rank_fusion_from_scores(todas_las_listas, k=60)\n",
    "\n",
    "# Imprimir el resultado\n",
    "for doc_id, score in ranking_final:\n",
    "    print(f\"Puntaje RRF: {score:.4f} -> Documento: {doc_id}\")"
   ]
  },
  {
   "cell_type": "code",
   "execution_count": 9,
   "id": "ab4d64a4-7988-4242-a281-3216154d5bd9",
   "metadata": {},
   "outputs": [
    {
     "data": {
      "text/plain": [
       "[('doc_A', 0.03306010928961749),\n",
       " ('doc_C', 0.03252247488101534),\n",
       " ('doc_B', 0.016666666666666666)]"
      ]
     },
     "execution_count": 9,
     "metadata": {},
     "output_type": "execute_result"
    }
   ],
   "source": [
    "ranking_final"
   ]
  },
  {
   "cell_type": "code",
   "execution_count": 10,
   "id": "378a8031-410f-4377-8972-6b1a5489d0c4",
   "metadata": {},
   "outputs": [],
   "source": [
    "def reciprocal_rank_fusion_from_scores(results: list[dict], k=60) -> dict:\n",
    "    \"\"\"\n",
    "    Realiza Reciprocal Rank Fusion y devuelve un diccionario ordenado\n",
    "    con los resultados {id_documento: puntaje_rrf_final}.\n",
    "    \"\"\"\n",
    "    \n",
    "    # Diccionario para mantener los puntajes RRF acumulados de cada documento\n",
    "    fused_scores = {}\n",
    "\n",
    "    # Itera a través de cada diccionario de resultados\n",
    "    for result_dict in results:\n",
    "        \n",
    "        # 1. Convertir puntajes en una lista ordenada por rango\n",
    "        ranked_list = [\n",
    "            doc_id for doc_id, score in sorted(result_dict.items(), key=lambda item: item[1], reverse=True)\n",
    "        ]\n",
    "        \n",
    "        # 2. Aplicar la lógica RRF sobre la lista ordenada\n",
    "        for rank, doc_id in enumerate(ranked_list):\n",
    "            if doc_id not in fused_scores:\n",
    "                fused_scores[doc_id] = 0\n",
    "            fused_scores[doc_id] += 1 / (rank + k)\n",
    "\n",
    "    # 3. Ordenar los resultados y convertirlos de nuevo a un diccionario\n",
    "    # Primero, obtenemos una lista de tuplas ordenada por el puntaje RRF\n",
    "    sorted_items = sorted(fused_scores.items(), key=lambda item: item[1], reverse=True)\n",
    "    \n",
    "    # Luego, convertimos esa lista ordenada en un nuevo diccionario\n",
    "    # En Python 3.7+ este diccionario mantendrá el orden\n",
    "    reranked_dict = dict(sorted_items)\n",
    "\n",
    "    return reranked_dict"
   ]
  },
  {
   "cell_type": "code",
   "execution_count": 11,
   "id": "bddfb94b-623d-4627-8e11-f5a6de7c7344",
   "metadata": {},
   "outputs": [
    {
     "name": "stdout",
     "output_type": "stream",
     "text": [
      "Diccionario de ranking final:\n",
      "{'doc_A': 0.03306010928961749, 'doc_C': 0.03252247488101534, 'doc_B': 0.016666666666666666}\n",
      "\n",
      "Iterando sobre el diccionario ordenado:\n",
      "Puntaje RRF: 0.0331 -> Documento: doc_A\n",
      "Puntaje RRF: 0.0325 -> Documento: doc_C\n",
      "Puntaje RRF: 0.0167 -> Documento: doc_B\n"
     ]
    }
   ],
   "source": [
    "# Resultados del Sistema 1\n",
    "resultados_1 = {'doc_A': 0.9, 'doc_C': 0.5}\n",
    "\n",
    "# Resultados del Sistema 2\n",
    "resultados_2 = {'doc_B': 0.8, 'doc_A': 0.7, 'doc_C': 0.6}\n",
    "\n",
    "# Lista de todos los resultados\n",
    "todas_las_listas = [resultados_1, resultados_2]\n",
    "\n",
    "# Ejecutar la fusión\n",
    "ranking_final_dict = reciprocal_rank_fusion_from_scores(todas_las_listas, k=60)\n",
    "\n",
    "# Imprimir el diccionario resultante\n",
    "print(\"Diccionario de ranking final:\")\n",
    "print(ranking_final_dict)\n",
    "\n",
    "# Puedes iterar sobre él y ver que el orden se mantiene\n",
    "print(\"\\nIterando sobre el diccionario ordenado:\")\n",
    "for doc_id, score in ranking_final_dict.items():\n",
    "    print(f\"Puntaje RRF: {score:.4f} -> Documento: {doc_id}\")"
   ]
  },
  {
   "cell_type": "code",
   "execution_count": null,
   "id": "f2c6aa4b-68fc-4afa-9f3f-e6b6b0eb42cb",
   "metadata": {},
   "outputs": [],
   "source": []
  }
 ],
 "metadata": {
  "kernelspec": {
   "display_name": "Python 3 (ipykernel)",
   "language": "python",
   "name": "python3"
  },
  "language_info": {
   "codemirror_mode": {
    "name": "ipython",
    "version": 3
   },
   "file_extension": ".py",
   "mimetype": "text/x-python",
   "name": "python",
   "nbconvert_exporter": "python",
   "pygments_lexer": "ipython3",
   "version": "3.10.14"
  }
 },
 "nbformat": 4,
 "nbformat_minor": 5
}
