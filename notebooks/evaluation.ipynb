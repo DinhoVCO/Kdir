{
 "cells": [
  {
   "cell_type": "code",
   "execution_count": 1,
   "id": "ece481f4-1e3d-4d0f-92c7-867ceef3d6b0",
   "metadata": {},
   "outputs": [
    {
     "name": "stderr",
     "output_type": "stream",
     "text": [
      "/local1/ronaldinho/enviroments/env_kdir/lib/python3.10/site-packages/beir/util.py:11: TqdmExperimentalWarning: Using `tqdm.autonotebook.tqdm` in notebook mode. Use `tqdm.tqdm` instead to force console mode (e.g. in jupyter console)\n",
      "  from tqdm.autonotebook import tqdm\n"
     ]
    }
   ],
   "source": [
    "from kdir_src.utils.evaluation import evaluate_all_results"
   ]
  },
  {
   "cell_type": "code",
   "execution_count": 2,
   "id": "f53dd907-bd2f-4b66-a27f-d1b29426b6dd",
   "metadata": {},
   "outputs": [
    {
     "name": "stdout",
     "output_type": "stream",
     "text": [
      "arguana\n"
     ]
    },
    {
     "data": {
      "application/vnd.jupyter.widget-view+json": {
       "model_id": "11bdc9bca3ed4423a3e5738f3e03979b",
       "version_major": 2,
       "version_minor": 0
      },
      "text/plain": [
       "  0%|          | 0/8674 [00:00<?, ?it/s]"
      ]
     },
     "metadata": {},
     "output_type": "display_data"
    },
    {
     "name": "stdout",
     "output_type": "stream",
     "text": [
      "Calculando metricas de results_contriever_ft.json\n",
      "  Métricas guardadas en: ../metrics/basic/arguana/results_contriever_ft.json\n",
      "Calculando metricas de results_bge_large.json\n",
      "  Métricas guardadas en: ../metrics/basic/arguana/results_bge_large.json\n",
      "Calculando metricas de results_dpr.json\n",
      "  Métricas guardadas en: ../metrics/basic/arguana/results_dpr.json\n",
      "Calculando metricas de results_contriever.json\n",
      "  Métricas guardadas en: ../metrics/basic/arguana/results_contriever.json\n",
      "Calculando metricas de results_gte_large.json\n",
      "  Métricas guardadas en: ../metrics/basic/arguana/results_gte_large.json\n",
      "Calculando metricas de results_sparse_bm25.json\n",
      "  Métricas guardadas en: ../metrics/basic/arguana/results_sparse_bm25.json\n"
     ]
    }
   ],
   "source": [
    "evaluate_all_results('../results/basic/arguana')"
   ]
  }
 ],
 "metadata": {
  "kernelspec": {
   "display_name": "Python 3 (ipykernel)",
   "language": "python",
   "name": "python3"
  },
  "language_info": {
   "codemirror_mode": {
    "name": "ipython",
    "version": 3
   },
   "file_extension": ".py",
   "mimetype": "text/x-python",
   "name": "python",
   "nbconvert_exporter": "python",
   "pygments_lexer": "ipython3",
   "version": "3.10.14"
  }
 },
 "nbformat": 4,
 "nbformat_minor": 5
}
