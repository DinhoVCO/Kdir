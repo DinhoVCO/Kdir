{
 "cells": [
  {
   "cell_type": "code",
   "execution_count": null,
   "id": "7275cd56",
   "metadata": {},
   "outputs": [],
   "source": [
    "#Lite LLM"
   ]
  },
  {
   "cell_type": "code",
   "execution_count": 4,
   "id": "08d24af4",
   "metadata": {},
   "outputs": [],
   "source": [
    "import os\n",
    "import json\n",
    "import openai\n",
    "import time\n",
    "\n",
    "SSL_CERT_FILE2 = \"C:/Users/FXO0/Documents/arquivos_e_base_de_dados/ambientes/DSV_LOCAL/artifacts/bundle.pem\"\n",
    "AZURE_OPENAI_API_KEY = \"3da50d81507e46349d53cb04752996da\"\n",
    "AZURE_OPENAI_ENDPOINT = \"https://apit.petrobras.com.br/ia/texto/v1/litellm/litellm\"\n",
    "OPENAI_API_VERSION = \"2024-12-01-preview\"#\"2023-08-01-preview\"\n",
    "os.environ['SSL_CERT_FILE'] = SSL_CERT_FILE2\n",
    "client = openai.AzureOpenAI(\n",
    "    azure_endpoint=AZURE_OPENAI_ENDPOINT,\n",
    "    api_key=AZURE_OPENAI_API_KEY,\n",
    "    api_version=OPENAI_API_VERSION\n",
    ")\n"
   ]
  },
  {
   "cell_type": "code",
   "execution_count": 9,
   "id": "9fd11c73",
   "metadata": {},
   "outputs": [],
   "source": [
    "import os\n",
    "from openai import AzureOpenAI\n",
    "from configparser import ConfigParser, ExtendedInterpolation\n",
    "import httpx\n",
    "import numpy as np\n",
    "\n",
    "http_client = httpx.Client(verify=SSL_CERT_FILE2)"
   ]
  },
  {
   "cell_type": "code",
   "execution_count": 10,
   "id": "a37df109",
   "metadata": {},
   "outputs": [],
   "source": [
    "models_resp = http_client.get(AZURE_OPENAI_ENDPOINT + '/models', headers={\n",
    "    'api-key': AZURE_OPENAI_API_KEY,\n",
    "    'Authorization': 'Bearer ' + AZURE_OPENAI_API_KEY\n",
    "})"
   ]
  },
  {
   "cell_type": "code",
   "execution_count": 13,
   "id": "4b968fc9",
   "metadata": {},
   "outputs": [
    {
     "data": {
      "text/plain": [
       "46"
      ]
     },
     "execution_count": 13,
     "metadata": {},
     "output_type": "execute_result"
    }
   ],
   "source": [
    "all_models = [m['id'] for m in models_resp.json()['data']]\n",
    "len(all_models)"
   ]
  },
  {
   "cell_type": "code",
   "execution_count": 14,
   "id": "a627cbfb",
   "metadata": {},
   "outputs": [
    {
     "data": {
      "text/plain": [
       "['claude-3-5-haiku-20241022-v1',\n",
       " 'claude-3-7-sonnet-20250219',\n",
       " 'claude-instant-v1',\n",
       " 'claude-v2',\n",
       " 'claude-v2.1',\n",
       " 'claude-v3-haiku',\n",
       " 'claude-v3-sonnet',\n",
       " 'claude-v35-sonnet',\n",
       " 'claude-v35-sonnet-v2',\n",
       " 'command-light-v14',\n",
       " 'command-r',\n",
       " 'command-r-plus',\n",
       " 'command-v14',\n",
       " 'dall-e-3',\n",
       " 'deepseek-r1-v1',\n",
       " 'gpt-35-turbo-16k',\n",
       " 'gpt-4o',\n",
       " 'gpt-4o-2024-08-06',\n",
       " 'gpt-4o-mini',\n",
       " 'llama3-1-405b-instruct-v1',\n",
       " 'llama3-1-70b-instruct-v1',\n",
       " 'llama3-1-8b-instruct-v1',\n",
       " 'llama3-2-11b-instruct-v1',\n",
       " 'llama3-2-1b-instruct-v1',\n",
       " 'llama3-2-3b-instruct-v1',\n",
       " 'llama3-2-90b-instruct-v1',\n",
       " 'llama3-3-70b-instruct-v1',\n",
       " 'llama3-70b-instruct',\n",
       " 'llama3-8b-instruct',\n",
       " 'mistral-7b-instruct',\n",
       " 'mistral-large',\n",
       " 'mistral-small',\n",
       " 'mixtral-8x7b-instruct',\n",
       " 'nova-lite-v1',\n",
       " 'nova-micro-v1',\n",
       " 'nova-pro-v1',\n",
       " 'o3',\n",
       " 'o4-mini',\n",
       " 'stable-diffusion-xl-v1']"
      ]
     },
     "execution_count": 14,
     "metadata": {},
     "output_type": "execute_result"
    }
   ],
   "source": [
    "models_chat = sorted(m for m in all_models if 'embedding' not in m)\n",
    "models_chat"
   ]
  },
  {
   "cell_type": "code",
   "execution_count": 48,
   "id": "c681ced8",
   "metadata": {},
   "outputs": [],
   "source": [
    "prompt= \"\\nTask:  Write a single, new, and comprehensive medical article passage that provides a definitive answer to the user's query.\\n\\n- Use the 'Source Documents' provided below as inspiration or incorporate their ideas if they are relevant and helpful.\\n- **Closely match the style of the 'Source Documents'. This includes their approximate length (e.g., a single concise sentence), tone, and overall structure.**\\n- The Generated Document should be logical and maintain a respectful tone.\\n- Your response must ONLY be the text of the final Generated Document, with no introduction or explanation.\\n\\nQuery: Do Cholesterol Statin Drugs Cause Breast Cancer?\\n\\nSource Documents:\\n1. Statin use and risk of breast cancer: a meta-analysis of observational studies.\\n\\nEmerging evidence suggests that statins' may decrease the risk of cancers. However, available evidence on breast cancer is conflicting. We, therefore, examined the association between statin use and risk of breast cancer by conducting a detailed meta-analysis of all observational studies published regarding this subject. PubMed database and bibliographies of retrieved articles were searched for epidemiological studies published up to January 2012, investigating the relationship between statin use and breast cancer. Before meta-analysis, the studies were evaluated for publication bias and heterogeneity. Combined relative risk (RR) and 95 % confidence interval (CI) were calculated using a random-effects model (DerSimonian and Laird method). Subgroup analyses, sensitivity analysis, and cumulative meta-analysis were also performed. A total of 24 (13 cohort and 11 case-control) studies involving more than 2.4 million participants, including 76,759 breast cancer cases contributed to this analysis. We found no evidence of publication bias and evidence of heterogeneity among the studies. Statin use and long-term statin use did not significantly affect breast cancer risk (RR = 0.99, 95 % CI = 0.94, 1.04 and RR = 1.03, 95 % CI = 0.96, 1.11, respectively). When the analysis was stratified into subgroups, there was no evidence that study design substantially influenced the effect estimate. Sensitivity analysis confirmed the stability of our results. Cumulative meta-analysis showed a change in trend of reporting risk of breast cancer from positive to negative in statin users between 1993 and 2011. Our meta-analysis findings do not support the hypothesis that statins' have a protective effect against breast cancer. More randomized clinical trials and observational studies are needed to confirm this association with underlying biological mechanisms in the future.\\n\\n\\n2. Statin use after diagnosis of breast cancer and survival: a population-based cohort study.\\n\\nBACKGROUND: Preclinical studies have shown that statins, particularly simvastatin, can prevent growth in breast cancer cell lines and animal models. We investigated whether statins used after breast cancer diagnosis reduced the risk of breast cancer-specific, or all-cause, mortality in a large cohort of breast cancer patients. METHODS: A cohort of 17,880 breast cancer patients, newly diagnosed between 1998 and 2009, was identified from English cancer registries (from the National Cancer Data Repository). This cohort was linked to the UK Clinical Practice Research Datalink, providing prescription records, and to the Office of National Statistics mortality data (up to 2013), identifying 3694 deaths, including 1469 deaths attributable to breast cancer. Unadjusted and adjusted hazard ratios (HRs) for breast cancer-specific, and all-cause, mortality in statin users after breast cancer diagnosis were calculated using time-dependent Cox regression models. Sensitivity analyses were conducted using multiple imputation methods, propensity score methods and a case-control approach. RESULTS: There was some evidence that statin use after a diagnosis of breast cancer had reduced mortality due to breast cancer and all causes (fully adjusted HR = 0.84 [95% confidence interval = 0.68-1.04] and 0.84 [0.72-0.97], respectively). These associations were more marked for simvastatin 0.79 (0.63-1.00) and 0.81 (0.70-0.95), respectively. CONCLUSIONS: In this large population-based breast cancer cohort, there was some evidence of reduced mortality in statin users after breast cancer diagnosis. However, these associations were weak in magnitude and were attenuated in some sensitivity analyses.\\n\\n\\n3. Long-term statin use and risk of ductal and lobular breast cancer among women 55-74 years of age\\n\\nBackground Mechanistic studies largely support the chemopreventive potential of statins. However, results of epidemiologic studies investigating statin use and breast cancer risk have been inconsistent and lacked the ability to evaluate long-term statin use. Materials and Methods We utilized data from a population-based case-control study of breast cancer conducted in the Seattle-Puget Sound region to investigate the relationship between long-term statin use and breast cancer risk. 916 invasive ductal carcinoma (IDC) and 1,068 invasive lobular carcinoma (ILC) cases 55-74 years of age diagnosed between 2000 and 2008 were compared to 902 control women. All participants were interviewed in-person and data on hypercholesterolemia and all episodes of lipid lowering medication use were collected through a structured questionnaire. We assessed the relationship between statin use and IDC and ILC risk using polytomous logistic regression. Results Current users of statins for 10 years or longer had a 1.83-fold increased risk of IDC [95% confidence interval (CI): 1.14-2.93] and a 1.97-fold increased risk of ILC (95% CI: 1.25-3.12) compared to never users of statins. Among women diagnosed with hypercholesterolemia, current users of statins for 10 years or longer had more than double the risk of both IDC [odds ratio (OR): 2.04, 95% CI: 1.17-3.57] and ILC (OR: 2.43, 95% CI: 1.40-4.21) compared to never users. Conclusion In this contemporary population-based case-control study long-term use of statins was associated with increased risks of both IDC and ILC. Impact Additional studies with similarly high frequencies of statin use for various durations are needed to confirm this novel finding.\\n\\n\\n4. Statin Use and Breast Cancer Survival: A Nationwide Cohort Study from Finland\\n\\nRecent studies have suggested that statins, an established drug group in the prevention of cardiovascular mortality, could delay or prevent breast cancer recurrence but the effect on disease-specific mortality remains unclear. We evaluated risk of breast cancer death among statin users in a population-based cohort of breast cancer patients. The study cohort included all newly diagnosed breast cancer patients in Finland during 1995–2003 (31,236 cases), identified from the Finnish Cancer Registry. Information on statin use before and after the diagnosis was obtained from a national prescription database. We used the Cox proportional hazards regression method to estimate mortality among statin users with statin use as time-dependent variable. A total of 4,151 participants had used statins. During the median follow-up of 3.25 years after the diagnosis (range 0.08–9.0 years) 6,011 participants died, of which 3,619 (60.2%) was due to breast cancer. After adjustment for age, tumor characteristics, and treatment selection, both post-diagnostic and pre-diagnostic statin use were associated with lowered risk of breast cancer death (HR 0.46, 95% CI 0.38–0.55 and HR 0.54, 95% CI 0.44–0.67, respectively). The risk decrease by post-diagnostic statin use was likely affected by healthy adherer bias; that is, the greater likelihood of dying cancer patients to discontinue statin use as the association was not clearly dose-dependent and observed already at low-dose/short-term use. The dose- and time-dependence of the survival benefit among pre-diagnostic statin users suggests a possible causal effect that should be evaluated further in a clinical trial testing statins’ effect on survival in breast cancer patients.\\n\\n\\n5. Men with Low Serum Cholesterol Have a Lower Risk of High-Grade Prostate Cancer in the Placebo Arm of the Prostate Cancer Prevention Trial\\n\\nBackground Several prospective studies suggest that use of cholesterol-lowering statin drugs is inversely associated with advanced stage and possibly high-grade prostate cancer. One study reported that men with low cholesterol had a lower risk of high-grade prostate cancer. Given these findings, we investigated the association between low serum cholesterol and prostate cancer risk in the Prostate Cancer Prevention Trial (PCPT). Methods We conducted a cohort study of 5,586 men aged ≥ 55 years old who were randomized to the placebo arm of the PCPT between 1993 and 1996. Serum cholesterol was measured enzymatically at entry. By the end of follow-up, 1,251 prostate cancer cases were confirmed. We used logistic regression to calculate the multivariable odds ratio (OR) of total, and Gleason 2-6 (n=993), 7 (n=199), and 8-10 (n=59) prostate cancer comparing low (normal: < 200 mg/dL) to high (borderline and elevated cholesterol: ≥ 200 mg/dL) serum cholesterol. Results Men with low cholesterol had a lower risk of Gleason 8-10 prostate cancer (OR=0.41, 95% confidence interval (CI) 0.22-0.77) than men with high cholesterol. No association was present for prostate cancer overall (OR=0.97, 95% CI 0.85-1.11), Gleason 2-6 disease (OR=1.03, 95% CI 0.89-1.18), or Gleason 7 disease (OR=0.93, 95% CI 0.69-1.24). Conclusion These prospective results support that men with low cholesterol have a reduced risk of high-grade prostate cancer. These and other contemporary data suggest that cholesterol metabolism should be investigated further in the etiology of prostate cancer.\\n\\n\\n\\nGenerated Document:\\n\\n\"\n",
    "\n",
    "messages = [\n",
    "    {\"role\": \"user\", \"content\": prompt},\n",
    "]\n",
    "\n",
    "response = client.chat.completions.create(\n",
    "    model= 'command-light-v14',\n",
    "    messages=messages,\n",
    "    temperature=0.0,\n",
    "    max_tokens=512,\n",
    "    #top_p=1,\n",
    "    #\n",
    "    # n=1,\n",
    ")\n"
   ]
  },
  {
   "cell_type": "code",
   "execution_count": 49,
   "id": "914830d8",
   "metadata": {},
   "outputs": [
    {
     "data": {
      "text/plain": [
       "' Statin use and breast cancer: a meta-analysis of observational studies\\n\\nMeta-analyses of large epidemiological studies have been conflicting regarding the association between statin use and breast cancer risk. We analyzed 24 studies (2,410,000 participants, 76,759 breast cancer cases) to evaluate the relationship between statin use and breast cancer risk. Our analysis did not support the hypothesis that statins have a protective effect against breast cancer (not significantly affecting breast cancer risk: relative risk [RR] = 0.99, 95% CI 0.94, 1.04; and not significantly changing the risk of breast cancer over time: RR = 1.03, 95% CI 0.96, 1.11). More randomized clinical trials are needed to confirm this association.\\n\\nSimilarly, another document provides evidence that statins may cause breast cancer. However, the evidence is conflicting, and more research is needed to confirm the cause-and-effect relationship.\\n\\nOverall, the evidence suggests that statins may cause breast cancer, but more research is needed to confirm the relationship. Statin use and risk of breast cancer are two important and controversial topics that need more research to determine their relationship.'"
      ]
     },
     "execution_count": 49,
     "metadata": {},
     "output_type": "execute_result"
    }
   ],
   "source": [
    "response.choices[0].message.content"
   ]
  },
  {
   "cell_type": "code",
   "execution_count": null,
   "id": "84355022",
   "metadata": {},
   "outputs": [],
   "source": []
  }
 ],
 "metadata": {
  "kernelspec": {
   "display_name": "kdir_envi",
   "language": "python",
   "name": "python3"
  },
  "language_info": {
   "codemirror_mode": {
    "name": "ipython",
    "version": 3
   },
   "file_extension": ".py",
   "mimetype": "text/x-python",
   "name": "python",
   "nbconvert_exporter": "python",
   "pygments_lexer": "ipython3",
   "version": "3.10.18"
  }
 },
 "nbformat": 4,
 "nbformat_minor": 5
}
