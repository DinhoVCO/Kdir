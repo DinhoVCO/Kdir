{
 "cells": [
  {
   "cell_type": "markdown",
   "id": "d1a4bcb9",
   "metadata": {},
   "source": [
    "## NFCORPUS"
   ]
  },
  {
   "cell_type": "code",
   "execution_count": 2,
   "id": "54e520a0",
   "metadata": {},
   "outputs": [],
   "source": [
    "from kdir_src.sota.RAG_fusion import RAG_fusion, Promptor\n",
    "from kdir_src.generators.mistral_ai import MistralGenerator\n",
    "from kdir_src.models.all_models import load_models, get_query_embeddings"
   ]
  },
  {
   "cell_type": "code",
   "execution_count": 2,
   "id": "11067804",
   "metadata": {},
   "outputs": [
    {
     "name": "stdout",
     "output_type": "stream",
     "text": [
      "Loading contriever...\n"
     ]
    },
    {
     "name": "stdout",
     "output_type": "stream",
     "text": [
      "Loading contriever FT...\n",
      "Loading question dpr...\n"
     ]
    },
    {
     "name": "stderr",
     "output_type": "stream",
     "text": [
      "Some weights of the model checkpoint at facebook/dpr-question_encoder-single-nq-base were not used when initializing DPRQuestionEncoder: ['question_encoder.bert_model.pooler.dense.bias', 'question_encoder.bert_model.pooler.dense.weight']\n",
      "- This IS expected if you are initializing DPRQuestionEncoder from the checkpoint of a model trained on another task or with another architecture (e.g. initializing a BertForSequenceClassification model from a BertForPreTraining model).\n",
      "- This IS NOT expected if you are initializing DPRQuestionEncoder from the checkpoint of a model that you expect to be exactly identical (initializing a BertForSequenceClassification model from a BertForSequenceClassification model).\n",
      "The tokenizer class you load from this checkpoint is not the same type as the class this function is called from. It may result in unexpected tokenization. \n",
      "The tokenizer class you load from this checkpoint is 'DPRQuestionEncoderTokenizer'. \n",
      "The class this function is called from is 'DPRContextEncoderTokenizer'.\n"
     ]
    },
    {
     "name": "stdout",
     "output_type": "stream",
     "text": [
      "Loading context dpr...\n"
     ]
    },
    {
     "name": "stderr",
     "output_type": "stream",
     "text": [
      "Some weights of the model checkpoint at facebook/dpr-ctx_encoder-single-nq-base were not used when initializing DPRContextEncoder: ['ctx_encoder.bert_model.pooler.dense.bias', 'ctx_encoder.bert_model.pooler.dense.weight']\n",
      "- This IS expected if you are initializing DPRContextEncoder from the checkpoint of a model trained on another task or with another architecture (e.g. initializing a BertForSequenceClassification model from a BertForPreTraining model).\n",
      "- This IS NOT expected if you are initializing DPRContextEncoder from the checkpoint of a model that you expect to be exactly identical (initializing a BertForSequenceClassification model from a BertForSequenceClassification model).\n"
     ]
    },
    {
     "name": "stdout",
     "output_type": "stream",
     "text": [
      "Loading bge large...\n",
      "Loading gte large...\n",
      "Loading bm25...\n"
     ]
    }
   ],
   "source": [
    "KEY = 'jTrxtC1mqMP1Lj9aMg8fvexSh2xDgZC4'\n",
    "dataset_name = 'nfcorpus'\n",
    "promptor = Promptor(dataset_name)\n",
    "generator = MistralGenerator('mistral-small-2503', KEY, 4)\n",
    "encoder_models = load_models()\n",
    "fusion_rag = RAG_fusion(dataset_name,promptor, generator, encoder_models)"
   ]
  },
  {
   "cell_type": "code",
   "execution_count": 4,
   "id": "9f39c80e",
   "metadata": {},
   "outputs": [
    {
     "data": {
      "application/vnd.jupyter.widget-view+json": {
       "model_id": "068f530c297c4fddb2afa6d9eb84f482",
       "version_major": 2,
       "version_minor": 0
      },
      "text/plain": [
       "  0%|          | 0/3633 [00:00<?, ?it/s]"
      ]
     },
     "metadata": {},
     "output_type": "display_data"
    },
    {
     "name": "stderr",
     "output_type": "stream",
     "text": [
      "Procesando queries: 100%|██████████| 323/323 [00:00<00:00, 3386900.48it/s]\n"
     ]
    },
    {
     "name": "stdout",
     "output_type": "stream",
     "text": [
      "Found 60 previously generated documents in '../doc_gen/rag_fusion/generated_documents_nfcorpus.jsonl'.\n"
     ]
    },
    {
     "name": "stderr",
     "output_type": "stream",
     "text": [
      "Processing queries (generate or skip): 134it [00:42,  1.22it/s]"
     ]
    },
    {
     "name": "stdout",
     "output_type": "stream",
     "text": [
      "Error generating for query 'leeks' (Attempt 1/5): API error occurred: Status 429\n",
      "{\"object\":\"error\",\"message\":\"Rate limit exceeded\",\"type\":\"rate_limited\",\"param\":null,\"code\":\"1300\"}\n",
      "Retrying in 1 seconds...\n"
     ]
    },
    {
     "name": "stderr",
     "output_type": "stream",
     "text": [
      "Processing queries (generate or skip): 135it [00:44,  1.13s/it]"
     ]
    },
    {
     "name": "stdout",
     "output_type": "stream",
     "text": [
      "Error generating for query 'leucine' (Attempt 1/5): API error occurred: Status 429\n",
      "{\"object\":\"error\",\"message\":\"Rate limit exceeded\",\"type\":\"rate_limited\",\"param\":null,\"code\":\"1300\"}\n",
      "Retrying in 1 seconds...\n"
     ]
    },
    {
     "name": "stderr",
     "output_type": "stream",
     "text": [
      "Processing queries (generate or skip): 136it [00:46,  1.28s/it]"
     ]
    },
    {
     "name": "stdout",
     "output_type": "stream",
     "text": [
      "Error generating for query 'Lindane' (Attempt 1/5): API error occurred: Status 429\n",
      "{\"object\":\"error\",\"message\":\"Rate limit exceeded\",\"type\":\"rate_limited\",\"param\":null,\"code\":\"1300\"}\n",
      "Retrying in 1 seconds...\n",
      "Error generating for query 'Lindane' (Attempt 2/5): API error occurred: Status 429\n",
      "{\"object\":\"error\",\"message\":\"Rate limit exceeded\",\"type\":\"rate_limited\",\"param\":null,\"code\":\"1300\"}\n",
      "Retrying in 1 seconds...\n"
     ]
    },
    {
     "name": "stderr",
     "output_type": "stream",
     "text": [
      "Processing queries (generate or skip): 137it [00:48,  1.74s/it]"
     ]
    },
    {
     "name": "stdout",
     "output_type": "stream",
     "text": [
      "Error generating for query 'liver disease' (Attempt 1/5): API error occurred: Status 429\n",
      "{\"object\":\"error\",\"message\":\"Rate limit exceeded\",\"type\":\"rate_limited\",\"param\":null,\"code\":\"1300\"}\n",
      "Retrying in 1 seconds...\n"
     ]
    },
    {
     "name": "stderr",
     "output_type": "stream",
     "text": [
      "Processing queries (generate or skip): 138it [00:50,  1.69s/it]"
     ]
    },
    {
     "name": "stdout",
     "output_type": "stream",
     "text": [
      "Error generating for query 'low-carb diets' (Attempt 1/5): API error occurred: Status 429\n",
      "{\"object\":\"error\",\"message\":\"Rate limit exceeded\",\"type\":\"rate_limited\",\"param\":null,\"code\":\"1300\"}\n",
      "Retrying in 1 seconds...\n",
      "Error generating for query 'low-carb diets' (Attempt 2/5): API error occurred: Status 429\n",
      "{\"object\":\"error\",\"message\":\"Rate limit exceeded\",\"type\":\"rate_limited\",\"param\":null,\"code\":\"1300\"}\n",
      "Retrying in 1 seconds...\n"
     ]
    },
    {
     "name": "stderr",
     "output_type": "stream",
     "text": [
      "Processing queries (generate or skip): 139it [00:53,  2.05s/it]"
     ]
    },
    {
     "name": "stdout",
     "output_type": "stream",
     "text": [
      "Error generating for query 'lyme disease' (Attempt 1/5): API error occurred: Status 429\n",
      "{\"object\":\"error\",\"message\":\"Rate limit exceeded\",\"type\":\"rate_limited\",\"param\":null,\"code\":\"1300\"}\n",
      "Retrying in 1 seconds...\n"
     ]
    },
    {
     "name": "stderr",
     "output_type": "stream",
     "text": [
      "Processing queries (generate or skip): 140it [00:55,  1.92s/it]"
     ]
    },
    {
     "name": "stdout",
     "output_type": "stream",
     "text": [
      "Error generating for query 'magnesium' (Attempt 1/5): API error occurred: Status 429\n",
      "{\"object\":\"error\",\"message\":\"Rate limit exceeded\",\"type\":\"rate_limited\",\"param\":null,\"code\":\"1300\"}\n",
      "Retrying in 1 seconds...\n"
     ]
    },
    {
     "name": "stderr",
     "output_type": "stream",
     "text": [
      "Processing queries (generate or skip): 141it [00:58,  2.25s/it]"
     ]
    },
    {
     "name": "stdout",
     "output_type": "stream",
     "text": [
      "Error generating for query 'maple syrup' (Attempt 1/5): API error occurred: Status 429\n",
      "{\"object\":\"error\",\"message\":\"Rate limit exceeded\",\"type\":\"rate_limited\",\"param\":null,\"code\":\"1300\"}\n",
      "Retrying in 1 seconds...\n"
     ]
    },
    {
     "name": "stderr",
     "output_type": "stream",
     "text": [
      "Processing queries (generate or skip): 142it [00:59,  2.11s/it]"
     ]
    },
    {
     "name": "stdout",
     "output_type": "stream",
     "text": [
      "Error generating for query 'mastitis' (Attempt 1/5): API error occurred: Status 429\n",
      "{\"object\":\"error\",\"message\":\"Rate limit exceeded\",\"type\":\"rate_limited\",\"param\":null,\"code\":\"1300\"}\n",
      "Retrying in 1 seconds...\n"
     ]
    },
    {
     "name": "stderr",
     "output_type": "stream",
     "text": [
      "Processing queries (generate or skip): 143it [01:01,  1.99s/it]"
     ]
    },
    {
     "name": "stdout",
     "output_type": "stream",
     "text": [
      "Error generating for query 'medical ethics' (Attempt 1/5): API error occurred: Status 429\n",
      "{\"object\":\"error\",\"message\":\"Rate limit exceeded\",\"type\":\"rate_limited\",\"param\":null,\"code\":\"1300\"}\n",
      "Retrying in 1 seconds...\n"
     ]
    },
    {
     "name": "stderr",
     "output_type": "stream",
     "text": [
      "Processing queries (generate or skip): 144it [01:03,  1.87s/it]"
     ]
    },
    {
     "name": "stdout",
     "output_type": "stream",
     "text": [
      "Error generating for query 'memory' (Attempt 1/5): API error occurred: Status 429\n",
      "{\"object\":\"error\",\"message\":\"Rate limit exceeded\",\"type\":\"rate_limited\",\"param\":null,\"code\":\"1300\"}\n",
      "Retrying in 1 seconds...\n",
      "Error generating for query 'memory' (Attempt 2/5): API error occurred: Status 429\n",
      "{\"object\":\"error\",\"message\":\"Rate limit exceeded\",\"type\":\"rate_limited\",\"param\":null,\"code\":\"1300\"}\n",
      "Retrying in 1 seconds...\n"
     ]
    },
    {
     "name": "stderr",
     "output_type": "stream",
     "text": [
      "Processing queries (generate or skip): 145it [01:06,  2.20s/it]"
     ]
    },
    {
     "name": "stdout",
     "output_type": "stream",
     "text": [
      "Error generating for query 'mesquite' (Attempt 1/5): API error occurred: Status 429\n",
      "{\"object\":\"error\",\"message\":\"Rate limit exceeded\",\"type\":\"rate_limited\",\"param\":null,\"code\":\"1300\"}\n",
      "Retrying in 1 seconds...\n"
     ]
    },
    {
     "name": "stderr",
     "output_type": "stream",
     "text": [
      "Processing queries (generate or skip): 146it [01:07,  2.04s/it]"
     ]
    },
    {
     "name": "stdout",
     "output_type": "stream",
     "text": [
      "Error generating for query 'Mevacor' (Attempt 1/5): API error occurred: Status 429\n",
      "{\"object\":\"error\",\"message\":\"Rate limit exceeded\",\"type\":\"rate_limited\",\"param\":null,\"code\":\"1300\"}\n",
      "Retrying in 1 seconds...\n",
      "Error generating for query 'Mevacor' (Attempt 2/5): API error occurred: Status 429\n",
      "{\"object\":\"error\",\"message\":\"Rate limit exceeded\",\"type\":\"rate_limited\",\"param\":null,\"code\":\"1300\"}\n",
      "Retrying in 1 seconds...\n"
     ]
    },
    {
     "name": "stderr",
     "output_type": "stream",
     "text": [
      "Processing queries (generate or skip): 147it [01:10,  2.30s/it]"
     ]
    },
    {
     "name": "stdout",
     "output_type": "stream",
     "text": [
      "Error generating for query 'milk' (Attempt 1/5): API error occurred: Status 429\n",
      "{\"object\":\"error\",\"message\":\"Rate limit exceeded\",\"type\":\"rate_limited\",\"param\":null,\"code\":\"1300\"}\n",
      "Retrying in 1 seconds...\n"
     ]
    },
    {
     "name": "stderr",
     "output_type": "stream",
     "text": [
      "Processing queries (generate or skip): 148it [01:12,  2.09s/it]"
     ]
    },
    {
     "name": "stdout",
     "output_type": "stream",
     "text": [
      "Error generating for query 'molasses' (Attempt 1/5): API error occurred: Status 429\n",
      "{\"object\":\"error\",\"message\":\"Rate limit exceeded\",\"type\":\"rate_limited\",\"param\":null,\"code\":\"1300\"}\n",
      "Retrying in 1 seconds...\n"
     ]
    },
    {
     "name": "stderr",
     "output_type": "stream",
     "text": [
      "Processing queries (generate or skip): 150it [01:15,  1.64s/it]"
     ]
    },
    {
     "name": "stdout",
     "output_type": "stream",
     "text": [
      "Error generating for query 'muscle health' (Attempt 1/5): API error occurred: Status 429\n",
      "{\"object\":\"error\",\"message\":\"Rate limit exceeded\",\"type\":\"rate_limited\",\"param\":null,\"code\":\"1300\"}\n",
      "Retrying in 1 seconds...\n"
     ]
    },
    {
     "name": "stderr",
     "output_type": "stream",
     "text": [
      "Processing queries (generate or skip): 152it [01:17,  1.28s/it]"
     ]
    },
    {
     "name": "stdout",
     "output_type": "stream",
     "text": [
      "Error generating for query 'National Academy of Sciences' (Attempt 1/5): API error occurred: Status 429\n",
      "{\"object\":\"error\",\"message\":\"Rate limit exceeded\",\"type\":\"rate_limited\",\"param\":null,\"code\":\"1300\"}\n",
      "Retrying in 1 seconds...\n"
     ]
    },
    {
     "name": "stderr",
     "output_type": "stream",
     "text": [
      "Processing queries (generate or skip): 154it [01:19,  1.07s/it]"
     ]
    },
    {
     "name": "stdout",
     "output_type": "stream",
     "text": [
      "Error generating for query 'neurocysticercosis' (Attempt 1/5): API error occurred: Status 429\n",
      "{\"object\":\"error\",\"message\":\"Rate limit exceeded\",\"type\":\"rate_limited\",\"param\":null,\"code\":\"1300\"}\n",
      "Retrying in 1 seconds...\n"
     ]
    },
    {
     "name": "stderr",
     "output_type": "stream",
     "text": [
      "Processing queries (generate or skip): 156it [01:21,  1.02s/it]"
     ]
    },
    {
     "name": "stdout",
     "output_type": "stream",
     "text": [
      "Error generating for query 'norovirus' (Attempt 1/5): API error occurred: Status 429\n",
      "{\"object\":\"error\",\"message\":\"Rate limit exceeded\",\"type\":\"rate_limited\",\"param\":null,\"code\":\"1300\"}\n",
      "Retrying in 1 seconds...\n"
     ]
    },
    {
     "name": "stderr",
     "output_type": "stream",
     "text": [
      "Processing queries (generate or skip): 158it [01:23,  1.06it/s]"
     ]
    },
    {
     "name": "stdout",
     "output_type": "stream",
     "text": [
      "Error generating for query 'okra' (Attempt 1/5): API error occurred: Status 429\n",
      "{\"object\":\"error\",\"message\":\"Rate limit exceeded\",\"type\":\"rate_limited\",\"param\":null,\"code\":\"1300\"}\n",
      "Retrying in 1 seconds...\n"
     ]
    },
    {
     "name": "stderr",
     "output_type": "stream",
     "text": [
      "Processing queries (generate or skip): 160it [01:25,  1.09it/s]"
     ]
    },
    {
     "name": "stdout",
     "output_type": "stream",
     "text": [
      "Error generating for query 'organotins' (Attempt 1/5): API error occurred: Status 429\n",
      "{\"object\":\"error\",\"message\":\"Rate limit exceeded\",\"type\":\"rate_limited\",\"param\":null,\"code\":\"1300\"}\n",
      "Retrying in 1 seconds...\n"
     ]
    },
    {
     "name": "stderr",
     "output_type": "stream",
     "text": [
      "Processing queries (generate or skip): 162it [01:27,  1.11it/s]"
     ]
    },
    {
     "name": "stdout",
     "output_type": "stream",
     "text": [
      "Error generating for query 'Panama' (Attempt 1/5): API error occurred: Status 429\n",
      "{\"object\":\"error\",\"message\":\"Rate limit exceeded\",\"type\":\"rate_limited\",\"param\":null,\"code\":\"1300\"}\n",
      "Retrying in 1 seconds...\n"
     ]
    },
    {
     "name": "stderr",
     "output_type": "stream",
     "text": [
      "Processing queries (generate or skip): 164it [01:29,  1.14it/s]"
     ]
    },
    {
     "name": "stdout",
     "output_type": "stream",
     "text": [
      "Error generating for query 'peanut butter' (Attempt 1/5): API error occurred: Status 429\n",
      "{\"object\":\"error\",\"message\":\"Rate limit exceeded\",\"type\":\"rate_limited\",\"param\":null,\"code\":\"1300\"}\n",
      "Retrying in 1 seconds...\n"
     ]
    },
    {
     "name": "stderr",
     "output_type": "stream",
     "text": [
      "Processing queries (generate or skip): 166it [01:31,  1.09it/s]"
     ]
    },
    {
     "name": "stdout",
     "output_type": "stream",
     "text": [
      "Error generating for query 'pesticides' (Attempt 1/5): API error occurred: Status 429\n",
      "{\"object\":\"error\",\"message\":\"Rate limit exceeded\",\"type\":\"rate_limited\",\"param\":null,\"code\":\"1300\"}\n",
      "Retrying in 1 seconds...\n"
     ]
    },
    {
     "name": "stderr",
     "output_type": "stream",
     "text": [
      "Processing queries (generate or skip): 169it [01:33,  1.27it/s]"
     ]
    },
    {
     "name": "stdout",
     "output_type": "stream",
     "text": [
      "Error generating for query 'pineapples' (Attempt 1/5): API error occurred: Status 429\n",
      "{\"object\":\"error\",\"message\":\"Rate limit exceeded\",\"type\":\"rate_limited\",\"param\":null,\"code\":\"1300\"}\n",
      "Retrying in 1 seconds...\n"
     ]
    },
    {
     "name": "stderr",
     "output_type": "stream",
     "text": [
      "Processing queries (generate or skip): 177it [01:42,  1.50it/s]"
     ]
    },
    {
     "name": "stdout",
     "output_type": "stream",
     "text": [
      "Error generating for query 'prunes' (Attempt 1/5): API error occurred: Status 429\n",
      "{\"object\":\"error\",\"message\":\"Rate limit exceeded\",\"type\":\"rate_limited\",\"param\":null,\"code\":\"1300\"}\n",
      "Retrying in 1 seconds...\n"
     ]
    },
    {
     "name": "stderr",
     "output_type": "stream",
     "text": [
      "Processing queries (generate or skip): 180it [01:44,  1.35it/s]"
     ]
    },
    {
     "name": "stdout",
     "output_type": "stream",
     "text": [
      "Error generating for query 'rapamycin' (Attempt 1/5): API error occurred: Status 429\n",
      "{\"object\":\"error\",\"message\":\"Rate limit exceeded\",\"type\":\"rate_limited\",\"param\":null,\"code\":\"1300\"}\n",
      "Retrying in 1 seconds...\n"
     ]
    },
    {
     "name": "stderr",
     "output_type": "stream",
     "text": [
      "Processing queries (generate or skip): 182it [01:46,  1.24it/s]"
     ]
    },
    {
     "name": "stdout",
     "output_type": "stream",
     "text": [
      "Error generating for query 'rhabdomyolysis' (Attempt 1/5): API error occurred: Status 429\n",
      "{\"object\":\"error\",\"message\":\"Rate limit exceeded\",\"type\":\"rate_limited\",\"param\":null,\"code\":\"1300\"}\n",
      "Retrying in 1 seconds...\n"
     ]
    },
    {
     "name": "stderr",
     "output_type": "stream",
     "text": [
      "Processing queries (generate or skip): 184it [01:48,  1.15it/s]"
     ]
    },
    {
     "name": "stdout",
     "output_type": "stream",
     "text": [
      "Error generating for query 'Rutin' (Attempt 1/5): API error occurred: Status 429\n",
      "{\"object\":\"error\",\"message\":\"Rate limit exceeded\",\"type\":\"rate_limited\",\"param\":null,\"code\":\"1300\"}\n",
      "Retrying in 1 seconds...\n"
     ]
    },
    {
     "name": "stderr",
     "output_type": "stream",
     "text": [
      "Processing queries (generate or skip): 186it [01:50,  1.15it/s]"
     ]
    },
    {
     "name": "stdout",
     "output_type": "stream",
     "text": [
      "Error generating for query 'saturated fat' (Attempt 1/5): API error occurred: Status 429\n",
      "{\"object\":\"error\",\"message\":\"Rate limit exceeded\",\"type\":\"rate_limited\",\"param\":null,\"code\":\"1300\"}\n",
      "Retrying in 1 seconds...\n"
     ]
    },
    {
     "name": "stderr",
     "output_type": "stream",
     "text": [
      "Processing queries (generate or skip): 188it [01:52,  1.13it/s]"
     ]
    },
    {
     "name": "stdout",
     "output_type": "stream",
     "text": [
      "Error generating for query 'serotonin' (Attempt 1/5): API error occurred: Status 429\n",
      "{\"object\":\"error\",\"message\":\"Rate limit exceeded\",\"type\":\"rate_limited\",\"param\":null,\"code\":\"1300\"}\n",
      "Retrying in 1 seconds...\n"
     ]
    },
    {
     "name": "stderr",
     "output_type": "stream",
     "text": [
      "Processing queries (generate or skip): 190it [01:54,  1.14it/s]"
     ]
    },
    {
     "name": "stdout",
     "output_type": "stream",
     "text": [
      "Error generating for query 'sirtuins' (Attempt 1/5): API error occurred: Status 429\n",
      "{\"object\":\"error\",\"message\":\"Rate limit exceeded\",\"type\":\"rate_limited\",\"param\":null,\"code\":\"1300\"}\n",
      "Retrying in 1 seconds...\n"
     ]
    },
    {
     "name": "stderr",
     "output_type": "stream",
     "text": [
      "Processing queries (generate or skip): 192it [01:56,  1.13it/s]"
     ]
    },
    {
     "name": "stdout",
     "output_type": "stream",
     "text": [
      "Error generating for query 'soil health' (Attempt 1/5): API error occurred: Status 429\n",
      "{\"object\":\"error\",\"message\":\"Rate limit exceeded\",\"type\":\"rate_limited\",\"param\":null,\"code\":\"1300\"}\n",
      "Retrying in 1 seconds...\n"
     ]
    },
    {
     "name": "stderr",
     "output_type": "stream",
     "text": [
      "Processing queries (generate or skip): 194it [01:58,  1.14it/s]"
     ]
    },
    {
     "name": "stdout",
     "output_type": "stream",
     "text": [
      "Error generating for query 'Splenda' (Attempt 1/5): API error occurred: Status 429\n",
      "{\"object\":\"error\",\"message\":\"Rate limit exceeded\",\"type\":\"rate_limited\",\"param\":null,\"code\":\"1300\"}\n",
      "Retrying in 1 seconds...\n"
     ]
    },
    {
     "name": "stderr",
     "output_type": "stream",
     "text": [
      "Processing queries (generate or skip): 196it [02:00,  1.12it/s]"
     ]
    },
    {
     "name": "stdout",
     "output_type": "stream",
     "text": [
      "Error generating for query 'stevia' (Attempt 1/5): API error occurred: Status 429\n",
      "{\"object\":\"error\",\"message\":\"Rate limit exceeded\",\"type\":\"rate_limited\",\"param\":null,\"code\":\"1300\"}\n",
      "Retrying in 1 seconds...\n"
     ]
    },
    {
     "name": "stderr",
     "output_type": "stream",
     "text": [
      "Processing queries (generate or skip): 198it [02:02,  1.10it/s]"
     ]
    },
    {
     "name": "stdout",
     "output_type": "stream",
     "text": [
      "Error generating for query 'sulfur' (Attempt 1/5): API error occurred: Status 429\n",
      "{\"object\":\"error\",\"message\":\"Rate limit exceeded\",\"type\":\"rate_limited\",\"param\":null,\"code\":\"1300\"}\n",
      "Retrying in 1 seconds...\n"
     ]
    },
    {
     "name": "stderr",
     "output_type": "stream",
     "text": [
      "Processing queries (generate or skip): 200it [02:04,  1.11it/s]"
     ]
    },
    {
     "name": "stdout",
     "output_type": "stream",
     "text": [
      "Error generating for query 'sweeteners' (Attempt 1/5): API error occurred: Status 429\n",
      "{\"object\":\"error\",\"message\":\"Rate limit exceeded\",\"type\":\"rate_limited\",\"param\":null,\"code\":\"1300\"}\n",
      "Retrying in 1 seconds...\n"
     ]
    },
    {
     "name": "stderr",
     "output_type": "stream",
     "text": [
      "Processing queries (generate or skip): 202it [02:07,  1.09it/s]"
     ]
    },
    {
     "name": "stdout",
     "output_type": "stream",
     "text": [
      "Error generating for query 'tempeh' (Attempt 1/5): API error occurred: Status 429\n",
      "{\"object\":\"error\",\"message\":\"Rate limit exceeded\",\"type\":\"rate_limited\",\"param\":null,\"code\":\"1300\"}\n",
      "Retrying in 1 seconds...\n"
     ]
    },
    {
     "name": "stderr",
     "output_type": "stream",
     "text": [
      "Processing queries (generate or skip): 204it [02:09,  1.10it/s]"
     ]
    },
    {
     "name": "stdout",
     "output_type": "stream",
     "text": [
      "Error generating for query 'titanium dioxide' (Attempt 1/5): API error occurred: Status 429\n",
      "{\"object\":\"error\",\"message\":\"Rate limit exceeded\",\"type\":\"rate_limited\",\"param\":null,\"code\":\"1300\"}\n",
      "Retrying in 1 seconds...\n"
     ]
    },
    {
     "name": "stderr",
     "output_type": "stream",
     "text": [
      "Processing queries (generate or skip): 208it [02:13,  1.29it/s]"
     ]
    },
    {
     "name": "stdout",
     "output_type": "stream",
     "text": [
      "Error generating for query 'turnips' (Attempt 1/5): API error occurred: Status 429\n",
      "{\"object\":\"error\",\"message\":\"Rate limit exceeded\",\"type\":\"rate_limited\",\"param\":null,\"code\":\"1300\"}\n",
      "Retrying in 1 seconds...\n"
     ]
    },
    {
     "name": "stderr",
     "output_type": "stream",
     "text": [
      "Processing queries (generate or skip): 211it [02:16,  1.25it/s]"
     ]
    },
    {
     "name": "stdout",
     "output_type": "stream",
     "text": [
      "Error generating for query 'veal' (Attempt 1/5): API error occurred: Status 429\n",
      "{\"object\":\"error\",\"message\":\"Rate limit exceeded\",\"type\":\"rate_limited\",\"param\":null,\"code\":\"1300\"}\n",
      "Retrying in 1 seconds...\n"
     ]
    },
    {
     "name": "stderr",
     "output_type": "stream",
     "text": [
      "Processing queries (generate or skip): 213it [02:17,  1.21it/s]"
     ]
    },
    {
     "name": "stdout",
     "output_type": "stream",
     "text": [
      "Error generating for query 'viral infections' (Attempt 1/5): API error occurred: Status 429\n",
      "{\"object\":\"error\",\"message\":\"Rate limit exceeded\",\"type\":\"rate_limited\",\"param\":null,\"code\":\"1300\"}\n",
      "Retrying in 1 seconds...\n"
     ]
    },
    {
     "name": "stderr",
     "output_type": "stream",
     "text": [
      "Processing queries (generate or skip): 215it [02:19,  1.16it/s]"
     ]
    },
    {
     "name": "stdout",
     "output_type": "stream",
     "text": [
      "Error generating for query 'walnut oil' (Attempt 1/5): API error occurred: Status 429\n",
      "{\"object\":\"error\",\"message\":\"Rate limit exceeded\",\"type\":\"rate_limited\",\"param\":null,\"code\":\"1300\"}\n",
      "Retrying in 1 seconds...\n"
     ]
    },
    {
     "name": "stderr",
     "output_type": "stream",
     "text": [
      "Processing queries (generate or skip): 217it [02:21,  1.13it/s]"
     ]
    },
    {
     "name": "stdout",
     "output_type": "stream",
     "text": [
      "Error generating for query 'whiting' (Attempt 1/5): API error occurred: Status 429\n",
      "{\"object\":\"error\",\"message\":\"Rate limit exceeded\",\"type\":\"rate_limited\",\"param\":null,\"code\":\"1300\"}\n",
      "Retrying in 1 seconds...\n"
     ]
    },
    {
     "name": "stderr",
     "output_type": "stream",
     "text": [
      "Processing queries (generate or skip): 219it [02:24,  1.07it/s]"
     ]
    },
    {
     "name": "stdout",
     "output_type": "stream",
     "text": [
      "Error generating for query 'Yale' (Attempt 1/5): API error occurred: Status 429\n",
      "{\"object\":\"error\",\"message\":\"Rate limit exceeded\",\"type\":\"rate_limited\",\"param\":null,\"code\":\"1300\"}\n",
      "Retrying in 1 seconds...\n"
     ]
    },
    {
     "name": "stderr",
     "output_type": "stream",
     "text": [
      "Processing queries (generate or skip): 221it [02:26,  1.08it/s]"
     ]
    },
    {
     "name": "stdout",
     "output_type": "stream",
     "text": [
      "Error generating for query 'Preventing Brain Loss with B Vitamins?' (Attempt 1/5): API error occurred: Status 429\n",
      "{\"object\":\"error\",\"message\":\"Rate limit exceeded\",\"type\":\"rate_limited\",\"param\":null,\"code\":\"1300\"}\n",
      "Retrying in 1 seconds...\n"
     ]
    },
    {
     "name": "stderr",
     "output_type": "stream",
     "text": [
      "Processing queries (generate or skip): 223it [02:28,  1.08it/s]"
     ]
    },
    {
     "name": "stdout",
     "output_type": "stream",
     "text": [
      "Error generating for query 'Are Organic Foods Safer?' (Attempt 1/5): API error occurred: Status 429\n",
      "{\"object\":\"error\",\"message\":\"Rate limit exceeded\",\"type\":\"rate_limited\",\"param\":null,\"code\":\"1300\"}\n",
      "Retrying in 1 seconds...\n"
     ]
    },
    {
     "name": "stderr",
     "output_type": "stream",
     "text": [
      "Processing queries (generate or skip): 225it [02:30,  1.12it/s]"
     ]
    },
    {
     "name": "stdout",
     "output_type": "stream",
     "text": [
      "Error generating for query 'Is Milk Good for Our Bones?' (Attempt 1/5): API error occurred: Status 429\n",
      "{\"object\":\"error\",\"message\":\"Rate limit exceeded\",\"type\":\"rate_limited\",\"param\":null,\"code\":\"1300\"}\n",
      "Retrying in 1 seconds...\n"
     ]
    },
    {
     "name": "stderr",
     "output_type": "stream",
     "text": [
      "Processing queries (generate or skip): 227it [02:32,  1.10it/s]"
     ]
    },
    {
     "name": "stdout",
     "output_type": "stream",
     "text": [
      "Error generating for query 'The Actual Benefit of Diet vs. Drugs' (Attempt 1/5): API error occurred: Status 429\n",
      "{\"object\":\"error\",\"message\":\"Rate limit exceeded\",\"type\":\"rate_limited\",\"param\":null,\"code\":\"1300\"}\n",
      "Retrying in 1 seconds...\n"
     ]
    },
    {
     "name": "stderr",
     "output_type": "stream",
     "text": [
      "Processing queries (generate or skip): 230it [02:34,  1.32it/s]"
     ]
    },
    {
     "name": "stdout",
     "output_type": "stream",
     "text": [
      "Error generating for query 'Caloric Restriction vs. Plant-Based Diets' (Attempt 1/5): API error occurred: Status 429\n",
      "{\"object\":\"error\",\"message\":\"Rate limit exceeded\",\"type\":\"rate_limited\",\"param\":null,\"code\":\"1300\"}\n",
      "Retrying in 1 seconds...\n"
     ]
    },
    {
     "name": "stderr",
     "output_type": "stream",
     "text": [
      "Processing queries (generate or skip): 231it [02:36,  1.01s/it]"
     ]
    },
    {
     "name": "stdout",
     "output_type": "stream",
     "text": [
      "Error generating for query 'Infectobesity: Adenovirus 36 and Childhood Obesity' (Attempt 1/5): API error occurred: Status 429\n",
      "{\"object\":\"error\",\"message\":\"Rate limit exceeded\",\"type\":\"rate_limited\",\"param\":null,\"code\":\"1300\"}\n",
      "Retrying in 1 seconds...\n"
     ]
    },
    {
     "name": "stderr",
     "output_type": "stream",
     "text": [
      "Processing queries (generate or skip): 234it [02:38,  1.29it/s]"
     ]
    },
    {
     "name": "stdout",
     "output_type": "stream",
     "text": [
      "Error generating for query 'Childhood Constipation and Cow’s Milk' (Attempt 1/5): API error occurred: Status 429\n",
      "{\"object\":\"error\",\"message\":\"Rate limit exceeded\",\"type\":\"rate_limited\",\"param\":null,\"code\":\"1300\"}\n",
      "Retrying in 1 seconds...\n"
     ]
    },
    {
     "name": "stderr",
     "output_type": "stream",
     "text": [
      "Processing queries (generate or skip): 239it [02:43,  1.35it/s]"
     ]
    },
    {
     "name": "stdout",
     "output_type": "stream",
     "text": [
      "Error generating for query 'Treating Asthma With Plants vs. Supplements?' (Attempt 1/5): API error occurred: Status 429\n",
      "{\"object\":\"error\",\"message\":\"Rate limit exceeded\",\"type\":\"rate_limited\",\"param\":null,\"code\":\"1300\"}\n",
      "Retrying in 1 seconds...\n"
     ]
    },
    {
     "name": "stderr",
     "output_type": "stream",
     "text": [
      "Processing queries (generate or skip): 241it [02:45,  1.23it/s]"
     ]
    },
    {
     "name": "stdout",
     "output_type": "stream",
     "text": [
      "Error generating for query 'Alkylphenol Endocrine Disruptors and Allergies' (Attempt 1/5): API error occurred: Status 429\n",
      "{\"object\":\"error\",\"message\":\"Rate limit exceeded\",\"type\":\"rate_limited\",\"param\":null,\"code\":\"1300\"}\n",
      "Retrying in 1 seconds...\n"
     ]
    },
    {
     "name": "stderr",
     "output_type": "stream",
     "text": [
      "Processing queries (generate or skip): 243it [02:47,  1.11it/s]"
     ]
    },
    {
     "name": "stdout",
     "output_type": "stream",
     "text": [
      "Error generating for query 'Turmeric Curcumin and Osteoarthritis' (Attempt 1/5): API error occurred: Status 429\n",
      "{\"object\":\"error\",\"message\":\"Rate limit exceeded\",\"type\":\"rate_limited\",\"param\":null,\"code\":\"1300\"}\n",
      "Retrying in 1 seconds...\n"
     ]
    },
    {
     "name": "stderr",
     "output_type": "stream",
     "text": [
      "Processing queries (generate or skip): 245it [02:49,  1.11it/s]"
     ]
    },
    {
     "name": "stdout",
     "output_type": "stream",
     "text": [
      "Error generating for query 'Is Caramel Color Carcinogenic?' (Attempt 1/5): API error occurred: Status 429\n",
      "{\"object\":\"error\",\"message\":\"Rate limit exceeded\",\"type\":\"rate_limited\",\"param\":null,\"code\":\"1300\"}\n",
      "Retrying in 1 seconds...\n"
     ]
    },
    {
     "name": "stderr",
     "output_type": "stream",
     "text": [
      "Processing queries (generate or skip): 248it [02:53,  1.13it/s]"
     ]
    },
    {
     "name": "stdout",
     "output_type": "stream",
     "text": [
      "Error generating for query 'Heart Disease Starts in Childhood' (Attempt 1/5): API error occurred: Status 429\n",
      "{\"object\":\"error\",\"message\":\"Rate limit exceeded\",\"type\":\"rate_limited\",\"param\":null,\"code\":\"1300\"}\n",
      "Retrying in 1 seconds...\n"
     ]
    },
    {
     "name": "stderr",
     "output_type": "stream",
     "text": [
      "Processing queries (generate or skip): 250it [02:55,  1.12it/s]"
     ]
    },
    {
     "name": "stdout",
     "output_type": "stream",
     "text": [
      "Error generating for query 'Keeping Your Hands Warm With Citrus' (Attempt 1/5): API error occurred: Status 429\n",
      "{\"object\":\"error\",\"message\":\"Rate limit exceeded\",\"type\":\"rate_limited\",\"param\":null,\"code\":\"1300\"}\n",
      "Retrying in 1 seconds...\n"
     ]
    },
    {
     "name": "stderr",
     "output_type": "stream",
     "text": [
      "Processing queries (generate or skip): 253it [02:57,  1.27it/s]"
     ]
    },
    {
     "name": "stdout",
     "output_type": "stream",
     "text": [
      "Error generating for query 'Preventing the Common Cold with Probiotics?' (Attempt 1/5): API error occurred: Status 429\n",
      "{\"object\":\"error\",\"message\":\"Rate limit exceeded\",\"type\":\"rate_limited\",\"param\":null,\"code\":\"1300\"}\n",
      "Retrying in 1 seconds...\n"
     ]
    },
    {
     "name": "stderr",
     "output_type": "stream",
     "text": [
      "Processing queries (generate or skip): 255it [03:00,  1.14it/s]"
     ]
    },
    {
     "name": "stdout",
     "output_type": "stream",
     "text": [
      "Error generating for query 'Flaxseeds & Breast Cancer Survival: Clinical Evidence' (Attempt 1/5): API error occurred: Status 429\n",
      "{\"object\":\"error\",\"message\":\"Rate limit exceeded\",\"type\":\"rate_limited\",\"param\":null,\"code\":\"1300\"}\n",
      "Retrying in 1 seconds...\n"
     ]
    },
    {
     "name": "stderr",
     "output_type": "stream",
     "text": [
      "Processing queries (generate or skip): 257it [03:02,  1.12it/s]"
     ]
    },
    {
     "name": "stdout",
     "output_type": "stream",
     "text": [
      "Error generating for query 'Titanium Dioxide & Inflammatory Bowel Disease' (Attempt 1/5): API error occurred: Status 429\n",
      "{\"object\":\"error\",\"message\":\"Rate limit exceeded\",\"type\":\"rate_limited\",\"param\":null,\"code\":\"1300\"}\n",
      "Retrying in 1 seconds...\n"
     ]
    },
    {
     "name": "stderr",
     "output_type": "stream",
     "text": [
      "Processing queries (generate or skip): 259it [03:04,  1.08it/s]"
     ]
    },
    {
     "name": "stdout",
     "output_type": "stream",
     "text": [
      "Error generating for query 'Apple Juice May Be Worse Than Sugar Water' (Attempt 1/5): API error occurred: Status 429\n",
      "{\"object\":\"error\",\"message\":\"Rate limit exceeded\",\"type\":\"rate_limited\",\"param\":null,\"code\":\"1300\"}\n",
      "Retrying in 1 seconds...\n"
     ]
    },
    {
     "name": "stderr",
     "output_type": "stream",
     "text": [
      "Processing queries (generate or skip): 261it [03:06,  1.09it/s]"
     ]
    },
    {
     "name": "stdout",
     "output_type": "stream",
     "text": [
      "Error generating for query 'Neurobiology of Artificial Sweeteners' (Attempt 1/5): API error occurred: Status 429\n",
      "{\"object\":\"error\",\"message\":\"Rate limit exceeded\",\"type\":\"rate_limited\",\"param\":null,\"code\":\"1300\"}\n",
      "Retrying in 1 seconds...\n"
     ]
    },
    {
     "name": "stderr",
     "output_type": "stream",
     "text": [
      "Processing queries (generate or skip): 263it [03:08,  1.11it/s]"
     ]
    },
    {
     "name": "stdout",
     "output_type": "stream",
     "text": [
      "Error generating for query 'More Antibiotics In White Meat or Dark Meat?' (Attempt 1/5): API error occurred: Status 429\n",
      "{\"object\":\"error\",\"message\":\"Rate limit exceeded\",\"type\":\"rate_limited\",\"param\":null,\"code\":\"1300\"}\n",
      "Retrying in 1 seconds...\n"
     ]
    },
    {
     "name": "stderr",
     "output_type": "stream",
     "text": [
      "Processing queries (generate or skip): 266it [03:10,  1.25it/s]"
     ]
    },
    {
     "name": "stdout",
     "output_type": "stream",
     "text": [
      "Error generating for query 'The Answer to the Pritikin Puzzle' (Attempt 1/5): API error occurred: Status 429\n",
      "{\"object\":\"error\",\"message\":\"Rate limit exceeded\",\"type\":\"rate_limited\",\"param\":null,\"code\":\"1300\"}\n",
      "Retrying in 1 seconds...\n"
     ]
    },
    {
     "name": "stderr",
     "output_type": "stream",
     "text": [
      "Processing queries (generate or skip): 268it [03:12,  1.18it/s]"
     ]
    },
    {
     "name": "stdout",
     "output_type": "stream",
     "text": [
      "Error generating for query 'Boosting Good Bacteria in the Colon Without Probiotics' (Attempt 1/5): API error occurred: Status 429\n",
      "{\"object\":\"error\",\"message\":\"Rate limit exceeded\",\"type\":\"rate_limited\",\"param\":null,\"code\":\"1300\"}\n",
      "Retrying in 1 seconds...\n"
     ]
    },
    {
     "name": "stderr",
     "output_type": "stream",
     "text": [
      "Processing queries (generate or skip): 270it [03:14,  1.13it/s]"
     ]
    },
    {
     "name": "stdout",
     "output_type": "stream",
     "text": [
      "Error generating for query 'Human Neurotransmitters in Plants' (Attempt 1/5): API error occurred: Status 429\n",
      "{\"object\":\"error\",\"message\":\"Rate limit exceeded\",\"type\":\"rate_limited\",\"param\":null,\"code\":\"1300\"}\n",
      "Retrying in 1 seconds...\n"
     ]
    },
    {
     "name": "stderr",
     "output_type": "stream",
     "text": [
      "Processing queries (generate or skip): 272it [03:16,  1.11it/s]"
     ]
    },
    {
     "name": "stdout",
     "output_type": "stream",
     "text": [
      "Error generating for query 'Dietary Treatment of Crohn's Disease' (Attempt 1/5): API error occurred: Status 429\n",
      "{\"object\":\"error\",\"message\":\"Rate limit exceeded\",\"type\":\"rate_limited\",\"param\":null,\"code\":\"1300\"}\n",
      "Retrying in 1 seconds...\n"
     ]
    },
    {
     "name": "stderr",
     "output_type": "stream",
     "text": [
      "Processing queries (generate or skip): 274it [03:19,  1.10it/s]"
     ]
    },
    {
     "name": "stdout",
     "output_type": "stream",
     "text": [
      "Error generating for query 'Pharmacists Versus Health Food Store Employees: Who Gives Better Advice?' (Attempt 1/5): API error occurred: Status 429\n",
      "{\"object\":\"error\",\"message\":\"Rate limit exceeded\",\"type\":\"rate_limited\",\"param\":null,\"code\":\"1300\"}\n",
      "Retrying in 1 seconds...\n"
     ]
    },
    {
     "name": "stderr",
     "output_type": "stream",
     "text": [
      "Processing queries (generate or skip): 276it [03:21,  1.08it/s]"
     ]
    },
    {
     "name": "stdout",
     "output_type": "stream",
     "text": [
      "Error generating for query 'Cheese Mites and Maggots' (Attempt 1/5): API error occurred: Status 429\n",
      "{\"object\":\"error\",\"message\":\"Rate limit exceeded\",\"type\":\"rate_limited\",\"param\":null,\"code\":\"1300\"}\n",
      "Retrying in 1 seconds...\n"
     ]
    },
    {
     "name": "stderr",
     "output_type": "stream",
     "text": [
      "Processing queries (generate or skip): 278it [03:23,  1.10it/s]"
     ]
    },
    {
     "name": "stdout",
     "output_type": "stream",
     "text": [
      "Error generating for query 'EPIC Findings on Lymphoma' (Attempt 1/5): API error occurred: Status 429\n",
      "{\"object\":\"error\",\"message\":\"Rate limit exceeded\",\"type\":\"rate_limited\",\"param\":null,\"code\":\"1300\"}\n",
      "Retrying in 1 seconds...\n"
     ]
    },
    {
     "name": "stderr",
     "output_type": "stream",
     "text": [
      "Processing queries (generate or skip): 280it [03:25,  1.12it/s]"
     ]
    },
    {
     "name": "stdout",
     "output_type": "stream",
     "text": [
      "Error generating for query 'Vitamin C-Enriched Bacon' (Attempt 1/5): API error occurred: Status 429\n",
      "{\"object\":\"error\",\"message\":\"Rate limit exceeded\",\"type\":\"rate_limited\",\"param\":null,\"code\":\"1300\"}\n",
      "Retrying in 1 seconds...\n"
     ]
    },
    {
     "name": "stderr",
     "output_type": "stream",
     "text": [
      "Processing queries (generate or skip): 282it [03:27,  1.11it/s]"
     ]
    },
    {
     "name": "stdout",
     "output_type": "stream",
     "text": [
      "Error generating for query 'Dragon's Blood' (Attempt 1/5): API error occurred: Status 429\n",
      "{\"object\":\"error\",\"message\":\"Rate limit exceeded\",\"type\":\"rate_limited\",\"param\":null,\"code\":\"1300\"}\n",
      "Retrying in 1 seconds...\n"
     ]
    },
    {
     "name": "stderr",
     "output_type": "stream",
     "text": [
      "Processing queries (generate or skip): 284it [03:29,  1.08it/s]"
     ]
    },
    {
     "name": "stdout",
     "output_type": "stream",
     "text": [
      "Error generating for query 'How to Help Prevent Abdominal Aortic Aneurysms' (Attempt 1/5): API error occurred: Status 429\n",
      "{\"object\":\"error\",\"message\":\"Rate limit exceeded\",\"type\":\"rate_limited\",\"param\":null,\"code\":\"1300\"}\n",
      "Retrying in 1 seconds...\n"
     ]
    },
    {
     "name": "stderr",
     "output_type": "stream",
     "text": [
      "Processing queries (generate or skip): 287it [03:31,  1.30it/s]"
     ]
    },
    {
     "name": "stdout",
     "output_type": "stream",
     "text": [
      "Error generating for query 'Dietary Guidelines: From Dairies to Berries' (Attempt 1/5): API error occurred: Status 429\n",
      "{\"object\":\"error\",\"message\":\"Rate limit exceeded\",\"type\":\"rate_limited\",\"param\":null,\"code\":\"1300\"}\n",
      "Retrying in 1 seconds...\n"
     ]
    },
    {
     "name": "stderr",
     "output_type": "stream",
     "text": [
      "Processing queries (generate or skip): 289it [03:33,  1.19it/s]"
     ]
    },
    {
     "name": "stdout",
     "output_type": "stream",
     "text": [
      "Error generating for query 'Relieving Yourself of Excess Estrogen' (Attempt 1/5): API error occurred: Status 429\n",
      "{\"object\":\"error\",\"message\":\"Rate limit exceeded\",\"type\":\"rate_limited\",\"param\":null,\"code\":\"1300\"}\n",
      "Retrying in 1 seconds...\n"
     ]
    },
    {
     "name": "stderr",
     "output_type": "stream",
     "text": [
      "Processing queries (generate or skip): 291it [03:35,  1.12it/s]"
     ]
    },
    {
     "name": "stdout",
     "output_type": "stream",
     "text": [
      "Error generating for query 'Is Milk and Mucus a Myth?' (Attempt 1/5): API error occurred: Status 429\n",
      "{\"object\":\"error\",\"message\":\"Rate limit exceeded\",\"type\":\"rate_limited\",\"param\":null,\"code\":\"1300\"}\n",
      "Retrying in 1 seconds...\n"
     ]
    },
    {
     "name": "stderr",
     "output_type": "stream",
     "text": [
      "Processing queries (generate or skip): 293it [03:38,  1.04it/s]"
     ]
    },
    {
     "name": "stdout",
     "output_type": "stream",
     "text": [
      "Error generating for query 'Is Dragon Fruit Good For You?' (Attempt 1/5): API error occurred: Status 429\n",
      "{\"object\":\"error\",\"message\":\"Rate limit exceeded\",\"type\":\"rate_limited\",\"param\":null,\"code\":\"1300\"}\n",
      "Retrying in 1 seconds...\n"
     ]
    },
    {
     "name": "stderr",
     "output_type": "stream",
     "text": [
      "Processing queries (generate or skip): 300it [03:45,  1.48it/s]"
     ]
    },
    {
     "name": "stdout",
     "output_type": "stream",
     "text": [
      "Error generating for query 'EPIC Study' (Attempt 1/5): API error occurred: Status 429\n",
      "{\"object\":\"error\",\"message\":\"Rate limit exceeded\",\"type\":\"rate_limited\",\"param\":null,\"code\":\"1300\"}\n",
      "Retrying in 1 seconds...\n"
     ]
    },
    {
     "name": "stderr",
     "output_type": "stream",
     "text": [
      "Processing queries (generate or skip): 303it [03:47,  1.32it/s]"
     ]
    },
    {
     "name": "stdout",
     "output_type": "stream",
     "text": [
      "Error generating for query 'Aluminum in Vaccines vs. Food' (Attempt 1/5): API error occurred: Status 429\n",
      "{\"object\":\"error\",\"message\":\"Rate limit exceeded\",\"type\":\"rate_limited\",\"param\":null,\"code\":\"1300\"}\n",
      "Retrying in 1 seconds...\n"
     ]
    },
    {
     "name": "stderr",
     "output_type": "stream",
     "text": [
      "Processing queries (generate or skip): 305it [03:49,  1.21it/s]"
     ]
    },
    {
     "name": "stdout",
     "output_type": "stream",
     "text": [
      "Error generating for query 'Fish Fog' (Attempt 1/5): API error occurred: Status 429\n",
      "{\"object\":\"error\",\"message\":\"Rate limit exceeded\",\"type\":\"rate_limited\",\"param\":null,\"code\":\"1300\"}\n",
      "Retrying in 1 seconds...\n"
     ]
    },
    {
     "name": "stderr",
     "output_type": "stream",
     "text": [
      "Processing queries (generate or skip): 307it [03:52,  1.06it/s]"
     ]
    },
    {
     "name": "stdout",
     "output_type": "stream",
     "text": [
      "Error generating for query 'Veggies vs. Cancer' (Attempt 1/5): API error occurred: Status 429\n",
      "{\"object\":\"error\",\"message\":\"Rate limit exceeded\",\"type\":\"rate_limited\",\"param\":null,\"code\":\"1300\"}\n",
      "Retrying in 1 seconds...\n"
     ]
    },
    {
     "name": "stderr",
     "output_type": "stream",
     "text": [
      "Processing queries (generate or skip): 310it [03:54,  1.27it/s]"
     ]
    },
    {
     "name": "stdout",
     "output_type": "stream",
     "text": [
      "Error generating for query 'Boosting Heart Nerve Control' (Attempt 1/5): API error occurred: Status 429\n",
      "{\"object\":\"error\",\"message\":\"Rate limit exceeded\",\"type\":\"rate_limited\",\"param\":null,\"code\":\"1300\"}\n",
      "Retrying in 1 seconds...\n"
     ]
    },
    {
     "name": "stderr",
     "output_type": "stream",
     "text": [
      "Processing queries (generate or skip): 312it [03:56,  1.14it/s]"
     ]
    },
    {
     "name": "stdout",
     "output_type": "stream",
     "text": [
      "Error generating for query 'The Healthiest Sweetener' (Attempt 1/5): API error occurred: Status 429\n",
      "{\"object\":\"error\",\"message\":\"Rate limit exceeded\",\"type\":\"rate_limited\",\"param\":null,\"code\":\"1300\"}\n",
      "Retrying in 1 seconds...\n"
     ]
    },
    {
     "name": "stderr",
     "output_type": "stream",
     "text": [
      "Processing queries (generate or skip): 314it [03:58,  1.14it/s]"
     ]
    },
    {
     "name": "stdout",
     "output_type": "stream",
     "text": [
      "Error generating for query 'Healthiest Airplane Beverage' (Attempt 1/5): API error occurred: Status 429\n",
      "{\"object\":\"error\",\"message\":\"Rate limit exceeded\",\"type\":\"rate_limited\",\"param\":null,\"code\":\"1300\"}\n",
      "Retrying in 1 seconds...\n"
     ]
    },
    {
     "name": "stderr",
     "output_type": "stream",
     "text": [
      "Processing queries (generate or skip): 316it [04:01,  1.00it/s]"
     ]
    },
    {
     "name": "stdout",
     "output_type": "stream",
     "text": [
      "Error generating for query 'Plant vs. Cow Calcium' (Attempt 1/5): API error occurred: Status 429\n",
      "{\"object\":\"error\",\"message\":\"Rate limit exceeded\",\"type\":\"rate_limited\",\"param\":null,\"code\":\"1300\"}\n",
      "Retrying in 1 seconds...\n"
     ]
    },
    {
     "name": "stderr",
     "output_type": "stream",
     "text": [
      "Processing queries (generate or skip): 318it [04:03,  1.06it/s]"
     ]
    },
    {
     "name": "stdout",
     "output_type": "stream",
     "text": [
      "Error generating for query 'Healthy Chocolate Milkshakes' (Attempt 1/5): API error occurred: Status 429\n",
      "{\"object\":\"error\",\"message\":\"Rate limit exceeded\",\"type\":\"rate_limited\",\"param\":null,\"code\":\"1300\"}\n",
      "Retrying in 1 seconds...\n"
     ]
    },
    {
     "name": "stderr",
     "output_type": "stream",
     "text": [
      "Processing queries (generate or skip): 321it [04:06,  1.13it/s]"
     ]
    },
    {
     "name": "stdout",
     "output_type": "stream",
     "text": [
      "Error generating for query 'Olive Oil and Artery Function' (Attempt 1/5): API error occurred: Status 429\n",
      "{\"object\":\"error\",\"message\":\"Rate limit exceeded\",\"type\":\"rate_limited\",\"param\":null,\"code\":\"1300\"}\n",
      "Retrying in 1 seconds...\n"
     ]
    },
    {
     "name": "stderr",
     "output_type": "stream",
     "text": [
      "Processing queries (generate or skip): 323it [04:08,  1.30it/s]"
     ]
    },
    {
     "name": "stdout",
     "output_type": "stream",
     "text": [
      "Document generation complete. Results saved in: ../doc_gen/rag_fusion/generated_documents_nfcorpus.jsonl\n"
     ]
    },
    {
     "name": "stderr",
     "output_type": "stream",
     "text": [
      "\n"
     ]
    }
   ],
   "source": [
    "fusion_rag.save_generated_docs('../doc_gen/rag_fusion/')"
   ]
  },
  {
   "cell_type": "code",
   "execution_count": 3,
   "id": "0f0f953b",
   "metadata": {},
   "outputs": [
    {
     "name": "stderr",
     "output_type": "stream",
     "text": [
      "obteniendo embedding de todos los doc generados: 100%|██████████| 323/323 [00:18<00:00, 17.50it/s]\n",
      "obteniendo resultados contriever: 323it [00:01, 307.66it/s]\n",
      "obteniendo resultados contriever: 323it [00:00, 334.61it/s]\n",
      "obteniendo resultados contriever: 323it [00:00, 335.59it/s]\n",
      "obteniendo resultados contriever: 323it [00:00, 344.65it/s]\n",
      "obteniendo resultados contriever_ft: 323it [00:00, 329.43it/s]\n",
      "obteniendo resultados contriever_ft: 323it [00:00, 333.19it/s]\n",
      "obteniendo resultados contriever_ft: 323it [00:00, 335.46it/s]\n",
      "obteniendo resultados contriever_ft: 323it [00:00, 336.32it/s]\n",
      "obteniendo resultados dpr: 323it [00:00, 335.82it/s]\n",
      "obteniendo resultados dpr: 323it [00:00, 337.96it/s]\n",
      "obteniendo resultados dpr: 323it [00:00, 335.70it/s]\n",
      "obteniendo resultados dpr: 323it [00:00, 337.23it/s]\n",
      "obteniendo resultados bge_large: 323it [00:01, 285.08it/s]\n",
      "obteniendo resultados bge_large: 323it [00:01, 287.00it/s]\n",
      "obteniendo resultados bge_large: 323it [00:01, 286.59it/s]\n",
      "obteniendo resultados bge_large: 323it [00:01, 284.97it/s]\n",
      "obteniendo resultados gte_large: 323it [00:01, 285.01it/s]\n",
      "obteniendo resultados gte_large: 323it [00:01, 285.27it/s]\n",
      "obteniendo resultados gte_large: 323it [00:01, 285.04it/s]\n",
      "obteniendo resultados gte_large: 323it [00:01, 283.71it/s]\n",
      "obteniendo resultados sparse_bm25: 323it [00:00, 446.43it/s]\n",
      "obteniendo resultados sparse_bm25: 323it [00:00, 325.56it/s]\n",
      "obteniendo resultados sparse_bm25: 323it [00:01, 251.78it/s]\n",
      "obteniendo resultados sparse_bm25: 323it [00:00, 530.33it/s]\n"
     ]
    }
   ],
   "source": [
    "fusion_rag.get_results_from_jsonl_rag_fusion(path_doc_gen='../doc_gen/rag_fusion/generated_documents_nfcorpus.jsonl', path=f'../results/rag_fusion/{dataset_name}/',batch_size=32, top_k=10)"
   ]
  },
  {
   "cell_type": "code",
   "execution_count": 4,
   "id": "1206bb67",
   "metadata": {},
   "outputs": [
    {
     "name": "stdout",
     "output_type": "stream",
     "text": [
      "nfcorpus\n"
     ]
    },
    {
     "data": {
      "application/vnd.jupyter.widget-view+json": {
       "model_id": "5adcd70fc06046449ced79588606d60a",
       "version_major": 2,
       "version_minor": 0
      },
      "text/plain": [
       "  0%|          | 0/3633 [00:00<?, ?it/s]"
      ]
     },
     "metadata": {},
     "output_type": "display_data"
    },
    {
     "name": "stdout",
     "output_type": "stream",
     "text": [
      "Calculando metricas de results_contriever_ft.json\n",
      "  Métricas guardadas en: ../metrics/rag_fusion/nfcorpus/results_contriever_ft.json\n",
      "Calculando metricas de results_bge_large.json\n",
      "  Métricas guardadas en: ../metrics/rag_fusion/nfcorpus/results_bge_large.json\n",
      "Calculando metricas de results_dpr.json\n",
      "  Métricas guardadas en: ../metrics/rag_fusion/nfcorpus/results_dpr.json\n",
      "Calculando metricas de results_contriever.json\n",
      "  Métricas guardadas en: ../metrics/rag_fusion/nfcorpus/results_contriever.json\n",
      "Calculando metricas de results_gte_large.json\n",
      "  Métricas guardadas en: ../metrics/rag_fusion/nfcorpus/results_gte_large.json\n",
      "Calculando metricas de results_sparse_bm25.json\n",
      "  Métricas guardadas en: ../metrics/rag_fusion/nfcorpus/results_sparse_bm25.json\n"
     ]
    }
   ],
   "source": [
    "from kdir_src.utils.evaluation import evaluate_all_results\n",
    "evaluate_all_results('../results/rag_fusion/nfcorpus')"
   ]
  },
  {
   "cell_type": "markdown",
   "id": "483b4238",
   "metadata": {},
   "source": [
    "## Scifact"
   ]
  },
  {
   "cell_type": "code",
   "execution_count": 3,
   "id": "de564f1a",
   "metadata": {},
   "outputs": [
    {
     "name": "stdout",
     "output_type": "stream",
     "text": [
      "Loading contriever...\n"
     ]
    },
    {
     "name": "stdout",
     "output_type": "stream",
     "text": [
      "Loading contriever FT...\n",
      "Loading question dpr...\n"
     ]
    },
    {
     "name": "stderr",
     "output_type": "stream",
     "text": [
      "Some weights of the model checkpoint at facebook/dpr-question_encoder-single-nq-base were not used when initializing DPRQuestionEncoder: ['question_encoder.bert_model.pooler.dense.bias', 'question_encoder.bert_model.pooler.dense.weight']\n",
      "- This IS expected if you are initializing DPRQuestionEncoder from the checkpoint of a model trained on another task or with another architecture (e.g. initializing a BertForSequenceClassification model from a BertForPreTraining model).\n",
      "- This IS NOT expected if you are initializing DPRQuestionEncoder from the checkpoint of a model that you expect to be exactly identical (initializing a BertForSequenceClassification model from a BertForSequenceClassification model).\n",
      "The tokenizer class you load from this checkpoint is not the same type as the class this function is called from. It may result in unexpected tokenization. \n",
      "The tokenizer class you load from this checkpoint is 'DPRQuestionEncoderTokenizer'. \n",
      "The class this function is called from is 'DPRContextEncoderTokenizer'.\n"
     ]
    },
    {
     "name": "stdout",
     "output_type": "stream",
     "text": [
      "Loading context dpr...\n"
     ]
    },
    {
     "name": "stderr",
     "output_type": "stream",
     "text": [
      "Some weights of the model checkpoint at facebook/dpr-ctx_encoder-single-nq-base were not used when initializing DPRContextEncoder: ['ctx_encoder.bert_model.pooler.dense.bias', 'ctx_encoder.bert_model.pooler.dense.weight']\n",
      "- This IS expected if you are initializing DPRContextEncoder from the checkpoint of a model trained on another task or with another architecture (e.g. initializing a BertForSequenceClassification model from a BertForPreTraining model).\n",
      "- This IS NOT expected if you are initializing DPRContextEncoder from the checkpoint of a model that you expect to be exactly identical (initializing a BertForSequenceClassification model from a BertForSequenceClassification model).\n"
     ]
    },
    {
     "name": "stdout",
     "output_type": "stream",
     "text": [
      "Loading bge large...\n",
      "Loading gte large...\n",
      "Loading bm25...\n"
     ]
    }
   ],
   "source": [
    "KEY = 'jTrxtC1mqMP1Lj9aMg8fvexSh2xDgZC4'\n",
    "dataset_name = 'scifact'\n",
    "promptor = Promptor(dataset_name)\n",
    "generator = MistralGenerator('mistral-small-2503', KEY, 4)\n",
    "encoder_models = load_models()\n",
    "fusion_rag = RAG_fusion(dataset_name,promptor, generator, encoder_models)"
   ]
  },
  {
   "cell_type": "code",
   "execution_count": 7,
   "id": "ccbee3a2",
   "metadata": {},
   "outputs": [
    {
     "data": {
      "application/vnd.jupyter.widget-view+json": {
       "model_id": "78980eb7aac14457952f8849b6f58d7d",
       "version_major": 2,
       "version_minor": 0
      },
      "text/plain": [
       "  0%|          | 0/5183 [00:00<?, ?it/s]"
      ]
     },
     "metadata": {},
     "output_type": "display_data"
    },
    {
     "name": "stderr",
     "output_type": "stream",
     "text": [
      "Procesando queries: 100%|██████████| 300/300 [00:00<00:00, 3153612.03it/s]\n"
     ]
    },
    {
     "name": "stdout",
     "output_type": "stream",
     "text": [
      "Found 60 previously generated documents in '../doc_gen/rag_fusion/generated_documents_scifact.jsonl'.\n"
     ]
    },
    {
     "name": "stderr",
     "output_type": "stream",
     "text": [
      "Processing queries (generate or skip): 105it [00:34,  1.42it/s]"
     ]
    },
    {
     "name": "stdout",
     "output_type": "stream",
     "text": [
      "Error generating for query 'High levels of CRP reduces the risk of exacerbations in chronic obstructive pulmonary disease (COPD).' (Attempt 1/5): API error occurred: Status 429\n",
      "{\"object\":\"error\",\"message\":\"Rate limit exceeded\",\"type\":\"rate_limited\",\"param\":null,\"code\":\"1300\"}\n",
      "Retrying in 1 seconds...\n"
     ]
    },
    {
     "name": "stderr",
     "output_type": "stream",
     "text": [
      "Processing queries (generate or skip): 109it [00:38,  1.15it/s]"
     ]
    },
    {
     "name": "stdout",
     "output_type": "stream",
     "text": [
      "Error generating for query 'Homozygous deletion of murine Sbds gene from osterix-expressing mesenchymal stem and progenitor cells (MPCs) prevents oxidative stress.' (Attempt 1/5): API error occurred: Status 429\n",
      "{\"object\":\"error\",\"message\":\"Rate limit exceeded\",\"type\":\"rate_limited\",\"param\":null,\"code\":\"1300\"}\n",
      "Retrying in 1 seconds...\n"
     ]
    },
    {
     "name": "stderr",
     "output_type": "stream",
     "text": [
      "Processing queries (generate or skip): 115it [00:44,  1.38it/s]"
     ]
    },
    {
     "name": "stdout",
     "output_type": "stream",
     "text": [
      "Error generating for query 'Hypoglycemia increases the risk of dementia.' (Attempt 1/5): API error occurred: Status 429\n",
      "{\"object\":\"error\",\"message\":\"Rate limit exceeded\",\"type\":\"rate_limited\",\"param\":null,\"code\":\"1300\"}\n",
      "Retrying in 1 seconds...\n"
     ]
    },
    {
     "name": "stderr",
     "output_type": "stream",
     "text": [
      "Processing queries (generate or skip): 117it [00:46,  1.13it/s]"
     ]
    },
    {
     "name": "stdout",
     "output_type": "stream",
     "text": [
      "Error generating for query 'IFIT1 restricts viral replication by sequestrating mis-capped viral RNAs.' (Attempt 1/5): API error occurred: Status 429\n",
      "{\"object\":\"error\",\"message\":\"Rate limit exceeded\",\"type\":\"rate_limited\",\"param\":null,\"code\":\"1300\"}\n",
      "Retrying in 1 seconds...\n"
     ]
    },
    {
     "name": "stderr",
     "output_type": "stream",
     "text": [
      "Processing queries (generate or skip): 120it [00:49,  1.17it/s]"
     ]
    },
    {
     "name": "stdout",
     "output_type": "stream",
     "text": [
      "Error generating for query 'IgA plasma cells that are specific for transglutaminase 2 accumulate in the duodenal mucosa on commencement of a gluten-free diet.' (Attempt 1/5): API error occurred: Status 429\n",
      "{\"object\":\"error\",\"message\":\"Rate limit exceeded\",\"type\":\"rate_limited\",\"param\":null,\"code\":\"1300\"}\n",
      "Retrying in 1 seconds...\n"
     ]
    },
    {
     "name": "stderr",
     "output_type": "stream",
     "text": [
      "Processing queries (generate or skip): 123it [00:52,  1.26it/s]"
     ]
    },
    {
     "name": "stdout",
     "output_type": "stream",
     "text": [
      "Error generating for query 'In adult tissue, most T cells are memory T cells.' (Attempt 1/5): API error occurred: Status 429\n",
      "{\"object\":\"error\",\"message\":\"Rate limit exceeded\",\"type\":\"rate_limited\",\"param\":null,\"code\":\"1300\"}\n",
      "Retrying in 1 seconds...\n"
     ]
    },
    {
     "name": "stderr",
     "output_type": "stream",
     "text": [
      "Processing queries (generate or skip): 125it [00:54,  1.05it/s]"
     ]
    },
    {
     "name": "stdout",
     "output_type": "stream",
     "text": [
      "Error generating for query 'In mice, P. chabaudi parasites are able to proliferate faster early in infection when inoculated at lower numbers than when inoculated at high numbers.' (Attempt 1/5): API error occurred: Status 429\n",
      "{\"object\":\"error\",\"message\":\"Rate limit exceeded\",\"type\":\"rate_limited\",\"param\":null,\"code\":\"1300\"}\n",
      "Retrying in 1 seconds...\n"
     ]
    },
    {
     "name": "stderr",
     "output_type": "stream",
     "text": [
      "Processing queries (generate or skip): 128it [00:57,  1.16it/s]"
     ]
    },
    {
     "name": "stdout",
     "output_type": "stream",
     "text": [
      "Error generating for query 'In young and middle-aged adults, current or remote uses of ADHD medications do not increase the risk of serious cardiovascular events.' (Attempt 1/5): API error occurred: Status 429\n",
      "{\"object\":\"error\",\"message\":\"Rate limit exceeded\",\"type\":\"rate_limited\",\"param\":null,\"code\":\"1300\"}\n",
      "Retrying in 1 seconds...\n"
     ]
    },
    {
     "name": "stderr",
     "output_type": "stream",
     "text": [
      "Processing queries (generate or skip): 130it [00:59,  1.07it/s]"
     ]
    },
    {
     "name": "stdout",
     "output_type": "stream",
     "text": [
      "Error generating for query 'Incidence rates of cervical cancer have decreased.' (Attempt 1/5): API error occurred: Status 429\n",
      "{\"object\":\"error\",\"message\":\"Rate limit exceeded\",\"type\":\"rate_limited\",\"param\":null,\"code\":\"1300\"}\n",
      "Retrying in 1 seconds...\n"
     ]
    },
    {
     "name": "stderr",
     "output_type": "stream",
     "text": [
      "Processing queries (generate or skip): 133it [01:02,  1.20it/s]"
     ]
    },
    {
     "name": "stdout",
     "output_type": "stream",
     "text": [
      "Error generating for query 'Increased vessel density along with a reduction in fibrosis decreases the efficacy of chemotherapy treatments.' (Attempt 1/5): API error occurred: Status 429\n",
      "{\"object\":\"error\",\"message\":\"Rate limit exceeded\",\"type\":\"rate_limited\",\"param\":null,\"code\":\"1300\"}\n",
      "Retrying in 1 seconds...\n"
     ]
    },
    {
     "name": "stderr",
     "output_type": "stream",
     "text": [
      "Processing queries (generate or skip): 136it [01:05,  1.19it/s]"
     ]
    },
    {
     "name": "stdout",
     "output_type": "stream",
     "text": [
      "Error generating for query 'Inositol lipid 3-phosphatase PTEN converts Ptdlns(3,4)P 2 into phosphatidylinositol 4-phosphate.' (Attempt 1/5): API error occurred: Status 429\n",
      "{\"object\":\"error\",\"message\":\"Rate limit exceeded\",\"type\":\"rate_limited\",\"param\":null,\"code\":\"1300\"}\n",
      "Retrying in 1 seconds...\n"
     ]
    },
    {
     "name": "stderr",
     "output_type": "stream",
     "text": [
      "Processing queries (generate or skip): 138it [01:07,  1.09it/s]"
     ]
    },
    {
     "name": "stdout",
     "output_type": "stream",
     "text": [
      "Error generating for query 'Insomnia can be effectively treated with cognitive behavioral therapy.' (Attempt 1/5): API error occurred: Status 429\n",
      "{\"object\":\"error\",\"message\":\"Rate limit exceeded\",\"type\":\"rate_limited\",\"param\":null,\"code\":\"1300\"}\n",
      "Retrying in 1 seconds...\n"
     ]
    },
    {
     "name": "stderr",
     "output_type": "stream",
     "text": [
      "Processing queries (generate or skip): 140it [01:09,  1.05it/s]"
     ]
    },
    {
     "name": "stdout",
     "output_type": "stream",
     "text": [
      "Error generating for query 'Integrating classroom-based collaborative learning with Web-based collaborative learning leads to subpar class performance' (Attempt 1/5): API error occurred: Status 429\n",
      "{\"object\":\"error\",\"message\":\"Rate limit exceeded\",\"type\":\"rate_limited\",\"param\":null,\"code\":\"1300\"}\n",
      "Retrying in 1 seconds...\n"
     ]
    },
    {
     "name": "stderr",
     "output_type": "stream",
     "text": [
      "Processing queries (generate or skip): 143it [01:12,  1.23it/s]"
     ]
    },
    {
     "name": "stdout",
     "output_type": "stream",
     "text": [
      "Error generating for query 'LDL cholesterol has no involvement in the development of cardiovascular disease.' (Attempt 1/5): API error occurred: Status 429\n",
      "{\"object\":\"error\",\"message\":\"Rate limit exceeded\",\"type\":\"rate_limited\",\"param\":null,\"code\":\"1300\"}\n",
      "Retrying in 1 seconds...\n"
     ]
    },
    {
     "name": "stderr",
     "output_type": "stream",
     "text": [
      "Processing queries (generate or skip): 145it [01:14,  1.14it/s]"
     ]
    },
    {
     "name": "stdout",
     "output_type": "stream",
     "text": [
      "Error generating for query 'Less than 10% of the gabonese children with Schimmelpenning-Feuerstein-Mims syndrome (SFM) had a plasma lactate of more than 5mmol/L.' (Attempt 1/5): API error occurred: Status 429\n",
      "{\"object\":\"error\",\"message\":\"Rate limit exceeded\",\"type\":\"rate_limited\",\"param\":null,\"code\":\"1300\"}\n",
      "Retrying in 1 seconds...\n"
     ]
    },
    {
     "name": "stderr",
     "output_type": "stream",
     "text": [
      "Processing queries (generate or skip): 148it [01:17,  1.21it/s]"
     ]
    },
    {
     "name": "stdout",
     "output_type": "stream",
     "text": [
      "Error generating for query 'Leuko-reduced blood reduces infectious complications in red blood cell transfusion.' (Attempt 1/5): API error occurred: Status 429\n",
      "{\"object\":\"error\",\"message\":\"Rate limit exceeded\",\"type\":\"rate_limited\",\"param\":null,\"code\":\"1300\"}\n",
      "Retrying in 1 seconds...\n"
     ]
    },
    {
     "name": "stderr",
     "output_type": "stream",
     "text": [
      "Processing queries (generate or skip): 150it [01:19,  1.12it/s]"
     ]
    },
    {
     "name": "stdout",
     "output_type": "stream",
     "text": [
      "Error generating for query 'Localization of PIN1 in the roots of Arabidopsis does not require VPS9a' (Attempt 1/5): API error occurred: Status 429\n",
      "{\"object\":\"error\",\"message\":\"Rate limit exceeded\",\"type\":\"rate_limited\",\"param\":null,\"code\":\"1300\"}\n",
      "Retrying in 1 seconds...\n"
     ]
    },
    {
     "name": "stderr",
     "output_type": "stream",
     "text": [
      "Processing queries (generate or skip): 152it [01:21,  1.08it/s]"
     ]
    },
    {
     "name": "stdout",
     "output_type": "stream",
     "text": [
      "Error generating for query 'Low expression of miR7a exerts a biological function in testis.' (Attempt 1/5): API error occurred: Status 429\n",
      "{\"object\":\"error\",\"message\":\"Rate limit exceeded\",\"type\":\"rate_limited\",\"param\":null,\"code\":\"1300\"}\n",
      "Retrying in 1 seconds...\n"
     ]
    },
    {
     "name": "stderr",
     "output_type": "stream",
     "text": [
      "Processing queries (generate or skip): 155it [01:24,  1.17it/s]"
     ]
    },
    {
     "name": "stdout",
     "output_type": "stream",
     "text": [
      "Error generating for query 'Ly49Q directs the organization of neutrophil migration to inflammation sites by regulating membrane raft functions.' (Attempt 1/5): API error occurred: Status 429\n",
      "{\"object\":\"error\",\"message\":\"Rate limit exceeded\",\"type\":\"rate_limited\",\"param\":null,\"code\":\"1300\"}\n",
      "Retrying in 1 seconds...\n"
     ]
    },
    {
     "name": "stderr",
     "output_type": "stream",
     "text": [
      "Processing queries (generate or skip): 158it [01:27,  1.14it/s]"
     ]
    },
    {
     "name": "stdout",
     "output_type": "stream",
     "text": [
      "Error generating for query 'Lymphadenopathy is observed in knockin mouse lacking the SHP-2 MAPK pathway.' (Attempt 1/5): API error occurred: Status 429\n",
      "{\"object\":\"error\",\"message\":\"Rate limit exceeded\",\"type\":\"rate_limited\",\"param\":null,\"code\":\"1300\"}\n",
      "Retrying in 1 seconds...\n"
     ]
    },
    {
     "name": "stderr",
     "output_type": "stream",
     "text": [
      "Processing queries (generate or skip): 161it [01:30,  1.30it/s]"
     ]
    },
    {
     "name": "stdout",
     "output_type": "stream",
     "text": [
      "Error generating for query 'Macropinocytosis contributes to a cell's supply of amino acids via the intracellular uptake of protein.' (Attempt 1/5): API error occurred: Status 429\n",
      "{\"object\":\"error\",\"message\":\"Rate limit exceeded\",\"type\":\"rate_limited\",\"param\":null,\"code\":\"1300\"}\n",
      "Retrying in 1 seconds...\n"
     ]
    },
    {
     "name": "stderr",
     "output_type": "stream",
     "text": [
      "Processing queries (generate or skip): 163it [01:32,  1.11it/s]"
     ]
    },
    {
     "name": "stdout",
     "output_type": "stream",
     "text": [
      "Error generating for query 'Mathematical models predict that using Artemisinin-based combination therapy over nongametocytocidal drugs have a dramatic impact in reducing malaria transmission.' (Attempt 1/5): API error occurred: Status 429\n",
      "{\"object\":\"error\",\"message\":\"Rate limit exceeded\",\"type\":\"rate_limited\",\"param\":null,\"code\":\"1300\"}\n",
      "Retrying in 1 seconds...\n"
     ]
    },
    {
     "name": "stderr",
     "output_type": "stream",
     "text": [
      "Processing queries (generate or skip): 167it [01:36,  1.22it/s]"
     ]
    },
    {
     "name": "stdout",
     "output_type": "stream",
     "text": [
      "Error generating for query 'Mice that lack Interferon-γ or its receptor exhibit high resistance to experimental autoimmune myocarditis.' (Attempt 1/5): API error occurred: Status 429\n",
      "{\"object\":\"error\",\"message\":\"Rate limit exceeded\",\"type\":\"rate_limited\",\"param\":null,\"code\":\"1300\"}\n",
      "Retrying in 1 seconds...\n"
     ]
    },
    {
     "name": "stderr",
     "output_type": "stream",
     "text": [
      "Processing queries (generate or skip): 170it [01:39,  1.07it/s]"
     ]
    },
    {
     "name": "stdout",
     "output_type": "stream",
     "text": [
      "Error generating for query 'Microarray results from culture-amplified mixtures of serotypes correlate poorly with microarray results from uncultured mixtures.' (Attempt 1/5): API error occurred: Status 429\n",
      "{\"object\":\"error\",\"message\":\"Rate limit exceeded\",\"type\":\"rate_limited\",\"param\":null,\"code\":\"1300\"}\n",
      "Retrying in 1 seconds...\n"
     ]
    },
    {
     "name": "stderr",
     "output_type": "stream",
     "text": [
      "Processing queries (generate or skip): 173it [01:42,  1.08it/s]"
     ]
    },
    {
     "name": "stdout",
     "output_type": "stream",
     "text": [
      "Error generating for query 'Monoclonal antibody targeting of N-cadherin inhibits metastasis.' (Attempt 1/5): API error occurred: Status 429\n",
      "{\"object\":\"error\",\"message\":\"Rate limit exceeded\",\"type\":\"rate_limited\",\"param\":null,\"code\":\"1300\"}\n",
      "Retrying in 1 seconds...\n"
     ]
    },
    {
     "name": "stderr",
     "output_type": "stream",
     "text": [
      "Processing queries (generate or skip): 176it [01:45,  1.20it/s]"
     ]
    },
    {
     "name": "stdout",
     "output_type": "stream",
     "text": [
      "Error generating for query 'Mutations in G-Beta protein GNB2 are present in many cancers, resulting in loss of interaction with G-alpha subunits and concomitant activation of AKT pathway.' (Attempt 1/5): API error occurred: Status 429\n",
      "{\"object\":\"error\",\"message\":\"Rate limit exceeded\",\"type\":\"rate_limited\",\"param\":null,\"code\":\"1300\"}\n",
      "Retrying in 1 seconds...\n"
     ]
    },
    {
     "name": "stderr",
     "output_type": "stream",
     "text": [
      "Processing queries (generate or skip): 179it [01:48,  1.15it/s]"
     ]
    },
    {
     "name": "stdout",
     "output_type": "stream",
     "text": [
      "Error generating for query 'N348I mutations cause resistance to zidovudine (AZT).' (Attempt 1/5): API error occurred: Status 429\n",
      "{\"object\":\"error\",\"message\":\"Rate limit exceeded\",\"type\":\"rate_limited\",\"param\":null,\"code\":\"1300\"}\n",
      "Retrying in 1 seconds...\n"
     ]
    },
    {
     "name": "stderr",
     "output_type": "stream",
     "text": [
      "Processing queries (generate or skip): 182it [01:51,  1.12it/s]"
     ]
    },
    {
     "name": "stdout",
     "output_type": "stream",
     "text": [
      "Error generating for query 'NFAT4 activation requires IP3R-mediated Ca2+ mobilization.' (Attempt 1/5): API error occurred: Status 429\n",
      "{\"object\":\"error\",\"message\":\"Rate limit exceeded\",\"type\":\"rate_limited\",\"param\":null,\"code\":\"1300\"}\n",
      "Retrying in 1 seconds...\n"
     ]
    },
    {
     "name": "stderr",
     "output_type": "stream",
     "text": [
      "Processing queries (generate or skip): 185it [01:54,  1.24it/s]"
     ]
    },
    {
     "name": "stdout",
     "output_type": "stream",
     "text": [
      "Error generating for query 'Nanoparticles can be targeted against specific cell types by incorporating aptamers into lipid nanoparticles.' (Attempt 1/5): API error occurred: Status 429\n",
      "{\"object\":\"error\",\"message\":\"Rate limit exceeded\",\"type\":\"rate_limited\",\"param\":null,\"code\":\"1300\"}\n",
      "Retrying in 1 seconds...\n"
     ]
    },
    {
     "name": "stderr",
     "output_type": "stream",
     "text": [
      "Processing queries (generate or skip): 187it [01:56,  1.17it/s]"
     ]
    },
    {
     "name": "stdout",
     "output_type": "stream",
     "text": [
      "Error generating for query 'New drugs for tuberculosis often do not penetrate the necrotic portion of a tuberculosis lesion in high concentrations.' (Attempt 1/5): API error occurred: Status 429\n",
      "{\"object\":\"error\",\"message\":\"Rate limit exceeded\",\"type\":\"rate_limited\",\"param\":null,\"code\":\"1300\"}\n",
      "Retrying in 1 seconds...\n"
     ]
    },
    {
     "name": "stderr",
     "output_type": "stream",
     "text": [
      "Processing queries (generate or skip): 189it [01:58,  1.05it/s]"
     ]
    },
    {
     "name": "stdout",
     "output_type": "stream",
     "text": [
      "Error generating for query 'Normal expression of RUNX1 has tumor-promoting effects.' (Attempt 1/5): API error occurred: Status 429\n",
      "{\"object\":\"error\",\"message\":\"Rate limit exceeded\",\"type\":\"rate_limited\",\"param\":null,\"code\":\"1300\"}\n",
      "Retrying in 1 seconds...\n"
     ]
    },
    {
     "name": "stderr",
     "output_type": "stream",
     "text": [
      "Processing queries (generate or skip): 191it [02:00,  1.08it/s]"
     ]
    },
    {
     "name": "stdout",
     "output_type": "stream",
     "text": [
      "Error generating for query 'Obesity is determined solely by environmental factors.' (Attempt 1/5): API error occurred: Status 429\n",
      "{\"object\":\"error\",\"message\":\"Rate limit exceeded\",\"type\":\"rate_limited\",\"param\":null,\"code\":\"1300\"}\n",
      "Retrying in 1 seconds...\n"
     ]
    },
    {
     "name": "stderr",
     "output_type": "stream",
     "text": [
      "Processing queries (generate or skip): 193it [02:03,  1.08it/s]"
     ]
    },
    {
     "name": "stdout",
     "output_type": "stream",
     "text": [
      "Error generating for query 'Occupancy of ribosomes by IncRNAs mirror 5 0-UTRs' (Attempt 1/5): API error occurred: Status 429\n",
      "{\"object\":\"error\",\"message\":\"Rate limit exceeded\",\"type\":\"rate_limited\",\"param\":null,\"code\":\"1300\"}\n",
      "Retrying in 1 seconds...\n"
     ]
    },
    {
     "name": "stderr",
     "output_type": "stream",
     "text": [
      "Processing queries (generate or skip): 195it [02:05,  1.04it/s]"
     ]
    },
    {
     "name": "stdout",
     "output_type": "stream",
     "text": [
      "Error generating for query 'Only a minority of cells survive development after differentiation into stress-resistant spores.' (Attempt 1/5): API error occurred: Status 429\n",
      "{\"object\":\"error\",\"message\":\"Rate limit exceeded\",\"type\":\"rate_limited\",\"param\":null,\"code\":\"1300\"}\n",
      "Retrying in 1 seconds...\n"
     ]
    },
    {
     "name": "stderr",
     "output_type": "stream",
     "text": [
      "Processing queries (generate or skip): 201it [02:11,  1.27it/s]"
     ]
    },
    {
     "name": "stdout",
     "output_type": "stream",
     "text": [
      "Error generating for query 'PPAR-RXRs can be activated by PPAR ligands.' (Attempt 1/5): API error occurred: Status 429\n",
      "{\"object\":\"error\",\"message\":\"Rate limit exceeded\",\"type\":\"rate_limited\",\"param\":null,\"code\":\"1300\"}\n",
      "Retrying in 1 seconds...\n"
     ]
    },
    {
     "name": "stderr",
     "output_type": "stream",
     "text": [
      "Processing queries (generate or skip): 203it [02:13,  1.15it/s]"
     ]
    },
    {
     "name": "stdout",
     "output_type": "stream",
     "text": [
      "Error generating for query 'Patients in stable partnerships have a faster progression from HIV to AIDS.' (Attempt 1/5): API error occurred: Status 429\n",
      "{\"object\":\"error\",\"message\":\"Rate limit exceeded\",\"type\":\"rate_limited\",\"param\":null,\"code\":\"1300\"}\n",
      "Retrying in 1 seconds...\n"
     ]
    },
    {
     "name": "stderr",
     "output_type": "stream",
     "text": [
      "Processing queries (generate or skip): 206it [02:16,  1.14it/s]"
     ]
    },
    {
     "name": "stdout",
     "output_type": "stream",
     "text": [
      "Error generating for query 'Podocytes are motile and migrate in the presence of injury.' (Attempt 1/5): API error occurred: Status 429\n",
      "{\"object\":\"error\",\"message\":\"Rate limit exceeded\",\"type\":\"rate_limited\",\"param\":null,\"code\":\"1300\"}\n",
      "Retrying in 1 seconds...\n"
     ]
    },
    {
     "name": "stderr",
     "output_type": "stream",
     "text": [
      "Processing queries (generate or skip): 209it [02:19,  1.26it/s]"
     ]
    },
    {
     "name": "stdout",
     "output_type": "stream",
     "text": [
      "Error generating for query 'Primary cervical cancer screening with HPV detection has higher longitudinal sensitivity than conventional cytology to detect cervical intraepithelial neoplasia grade 2.' (Attempt 1/5): API error occurred: Status 429\n",
      "{\"object\":\"error\",\"message\":\"Rate limit exceeded\",\"type\":\"rate_limited\",\"param\":null,\"code\":\"1300\"}\n",
      "Retrying in 1 seconds...\n"
     ]
    },
    {
     "name": "stderr",
     "output_type": "stream",
     "text": [
      "Processing queries (generate or skip): 212it [02:22,  1.09it/s]"
     ]
    },
    {
     "name": "stdout",
     "output_type": "stream",
     "text": [
      "Error generating for query 'Pseudogene PTENP1 regulates the expression of PTEN by functioning as an miRNA decoy.' (Attempt 1/5): API error occurred: Status 429\n",
      "{\"object\":\"error\",\"message\":\"Rate limit exceeded\",\"type\":\"rate_limited\",\"param\":null,\"code\":\"1300\"}\n",
      "Retrying in 1 seconds...\n"
     ]
    },
    {
     "name": "stderr",
     "output_type": "stream",
     "text": [
      "Processing queries (generate or skip): 216it [02:26,  1.20it/s]"
     ]
    },
    {
     "name": "stdout",
     "output_type": "stream",
     "text": [
      "Error generating for query 'Rapid phosphotransfer rates govern fidelity in two component systems' (Attempt 1/5): API error occurred: Status 429\n",
      "{\"object\":\"error\",\"message\":\"Rate limit exceeded\",\"type\":\"rate_limited\",\"param\":null,\"code\":\"1300\"}\n",
      "Retrying in 1 seconds...\n"
     ]
    },
    {
     "name": "stderr",
     "output_type": "stream",
     "text": [
      "Processing queries (generate or skip): 218it [02:28,  1.09it/s]"
     ]
    },
    {
     "name": "stdout",
     "output_type": "stream",
     "text": [
      "Error generating for query 'Rapid up-regulation and higher basal expression of interferon-induced genes reduce survival of granule cell neurons that are infected by West Nile virus.' (Attempt 1/5): API error occurred: Status 429\n",
      "{\"object\":\"error\",\"message\":\"Rate limit exceeded\",\"type\":\"rate_limited\",\"param\":null,\"code\":\"1300\"}\n",
      "Retrying in 1 seconds...\n"
     ]
    },
    {
     "name": "stderr",
     "output_type": "stream",
     "text": [
      "Processing queries (generate or skip): 223it [02:33,  1.22it/s]"
     ]
    },
    {
     "name": "stdout",
     "output_type": "stream",
     "text": [
      "Error generating for query 'S-nitrosylated GAPDH physiologically transnitrosylates histone deacetylases.' (Attempt 1/5): API error occurred: Status 429\n",
      "{\"object\":\"error\",\"message\":\"Rate limit exceeded\",\"type\":\"rate_limited\",\"param\":null,\"code\":\"1300\"}\n",
      "Retrying in 1 seconds...\n"
     ]
    },
    {
     "name": "stderr",
     "output_type": "stream",
     "text": [
      "Processing queries (generate or skip): 225it [02:35,  1.14it/s]"
     ]
    },
    {
     "name": "stdout",
     "output_type": "stream",
     "text": [
      "Error generating for query 'Silencing of Bcl2 is important for the maintenance and progression of tumors.' (Attempt 1/5): API error occurred: Status 429\n",
      "{\"object\":\"error\",\"message\":\"Rate limit exceeded\",\"type\":\"rate_limited\",\"param\":null,\"code\":\"1300\"}\n",
      "Retrying in 1 seconds...\n"
     ]
    },
    {
     "name": "stderr",
     "output_type": "stream",
     "text": [
      "Processing queries (generate or skip): 228it [02:38,  1.17it/s]"
     ]
    },
    {
     "name": "stdout",
     "output_type": "stream",
     "text": [
      "Error generating for query 'Statins increase blood cholesterol.' (Attempt 1/5): API error occurred: Status 429\n",
      "{\"object\":\"error\",\"message\":\"Rate limit exceeded\",\"type\":\"rate_limited\",\"param\":null,\"code\":\"1300\"}\n",
      "Retrying in 1 seconds...\n"
     ]
    },
    {
     "name": "stderr",
     "output_type": "stream",
     "text": [
      "Processing queries (generate or skip): 231it [02:41,  1.15it/s]"
     ]
    },
    {
     "name": "stdout",
     "output_type": "stream",
     "text": [
      "Error generating for query 'Suboptimal nutrition is not predictive of chronic disease' (Attempt 1/5): API error occurred: Status 429\n",
      "{\"object\":\"error\",\"message\":\"Rate limit exceeded\",\"type\":\"rate_limited\",\"param\":null,\"code\":\"1300\"}\n",
      "Retrying in 1 seconds...\n"
     ]
    },
    {
     "name": "stderr",
     "output_type": "stream",
     "text": [
      "Processing queries (generate or skip): 233it [02:43,  1.08it/s]"
     ]
    },
    {
     "name": "stdout",
     "output_type": "stream",
     "text": [
      "Error generating for query 'T regulatory cells (tTregs) lacking αvβ8 are more adept at suppressing pathogenic T-cell responses during active inflammation.' (Attempt 1/5): API error occurred: Status 429\n",
      "{\"object\":\"error\",\"message\":\"Rate limit exceeded\",\"type\":\"rate_limited\",\"param\":null,\"code\":\"1300\"}\n",
      "Retrying in 1 seconds...\n"
     ]
    },
    {
     "name": "stderr",
     "output_type": "stream",
     "text": [
      "Processing queries (generate or skip): 236it [02:46,  1.11it/s]"
     ]
    },
    {
     "name": "stdout",
     "output_type": "stream",
     "text": [
      "Error generating for query 'Taking 400mg of α-tocopheryl acetate helps to prevent prostate cancer.' (Attempt 1/5): API error occurred: Status 429\n",
      "{\"object\":\"error\",\"message\":\"Rate limit exceeded\",\"type\":\"rate_limited\",\"param\":null,\"code\":\"1300\"}\n",
      "Retrying in 1 seconds...\n"
     ]
    },
    {
     "name": "stderr",
     "output_type": "stream",
     "text": [
      "Processing queries (generate or skip): 248it [02:58,  1.39it/s]"
     ]
    },
    {
     "name": "stdout",
     "output_type": "stream",
     "text": [
      "Error generating for query 'The availability of safe places to study is effective at decreasing homelessness.' (Attempt 1/5): API error occurred: Status 429\n",
      "{\"object\":\"error\",\"message\":\"Rate limit exceeded\",\"type\":\"rate_limited\",\"param\":null,\"code\":\"1300\"}\n",
      "Retrying in 1 seconds...\n"
     ]
    },
    {
     "name": "stderr",
     "output_type": "stream",
     "text": [
      "Processing queries (generate or skip): 251it [03:01,  1.27it/s]"
     ]
    },
    {
     "name": "stdout",
     "output_type": "stream",
     "text": [
      "Error generating for query 'The binding orientation of the ML-SA1 activator at hTRPML2 is different from the binding orientation of the ML-SA1 activator at hTRPML1.' (Attempt 1/5): API error occurred: Status 429\n",
      "{\"object\":\"error\",\"message\":\"Rate limit exceeded\",\"type\":\"rate_limited\",\"param\":null,\"code\":\"1300\"}\n",
      "Retrying in 1 seconds...\n"
     ]
    },
    {
     "name": "stderr",
     "output_type": "stream",
     "text": [
      "Processing queries (generate or skip): 258it [03:08,  1.35it/s]"
     ]
    },
    {
     "name": "stdout",
     "output_type": "stream",
     "text": [
      "Error generating for query 'The locus rs647161 is associated with colorectal carcinoma.' (Attempt 1/5): API error occurred: Status 429\n",
      "{\"object\":\"error\",\"message\":\"Rate limit exceeded\",\"type\":\"rate_limited\",\"param\":null,\"code\":\"1300\"}\n",
      "Retrying in 1 seconds...\n"
     ]
    },
    {
     "name": "stderr",
     "output_type": "stream",
     "text": [
      "Processing queries (generate or skip): 261it [03:12,  1.10it/s]"
     ]
    },
    {
     "name": "stdout",
     "output_type": "stream",
     "text": [
      "Error generating for query 'The myocardial lineage develops from cardiac progenitors of mesodermal origin.' (Attempt 1/5): API error occurred: Status 429\n",
      "{\"object\":\"error\",\"message\":\"Rate limit exceeded\",\"type\":\"rate_limited\",\"param\":null,\"code\":\"1300\"}\n",
      "Retrying in 1 seconds...\n"
     ]
    },
    {
     "name": "stderr",
     "output_type": "stream",
     "text": [
      "Processing queries (generate or skip): 263it [03:14,  1.06it/s]"
     ]
    },
    {
     "name": "stdout",
     "output_type": "stream",
     "text": [
      "Error generating for query 'The relationship between a breast cancer patient's capacity to metabolize tamoxifen and treatment outcome is dependent on the patient's genetic make-up.' (Attempt 1/5): API error occurred: Status 429\n",
      "{\"object\":\"error\",\"message\":\"Rate limit exceeded\",\"type\":\"rate_limited\",\"param\":null,\"code\":\"1300\"}\n",
      "Retrying in 1 seconds...\n"
     ]
    },
    {
     "name": "stderr",
     "output_type": "stream",
     "text": [
      "Processing queries (generate or skip): 266it [03:17,  1.10it/s]"
     ]
    },
    {
     "name": "stdout",
     "output_type": "stream",
     "text": [
      "Error generating for query 'The risk of male prisoners harming themselves is ten times that of female prisoners.' (Attempt 1/5): API error occurred: Status 429\n",
      "{\"object\":\"error\",\"message\":\"Rate limit exceeded\",\"type\":\"rate_limited\",\"param\":null,\"code\":\"1300\"}\n",
      "Retrying in 1 seconds...\n"
     ]
    },
    {
     "name": "stderr",
     "output_type": "stream",
     "text": [
      "Processing queries (generate or skip): 269it [03:19,  1.22it/s]"
     ]
    },
    {
     "name": "stdout",
     "output_type": "stream",
     "text": [
      "Error generating for query 'The sliding activity of kinesin-8 protein Kip3 promotes bipolar spindle assembly.' (Attempt 1/5): API error occurred: Status 429\n",
      "{\"object\":\"error\",\"message\":\"Rate limit exceeded\",\"type\":\"rate_limited\",\"param\":null,\"code\":\"1300\"}\n",
      "Retrying in 1 seconds...\n"
     ]
    },
    {
     "name": "stderr",
     "output_type": "stream",
     "text": [
      "Processing queries (generate or skip): 273it [03:24,  1.14it/s]"
     ]
    },
    {
     "name": "stdout",
     "output_type": "stream",
     "text": [
      "Error generating for query 'The ureABIEFGH gene cluster encodes urease maturation proteins : UreD/UreH, UreE, UreF, and UreG.' (Attempt 1/5): API error occurred: Status 429\n",
      "{\"object\":\"error\",\"message\":\"Rate limit exceeded\",\"type\":\"rate_limited\",\"param\":null,\"code\":\"1300\"}\n",
      "Retrying in 1 seconds...\n"
     ]
    },
    {
     "name": "stderr",
     "output_type": "stream",
     "text": [
      "Processing queries (generate or skip): 278it [03:29,  1.23it/s]"
     ]
    },
    {
     "name": "stdout",
     "output_type": "stream",
     "text": [
      "Error generating for query 'Thigh-length graduated compression stockings (GCS) did not reduce deep vein thrombosis in patients admitted to hospital who are immobile because of acute stroke.' (Attempt 1/5): API error occurred: Status 429\n",
      "{\"object\":\"error\",\"message\":\"Rate limit exceeded\",\"type\":\"rate_limited\",\"param\":null,\"code\":\"1300\"}\n",
      "Retrying in 1 seconds...\n"
     ]
    },
    {
     "name": "stderr",
     "output_type": "stream",
     "text": [
      "Processing queries (generate or skip): 295it [03:46,  1.72it/s]"
     ]
    },
    {
     "name": "stdout",
     "output_type": "stream",
     "text": [
      "Error generating for query 'Women with a higher birth weight are more likely to develop breast cancer later in life.' (Attempt 1/5): API error occurred: Status 429\n",
      "{\"object\":\"error\",\"message\":\"Rate limit exceeded\",\"type\":\"rate_limited\",\"param\":null,\"code\":\"1300\"}\n",
      "Retrying in 1 seconds...\n"
     ]
    },
    {
     "name": "stderr",
     "output_type": "stream",
     "text": [
      "Processing queries (generate or skip): 297it [03:48,  1.24it/s]"
     ]
    },
    {
     "name": "stdout",
     "output_type": "stream",
     "text": [
      "Error generating for query 'cSMAC formation enhances weak ligand signalling.' (Attempt 1/5): API error occurred: Status 429\n",
      "{\"object\":\"error\",\"message\":\"Rate limit exceeded\",\"type\":\"rate_limited\",\"param\":null,\"code\":\"1300\"}\n",
      "Retrying in 1 seconds...\n"
     ]
    },
    {
     "name": "stderr",
     "output_type": "stream",
     "text": [
      "Processing queries (generate or skip): 300it [03:53,  1.28it/s]"
     ]
    },
    {
     "name": "stdout",
     "output_type": "stream",
     "text": [
      "Document generation complete. Results saved in: ../doc_gen/rag_fusion/generated_documents_scifact.jsonl\n"
     ]
    },
    {
     "name": "stderr",
     "output_type": "stream",
     "text": [
      "\n"
     ]
    }
   ],
   "source": [
    "fusion_rag.save_generated_docs('../doc_gen/rag_fusion/')"
   ]
  },
  {
   "cell_type": "code",
   "execution_count": 5,
   "id": "f37e8ae3",
   "metadata": {},
   "outputs": [
    {
     "name": "stderr",
     "output_type": "stream",
     "text": [
      "obteniendo embedding de todos los doc generados: 100%|██████████| 300/300 [00:16<00:00, 17.94it/s]\n",
      "obteniendo resultados contriever: 300it [00:00, 303.97it/s]\n",
      "obteniendo resultados contriever: 300it [00:00, 310.81it/s]\n",
      "obteniendo resultados contriever: 300it [00:00, 310.78it/s]\n",
      "obteniendo resultados contriever: 300it [00:00, 305.15it/s]\n",
      "obteniendo resultados contriever_ft: 300it [00:00, 300.48it/s]\n",
      "obteniendo resultados contriever_ft: 300it [00:00, 301.56it/s]\n",
      "obteniendo resultados contriever_ft: 300it [00:00, 304.14it/s]\n",
      "obteniendo resultados contriever_ft: 300it [00:00, 304.06it/s]\n",
      "obteniendo resultados dpr: 300it [00:00, 301.88it/s]\n",
      "obteniendo resultados dpr: 300it [00:00, 306.96it/s]\n",
      "obteniendo resultados dpr: 300it [00:00, 304.61it/s]\n",
      "obteniendo resultados dpr: 300it [00:00, 305.53it/s]\n",
      "obteniendo resultados bge_large: 300it [00:01, 250.64it/s]\n",
      "obteniendo resultados bge_large: 300it [00:01, 256.98it/s]\n",
      "obteniendo resultados bge_large: 300it [00:01, 255.88it/s]\n",
      "obteniendo resultados bge_large: 300it [00:01, 255.39it/s]\n",
      "obteniendo resultados gte_large: 300it [00:01, 257.15it/s]\n",
      "obteniendo resultados gte_large: 300it [00:01, 258.52it/s]\n",
      "obteniendo resultados gte_large: 300it [00:01, 258.16it/s]\n",
      "obteniendo resultados gte_large: 300it [00:01, 256.48it/s]\n",
      "obteniendo resultados sparse_bm25: 300it [00:00, 305.85it/s]\n",
      "obteniendo resultados sparse_bm25: 300it [00:01, 253.84it/s]\n",
      "obteniendo resultados sparse_bm25: 300it [00:00, 393.45it/s]\n",
      "obteniendo resultados sparse_bm25: 300it [00:00, 358.72it/s]\n"
     ]
    }
   ],
   "source": [
    "fusion_rag.get_results_from_jsonl_rag_fusion(path_doc_gen=f'../doc_gen/rag_fusion/generated_documents_{dataset_name}.jsonl', path=f'../results/rag_fusion/{dataset_name}/',batch_size=32, top_k=10)"
   ]
  },
  {
   "cell_type": "code",
   "execution_count": 6,
   "id": "35346f5b",
   "metadata": {},
   "outputs": [
    {
     "name": "stdout",
     "output_type": "stream",
     "text": [
      "scifact\n"
     ]
    },
    {
     "data": {
      "application/vnd.jupyter.widget-view+json": {
       "model_id": "11d9e30e95784c37a6b5c6fe5442aa0e",
       "version_major": 2,
       "version_minor": 0
      },
      "text/plain": [
       "  0%|          | 0/5183 [00:00<?, ?it/s]"
      ]
     },
     "metadata": {},
     "output_type": "display_data"
    },
    {
     "name": "stdout",
     "output_type": "stream",
     "text": [
      "Calculando metricas de results_contriever_ft.json\n",
      "  Métricas guardadas en: ../metrics/rag_fusion/scifact/results_contriever_ft.json\n",
      "Calculando metricas de results_bge_large.json\n",
      "  Métricas guardadas en: ../metrics/rag_fusion/scifact/results_bge_large.json\n",
      "Calculando metricas de results_dpr.json\n",
      "  Métricas guardadas en: ../metrics/rag_fusion/scifact/results_dpr.json\n",
      "Calculando metricas de results_contriever.json\n",
      "  Métricas guardadas en: ../metrics/rag_fusion/scifact/results_contriever.json\n",
      "Calculando metricas de results_gte_large.json\n",
      "  Métricas guardadas en: ../metrics/rag_fusion/scifact/results_gte_large.json\n",
      "Calculando metricas de results_sparse_bm25.json\n",
      "  Métricas guardadas en: ../metrics/rag_fusion/scifact/results_sparse_bm25.json\n"
     ]
    }
   ],
   "source": [
    "from kdir_src.utils.evaluation import evaluate_all_results\n",
    "evaluate_all_results(f'../results/rag_fusion/{dataset_name}')"
   ]
  },
  {
   "cell_type": "markdown",
   "id": "1a70ca02",
   "metadata": {},
   "source": [
    "## FIQA"
   ]
  },
  {
   "cell_type": "code",
   "execution_count": 7,
   "id": "1b463dfa",
   "metadata": {},
   "outputs": [],
   "source": [
    "KEY = 'jTrxtC1mqMP1Lj9aMg8fvexSh2xDgZC4'\n",
    "dataset_name = 'fiqa'\n",
    "promptor = Promptor(dataset_name)\n",
    "generator = MistralGenerator('mistral-small-2503', KEY, 4)\n",
    "#encoder_models = load_models()\n",
    "fusion_rag = RAG_fusion(dataset_name,promptor, generator, encoder_models)"
   ]
  },
  {
   "cell_type": "code",
   "execution_count": 10,
   "id": "a45e9157",
   "metadata": {},
   "outputs": [
    {
     "data": {
      "application/vnd.jupyter.widget-view+json": {
       "model_id": "acc6e82786a1400e863014dc0a9f1a98",
       "version_major": 2,
       "version_minor": 0
      },
      "text/plain": [
       "  0%|          | 0/57638 [00:00<?, ?it/s]"
      ]
     },
     "metadata": {},
     "output_type": "display_data"
    },
    {
     "name": "stderr",
     "output_type": "stream",
     "text": [
      "Procesando queries: 100%|██████████| 648/648 [00:00<00:00, 3590368.55it/s]\n"
     ]
    },
    {
     "name": "stdout",
     "output_type": "stream",
     "text": [
      "Found 120 previously generated documents in '../doc_gen/rag_fusion/generated_documents_fiqa.jsonl'.\n"
     ]
    },
    {
     "name": "stderr",
     "output_type": "stream",
     "text": [
      "Processing queries (generate or skip): 0it [00:00, ?it/s]"
     ]
    },
    {
     "name": "stderr",
     "output_type": "stream",
     "text": [
      "Processing queries (generate or skip): 121it [00:00, 294.93it/s]"
     ]
    },
    {
     "name": "stdout",
     "output_type": "stream",
     "text": [
      "Error generating for query 'What exchange rate does El Al use when converting final payment amount to shekels?' (Attempt 1/5): API error occurred: Status 429\n",
      "{\"object\":\"error\",\"message\":\"Rate limit exceeded\",\"type\":\"rate_limited\",\"param\":null,\"code\":\"1300\"}\n",
      "Retrying in 1 seconds...\n",
      "Error generating for query 'How do you determine “excess cash” for Enterprise Value calculations from a balance sheet?' (Attempt 1/5): API error occurred: Status 429\n",
      "{\"object\":\"error\",\"message\":\"Rate limit exceeded\",\"type\":\"rate_limited\",\"param\":null,\"code\":\"1300\"}\n",
      "Retrying in 1 seconds...\n",
      "Error generating for query 'Why do gas stations charge different amounts in the same local area?' (Attempt 1/5): API error occurred: Status 429\n",
      "{\"object\":\"error\",\"message\":\"Rate limit exceeded\",\"type\":\"rate_limited\",\"param\":null,\"code\":\"1300\"}\n",
      "Retrying in 1 seconds...\n",
      "Error generating for query 'As director, can I invoice my self-owned company?' (Attempt 1/5): API error occurred: Status 429\n",
      "{\"object\":\"error\",\"message\":\"Rate limit exceeded\",\"type\":\"rate_limited\",\"param\":null,\"code\":\"1300\"}\n",
      "Retrying in 1 seconds...\n",
      "Error generating for query 'Frustrated Landlord' (Attempt 1/5): API error occurred: Status 429\n",
      "{\"object\":\"error\",\"message\":\"Rate limit exceeded\",\"type\":\"rate_limited\",\"param\":null,\"code\":\"1300\"}\n",
      "Retrying in 1 seconds...\n"
     ]
    },
    {
     "name": "stderr",
     "output_type": "stream",
     "text": [
      "Processing queries (generate or skip): 136it [00:13,  7.15it/s] "
     ]
    },
    {
     "name": "stdout",
     "output_type": "stream",
     "text": [
      "Error generating for query 'Will I be paid dividends if I own shares?' (Attempt 1/5): API error occurred: Status 429\n",
      "{\"object\":\"error\",\"message\":\"Rate limit exceeded\",\"type\":\"rate_limited\",\"param\":null,\"code\":\"1300\"}\n",
      "Retrying in 1 seconds...\n",
      "Error generating for query 'Why should a company go public?' (Attempt 1/5): API error occurred: Status 429\n",
      "{\"object\":\"error\",\"message\":\"Rate limit exceeded\",\"type\":\"rate_limited\",\"param\":null,\"code\":\"1300\"}\n",
      "Retrying in 1 seconds...\n",
      "Error generating for query 'What are some way to transfer money from Hong Kong to India on a monthly basis?' (Attempt 1/5): API error occurred: Status 429\n",
      "{\"object\":\"error\",\"message\":\"Rate limit exceeded\",\"type\":\"rate_limited\",\"param\":null,\"code\":\"1300\"}\n",
      "Retrying in 1 seconds...\n",
      "Error generating for query 'What are the consequences of not respecting a notice period when leaving a job?' (Attempt 1/5): API error occurred: Status 429\n",
      "{\"object\":\"error\",\"message\":\"Rate limit exceeded\",\"type\":\"rate_limited\",\"param\":null,\"code\":\"1300\"}\n",
      "Retrying in 1 seconds...\n",
      "Error generating for query 'How do I deal with a mistaken attempt to collect a debt from me that is owed by someone else?' (Attempt 1/5): API error occurred: Status 429\n",
      "{\"object\":\"error\",\"message\":\"Rate limit exceeded\",\"type\":\"rate_limited\",\"param\":null,\"code\":\"1300\"}\n",
      "Retrying in 1 seconds...\n",
      "Error generating for query 'How does revenue shared with someone else go into my tax return in Canada?' (Attempt 1/5): API error occurred: Status 429\n",
      "{\"object\":\"error\",\"message\":\"Rate limit exceeded\",\"type\":\"rate_limited\",\"param\":null,\"code\":\"1300\"}\n",
      "Retrying in 1 seconds...\n"
     ]
    },
    {
     "name": "stderr",
     "output_type": "stream",
     "text": [
      "Processing queries (generate or skip): 149it [00:26,  3.13it/s]"
     ]
    },
    {
     "name": "stdout",
     "output_type": "stream",
     "text": [
      "Error generating for query 'How to graph the market year over year? for example Dow Jones Index' (Attempt 1/5): API error occurred: Status 429\n",
      "{\"object\":\"error\",\"message\":\"Rate limit exceeded\",\"type\":\"rate_limited\",\"param\":null,\"code\":\"1300\"}\n",
      "Retrying in 1 seconds...\n"
     ]
    },
    {
     "name": "stderr",
     "output_type": "stream",
     "text": [
      "Processing queries (generate or skip): 150it [00:28,  2.86it/s]"
     ]
    },
    {
     "name": "stdout",
     "output_type": "stream",
     "text": [
      "Error generating for query 'How to pay with cash when car shopping?' (Attempt 1/5): API error occurred: Status 429\n",
      "{\"object\":\"error\",\"message\":\"Rate limit exceeded\",\"type\":\"rate_limited\",\"param\":null,\"code\":\"1300\"}\n",
      "Retrying in 1 seconds...\n",
      "Error generating for query 'Stock market vs. baseball card trading analogy' (Attempt 1/5): API error occurred: Status 429\n",
      "{\"object\":\"error\",\"message\":\"Rate limit exceeded\",\"type\":\"rate_limited\",\"param\":null,\"code\":\"1300\"}\n",
      "Retrying in 1 seconds...\n",
      "Error generating for query 'How can I detect potential fraud in a company before investing in them?' (Attempt 1/5): API error occurred: Status 429\n",
      "{\"object\":\"error\",\"message\":\"Rate limit exceeded\",\"type\":\"rate_limited\",\"param\":null,\"code\":\"1300\"}\n",
      "Retrying in 1 seconds...\n"
     ]
    },
    {
     "name": "stderr",
     "output_type": "stream",
     "text": [
      "Processing queries (generate or skip): 157it [00:35,  2.17it/s]"
     ]
    },
    {
     "name": "stdout",
     "output_type": "stream",
     "text": [
      "Error generating for query 'Am I “cheating the system” by opening up a tiny account with a credit union and then immediately applying for a huge loan?' (Attempt 1/5): API error occurred: Status 429\n",
      "{\"object\":\"error\",\"message\":\"Rate limit exceeded\",\"type\":\"rate_limited\",\"param\":null,\"code\":\"1300\"}\n",
      "Retrying in 1 seconds...\n",
      "Error generating for query 'Tax question about selling a car' (Attempt 1/5): API error occurred: Status 429\n",
      "{\"object\":\"error\",\"message\":\"Rate limit exceeded\",\"type\":\"rate_limited\",\"param\":null,\"code\":\"1300\"}\n",
      "Retrying in 1 seconds...\n",
      "Error generating for query 'What ways are there for us to earn a little extra side money?' (Attempt 1/5): API error occurred: Status 429\n",
      "{\"object\":\"error\",\"message\":\"Rate limit exceeded\",\"type\":\"rate_limited\",\"param\":null,\"code\":\"1300\"}\n",
      "Retrying in 1 seconds...\n"
     ]
    },
    {
     "name": "stderr",
     "output_type": "stream",
     "text": [
      "Processing queries (generate or skip): 162it [00:40,  1.76it/s]"
     ]
    },
    {
     "name": "stdout",
     "output_type": "stream",
     "text": [
      "Error generating for query 'How do you determine the dividend payout date for Mutual Funds?' (Attempt 1/5): API error occurred: Status 429\n",
      "{\"object\":\"error\",\"message\":\"Rate limit exceeded\",\"type\":\"rate_limited\",\"param\":null,\"code\":\"1300\"}\n",
      "Retrying in 1 seconds...\n"
     ]
    },
    {
     "name": "stderr",
     "output_type": "stream",
     "text": [
      "Processing queries (generate or skip): 165it [00:43,  1.64it/s]"
     ]
    },
    {
     "name": "stdout",
     "output_type": "stream",
     "text": [
      "Error generating for query 'What evidence do I need to declare tutoring income on my income tax?' (Attempt 1/5): API error occurred: Status 429\n",
      "{\"object\":\"error\",\"message\":\"Rate limit exceeded\",\"type\":\"rate_limited\",\"param\":null,\"code\":\"1300\"}\n",
      "Retrying in 1 seconds...\n"
     ]
    },
    {
     "name": "stderr",
     "output_type": "stream",
     "text": [
      "Processing queries (generate or skip): 167it [00:45,  1.54it/s]"
     ]
    },
    {
     "name": "stdout",
     "output_type": "stream",
     "text": [
      "Error generating for query 'Should I pay more than 20% down on a home?' (Attempt 1/5): API error occurred: Status 429\n",
      "{\"object\":\"error\",\"message\":\"Rate limit exceeded\",\"type\":\"rate_limited\",\"param\":null,\"code\":\"1300\"}\n",
      "Retrying in 1 seconds...\n"
     ]
    },
    {
     "name": "stderr",
     "output_type": "stream",
     "text": [
      "Processing queries (generate or skip): 170it [00:48,  1.46it/s]"
     ]
    },
    {
     "name": "stdout",
     "output_type": "stream",
     "text": [
      "Error generating for query 'How can I cash out a check internationally?' (Attempt 1/5): API error occurred: Status 429\n",
      "{\"object\":\"error\",\"message\":\"Rate limit exceeded\",\"type\":\"rate_limited\",\"param\":null,\"code\":\"1300\"}\n",
      "Retrying in 1 seconds...\n"
     ]
    },
    {
     "name": "stderr",
     "output_type": "stream",
     "text": [
      "Processing queries (generate or skip): 173it [00:50,  1.43it/s]"
     ]
    },
    {
     "name": "stdout",
     "output_type": "stream",
     "text": [
      "Error generating for query 'Merits of buying apartment houses and renting them' (Attempt 1/5): API error occurred: Status 429\n",
      "{\"object\":\"error\",\"message\":\"Rate limit exceeded\",\"type\":\"rate_limited\",\"param\":null,\"code\":\"1300\"}\n",
      "Retrying in 1 seconds...\n"
     ]
    },
    {
     "name": "stderr",
     "output_type": "stream",
     "text": [
      "Processing queries (generate or skip): 175it [00:53,  1.20it/s]"
     ]
    },
    {
     "name": "stdout",
     "output_type": "stream",
     "text": [
      "Error generating for query 'Where should a young student put their money?' (Attempt 1/5): API error occurred: Status 429\n",
      "{\"object\":\"error\",\"message\":\"Rate limit exceeded\",\"type\":\"rate_limited\",\"param\":null,\"code\":\"1300\"}\n",
      "Retrying in 1 seconds...\n"
     ]
    },
    {
     "name": "stderr",
     "output_type": "stream",
     "text": [
      "Processing queries (generate or skip): 177it [00:55,  1.14it/s]"
     ]
    },
    {
     "name": "stdout",
     "output_type": "stream",
     "text": [
      "Error generating for query 'Should I give to charity by check or credit card?' (Attempt 1/5): API error occurred: Status 429\n",
      "{\"object\":\"error\",\"message\":\"Rate limit exceeded\",\"type\":\"rate_limited\",\"param\":null,\"code\":\"1300\"}\n",
      "Retrying in 1 seconds...\n"
     ]
    },
    {
     "name": "stderr",
     "output_type": "stream",
     "text": [
      "Processing queries (generate or skip): 180it [00:57,  1.26it/s]"
     ]
    },
    {
     "name": "stdout",
     "output_type": "stream",
     "text": [
      "Error generating for query 'Work on the side for my wife's company' (Attempt 1/5): API error occurred: Status 429\n",
      "{\"object\":\"error\",\"message\":\"Rate limit exceeded\",\"type\":\"rate_limited\",\"param\":null,\"code\":\"1300\"}\n",
      "Retrying in 1 seconds...\n"
     ]
    },
    {
     "name": "stderr",
     "output_type": "stream",
     "text": [
      "Processing queries (generate or skip): 182it [01:00,  1.12it/s]"
     ]
    },
    {
     "name": "stdout",
     "output_type": "stream",
     "text": [
      "Error generating for query 'What are my chances at getting a mortgage with Terrible credit but High income' (Attempt 1/5): API error occurred: Status 429\n",
      "{\"object\":\"error\",\"message\":\"Rate limit exceeded\",\"type\":\"rate_limited\",\"param\":null,\"code\":\"1300\"}\n",
      "Retrying in 1 seconds...\n"
     ]
    },
    {
     "name": "stderr",
     "output_type": "stream",
     "text": [
      "Processing queries (generate or skip): 185it [01:02,  1.23it/s]"
     ]
    },
    {
     "name": "stdout",
     "output_type": "stream",
     "text": [
      "Error generating for query 'Can increasing my tax withholding from my full-time job cover FICA taxes for my freelance work?' (Attempt 1/5): API error occurred: Status 429\n",
      "{\"object\":\"error\",\"message\":\"Rate limit exceeded\",\"type\":\"rate_limited\",\"param\":null,\"code\":\"1300\"}\n",
      "Retrying in 1 seconds...\n"
     ]
    },
    {
     "name": "stderr",
     "output_type": "stream",
     "text": [
      "Processing queries (generate or skip): 187it [01:05,  1.10it/s]"
     ]
    },
    {
     "name": "stdout",
     "output_type": "stream",
     "text": [
      "Error generating for query 'What items are exempt from the VAT? [U.K.]' (Attempt 1/5): API error occurred: Status 429\n",
      "{\"object\":\"error\",\"message\":\"Rate limit exceeded\",\"type\":\"rate_limited\",\"param\":null,\"code\":\"1300\"}\n",
      "Retrying in 1 seconds...\n"
     ]
    },
    {
     "name": "stderr",
     "output_type": "stream",
     "text": [
      "Processing queries (generate or skip): 189it [01:07,  1.06it/s]"
     ]
    },
    {
     "name": "stdout",
     "output_type": "stream",
     "text": [
      "Error generating for query 'How long can I convert 401(k) to Roth 401(k)?' (Attempt 1/5): API error occurred: Status 429\n",
      "{\"object\":\"error\",\"message\":\"Rate limit exceeded\",\"type\":\"rate_limited\",\"param\":null,\"code\":\"1300\"}\n",
      "Retrying in 1 seconds...\n"
     ]
    },
    {
     "name": "stderr",
     "output_type": "stream",
     "text": [
      "Processing queries (generate or skip): 192it [01:09,  1.20it/s]"
     ]
    },
    {
     "name": "stdout",
     "output_type": "stream",
     "text": [
      "Error generating for query 'How can I live outside of the rat race of American life with 300k?' (Attempt 1/5): API error occurred: Status 429\n",
      "{\"object\":\"error\",\"message\":\"Rate limit exceeded\",\"type\":\"rate_limited\",\"param\":null,\"code\":\"1300\"}\n",
      "Retrying in 1 seconds...\n"
     ]
    },
    {
     "name": "stderr",
     "output_type": "stream",
     "text": [
      "Processing queries (generate or skip): 194it [01:12,  1.13it/s]"
     ]
    },
    {
     "name": "stdout",
     "output_type": "stream",
     "text": [
      "Error generating for query 'Can a car company refuse to give me a copy of my contract or balance details?' (Attempt 1/5): API error occurred: Status 429\n",
      "{\"object\":\"error\",\"message\":\"Rate limit exceeded\",\"type\":\"rate_limited\",\"param\":null,\"code\":\"1300\"}\n",
      "Retrying in 1 seconds...\n"
     ]
    },
    {
     "name": "stderr",
     "output_type": "stream",
     "text": [
      "Processing queries (generate or skip): 196it [01:14,  1.11it/s]"
     ]
    },
    {
     "name": "stdout",
     "output_type": "stream",
     "text": [
      "Error generating for query 'Vanguard ETF vs mutual fund' (Attempt 1/5): API error occurred: Status 429\n",
      "{\"object\":\"error\",\"message\":\"Rate limit exceeded\",\"type\":\"rate_limited\",\"param\":null,\"code\":\"1300\"}\n",
      "Retrying in 1 seconds...\n"
     ]
    },
    {
     "name": "stderr",
     "output_type": "stream",
     "text": [
      "Processing queries (generate or skip): 198it [01:16,  1.04it/s]"
     ]
    },
    {
     "name": "stdout",
     "output_type": "stream",
     "text": [
      "Error generating for query 'United States Treasury Not Endorsing Checks' (Attempt 1/5): API error occurred: Status 429\n",
      "{\"object\":\"error\",\"message\":\"Rate limit exceeded\",\"type\":\"rate_limited\",\"param\":null,\"code\":\"1300\"}\n",
      "Retrying in 1 seconds...\n"
     ]
    },
    {
     "name": "stderr",
     "output_type": "stream",
     "text": [
      "Processing queries (generate or skip): 201it [01:18,  1.30it/s]"
     ]
    },
    {
     "name": "stdout",
     "output_type": "stream",
     "text": [
      "Error generating for query 'Pros and Cons of Interest Only Loans' (Attempt 1/5): API error occurred: Status 429\n",
      "{\"object\":\"error\",\"message\":\"Rate limit exceeded\",\"type\":\"rate_limited\",\"param\":null,\"code\":\"1300\"}\n",
      "Retrying in 1 seconds...\n"
     ]
    },
    {
     "name": "stderr",
     "output_type": "stream",
     "text": [
      "Processing queries (generate or skip): 203it [01:20,  1.17it/s]"
     ]
    },
    {
     "name": "stdout",
     "output_type": "stream",
     "text": [
      "Error generating for query 'Why should one only contribute up to the employer's match in a 401(k)?' (Attempt 1/5): API error occurred: Status 429\n",
      "{\"object\":\"error\",\"message\":\"Rate limit exceeded\",\"type\":\"rate_limited\",\"param\":null,\"code\":\"1300\"}\n",
      "Retrying in 1 seconds...\n"
     ]
    },
    {
     "name": "stderr",
     "output_type": "stream",
     "text": [
      "Processing queries (generate or skip): 205it [01:22,  1.12it/s]"
     ]
    },
    {
     "name": "stdout",
     "output_type": "stream",
     "text": [
      "Error generating for query 'In US, is it a good idea to hire a tax consultant for doing taxes?' (Attempt 1/5): API error occurred: Status 429\n",
      "{\"object\":\"error\",\"message\":\"Rate limit exceeded\",\"type\":\"rate_limited\",\"param\":null,\"code\":\"1300\"}\n",
      "Retrying in 1 seconds...\n"
     ]
    },
    {
     "name": "stderr",
     "output_type": "stream",
     "text": [
      "Processing queries (generate or skip): 207it [01:25,  1.09it/s]"
     ]
    },
    {
     "name": "stdout",
     "output_type": "stream",
     "text": [
      "Error generating for query 'What's the difference between Term and Whole Life insurance?' (Attempt 1/5): API error occurred: Status 429\n",
      "{\"object\":\"error\",\"message\":\"Rate limit exceeded\",\"type\":\"rate_limited\",\"param\":null,\"code\":\"1300\"}\n",
      "Retrying in 1 seconds...\n"
     ]
    },
    {
     "name": "stderr",
     "output_type": "stream",
     "text": [
      "Processing queries (generate or skip): 209it [01:27,  1.07it/s]"
     ]
    },
    {
     "name": "stdout",
     "output_type": "stream",
     "text": [
      "Error generating for query 'How does spot-futures arbitrage work in the gold market?' (Attempt 1/5): API error occurred: Status 429\n",
      "{\"object\":\"error\",\"message\":\"Rate limit exceeded\",\"type\":\"rate_limited\",\"param\":null,\"code\":\"1300\"}\n",
      "Retrying in 1 seconds...\n"
     ]
    },
    {
     "name": "stderr",
     "output_type": "stream",
     "text": [
      "Processing queries (generate or skip): 211it [01:29,  1.06it/s]"
     ]
    },
    {
     "name": "stdout",
     "output_type": "stream",
     "text": [
      "Error generating for query 'Tax Witholding for Stock Sale' (Attempt 1/5): API error occurred: Status 429\n",
      "{\"object\":\"error\",\"message\":\"Rate limit exceeded\",\"type\":\"rate_limited\",\"param\":null,\"code\":\"1300\"}\n",
      "Retrying in 1 seconds...\n"
     ]
    },
    {
     "name": "stderr",
     "output_type": "stream",
     "text": [
      "Processing queries (generate or skip): 213it [01:31,  1.08it/s]"
     ]
    },
    {
     "name": "stdout",
     "output_type": "stream",
     "text": [
      "Error generating for query 'Is there any instance where less leverage will get you a better return on a rental property?' (Attempt 1/5): API error occurred: Status 429\n",
      "{\"object\":\"error\",\"message\":\"Rate limit exceeded\",\"type\":\"rate_limited\",\"param\":null,\"code\":\"1300\"}\n",
      "Retrying in 1 seconds...\n"
     ]
    },
    {
     "name": "stderr",
     "output_type": "stream",
     "text": [
      "Processing queries (generate or skip): 216it [01:33,  1.27it/s]"
     ]
    },
    {
     "name": "stdout",
     "output_type": "stream",
     "text": [
      "Error generating for query 'How to exclude stock from mutual fund' (Attempt 1/5): API error occurred: Status 429\n",
      "{\"object\":\"error\",\"message\":\"Rate limit exceeded\",\"type\":\"rate_limited\",\"param\":null,\"code\":\"1300\"}\n",
      "Retrying in 1 seconds...\n"
     ]
    },
    {
     "name": "stderr",
     "output_type": "stream",
     "text": [
      "Processing queries (generate or skip): 218it [01:35,  1.20it/s]"
     ]
    },
    {
     "name": "stdout",
     "output_type": "stream",
     "text": [
      "Error generating for query 'Where can I buy stocks if I only want to invest a little bit at a time, and not really be involved in trading?' (Attempt 1/5): API error occurred: Status 429\n",
      "{\"object\":\"error\",\"message\":\"Rate limit exceeded\",\"type\":\"rate_limited\",\"param\":null,\"code\":\"1300\"}\n",
      "Retrying in 1 seconds...\n"
     ]
    },
    {
     "name": "stderr",
     "output_type": "stream",
     "text": [
      "Processing queries (generate or skip): 220it [01:37,  1.14it/s]"
     ]
    },
    {
     "name": "stdout",
     "output_type": "stream",
     "text": [
      "Error generating for query 'If I were to get into a life situation where I would not be able to make regular payments, do lenders typically provide options other than default?' (Attempt 1/5): API error occurred: Status 429\n",
      "{\"object\":\"error\",\"message\":\"Rate limit exceeded\",\"type\":\"rate_limited\",\"param\":null,\"code\":\"1300\"}\n",
      "Retrying in 1 seconds...\n"
     ]
    },
    {
     "name": "stderr",
     "output_type": "stream",
     "text": [
      "Processing queries (generate or skip): 222it [01:40,  1.09it/s]"
     ]
    },
    {
     "name": "stdout",
     "output_type": "stream",
     "text": [
      "Error generating for query 'My previous and current employers both use Fidelity for 401(k). Does it make sense to rollover?' (Attempt 1/5): API error occurred: Status 429\n",
      "{\"object\":\"error\",\"message\":\"Rate limit exceeded\",\"type\":\"rate_limited\",\"param\":null,\"code\":\"1300\"}\n",
      "Retrying in 1 seconds...\n"
     ]
    },
    {
     "name": "stderr",
     "output_type": "stream",
     "text": [
      "Processing queries (generate or skip): 224it [01:42,  1.08it/s]"
     ]
    },
    {
     "name": "stdout",
     "output_type": "stream",
     "text": [
      "Error generating for query 'Short selling - lender's motivation' (Attempt 1/5): API error occurred: Status 429\n",
      "{\"object\":\"error\",\"message\":\"Rate limit exceeded\",\"type\":\"rate_limited\",\"param\":null,\"code\":\"1300\"}\n",
      "Retrying in 1 seconds...\n"
     ]
    },
    {
     "name": "stderr",
     "output_type": "stream",
     "text": [
      "Processing queries (generate or skip): 226it [01:44,  1.11it/s]"
     ]
    },
    {
     "name": "stdout",
     "output_type": "stream",
     "text": [
      "Error generating for query 'Has anyone created a documentary about folks who fail to save enough for retirement?' (Attempt 1/5): API error occurred: Status 429\n",
      "{\"object\":\"error\",\"message\":\"Rate limit exceeded\",\"type\":\"rate_limited\",\"param\":null,\"code\":\"1300\"}\n",
      "Retrying in 1 seconds...\n"
     ]
    },
    {
     "name": "stderr",
     "output_type": "stream",
     "text": [
      "Processing queries (generate or skip): 228it [01:46,  1.08it/s]"
     ]
    },
    {
     "name": "stdout",
     "output_type": "stream",
     "text": [
      "Error generating for query 'Shorting Stocks And Margin Account Minimum' (Attempt 1/5): API error occurred: Status 429\n",
      "{\"object\":\"error\",\"message\":\"Rate limit exceeded\",\"type\":\"rate_limited\",\"param\":null,\"code\":\"1300\"}\n",
      "Retrying in 1 seconds...\n"
     ]
    },
    {
     "name": "stderr",
     "output_type": "stream",
     "text": [
      "Processing queries (generate or skip): 230it [01:48,  1.09it/s]"
     ]
    },
    {
     "name": "stdout",
     "output_type": "stream",
     "text": [
      "Error generating for query 'What should I be doing to protect myself from identity theft?' (Attempt 1/5): API error occurred: Status 429\n",
      "{\"object\":\"error\",\"message\":\"Rate limit exceeded\",\"type\":\"rate_limited\",\"param\":null,\"code\":\"1300\"}\n",
      "Retrying in 1 seconds...\n"
     ]
    },
    {
     "name": "stderr",
     "output_type": "stream",
     "text": [
      "Processing queries (generate or skip): 232it [01:50,  1.10it/s]"
     ]
    },
    {
     "name": "stdout",
     "output_type": "stream",
     "text": [
      "Error generating for query 'What is the rough estimate of salary value for a taxpayer to pay AMT?' (Attempt 1/5): API error occurred: Status 429\n",
      "{\"object\":\"error\",\"message\":\"Rate limit exceeded\",\"type\":\"rate_limited\",\"param\":null,\"code\":\"1300\"}\n",
      "Retrying in 1 seconds...\n"
     ]
    },
    {
     "name": "stderr",
     "output_type": "stream",
     "text": [
      "Processing queries (generate or skip): 235it [01:52,  1.24it/s]"
     ]
    },
    {
     "name": "stdout",
     "output_type": "stream",
     "text": [
      "Error generating for query 'Can a bunch of wealthy people force Facebook to go public?' (Attempt 1/5): API error occurred: Status 429\n",
      "{\"object\":\"error\",\"message\":\"Rate limit exceeded\",\"type\":\"rate_limited\",\"param\":null,\"code\":\"1300\"}\n",
      "Retrying in 1 seconds...\n"
     ]
    },
    {
     "name": "stderr",
     "output_type": "stream",
     "text": [
      "Processing queries (generate or skip): 237it [01:55,  1.13it/s]"
     ]
    },
    {
     "name": "stdout",
     "output_type": "stream",
     "text": [
      "Error generating for query 'Are all VISA cards connected with bank accounts?' (Attempt 1/5): API error occurred: Status 429\n",
      "{\"object\":\"error\",\"message\":\"Rate limit exceeded\",\"type\":\"rate_limited\",\"param\":null,\"code\":\"1300\"}\n",
      "Retrying in 1 seconds...\n"
     ]
    },
    {
     "name": "stderr",
     "output_type": "stream",
     "text": [
      "Processing queries (generate or skip): 239it [01:57,  1.10it/s]"
     ]
    },
    {
     "name": "stdout",
     "output_type": "stream",
     "text": [
      "Error generating for query 'Opening a Roth IRA account, what is the fee structure for Vanguard, Scottrade and TIAA-CREF' (Attempt 1/5): API error occurred: Status 429\n",
      "{\"object\":\"error\",\"message\":\"Rate limit exceeded\",\"type\":\"rate_limited\",\"param\":null,\"code\":\"1300\"}\n",
      "Retrying in 1 seconds...\n"
     ]
    },
    {
     "name": "stderr",
     "output_type": "stream",
     "text": [
      "Processing queries (generate or skip): 241it [01:59,  1.05it/s]"
     ]
    },
    {
     "name": "stdout",
     "output_type": "stream",
     "text": [
      "Error generating for query 'Does freedom to provide services allow me contracting in Germany without paying taxes there (but in my home EU country)?' (Attempt 1/5): API error occurred: Status 429\n",
      "{\"object\":\"error\",\"message\":\"Rate limit exceeded\",\"type\":\"rate_limited\",\"param\":null,\"code\":\"1300\"}\n",
      "Retrying in 1 seconds...\n"
     ]
    },
    {
     "name": "stderr",
     "output_type": "stream",
     "text": [
      "Processing queries (generate or skip): 244it [02:02,  1.17it/s]"
     ]
    },
    {
     "name": "stdout",
     "output_type": "stream",
     "text": [
      "Error generating for query 'How do historically low interest rates affect real estate prices?' (Attempt 1/5): API error occurred: Status 429\n",
      "{\"object\":\"error\",\"message\":\"Rate limit exceeded\",\"type\":\"rate_limited\",\"param\":null,\"code\":\"1300\"}\n",
      "Retrying in 1 seconds...\n"
     ]
    },
    {
     "name": "stderr",
     "output_type": "stream",
     "text": [
      "Processing queries (generate or skip): 247it [02:04,  1.26it/s]"
     ]
    },
    {
     "name": "stdout",
     "output_type": "stream",
     "text": [
      "Error generating for query 'What is a reasonable salary for the owner and sole member of a small S-Corp?' (Attempt 1/5): API error occurred: Status 429\n",
      "{\"object\":\"error\",\"message\":\"Rate limit exceeded\",\"type\":\"rate_limited\",\"param\":null,\"code\":\"1300\"}\n",
      "Retrying in 1 seconds...\n"
     ]
    },
    {
     "name": "stderr",
     "output_type": "stream",
     "text": [
      "Processing queries (generate or skip): 249it [02:07,  1.16it/s]"
     ]
    },
    {
     "name": "stdout",
     "output_type": "stream",
     "text": [
      "Error generating for query 'How and Should I Invest (As a college 18 year old with minimal living expenses)?' (Attempt 1/5): API error occurred: Status 429\n",
      "{\"object\":\"error\",\"message\":\"Rate limit exceeded\",\"type\":\"rate_limited\",\"param\":null,\"code\":\"1300\"}\n",
      "Retrying in 1 seconds...\n"
     ]
    },
    {
     "name": "stderr",
     "output_type": "stream",
     "text": [
      "Processing queries (generate or skip): 251it [02:09,  1.03it/s]"
     ]
    },
    {
     "name": "stdout",
     "output_type": "stream",
     "text": [
      "Error generating for query 'How separate individual expenses from family expenses in Gnucash?' (Attempt 1/5): API error occurred: Status 429\n",
      "{\"object\":\"error\",\"message\":\"Rate limit exceeded\",\"type\":\"rate_limited\",\"param\":null,\"code\":\"1300\"}\n",
      "Retrying in 1 seconds...\n"
     ]
    },
    {
     "name": "stderr",
     "output_type": "stream",
     "text": [
      "Processing queries (generate or skip): 254it [02:11,  1.27it/s]"
     ]
    },
    {
     "name": "stdout",
     "output_type": "stream",
     "text": [
      "Error generating for query 'What industries soar when oil prices go up?' (Attempt 1/5): API error occurred: Status 429\n",
      "{\"object\":\"error\",\"message\":\"Rate limit exceeded\",\"type\":\"rate_limited\",\"param\":null,\"code\":\"1300\"}\n",
      "Retrying in 1 seconds...\n"
     ]
    },
    {
     "name": "stderr",
     "output_type": "stream",
     "text": [
      "Processing queries (generate or skip): 256it [02:13,  1.16it/s]"
     ]
    },
    {
     "name": "stdout",
     "output_type": "stream",
     "text": [
      "Error generating for query 'What causes US Treasury I bond fixed interest to increase?' (Attempt 1/5): API error occurred: Status 429\n",
      "{\"object\":\"error\",\"message\":\"Rate limit exceeded\",\"type\":\"rate_limited\",\"param\":null,\"code\":\"1300\"}\n",
      "Retrying in 1 seconds...\n"
     ]
    },
    {
     "name": "stderr",
     "output_type": "stream",
     "text": [
      "Processing queries (generate or skip): 258it [02:16,  1.09it/s]"
     ]
    },
    {
     "name": "stdout",
     "output_type": "stream",
     "text": [
      "Error generating for query 'Would the effects of an anticipated default by a nation be mostly symbolic?' (Attempt 1/5): API error occurred: Status 429\n",
      "{\"object\":\"error\",\"message\":\"Rate limit exceeded\",\"type\":\"rate_limited\",\"param\":null,\"code\":\"1300\"}\n",
      "Retrying in 1 seconds...\n"
     ]
    },
    {
     "name": "stderr",
     "output_type": "stream",
     "text": [
      "Processing queries (generate or skip): 260it [02:18,  1.08it/s]"
     ]
    },
    {
     "name": "stdout",
     "output_type": "stream",
     "text": [
      "Error generating for query 'Relation between inflation rates and interest rates' (Attempt 1/5): API error occurred: Status 429\n",
      "{\"object\":\"error\",\"message\":\"Rate limit exceeded\",\"type\":\"rate_limited\",\"param\":null,\"code\":\"1300\"}\n",
      "Retrying in 1 seconds...\n"
     ]
    },
    {
     "name": "stderr",
     "output_type": "stream",
     "text": [
      "Processing queries (generate or skip): 262it [02:20,  1.09it/s]"
     ]
    },
    {
     "name": "stdout",
     "output_type": "stream",
     "text": [
      "Error generating for query 'Why could the serious financial woes of some EU member states lead to the end of the Euro?' (Attempt 1/5): API error occurred: Status 429\n",
      "{\"object\":\"error\",\"message\":\"Rate limit exceeded\",\"type\":\"rate_limited\",\"param\":null,\"code\":\"1300\"}\n",
      "Retrying in 1 seconds...\n"
     ]
    },
    {
     "name": "stderr",
     "output_type": "stream",
     "text": [
      "Processing queries (generate or skip): 264it [02:22,  1.08it/s]"
     ]
    },
    {
     "name": "stdout",
     "output_type": "stream",
     "text": [
      "Error generating for query 'How and why does the exchange rate of a currency change almost everyday?' (Attempt 1/5): API error occurred: Status 429\n",
      "{\"object\":\"error\",\"message\":\"Rate limit exceeded\",\"type\":\"rate_limited\",\"param\":null,\"code\":\"1300\"}\n",
      "Retrying in 1 seconds...\n"
     ]
    },
    {
     "name": "stderr",
     "output_type": "stream",
     "text": [
      "Processing queries (generate or skip): 267it [02:24,  1.27it/s]"
     ]
    },
    {
     "name": "stdout",
     "output_type": "stream",
     "text": [
      "Error generating for query 'Given advice “buy term insurance and invest the rest”, how should one “invest the rest”?' (Attempt 1/5): API error occurred: Status 429\n",
      "{\"object\":\"error\",\"message\":\"Rate limit exceeded\",\"type\":\"rate_limited\",\"param\":null,\"code\":\"1300\"}\n",
      "Retrying in 1 seconds...\n"
     ]
    },
    {
     "name": "stderr",
     "output_type": "stream",
     "text": [
      "Processing queries (generate or skip): 269it [02:27,  1.14it/s]"
     ]
    },
    {
     "name": "stdout",
     "output_type": "stream",
     "text": [
      "Error generating for query 'How do currency markets work? What factors are behind why currencies go up or down?' (Attempt 1/5): API error occurred: Status 429\n",
      "{\"object\":\"error\",\"message\":\"Rate limit exceeded\",\"type\":\"rate_limited\",\"param\":null,\"code\":\"1300\"}\n",
      "Retrying in 1 seconds...\n"
     ]
    },
    {
     "name": "stderr",
     "output_type": "stream",
     "text": [
      "Processing queries (generate or skip): 271it [02:29,  1.11it/s]"
     ]
    },
    {
     "name": "stdout",
     "output_type": "stream",
     "text": [
      "Error generating for query 'What is the US Fair Tax?' (Attempt 1/5): API error occurred: Status 429\n",
      "{\"object\":\"error\",\"message\":\"Rate limit exceeded\",\"type\":\"rate_limited\",\"param\":null,\"code\":\"1300\"}\n",
      "Retrying in 1 seconds...\n"
     ]
    },
    {
     "name": "stderr",
     "output_type": "stream",
     "text": [
      "Processing queries (generate or skip): 273it [02:31,  1.10it/s]"
     ]
    },
    {
     "name": "stdout",
     "output_type": "stream",
     "text": [
      "Error generating for query 'Transfer $50k to another person's account (in California, USA)' (Attempt 1/5): API error occurred: Status 429\n",
      "{\"object\":\"error\",\"message\":\"Rate limit exceeded\",\"type\":\"rate_limited\",\"param\":null,\"code\":\"1300\"}\n",
      "Retrying in 1 seconds...\n"
     ]
    },
    {
     "name": "stderr",
     "output_type": "stream",
     "text": [
      "Processing queries (generate or skip): 276it [02:33,  1.19it/s]"
     ]
    },
    {
     "name": "stdout",
     "output_type": "stream",
     "text": [
      "Error generating for query 'Do high interest rates lead to higher bond yields or lower?' (Attempt 1/5): API error occurred: Status 429\n",
      "{\"object\":\"error\",\"message\":\"Rate limit exceeded\",\"type\":\"rate_limited\",\"param\":null,\"code\":\"1300\"}\n",
      "Retrying in 1 seconds...\n"
     ]
    },
    {
     "name": "stderr",
     "output_type": "stream",
     "text": [
      "Processing queries (generate or skip): 278it [02:36,  1.13it/s]"
     ]
    },
    {
     "name": "stdout",
     "output_type": "stream",
     "text": [
      "Error generating for query 'When should you use an actively managed mutual fund in a 401k?' (Attempt 1/5): API error occurred: Status 429\n",
      "{\"object\":\"error\",\"message\":\"Rate limit exceeded\",\"type\":\"rate_limited\",\"param\":null,\"code\":\"1300\"}\n",
      "Retrying in 1 seconds...\n"
     ]
    },
    {
     "name": "stderr",
     "output_type": "stream",
     "text": [
      "Processing queries (generate or skip): 280it [02:38,  1.09it/s]"
     ]
    },
    {
     "name": "stdout",
     "output_type": "stream",
     "text": [
      "Error generating for query 'Are Australian mutual fund fees large compared to US?' (Attempt 1/5): API error occurred: Status 429\n",
      "{\"object\":\"error\",\"message\":\"Rate limit exceeded\",\"type\":\"rate_limited\",\"param\":null,\"code\":\"1300\"}\n",
      "Retrying in 1 seconds...\n"
     ]
    },
    {
     "name": "stderr",
     "output_type": "stream",
     "text": [
      "Processing queries (generate or skip): 282it [02:40,  1.09it/s]"
     ]
    },
    {
     "name": "stdout",
     "output_type": "stream",
     "text": [
      "Error generating for query 'Has the likelihood of getting a lower interest rate by calling & asking been reduced by recent credit card regulations?' (Attempt 1/5): API error occurred: Status 429\n",
      "{\"object\":\"error\",\"message\":\"Rate limit exceeded\",\"type\":\"rate_limited\",\"param\":null,\"code\":\"1300\"}\n",
      "Retrying in 1 seconds...\n"
     ]
    },
    {
     "name": "stderr",
     "output_type": "stream",
     "text": [
      "Processing queries (generate or skip): 285it [02:42,  1.20it/s]"
     ]
    },
    {
     "name": "stdout",
     "output_type": "stream",
     "text": [
      "Error generating for query 'what is the best way of investment which gives returns forever?' (Attempt 1/5): API error occurred: Status 429\n",
      "{\"object\":\"error\",\"message\":\"Rate limit exceeded\",\"type\":\"rate_limited\",\"param\":null,\"code\":\"1300\"}\n",
      "Retrying in 1 seconds...\n"
     ]
    },
    {
     "name": "stderr",
     "output_type": "stream",
     "text": [
      "Processing queries (generate or skip): 287it [02:45,  1.12it/s]"
     ]
    },
    {
     "name": "stdout",
     "output_type": "stream",
     "text": [
      "Error generating for query 'What should I do with my $25k to invest as a 20 years old?' (Attempt 1/5): API error occurred: Status 429\n",
      "{\"object\":\"error\",\"message\":\"Rate limit exceeded\",\"type\":\"rate_limited\",\"param\":null,\"code\":\"1300\"}\n",
      "Retrying in 1 seconds...\n"
     ]
    },
    {
     "name": "stderr",
     "output_type": "stream",
     "text": [
      "Processing queries (generate or skip): 289it [02:47,  1.02it/s]"
     ]
    },
    {
     "name": "stdout",
     "output_type": "stream",
     "text": [
      "Error generating for query 'HSBC Hong Kong's “Deposit Plus” Product: What is it, and what strategies to employ?' (Attempt 1/5): API error occurred: Status 429\n",
      "{\"object\":\"error\",\"message\":\"Rate limit exceeded\",\"type\":\"rate_limited\",\"param\":null,\"code\":\"1300\"}\n",
      "Retrying in 1 seconds...\n"
     ]
    },
    {
     "name": "stderr",
     "output_type": "stream",
     "text": [
      "Processing queries (generate or skip): 292it [02:49,  1.22it/s]"
     ]
    },
    {
     "name": "stdout",
     "output_type": "stream",
     "text": [
      "Error generating for query 'Are solar cell panels and wind mills worth the money?' (Attempt 1/5): API error occurred: Status 429\n",
      "{\"object\":\"error\",\"message\":\"Rate limit exceeded\",\"type\":\"rate_limited\",\"param\":null,\"code\":\"1300\"}\n",
      "Retrying in 1 seconds...\n"
     ]
    },
    {
     "name": "stderr",
     "output_type": "stream",
     "text": [
      "Processing queries (generate or skip): 294it [02:52,  1.12it/s]"
     ]
    },
    {
     "name": "stdout",
     "output_type": "stream",
     "text": [
      "Error generating for query 'Where should I park my rainy-day / emergency fund?' (Attempt 1/5): API error occurred: Status 429\n",
      "{\"object\":\"error\",\"message\":\"Rate limit exceeded\",\"type\":\"rate_limited\",\"param\":null,\"code\":\"1300\"}\n",
      "Retrying in 1 seconds...\n"
     ]
    },
    {
     "name": "stderr",
     "output_type": "stream",
     "text": [
      "Processing queries (generate or skip): 296it [02:54,  1.07it/s]"
     ]
    },
    {
     "name": "stdout",
     "output_type": "stream",
     "text": [
      "Error generating for query 'How to fix Finance::Quote to pull quotes in GnuCash' (Attempt 1/5): API error occurred: Status 429\n",
      "{\"object\":\"error\",\"message\":\"Rate limit exceeded\",\"type\":\"rate_limited\",\"param\":null,\"code\":\"1300\"}\n",
      "Retrying in 1 seconds...\n"
     ]
    },
    {
     "name": "stderr",
     "output_type": "stream",
     "text": [
      "Processing queries (generate or skip): 298it [02:56,  1.05it/s]"
     ]
    },
    {
     "name": "stdout",
     "output_type": "stream",
     "text": [
      "Error generating for query 'Personal finance app where I can mark transactions as “reviewed”?' (Attempt 1/5): API error occurred: Status 429\n",
      "{\"object\":\"error\",\"message\":\"Rate limit exceeded\",\"type\":\"rate_limited\",\"param\":null,\"code\":\"1300\"}\n",
      "Retrying in 1 seconds...\n"
     ]
    },
    {
     "name": "stderr",
     "output_type": "stream",
     "text": [
      "Processing queries (generate or skip): 301it [02:58,  1.24it/s]"
     ]
    },
    {
     "name": "stdout",
     "output_type": "stream",
     "text": [
      "Error generating for query 'Should I finance a car to build credit for a mortgage next year?' (Attempt 1/5): API error occurred: Status 429\n",
      "{\"object\":\"error\",\"message\":\"Rate limit exceeded\",\"type\":\"rate_limited\",\"param\":null,\"code\":\"1300\"}\n",
      "Retrying in 1 seconds...\n"
     ]
    },
    {
     "name": "stderr",
     "output_type": "stream",
     "text": [
      "Processing queries (generate or skip): 303it [03:01,  1.08it/s]"
     ]
    },
    {
     "name": "stdout",
     "output_type": "stream",
     "text": [
      "Error generating for query 'What is the difference between a structured collar and a normal collar in finance?' (Attempt 1/5): API error occurred: Status 429\n",
      "{\"object\":\"error\",\"message\":\"Rate limit exceeded\",\"type\":\"rate_limited\",\"param\":null,\"code\":\"1300\"}\n",
      "Retrying in 1 seconds...\n"
     ]
    },
    {
     "name": "stderr",
     "output_type": "stream",
     "text": [
      "Processing queries (generate or skip): 305it [03:03,  1.08it/s]"
     ]
    },
    {
     "name": "stdout",
     "output_type": "stream",
     "text": [
      "Error generating for query 'Dealer Financing Fell Through on vehicle purchase: Scam?' (Attempt 1/5): API error occurred: Status 429\n",
      "{\"object\":\"error\",\"message\":\"Rate limit exceeded\",\"type\":\"rate_limited\",\"param\":null,\"code\":\"1300\"}\n",
      "Retrying in 1 seconds...\n"
     ]
    },
    {
     "name": "stderr",
     "output_type": "stream",
     "text": [
      "Processing queries (generate or skip): 308it [03:05,  1.25it/s]"
     ]
    },
    {
     "name": "stdout",
     "output_type": "stream",
     "text": [
      "Error generating for query 'When applying for a mortgage, can it also cover outstanding debts?' (Attempt 1/5): API error occurred: Status 429\n",
      "{\"object\":\"error\",\"message\":\"Rate limit exceeded\",\"type\":\"rate_limited\",\"param\":null,\"code\":\"1300\"}\n",
      "Retrying in 1 seconds...\n"
     ]
    },
    {
     "name": "stderr",
     "output_type": "stream",
     "text": [
      "Processing queries (generate or skip): 310it [03:08,  1.14it/s]"
     ]
    },
    {
     "name": "stdout",
     "output_type": "stream",
     "text": [
      "Error generating for query 'What is the difference between fund and portfolio?' (Attempt 1/5): API error occurred: Status 429\n",
      "{\"object\":\"error\",\"message\":\"Rate limit exceeded\",\"type\":\"rate_limited\",\"param\":null,\"code\":\"1300\"}\n",
      "Retrying in 1 seconds...\n"
     ]
    },
    {
     "name": "stderr",
     "output_type": "stream",
     "text": [
      "Processing queries (generate or skip): 312it [03:10,  1.12it/s]"
     ]
    },
    {
     "name": "stdout",
     "output_type": "stream",
     "text": [
      "Error generating for query 'How to calculate new price for bond if yield increases' (Attempt 1/5): API error occurred: Status 429\n",
      "{\"object\":\"error\",\"message\":\"Rate limit exceeded\",\"type\":\"rate_limited\",\"param\":null,\"code\":\"1300\"}\n",
      "Retrying in 1 seconds...\n"
     ]
    },
    {
     "name": "stderr",
     "output_type": "stream",
     "text": [
      "Processing queries (generate or skip): 314it [03:12,  1.08it/s]"
     ]
    },
    {
     "name": "stdout",
     "output_type": "stream",
     "text": [
      "Error generating for query 'Does financing a portfolio on margin affect the variance of a portfolio?' (Attempt 1/5): API error occurred: Status 429\n",
      "{\"object\":\"error\",\"message\":\"Rate limit exceeded\",\"type\":\"rate_limited\",\"param\":null,\"code\":\"1300\"}\n",
      "Retrying in 1 seconds...\n"
     ]
    },
    {
     "name": "stderr",
     "output_type": "stream",
     "text": [
      "Processing queries (generate or skip): 316it [03:14,  1.07it/s]"
     ]
    },
    {
     "name": "stdout",
     "output_type": "stream",
     "text": [
      "Error generating for query 'Something looks off about Mitsubishi financial data' (Attempt 1/5): API error occurred: Status 429\n",
      "{\"object\":\"error\",\"message\":\"Rate limit exceeded\",\"type\":\"rate_limited\",\"param\":null,\"code\":\"1300\"}\n",
      "Retrying in 1 seconds...\n"
     ]
    },
    {
     "name": "stderr",
     "output_type": "stream",
     "text": [
      "Processing queries (generate or skip): 318it [03:16,  1.08it/s]"
     ]
    },
    {
     "name": "stdout",
     "output_type": "stream",
     "text": [
      "Error generating for query 'Net Cash Flows from Selling the Bond and Investing' (Attempt 1/5): API error occurred: Status 429\n",
      "{\"object\":\"error\",\"message\":\"Rate limit exceeded\",\"type\":\"rate_limited\",\"param\":null,\"code\":\"1300\"}\n",
      "Retrying in 1 seconds...\n"
     ]
    },
    {
     "name": "stderr",
     "output_type": "stream",
     "text": [
      "Processing queries (generate or skip): 321it [03:18,  1.27it/s]"
     ]
    },
    {
     "name": "stdout",
     "output_type": "stream",
     "text": [
      "Error generating for query 'Looking for a good source for Financial Statements' (Attempt 1/5): API error occurred: Status 429\n",
      "{\"object\":\"error\",\"message\":\"Rate limit exceeded\",\"type\":\"rate_limited\",\"param\":null,\"code\":\"1300\"}\n",
      "Retrying in 1 seconds...\n"
     ]
    },
    {
     "name": "stderr",
     "output_type": "stream",
     "text": [
      "Processing queries (generate or skip): 323it [03:20,  1.17it/s]"
     ]
    },
    {
     "name": "stdout",
     "output_type": "stream",
     "text": [
      "Error generating for query 'Why pay for end-of-day historical prices?' (Attempt 1/5): API error occurred: Status 429\n",
      "{\"object\":\"error\",\"message\":\"Rate limit exceeded\",\"type\":\"rate_limited\",\"param\":null,\"code\":\"1300\"}\n",
      "Retrying in 1 seconds...\n"
     ]
    },
    {
     "name": "stderr",
     "output_type": "stream",
     "text": [
      "Processing queries (generate or skip): 325it [03:23,  1.12it/s]"
     ]
    },
    {
     "name": "stdout",
     "output_type": "stream",
     "text": [
      "Error generating for query 'How to stress test an investment plan?' (Attempt 1/5): API error occurred: Status 429\n",
      "{\"object\":\"error\",\"message\":\"Rate limit exceeded\",\"type\":\"rate_limited\",\"param\":null,\"code\":\"1300\"}\n",
      "Retrying in 1 seconds...\n"
     ]
    },
    {
     "name": "stderr",
     "output_type": "stream",
     "text": [
      "Processing queries (generate or skip): 327it [03:25,  1.07it/s]"
     ]
    },
    {
     "name": "stdout",
     "output_type": "stream",
     "text": [
      "Error generating for query 'How much should a graduate student attempt to save?' (Attempt 1/5): API error occurred: Status 429\n",
      "{\"object\":\"error\",\"message\":\"Rate limit exceeded\",\"type\":\"rate_limited\",\"param\":null,\"code\":\"1300\"}\n",
      "Retrying in 1 seconds...\n"
     ]
    },
    {
     "name": "stderr",
     "output_type": "stream",
     "text": [
      "Processing queries (generate or skip): 330it [03:28,  1.19it/s]"
     ]
    },
    {
     "name": "stdout",
     "output_type": "stream",
     "text": [
      "Error generating for query 'Co-signer deceased' (Attempt 1/5): API error occurred: Status 429\n",
      "{\"object\":\"error\",\"message\":\"Rate limit exceeded\",\"type\":\"rate_limited\",\"param\":null,\"code\":\"1300\"}\n",
      "Retrying in 1 seconds...\n"
     ]
    },
    {
     "name": "stderr",
     "output_type": "stream",
     "text": [
      "Processing queries (generate or skip): 332it [03:30,  1.13it/s]"
     ]
    },
    {
     "name": "stdout",
     "output_type": "stream",
     "text": [
      "Error generating for query 'Mortgage loan implications when tearing down existing house and building new one?' (Attempt 1/5): API error occurred: Status 429\n",
      "{\"object\":\"error\",\"message\":\"Rate limit exceeded\",\"type\":\"rate_limited\",\"param\":null,\"code\":\"1300\"}\n",
      "Retrying in 1 seconds...\n"
     ]
    },
    {
     "name": "stderr",
     "output_type": "stream",
     "text": [
      "Processing queries (generate or skip): 334it [03:32,  1.11it/s]"
     ]
    },
    {
     "name": "stdout",
     "output_type": "stream",
     "text": [
      "Error generating for query 'Regarding Australian CBS takeover of TEN' (Attempt 1/5): API error occurred: Status 429\n",
      "{\"object\":\"error\",\"message\":\"Rate limit exceeded\",\"type\":\"rate_limited\",\"param\":null,\"code\":\"1300\"}\n",
      "Retrying in 1 seconds...\n"
     ]
    },
    {
     "name": "stderr",
     "output_type": "stream",
     "text": [
      "Processing queries (generate or skip): 336it [03:34,  1.06it/s]"
     ]
    },
    {
     "name": "stdout",
     "output_type": "stream",
     "text": [
      "Error generating for query 'What credit card information are offline US merchants allowed to collect for purposes other than the transaction?' (Attempt 1/5): API error occurred: Status 429\n",
      "{\"object\":\"error\",\"message\":\"Rate limit exceeded\",\"type\":\"rate_limited\",\"param\":null,\"code\":\"1300\"}\n",
      "Retrying in 1 seconds...\n"
     ]
    },
    {
     "name": "stderr",
     "output_type": "stream",
     "text": [
      "Processing queries (generate or skip): 339it [03:36,  1.24it/s]"
     ]
    },
    {
     "name": "stdout",
     "output_type": "stream",
     "text": [
      "Error generating for query 'Formula that predicts whether one is better off investing or paying down debt' (Attempt 1/5): API error occurred: Status 429\n",
      "{\"object\":\"error\",\"message\":\"Rate limit exceeded\",\"type\":\"rate_limited\",\"param\":null,\"code\":\"1300\"}\n",
      "Retrying in 1 seconds...\n"
     ]
    },
    {
     "name": "stderr",
     "output_type": "stream",
     "text": [
      "Processing queries (generate or skip): 341it [03:39,  1.12it/s]"
     ]
    },
    {
     "name": "stdout",
     "output_type": "stream",
     "text": [
      "Error generating for query 'I might use a credit card convenience check. What should I consider?' (Attempt 1/5): API error occurred: Status 429\n",
      "{\"object\":\"error\",\"message\":\"Rate limit exceeded\",\"type\":\"rate_limited\",\"param\":null,\"code\":\"1300\"}\n",
      "Retrying in 1 seconds...\n"
     ]
    },
    {
     "name": "stderr",
     "output_type": "stream",
     "text": [
      "Processing queries (generate or skip): 343it [03:41,  1.07it/s]"
     ]
    },
    {
     "name": "stdout",
     "output_type": "stream",
     "text": [
      "Error generating for query 'How does the bank/IRS know whether a bank transfer over $14k is a gift or loan repayment?' (Attempt 1/5): API error occurred: Status 429\n",
      "{\"object\":\"error\",\"message\":\"Rate limit exceeded\",\"type\":\"rate_limited\",\"param\":null,\"code\":\"1300\"}\n",
      "Retrying in 1 seconds...\n"
     ]
    },
    {
     "name": "stderr",
     "output_type": "stream",
     "text": [
      "Processing queries (generate or skip): 346it [03:44,  1.17it/s]"
     ]
    },
    {
     "name": "stdout",
     "output_type": "stream",
     "text": [
      "Error generating for query 'How do I calculate the quarterly returns of a stock index?' (Attempt 1/5): API error occurred: Status 429\n",
      "{\"object\":\"error\",\"message\":\"Rate limit exceeded\",\"type\":\"rate_limited\",\"param\":null,\"code\":\"1300\"}\n",
      "Retrying in 1 seconds...\n"
     ]
    },
    {
     "name": "stderr",
     "output_type": "stream",
     "text": [
      "Processing queries (generate or skip): 348it [03:46,  1.13it/s]"
     ]
    },
    {
     "name": "stdout",
     "output_type": "stream",
     "text": [
      "Error generating for query 'Does a company's stock price give any indication to or affect their revenue?' (Attempt 1/5): API error occurred: Status 429\n",
      "{\"object\":\"error\",\"message\":\"Rate limit exceeded\",\"type\":\"rate_limited\",\"param\":null,\"code\":\"1300\"}\n",
      "Retrying in 1 seconds...\n"
     ]
    },
    {
     "name": "stderr",
     "output_type": "stream",
     "text": [
      "Processing queries (generate or skip): 350it [03:48,  1.07it/s]"
     ]
    },
    {
     "name": "stdout",
     "output_type": "stream",
     "text": [
      "Error generating for query 'Exercises of employee share options' (Attempt 1/5): API error occurred: Status 429\n",
      "{\"object\":\"error\",\"message\":\"Rate limit exceeded\",\"type\":\"rate_limited\",\"param\":null,\"code\":\"1300\"}\n",
      "Retrying in 1 seconds...\n"
     ]
    },
    {
     "name": "stderr",
     "output_type": "stream",
     "text": [
      "Processing queries (generate or skip): 353it [03:50,  1.27it/s]"
     ]
    },
    {
     "name": "stdout",
     "output_type": "stream",
     "text": [
      "Error generating for query 'Historical stock prices: Where to find free / low cost data for offline analysis?' (Attempt 1/5): API error occurred: Status 429\n",
      "{\"object\":\"error\",\"message\":\"Rate limit exceeded\",\"type\":\"rate_limited\",\"param\":null,\"code\":\"1300\"}\n",
      "Retrying in 1 seconds...\n"
     ]
    },
    {
     "name": "stderr",
     "output_type": "stream",
     "text": [
      "Processing queries (generate or skip): 355it [03:53,  1.09it/s]"
     ]
    },
    {
     "name": "stdout",
     "output_type": "stream",
     "text": [
      "Error generating for query 'What were the main causes of the spike and drop of DRYS's stock price?' (Attempt 1/5): API error occurred: Status 429\n",
      "{\"object\":\"error\",\"message\":\"Rate limit exceeded\",\"type\":\"rate_limited\",\"param\":null,\"code\":\"1300\"}\n",
      "Retrying in 1 seconds...\n"
     ]
    },
    {
     "name": "stderr",
     "output_type": "stream",
     "text": [
      "Processing queries (generate or skip): 357it [03:55,  1.06it/s]"
     ]
    },
    {
     "name": "stdout",
     "output_type": "stream",
     "text": [
      "Error generating for query 'Is it impossible to get a home loan with a poor credit history after a divorce?' (Attempt 1/5): API error occurred: Status 429\n",
      "{\"object\":\"error\",\"message\":\"Rate limit exceeded\",\"type\":\"rate_limited\",\"param\":null,\"code\":\"1300\"}\n",
      "Retrying in 1 seconds...\n"
     ]
    },
    {
     "name": "stderr",
     "output_type": "stream",
     "text": [
      "Processing queries (generate or skip): 363it [04:01,  1.38it/s]"
     ]
    },
    {
     "name": "stdout",
     "output_type": "stream",
     "text": [
      "Error generating for query 'Tax considerations for selling a property below appraised value to family?' (Attempt 1/5): API error occurred: Status 429\n",
      "{\"object\":\"error\",\"message\":\"Rate limit exceeded\",\"type\":\"rate_limited\",\"param\":null,\"code\":\"1300\"}\n",
      "Retrying in 1 seconds...\n"
     ]
    },
    {
     "name": "stderr",
     "output_type": "stream",
     "text": [
      "Processing queries (generate or skip): 365it [04:03,  1.13it/s]"
     ]
    },
    {
     "name": "stdout",
     "output_type": "stream",
     "text": [
      "Error generating for query 'Pay off car loan entirely or leave $1 until the end of the loan period?' (Attempt 1/5): API error occurred: Status 429\n",
      "{\"object\":\"error\",\"message\":\"Rate limit exceeded\",\"type\":\"rate_limited\",\"param\":null,\"code\":\"1300\"}\n",
      "Retrying in 1 seconds...\n"
     ]
    },
    {
     "name": "stderr",
     "output_type": "stream",
     "text": [
      "Processing queries (generate or skip): 368it [04:06,  1.22it/s]"
     ]
    },
    {
     "name": "stdout",
     "output_type": "stream",
     "text": [
      "Error generating for query 'Is there any site you can find out about the 'bonus features' of credit cards?' (Attempt 1/5): API error occurred: Status 429\n",
      "{\"object\":\"error\",\"message\":\"Rate limit exceeded\",\"type\":\"rate_limited\",\"param\":null,\"code\":\"1300\"}\n",
      "Retrying in 1 seconds...\n"
     ]
    },
    {
     "name": "stderr",
     "output_type": "stream",
     "text": [
      "Processing queries (generate or skip): 370it [04:08,  1.15it/s]"
     ]
    },
    {
     "name": "stdout",
     "output_type": "stream",
     "text": [
      "Error generating for query 'How and where do companies publish financial reports?' (Attempt 1/5): API error occurred: Status 429\n",
      "{\"object\":\"error\",\"message\":\"Rate limit exceeded\",\"type\":\"rate_limited\",\"param\":null,\"code\":\"1300\"}\n",
      "Retrying in 1 seconds...\n"
     ]
    },
    {
     "name": "stderr",
     "output_type": "stream",
     "text": [
      "Processing queries (generate or skip): 372it [04:10,  1.13it/s]"
     ]
    },
    {
     "name": "stdout",
     "output_type": "stream",
     "text": [
      "Error generating for query 'Do I need multiple credit monitoring services?' (Attempt 1/5): API error occurred: Status 429\n",
      "{\"object\":\"error\",\"message\":\"Rate limit exceeded\",\"type\":\"rate_limited\",\"param\":null,\"code\":\"1300\"}\n",
      "Retrying in 1 seconds...\n"
     ]
    },
    {
     "name": "stderr",
     "output_type": "stream",
     "text": [
      "Processing queries (generate or skip): 374it [04:12,  1.06it/s]"
     ]
    },
    {
     "name": "stdout",
     "output_type": "stream",
     "text": [
      "Error generating for query 'What is the PEG ratio? How is the PEG ratio calculated? How is the PEG ratio useful for stock investing?' (Attempt 1/5): API error occurred: Status 429\n",
      "{\"object\":\"error\",\"message\":\"Rate limit exceeded\",\"type\":\"rate_limited\",\"param\":null,\"code\":\"1300\"}\n",
      "Retrying in 1 seconds...\n"
     ]
    },
    {
     "name": "stderr",
     "output_type": "stream",
     "text": [
      "Processing queries (generate or skip): 377it [04:15,  1.21it/s]"
     ]
    },
    {
     "name": "stdout",
     "output_type": "stream",
     "text": [
      "Error generating for query 'What is the best way to get a “rough” home appraisal prior to starting the refinance process?' (Attempt 1/5): API error occurred: Status 429\n",
      "{\"object\":\"error\",\"message\":\"Rate limit exceeded\",\"type\":\"rate_limited\",\"param\":null,\"code\":\"1300\"}\n",
      "Retrying in 1 seconds...\n"
     ]
    },
    {
     "name": "stderr",
     "output_type": "stream",
     "text": [
      "Processing queries (generate or skip): 379it [04:17,  1.06it/s]"
     ]
    },
    {
     "name": "stdout",
     "output_type": "stream",
     "text": [
      "Error generating for query 'FX losses on non-UK mortgage for UK property - tax deductable?' (Attempt 1/5): API error occurred: Status 429\n",
      "{\"object\":\"error\",\"message\":\"Rate limit exceeded\",\"type\":\"rate_limited\",\"param\":null,\"code\":\"1300\"}\n",
      "Retrying in 1 seconds...\n"
     ]
    },
    {
     "name": "stderr",
     "output_type": "stream",
     "text": [
      "Processing queries (generate or skip): 381it [04:19,  1.05it/s]"
     ]
    },
    {
     "name": "stdout",
     "output_type": "stream",
     "text": [
      "Error generating for query 'Paying Off Principal of Home vs. Investing In Mutual Fund' (Attempt 1/5): API error occurred: Status 429\n",
      "{\"object\":\"error\",\"message\":\"Rate limit exceeded\",\"type\":\"rate_limited\",\"param\":null,\"code\":\"1300\"}\n",
      "Retrying in 1 seconds...\n"
     ]
    },
    {
     "name": "stderr",
     "output_type": "stream",
     "text": [
      "Processing queries (generate or skip): 383it [04:21,  1.03it/s]"
     ]
    },
    {
     "name": "stdout",
     "output_type": "stream",
     "text": [
      "Error generating for query 'Interest charges on balance transfer when purchases are involved' (Attempt 1/5): API error occurred: Status 429\n",
      "{\"object\":\"error\",\"message\":\"Rate limit exceeded\",\"type\":\"rate_limited\",\"param\":null,\"code\":\"1300\"}\n",
      "Retrying in 1 seconds...\n"
     ]
    },
    {
     "name": "stderr",
     "output_type": "stream",
     "text": [
      "Processing queries (generate or skip): 386it [04:24,  1.14it/s]"
     ]
    },
    {
     "name": "stdout",
     "output_type": "stream",
     "text": [
      "Error generating for query 'How does investment into a private company work?' (Attempt 1/5): API error occurred: Status 429\n",
      "{\"object\":\"error\",\"message\":\"Rate limit exceeded\",\"type\":\"rate_limited\",\"param\":null,\"code\":\"1300\"}\n",
      "Retrying in 1 seconds...\n"
     ]
    },
    {
     "name": "stderr",
     "output_type": "stream",
     "text": [
      "Processing queries (generate or skip): 388it [04:26,  1.14it/s]"
     ]
    },
    {
     "name": "stdout",
     "output_type": "stream",
     "text": [
      "Error generating for query 'How to calculate ownership for property with a partner' (Attempt 1/5): API error occurred: Status 429\n",
      "{\"object\":\"error\",\"message\":\"Rate limit exceeded\",\"type\":\"rate_limited\",\"param\":null,\"code\":\"1300\"}\n",
      "Retrying in 1 seconds...\n"
     ]
    },
    {
     "name": "stderr",
     "output_type": "stream",
     "text": [
      "Processing queries (generate or skip): 390it [04:28,  1.11it/s]"
     ]
    },
    {
     "name": "stdout",
     "output_type": "stream",
     "text": [
      "Error generating for query 'Why would anyone want to pay off their debts in a way other than “highest interest” first?' (Attempt 1/5): API error occurred: Status 429\n",
      "{\"object\":\"error\",\"message\":\"Rate limit exceeded\",\"type\":\"rate_limited\",\"param\":null,\"code\":\"1300\"}\n",
      "Retrying in 1 seconds...\n"
     ]
    },
    {
     "name": "stderr",
     "output_type": "stream",
     "text": [
      "Processing queries (generate or skip): 393it [04:31,  1.21it/s]"
     ]
    },
    {
     "name": "stdout",
     "output_type": "stream",
     "text": [
      "Error generating for query 'Why might it be advisable to keep student debt vs. paying it off quickly?' (Attempt 1/5): API error occurred: Status 429\n",
      "{\"object\":\"error\",\"message\":\"Rate limit exceeded\",\"type\":\"rate_limited\",\"param\":null,\"code\":\"1300\"}\n",
      "Retrying in 1 seconds...\n"
     ]
    },
    {
     "name": "stderr",
     "output_type": "stream",
     "text": [
      "Processing queries (generate or skip): 395it [04:33,  1.11it/s]"
     ]
    },
    {
     "name": "stdout",
     "output_type": "stream",
     "text": [
      "Error generating for query 'Most effective Fundamental Analysis indicators for market entry' (Attempt 1/5): API error occurred: Status 429\n",
      "{\"object\":\"error\",\"message\":\"Rate limit exceeded\",\"type\":\"rate_limited\",\"param\":null,\"code\":\"1300\"}\n",
      "Retrying in 1 seconds...\n"
     ]
    },
    {
     "name": "stderr",
     "output_type": "stream",
     "text": [
      "Processing queries (generate or skip): 397it [04:35,  1.04it/s]"
     ]
    },
    {
     "name": "stdout",
     "output_type": "stream",
     "text": [
      "Error generating for query 'Why does short selling require borrowing?' (Attempt 1/5): API error occurred: Status 429\n",
      "{\"object\":\"error\",\"message\":\"Rate limit exceeded\",\"type\":\"rate_limited\",\"param\":null,\"code\":\"1300\"}\n",
      "Retrying in 1 seconds...\n"
     ]
    },
    {
     "name": "stderr",
     "output_type": "stream",
     "text": [
      "Processing queries (generate or skip): 399it [04:37,  1.07it/s]"
     ]
    },
    {
     "name": "stdout",
     "output_type": "stream",
     "text": [
      "Error generating for query 'Better to rent condo to daughter or put her on title?' (Attempt 1/5): API error occurred: Status 429\n",
      "{\"object\":\"error\",\"message\":\"Rate limit exceeded\",\"type\":\"rate_limited\",\"param\":null,\"code\":\"1300\"}\n",
      "Retrying in 1 seconds...\n"
     ]
    },
    {
     "name": "stderr",
     "output_type": "stream",
     "text": [
      "Processing queries (generate or skip): 402it [04:40,  1.26it/s]"
     ]
    },
    {
     "name": "stdout",
     "output_type": "stream",
     "text": [
      "Error generating for query 'How does stabilization work during an IPO?' (Attempt 1/5): API error occurred: Status 429\n",
      "{\"object\":\"error\",\"message\":\"Rate limit exceeded\",\"type\":\"rate_limited\",\"param\":null,\"code\":\"1300\"}\n",
      "Retrying in 1 seconds...\n"
     ]
    },
    {
     "name": "stderr",
     "output_type": "stream",
     "text": [
      "Processing queries (generate or skip): 404it [04:42,  1.13it/s]"
     ]
    },
    {
     "name": "stdout",
     "output_type": "stream",
     "text": [
      "Error generating for query 'How can all these countries owe so much money?  Why & where did they borrow it from?' (Attempt 1/5): API error occurred: Status 429\n",
      "{\"object\":\"error\",\"message\":\"Rate limit exceeded\",\"type\":\"rate_limited\",\"param\":null,\"code\":\"1300\"}\n",
      "Retrying in 1 seconds...\n"
     ]
    },
    {
     "name": "stderr",
     "output_type": "stream",
     "text": [
      "Processing queries (generate or skip): 406it [04:44,  1.09it/s]"
     ]
    },
    {
     "name": "stdout",
     "output_type": "stream",
     "text": [
      "Error generating for query 'To pay off a student loan, should I save up a lump sum payoff payment or pay extra each month?' (Attempt 1/5): API error occurred: Status 429\n",
      "{\"object\":\"error\",\"message\":\"Rate limit exceeded\",\"type\":\"rate_limited\",\"param\":null,\"code\":\"1300\"}\n",
      "Retrying in 1 seconds...\n"
     ]
    },
    {
     "name": "stderr",
     "output_type": "stream",
     "text": [
      "Processing queries (generate or skip): 408it [04:46,  1.07it/s]"
     ]
    },
    {
     "name": "stdout",
     "output_type": "stream",
     "text": [
      "Error generating for query 'Help required on estimating SSA benefit amounts' (Attempt 1/5): API error occurred: Status 429\n",
      "{\"object\":\"error\",\"message\":\"Rate limit exceeded\",\"type\":\"rate_limited\",\"param\":null,\"code\":\"1300\"}\n",
      "Retrying in 1 seconds...\n"
     ]
    },
    {
     "name": "stderr",
     "output_type": "stream",
     "text": [
      "Processing queries (generate or skip): 410it [04:49,  1.08it/s]"
     ]
    },
    {
     "name": "stdout",
     "output_type": "stream",
     "text": [
      "Error generating for query 'Option settlement for calendar spreads' (Attempt 1/5): API error occurred: Status 429\n",
      "{\"object\":\"error\",\"message\":\"Rate limit exceeded\",\"type\":\"rate_limited\",\"param\":null,\"code\":\"1300\"}\n",
      "Retrying in 1 seconds...\n"
     ]
    },
    {
     "name": "stderr",
     "output_type": "stream",
     "text": [
      "Processing queries (generate or skip): 412it [04:51,  1.09it/s]"
     ]
    },
    {
     "name": "stdout",
     "output_type": "stream",
     "text": [
      "Error generating for query 'Does the bid/ask concept exist in dealer markets?' (Attempt 1/5): API error occurred: Status 429\n",
      "{\"object\":\"error\",\"message\":\"Rate limit exceeded\",\"type\":\"rate_limited\",\"param\":null,\"code\":\"1300\"}\n",
      "Retrying in 1 seconds...\n"
     ]
    },
    {
     "name": "stderr",
     "output_type": "stream",
     "text": [
      "Processing queries (generate or skip): 414it [04:53,  1.07it/s]"
     ]
    },
    {
     "name": "stdout",
     "output_type": "stream",
     "text": [
      "Error generating for query 'Advice on strategy for when to sell' (Attempt 1/5): API error occurred: Status 429\n",
      "{\"object\":\"error\",\"message\":\"Rate limit exceeded\",\"type\":\"rate_limited\",\"param\":null,\"code\":\"1300\"}\n",
      "Retrying in 1 seconds...\n"
     ]
    },
    {
     "name": "stderr",
     "output_type": "stream",
     "text": [
      "Processing queries (generate or skip): 416it [04:55,  1.07it/s]"
     ]
    },
    {
     "name": "stdout",
     "output_type": "stream",
     "text": [
      "Error generating for query 'Trading on exchanges or via brokerage companies?' (Attempt 1/5): API error occurred: Status 429\n",
      "{\"object\":\"error\",\"message\":\"Rate limit exceeded\",\"type\":\"rate_limited\",\"param\":null,\"code\":\"1300\"}\n",
      "Retrying in 1 seconds...\n"
     ]
    },
    {
     "name": "stderr",
     "output_type": "stream",
     "text": [
      "Processing queries (generate or skip): 419it [04:58,  1.09it/s]"
     ]
    },
    {
     "name": "stdout",
     "output_type": "stream",
     "text": [
      "Error generating for query 'Cheapest way to “wire” money in an Australian bank account to a person in England, while I'm in Laos?' (Attempt 1/5): API error occurred: Status 429\n",
      "{\"object\":\"error\",\"message\":\"Rate limit exceeded\",\"type\":\"rate_limited\",\"param\":null,\"code\":\"1300\"}\n",
      "Retrying in 1 seconds...\n"
     ]
    },
    {
     "name": "stderr",
     "output_type": "stream",
     "text": [
      "Processing queries (generate or skip): 422it [05:01,  1.17it/s]"
     ]
    },
    {
     "name": "stdout",
     "output_type": "stream",
     "text": [
      "Error generating for query 'What does a high theta mean for an option position?' (Attempt 1/5): API error occurred: Status 429\n",
      "{\"object\":\"error\",\"message\":\"Rate limit exceeded\",\"type\":\"rate_limited\",\"param\":null,\"code\":\"1300\"}\n",
      "Retrying in 1 seconds...\n"
     ]
    },
    {
     "name": "stderr",
     "output_type": "stream",
     "text": [
      "Processing queries (generate or skip): 425it [05:03,  1.22it/s]"
     ]
    },
    {
     "name": "stdout",
     "output_type": "stream",
     "text": [
      "Error generating for query 'How to know precisely when a SWIFT is issued by a bank?' (Attempt 1/5): API error occurred: Status 429\n",
      "{\"object\":\"error\",\"message\":\"Rate limit exceeded\",\"type\":\"rate_limited\",\"param\":null,\"code\":\"1300\"}\n",
      "Retrying in 1 seconds...\n"
     ]
    },
    {
     "name": "stderr",
     "output_type": "stream",
     "text": [
      "Processing queries (generate or skip): 427it [05:06,  1.12it/s]"
     ]
    },
    {
     "name": "stdout",
     "output_type": "stream",
     "text": [
      "Error generating for query 'Approximate IT company valuation (to proximate stock options value)' (Attempt 1/5): API error occurred: Status 429\n",
      "{\"object\":\"error\",\"message\":\"Rate limit exceeded\",\"type\":\"rate_limited\",\"param\":null,\"code\":\"1300\"}\n",
      "Retrying in 1 seconds...\n"
     ]
    },
    {
     "name": "stderr",
     "output_type": "stream",
     "text": [
      "Processing queries (generate or skip): 429it [05:08,  1.12it/s]"
     ]
    },
    {
     "name": "stdout",
     "output_type": "stream",
     "text": [
      "Error generating for query 'Who are the sellers for the new public stocks?' (Attempt 1/5): API error occurred: Status 429\n",
      "{\"object\":\"error\",\"message\":\"Rate limit exceeded\",\"type\":\"rate_limited\",\"param\":null,\"code\":\"1300\"}\n",
      "Retrying in 1 seconds...\n"
     ]
    },
    {
     "name": "stderr",
     "output_type": "stream",
     "text": [
      "Processing queries (generate or skip): 431it [05:10,  1.10it/s]"
     ]
    },
    {
     "name": "stdout",
     "output_type": "stream",
     "text": [
      "Error generating for query 'What does it mean if “IPOs - normally are sold with an `underwriting discount` (a built in commission)”' (Attempt 1/5): API error occurred: Status 429\n",
      "{\"object\":\"error\",\"message\":\"Rate limit exceeded\",\"type\":\"rate_limited\",\"param\":null,\"code\":\"1300\"}\n",
      "Retrying in 1 seconds...\n"
     ]
    },
    {
     "name": "stderr",
     "output_type": "stream",
     "text": [
      "Processing queries (generate or skip): 434it [05:12,  1.28it/s]"
     ]
    },
    {
     "name": "stdout",
     "output_type": "stream",
     "text": [
      "Error generating for query 'Where to find the full book of outstanding bids/asks for a stock?' (Attempt 1/5): API error occurred: Status 429\n",
      "{\"object\":\"error\",\"message\":\"Rate limit exceeded\",\"type\":\"rate_limited\",\"param\":null,\"code\":\"1300\"}\n",
      "Retrying in 1 seconds...\n"
     ]
    },
    {
     "name": "stderr",
     "output_type": "stream",
     "text": [
      "Processing queries (generate or skip): 436it [05:15,  1.13it/s]"
     ]
    },
    {
     "name": "stdout",
     "output_type": "stream",
     "text": [
      "Error generating for query 'What are the common moving averages used in a “Golden Cross” stock evaluation?' (Attempt 1/5): API error occurred: Status 429\n",
      "{\"object\":\"error\",\"message\":\"Rate limit exceeded\",\"type\":\"rate_limited\",\"param\":null,\"code\":\"1300\"}\n",
      "Retrying in 1 seconds...\n"
     ]
    },
    {
     "name": "stderr",
     "output_type": "stream",
     "text": [
      "Processing queries (generate or skip): 438it [05:17,  1.07it/s]"
     ]
    },
    {
     "name": "stdout",
     "output_type": "stream",
     "text": [
      "Error generating for query 'Selling Stock - All or Nothing?' (Attempt 1/5): API error occurred: Status 429\n",
      "{\"object\":\"error\",\"message\":\"Rate limit exceeded\",\"type\":\"rate_limited\",\"param\":null,\"code\":\"1300\"}\n",
      "Retrying in 1 seconds...\n"
     ]
    },
    {
     "name": "stderr",
     "output_type": "stream",
     "text": [
      "Processing queries (generate or skip): 440it [05:19,  1.07it/s]"
     ]
    },
    {
     "name": "stdout",
     "output_type": "stream",
     "text": [
      "Error generating for query 'Are bond ETF capital gains taxed similar to stock or stock funds if held for more than 1 year?' (Attempt 1/5): API error occurred: Status 429\n",
      "{\"object\":\"error\",\"message\":\"Rate limit exceeded\",\"type\":\"rate_limited\",\"param\":null,\"code\":\"1300\"}\n",
      "Retrying in 1 seconds...\n"
     ]
    },
    {
     "name": "stderr",
     "output_type": "stream",
     "text": [
      "Processing queries (generate or skip): 443it [05:21,  1.25it/s]"
     ]
    },
    {
     "name": "stdout",
     "output_type": "stream",
     "text": [
      "Error generating for query 'Will there always be somebody selling/buying in every stock?' (Attempt 1/5): API error occurred: Status 429\n",
      "{\"object\":\"error\",\"message\":\"Rate limit exceeded\",\"type\":\"rate_limited\",\"param\":null,\"code\":\"1300\"}\n",
      "Retrying in 1 seconds...\n"
     ]
    },
    {
     "name": "stderr",
     "output_type": "stream",
     "text": [
      "Processing queries (generate or skip): 445it [05:24,  1.15it/s]"
     ]
    },
    {
     "name": "stdout",
     "output_type": "stream",
     "text": [
      "Error generating for query 'Where does the money go when I buy stocks?' (Attempt 1/5): API error occurred: Status 429\n",
      "{\"object\":\"error\",\"message\":\"Rate limit exceeded\",\"type\":\"rate_limited\",\"param\":null,\"code\":\"1300\"}\n",
      "Retrying in 1 seconds...\n"
     ]
    },
    {
     "name": "stderr",
     "output_type": "stream",
     "text": [
      "Processing queries (generate or skip): 447it [05:26,  1.08it/s]"
     ]
    },
    {
     "name": "stdout",
     "output_type": "stream",
     "text": [
      "Error generating for query 'Selling high, pay capital gains, re-purchase later' (Attempt 1/5): API error occurred: Status 429\n",
      "{\"object\":\"error\",\"message\":\"Rate limit exceeded\",\"type\":\"rate_limited\",\"param\":null,\"code\":\"1300\"}\n",
      "Retrying in 1 seconds...\n"
     ]
    },
    {
     "name": "stderr",
     "output_type": "stream",
     "text": [
      "Processing queries (generate or skip): 449it [05:28,  1.06it/s]"
     ]
    },
    {
     "name": "stdout",
     "output_type": "stream",
     "text": [
      "Error generating for query 'Nominal value of shares' (Attempt 1/5): API error occurred: Status 429\n",
      "{\"object\":\"error\",\"message\":\"Rate limit exceeded\",\"type\":\"rate_limited\",\"param\":null,\"code\":\"1300\"}\n",
      "Retrying in 1 seconds...\n"
     ]
    },
    {
     "name": "stderr",
     "output_type": "stream",
     "text": [
      "Processing queries (generate or skip): 452it [05:30,  1.28it/s]"
     ]
    },
    {
     "name": "stdout",
     "output_type": "stream",
     "text": [
      "Error generating for query 'Bed and Breakfast, Same Day Capital Gains UK' (Attempt 1/5): API error occurred: Status 429\n",
      "{\"object\":\"error\",\"message\":\"Rate limit exceeded\",\"type\":\"rate_limited\",\"param\":null,\"code\":\"1300\"}\n",
      "Retrying in 1 seconds...\n"
     ]
    },
    {
     "name": "stderr",
     "output_type": "stream",
     "text": [
      "Processing queries (generate or skip): 455it [05:34,  1.13it/s]"
     ]
    },
    {
     "name": "stdout",
     "output_type": "stream",
     "text": [
      "Error generating for query 'ESPP strategy - Sell right away or hold?' (Attempt 1/5): API error occurred: Status 429\n",
      "{\"object\":\"error\",\"message\":\"Rate limit exceeded\",\"type\":\"rate_limited\",\"param\":null,\"code\":\"1300\"}\n",
      "Retrying in 1 seconds...\n"
     ]
    },
    {
     "name": "stderr",
     "output_type": "stream",
     "text": [
      "Processing queries (generate or skip): 457it [05:36,  1.09it/s]"
     ]
    },
    {
     "name": "stdout",
     "output_type": "stream",
     "text": [
      "Error generating for query 'What's the formula for profits and losses when I delta hedge?' (Attempt 1/5): API error occurred: Status 429\n",
      "{\"object\":\"error\",\"message\":\"Rate limit exceeded\",\"type\":\"rate_limited\",\"param\":null,\"code\":\"1300\"}\n",
      "Retrying in 1 seconds...\n"
     ]
    },
    {
     "name": "stderr",
     "output_type": "stream",
     "text": [
      "Processing queries (generate or skip): 459it [05:38,  1.09it/s]"
     ]
    },
    {
     "name": "stdout",
     "output_type": "stream",
     "text": [
      "Error generating for query 'What is the difference between fixed-income duration and equity duration?' (Attempt 1/5): API error occurred: Status 429\n",
      "{\"object\":\"error\",\"message\":\"Rate limit exceeded\",\"type\":\"rate_limited\",\"param\":null,\"code\":\"1300\"}\n",
      "Retrying in 1 seconds...\n"
     ]
    },
    {
     "name": "stderr",
     "output_type": "stream",
     "text": [
      "Processing queries (generate or skip): 461it [05:40,  1.11it/s]"
     ]
    },
    {
     "name": "stdout",
     "output_type": "stream",
     "text": [
      "Error generating for query 'How come we can find stocks with a Price-to-Book ratio less than 1?' (Attempt 1/5): API error occurred: Status 429\n",
      "{\"object\":\"error\",\"message\":\"Rate limit exceeded\",\"type\":\"rate_limited\",\"param\":null,\"code\":\"1300\"}\n",
      "Retrying in 1 seconds...\n"
     ]
    },
    {
     "name": "stderr",
     "output_type": "stream",
     "text": [
      "Processing queries (generate or skip): 464it [05:43,  1.20it/s]"
     ]
    },
    {
     "name": "stdout",
     "output_type": "stream",
     "text": [
      "Error generating for query 'Should an ADR that is being delisted be sold off?' (Attempt 1/5): API error occurred: Status 429\n",
      "{\"object\":\"error\",\"message\":\"Rate limit exceeded\",\"type\":\"rate_limited\",\"param\":null,\"code\":\"1300\"}\n",
      "Retrying in 1 seconds...\n"
     ]
    },
    {
     "name": "stderr",
     "output_type": "stream",
     "text": [
      "Processing queries (generate or skip): 466it [05:45,  1.07it/s]"
     ]
    },
    {
     "name": "stdout",
     "output_type": "stream",
     "text": [
      "Error generating for query 'Is it possible to see option prices from the past?' (Attempt 1/5): API error occurred: Status 429\n",
      "{\"object\":\"error\",\"message\":\"Rate limit exceeded\",\"type\":\"rate_limited\",\"param\":null,\"code\":\"1300\"}\n",
      "Retrying in 1 seconds...\n"
     ]
    },
    {
     "name": "stderr",
     "output_type": "stream",
     "text": [
      "Processing queries (generate or skip): 468it [05:47,  1.10it/s]"
     ]
    },
    {
     "name": "stdout",
     "output_type": "stream",
     "text": [
      "Error generating for query 'What margin is required to initiate and maintain a short sale' (Attempt 1/5): API error occurred: Status 429\n",
      "{\"object\":\"error\",\"message\":\"Rate limit exceeded\",\"type\":\"rate_limited\",\"param\":null,\"code\":\"1300\"}\n",
      "Retrying in 1 seconds...\n"
     ]
    },
    {
     "name": "stderr",
     "output_type": "stream",
     "text": [
      "Processing queries (generate or skip): 471it [05:49,  1.26it/s]"
     ]
    },
    {
     "name": "stdout",
     "output_type": "stream",
     "text": [
      "Error generating for query 'If I invest in securities denominated in a foreign currency, should I hedge my currency risk?' (Attempt 1/5): API error occurred: Status 429\n",
      "{\"object\":\"error\",\"message\":\"Rate limit exceeded\",\"type\":\"rate_limited\",\"param\":null,\"code\":\"1300\"}\n",
      "Retrying in 1 seconds...\n"
     ]
    },
    {
     "name": "stderr",
     "output_type": "stream",
     "text": [
      "Processing queries (generate or skip): 473it [05:52,  1.10it/s]"
     ]
    },
    {
     "name": "stdout",
     "output_type": "stream",
     "text": [
      "Error generating for query 'Finance, Social Capital IPOA.U' (Attempt 1/5): API error occurred: Status 429\n",
      "{\"object\":\"error\",\"message\":\"Rate limit exceeded\",\"type\":\"rate_limited\",\"param\":null,\"code\":\"1300\"}\n",
      "Retrying in 1 seconds...\n"
     ]
    },
    {
     "name": "stderr",
     "output_type": "stream",
     "text": [
      "Processing queries (generate or skip): 475it [05:54,  1.10it/s]"
     ]
    },
    {
     "name": "stdout",
     "output_type": "stream",
     "text": [
      "Error generating for query 'Does Implied Volatilty factor in all known future events?' (Attempt 1/5): API error occurred: Status 429\n",
      "{\"object\":\"error\",\"message\":\"Rate limit exceeded\",\"type\":\"rate_limited\",\"param\":null,\"code\":\"1300\"}\n",
      "Retrying in 1 seconds...\n"
     ]
    },
    {
     "name": "stderr",
     "output_type": "stream",
     "text": [
      "Processing queries (generate or skip): 477it [05:56,  1.07it/s]"
     ]
    },
    {
     "name": "stdout",
     "output_type": "stream",
     "text": [
      "Error generating for query 'What do these numbers mean? (futures)' (Attempt 1/5): API error occurred: Status 429\n",
      "{\"object\":\"error\",\"message\":\"Rate limit exceeded\",\"type\":\"rate_limited\",\"param\":null,\"code\":\"1300\"}\n",
      "Retrying in 1 seconds...\n"
     ]
    },
    {
     "name": "stderr",
     "output_type": "stream",
     "text": [
      "Processing queries (generate or skip): 480it [05:58,  1.26it/s]"
     ]
    },
    {
     "name": "stdout",
     "output_type": "stream",
     "text": [
      "Error generating for query 'Since many brokers disallow investors from shorting sub-$5 stocks, why don't all companies split their stock until it is sub-$5' (Attempt 1/5): API error occurred: Status 429\n",
      "{\"object\":\"error\",\"message\":\"Rate limit exceeded\",\"type\":\"rate_limited\",\"param\":null,\"code\":\"1300\"}\n",
      "Retrying in 1 seconds...\n"
     ]
    },
    {
     "name": "stderr",
     "output_type": "stream",
     "text": [
      "Processing queries (generate or skip): 482it [06:01,  1.13it/s]"
     ]
    },
    {
     "name": "stdout",
     "output_type": "stream",
     "text": [
      "Error generating for query 'If an index goes up because an underlying company issues more shares, what happens to the ETF' (Attempt 1/5): API error occurred: Status 429\n",
      "{\"object\":\"error\",\"message\":\"Rate limit exceeded\",\"type\":\"rate_limited\",\"param\":null,\"code\":\"1300\"}\n",
      "Retrying in 1 seconds...\n"
     ]
    },
    {
     "name": "stderr",
     "output_type": "stream",
     "text": [
      "Processing queries (generate or skip): 484it [06:03,  1.09it/s]"
     ]
    },
    {
     "name": "stdout",
     "output_type": "stream",
     "text": [
      "Error generating for query 'Pros/cons of borrowing money using a mortgage loan and investing it in a low-fee index fund?' (Attempt 1/5): API error occurred: Status 429\n",
      "{\"object\":\"error\",\"message\":\"Rate limit exceeded\",\"type\":\"rate_limited\",\"param\":null,\"code\":\"1300\"}\n",
      "Retrying in 1 seconds...\n"
     ]
    },
    {
     "name": "stderr",
     "output_type": "stream",
     "text": [
      "Processing queries (generate or skip): 486it [06:05,  1.08it/s]"
     ]
    },
    {
     "name": "stdout",
     "output_type": "stream",
     "text": [
      "Error generating for query 'Why sometimes payable date is BEFORE the ex-dividend date?' (Attempt 1/5): API error occurred: Status 429\n",
      "{\"object\":\"error\",\"message\":\"Rate limit exceeded\",\"type\":\"rate_limited\",\"param\":null,\"code\":\"1300\"}\n",
      "Retrying in 1 seconds...\n"
     ]
    },
    {
     "name": "stderr",
     "output_type": "stream",
     "text": [
      "Processing queries (generate or skip): 489it [06:07,  1.28it/s]"
     ]
    },
    {
     "name": "stdout",
     "output_type": "stream",
     "text": [
      "Error generating for query 'Where are Bogleheadian World ETFs or Index funds?' (Attempt 1/5): API error occurred: Status 429\n",
      "{\"object\":\"error\",\"message\":\"Rate limit exceeded\",\"type\":\"rate_limited\",\"param\":null,\"code\":\"1300\"}\n",
      "Retrying in 1 seconds...\n"
     ]
    },
    {
     "name": "stderr",
     "output_type": "stream",
     "text": [
      "Processing queries (generate or skip): 494it [06:13,  1.40it/s]"
     ]
    },
    {
     "name": "stdout",
     "output_type": "stream",
     "text": [
      "Error generating for query 'few question about debit credit and liabilities' (Attempt 1/5): API error occurred: Status 429\n",
      "{\"object\":\"error\",\"message\":\"Rate limit exceeded\",\"type\":\"rate_limited\",\"param\":null,\"code\":\"1300\"}\n",
      "Retrying in 1 seconds...\n"
     ]
    },
    {
     "name": "stderr",
     "output_type": "stream",
     "text": [
      "Processing queries (generate or skip): 496it [06:15,  1.23it/s]"
     ]
    },
    {
     "name": "stdout",
     "output_type": "stream",
     "text": [
      "Error generating for query 'Best way to pay off debt?' (Attempt 1/5): API error occurred: Status 429\n",
      "{\"object\":\"error\",\"message\":\"Rate limit exceeded\",\"type\":\"rate_limited\",\"param\":null,\"code\":\"1300\"}\n",
      "Retrying in 1 seconds...\n"
     ]
    },
    {
     "name": "stderr",
     "output_type": "stream",
     "text": [
      "Processing queries (generate or skip): 498it [06:17,  1.13it/s]"
     ]
    },
    {
     "name": "stdout",
     "output_type": "stream",
     "text": [
      "Error generating for query 'Choosing the limit when making a limit order?' (Attempt 1/5): API error occurred: Status 429\n",
      "{\"object\":\"error\",\"message\":\"Rate limit exceeded\",\"type\":\"rate_limited\",\"param\":null,\"code\":\"1300\"}\n",
      "Retrying in 1 seconds...\n"
     ]
    },
    {
     "name": "stderr",
     "output_type": "stream",
     "text": [
      "Processing queries (generate or skip): 500it [06:19,  1.10it/s]"
     ]
    },
    {
     "name": "stdout",
     "output_type": "stream",
     "text": [
      "Error generating for query 'Bond ETFs vs actual bonds' (Attempt 1/5): API error occurred: Status 429\n",
      "{\"object\":\"error\",\"message\":\"Rate limit exceeded\",\"type\":\"rate_limited\",\"param\":null,\"code\":\"1300\"}\n",
      "Retrying in 1 seconds...\n"
     ]
    },
    {
     "name": "stderr",
     "output_type": "stream",
     "text": [
      "Processing queries (generate or skip): 503it [06:21,  1.27it/s]"
     ]
    },
    {
     "name": "stdout",
     "output_type": "stream",
     "text": [
      "Error generating for query 'What happens to bonds values when interest rates rise? [duplicate]' (Attempt 1/5): API error occurred: Status 429\n",
      "{\"object\":\"error\",\"message\":\"Rate limit exceeded\",\"type\":\"rate_limited\",\"param\":null,\"code\":\"1300\"}\n",
      "Retrying in 1 seconds...\n"
     ]
    },
    {
     "name": "stderr",
     "output_type": "stream",
     "text": [
      "Processing queries (generate or skip): 505it [06:23,  1.16it/s]"
     ]
    },
    {
     "name": "stdout",
     "output_type": "stream",
     "text": [
      "Error generating for query 'Bid/ask spreads for index funds' (Attempt 1/5): API error occurred: Status 429\n",
      "{\"object\":\"error\",\"message\":\"Rate limit exceeded\",\"type\":\"rate_limited\",\"param\":null,\"code\":\"1300\"}\n",
      "Retrying in 1 seconds...\n"
     ]
    },
    {
     "name": "stderr",
     "output_type": "stream",
     "text": [
      "Processing queries (generate or skip): 507it [06:26,  1.11it/s]"
     ]
    },
    {
     "name": "stdout",
     "output_type": "stream",
     "text": [
      "Error generating for query 'Can the Delta be used to calculate the option premium given a certain target?' (Attempt 1/5): API error occurred: Status 429\n",
      "{\"object\":\"error\",\"message\":\"Rate limit exceeded\",\"type\":\"rate_limited\",\"param\":null,\"code\":\"1300\"}\n",
      "Retrying in 1 seconds...\n"
     ]
    },
    {
     "name": "stderr",
     "output_type": "stream",
     "text": [
      "Processing queries (generate or skip): 509it [06:28,  1.06it/s]"
     ]
    },
    {
     "name": "stdout",
     "output_type": "stream",
     "text": [
      "Error generating for query 'Why do stocks split?' (Attempt 1/5): API error occurred: Status 429\n",
      "{\"object\":\"error\",\"message\":\"Rate limit exceeded\",\"type\":\"rate_limited\",\"param\":null,\"code\":\"1300\"}\n",
      "Retrying in 1 seconds...\n"
     ]
    },
    {
     "name": "stderr",
     "output_type": "stream",
     "text": [
      "Processing queries (generate or skip): 511it [06:30,  1.08it/s]"
     ]
    },
    {
     "name": "stdout",
     "output_type": "stream",
     "text": [
      "Error generating for query 'Are there index tracking funds that avoid the “buy high - sell low” problem?' (Attempt 1/5): API error occurred: Status 429\n",
      "{\"object\":\"error\",\"message\":\"Rate limit exceeded\",\"type\":\"rate_limited\",\"param\":null,\"code\":\"1300\"}\n",
      "Retrying in 1 seconds...\n"
     ]
    },
    {
     "name": "stderr",
     "output_type": "stream",
     "text": [
      "Processing queries (generate or skip): 514it [06:32,  1.25it/s]"
     ]
    },
    {
     "name": "stdout",
     "output_type": "stream",
     "text": [
      "Error generating for query 'If I believe a stock is going to fall, what options do I have to invest on this?' (Attempt 1/5): API error occurred: Status 429\n",
      "{\"object\":\"error\",\"message\":\"Rate limit exceeded\",\"type\":\"rate_limited\",\"param\":null,\"code\":\"1300\"}\n",
      "Retrying in 1 seconds...\n"
     ]
    },
    {
     "name": "stderr",
     "output_type": "stream",
     "text": [
      "Processing queries (generate or skip): 516it [06:34,  1.15it/s]"
     ]
    },
    {
     "name": "stdout",
     "output_type": "stream",
     "text": [
      "Error generating for query 'What type of pension should I get?' (Attempt 1/5): API error occurred: Status 429\n",
      "{\"object\":\"error\",\"message\":\"Rate limit exceeded\",\"type\":\"rate_limited\",\"param\":null,\"code\":\"1300\"}\n",
      "Retrying in 1 seconds...\n"
     ]
    },
    {
     "name": "stderr",
     "output_type": "stream",
     "text": [
      "Processing queries (generate or skip): 518it [06:37,  1.11it/s]"
     ]
    },
    {
     "name": "stdout",
     "output_type": "stream",
     "text": [
      "Error generating for query 'Difference between Vanguard sp500 UCITS and Vanguard sp500' (Attempt 1/5): API error occurred: Status 429\n",
      "{\"object\":\"error\",\"message\":\"Rate limit exceeded\",\"type\":\"rate_limited\",\"param\":null,\"code\":\"1300\"}\n",
      "Retrying in 1 seconds...\n"
     ]
    },
    {
     "name": "stderr",
     "output_type": "stream",
     "text": [
      "Processing queries (generate or skip): 520it [06:39,  1.05it/s]"
     ]
    },
    {
     "name": "stdout",
     "output_type": "stream",
     "text": [
      "Error generating for query 'Purchasing ETFs when (pretty much) everything else is maxed out' (Attempt 1/5): API error occurred: Status 429\n",
      "{\"object\":\"error\",\"message\":\"Rate limit exceeded\",\"type\":\"rate_limited\",\"param\":null,\"code\":\"1300\"}\n",
      "Retrying in 1 seconds...\n"
     ]
    },
    {
     "name": "stderr",
     "output_type": "stream",
     "text": [
      "Processing queries (generate or skip): 522it [06:41,  1.07it/s]"
     ]
    },
    {
     "name": "stdout",
     "output_type": "stream",
     "text": [
      "Error generating for query 'Best way to make most of savings with ISA and Offset mortgage' (Attempt 1/5): API error occurred: Status 429\n",
      "{\"object\":\"error\",\"message\":\"Rate limit exceeded\",\"type\":\"rate_limited\",\"param\":null,\"code\":\"1300\"}\n",
      "Retrying in 1 seconds...\n"
     ]
    },
    {
     "name": "stderr",
     "output_type": "stream",
     "text": [
      "Processing queries (generate or skip): 525it [06:44,  1.22it/s]"
     ]
    },
    {
     "name": "stdout",
     "output_type": "stream",
     "text": [
      "Error generating for query 'When do I sell a stock that I hold as a long-term position?' (Attempt 1/5): API error occurred: Status 429\n",
      "{\"object\":\"error\",\"message\":\"Rate limit exceeded\",\"type\":\"rate_limited\",\"param\":null,\"code\":\"1300\"}\n",
      "Retrying in 1 seconds...\n"
     ]
    },
    {
     "name": "stderr",
     "output_type": "stream",
     "text": [
      "Processing queries (generate or skip): 527it [06:46,  1.14it/s]"
     ]
    },
    {
     "name": "stdout",
     "output_type": "stream",
     "text": [
      "Error generating for query 'Can I calculate stock value with Williams%R if I know the last set?' (Attempt 1/5): API error occurred: Status 429\n",
      "{\"object\":\"error\",\"message\":\"Rate limit exceeded\",\"type\":\"rate_limited\",\"param\":null,\"code\":\"1300\"}\n",
      "Retrying in 1 seconds...\n"
     ]
    },
    {
     "name": "stderr",
     "output_type": "stream",
     "text": [
      "Processing queries (generate or skip): 529it [06:48,  1.07it/s]"
     ]
    },
    {
     "name": "stdout",
     "output_type": "stream",
     "text": [
      "Error generating for query 'Why would this kind of penny stock increase so much in value?' (Attempt 1/5): API error occurred: Status 429\n",
      "{\"object\":\"error\",\"message\":\"Rate limit exceeded\",\"type\":\"rate_limited\",\"param\":null,\"code\":\"1300\"}\n",
      "Retrying in 1 seconds...\n"
     ]
    },
    {
     "name": "stderr",
     "output_type": "stream",
     "text": [
      "Processing queries (generate or skip): 532it [06:50,  1.27it/s]"
     ]
    },
    {
     "name": "stdout",
     "output_type": "stream",
     "text": [
      "Error generating for query 'Buy/Selling prices at the stock exchange represent someone Selling/Buying at that price?' (Attempt 1/5): API error occurred: Status 429\n",
      "{\"object\":\"error\",\"message\":\"Rate limit exceeded\",\"type\":\"rate_limited\",\"param\":null,\"code\":\"1300\"}\n",
      "Retrying in 1 seconds...\n"
     ]
    },
    {
     "name": "stderr",
     "output_type": "stream",
     "text": [
      "Processing queries (generate or skip): 534it [06:53,  1.10it/s]"
     ]
    },
    {
     "name": "stdout",
     "output_type": "stream",
     "text": [
      "Error generating for query 'Why do put option prices go higher when the underlying stock tanks (drops)?' (Attempt 1/5): API error occurred: Status 429\n",
      "{\"object\":\"error\",\"message\":\"Rate limit exceeded\",\"type\":\"rate_limited\",\"param\":null,\"code\":\"1300\"}\n",
      "Retrying in 1 seconds...\n"
     ]
    },
    {
     "name": "stderr",
     "output_type": "stream",
     "text": [
      "Processing queries (generate or skip): 536it [06:55,  1.06it/s]"
     ]
    },
    {
     "name": "stdout",
     "output_type": "stream",
     "text": [
      "Error generating for query 'Should I wait a few days to sell ESPP Stock?' (Attempt 1/5): API error occurred: Status 429\n",
      "{\"object\":\"error\",\"message\":\"Rate limit exceeded\",\"type\":\"rate_limited\",\"param\":null,\"code\":\"1300\"}\n",
      "Retrying in 1 seconds...\n"
     ]
    },
    {
     "name": "stderr",
     "output_type": "stream",
     "text": [
      "Processing queries (generate or skip): 542it [07:01,  1.44it/s]"
     ]
    },
    {
     "name": "stdout",
     "output_type": "stream",
     "text": [
      "Error generating for query 'What do these options trading terms mean?' (Attempt 1/5): API error occurred: Status 429\n",
      "{\"object\":\"error\",\"message\":\"Rate limit exceeded\",\"type\":\"rate_limited\",\"param\":null,\"code\":\"1300\"}\n",
      "Retrying in 1 seconds...\n"
     ]
    },
    {
     "name": "stderr",
     "output_type": "stream",
     "text": [
      "Processing queries (generate or skip): 544it [07:03,  1.26it/s]"
     ]
    },
    {
     "name": "stdout",
     "output_type": "stream",
     "text": [
      "Error generating for query 'Can the risk of investing in an asset be different for different investors?' (Attempt 1/5): API error occurred: Status 429\n",
      "{\"object\":\"error\",\"message\":\"Rate limit exceeded\",\"type\":\"rate_limited\",\"param\":null,\"code\":\"1300\"}\n",
      "Retrying in 1 seconds...\n"
     ]
    },
    {
     "name": "stderr",
     "output_type": "stream",
     "text": [
      "Processing queries (generate or skip): 546it [07:05,  1.13it/s]"
     ]
    },
    {
     "name": "stdout",
     "output_type": "stream",
     "text": [
      "Error generating for query 'Tax implications of exercising ISOs and using proceeds to exercise more ISOs' (Attempt 1/5): API error occurred: Status 429\n",
      "{\"object\":\"error\",\"message\":\"Rate limit exceeded\",\"type\":\"rate_limited\",\"param\":null,\"code\":\"1300\"}\n",
      "Retrying in 1 seconds...\n"
     ]
    },
    {
     "name": "stderr",
     "output_type": "stream",
     "text": [
      "Processing queries (generate or skip): 548it [07:07,  1.05it/s]"
     ]
    },
    {
     "name": "stdout",
     "output_type": "stream",
     "text": [
      "Error generating for query 'Is there any flaw in this investment scheme?' (Attempt 1/5): API error occurred: Status 429\n",
      "{\"object\":\"error\",\"message\":\"Rate limit exceeded\",\"type\":\"rate_limited\",\"param\":null,\"code\":\"1300\"}\n",
      "Retrying in 1 seconds...\n"
     ]
    },
    {
     "name": "stderr",
     "output_type": "stream",
     "text": [
      "Processing queries (generate or skip): 551it [07:10,  1.23it/s]"
     ]
    },
    {
     "name": "stdout",
     "output_type": "stream",
     "text": [
      "Error generating for query 'What does “profits to the shareholders jumped to 15 cents a share” mean?' (Attempt 1/5): API error occurred: Status 429\n",
      "{\"object\":\"error\",\"message\":\"Rate limit exceeded\",\"type\":\"rate_limited\",\"param\":null,\"code\":\"1300\"}\n",
      "Retrying in 1 seconds...\n"
     ]
    },
    {
     "name": "stderr",
     "output_type": "stream",
     "text": [
      "Processing queries (generate or skip): 553it [07:12,  1.15it/s]"
     ]
    },
    {
     "name": "stdout",
     "output_type": "stream",
     "text": [
      "Error generating for query 'Is it possible to buy commodity ETFs (e.g. silver) through Questrade?' (Attempt 1/5): API error occurred: Status 429\n",
      "{\"object\":\"error\",\"message\":\"Rate limit exceeded\",\"type\":\"rate_limited\",\"param\":null,\"code\":\"1300\"}\n",
      "Retrying in 1 seconds...\n"
     ]
    },
    {
     "name": "stderr",
     "output_type": "stream",
     "text": [
      "Processing queries (generate or skip): 555it [07:14,  1.06it/s]"
     ]
    },
    {
     "name": "stdout",
     "output_type": "stream",
     "text": [
      "Error generating for query 'How do i get into investing stocks [duplicate]' (Attempt 1/5): API error occurred: Status 429\n",
      "{\"object\":\"error\",\"message\":\"Rate limit exceeded\",\"type\":\"rate_limited\",\"param\":null,\"code\":\"1300\"}\n",
      "Retrying in 1 seconds...\n"
     ]
    },
    {
     "name": "stderr",
     "output_type": "stream",
     "text": [
      "Processing queries (generate or skip): 557it [07:16,  1.06it/s]"
     ]
    },
    {
     "name": "stdout",
     "output_type": "stream",
     "text": [
      "Error generating for query 'Dividend yield for multiple years?' (Attempt 1/5): API error occurred: Status 429\n",
      "{\"object\":\"error\",\"message\":\"Rate limit exceeded\",\"type\":\"rate_limited\",\"param\":null,\"code\":\"1300\"}\n",
      "Retrying in 1 seconds...\n"
     ]
    },
    {
     "name": "stderr",
     "output_type": "stream",
     "text": [
      "Processing queries (generate or skip): 559it [07:18,  1.06it/s]"
     ]
    },
    {
     "name": "stdout",
     "output_type": "stream",
     "text": [
      "Error generating for query 'Can a Roth IRA be used as a savings account?' (Attempt 1/5): API error occurred: Status 429\n",
      "{\"object\":\"error\",\"message\":\"Rate limit exceeded\",\"type\":\"rate_limited\",\"param\":null,\"code\":\"1300\"}\n",
      "Retrying in 1 seconds...\n"
     ]
    },
    {
     "name": "stderr",
     "output_type": "stream",
     "text": [
      "Processing queries (generate or skip): 561it [07:20,  1.06it/s]"
     ]
    },
    {
     "name": "stdout",
     "output_type": "stream",
     "text": [
      "Error generating for query 'What's the difference, if any, between stock appreciation and compound interest?' (Attempt 1/5): API error occurred: Status 429\n",
      "{\"object\":\"error\",\"message\":\"Rate limit exceeded\",\"type\":\"rate_limited\",\"param\":null,\"code\":\"1300\"}\n",
      "Retrying in 1 seconds...\n"
     ]
    },
    {
     "name": "stderr",
     "output_type": "stream",
     "text": [
      "Processing queries (generate or skip): 564it [07:23,  1.24it/s]"
     ]
    },
    {
     "name": "stdout",
     "output_type": "stream",
     "text": [
      "Error generating for query 'Buying puts without owning underlying' (Attempt 1/5): API error occurred: Status 429\n",
      "{\"object\":\"error\",\"message\":\"Rate limit exceeded\",\"type\":\"rate_limited\",\"param\":null,\"code\":\"1300\"}\n",
      "Retrying in 1 seconds...\n"
     ]
    },
    {
     "name": "stderr",
     "output_type": "stream",
     "text": [
      "Processing queries (generate or skip): 566it [07:25,  1.13it/s]"
     ]
    },
    {
     "name": "stdout",
     "output_type": "stream",
     "text": [
      "Error generating for query 'Starting an investment portfolio with Rs 5,000/-' (Attempt 1/5): API error occurred: Status 429\n",
      "{\"object\":\"error\",\"message\":\"Rate limit exceeded\",\"type\":\"rate_limited\",\"param\":null,\"code\":\"1300\"}\n",
      "Retrying in 1 seconds...\n"
     ]
    },
    {
     "name": "stderr",
     "output_type": "stream",
     "text": [
      "Processing queries (generate or skip): 568it [07:27,  1.03it/s]"
     ]
    },
    {
     "name": "stdout",
     "output_type": "stream",
     "text": [
      "Error generating for query 'Short an option - random assignment?' (Attempt 1/5): API error occurred: Status 429\n",
      "{\"object\":\"error\",\"message\":\"Rate limit exceeded\",\"type\":\"rate_limited\",\"param\":null,\"code\":\"1300\"}\n",
      "Retrying in 1 seconds...\n"
     ]
    },
    {
     "name": "stderr",
     "output_type": "stream",
     "text": [
      "Processing queries (generate or skip): 570it [07:29,  1.04it/s]"
     ]
    },
    {
     "name": "stdout",
     "output_type": "stream",
     "text": [
      "Error generating for query 'Which U.S. online discount broker is the best value for money?' (Attempt 1/5): API error occurred: Status 429\n",
      "{\"object\":\"error\",\"message\":\"Rate limit exceeded\",\"type\":\"rate_limited\",\"param\":null,\"code\":\"1300\"}\n",
      "Retrying in 1 seconds...\n"
     ]
    },
    {
     "name": "stderr",
     "output_type": "stream",
     "text": [
      "Processing queries (generate or skip): 574it [07:33,  1.27it/s]"
     ]
    },
    {
     "name": "stdout",
     "output_type": "stream",
     "text": [
      "Error generating for query 'Are there any consequences for investing in Vanguard's Admiral Shares funds instead of ETF's in a Roth IRA?' (Attempt 1/5): API error occurred: Status 429\n",
      "{\"object\":\"error\",\"message\":\"Rate limit exceeded\",\"type\":\"rate_limited\",\"param\":null,\"code\":\"1300\"}\n",
      "Retrying in 1 seconds...\n"
     ]
    },
    {
     "name": "stderr",
     "output_type": "stream",
     "text": [
      "Processing queries (generate or skip): 576it [07:35,  1.10it/s]"
     ]
    },
    {
     "name": "stdout",
     "output_type": "stream",
     "text": [
      "Error generating for query 'Interactive Brokers: IOPTS and list of structured products' (Attempt 1/5): API error occurred: Status 429\n",
      "{\"object\":\"error\",\"message\":\"Rate limit exceeded\",\"type\":\"rate_limited\",\"param\":null,\"code\":\"1300\"}\n",
      "Retrying in 1 seconds...\n"
     ]
    },
    {
     "name": "stderr",
     "output_type": "stream",
     "text": [
      "Processing queries (generate or skip): 579it [07:38,  1.27it/s]"
     ]
    },
    {
     "name": "stdout",
     "output_type": "stream",
     "text": [
      "Error generating for query 'Meaning of reinvestment' (Attempt 1/5): API error occurred: Status 429\n",
      "{\"object\":\"error\",\"message\":\"Rate limit exceeded\",\"type\":\"rate_limited\",\"param\":null,\"code\":\"1300\"}\n",
      "Retrying in 1 seconds...\n"
     ]
    },
    {
     "name": "stderr",
     "output_type": "stream",
     "text": [
      "Processing queries (generate or skip): 581it [07:40,  1.18it/s]"
     ]
    },
    {
     "name": "stdout",
     "output_type": "stream",
     "text": [
      "Error generating for query 'Abundance of Cash - What should I do?' (Attempt 1/5): API error occurred: Status 429\n",
      "{\"object\":\"error\",\"message\":\"Rate limit exceeded\",\"type\":\"rate_limited\",\"param\":null,\"code\":\"1300\"}\n",
      "Retrying in 1 seconds...\n"
     ]
    },
    {
     "name": "stderr",
     "output_type": "stream",
     "text": [
      "Processing queries (generate or skip): 583it [07:42,  1.09it/s]"
     ]
    },
    {
     "name": "stdout",
     "output_type": "stream",
     "text": [
      "Error generating for query 'Is a public company allowed to issue new shares below market price without consulting shareholders?' (Attempt 1/5): API error occurred: Status 429\n",
      "{\"object\":\"error\",\"message\":\"Rate limit exceeded\",\"type\":\"rate_limited\",\"param\":null,\"code\":\"1300\"}\n",
      "Retrying in 1 seconds...\n"
     ]
    },
    {
     "name": "stderr",
     "output_type": "stream",
     "text": [
      "Processing queries (generate or skip): 585it [07:44,  1.07it/s]"
     ]
    },
    {
     "name": "stdout",
     "output_type": "stream",
     "text": [
      "Error generating for query 'How does pre-market trading work?' (Attempt 1/5): API error occurred: Status 429\n",
      "{\"object\":\"error\",\"message\":\"Rate limit exceeded\",\"type\":\"rate_limited\",\"param\":null,\"code\":\"1300\"}\n",
      "Retrying in 1 seconds...\n"
     ]
    },
    {
     "name": "stderr",
     "output_type": "stream",
     "text": [
      "Processing queries (generate or skip): 587it [07:46,  1.06it/s]"
     ]
    },
    {
     "name": "stdout",
     "output_type": "stream",
     "text": [
      "Error generating for query 'How do index funds actually work?' (Attempt 1/5): API error occurred: Status 429\n",
      "{\"object\":\"error\",\"message\":\"Rate limit exceeded\",\"type\":\"rate_limited\",\"param\":null,\"code\":\"1300\"}\n",
      "Retrying in 1 seconds...\n"
     ]
    },
    {
     "name": "stderr",
     "output_type": "stream",
     "text": [
      "Processing queries (generate or skip): 589it [07:49,  1.08it/s]"
     ]
    },
    {
     "name": "stdout",
     "output_type": "stream",
     "text": [
      "Error generating for query 'Video recommendation for stock market education' (Attempt 1/5): API error occurred: Status 429\n",
      "{\"object\":\"error\",\"message\":\"Rate limit exceeded\",\"type\":\"rate_limited\",\"param\":null,\"code\":\"1300\"}\n",
      "Retrying in 1 seconds...\n"
     ]
    },
    {
     "name": "stderr",
     "output_type": "stream",
     "text": [
      "Processing queries (generate or skip): 591it [07:51,  1.07it/s]"
     ]
    },
    {
     "name": "stdout",
     "output_type": "stream",
     "text": [
      "Error generating for query 'If early exercise is a bad idea, why American option is more expensive than European [duplicate]' (Attempt 1/5): API error occurred: Status 429\n",
      "{\"object\":\"error\",\"message\":\"Rate limit exceeded\",\"type\":\"rate_limited\",\"param\":null,\"code\":\"1300\"}\n",
      "Retrying in 1 seconds...\n"
     ]
    },
    {
     "name": "stderr",
     "output_type": "stream",
     "text": [
      "Processing queries (generate or skip): 594it [07:53,  1.23it/s]"
     ]
    },
    {
     "name": "stdout",
     "output_type": "stream",
     "text": [
      "Error generating for query 'How to bet against the London housing market?' (Attempt 1/5): API error occurred: Status 429\n",
      "{\"object\":\"error\",\"message\":\"Rate limit exceeded\",\"type\":\"rate_limited\",\"param\":null,\"code\":\"1300\"}\n",
      "Retrying in 1 seconds...\n"
     ]
    },
    {
     "name": "stderr",
     "output_type": "stream",
     "text": [
      "Processing queries (generate or skip): 596it [07:55,  1.15it/s]"
     ]
    },
    {
     "name": "stdout",
     "output_type": "stream",
     "text": [
      "Error generating for query 'What are “equity assets”?' (Attempt 1/5): API error occurred: Status 429\n",
      "{\"object\":\"error\",\"message\":\"Rate limit exceeded\",\"type\":\"rate_limited\",\"param\":null,\"code\":\"1300\"}\n",
      "Retrying in 1 seconds...\n"
     ]
    },
    {
     "name": "stderr",
     "output_type": "stream",
     "text": [
      "Processing queries (generate or skip): 598it [07:58,  1.09it/s]"
     ]
    },
    {
     "name": "stdout",
     "output_type": "stream",
     "text": [
      "Error generating for query 'Is there any emprical research done on 'adding to a loser'' (Attempt 1/5): API error occurred: Status 429\n",
      "{\"object\":\"error\",\"message\":\"Rate limit exceeded\",\"type\":\"rate_limited\",\"param\":null,\"code\":\"1300\"}\n",
      "Retrying in 1 seconds...\n"
     ]
    },
    {
     "name": "stderr",
     "output_type": "stream",
     "text": [
      "Processing queries (generate or skip): 600it [08:00,  1.09it/s]"
     ]
    },
    {
     "name": "stdout",
     "output_type": "stream",
     "text": [
      "Error generating for query 'Where can end-of-day data be downloaded for corporate bonds?' (Attempt 1/5): API error occurred: Status 429\n",
      "{\"object\":\"error\",\"message\":\"Rate limit exceeded\",\"type\":\"rate_limited\",\"param\":null,\"code\":\"1300\"}\n",
      "Retrying in 1 seconds...\n"
     ]
    },
    {
     "name": "stderr",
     "output_type": "stream",
     "text": [
      "Processing queries (generate or skip): 602it [08:02,  1.05it/s]"
     ]
    },
    {
     "name": "stdout",
     "output_type": "stream",
     "text": [
      "Error generating for query 'Money-market or cash-type ETFs for foreigners with U.S brokerage account' (Attempt 1/5): API error occurred: Status 429\n",
      "{\"object\":\"error\",\"message\":\"Rate limit exceeded\",\"type\":\"rate_limited\",\"param\":null,\"code\":\"1300\"}\n",
      "Retrying in 1 seconds...\n"
     ]
    },
    {
     "name": "stderr",
     "output_type": "stream",
     "text": [
      "Processing queries (generate or skip): 605it [08:05,  1.14it/s]"
     ]
    },
    {
     "name": "stdout",
     "output_type": "stream",
     "text": [
      "Error generating for query 'Employer rollover from 403b to 401k?' (Attempt 1/5): API error occurred: Status 429\n",
      "{\"object\":\"error\",\"message\":\"Rate limit exceeded\",\"type\":\"rate_limited\",\"param\":null,\"code\":\"1300\"}\n",
      "Retrying in 1 seconds...\n"
     ]
    },
    {
     "name": "stderr",
     "output_type": "stream",
     "text": [
      "Processing queries (generate or skip): 608it [08:07,  1.23it/s]"
     ]
    },
    {
     "name": "stdout",
     "output_type": "stream",
     "text": [
      "Error generating for query 'Do individual investors use Google to obtain stock quotes?' (Attempt 1/5): API error occurred: Status 429\n",
      "{\"object\":\"error\",\"message\":\"Rate limit exceeded\",\"type\":\"rate_limited\",\"param\":null,\"code\":\"1300\"}\n",
      "Retrying in 1 seconds...\n"
     ]
    },
    {
     "name": "stderr",
     "output_type": "stream",
     "text": [
      "Processing queries (generate or skip): 610it [08:10,  1.14it/s]"
     ]
    },
    {
     "name": "stdout",
     "output_type": "stream",
     "text": [
      "Error generating for query 'Why diversify stocks/investments?' (Attempt 1/5): API error occurred: Status 429\n",
      "{\"object\":\"error\",\"message\":\"Rate limit exceeded\",\"type\":\"rate_limited\",\"param\":null,\"code\":\"1300\"}\n",
      "Retrying in 1 seconds...\n"
     ]
    },
    {
     "name": "stderr",
     "output_type": "stream",
     "text": [
      "Processing queries (generate or skip): 612it [08:12,  1.10it/s]"
     ]
    },
    {
     "name": "stdout",
     "output_type": "stream",
     "text": [
      "Error generating for query 'F-1 student investing in foreign markets' (Attempt 1/5): API error occurred: Status 429\n",
      "{\"object\":\"error\",\"message\":\"Rate limit exceeded\",\"type\":\"rate_limited\",\"param\":null,\"code\":\"1300\"}\n",
      "Retrying in 1 seconds...\n"
     ]
    },
    {
     "name": "stderr",
     "output_type": "stream",
     "text": [
      "Processing queries (generate or skip): 615it [08:14,  1.23it/s]"
     ]
    },
    {
     "name": "stdout",
     "output_type": "stream",
     "text": [
      "Error generating for query 'Looking for good investment vehicle for seasonal work and savings' (Attempt 1/5): API error occurred: Status 429\n",
      "{\"object\":\"error\",\"message\":\"Rate limit exceeded\",\"type\":\"rate_limited\",\"param\":null,\"code\":\"1300\"}\n",
      "Retrying in 1 seconds...\n"
     ]
    },
    {
     "name": "stderr",
     "output_type": "stream",
     "text": [
      "Processing queries (generate or skip): 617it [08:16,  1.15it/s]"
     ]
    },
    {
     "name": "stdout",
     "output_type": "stream",
     "text": [
      "Error generating for query 'How should I prepare for the next financial crisis?' (Attempt 1/5): API error occurred: Status 429\n",
      "{\"object\":\"error\",\"message\":\"Rate limit exceeded\",\"type\":\"rate_limited\",\"param\":null,\"code\":\"1300\"}\n",
      "Retrying in 1 seconds...\n"
     ]
    },
    {
     "name": "stderr",
     "output_type": "stream",
     "text": [
      "Processing queries (generate or skip): 619it [08:19,  1.08it/s]"
     ]
    },
    {
     "name": "stdout",
     "output_type": "stream",
     "text": [
      "Error generating for query 'Is there an advantage to a traditional but non-deductable IRA over a taxable account? [duplicate]' (Attempt 1/5): API error occurred: Status 429\n",
      "{\"object\":\"error\",\"message\":\"Rate limit exceeded\",\"type\":\"rate_limited\",\"param\":null,\"code\":\"1300\"}\n",
      "Retrying in 1 seconds...\n"
     ]
    },
    {
     "name": "stderr",
     "output_type": "stream",
     "text": [
      "Processing queries (generate or skip): 621it [08:21,  1.03it/s]"
     ]
    },
    {
     "name": "stdout",
     "output_type": "stream",
     "text": [
      "Error generating for query 'Rollover into bond fund to do dollar cost averaging [duplicate]' (Attempt 1/5): API error occurred: Status 429\n",
      "{\"object\":\"error\",\"message\":\"Rate limit exceeded\",\"type\":\"rate_limited\",\"param\":null,\"code\":\"1300\"}\n",
      "Retrying in 1 seconds...\n"
     ]
    },
    {
     "name": "stderr",
     "output_type": "stream",
     "text": [
      "Processing queries (generate or skip): 624it [08:23,  1.24it/s]"
     ]
    },
    {
     "name": "stdout",
     "output_type": "stream",
     "text": [
      "Error generating for query 'How much do brokerages pay exchanges per trade?' (Attempt 1/5): API error occurred: Status 429\n",
      "{\"object\":\"error\",\"message\":\"Rate limit exceeded\",\"type\":\"rate_limited\",\"param\":null,\"code\":\"1300\"}\n",
      "Retrying in 1 seconds...\n"
     ]
    },
    {
     "name": "stderr",
     "output_type": "stream",
     "text": [
      "Processing queries (generate or skip): 626it [08:26,  1.11it/s]"
     ]
    },
    {
     "name": "stdout",
     "output_type": "stream",
     "text": [
      "Error generating for query 'Does a market maker sell (buy) at a bid or ask price?' (Attempt 1/5): API error occurred: Status 429\n",
      "{\"object\":\"error\",\"message\":\"Rate limit exceeded\",\"type\":\"rate_limited\",\"param\":null,\"code\":\"1300\"}\n",
      "Retrying in 1 seconds...\n"
     ]
    },
    {
     "name": "stderr",
     "output_type": "stream",
     "text": [
      "Processing queries (generate or skip): 628it [08:28,  1.12it/s]"
     ]
    },
    {
     "name": "stdout",
     "output_type": "stream",
     "text": [
      "Error generating for query 'What happens with the “long” buyer of a stock when somebody else's short fails (that is, unlimited loss bankrupts short seller)' (Attempt 1/5): API error occurred: Status 429\n",
      "{\"object\":\"error\",\"message\":\"Rate limit exceeded\",\"type\":\"rate_limited\",\"param\":null,\"code\":\"1300\"}\n",
      "Retrying in 1 seconds...\n"
     ]
    },
    {
     "name": "stderr",
     "output_type": "stream",
     "text": [
      "Processing queries (generate or skip): 630it [08:30,  1.07it/s]"
     ]
    },
    {
     "name": "stdout",
     "output_type": "stream",
     "text": [
      "Error generating for query 'Explain the details and benefits of rebalancing a retirement portfolio?' (Attempt 1/5): API error occurred: Status 429\n",
      "{\"object\":\"error\",\"message\":\"Rate limit exceeded\",\"type\":\"rate_limited\",\"param\":null,\"code\":\"1300\"}\n",
      "Retrying in 1 seconds...\n"
     ]
    },
    {
     "name": "stderr",
     "output_type": "stream",
     "text": [
      "Processing queries (generate or skip): 633it [08:32,  1.28it/s]"
     ]
    },
    {
     "name": "stdout",
     "output_type": "stream",
     "text": [
      "Error generating for query 'How do you translate a per year salary into a part-time per hour job?' (Attempt 1/5): API error occurred: Status 429\n",
      "{\"object\":\"error\",\"message\":\"Rate limit exceeded\",\"type\":\"rate_limited\",\"param\":null,\"code\":\"1300\"}\n",
      "Retrying in 1 seconds...\n"
     ]
    },
    {
     "name": "stderr",
     "output_type": "stream",
     "text": [
      "Processing queries (generate or skip): 635it [08:34,  1.15it/s]"
     ]
    },
    {
     "name": "stdout",
     "output_type": "stream",
     "text": [
      "Error generating for query 'What are a few sites that make it easy to invest in high interest rate mutual funds?' (Attempt 1/5): API error occurred: Status 429\n",
      "{\"object\":\"error\",\"message\":\"Rate limit exceeded\",\"type\":\"rate_limited\",\"param\":null,\"code\":\"1300\"}\n",
      "Retrying in 1 seconds...\n"
     ]
    },
    {
     "name": "stderr",
     "output_type": "stream",
     "text": [
      "Processing queries (generate or skip): 638it [08:37,  1.22it/s]"
     ]
    },
    {
     "name": "stdout",
     "output_type": "stream",
     "text": [
      "Error generating for query 'How much should I be contributing to my 401k given my employer's contribution?' (Attempt 1/5): API error occurred: Status 429\n",
      "{\"object\":\"error\",\"message\":\"Rate limit exceeded\",\"type\":\"rate_limited\",\"param\":null,\"code\":\"1300\"}\n",
      "Retrying in 1 seconds...\n"
     ]
    },
    {
     "name": "stderr",
     "output_type": "stream",
     "text": [
      "Processing queries (generate or skip): 640it [08:40,  1.09it/s]"
     ]
    },
    {
     "name": "stdout",
     "output_type": "stream",
     "text": [
      "Error generating for query 'Forex independent investments' (Attempt 1/5): API error occurred: Status 429\n",
      "{\"object\":\"error\",\"message\":\"Rate limit exceeded\",\"type\":\"rate_limited\",\"param\":null,\"code\":\"1300\"}\n",
      "Retrying in 1 seconds...\n"
     ]
    },
    {
     "name": "stderr",
     "output_type": "stream",
     "text": [
      "Processing queries (generate or skip): 642it [08:42,  1.06it/s]"
     ]
    },
    {
     "name": "stdout",
     "output_type": "stream",
     "text": [
      "Error generating for query 'How to contribute to Roth IRA when income is at the maximum limit & you have employer-sponsored 401k plans?' (Attempt 1/5): API error occurred: Status 429\n",
      "{\"object\":\"error\",\"message\":\"Rate limit exceeded\",\"type\":\"rate_limited\",\"param\":null,\"code\":\"1300\"}\n",
      "Retrying in 1 seconds...\n"
     ]
    },
    {
     "name": "stderr",
     "output_type": "stream",
     "text": [
      "Processing queries (generate or skip): 645it [08:44,  1.27it/s]"
     ]
    },
    {
     "name": "stdout",
     "output_type": "stream",
     "text": [
      "Error generating for query 'Pay off credit card debt or earn employer 401(k) match?' (Attempt 1/5): API error occurred: Status 429\n",
      "{\"object\":\"error\",\"message\":\"Rate limit exceeded\",\"type\":\"rate_limited\",\"param\":null,\"code\":\"1300\"}\n",
      "Retrying in 1 seconds...\n"
     ]
    },
    {
     "name": "stderr",
     "output_type": "stream",
     "text": [
      "Processing queries (generate or skip): 647it [08:47,  1.05it/s]"
     ]
    },
    {
     "name": "stdout",
     "output_type": "stream",
     "text": [
      "Error generating for query 'Am I required to have a lawyer create / oversee creation of my will?' (Attempt 1/5): API error occurred: Status 429\n",
      "{\"object\":\"error\",\"message\":\"Rate limit exceeded\",\"type\":\"rate_limited\",\"param\":null,\"code\":\"1300\"}\n",
      "Retrying in 1 seconds...\n"
     ]
    },
    {
     "name": "stderr",
     "output_type": "stream",
     "text": [
      "Processing queries (generate or skip): 648it [08:49,  1.22it/s]"
     ]
    },
    {
     "name": "stdout",
     "output_type": "stream",
     "text": [
      "Document generation complete. Results saved in: ../doc_gen/rag_fusion/generated_documents_fiqa.jsonl\n"
     ]
    },
    {
     "name": "stderr",
     "output_type": "stream",
     "text": [
      "\n"
     ]
    }
   ],
   "source": [
    "fusion_rag.save_generated_docs('../doc_gen/rag_fusion/')"
   ]
  },
  {
   "cell_type": "code",
   "execution_count": 11,
   "id": "df59a167",
   "metadata": {},
   "outputs": [
    {
     "name": "stderr",
     "output_type": "stream",
     "text": [
      "obteniendo embedding de todos los doc generados: 100%|██████████| 648/648 [00:35<00:00, 18.08it/s]\n",
      "obteniendo resultados contriever: 648it [00:03, 196.25it/s]\n",
      "obteniendo resultados contriever: 648it [00:03, 212.02it/s]\n",
      "obteniendo resultados contriever: 648it [00:03, 212.70it/s]\n",
      "obteniendo resultados contriever: 648it [00:03, 212.11it/s]\n",
      "obteniendo resultados contriever_ft: 648it [00:03, 214.49it/s]\n",
      "obteniendo resultados contriever_ft: 648it [00:02, 235.81it/s]\n",
      "obteniendo resultados contriever_ft: 648it [00:02, 237.66it/s]\n",
      "obteniendo resultados contriever_ft: 648it [00:02, 238.14it/s]\n",
      "obteniendo resultados dpr: 648it [00:02, 228.51it/s]\n",
      "obteniendo resultados dpr: 648it [00:02, 238.15it/s]\n",
      "obteniendo resultados dpr: 648it [00:02, 238.02it/s]\n",
      "obteniendo resultados dpr: 648it [00:02, 238.08it/s]\n",
      "obteniendo resultados bge_large: 648it [00:03, 195.56it/s]\n",
      "obteniendo resultados bge_large: 648it [00:03, 206.33it/s]\n",
      "obteniendo resultados bge_large: 648it [00:03, 206.00it/s]\n",
      "obteniendo resultados bge_large: 648it [00:03, 205.74it/s]\n",
      "obteniendo resultados gte_large: 648it [00:03, 194.91it/s]\n",
      "obteniendo resultados gte_large: 648it [00:03, 200.12it/s]\n",
      "obteniendo resultados gte_large: 648it [00:03, 200.16it/s]\n",
      "obteniendo resultados gte_large: 648it [00:03, 199.96it/s]\n",
      "obteniendo resultados sparse_bm25: 648it [00:02, 277.52it/s]\n",
      "obteniendo resultados sparse_bm25: 648it [00:01, 328.77it/s]\n",
      "obteniendo resultados sparse_bm25: 648it [00:01, 337.13it/s]\n",
      "obteniendo resultados sparse_bm25: 648it [00:01, 426.33it/s]\n"
     ]
    }
   ],
   "source": [
    "fusion_rag.get_results_from_jsonl_rag_fusion(path_doc_gen=f'../doc_gen/rag_fusion/generated_documents_{dataset_name}.jsonl', path=f'../results/rag_fusion/{dataset_name}/',batch_size=32, top_k=10)"
   ]
  },
  {
   "cell_type": "code",
   "execution_count": 12,
   "id": "c7927230",
   "metadata": {},
   "outputs": [
    {
     "name": "stdout",
     "output_type": "stream",
     "text": [
      "fiqa\n"
     ]
    },
    {
     "data": {
      "application/vnd.jupyter.widget-view+json": {
       "model_id": "809aa8b4121545ed9960ebdd99518125",
       "version_major": 2,
       "version_minor": 0
      },
      "text/plain": [
       "  0%|          | 0/57638 [00:00<?, ?it/s]"
      ]
     },
     "metadata": {},
     "output_type": "display_data"
    },
    {
     "name": "stdout",
     "output_type": "stream",
     "text": [
      "Calculando metricas de results_contriever_ft.json\n",
      "  Métricas guardadas en: ../metrics/rag_fusion/fiqa/results_contriever_ft.json\n",
      "Calculando metricas de results_bge_large.json\n",
      "  Métricas guardadas en: ../metrics/rag_fusion/fiqa/results_bge_large.json\n",
      "Calculando metricas de results_dpr.json\n",
      "  Métricas guardadas en: ../metrics/rag_fusion/fiqa/results_dpr.json\n",
      "Calculando metricas de results_contriever.json\n",
      "  Métricas guardadas en: ../metrics/rag_fusion/fiqa/results_contriever.json\n",
      "Calculando metricas de results_gte_large.json\n",
      "  Métricas guardadas en: ../metrics/rag_fusion/fiqa/results_gte_large.json\n",
      "Calculando metricas de results_sparse_bm25.json\n",
      "  Métricas guardadas en: ../metrics/rag_fusion/fiqa/results_sparse_bm25.json\n"
     ]
    }
   ],
   "source": [
    "from kdir_src.utils.evaluation import evaluate_all_results\n",
    "evaluate_all_results(f'../results/rag_fusion/{dataset_name}')"
   ]
  },
  {
   "cell_type": "markdown",
   "id": "e68e14bd",
   "metadata": {},
   "source": [
    "## SCIDOCS"
   ]
  },
  {
   "cell_type": "code",
   "execution_count": 13,
   "id": "acca795c",
   "metadata": {},
   "outputs": [],
   "source": [
    "KEY = 'jTrxtC1mqMP1Lj9aMg8fvexSh2xDgZC4'\n",
    "dataset_name = 'scidocs'\n",
    "promptor = Promptor(dataset_name)\n",
    "generator = MistralGenerator('mistral-small-2503', KEY, 4)\n",
    "#encoder_models = load_models()\n",
    "fusion_rag = RAG_fusion(dataset_name,promptor, generator, encoder_models)"
   ]
  },
  {
   "cell_type": "code",
   "execution_count": 15,
   "id": "84faa289",
   "metadata": {},
   "outputs": [
    {
     "data": {
      "application/vnd.jupyter.widget-view+json": {
       "model_id": "bd31de1ba4f447b09fca96d26275f637",
       "version_major": 2,
       "version_minor": 0
      },
      "text/plain": [
       "  0%|          | 0/25657 [00:00<?, ?it/s]"
      ]
     },
     "metadata": {},
     "output_type": "display_data"
    },
    {
     "name": "stderr",
     "output_type": "stream",
     "text": [
      "Procesando queries: 100%|██████████| 1000/1000 [00:00<00:00, 4036866.22it/s]\n"
     ]
    },
    {
     "name": "stdout",
     "output_type": "stream",
     "text": [
      "Found 60 previously generated documents in '../doc_gen/rag_fusion/generated_documents_scidocs.jsonl'.\n"
     ]
    },
    {
     "name": "stderr",
     "output_type": "stream",
     "text": [
      "Processing queries (generate or skip): 114it [00:34,  1.55it/s]"
     ]
    },
    {
     "name": "stdout",
     "output_type": "stream",
     "text": [
      "Error generating for query 'Eyeriss: a spatial architecture for energy-efficient dataflow for convolutional neural networks' (Attempt 1/5): API error occurred: Status 429\n",
      "{\"object\":\"error\",\"message\":\"Rate limit exceeded\",\"type\":\"rate_limited\",\"param\":null,\"code\":\"1300\"}\n",
      "Retrying in 1 seconds...\n"
     ]
    },
    {
     "name": "stderr",
     "output_type": "stream",
     "text": [
      "Processing queries (generate or skip): 117it [00:37,  1.29it/s]"
     ]
    },
    {
     "name": "stdout",
     "output_type": "stream",
     "text": [
      "Error generating for query 'Computation offloading for mobile edge computing: A deep learning approach' (Attempt 1/5): API error occurred: Status 429\n",
      "{\"object\":\"error\",\"message\":\"Rate limit exceeded\",\"type\":\"rate_limited\",\"param\":null,\"code\":\"1300\"}\n",
      "Retrying in 1 seconds...\n"
     ]
    },
    {
     "name": "stderr",
     "output_type": "stream",
     "text": [
      "Processing queries (generate or skip): 121it [00:41,  1.21it/s]"
     ]
    },
    {
     "name": "stdout",
     "output_type": "stream",
     "text": [
      "Error generating for query 'An Intelligent Anti-phishing Strategy Model for Phishing Website Detection' (Attempt 1/5): API error occurred: Status 429\n",
      "{\"object\":\"error\",\"message\":\"Rate limit exceeded\",\"type\":\"rate_limited\",\"param\":null,\"code\":\"1300\"}\n",
      "Retrying in 1 seconds...\n"
     ]
    },
    {
     "name": "stderr",
     "output_type": "stream",
     "text": [
      "Processing queries (generate or skip): 125it [00:45,  1.26it/s]"
     ]
    },
    {
     "name": "stdout",
     "output_type": "stream",
     "text": [
      "Error generating for query 'Immune System Based Intrusion Detection System' (Attempt 1/5): API error occurred: Status 429\n",
      "{\"object\":\"error\",\"message\":\"Rate limit exceeded\",\"type\":\"rate_limited\",\"param\":null,\"code\":\"1300\"}\n",
      "Retrying in 1 seconds...\n"
     ]
    },
    {
     "name": "stderr",
     "output_type": "stream",
     "text": [
      "Processing queries (generate or skip): 129it [00:49,  1.10it/s]"
     ]
    },
    {
     "name": "stdout",
     "output_type": "stream",
     "text": [
      "Error generating for query 'Provable data possession at untrusted stores' (Attempt 1/5): API error occurred: Status 429\n",
      "{\"object\":\"error\",\"message\":\"Rate limit exceeded\",\"type\":\"rate_limited\",\"param\":null,\"code\":\"1300\"}\n",
      "Retrying in 1 seconds...\n"
     ]
    },
    {
     "name": "stderr",
     "output_type": "stream",
     "text": [
      "Processing queries (generate or skip): 132it [00:52,  1.14it/s]"
     ]
    },
    {
     "name": "stdout",
     "output_type": "stream",
     "text": [
      "Error generating for query 'Personalized Recommendation for Online Social Networks Information: Personal Preferences and Location-Based Community Trends' (Attempt 1/5): API error occurred: Status 429\n",
      "{\"object\":\"error\",\"message\":\"Rate limit exceeded\",\"type\":\"rate_limited\",\"param\":null,\"code\":\"1300\"}\n",
      "Retrying in 1 seconds...\n"
     ]
    },
    {
     "name": "stderr",
     "output_type": "stream",
     "text": [
      "Processing queries (generate or skip): 137it [00:57,  1.31it/s]"
     ]
    },
    {
     "name": "stdout",
     "output_type": "stream",
     "text": [
      "Error generating for query 'Using contours to detect and localize junctions in natural images' (Attempt 1/5): API error occurred: Status 429\n",
      "{\"object\":\"error\",\"message\":\"Rate limit exceeded\",\"type\":\"rate_limited\",\"param\":null,\"code\":\"1300\"}\n",
      "Retrying in 1 seconds...\n"
     ]
    },
    {
     "name": "stderr",
     "output_type": "stream",
     "text": [
      "Processing queries (generate or skip): 139it [00:59,  1.12it/s]"
     ]
    },
    {
     "name": "stdout",
     "output_type": "stream",
     "text": [
      "Error generating for query 'Serving Deep Learning Models in a Serverless Platform' (Attempt 1/5): API error occurred: Status 429\n",
      "{\"object\":\"error\",\"message\":\"Rate limit exceeded\",\"type\":\"rate_limited\",\"param\":null,\"code\":\"1300\"}\n",
      "Retrying in 1 seconds...\n"
     ]
    },
    {
     "name": "stderr",
     "output_type": "stream",
     "text": [
      "Processing queries (generate or skip): 143it [01:04,  1.16it/s]"
     ]
    },
    {
     "name": "stdout",
     "output_type": "stream",
     "text": [
      "Error generating for query 'Motion, emotion and empathy in esthetic experience' (Attempt 1/5): API error occurred: Status 429\n",
      "{\"object\":\"error\",\"message\":\"Rate limit exceeded\",\"type\":\"rate_limited\",\"param\":null,\"code\":\"1300\"}\n",
      "Retrying in 1 seconds...\n"
     ]
    },
    {
     "name": "stderr",
     "output_type": "stream",
     "text": [
      "Processing queries (generate or skip): 146it [01:06,  1.23it/s]"
     ]
    },
    {
     "name": "stdout",
     "output_type": "stream",
     "text": [
      "Error generating for query 'MapReduce-based deep learning with handwritten digit recognition case study' (Attempt 1/5): API error occurred: Status 429\n",
      "{\"object\":\"error\",\"message\":\"Rate limit exceeded\",\"type\":\"rate_limited\",\"param\":null,\"code\":\"1300\"}\n",
      "Retrying in 1 seconds...\n"
     ]
    },
    {
     "name": "stderr",
     "output_type": "stream",
     "text": [
      "Processing queries (generate or skip): 149it [01:09,  1.14it/s]"
     ]
    },
    {
     "name": "stdout",
     "output_type": "stream",
     "text": [
      "Error generating for query 'GeoDa web: enhancing web-based mapping with spatial analytics' (Attempt 1/5): API error occurred: Status 429\n",
      "{\"object\":\"error\",\"message\":\"Rate limit exceeded\",\"type\":\"rate_limited\",\"param\":null,\"code\":\"1300\"}\n",
      "Retrying in 1 seconds...\n"
     ]
    },
    {
     "name": "stderr",
     "output_type": "stream",
     "text": [
      "Processing queries (generate or skip): 152it [01:12,  1.14it/s]"
     ]
    },
    {
     "name": "stdout",
     "output_type": "stream",
     "text": [
      "Error generating for query 'Phase-functioned neural networks for character control' (Attempt 1/5): API error occurred: Status 429\n",
      "{\"object\":\"error\",\"message\":\"Rate limit exceeded\",\"type\":\"rate_limited\",\"param\":null,\"code\":\"1300\"}\n",
      "Retrying in 1 seconds...\n"
     ]
    },
    {
     "name": "stderr",
     "output_type": "stream",
     "text": [
      "Processing queries (generate or skip): 155it [01:15,  1.21it/s]"
     ]
    },
    {
     "name": "stdout",
     "output_type": "stream",
     "text": [
      "Error generating for query 'PD control with on-line gravity compensation for robots with elastic joints: Theory and experiments' (Attempt 1/5): API error occurred: Status 429\n",
      "{\"object\":\"error\",\"message\":\"Rate limit exceeded\",\"type\":\"rate_limited\",\"param\":null,\"code\":\"1300\"}\n",
      "Retrying in 1 seconds...\n"
     ]
    },
    {
     "name": "stderr",
     "output_type": "stream",
     "text": [
      "Processing queries (generate or skip): 158it [01:18,  1.19it/s]"
     ]
    },
    {
     "name": "stdout",
     "output_type": "stream",
     "text": [
      "Error generating for query 'rev.ng: a unified binary analysis framework to recover CFGs and function boundaries' (Attempt 1/5): API error occurred: Status 429\n",
      "{\"object\":\"error\",\"message\":\"Rate limit exceeded\",\"type\":\"rate_limited\",\"param\":null,\"code\":\"1300\"}\n",
      "Retrying in 1 seconds...\n"
     ]
    },
    {
     "name": "stderr",
     "output_type": "stream",
     "text": [
      "Processing queries (generate or skip): 161it [01:21,  1.18it/s]"
     ]
    },
    {
     "name": "stdout",
     "output_type": "stream",
     "text": [
      "Error generating for query 'Mobile cloud sensing, big data, and 5G networks make an intelligent and smart world' (Attempt 1/5): API error occurred: Status 429\n",
      "{\"object\":\"error\",\"message\":\"Rate limit exceeded\",\"type\":\"rate_limited\",\"param\":null,\"code\":\"1300\"}\n",
      "Retrying in 1 seconds...\n"
     ]
    },
    {
     "name": "stderr",
     "output_type": "stream",
     "text": [
      "Processing queries (generate or skip): 164it [01:24,  1.14it/s]"
     ]
    },
    {
     "name": "stdout",
     "output_type": "stream",
     "text": [
      "Error generating for query 'SUBWORD LANGUAGE MODELING WITH NEURAL NETWORKS' (Attempt 1/5): API error occurred: Status 429\n",
      "{\"object\":\"error\",\"message\":\"Rate limit exceeded\",\"type\":\"rate_limited\",\"param\":null,\"code\":\"1300\"}\n",
      "Retrying in 1 seconds...\n"
     ]
    },
    {
     "name": "stderr",
     "output_type": "stream",
     "text": [
      "Processing queries (generate or skip): 167it [01:27,  1.21it/s]"
     ]
    },
    {
     "name": "stdout",
     "output_type": "stream",
     "text": [
      "Error generating for query 'Ensemble of exemplar-SVMs for object detection and beyond' (Attempt 1/5): API error occurred: Status 429\n",
      "{\"object\":\"error\",\"message\":\"Rate limit exceeded\",\"type\":\"rate_limited\",\"param\":null,\"code\":\"1300\"}\n",
      "Retrying in 1 seconds...\n"
     ]
    },
    {
     "name": "stderr",
     "output_type": "stream",
     "text": [
      "Processing queries (generate or skip): 170it [01:30,  1.16it/s]"
     ]
    },
    {
     "name": "stdout",
     "output_type": "stream",
     "text": [
      "Error generating for query 'Zebra: An East-West Control Framework for SDN Controllers' (Attempt 1/5): API error occurred: Status 429\n",
      "{\"object\":\"error\",\"message\":\"Rate limit exceeded\",\"type\":\"rate_limited\",\"param\":null,\"code\":\"1300\"}\n",
      "Retrying in 1 seconds...\n"
     ]
    },
    {
     "name": "stderr",
     "output_type": "stream",
     "text": [
      "Processing queries (generate or skip): 172it [01:33,  1.04it/s]"
     ]
    },
    {
     "name": "stdout",
     "output_type": "stream",
     "text": [
      "Error generating for query 'Chapter 1 . Principles of Synthetic Aperture Radar' (Attempt 1/5): API error occurred: Status 429\n",
      "{\"object\":\"error\",\"message\":\"Rate limit exceeded\",\"type\":\"rate_limited\",\"param\":null,\"code\":\"1300\"}\n",
      "Retrying in 1 seconds...\n"
     ]
    },
    {
     "name": "stderr",
     "output_type": "stream",
     "text": [
      "Processing queries (generate or skip): 175it [01:35,  1.13it/s]"
     ]
    },
    {
     "name": "stdout",
     "output_type": "stream",
     "text": [
      "Error generating for query 'IRSTLM: an open source toolkit for handling large scale language models' (Attempt 1/5): API error occurred: Status 429\n",
      "{\"object\":\"error\",\"message\":\"Rate limit exceeded\",\"type\":\"rate_limited\",\"param\":null,\"code\":\"1300\"}\n",
      "Retrying in 1 seconds...\n"
     ]
    },
    {
     "name": "stderr",
     "output_type": "stream",
     "text": [
      "Processing queries (generate or skip): 178it [01:39,  1.10it/s]"
     ]
    },
    {
     "name": "stdout",
     "output_type": "stream",
     "text": [
      "Error generating for query 'Electronic media use and adolescent health and well-being: cross-sectional community study.' (Attempt 1/5): API error occurred: Status 429\n",
      "{\"object\":\"error\",\"message\":\"Rate limit exceeded\",\"type\":\"rate_limited\",\"param\":null,\"code\":\"1300\"}\n",
      "Retrying in 1 seconds...\n"
     ]
    },
    {
     "name": "stderr",
     "output_type": "stream",
     "text": [
      "Processing queries (generate or skip): 181it [01:41,  1.17it/s]"
     ]
    },
    {
     "name": "stdout",
     "output_type": "stream",
     "text": [
      "Error generating for query 'The Enactive Approach to Architectural Experience: A Neurophysiological Perspective on Embodiment, Motivation, and Affordances' (Attempt 1/5): API error occurred: Status 429\n",
      "{\"object\":\"error\",\"message\":\"Rate limit exceeded\",\"type\":\"rate_limited\",\"param\":null,\"code\":\"1300\"}\n",
      "Retrying in 1 seconds...\n"
     ]
    },
    {
     "name": "stderr",
     "output_type": "stream",
     "text": [
      "Processing queries (generate or skip): 185it [01:45,  1.33it/s]"
     ]
    },
    {
     "name": "stdout",
     "output_type": "stream",
     "text": [
      "Error generating for query 'Characterizing conflicts in fair division of indivisible goods using a scale of criteria' (Attempt 1/5): API error occurred: Status 429\n",
      "{\"object\":\"error\",\"message\":\"Rate limit exceeded\",\"type\":\"rate_limited\",\"param\":null,\"code\":\"1300\"}\n",
      "Retrying in 1 seconds...\n"
     ]
    },
    {
     "name": "stderr",
     "output_type": "stream",
     "text": [
      "Processing queries (generate or skip): 187it [01:47,  1.09it/s]"
     ]
    },
    {
     "name": "stdout",
     "output_type": "stream",
     "text": [
      "Error generating for query 'Tracking Hands in Interaction with Objects: A Review' (Attempt 1/5): API error occurred: Status 429\n",
      "{\"object\":\"error\",\"message\":\"Rate limit exceeded\",\"type\":\"rate_limited\",\"param\":null,\"code\":\"1300\"}\n",
      "Retrying in 1 seconds...\n"
     ]
    },
    {
     "name": "stderr",
     "output_type": "stream",
     "text": [
      "Processing queries (generate or skip): 191it [01:51,  1.14it/s]"
     ]
    },
    {
     "name": "stdout",
     "output_type": "stream",
     "text": [
      "Error generating for query 'Control Flow Analysis for Reverse Engineering of Sequence Diagrams' (Attempt 1/5): API error occurred: Status 429\n",
      "{\"object\":\"error\",\"message\":\"Rate limit exceeded\",\"type\":\"rate_limited\",\"param\":null,\"code\":\"1300\"}\n",
      "Retrying in 1 seconds...\n"
     ]
    },
    {
     "name": "stderr",
     "output_type": "stream",
     "text": [
      "Processing queries (generate or skip): 194it [01:54,  1.17it/s]"
     ]
    },
    {
     "name": "stdout",
     "output_type": "stream",
     "text": [
      "Error generating for query 'A novel softplus linear unit for deep convolutional neural networks' (Attempt 1/5): API error occurred: Status 429\n",
      "{\"object\":\"error\",\"message\":\"Rate limit exceeded\",\"type\":\"rate_limited\",\"param\":null,\"code\":\"1300\"}\n",
      "Retrying in 1 seconds...\n"
     ]
    },
    {
     "name": "stderr",
     "output_type": "stream",
     "text": [
      "Processing queries (generate or skip): 197it [01:57,  1.18it/s]"
     ]
    },
    {
     "name": "stdout",
     "output_type": "stream",
     "text": [
      "Error generating for query 'DeepX: A Software Accelerator for Low-Power Deep Learning Inference on Mobile Devices' (Attempt 1/5): API error occurred: Status 429\n",
      "{\"object\":\"error\",\"message\":\"Rate limit exceeded\",\"type\":\"rate_limited\",\"param\":null,\"code\":\"1300\"}\n",
      "Retrying in 1 seconds...\n"
     ]
    },
    {
     "name": "stderr",
     "output_type": "stream",
     "text": [
      "Processing queries (generate or skip): 201it [02:01,  1.26it/s]"
     ]
    },
    {
     "name": "stdout",
     "output_type": "stream",
     "text": [
      "Error generating for query 'Phishing Website Detection based on Supervised Machine Learning with Wrapper Features Selection' (Attempt 1/5): API error occurred: Status 429\n",
      "{\"object\":\"error\",\"message\":\"Rate limit exceeded\",\"type\":\"rate_limited\",\"param\":null,\"code\":\"1300\"}\n",
      "Retrying in 1 seconds...\n"
     ]
    },
    {
     "name": "stderr",
     "output_type": "stream",
     "text": [
      "Processing queries (generate or skip): 203it [02:04,  1.10it/s]"
     ]
    },
    {
     "name": "stdout",
     "output_type": "stream",
     "text": [
      "Error generating for query 'Comparison of Approximate Methods for Handling Hyperparameters' (Attempt 1/5): API error occurred: Status 429\n",
      "{\"object\":\"error\",\"message\":\"Rate limit exceeded\",\"type\":\"rate_limited\",\"param\":null,\"code\":\"1300\"}\n",
      "Retrying in 1 seconds...\n"
     ]
    },
    {
     "name": "stderr",
     "output_type": "stream",
     "text": [
      "Processing queries (generate or skip): 207it [02:07,  1.19it/s]"
     ]
    },
    {
     "name": "stdout",
     "output_type": "stream",
     "text": [
      "Error generating for query 'The Analysis of Android Malware Behaviors' (Attempt 1/5): API error occurred: Status 429\n",
      "{\"object\":\"error\",\"message\":\"Rate limit exceeded\",\"type\":\"rate_limited\",\"param\":null,\"code\":\"1300\"}\n",
      "Retrying in 1 seconds...\n"
     ]
    },
    {
     "name": "stderr",
     "output_type": "stream",
     "text": [
      "Processing queries (generate or skip): 210it [02:10,  1.12it/s]"
     ]
    },
    {
     "name": "stdout",
     "output_type": "stream",
     "text": [
      "Error generating for query 'Global-Locally Self-Attentive Dialogue State Tracker' (Attempt 1/5): API error occurred: Status 429\n",
      "{\"object\":\"error\",\"message\":\"Rate limit exceeded\",\"type\":\"rate_limited\",\"param\":null,\"code\":\"1300\"}\n",
      "Retrying in 1 seconds...\n"
     ]
    },
    {
     "name": "stderr",
     "output_type": "stream",
     "text": [
      "Processing queries (generate or skip): 218it [02:18,  1.35it/s]"
     ]
    },
    {
     "name": "stdout",
     "output_type": "stream",
     "text": [
      "Error generating for query 'Tumor-associated copy number changes in the circulation of patients with prostate cancer identified through whole-genome sequencing' (Attempt 1/5): API error occurred: Status 429\n",
      "{\"object\":\"error\",\"message\":\"Rate limit exceeded\",\"type\":\"rate_limited\",\"param\":null,\"code\":\"1300\"}\n",
      "Retrying in 1 seconds...\n"
     ]
    },
    {
     "name": "stderr",
     "output_type": "stream",
     "text": [
      "Processing queries (generate or skip): 221it [02:21,  1.26it/s]"
     ]
    },
    {
     "name": "stdout",
     "output_type": "stream",
     "text": [
      "Error generating for query 'Data-Driven Networking : Harnessing the “ Unreasonable Effectiveness of Data ” in Network Design' (Attempt 1/5): API error occurred: Status 429\n",
      "{\"object\":\"error\",\"message\":\"Rate limit exceeded\",\"type\":\"rate_limited\",\"param\":null,\"code\":\"1300\"}\n",
      "Retrying in 1 seconds...\n"
     ]
    },
    {
     "name": "stderr",
     "output_type": "stream",
     "text": [
      "Processing queries (generate or skip): 224it [02:24,  1.26it/s]"
     ]
    },
    {
     "name": "stdout",
     "output_type": "stream",
     "text": [
      "Error generating for query 'WIR: Warp Instruction Reuse to Minimize Repeated Computations in GPUs' (Attempt 1/5): API error occurred: Status 429\n",
      "{\"object\":\"error\",\"message\":\"Rate limit exceeded\",\"type\":\"rate_limited\",\"param\":null,\"code\":\"1300\"}\n",
      "Retrying in 1 seconds...\n"
     ]
    },
    {
     "name": "stderr",
     "output_type": "stream",
     "text": [
      "Processing queries (generate or skip): 227it [02:27,  1.25it/s]"
     ]
    },
    {
     "name": "stdout",
     "output_type": "stream",
     "text": [
      "Error generating for query 'From Entity Recognition to Entity Linking: A Survey of Advanced Entity Linking Techniques (人工知能学会全国大会(第26回)文化,科学技術と未来) -- (International Organized Session「Special Session on Web Intelligence & Data Mining」)' (Attempt 1/5): API error occurred: Status 429\n",
      "{\"object\":\"error\",\"message\":\"Rate limit exceeded\",\"type\":\"rate_limited\",\"param\":null,\"code\":\"1300\"}\n",
      "Retrying in 1 seconds...\n"
     ]
    },
    {
     "name": "stderr",
     "output_type": "stream",
     "text": [
      "Processing queries (generate or skip): 230it [02:30,  1.11it/s]"
     ]
    },
    {
     "name": "stdout",
     "output_type": "stream",
     "text": [
      "Error generating for query 'Using MPTCP subflow association control for heterogeneous wireless network optimization' (Attempt 1/5): API error occurred: Status 429\n",
      "{\"object\":\"error\",\"message\":\"Rate limit exceeded\",\"type\":\"rate_limited\",\"param\":null,\"code\":\"1300\"}\n",
      "Retrying in 1 seconds...\n"
     ]
    },
    {
     "name": "stderr",
     "output_type": "stream",
     "text": [
      "Processing queries (generate or skip): 233it [02:33,  1.19it/s]"
     ]
    },
    {
     "name": "stdout",
     "output_type": "stream",
     "text": [
      "Error generating for query 'Development of an FPGA-Based SPWM Generator for High Switching Frequency DC/AC Inverters' (Attempt 1/5): API error occurred: Status 429\n",
      "{\"object\":\"error\",\"message\":\"Rate limit exceeded\",\"type\":\"rate_limited\",\"param\":null,\"code\":\"1300\"}\n",
      "Retrying in 1 seconds...\n"
     ]
    },
    {
     "name": "stderr",
     "output_type": "stream",
     "text": [
      "Processing queries (generate or skip): 237it [02:37,  1.20it/s]"
     ]
    },
    {
     "name": "stdout",
     "output_type": "stream",
     "text": [
      "Error generating for query 'In situ X-ray imaging of defect and molten pool dynamics in laser additive manufacturing' (Attempt 1/5): API error occurred: Status 429\n",
      "{\"object\":\"error\",\"message\":\"Rate limit exceeded\",\"type\":\"rate_limited\",\"param\":null,\"code\":\"1300\"}\n",
      "Retrying in 1 seconds...\n"
     ]
    },
    {
     "name": "stderr",
     "output_type": "stream",
     "text": [
      "Processing queries (generate or skip): 240it [02:40,  1.17it/s]"
     ]
    },
    {
     "name": "stdout",
     "output_type": "stream",
     "text": [
      "Error generating for query 'Early Prediction of Students' Grade Point Averages at Graduation: A Data Mining Approach.' (Attempt 1/5): API error occurred: Status 429\n",
      "{\"object\":\"error\",\"message\":\"Rate limit exceeded\",\"type\":\"rate_limited\",\"param\":null,\"code\":\"1300\"}\n",
      "Retrying in 1 seconds...\n"
     ]
    },
    {
     "name": "stderr",
     "output_type": "stream",
     "text": [
      "Processing queries (generate or skip): 243it [02:43,  1.18it/s]"
     ]
    },
    {
     "name": "stdout",
     "output_type": "stream",
     "text": [
      "Error generating for query 'A Multi-Sensorial Simultaneous Localization and Mapping (SLAM) System for Low-Cost Micro Aerial Vehicles in GPS-Denied Environments' (Attempt 1/5): API error occurred: Status 429\n",
      "{\"object\":\"error\",\"message\":\"Rate limit exceeded\",\"type\":\"rate_limited\",\"param\":null,\"code\":\"1300\"}\n",
      "Retrying in 1 seconds...\n"
     ]
    },
    {
     "name": "stderr",
     "output_type": "stream",
     "text": [
      "Processing queries (generate or skip): 246it [02:46,  1.16it/s]"
     ]
    },
    {
     "name": "stdout",
     "output_type": "stream",
     "text": [
      "Error generating for query 'The Case for a Visual Discovery Assistant: A Holistic Solution for Accelerating Visual Data Exploration' (Attempt 1/5): API error occurred: Status 429\n",
      "{\"object\":\"error\",\"message\":\"Rate limit exceeded\",\"type\":\"rate_limited\",\"param\":null,\"code\":\"1300\"}\n",
      "Retrying in 1 seconds...\n"
     ]
    },
    {
     "name": "stderr",
     "output_type": "stream",
     "text": [
      "Processing queries (generate or skip): 249it [02:49,  1.14it/s]"
     ]
    },
    {
     "name": "stdout",
     "output_type": "stream",
     "text": [
      "Error generating for query 'On matching latent fingerprints' (Attempt 1/5): API error occurred: Status 429\n",
      "{\"object\":\"error\",\"message\":\"Rate limit exceeded\",\"type\":\"rate_limited\",\"param\":null,\"code\":\"1300\"}\n",
      "Retrying in 1 seconds...\n"
     ]
    },
    {
     "name": "stderr",
     "output_type": "stream",
     "text": [
      "Processing queries (generate or skip): 256it [02:56,  1.50it/s]"
     ]
    },
    {
     "name": "stdout",
     "output_type": "stream",
     "text": [
      "Error generating for query 'Cross-domain Feature Selection for Language Identification' (Attempt 1/5): API error occurred: Status 429\n",
      "{\"object\":\"error\",\"message\":\"Rate limit exceeded\",\"type\":\"rate_limited\",\"param\":null,\"code\":\"1300\"}\n",
      "Retrying in 1 seconds...\n"
     ]
    },
    {
     "name": "stderr",
     "output_type": "stream",
     "text": [
      "Processing queries (generate or skip): 259it [02:59,  1.23it/s]"
     ]
    },
    {
     "name": "stdout",
     "output_type": "stream",
     "text": [
      "Error generating for query 'Semi-Supervised Image-to-Video Adaptation for Video Action Recognition' (Attempt 1/5): API error occurred: Status 429\n",
      "{\"object\":\"error\",\"message\":\"Rate limit exceeded\",\"type\":\"rate_limited\",\"param\":null,\"code\":\"1300\"}\n",
      "Retrying in 1 seconds...\n"
     ]
    },
    {
     "name": "stderr",
     "output_type": "stream",
     "text": [
      "Processing queries (generate or skip): 263it [03:03,  1.17it/s]"
     ]
    },
    {
     "name": "stdout",
     "output_type": "stream",
     "text": [
      "Error generating for query 'Intent-based recommendation for B2C e-commerce platforms' (Attempt 1/5): API error occurred: Status 429\n",
      "{\"object\":\"error\",\"message\":\"Rate limit exceeded\",\"type\":\"rate_limited\",\"param\":null,\"code\":\"1300\"}\n",
      "Retrying in 1 seconds...\n"
     ]
    },
    {
     "name": "stderr",
     "output_type": "stream",
     "text": [
      "Processing queries (generate or skip): 272it [03:12,  1.35it/s]"
     ]
    },
    {
     "name": "stdout",
     "output_type": "stream",
     "text": [
      "Error generating for query 'A Survey on Applications of Augmented Reality' (Attempt 1/5): API error occurred: Status 429\n",
      "{\"object\":\"error\",\"message\":\"Rate limit exceeded\",\"type\":\"rate_limited\",\"param\":null,\"code\":\"1300\"}\n",
      "Retrying in 1 seconds...\n"
     ]
    },
    {
     "name": "stderr",
     "output_type": "stream",
     "text": [
      "Processing queries (generate or skip): 281it [03:21,  1.35it/s]"
     ]
    },
    {
     "name": "stdout",
     "output_type": "stream",
     "text": [
      "Error generating for query 'Memory-augmented Neural Machine Translation' (Attempt 1/5): API error occurred: Status 429\n",
      "{\"object\":\"error\",\"message\":\"Rate limit exceeded\",\"type\":\"rate_limited\",\"param\":null,\"code\":\"1300\"}\n",
      "Retrying in 1 seconds...\n"
     ]
    },
    {
     "name": "stderr",
     "output_type": "stream",
     "text": [
      "Processing queries (generate or skip): 283it [03:23,  1.14it/s]"
     ]
    },
    {
     "name": "stdout",
     "output_type": "stream",
     "text": [
      "Error generating for query 'Optimal Target Assignment and Path Finding for Teams of Agents' (Attempt 1/5): API error occurred: Status 429\n",
      "{\"object\":\"error\",\"message\":\"Rate limit exceeded\",\"type\":\"rate_limited\",\"param\":null,\"code\":\"1300\"}\n",
      "Retrying in 1 seconds...\n"
     ]
    },
    {
     "name": "stderr",
     "output_type": "stream",
     "text": [
      "Processing queries (generate or skip): 292it [03:32,  1.45it/s]"
     ]
    },
    {
     "name": "stdout",
     "output_type": "stream",
     "text": [
      "Error generating for query 'DIRECT GEOMETRY PROCESSING FOR TELE-FABRICATION' (Attempt 1/5): API error occurred: Status 429\n",
      "{\"object\":\"error\",\"message\":\"Rate limit exceeded\",\"type\":\"rate_limited\",\"param\":null,\"code\":\"1300\"}\n",
      "Retrying in 1 seconds...\n"
     ]
    },
    {
     "name": "stderr",
     "output_type": "stream",
     "text": [
      "Processing queries (generate or skip): 295it [03:35,  1.17it/s]"
     ]
    },
    {
     "name": "stdout",
     "output_type": "stream",
     "text": [
      "Error generating for query 'Learning Graphical Model Structure Using L1-Regularization Paths' (Attempt 1/5): API error occurred: Status 429\n",
      "{\"object\":\"error\",\"message\":\"Rate limit exceeded\",\"type\":\"rate_limited\",\"param\":null,\"code\":\"1300\"}\n",
      "Retrying in 1 seconds...\n"
     ]
    },
    {
     "name": "stderr",
     "output_type": "stream",
     "text": [
      "Processing queries (generate or skip): 298it [03:38,  1.18it/s]"
     ]
    },
    {
     "name": "stdout",
     "output_type": "stream",
     "text": [
      "Error generating for query 'Online and batch learning of pseudo-metrics' (Attempt 1/5): API error occurred: Status 429\n",
      "{\"object\":\"error\",\"message\":\"Rate limit exceeded\",\"type\":\"rate_limited\",\"param\":null,\"code\":\"1300\"}\n",
      "Retrying in 1 seconds...\n"
     ]
    },
    {
     "name": "stderr",
     "output_type": "stream",
     "text": [
      "Processing queries (generate or skip): 304it [03:44,  1.26it/s]"
     ]
    },
    {
     "name": "stdout",
     "output_type": "stream",
     "text": [
      "Error generating for query 'Bio inspired computing - A review of algorithms and scope of applications' (Attempt 1/5): API error occurred: Status 429\n",
      "{\"object\":\"error\",\"message\":\"Rate limit exceeded\",\"type\":\"rate_limited\",\"param\":null,\"code\":\"1300\"}\n",
      "Retrying in 1 seconds...\n"
     ]
    },
    {
     "name": "stderr",
     "output_type": "stream",
     "text": [
      "Processing queries (generate or skip): 308it [03:48,  1.08it/s]"
     ]
    },
    {
     "name": "stdout",
     "output_type": "stream",
     "text": [
      "Error generating for query 'City, self, network: transnational migrants and online identity work' (Attempt 1/5): API error occurred: Status 429\n",
      "{\"object\":\"error\",\"message\":\"Rate limit exceeded\",\"type\":\"rate_limited\",\"param\":null,\"code\":\"1300\"}\n",
      "Retrying in 1 seconds...\n"
     ]
    },
    {
     "name": "stderr",
     "output_type": "stream",
     "text": [
      "Processing queries (generate or skip): 311it [03:51,  1.15it/s]"
     ]
    },
    {
     "name": "stdout",
     "output_type": "stream",
     "text": [
      "Error generating for query 'Multi-task Domain Adaptation for Sequence Tagging' (Attempt 1/5): API error occurred: Status 429\n",
      "{\"object\":\"error\",\"message\":\"Rate limit exceeded\",\"type\":\"rate_limited\",\"param\":null,\"code\":\"1300\"}\n",
      "Retrying in 1 seconds...\n"
     ]
    },
    {
     "name": "stderr",
     "output_type": "stream",
     "text": [
      "Processing queries (generate or skip): 314it [03:54,  1.14it/s]"
     ]
    },
    {
     "name": "stdout",
     "output_type": "stream",
     "text": [
      "Error generating for query 'A MATLAB-based tool for EV-design' (Attempt 1/5): API error occurred: Status 429\n",
      "{\"object\":\"error\",\"message\":\"Rate limit exceeded\",\"type\":\"rate_limited\",\"param\":null,\"code\":\"1300\"}\n",
      "Retrying in 1 seconds...\n"
     ]
    },
    {
     "name": "stderr",
     "output_type": "stream",
     "text": [
      "Processing queries (generate or skip): 317it [03:57,  1.22it/s]"
     ]
    },
    {
     "name": "stdout",
     "output_type": "stream",
     "text": [
      "Error generating for query 'Communication Efficient Distributed Machine Learning with the Parameter Server' (Attempt 1/5): API error occurred: Status 429\n",
      "{\"object\":\"error\",\"message\":\"Rate limit exceeded\",\"type\":\"rate_limited\",\"param\":null,\"code\":\"1300\"}\n",
      "Retrying in 1 seconds...\n"
     ]
    },
    {
     "name": "stderr",
     "output_type": "stream",
     "text": [
      "Processing queries (generate or skip): 320it [04:00,  1.12it/s]"
     ]
    },
    {
     "name": "stdout",
     "output_type": "stream",
     "text": [
      "Error generating for query 'Incremental visual text analytics of news story development' (Attempt 1/5): API error occurred: Status 429\n",
      "{\"object\":\"error\",\"message\":\"Rate limit exceeded\",\"type\":\"rate_limited\",\"param\":null,\"code\":\"1300\"}\n",
      "Retrying in 1 seconds...\n"
     ]
    },
    {
     "name": "stderr",
     "output_type": "stream",
     "text": [
      "Processing queries (generate or skip): 324it [04:04,  1.23it/s]"
     ]
    },
    {
     "name": "stdout",
     "output_type": "stream",
     "text": [
      "Error generating for query 'Exploring venue popularity in foursquare' (Attempt 1/5): API error occurred: Status 429\n",
      "{\"object\":\"error\",\"message\":\"Rate limit exceeded\",\"type\":\"rate_limited\",\"param\":null,\"code\":\"1300\"}\n",
      "Retrying in 1 seconds...\n"
     ]
    },
    {
     "name": "stderr",
     "output_type": "stream",
     "text": [
      "Processing queries (generate or skip): 326it [04:06,  1.08it/s]"
     ]
    },
    {
     "name": "stdout",
     "output_type": "stream",
     "text": [
      "Error generating for query 'Novel Density-Based Clustering Algorithms for Uncertain Data' (Attempt 1/5): API error occurred: Status 429\n",
      "{\"object\":\"error\",\"message\":\"Rate limit exceeded\",\"type\":\"rate_limited\",\"param\":null,\"code\":\"1300\"}\n",
      "Retrying in 1 seconds...\n"
     ]
    },
    {
     "name": "stderr",
     "output_type": "stream",
     "text": [
      "Processing queries (generate or skip): 330it [04:10,  1.24it/s]"
     ]
    },
    {
     "name": "stdout",
     "output_type": "stream",
     "text": [
      "Error generating for query 'Research on data mining models for the internet of things' (Attempt 1/5): API error occurred: Status 429\n",
      "{\"object\":\"error\",\"message\":\"Rate limit exceeded\",\"type\":\"rate_limited\",\"param\":null,\"code\":\"1300\"}\n",
      "Retrying in 1 seconds...\n"
     ]
    },
    {
     "name": "stderr",
     "output_type": "stream",
     "text": [
      "Processing queries (generate or skip): 333it [04:14,  1.03it/s]"
     ]
    },
    {
     "name": "stdout",
     "output_type": "stream",
     "text": [
      "Error generating for query 'A 5-GHz fully integrated full PMOS low-phase-noise LC VCO' (Attempt 1/5): API error occurred: Status 429\n",
      "{\"object\":\"error\",\"message\":\"Rate limit exceeded\",\"type\":\"rate_limited\",\"param\":null,\"code\":\"1300\"}\n",
      "Retrying in 1 seconds...\n"
     ]
    },
    {
     "name": "stderr",
     "output_type": "stream",
     "text": [
      "Processing queries (generate or skip): 337it [04:17,  1.22it/s]"
     ]
    },
    {
     "name": "stdout",
     "output_type": "stream",
     "text": [
      "Error generating for query 'Attacks on State-of-the-Art Face Recognition using Attentional Adversarial Attack Generative Network' (Attempt 1/5): API error occurred: Status 429\n",
      "{\"object\":\"error\",\"message\":\"Rate limit exceeded\",\"type\":\"rate_limited\",\"param\":null,\"code\":\"1300\"}\n",
      "Retrying in 1 seconds...\n"
     ]
    },
    {
     "name": "stderr",
     "output_type": "stream",
     "text": [
      "Processing queries (generate or skip): 341it [04:21,  1.21it/s]"
     ]
    },
    {
     "name": "stdout",
     "output_type": "stream",
     "text": [
      "Error generating for query 'Design and simulation of a four-arm hemispherical helix antenna realized through a stacked printed circuit board structure' (Attempt 1/5): API error occurred: Status 429\n",
      "{\"object\":\"error\",\"message\":\"Rate limit exceeded\",\"type\":\"rate_limited\",\"param\":null,\"code\":\"1300\"}\n",
      "Retrying in 1 seconds...\n"
     ]
    },
    {
     "name": "stderr",
     "output_type": "stream",
     "text": [
      "Processing queries (generate or skip): 344it [04:24,  1.21it/s]"
     ]
    },
    {
     "name": "stdout",
     "output_type": "stream",
     "text": [
      "Error generating for query 'A 64-Element 28-GHz Phased-Array Transceiver With 52-dBm EIRP and 8–12-Gb/s 5G Link at 300 Meters Without Any Calibration' (Attempt 1/5): API error occurred: Status 429\n",
      "{\"object\":\"error\",\"message\":\"Rate limit exceeded\",\"type\":\"rate_limited\",\"param\":null,\"code\":\"1300\"}\n",
      "Retrying in 1 seconds...\n"
     ]
    },
    {
     "name": "stderr",
     "output_type": "stream",
     "text": [
      "Processing queries (generate or skip): 348it [04:29,  1.15it/s]"
     ]
    },
    {
     "name": "stdout",
     "output_type": "stream",
     "text": [
      "Error generating for query 'SPAM E-MAIL DETECTION USING CLASSIFIERS AND ADABOOST TECHNIQUE' (Attempt 1/5): API error occurred: Status 429\n",
      "{\"object\":\"error\",\"message\":\"Rate limit exceeded\",\"type\":\"rate_limited\",\"param\":null,\"code\":\"1300\"}\n",
      "Retrying in 1 seconds...\n"
     ]
    },
    {
     "name": "stderr",
     "output_type": "stream",
     "text": [
      "Processing queries (generate or skip): 352it [04:32,  1.27it/s]"
     ]
    },
    {
     "name": "stdout",
     "output_type": "stream",
     "text": [
      "Error generating for query 'Smart irrigation with embedded system' (Attempt 1/5): API error occurred: Status 429\n",
      "{\"object\":\"error\",\"message\":\"Rate limit exceeded\",\"type\":\"rate_limited\",\"param\":null,\"code\":\"1300\"}\n",
      "Retrying in 1 seconds...\n"
     ]
    },
    {
     "name": "stderr",
     "output_type": "stream",
     "text": [
      "Processing queries (generate or skip): 355it [04:35,  1.23it/s]"
     ]
    },
    {
     "name": "stdout",
     "output_type": "stream",
     "text": [
      "Error generating for query 'Feature Extraction and Duplicate Detection for Text Mining : A Survey' (Attempt 1/5): API error occurred: Status 429\n",
      "{\"object\":\"error\",\"message\":\"Rate limit exceeded\",\"type\":\"rate_limited\",\"param\":null,\"code\":\"1300\"}\n",
      "Retrying in 1 seconds...\n"
     ]
    },
    {
     "name": "stderr",
     "output_type": "stream",
     "text": [
      "Processing queries (generate or skip): 358it [04:38,  1.11it/s]"
     ]
    },
    {
     "name": "stdout",
     "output_type": "stream",
     "text": [
      "Error generating for query 'A Dual Prediction Network for Image Captioning' (Attempt 1/5): API error occurred: Status 429\n",
      "{\"object\":\"error\",\"message\":\"Rate limit exceeded\",\"type\":\"rate_limited\",\"param\":null,\"code\":\"1300\"}\n",
      "Retrying in 1 seconds...\n"
     ]
    },
    {
     "name": "stderr",
     "output_type": "stream",
     "text": [
      "Processing queries (generate or skip): 361it [04:41,  1.14it/s]"
     ]
    },
    {
     "name": "stdout",
     "output_type": "stream",
     "text": [
      "Error generating for query 'Question Answering in the Context of Stories Generated by Computers' (Attempt 1/5): API error occurred: Status 429\n",
      "{\"object\":\"error\",\"message\":\"Rate limit exceeded\",\"type\":\"rate_limited\",\"param\":null,\"code\":\"1300\"}\n",
      "Retrying in 1 seconds...\n"
     ]
    },
    {
     "name": "stderr",
     "output_type": "stream",
     "text": [
      "Processing queries (generate or skip): 366it [04:46,  1.24it/s]"
     ]
    },
    {
     "name": "stdout",
     "output_type": "stream",
     "text": [
      "Error generating for query 'DeepLogic: End-to-End Logical Reasoning' (Attempt 1/5): API error occurred: Status 429\n",
      "{\"object\":\"error\",\"message\":\"Rate limit exceeded\",\"type\":\"rate_limited\",\"param\":null,\"code\":\"1300\"}\n",
      "Retrying in 1 seconds...\n"
     ]
    },
    {
     "name": "stderr",
     "output_type": "stream",
     "text": [
      "Processing queries (generate or skip): 369it [04:49,  1.19it/s]"
     ]
    },
    {
     "name": "stdout",
     "output_type": "stream",
     "text": [
      "Error generating for query 'A least squares support vector machine model optimized by moth-flame optimization algorithm for annual power load forecasting' (Attempt 1/5): API error occurred: Status 429\n",
      "{\"object\":\"error\",\"message\":\"Rate limit exceeded\",\"type\":\"rate_limited\",\"param\":null,\"code\":\"1300\"}\n",
      "Retrying in 1 seconds...\n"
     ]
    },
    {
     "name": "stderr",
     "output_type": "stream",
     "text": [
      "Processing queries (generate or skip): 372it [04:52,  1.22it/s]"
     ]
    },
    {
     "name": "stdout",
     "output_type": "stream",
     "text": [
      "Error generating for query 'A 65 nm CMOS 4-Element Sub-34 mW/Element 60 GHz Phased-Array Transceiver' (Attempt 1/5): API error occurred: Status 429\n",
      "{\"object\":\"error\",\"message\":\"Rate limit exceeded\",\"type\":\"rate_limited\",\"param\":null,\"code\":\"1300\"}\n",
      "Retrying in 1 seconds...\n"
     ]
    },
    {
     "name": "stderr",
     "output_type": "stream",
     "text": [
      "Processing queries (generate or skip): 376it [04:56,  1.22it/s]"
     ]
    },
    {
     "name": "stdout",
     "output_type": "stream",
     "text": [
      "Error generating for query 'A framework for 3D visualisation and manipulation in an immersive space using an untethered bimanual gestural interface' (Attempt 1/5): API error occurred: Status 429\n",
      "{\"object\":\"error\",\"message\":\"Rate limit exceeded\",\"type\":\"rate_limited\",\"param\":null,\"code\":\"1300\"}\n",
      "Retrying in 1 seconds...\n"
     ]
    },
    {
     "name": "stderr",
     "output_type": "stream",
     "text": [
      "Processing queries (generate or skip): 380it [05:00,  1.20it/s]"
     ]
    },
    {
     "name": "stdout",
     "output_type": "stream",
     "text": [
      "Error generating for query '2011 Senior Thesis Project Reports Place Recognition for Indoor Blind Navigation Contents' (Attempt 1/5): API error occurred: Status 429\n",
      "{\"object\":\"error\",\"message\":\"Rate limit exceeded\",\"type\":\"rate_limited\",\"param\":null,\"code\":\"1300\"}\n",
      "Retrying in 1 seconds...\n"
     ]
    },
    {
     "name": "stderr",
     "output_type": "stream",
     "text": [
      "Processing queries (generate or skip): 383it [05:03,  1.20it/s]"
     ]
    },
    {
     "name": "stdout",
     "output_type": "stream",
     "text": [
      "Error generating for query 'Can we beat Hadamard multiplexing? Data driven design and analysis for computational imaging systems' (Attempt 1/5): API error occurred: Status 429\n",
      "{\"object\":\"error\",\"message\":\"Rate limit exceeded\",\"type\":\"rate_limited\",\"param\":null,\"code\":\"1300\"}\n",
      "Retrying in 1 seconds...\n"
     ]
    },
    {
     "name": "stderr",
     "output_type": "stream",
     "text": [
      "Processing queries (generate or skip): 386it [05:06,  1.15it/s]"
     ]
    },
    {
     "name": "stdout",
     "output_type": "stream",
     "text": [
      "Error generating for query 'PKOM: A tool for clustering, analysis and comparison of big chemical collections' (Attempt 1/5): API error occurred: Status 429\n",
      "{\"object\":\"error\",\"message\":\"Rate limit exceeded\",\"type\":\"rate_limited\",\"param\":null,\"code\":\"1300\"}\n",
      "Retrying in 1 seconds...\n"
     ]
    },
    {
     "name": "stderr",
     "output_type": "stream",
     "text": [
      "Processing queries (generate or skip): 390it [05:10,  1.16it/s]"
     ]
    },
    {
     "name": "stdout",
     "output_type": "stream",
     "text": [
      "Error generating for query 'An Optimized Home Energy Management System with Integrated Renewable Energy and Storage Resources' (Attempt 1/5): API error occurred: Status 429\n",
      "{\"object\":\"error\",\"message\":\"Rate limit exceeded\",\"type\":\"rate_limited\",\"param\":null,\"code\":\"1300\"}\n",
      "Retrying in 1 seconds...\n"
     ]
    },
    {
     "name": "stderr",
     "output_type": "stream",
     "text": [
      "Processing queries (generate or skip): 395it [05:15,  1.22it/s]"
     ]
    },
    {
     "name": "stdout",
     "output_type": "stream",
     "text": [
      "Error generating for query 'Head pose estimation based on face symmetry analysis' (Attempt 1/5): API error occurred: Status 429\n",
      "{\"object\":\"error\",\"message\":\"Rate limit exceeded\",\"type\":\"rate_limited\",\"param\":null,\"code\":\"1300\"}\n",
      "Retrying in 1 seconds...\n"
     ]
    },
    {
     "name": "stderr",
     "output_type": "stream",
     "text": [
      "Processing queries (generate or skip): 398it [05:18,  1.15it/s]"
     ]
    },
    {
     "name": "stdout",
     "output_type": "stream",
     "text": [
      "Error generating for query 'Execution-Guided Neural Program Synthesis' (Attempt 1/5): API error occurred: Status 429\n",
      "{\"object\":\"error\",\"message\":\"Rate limit exceeded\",\"type\":\"rate_limited\",\"param\":null,\"code\":\"1300\"}\n",
      "Retrying in 1 seconds...\n"
     ]
    },
    {
     "name": "stderr",
     "output_type": "stream",
     "text": [
      "Processing queries (generate or skip): 401it [05:21,  1.19it/s]"
     ]
    },
    {
     "name": "stdout",
     "output_type": "stream",
     "text": [
      "Error generating for query 'Coupling-Feed Circularly Polarized RFID Tag Antenna Mountable on Metallic Surface' (Attempt 1/5): API error occurred: Status 429\n",
      "{\"object\":\"error\",\"message\":\"Rate limit exceeded\",\"type\":\"rate_limited\",\"param\":null,\"code\":\"1300\"}\n",
      "Retrying in 1 seconds...\n"
     ]
    },
    {
     "name": "stderr",
     "output_type": "stream",
     "text": [
      "Processing queries (generate or skip): 404it [05:24,  1.04it/s]"
     ]
    },
    {
     "name": "stdout",
     "output_type": "stream",
     "text": [
      "Error generating for query 'Affordances and Limitations of Immersive Participatory Augmented Reality Simulations for Teaching and Learning' (Attempt 1/5): API error occurred: Status 429\n",
      "{\"object\":\"error\",\"message\":\"Rate limit exceeded\",\"type\":\"rate_limited\",\"param\":null,\"code\":\"1300\"}\n",
      "Retrying in 1 seconds...\n"
     ]
    },
    {
     "name": "stderr",
     "output_type": "stream",
     "text": [
      "Processing queries (generate or skip): 407it [05:27,  1.14it/s]"
     ]
    },
    {
     "name": "stdout",
     "output_type": "stream",
     "text": [
      "Error generating for query 'Novel DC-DC Multilevel Boost Converter' (Attempt 1/5): API error occurred: Status 429\n",
      "{\"object\":\"error\",\"message\":\"Rate limit exceeded\",\"type\":\"rate_limited\",\"param\":null,\"code\":\"1300\"}\n",
      "Retrying in 1 seconds...\n"
     ]
    },
    {
     "name": "stderr",
     "output_type": "stream",
     "text": [
      "Processing queries (generate or skip): 422it [05:42,  1.58it/s]"
     ]
    },
    {
     "name": "stdout",
     "output_type": "stream",
     "text": [
      "Error generating for query 'Classify Sentence from Multiple Perspectives with Category Expert Attention Network' (Attempt 1/5): API error occurred: Status 429\n",
      "{\"object\":\"error\",\"message\":\"Rate limit exceeded\",\"type\":\"rate_limited\",\"param\":null,\"code\":\"1300\"}\n",
      "Retrying in 1 seconds...\n"
     ]
    },
    {
     "name": "stderr",
     "output_type": "stream",
     "text": [
      "Processing queries (generate or skip): 425it [05:46,  1.24it/s]"
     ]
    },
    {
     "name": "stdout",
     "output_type": "stream",
     "text": [
      "Error generating for query 'SKILL: A System for Skill Identification and Normalization' (Attempt 1/5): API error occurred: Status 429\n",
      "{\"object\":\"error\",\"message\":\"Rate limit exceeded\",\"type\":\"rate_limited\",\"param\":null,\"code\":\"1300\"}\n",
      "Retrying in 1 seconds...\n"
     ]
    },
    {
     "name": "stderr",
     "output_type": "stream",
     "text": [
      "Processing queries (generate or skip): 435it [05:56,  1.51it/s]"
     ]
    },
    {
     "name": "stdout",
     "output_type": "stream",
     "text": [
      "Error generating for query 'Does Mindfulness Meditation Enhance Attention ? A Randomized Controlled Trial' (Attempt 1/5): API error occurred: Status 429\n",
      "{\"object\":\"error\",\"message\":\"Rate limit exceeded\",\"type\":\"rate_limited\",\"param\":null,\"code\":\"1300\"}\n",
      "Retrying in 1 seconds...\n"
     ]
    },
    {
     "name": "stderr",
     "output_type": "stream",
     "text": [
      "Processing queries (generate or skip): 440it [06:01,  1.20it/s]"
     ]
    },
    {
     "name": "stdout",
     "output_type": "stream",
     "text": [
      "Error generating for query 'Ontology-based traffic scene modeling, traffic regulations dependent situational awareness and decision-making for automated vehicles' (Attempt 1/5): API error occurred: Status 429\n",
      "{\"object\":\"error\",\"message\":\"Rate limit exceeded\",\"type\":\"rate_limited\",\"param\":null,\"code\":\"1300\"}\n",
      "Retrying in 1 seconds...\n"
     ]
    },
    {
     "name": "stderr",
     "output_type": "stream",
     "text": [
      "Processing queries (generate or skip): 443it [06:04,  1.19it/s]"
     ]
    },
    {
     "name": "stdout",
     "output_type": "stream",
     "text": [
      "Error generating for query 'MODEL AS A DESCRIPTIVE TOOL IN EVALUATING A VIRTUAL LEARNING ENVIRONMENT' (Attempt 1/5): API error occurred: Status 429\n",
      "{\"object\":\"error\",\"message\":\"Rate limit exceeded\",\"type\":\"rate_limited\",\"param\":null,\"code\":\"1300\"}\n",
      "Retrying in 1 seconds...\n"
     ]
    },
    {
     "name": "stderr",
     "output_type": "stream",
     "text": [
      "Processing queries (generate or skip): 446it [06:07,  1.17it/s]"
     ]
    },
    {
     "name": "stdout",
     "output_type": "stream",
     "text": [
      "Error generating for query 'Enablers and Barriers to the Organizational Adoption of Sustainable Business Practices' (Attempt 1/5): API error occurred: Status 429\n",
      "{\"object\":\"error\",\"message\":\"Rate limit exceeded\",\"type\":\"rate_limited\",\"param\":null,\"code\":\"1300\"}\n",
      "Retrying in 1 seconds...\n"
     ]
    },
    {
     "name": "stderr",
     "output_type": "stream",
     "text": [
      "Processing queries (generate or skip): 448it [06:09,  1.05it/s]"
     ]
    },
    {
     "name": "stdout",
     "output_type": "stream",
     "text": [
      "Error generating for query 'Region-based CNN for Logo Detection' (Attempt 1/5): API error occurred: Status 429\n",
      "{\"object\":\"error\",\"message\":\"Rate limit exceeded\",\"type\":\"rate_limited\",\"param\":null,\"code\":\"1300\"}\n",
      "Retrying in 1 seconds...\n"
     ]
    },
    {
     "name": "stderr",
     "output_type": "stream",
     "text": [
      "Processing queries (generate or skip): 452it [06:13,  1.18it/s]"
     ]
    },
    {
     "name": "stdout",
     "output_type": "stream",
     "text": [
      "Error generating for query 'Event Pattern Analysis and Prediction at Sentence Level using Neuro-Fuzzy Model for Crime Event Detection' (Attempt 1/5): API error occurred: Status 429\n",
      "{\"object\":\"error\",\"message\":\"Rate limit exceeded\",\"type\":\"rate_limited\",\"param\":null,\"code\":\"1300\"}\n",
      "Retrying in 1 seconds...\n"
     ]
    },
    {
     "name": "stderr",
     "output_type": "stream",
     "text": [
      "Processing queries (generate or skip): 456it [06:17,  1.22it/s]"
     ]
    },
    {
     "name": "stdout",
     "output_type": "stream",
     "text": [
      "Error generating for query 'Robust Visual Knowledge Transfer via Extreme Learning Machine-Based Domain Adaptation' (Attempt 1/5): API error occurred: Status 429\n",
      "{\"object\":\"error\",\"message\":\"Rate limit exceeded\",\"type\":\"rate_limited\",\"param\":null,\"code\":\"1300\"}\n",
      "Retrying in 1 seconds...\n"
     ]
    },
    {
     "name": "stderr",
     "output_type": "stream",
     "text": [
      "Processing queries (generate or skip): 459it [06:20,  1.15it/s]"
     ]
    },
    {
     "name": "stdout",
     "output_type": "stream",
     "text": [
      "Error generating for query 'The Impact of Internal Social Media Usage on Organizational Socialization and Commitment' (Attempt 1/5): API error occurred: Status 429\n",
      "{\"object\":\"error\",\"message\":\"Rate limit exceeded\",\"type\":\"rate_limited\",\"param\":null,\"code\":\"1300\"}\n",
      "Retrying in 1 seconds...\n"
     ]
    },
    {
     "name": "stderr",
     "output_type": "stream",
     "text": [
      "Processing queries (generate or skip): 462it [06:23,  1.15it/s]"
     ]
    },
    {
     "name": "stdout",
     "output_type": "stream",
     "text": [
      "Error generating for query 'DeepFood: Deep Learning-Based Food Image Recognition for Computer-Aided Dietary Assessment' (Attempt 1/5): API error occurred: Status 429\n",
      "{\"object\":\"error\",\"message\":\"Rate limit exceeded\",\"type\":\"rate_limited\",\"param\":null,\"code\":\"1300\"}\n",
      "Retrying in 1 seconds...\n"
     ]
    },
    {
     "name": "stderr",
     "output_type": "stream",
     "text": [
      "Processing queries (generate or skip): 465it [06:26,  1.12it/s]"
     ]
    },
    {
     "name": "stdout",
     "output_type": "stream",
     "text": [
      "Error generating for query 'Active Sentiment Domain Adaptation' (Attempt 1/5): API error occurred: Status 429\n",
      "{\"object\":\"error\",\"message\":\"Rate limit exceeded\",\"type\":\"rate_limited\",\"param\":null,\"code\":\"1300\"}\n",
      "Retrying in 1 seconds...\n"
     ]
    },
    {
     "name": "stderr",
     "output_type": "stream",
     "text": [
      "Processing queries (generate or skip): 480it [06:41,  1.58it/s]"
     ]
    },
    {
     "name": "stdout",
     "output_type": "stream",
     "text": [
      "Error generating for query 'Effective Inference for Generative Neural Parsing' (Attempt 1/5): API error occurred: Status 429\n",
      "{\"object\":\"error\",\"message\":\"Rate limit exceeded\",\"type\":\"rate_limited\",\"param\":null,\"code\":\"1300\"}\n",
      "Retrying in 1 seconds...\n"
     ]
    },
    {
     "name": "stderr",
     "output_type": "stream",
     "text": [
      "Processing queries (generate or skip): 485it [06:46,  1.30it/s]"
     ]
    },
    {
     "name": "stdout",
     "output_type": "stream",
     "text": [
      "Error generating for query 'Trends, Tips, Tolls: A Longitudinal Study of Bitcoin Transaction Fees' (Attempt 1/5): API error occurred: Status 429\n",
      "{\"object\":\"error\",\"message\":\"Rate limit exceeded\",\"type\":\"rate_limited\",\"param\":null,\"code\":\"1300\"}\n",
      "Retrying in 1 seconds...\n"
     ]
    },
    {
     "name": "stderr",
     "output_type": "stream",
     "text": [
      "Processing queries (generate or skip): 488it [06:49,  1.24it/s]"
     ]
    },
    {
     "name": "stdout",
     "output_type": "stream",
     "text": [
      "Error generating for query 'From Depth Data to Head Pose Estimation: a Siamese approach' (Attempt 1/5): API error occurred: Status 429\n",
      "{\"object\":\"error\",\"message\":\"Rate limit exceeded\",\"type\":\"rate_limited\",\"param\":null,\"code\":\"1300\"}\n",
      "Retrying in 1 seconds...\n"
     ]
    },
    {
     "name": "stderr",
     "output_type": "stream",
     "text": [
      "Processing queries (generate or skip): 491it [06:52,  1.15it/s]"
     ]
    },
    {
     "name": "stdout",
     "output_type": "stream",
     "text": [
      "Error generating for query 'Trajectory Planning For Exoskeleton Robot By Using Cubic And Quintic Polynomial Equation' (Attempt 1/5): API error occurred: Status 429\n",
      "{\"object\":\"error\",\"message\":\"Rate limit exceeded\",\"type\":\"rate_limited\",\"param\":null,\"code\":\"1300\"}\n",
      "Retrying in 1 seconds...\n"
     ]
    },
    {
     "name": "stderr",
     "output_type": "stream",
     "text": [
      "Processing queries (generate or skip): 494it [06:55,  1.21it/s]"
     ]
    },
    {
     "name": "stdout",
     "output_type": "stream",
     "text": [
      "Error generating for query 'Learning Multi-scale Block Local Binary Patterns for Face Recognition' (Attempt 1/5): API error occurred: Status 429\n",
      "{\"object\":\"error\",\"message\":\"Rate limit exceeded\",\"type\":\"rate_limited\",\"param\":null,\"code\":\"1300\"}\n",
      "Retrying in 1 seconds...\n"
     ]
    },
    {
     "name": "stderr",
     "output_type": "stream",
     "text": [
      "Processing queries (generate or skip): 498it [06:59,  1.25it/s]"
     ]
    },
    {
     "name": "stdout",
     "output_type": "stream",
     "text": [
      "Error generating for query 'Health management and pattern analysis of daily living activities of people with dementia using in-home sensors and machine learning techniques' (Attempt 1/5): API error occurred: Status 429\n",
      "{\"object\":\"error\",\"message\":\"Rate limit exceeded\",\"type\":\"rate_limited\",\"param\":null,\"code\":\"1300\"}\n",
      "Retrying in 1 seconds...\n"
     ]
    },
    {
     "name": "stderr",
     "output_type": "stream",
     "text": [
      "Processing queries (generate or skip): 501it [07:02,  1.11it/s]"
     ]
    },
    {
     "name": "stdout",
     "output_type": "stream",
     "text": [
      "Error generating for query 'A Protocol for Preventing Insider Attacks in Untrusted Infrastructure-as-a-Service Clouds' (Attempt 1/5): API error occurred: Status 429\n",
      "{\"object\":\"error\",\"message\":\"Rate limit exceeded\",\"type\":\"rate_limited\",\"param\":null,\"code\":\"1300\"}\n",
      "Retrying in 1 seconds...\n"
     ]
    },
    {
     "name": "stderr",
     "output_type": "stream",
     "text": [
      "Processing queries (generate or skip): 505it [07:06,  1.15it/s]"
     ]
    },
    {
     "name": "stdout",
     "output_type": "stream",
     "text": [
      "Error generating for query 'Predicting the Evolution of Scientific Output' (Attempt 1/5): API error occurred: Status 429\n",
      "{\"object\":\"error\",\"message\":\"Rate limit exceeded\",\"type\":\"rate_limited\",\"param\":null,\"code\":\"1300\"}\n",
      "Retrying in 1 seconds...\n"
     ]
    },
    {
     "name": "stderr",
     "output_type": "stream",
     "text": [
      "Processing queries (generate or skip): 509it [07:10,  1.20it/s]"
     ]
    },
    {
     "name": "stdout",
     "output_type": "stream",
     "text": [
      "Error generating for query 'Real-Time Multi-human Tracking Using a Probability Hypothesis Density Filter and Multiple Detectors' (Attempt 1/5): API error occurred: Status 429\n",
      "{\"object\":\"error\",\"message\":\"Rate limit exceeded\",\"type\":\"rate_limited\",\"param\":null,\"code\":\"1300\"}\n",
      "Retrying in 1 seconds...\n"
     ]
    },
    {
     "name": "stderr",
     "output_type": "stream",
     "text": [
      "Processing queries (generate or skip): 521it [07:22,  1.33it/s]"
     ]
    },
    {
     "name": "stdout",
     "output_type": "stream",
     "text": [
      "Error generating for query 'Comparative abilities of Microsoft Kinect and Vicon 3D motion capture for gait analysis.' (Attempt 1/5): API error occurred: Status 429\n",
      "{\"object\":\"error\",\"message\":\"Rate limit exceeded\",\"type\":\"rate_limited\",\"param\":null,\"code\":\"1300\"}\n",
      "Retrying in 1 seconds...\n"
     ]
    },
    {
     "name": "stderr",
     "output_type": "stream",
     "text": [
      "Processing queries (generate or skip): 524it [07:25,  1.26it/s]"
     ]
    },
    {
     "name": "stdout",
     "output_type": "stream",
     "text": [
      "Error generating for query 'Collaborative video reindexing via matrix factorization' (Attempt 1/5): API error occurred: Status 429\n",
      "{\"object\":\"error\",\"message\":\"Rate limit exceeded\",\"type\":\"rate_limited\",\"param\":null,\"code\":\"1300\"}\n",
      "Retrying in 1 seconds...\n"
     ]
    },
    {
     "name": "stderr",
     "output_type": "stream",
     "text": [
      "Processing queries (generate or skip): 527it [07:28,  1.15it/s]"
     ]
    },
    {
     "name": "stdout",
     "output_type": "stream",
     "text": [
      "Error generating for query 'Semi-supervised clustering with metric learning: An adaptive kernel method' (Attempt 1/5): API error occurred: Status 429\n",
      "{\"object\":\"error\",\"message\":\"Rate limit exceeded\",\"type\":\"rate_limited\",\"param\":null,\"code\":\"1300\"}\n",
      "Retrying in 1 seconds...\n"
     ]
    },
    {
     "name": "stderr",
     "output_type": "stream",
     "text": [
      "Processing queries (generate or skip): 530it [07:31,  1.13it/s]"
     ]
    },
    {
     "name": "stdout",
     "output_type": "stream",
     "text": [
      "Error generating for query 'Visual Speech Recognition' (Attempt 1/5): API error occurred: Status 429\n",
      "{\"object\":\"error\",\"message\":\"Rate limit exceeded\",\"type\":\"rate_limited\",\"param\":null,\"code\":\"1300\"}\n",
      "Retrying in 1 seconds...\n"
     ]
    },
    {
     "name": "stderr",
     "output_type": "stream",
     "text": [
      "Processing queries (generate or skip): 533it [07:34,  1.20it/s]"
     ]
    },
    {
     "name": "stdout",
     "output_type": "stream",
     "text": [
      "Error generating for query 'Investigating How Student's Cognitive Behavior in MOOC Discussion Forum Affect Learning Gains' (Attempt 1/5): API error occurred: Status 429\n",
      "{\"object\":\"error\",\"message\":\"Rate limit exceeded\",\"type\":\"rate_limited\",\"param\":null,\"code\":\"1300\"}\n",
      "Retrying in 1 seconds...\n"
     ]
    },
    {
     "name": "stderr",
     "output_type": "stream",
     "text": [
      "Processing queries (generate or skip): 536it [07:37,  1.16it/s]"
     ]
    },
    {
     "name": "stdout",
     "output_type": "stream",
     "text": [
      "Error generating for query 'Evolvability : What Is It and How Do We Get It ?' (Attempt 1/5): API error occurred: Status 429\n",
      "{\"object\":\"error\",\"message\":\"Rate limit exceeded\",\"type\":\"rate_limited\",\"param\":null,\"code\":\"1300\"}\n",
      "Retrying in 1 seconds...\n"
     ]
    },
    {
     "name": "stderr",
     "output_type": "stream",
     "text": [
      "Processing queries (generate or skip): 539it [07:40,  1.15it/s]"
     ]
    },
    {
     "name": "stdout",
     "output_type": "stream",
     "text": [
      "Error generating for query 'DeepSense: A Unified Deep Learning Framework for Time-Series Mobile Sensing Data Processing' (Attempt 1/5): API error occurred: Status 429\n",
      "{\"object\":\"error\",\"message\":\"Rate limit exceeded\",\"type\":\"rate_limited\",\"param\":null,\"code\":\"1300\"}\n",
      "Retrying in 1 seconds...\n"
     ]
    },
    {
     "name": "stderr",
     "output_type": "stream",
     "text": [
      "Processing queries (generate or skip): 542it [07:43,  1.19it/s]"
     ]
    },
    {
     "name": "stdout",
     "output_type": "stream",
     "text": [
      "Error generating for query 'The fully informed particle swarm: simpler, maybe better' (Attempt 1/5): API error occurred: Status 429\n",
      "{\"object\":\"error\",\"message\":\"Rate limit exceeded\",\"type\":\"rate_limited\",\"param\":null,\"code\":\"1300\"}\n",
      "Retrying in 1 seconds...\n"
     ]
    },
    {
     "name": "stderr",
     "output_type": "stream",
     "text": [
      "Processing queries (generate or skip): 545it [07:46,  1.16it/s]"
     ]
    },
    {
     "name": "stdout",
     "output_type": "stream",
     "text": [
      "Error generating for query 'New local edge binary patterns for image retrieval' (Attempt 1/5): API error occurred: Status 429\n",
      "{\"object\":\"error\",\"message\":\"Rate limit exceeded\",\"type\":\"rate_limited\",\"param\":null,\"code\":\"1300\"}\n",
      "Retrying in 1 seconds...\n"
     ]
    },
    {
     "name": "stderr",
     "output_type": "stream",
     "text": [
      "Processing queries (generate or skip): 548it [07:49,  1.24it/s]"
     ]
    },
    {
     "name": "stdout",
     "output_type": "stream",
     "text": [
      "Error generating for query 'Enhanced Fraud Miner : Credit Card Fraud Detection using Clustering Data Mining Techniques' (Attempt 1/5): API error occurred: Status 429\n",
      "{\"object\":\"error\",\"message\":\"Rate limit exceeded\",\"type\":\"rate_limited\",\"param\":null,\"code\":\"1300\"}\n",
      "Retrying in 1 seconds...\n"
     ]
    },
    {
     "name": "stderr",
     "output_type": "stream",
     "text": [
      "Processing queries (generate or skip): 550it [07:51,  1.09it/s]"
     ]
    },
    {
     "name": "stdout",
     "output_type": "stream",
     "text": [
      "Error generating for query 'Demystifying Differentiable Programming: Shift/Reset the Penultimate Backpropagator' (Attempt 1/5): API error occurred: Status 429\n",
      "{\"object\":\"error\",\"message\":\"Rate limit exceeded\",\"type\":\"rate_limited\",\"param\":null,\"code\":\"1300\"}\n",
      "Retrying in 1 seconds...\n"
     ]
    },
    {
     "name": "stderr",
     "output_type": "stream",
     "text": [
      "Processing queries (generate or skip): 554it [07:55,  1.32it/s]"
     ]
    },
    {
     "name": "stdout",
     "output_type": "stream",
     "text": [
      "Error generating for query 'An Intelligent Load Management System With Renewable Energy Integration for Smart Homes' (Attempt 1/5): API error occurred: Status 429\n",
      "{\"object\":\"error\",\"message\":\"Rate limit exceeded\",\"type\":\"rate_limited\",\"param\":null,\"code\":\"1300\"}\n",
      "Retrying in 1 seconds...\n"
     ]
    },
    {
     "name": "stderr",
     "output_type": "stream",
     "text": [
      "Processing queries (generate or skip): 556it [07:57,  1.09it/s]"
     ]
    },
    {
     "name": "stdout",
     "output_type": "stream",
     "text": [
      "Error generating for query 'Multi-Level Topical Text Categorization with Wikipedia' (Attempt 1/5): API error occurred: Status 429\n",
      "{\"object\":\"error\",\"message\":\"Rate limit exceeded\",\"type\":\"rate_limited\",\"param\":null,\"code\":\"1300\"}\n",
      "Retrying in 1 seconds...\n"
     ]
    },
    {
     "name": "stderr",
     "output_type": "stream",
     "text": [
      "Processing queries (generate or skip): 559it [08:00,  1.11it/s]"
     ]
    },
    {
     "name": "stdout",
     "output_type": "stream",
     "text": [
      "Error generating for query 'Full-Duplex Cooperative Non-Orthogonal Multiple Access With Beamforming and Energy Harvesting' (Attempt 1/5): API error occurred: Status 429\n",
      "{\"object\":\"error\",\"message\":\"Rate limit exceeded\",\"type\":\"rate_limited\",\"param\":null,\"code\":\"1300\"}\n",
      "Retrying in 1 seconds...\n"
     ]
    },
    {
     "name": "stderr",
     "output_type": "stream",
     "text": [
      "Processing queries (generate or skip): 563it [08:04,  1.15it/s]"
     ]
    },
    {
     "name": "stdout",
     "output_type": "stream",
     "text": [
      "Error generating for query 'Who are these people ? ” Evaluating the demographic characteristics and political preferences of MTurk survey respondents' (Attempt 1/5): API error occurred: Status 429\n",
      "{\"object\":\"error\",\"message\":\"Rate limit exceeded\",\"type\":\"rate_limited\",\"param\":null,\"code\":\"1300\"}\n",
      "Retrying in 1 seconds...\n"
     ]
    },
    {
     "name": "stderr",
     "output_type": "stream",
     "text": [
      "Processing queries (generate or skip): 568it [08:09,  1.28it/s]"
     ]
    },
    {
     "name": "stdout",
     "output_type": "stream",
     "text": [
      "Error generating for query 'Business-to-business e-commerce adoption: An empirical investigation of business factors' (Attempt 1/5): API error occurred: Status 429\n",
      "{\"object\":\"error\",\"message\":\"Rate limit exceeded\",\"type\":\"rate_limited\",\"param\":null,\"code\":\"1300\"}\n",
      "Retrying in 1 seconds...\n"
     ]
    },
    {
     "name": "stderr",
     "output_type": "stream",
     "text": [
      "Processing queries (generate or skip): 570it [08:11,  1.13it/s]"
     ]
    },
    {
     "name": "stdout",
     "output_type": "stream",
     "text": [
      "Error generating for query 'Detecting Significant Locations from Raw GPS Data Using Random Space Partitioning' (Attempt 1/5): API error occurred: Status 429\n",
      "{\"object\":\"error\",\"message\":\"Rate limit exceeded\",\"type\":\"rate_limited\",\"param\":null,\"code\":\"1300\"}\n",
      "Retrying in 1 seconds...\n"
     ]
    },
    {
     "name": "stderr",
     "output_type": "stream",
     "text": [
      "Processing queries (generate or skip): 574it [08:15,  1.25it/s]"
     ]
    },
    {
     "name": "stdout",
     "output_type": "stream",
     "text": [
      "Error generating for query 'Machine Learning Approaches for Failure Type Detection and Predictive Maintenance' (Attempt 1/5): API error occurred: Status 429\n",
      "{\"object\":\"error\",\"message\":\"Rate limit exceeded\",\"type\":\"rate_limited\",\"param\":null,\"code\":\"1300\"}\n",
      "Retrying in 1 seconds...\n"
     ]
    },
    {
     "name": "stderr",
     "output_type": "stream",
     "text": [
      "Processing queries (generate or skip): 577it [08:18,  1.14it/s]"
     ]
    },
    {
     "name": "stdout",
     "output_type": "stream",
     "text": [
      "Error generating for query 'Towards edge-caching for image recognition' (Attempt 1/5): API error occurred: Status 429\n",
      "{\"object\":\"error\",\"message\":\"Rate limit exceeded\",\"type\":\"rate_limited\",\"param\":null,\"code\":\"1300\"}\n",
      "Retrying in 1 seconds...\n"
     ]
    },
    {
     "name": "stderr",
     "output_type": "stream",
     "text": [
      "Processing queries (generate or skip): 580it [08:21,  1.18it/s]"
     ]
    },
    {
     "name": "stdout",
     "output_type": "stream",
     "text": [
      "Error generating for query 'Learning grounded finite-state representations from unstructured demonstrations' (Attempt 1/5): API error occurred: Status 429\n",
      "{\"object\":\"error\",\"message\":\"Rate limit exceeded\",\"type\":\"rate_limited\",\"param\":null,\"code\":\"1300\"}\n",
      "Retrying in 1 seconds...\n"
     ]
    },
    {
     "name": "stderr",
     "output_type": "stream",
     "text": [
      "Processing queries (generate or skip): 583it [08:24,  1.21it/s]"
     ]
    },
    {
     "name": "stdout",
     "output_type": "stream",
     "text": [
      "Error generating for query 'BPM Governance: An Exploratory Study in Public Organizations' (Attempt 1/5): API error occurred: Status 429\n",
      "{\"object\":\"error\",\"message\":\"Rate limit exceeded\",\"type\":\"rate_limited\",\"param\":null,\"code\":\"1300\"}\n",
      "Retrying in 1 seconds...\n"
     ]
    },
    {
     "name": "stderr",
     "output_type": "stream",
     "text": [
      "Processing queries (generate or skip): 585it [08:26,  1.04it/s]"
     ]
    },
    {
     "name": "stdout",
     "output_type": "stream",
     "text": [
      "Error generating for query 'Direct Pose Estimation and Refinement' (Attempt 1/5): API error occurred: Status 429\n",
      "{\"object\":\"error\",\"message\":\"Rate limit exceeded\",\"type\":\"rate_limited\",\"param\":null,\"code\":\"1300\"}\n",
      "Retrying in 1 seconds...\n"
     ]
    },
    {
     "name": "stderr",
     "output_type": "stream",
     "text": [
      "Processing queries (generate or skip): 592it [08:33,  1.21it/s]"
     ]
    },
    {
     "name": "stdout",
     "output_type": "stream",
     "text": [
      "Error generating for query 'Design, Implementation, and Performance Evaluation of a Flexible Low-Latency Nanowatt Wake-Up Radio Receiver' (Attempt 1/5): API error occurred: Status 429\n",
      "{\"object\":\"error\",\"message\":\"Rate limit exceeded\",\"type\":\"rate_limited\",\"param\":null,\"code\":\"1300\"}\n",
      "Retrying in 1 seconds...\n"
     ]
    },
    {
     "name": "stderr",
     "output_type": "stream",
     "text": [
      "Processing queries (generate or skip): 595it [08:36,  1.22it/s]"
     ]
    },
    {
     "name": "stdout",
     "output_type": "stream",
     "text": [
      "Error generating for query 'Link Prediction using Supervised Learning ∗' (Attempt 1/5): API error occurred: Status 429\n",
      "{\"object\":\"error\",\"message\":\"Rate limit exceeded\",\"type\":\"rate_limited\",\"param\":null,\"code\":\"1300\"}\n",
      "Retrying in 1 seconds...\n"
     ]
    },
    {
     "name": "stderr",
     "output_type": "stream",
     "text": [
      "Processing queries (generate or skip): 601it [08:42,  1.14it/s]"
     ]
    },
    {
     "name": "stdout",
     "output_type": "stream",
     "text": [
      "Error generating for query 'Critical infrastructure interdependency modeling: Using graph models to assess the vulnerability of smart power grid and SCADA networks' (Attempt 1/5): API error occurred: Status 429\n",
      "{\"object\":\"error\",\"message\":\"Rate limit exceeded\",\"type\":\"rate_limited\",\"param\":null,\"code\":\"1300\"}\n",
      "Retrying in 1 seconds...\n"
     ]
    },
    {
     "name": "stderr",
     "output_type": "stream",
     "text": [
      "Processing queries (generate or skip): 604it [08:45,  1.15it/s]"
     ]
    },
    {
     "name": "stdout",
     "output_type": "stream",
     "text": [
      "Error generating for query '“Mask-Bot 2i”: An active customisable robotic head with interchangeable face' (Attempt 1/5): API error occurred: Status 429\n",
      "{\"object\":\"error\",\"message\":\"Rate limit exceeded\",\"type\":\"rate_limited\",\"param\":null,\"code\":\"1300\"}\n",
      "Retrying in 1 seconds...\n"
     ]
    },
    {
     "name": "stderr",
     "output_type": "stream",
     "text": [
      "Processing queries (generate or skip): 607it [08:48,  1.23it/s]"
     ]
    },
    {
     "name": "stdout",
     "output_type": "stream",
     "text": [
      "Error generating for query 'Nonlinear Camera Response Functions and Image Deblurring: Theoretical Analysis and Practice' (Attempt 1/5): API error occurred: Status 429\n",
      "{\"object\":\"error\",\"message\":\"Rate limit exceeded\",\"type\":\"rate_limited\",\"param\":null,\"code\":\"1300\"}\n",
      "Retrying in 1 seconds...\n"
     ]
    },
    {
     "name": "stderr",
     "output_type": "stream",
     "text": [
      "Processing queries (generate or skip): 611it [08:52,  1.23it/s]"
     ]
    },
    {
     "name": "stdout",
     "output_type": "stream",
     "text": [
      "Error generating for query 'Supervised Learning of Universal Sentence Representations from Natural Language Inference Data' (Attempt 1/5): API error occurred: Status 429\n",
      "{\"object\":\"error\",\"message\":\"Rate limit exceeded\",\"type\":\"rate_limited\",\"param\":null,\"code\":\"1300\"}\n",
      "Retrying in 1 seconds...\n"
     ]
    },
    {
     "name": "stderr",
     "output_type": "stream",
     "text": [
      "Processing queries (generate or skip): 614it [08:55,  1.16it/s]"
     ]
    },
    {
     "name": "stdout",
     "output_type": "stream",
     "text": [
      "Error generating for query 'Design, Implementation and Performance Analysis of Highly Efficient Algorithms for AES Key Retrieval in Access-driven Cache-based Side Channel Attacks' (Attempt 1/5): API error occurred: Status 429\n",
      "{\"object\":\"error\",\"message\":\"Rate limit exceeded\",\"type\":\"rate_limited\",\"param\":null,\"code\":\"1300\"}\n",
      "Retrying in 1 seconds...\n"
     ]
    },
    {
     "name": "stderr",
     "output_type": "stream",
     "text": [
      "Processing queries (generate or skip): 618it [09:00,  1.16it/s]"
     ]
    },
    {
     "name": "stdout",
     "output_type": "stream",
     "text": [
      "Error generating for query 'Continuous Deployment at Facebook and OANDA' (Attempt 1/5): API error occurred: Status 429\n",
      "{\"object\":\"error\",\"message\":\"Rate limit exceeded\",\"type\":\"rate_limited\",\"param\":null,\"code\":\"1300\"}\n",
      "Retrying in 1 seconds...\n"
     ]
    },
    {
     "name": "stderr",
     "output_type": "stream",
     "text": [
      "Processing queries (generate or skip): 621it [09:02,  1.25it/s]"
     ]
    },
    {
     "name": "stdout",
     "output_type": "stream",
     "text": [
      "Error generating for query 'Parasitic Inductance and Capacitance-Assisted Active Gate Driving Technique to Minimize Switching Loss of SiC MOSFET' (Attempt 1/5): API error occurred: Status 429\n",
      "{\"object\":\"error\",\"message\":\"Rate limit exceeded\",\"type\":\"rate_limited\",\"param\":null,\"code\":\"1300\"}\n",
      "Retrying in 1 seconds...\n"
     ]
    },
    {
     "name": "stderr",
     "output_type": "stream",
     "text": [
      "Processing queries (generate or skip): 627it [09:08,  1.12it/s]"
     ]
    },
    {
     "name": "stdout",
     "output_type": "stream",
     "text": [
      "Error generating for query 'First Demonstration of 28 GHz and 39 GHz Transmission Lines and Antennas on Glass Substrates for 5G Modules' (Attempt 1/5): API error occurred: Status 429\n",
      "{\"object\":\"error\",\"message\":\"Rate limit exceeded\",\"type\":\"rate_limited\",\"param\":null,\"code\":\"1300\"}\n",
      "Retrying in 1 seconds...\n"
     ]
    },
    {
     "name": "stderr",
     "output_type": "stream",
     "text": [
      "Processing queries (generate or skip): 641it [09:22,  1.26it/s]"
     ]
    },
    {
     "name": "stdout",
     "output_type": "stream",
     "text": [
      "Error generating for query 'Modified Wilkinson Power Dividers for Millimeter-Wave Integrated Circuits' (Attempt 1/5): API error occurred: Status 429\n",
      "{\"object\":\"error\",\"message\":\"Rate limit exceeded\",\"type\":\"rate_limited\",\"param\":null,\"code\":\"1300\"}\n",
      "Retrying in 1 seconds...\n"
     ]
    },
    {
     "name": "stderr",
     "output_type": "stream",
     "text": [
      "Processing queries (generate or skip): 647it [09:28,  1.16it/s]"
     ]
    },
    {
     "name": "stdout",
     "output_type": "stream",
     "text": [
      "Error generating for query 'Situation Awareness in Ambient Assisted Living for Smart Healthcare' (Attempt 1/5): API error occurred: Status 429\n",
      "{\"object\":\"error\",\"message\":\"Rate limit exceeded\",\"type\":\"rate_limited\",\"param\":null,\"code\":\"1300\"}\n",
      "Retrying in 1 seconds...\n"
     ]
    },
    {
     "name": "stderr",
     "output_type": "stream",
     "text": [
      "Processing queries (generate or skip): 653it [09:34,  1.20it/s]"
     ]
    },
    {
     "name": "stdout",
     "output_type": "stream",
     "text": [
      "Error generating for query '3Ds MAX to FEM for building thermal distribution: A case study' (Attempt 1/5): API error occurred: Status 429\n",
      "{\"object\":\"error\",\"message\":\"Rate limit exceeded\",\"type\":\"rate_limited\",\"param\":null,\"code\":\"1300\"}\n",
      "Retrying in 1 seconds...\n"
     ]
    },
    {
     "name": "stderr",
     "output_type": "stream",
     "text": [
      "Processing queries (generate or skip): 657it [09:38,  1.24it/s]"
     ]
    },
    {
     "name": "stdout",
     "output_type": "stream",
     "text": [
      "Error generating for query 'Genetic algorithms and Machine Learning' (Attempt 1/5): API error occurred: Status 429\n",
      "{\"object\":\"error\",\"message\":\"Rate limit exceeded\",\"type\":\"rate_limited\",\"param\":null,\"code\":\"1300\"}\n",
      "Retrying in 1 seconds...\n"
     ]
    },
    {
     "name": "stderr",
     "output_type": "stream",
     "text": [
      "Processing queries (generate or skip): 660it [09:41,  1.24it/s]"
     ]
    },
    {
     "name": "stdout",
     "output_type": "stream",
     "text": [
      "Error generating for query 'Toward Integrated Scene Text Reading' (Attempt 1/5): API error occurred: Status 429\n",
      "{\"object\":\"error\",\"message\":\"Rate limit exceeded\",\"type\":\"rate_limited\",\"param\":null,\"code\":\"1300\"}\n",
      "Retrying in 1 seconds...\n"
     ]
    },
    {
     "name": "stderr",
     "output_type": "stream",
     "text": [
      "Processing queries (generate or skip): 663it [09:44,  1.20it/s]"
     ]
    },
    {
     "name": "stdout",
     "output_type": "stream",
     "text": [
      "Error generating for query 'Design of advanced digital heartbeat monitor using basic electronic components' (Attempt 1/5): API error occurred: Status 429\n",
      "{\"object\":\"error\",\"message\":\"Rate limit exceeded\",\"type\":\"rate_limited\",\"param\":null,\"code\":\"1300\"}\n",
      "Retrying in 1 seconds...\n"
     ]
    },
    {
     "name": "stderr",
     "output_type": "stream",
     "text": [
      "Processing queries (generate or skip): 665it [09:47,  1.04it/s]"
     ]
    },
    {
     "name": "stdout",
     "output_type": "stream",
     "text": [
      "Error generating for query 'Anatomy of a web-scale resale market: a data mining approach' (Attempt 1/5): API error occurred: Status 429\n",
      "{\"object\":\"error\",\"message\":\"Rate limit exceeded\",\"type\":\"rate_limited\",\"param\":null,\"code\":\"1300\"}\n",
      "Retrying in 1 seconds...\n"
     ]
    },
    {
     "name": "stderr",
     "output_type": "stream",
     "text": [
      "Processing queries (generate or skip): 670it [09:51,  1.20it/s]"
     ]
    },
    {
     "name": "stdout",
     "output_type": "stream",
     "text": [
      "Error generating for query 'Cognitive Biases in Information Systems Research: a scientometric Analysis' (Attempt 1/5): API error occurred: Status 429\n",
      "{\"object\":\"error\",\"message\":\"Rate limit exceeded\",\"type\":\"rate_limited\",\"param\":null,\"code\":\"1300\"}\n",
      "Retrying in 1 seconds...\n"
     ]
    },
    {
     "name": "stderr",
     "output_type": "stream",
     "text": [
      "Processing queries (generate or skip): 673it [09:54,  1.17it/s]"
     ]
    },
    {
     "name": "stdout",
     "output_type": "stream",
     "text": [
      "Error generating for query 'MGNC-CNN: A Simple Approach to Exploiting Multiple Word Embeddings for Sentence Classification' (Attempt 1/5): API error occurred: Status 429\n",
      "{\"object\":\"error\",\"message\":\"Rate limit exceeded\",\"type\":\"rate_limited\",\"param\":null,\"code\":\"1300\"}\n",
      "Retrying in 1 seconds...\n"
     ]
    },
    {
     "name": "stderr",
     "output_type": "stream",
     "text": [
      "Processing queries (generate or skip): 676it [09:57,  1.24it/s]"
     ]
    },
    {
     "name": "stdout",
     "output_type": "stream",
     "text": [
      "Error generating for query 'Adaptive Estimation Approach for Parameter Identification of Photovoltaic Modules' (Attempt 1/5): API error occurred: Status 429\n",
      "{\"object\":\"error\",\"message\":\"Rate limit exceeded\",\"type\":\"rate_limited\",\"param\":null,\"code\":\"1300\"}\n",
      "Retrying in 1 seconds...\n"
     ]
    },
    {
     "name": "stderr",
     "output_type": "stream",
     "text": [
      "Processing queries (generate or skip): 679it [10:00,  1.06it/s]"
     ]
    },
    {
     "name": "stdout",
     "output_type": "stream",
     "text": [
      "Error generating for query 'Anonymous Post-Quantum Cryptocash ? ( Full Version )' (Attempt 1/5): API error occurred: Status 429\n",
      "{\"object\":\"error\",\"message\":\"Rate limit exceeded\",\"type\":\"rate_limited\",\"param\":null,\"code\":\"1300\"}\n",
      "Retrying in 1 seconds...\n"
     ]
    },
    {
     "name": "stderr",
     "output_type": "stream",
     "text": [
      "Processing queries (generate or skip): 683it [10:04,  1.10it/s]"
     ]
    },
    {
     "name": "stdout",
     "output_type": "stream",
     "text": [
      "Error generating for query 'Hop-by-Hop Message Authenticationand Source Privacy in WirelessSensor Networks' (Attempt 1/5): API error occurred: Status 429\n",
      "{\"object\":\"error\",\"message\":\"Rate limit exceeded\",\"type\":\"rate_limited\",\"param\":null,\"code\":\"1300\"}\n",
      "Retrying in 1 seconds...\n"
     ]
    },
    {
     "name": "stderr",
     "output_type": "stream",
     "text": [
      "Processing queries (generate or skip): 686it [10:07,  1.16it/s]"
     ]
    },
    {
     "name": "stdout",
     "output_type": "stream",
     "text": [
      "Error generating for query 'Towards large-scale twitter mining for drug-related adverse events' (Attempt 1/5): API error occurred: Status 429\n",
      "{\"object\":\"error\",\"message\":\"Rate limit exceeded\",\"type\":\"rate_limited\",\"param\":null,\"code\":\"1300\"}\n",
      "Retrying in 1 seconds...\n"
     ]
    },
    {
     "name": "stderr",
     "output_type": "stream",
     "text": [
      "Processing queries (generate or skip): 689it [10:10,  1.23it/s]"
     ]
    },
    {
     "name": "stdout",
     "output_type": "stream",
     "text": [
      "Error generating for query 'Nested LSTM : Modeling Taxonomy and Temporal Dynamics in Location-Based Social Network' (Attempt 1/5): API error occurred: Status 429\n",
      "{\"object\":\"error\",\"message\":\"Rate limit exceeded\",\"type\":\"rate_limited\",\"param\":null,\"code\":\"1300\"}\n",
      "Retrying in 1 seconds...\n"
     ]
    },
    {
     "name": "stderr",
     "output_type": "stream",
     "text": [
      "Processing queries (generate or skip): 691it [10:12,  1.11it/s]"
     ]
    },
    {
     "name": "stdout",
     "output_type": "stream",
     "text": [
      "Error generating for query '0 User Modeling on Demographic Attributes in Big Mobile Social Networks' (Attempt 1/5): API error occurred: Status 429\n",
      "{\"object\":\"error\",\"message\":\"Rate limit exceeded\",\"type\":\"rate_limited\",\"param\":null,\"code\":\"1300\"}\n",
      "Retrying in 1 seconds...\n"
     ]
    },
    {
     "name": "stderr",
     "output_type": "stream",
     "text": [
      "Processing queries (generate or skip): 694it [10:15,  1.22it/s]"
     ]
    },
    {
     "name": "stdout",
     "output_type": "stream",
     "text": [
      "Error generating for query 'Random Walks and Neural Network Language Models on Knowledge Bases' (Attempt 1/5): API error occurred: Status 429\n",
      "{\"object\":\"error\",\"message\":\"Rate limit exceeded\",\"type\":\"rate_limited\",\"param\":null,\"code\":\"1300\"}\n",
      "Retrying in 1 seconds...\n"
     ]
    },
    {
     "name": "stderr",
     "output_type": "stream",
     "text": [
      "Processing queries (generate or skip): 696it [10:17,  1.08it/s]"
     ]
    },
    {
     "name": "stdout",
     "output_type": "stream",
     "text": [
      "Error generating for query 'On the Application of ISO 26262 in Control Design for Automated Vehicles' (Attempt 1/5): API error occurred: Status 429\n",
      "{\"object\":\"error\",\"message\":\"Rate limit exceeded\",\"type\":\"rate_limited\",\"param\":null,\"code\":\"1300\"}\n",
      "Retrying in 1 seconds...\n"
     ]
    },
    {
     "name": "stderr",
     "output_type": "stream",
     "text": [
      "Processing queries (generate or skip): 700it [10:21,  1.19it/s]"
     ]
    },
    {
     "name": "stdout",
     "output_type": "stream",
     "text": [
      "Error generating for query 'NFC Loop Antenna in Conjunction With the Lower Section of a Metal Cover' (Attempt 1/5): API error occurred: Status 429\n",
      "{\"object\":\"error\",\"message\":\"Rate limit exceeded\",\"type\":\"rate_limited\",\"param\":null,\"code\":\"1300\"}\n",
      "Retrying in 1 seconds...\n"
     ]
    },
    {
     "name": "stderr",
     "output_type": "stream",
     "text": [
      "Processing queries (generate or skip): 708it [10:29,  1.29it/s]"
     ]
    },
    {
     "name": "stdout",
     "output_type": "stream",
     "text": [
      "Error generating for query 'RTIC-C: A Big Data System for Massive Traffic Information Mining' (Attempt 1/5): API error occurred: Status 429\n",
      "{\"object\":\"error\",\"message\":\"Rate limit exceeded\",\"type\":\"rate_limited\",\"param\":null,\"code\":\"1300\"}\n",
      "Retrying in 1 seconds...\n"
     ]
    },
    {
     "name": "stderr",
     "output_type": "stream",
     "text": [
      "Processing queries (generate or skip): 710it [10:31,  1.13it/s]"
     ]
    },
    {
     "name": "stdout",
     "output_type": "stream",
     "text": [
      "Error generating for query 'Exploring romantic relationships on social networking sites using the self-expansion model' (Attempt 1/5): API error occurred: Status 429\n",
      "{\"object\":\"error\",\"message\":\"Rate limit exceeded\",\"type\":\"rate_limited\",\"param\":null,\"code\":\"1300\"}\n",
      "Retrying in 1 seconds...\n"
     ]
    },
    {
     "name": "stderr",
     "output_type": "stream",
     "text": [
      "Processing queries (generate or skip): 713it [10:34,  1.13it/s]"
     ]
    },
    {
     "name": "stdout",
     "output_type": "stream",
     "text": [
      "Error generating for query 'Data Management Challenges in Cloud Computing Infrastructures' (Attempt 1/5): API error occurred: Status 429\n",
      "{\"object\":\"error\",\"message\":\"Rate limit exceeded\",\"type\":\"rate_limited\",\"param\":null,\"code\":\"1300\"}\n",
      "Retrying in 1 seconds...\n"
     ]
    },
    {
     "name": "stderr",
     "output_type": "stream",
     "text": [
      "Processing queries (generate or skip): 716it [10:37,  1.26it/s]"
     ]
    },
    {
     "name": "stdout",
     "output_type": "stream",
     "text": [
      "Error generating for query 'A Single-Stage Single-Switch Soft-Switching Power-Factor-Correction LED Driver' (Attempt 1/5): API error occurred: Status 429\n",
      "{\"object\":\"error\",\"message\":\"Rate limit exceeded\",\"type\":\"rate_limited\",\"param\":null,\"code\":\"1300\"}\n",
      "Retrying in 1 seconds...\n"
     ]
    },
    {
     "name": "stderr",
     "output_type": "stream",
     "text": [
      "Processing queries (generate or skip): 718it [10:39,  1.05it/s]"
     ]
    },
    {
     "name": "stdout",
     "output_type": "stream",
     "text": [
      "Error generating for query 'Automatic road network extraction from UAV image in mountain area' (Attempt 1/5): API error occurred: Status 429\n",
      "{\"object\":\"error\",\"message\":\"Rate limit exceeded\",\"type\":\"rate_limited\",\"param\":null,\"code\":\"1300\"}\n",
      "Retrying in 1 seconds...\n"
     ]
    },
    {
     "name": "stderr",
     "output_type": "stream",
     "text": [
      "Processing queries (generate or skip): 721it [10:42,  1.19it/s]"
     ]
    },
    {
     "name": "stdout",
     "output_type": "stream",
     "text": [
      "Error generating for query 'The leadership of emergence : A complex systems leadership theory of emergence at successive organizational levels' (Attempt 1/5): API error occurred: Status 429\n",
      "{\"object\":\"error\",\"message\":\"Rate limit exceeded\",\"type\":\"rate_limited\",\"param\":null,\"code\":\"1300\"}\n",
      "Retrying in 1 seconds...\n"
     ]
    },
    {
     "name": "stderr",
     "output_type": "stream",
     "text": [
      "Processing queries (generate or skip): 728it [10:49,  1.38it/s]"
     ]
    },
    {
     "name": "stdout",
     "output_type": "stream",
     "text": [
      "Error generating for query 'Hidradenitis Suppurativa in Children Treated with Finasteride-A Case Series.' (Attempt 1/5): API error occurred: Status 429\n",
      "{\"object\":\"error\",\"message\":\"Rate limit exceeded\",\"type\":\"rate_limited\",\"param\":null,\"code\":\"1300\"}\n",
      "Retrying in 1 seconds...\n"
     ]
    },
    {
     "name": "stderr",
     "output_type": "stream",
     "text": [
      "Processing queries (generate or skip): 730it [10:52,  1.12it/s]"
     ]
    },
    {
     "name": "stdout",
     "output_type": "stream",
     "text": [
      "Error generating for query 'A Comprehensive Survey of Neighborhood-Based Recommendation Methods' (Attempt 1/5): API error occurred: Status 429\n",
      "{\"object\":\"error\",\"message\":\"Rate limit exceeded\",\"type\":\"rate_limited\",\"param\":null,\"code\":\"1300\"}\n",
      "Retrying in 1 seconds...\n"
     ]
    },
    {
     "name": "stderr",
     "output_type": "stream",
     "text": [
      "Processing queries (generate or skip): 737it [10:58,  1.25it/s]"
     ]
    },
    {
     "name": "stdout",
     "output_type": "stream",
     "text": [
      "Error generating for query 'Global outer-urban navigation with OpenStreetMap' (Attempt 1/5): API error occurred: Status 429\n",
      "{\"object\":\"error\",\"message\":\"Rate limit exceeded\",\"type\":\"rate_limited\",\"param\":null,\"code\":\"1300\"}\n",
      "Retrying in 1 seconds...\n"
     ]
    },
    {
     "name": "stderr",
     "output_type": "stream",
     "text": [
      "Processing queries (generate or skip): 742it [11:04,  1.38it/s]"
     ]
    },
    {
     "name": "stdout",
     "output_type": "stream",
     "text": [
      "Error generating for query 'A Biomedical Information Extraction Primer for NLP Researchers' (Attempt 1/5): API error occurred: Status 429\n",
      "{\"object\":\"error\",\"message\":\"Rate limit exceeded\",\"type\":\"rate_limited\",\"param\":null,\"code\":\"1300\"}\n",
      "Retrying in 1 seconds...\n"
     ]
    },
    {
     "name": "stderr",
     "output_type": "stream",
     "text": [
      "Processing queries (generate or skip): 744it [11:06,  1.12it/s]"
     ]
    },
    {
     "name": "stdout",
     "output_type": "stream",
     "text": [
      "Error generating for query '122 GHz radar sensor based on a monostatic SiGe-BiCMOS IC with an on-chip antenna' (Attempt 1/5): API error occurred: Status 429\n",
      "{\"object\":\"error\",\"message\":\"Rate limit exceeded\",\"type\":\"rate_limited\",\"param\":null,\"code\":\"1300\"}\n",
      "Retrying in 1 seconds...\n"
     ]
    },
    {
     "name": "stderr",
     "output_type": "stream",
     "text": [
      "Processing queries (generate or skip): 747it [11:09,  1.15it/s]"
     ]
    },
    {
     "name": "stdout",
     "output_type": "stream",
     "text": [
      "Error generating for query 'Risk Taking Under the Influence: A Fuzzy-Trace Theory of Emotion in Adolescence.' (Attempt 1/5): API error occurred: Status 429\n",
      "{\"object\":\"error\",\"message\":\"Rate limit exceeded\",\"type\":\"rate_limited\",\"param\":null,\"code\":\"1300\"}\n",
      "Retrying in 1 seconds...\n"
     ]
    },
    {
     "name": "stderr",
     "output_type": "stream",
     "text": [
      "Processing queries (generate or skip): 750it [11:12,  1.16it/s]"
     ]
    },
    {
     "name": "stdout",
     "output_type": "stream",
     "text": [
      "Error generating for query 'Learning to Accept New Classes without Training' (Attempt 1/5): API error occurred: Status 429\n",
      "{\"object\":\"error\",\"message\":\"Rate limit exceeded\",\"type\":\"rate_limited\",\"param\":null,\"code\":\"1300\"}\n",
      "Retrying in 1 seconds...\n"
     ]
    },
    {
     "name": "stderr",
     "output_type": "stream",
     "text": [
      "Processing queries (generate or skip): 753it [11:15,  1.22it/s]"
     ]
    },
    {
     "name": "stdout",
     "output_type": "stream",
     "text": [
      "Error generating for query 'Enabling Technologies for Smart City Services and Applications' (Attempt 1/5): API error occurred: Status 429\n",
      "{\"object\":\"error\",\"message\":\"Rate limit exceeded\",\"type\":\"rate_limited\",\"param\":null,\"code\":\"1300\"}\n",
      "Retrying in 1 seconds...\n"
     ]
    },
    {
     "name": "stderr",
     "output_type": "stream",
     "text": [
      "Processing queries (generate or skip): 755it [11:17,  1.05it/s]"
     ]
    },
    {
     "name": "stdout",
     "output_type": "stream",
     "text": [
      "Error generating for query 'HF outphasing transmitter using class-E power amplifiers' (Attempt 1/5): API error occurred: Status 429\n",
      "{\"object\":\"error\",\"message\":\"Rate limit exceeded\",\"type\":\"rate_limited\",\"param\":null,\"code\":\"1300\"}\n",
      "Retrying in 1 seconds...\n"
     ]
    },
    {
     "name": "stderr",
     "output_type": "stream",
     "text": [
      "Processing queries (generate or skip): 760it [11:22,  1.28it/s]"
     ]
    },
    {
     "name": "stdout",
     "output_type": "stream",
     "text": [
      "Error generating for query 'Record-Aware Two-Level Compression for Big Textual Data Analysis Acceleration' (Attempt 1/5): API error occurred: Status 429\n",
      "{\"object\":\"error\",\"message\":\"Rate limit exceeded\",\"type\":\"rate_limited\",\"param\":null,\"code\":\"1300\"}\n",
      "Retrying in 1 seconds...\n"
     ]
    },
    {
     "name": "stderr",
     "output_type": "stream",
     "text": [
      "Processing queries (generate or skip): 763it [11:25,  1.21it/s]"
     ]
    },
    {
     "name": "stdout",
     "output_type": "stream",
     "text": [
      "Error generating for query 'Data Provenance in the Internet of Things' (Attempt 1/5): API error occurred: Status 429\n",
      "{\"object\":\"error\",\"message\":\"Rate limit exceeded\",\"type\":\"rate_limited\",\"param\":null,\"code\":\"1300\"}\n",
      "Retrying in 1 seconds...\n"
     ]
    },
    {
     "name": "stderr",
     "output_type": "stream",
     "text": [
      "Processing queries (generate or skip): 765it [11:27,  1.00it/s]"
     ]
    },
    {
     "name": "stdout",
     "output_type": "stream",
     "text": [
      "Error generating for query 'Improving wikipedia-based place name disambiguation in short texts using structured data from DBpedia' (Attempt 1/5): API error occurred: Status 429\n",
      "{\"object\":\"error\",\"message\":\"Rate limit exceeded\",\"type\":\"rate_limited\",\"param\":null,\"code\":\"1300\"}\n",
      "Retrying in 1 seconds...\n"
     ]
    },
    {
     "name": "stderr",
     "output_type": "stream",
     "text": [
      "Processing queries (generate or skip): 768it [11:30,  1.16it/s]"
     ]
    },
    {
     "name": "stdout",
     "output_type": "stream",
     "text": [
      "Error generating for query 'Localization and map-building of mobile robot based on RFID sensor fusion system' (Attempt 1/5): API error occurred: Status 429\n",
      "{\"object\":\"error\",\"message\":\"Rate limit exceeded\",\"type\":\"rate_limited\",\"param\":null,\"code\":\"1300\"}\n",
      "Retrying in 1 seconds...\n"
     ]
    },
    {
     "name": "stderr",
     "output_type": "stream",
     "text": [
      "Processing queries (generate or skip): 771it [11:33,  1.09it/s]"
     ]
    },
    {
     "name": "stdout",
     "output_type": "stream",
     "text": [
      "Error generating for query 'Discrete Graph Hashing' (Attempt 1/5): API error occurred: Status 429\n",
      "{\"object\":\"error\",\"message\":\"Rate limit exceeded\",\"type\":\"rate_limited\",\"param\":null,\"code\":\"1300\"}\n",
      "Retrying in 1 seconds...\n"
     ]
    },
    {
     "name": "stderr",
     "output_type": "stream",
     "text": [
      "Processing queries (generate or skip): 774it [11:36,  1.18it/s]"
     ]
    },
    {
     "name": "stdout",
     "output_type": "stream",
     "text": [
      "Error generating for query 'Modeling Coverage for Neural Machine Translation' (Attempt 1/5): API error occurred: Status 429\n",
      "{\"object\":\"error\",\"message\":\"Rate limit exceeded\",\"type\":\"rate_limited\",\"param\":null,\"code\":\"1300\"}\n",
      "Retrying in 1 seconds...\n"
     ]
    },
    {
     "name": "stderr",
     "output_type": "stream",
     "text": [
      "Processing queries (generate or skip): 776it [11:38,  1.08it/s]"
     ]
    },
    {
     "name": "stdout",
     "output_type": "stream",
     "text": [
      "Error generating for query 'A Systematic Study of Online Class Imbalance Learning With Concept Drift' (Attempt 1/5): API error occurred: Status 429\n",
      "{\"object\":\"error\",\"message\":\"Rate limit exceeded\",\"type\":\"rate_limited\",\"param\":null,\"code\":\"1300\"}\n",
      "Retrying in 1 seconds...\n"
     ]
    },
    {
     "name": "stderr",
     "output_type": "stream",
     "text": [
      "Processing queries (generate or skip): 779it [11:41,  1.23it/s]"
     ]
    },
    {
     "name": "stdout",
     "output_type": "stream",
     "text": [
      "Error generating for query 'A 0.6-V 800-MHz All-Digital Phase-Locked Loop With a Digital Supply Regulator' (Attempt 1/5): API error occurred: Status 429\n",
      "{\"object\":\"error\",\"message\":\"Rate limit exceeded\",\"type\":\"rate_limited\",\"param\":null,\"code\":\"1300\"}\n",
      "Retrying in 1 seconds...\n"
     ]
    },
    {
     "name": "stderr",
     "output_type": "stream",
     "text": [
      "Processing queries (generate or skip): 782it [11:44,  1.23it/s]"
     ]
    },
    {
     "name": "stdout",
     "output_type": "stream",
     "text": [
      "Error generating for query 'EvoloPy: An Open-source Nature-inspired Optimization Framework in Python' (Attempt 1/5): API error occurred: Status 429\n",
      "{\"object\":\"error\",\"message\":\"Rate limit exceeded\",\"type\":\"rate_limited\",\"param\":null,\"code\":\"1300\"}\n",
      "Retrying in 1 seconds...\n"
     ]
    },
    {
     "name": "stderr",
     "output_type": "stream",
     "text": [
      "Processing queries (generate or skip): 784it [11:46,  1.09it/s]"
     ]
    },
    {
     "name": "stdout",
     "output_type": "stream",
     "text": [
      "Error generating for query 'Software.zhishi.schema: A Software Programming Taxonomy Derived from Stackoverflow' (Attempt 1/5): API error occurred: Status 429\n",
      "{\"object\":\"error\",\"message\":\"Rate limit exceeded\",\"type\":\"rate_limited\",\"param\":null,\"code\":\"1300\"}\n",
      "Retrying in 1 seconds...\n"
     ]
    },
    {
     "name": "stderr",
     "output_type": "stream",
     "text": [
      "Processing queries (generate or skip): 787it [11:49,  1.10it/s]"
     ]
    },
    {
     "name": "stdout",
     "output_type": "stream",
     "text": [
      "Error generating for query 'Swarm: Hyper Awareness, Micro Coordination, and Smart Convergence through Mobile Group Text Messaging' (Attempt 1/5): API error occurred: Status 429\n",
      "{\"object\":\"error\",\"message\":\"Rate limit exceeded\",\"type\":\"rate_limited\",\"param\":null,\"code\":\"1300\"}\n",
      "Retrying in 1 seconds...\n"
     ]
    },
    {
     "name": "stderr",
     "output_type": "stream",
     "text": [
      "Processing queries (generate or skip): 791it [11:53,  1.18it/s]"
     ]
    },
    {
     "name": "stdout",
     "output_type": "stream",
     "text": [
      "Error generating for query '4D Generic Video Object Proposals' (Attempt 1/5): API error occurred: Status 429\n",
      "{\"object\":\"error\",\"message\":\"Rate limit exceeded\",\"type\":\"rate_limited\",\"param\":null,\"code\":\"1300\"}\n",
      "Retrying in 1 seconds...\n"
     ]
    },
    {
     "name": "stderr",
     "output_type": "stream",
     "text": [
      "Processing queries (generate or skip): 793it [11:55,  1.08it/s]"
     ]
    },
    {
     "name": "stdout",
     "output_type": "stream",
     "text": [
      "Error generating for query 'Mobile Location Prediction in Spatio-Temporal Context' (Attempt 1/5): API error occurred: Status 429\n",
      "{\"object\":\"error\",\"message\":\"Rate limit exceeded\",\"type\":\"rate_limited\",\"param\":null,\"code\":\"1300\"}\n",
      "Retrying in 1 seconds...\n"
     ]
    },
    {
     "name": "stderr",
     "output_type": "stream",
     "text": [
      "Processing queries (generate or skip): 797it [11:59,  1.15it/s]"
     ]
    },
    {
     "name": "stdout",
     "output_type": "stream",
     "text": [
      "Error generating for query 'Variance Reduction for Faster Non-Convex Optimization' (Attempt 1/5): API error occurred: Status 429\n",
      "{\"object\":\"error\",\"message\":\"Rate limit exceeded\",\"type\":\"rate_limited\",\"param\":null,\"code\":\"1300\"}\n",
      "Retrying in 1 seconds...\n"
     ]
    },
    {
     "name": "stderr",
     "output_type": "stream",
     "text": [
      "Processing queries (generate or skip): 801it [12:03,  1.15it/s]"
     ]
    },
    {
     "name": "stdout",
     "output_type": "stream",
     "text": [
      "Error generating for query 'A Neural Network Approach to Missing Marker Reconstruction' (Attempt 1/5): API error occurred: Status 429\n",
      "{\"object\":\"error\",\"message\":\"Rate limit exceeded\",\"type\":\"rate_limited\",\"param\":null,\"code\":\"1300\"}\n",
      "Retrying in 1 seconds...\n"
     ]
    },
    {
     "name": "stderr",
     "output_type": "stream",
     "text": [
      "Processing queries (generate or skip): 803it [12:05,  1.08it/s]"
     ]
    },
    {
     "name": "stdout",
     "output_type": "stream",
     "text": [
      "Error generating for query 'Multimodal feature fusion for CNN-based gait recognition: an empirical comparison' (Attempt 1/5): API error occurred: Status 429\n",
      "{\"object\":\"error\",\"message\":\"Rate limit exceeded\",\"type\":\"rate_limited\",\"param\":null,\"code\":\"1300\"}\n",
      "Retrying in 1 seconds...\n"
     ]
    },
    {
     "name": "stderr",
     "output_type": "stream",
     "text": [
      "Processing queries (generate or skip): 806it [12:08,  1.20it/s]"
     ]
    },
    {
     "name": "stdout",
     "output_type": "stream",
     "text": [
      "Error generating for query 'A novel evolutionary data mining algorithm with applications to churn prediction' (Attempt 1/5): API error occurred: Status 429\n",
      "{\"object\":\"error\",\"message\":\"Rate limit exceeded\",\"type\":\"rate_limited\",\"param\":null,\"code\":\"1300\"}\n",
      "Retrying in 1 seconds...\n"
     ]
    },
    {
     "name": "stderr",
     "output_type": "stream",
     "text": [
      "Processing queries (generate or skip): 808it [12:11,  1.08it/s]"
     ]
    },
    {
     "name": "stdout",
     "output_type": "stream",
     "text": [
      "Error generating for query 'Representation learning with complete semantic description of knowledge graphs' (Attempt 1/5): API error occurred: Status 429\n",
      "{\"object\":\"error\",\"message\":\"Rate limit exceeded\",\"type\":\"rate_limited\",\"param\":null,\"code\":\"1300\"}\n",
      "Retrying in 1 seconds...\n"
     ]
    },
    {
     "name": "stderr",
     "output_type": "stream",
     "text": [
      "Processing queries (generate or skip): 811it [12:13,  1.16it/s]"
     ]
    },
    {
     "name": "stdout",
     "output_type": "stream",
     "text": [
      "Error generating for query 'Medical Diagnosis for Liver Cancer using Classification Techniques' (Attempt 1/5): API error occurred: Status 429\n",
      "{\"object\":\"error\",\"message\":\"Rate limit exceeded\",\"type\":\"rate_limited\",\"param\":null,\"code\":\"1300\"}\n",
      "Retrying in 1 seconds...\n"
     ]
    },
    {
     "name": "stderr",
     "output_type": "stream",
     "text": [
      "Processing queries (generate or skip): 814it [12:16,  1.21it/s]"
     ]
    },
    {
     "name": "stdout",
     "output_type": "stream",
     "text": [
      "Error generating for query 'Indoor positioning of mobile devices with agile iBeacon deployment' (Attempt 1/5): API error occurred: Status 429\n",
      "{\"object\":\"error\",\"message\":\"Rate limit exceeded\",\"type\":\"rate_limited\",\"param\":null,\"code\":\"1300\"}\n",
      "Retrying in 1 seconds...\n"
     ]
    },
    {
     "name": "stderr",
     "output_type": "stream",
     "text": [
      "Processing queries (generate or skip): 818it [12:20,  1.27it/s]"
     ]
    },
    {
     "name": "stdout",
     "output_type": "stream",
     "text": [
      "Error generating for query 'Towards an Information Security Framework for the Automotive Domain' (Attempt 1/5): API error occurred: Status 429\n",
      "{\"object\":\"error\",\"message\":\"Rate limit exceeded\",\"type\":\"rate_limited\",\"param\":null,\"code\":\"1300\"}\n",
      "Retrying in 1 seconds...\n"
     ]
    },
    {
     "name": "stderr",
     "output_type": "stream",
     "text": [
      "Processing queries (generate or skip): 821it [12:23,  1.21it/s]"
     ]
    },
    {
     "name": "stdout",
     "output_type": "stream",
     "text": [
      "Error generating for query 'Cross-Domain Traffic Scene Understanding: A Dense Correspondence-Based Transfer Learning Approach' (Attempt 1/5): API error occurred: Status 429\n",
      "{\"object\":\"error\",\"message\":\"Rate limit exceeded\",\"type\":\"rate_limited\",\"param\":null,\"code\":\"1300\"}\n",
      "Retrying in 1 seconds...\n"
     ]
    },
    {
     "name": "stderr",
     "output_type": "stream",
     "text": [
      "Processing queries (generate or skip): 823it [12:25,  1.05it/s]"
     ]
    },
    {
     "name": "stdout",
     "output_type": "stream",
     "text": [
      "Error generating for query 'Personality Consistency in Dogs: A Meta-Analysis' (Attempt 1/5): API error occurred: Status 429\n",
      "{\"object\":\"error\",\"message\":\"Rate limit exceeded\",\"type\":\"rate_limited\",\"param\":null,\"code\":\"1300\"}\n",
      "Retrying in 1 seconds...\n"
     ]
    },
    {
     "name": "stderr",
     "output_type": "stream",
     "text": [
      "Processing queries (generate or skip): 827it [12:29,  1.18it/s]"
     ]
    },
    {
     "name": "stdout",
     "output_type": "stream",
     "text": [
      "Error generating for query 'Towards 3D Face Recognition in the Real: A Registration-Free Approach Using Fine-Grained Matching of 3D Keypoint Descriptors' (Attempt 1/5): API error occurred: Status 429\n",
      "{\"object\":\"error\",\"message\":\"Rate limit exceeded\",\"type\":\"rate_limited\",\"param\":null,\"code\":\"1300\"}\n",
      "Retrying in 1 seconds...\n"
     ]
    },
    {
     "name": "stderr",
     "output_type": "stream",
     "text": [
      "Processing queries (generate or skip): 831it [12:33,  1.26it/s]"
     ]
    },
    {
     "name": "stdout",
     "output_type": "stream",
     "text": [
      "Error generating for query 'A Fully Automatic Crossword Generator' (Attempt 1/5): API error occurred: Status 429\n",
      "{\"object\":\"error\",\"message\":\"Rate limit exceeded\",\"type\":\"rate_limited\",\"param\":null,\"code\":\"1300\"}\n",
      "Retrying in 1 seconds...\n"
     ]
    },
    {
     "name": "stderr",
     "output_type": "stream",
     "text": [
      "Processing queries (generate or skip): 834it [12:36,  1.26it/s]"
     ]
    },
    {
     "name": "stdout",
     "output_type": "stream",
     "text": [
      "Error generating for query 'Improving Naive Bayes Classifier Using Conditional Probabilities' (Attempt 1/5): API error occurred: Status 429\n",
      "{\"object\":\"error\",\"message\":\"Rate limit exceeded\",\"type\":\"rate_limited\",\"param\":null,\"code\":\"1300\"}\n",
      "Retrying in 1 seconds...\n"
     ]
    },
    {
     "name": "stderr",
     "output_type": "stream",
     "text": [
      "Processing queries (generate or skip): 836it [12:39,  1.06it/s]"
     ]
    },
    {
     "name": "stdout",
     "output_type": "stream",
     "text": [
      "Error generating for query 'Time-Agnostic Prediction: Predicting Predictable Video Frames' (Attempt 1/5): API error occurred: Status 429\n",
      "{\"object\":\"error\",\"message\":\"Rate limit exceeded\",\"type\":\"rate_limited\",\"param\":null,\"code\":\"1300\"}\n",
      "Retrying in 1 seconds...\n"
     ]
    },
    {
     "name": "stderr",
     "output_type": "stream",
     "text": [
      "Processing queries (generate or skip): 839it [12:41,  1.18it/s]"
     ]
    },
    {
     "name": "stdout",
     "output_type": "stream",
     "text": [
      "Error generating for query 'Toward an IT governance maturity self-assessment model using EFQM and CobiT' (Attempt 1/5): API error occurred: Status 429\n",
      "{\"object\":\"error\",\"message\":\"Rate limit exceeded\",\"type\":\"rate_limited\",\"param\":null,\"code\":\"1300\"}\n",
      "Retrying in 1 seconds...\n"
     ]
    },
    {
     "name": "stderr",
     "output_type": "stream",
     "text": [
      "Processing queries (generate or skip): 842it [12:45,  1.15it/s]"
     ]
    },
    {
     "name": "stdout",
     "output_type": "stream",
     "text": [
      "Error generating for query 'Neural correlates of heart rate variability during emotion' (Attempt 1/5): API error occurred: Status 429\n",
      "{\"object\":\"error\",\"message\":\"Rate limit exceeded\",\"type\":\"rate_limited\",\"param\":null,\"code\":\"1300\"}\n",
      "Retrying in 1 seconds...\n"
     ]
    },
    {
     "name": "stderr",
     "output_type": "stream",
     "text": [
      "Processing queries (generate or skip): 845it [12:47,  1.24it/s]"
     ]
    },
    {
     "name": "stdout",
     "output_type": "stream",
     "text": [
      "Error generating for query 'Hierarchical Complementary Attention Network for Predicting Stock Price Movements with News' (Attempt 1/5): API error occurred: Status 429\n",
      "{\"object\":\"error\",\"message\":\"Rate limit exceeded\",\"type\":\"rate_limited\",\"param\":null,\"code\":\"1300\"}\n",
      "Retrying in 1 seconds...\n"
     ]
    },
    {
     "name": "stderr",
     "output_type": "stream",
     "text": [
      "Processing queries (generate or skip): 848it [12:50,  1.22it/s]"
     ]
    },
    {
     "name": "stdout",
     "output_type": "stream",
     "text": [
      "Error generating for query 'Recipient Revocable Identity-Based Broadcast Encryption: How to Revoke Some Recipients in IBBE without Knowledge of the Plaintext' (Attempt 1/5): API error occurred: Status 429\n",
      "{\"object\":\"error\",\"message\":\"Rate limit exceeded\",\"type\":\"rate_limited\",\"param\":null,\"code\":\"1300\"}\n",
      "Retrying in 1 seconds...\n"
     ]
    },
    {
     "name": "stderr",
     "output_type": "stream",
     "text": [
      "Processing queries (generate or skip): 851it [12:53,  1.17it/s]"
     ]
    },
    {
     "name": "stdout",
     "output_type": "stream",
     "text": [
      "Error generating for query 'AntNet: Distributed Stigmergetic Control for Communications Networks' (Attempt 1/5): API error occurred: Status 429\n",
      "{\"object\":\"error\",\"message\":\"Rate limit exceeded\",\"type\":\"rate_limited\",\"param\":null,\"code\":\"1300\"}\n",
      "Retrying in 1 seconds...\n"
     ]
    },
    {
     "name": "stderr",
     "output_type": "stream",
     "text": [
      "Processing queries (generate or skip): 854it [12:56,  1.24it/s]"
     ]
    },
    {
     "name": "stdout",
     "output_type": "stream",
     "text": [
      "Error generating for query 'Incorporating Syntactic Uncertainty in Neural Machine Translation with a Forest-to-Sequence Model' (Attempt 1/5): API error occurred: Status 429\n",
      "{\"object\":\"error\",\"message\":\"Rate limit exceeded\",\"type\":\"rate_limited\",\"param\":null,\"code\":\"1300\"}\n",
      "Retrying in 1 seconds...\n"
     ]
    },
    {
     "name": "stderr",
     "output_type": "stream",
     "text": [
      "Processing queries (generate or skip): 857it [12:59,  1.16it/s]"
     ]
    },
    {
     "name": "stdout",
     "output_type": "stream",
     "text": [
      "Error generating for query 'Entity Set Expansion via Knowledge Graphs' (Attempt 1/5): API error occurred: Status 429\n",
      "{\"object\":\"error\",\"message\":\"Rate limit exceeded\",\"type\":\"rate_limited\",\"param\":null,\"code\":\"1300\"}\n",
      "Retrying in 1 seconds...\n"
     ]
    },
    {
     "name": "stderr",
     "output_type": "stream",
     "text": [
      "Processing queries (generate or skip): 860it [13:02,  1.12it/s]"
     ]
    },
    {
     "name": "stdout",
     "output_type": "stream",
     "text": [
      "Error generating for query 'An evaluation of dynamic adaptive streaming over HTTP in vehicular environments' (Attempt 1/5): API error occurred: Status 429\n",
      "{\"object\":\"error\",\"message\":\"Rate limit exceeded\",\"type\":\"rate_limited\",\"param\":null,\"code\":\"1300\"}\n",
      "Retrying in 1 seconds...\n"
     ]
    },
    {
     "name": "stderr",
     "output_type": "stream",
     "text": [
      "Processing queries (generate or skip): 863it [13:05,  1.15it/s]"
     ]
    },
    {
     "name": "stdout",
     "output_type": "stream",
     "text": [
      "Error generating for query '20 Machine Analysis of Facial Expressions' (Attempt 1/5): API error occurred: Status 429\n",
      "{\"object\":\"error\",\"message\":\"Rate limit exceeded\",\"type\":\"rate_limited\",\"param\":null,\"code\":\"1300\"}\n",
      "Retrying in 1 seconds...\n"
     ]
    },
    {
     "name": "stderr",
     "output_type": "stream",
     "text": [
      "Processing queries (generate or skip): 866it [13:08,  1.21it/s]"
     ]
    },
    {
     "name": "stdout",
     "output_type": "stream",
     "text": [
      "Error generating for query 'Extending the CSG Tree - Warping, Blending and Boolean Operations in an Implicit Surface Modeling System' (Attempt 1/5): API error occurred: Status 429\n",
      "{\"object\":\"error\",\"message\":\"Rate limit exceeded\",\"type\":\"rate_limited\",\"param\":null,\"code\":\"1300\"}\n",
      "Retrying in 1 seconds...\n"
     ]
    },
    {
     "name": "stderr",
     "output_type": "stream",
     "text": [
      "Processing queries (generate or skip): 869it [13:11,  1.12it/s]"
     ]
    },
    {
     "name": "stdout",
     "output_type": "stream",
     "text": [
      "Error generating for query 'Real-Time Online Action Detection Forests Using Spatio-Temporal Contexts' (Attempt 1/5): API error occurred: Status 429\n",
      "{\"object\":\"error\",\"message\":\"Rate limit exceeded\",\"type\":\"rate_limited\",\"param\":null,\"code\":\"1300\"}\n",
      "Retrying in 1 seconds...\n"
     ]
    },
    {
     "name": "stderr",
     "output_type": "stream",
     "text": [
      "Processing queries (generate or skip): 872it [13:14,  1.17it/s]"
     ]
    },
    {
     "name": "stdout",
     "output_type": "stream",
     "text": [
      "Error generating for query 'InferSpark: Statistical Inference at Scale' (Attempt 1/5): API error occurred: Status 429\n",
      "{\"object\":\"error\",\"message\":\"Rate limit exceeded\",\"type\":\"rate_limited\",\"param\":null,\"code\":\"1300\"}\n",
      "Retrying in 1 seconds...\n"
     ]
    },
    {
     "name": "stderr",
     "output_type": "stream",
     "text": [
      "Processing queries (generate or skip): 875it [13:17,  1.15it/s]"
     ]
    },
    {
     "name": "stdout",
     "output_type": "stream",
     "text": [
      "Error generating for query 'The POSTECH face database (PF07) and performance evaluation' (Attempt 1/5): API error occurred: Status 429\n",
      "{\"object\":\"error\",\"message\":\"Rate limit exceeded\",\"type\":\"rate_limited\",\"param\":null,\"code\":\"1300\"}\n",
      "Retrying in 1 seconds...\n"
     ]
    },
    {
     "name": "stderr",
     "output_type": "stream",
     "text": [
      "Processing queries (generate or skip): 879it [13:21,  1.10it/s]"
     ]
    },
    {
     "name": "stdout",
     "output_type": "stream",
     "text": [
      "Error generating for query 'Device to device interaction analysis in IoT based Smart Traffic Management System: An experimental approach' (Attempt 1/5): API error occurred: Status 429\n",
      "{\"object\":\"error\",\"message\":\"Rate limit exceeded\",\"type\":\"rate_limited\",\"param\":null,\"code\":\"1300\"}\n",
      "Retrying in 1 seconds...\n"
     ]
    },
    {
     "name": "stderr",
     "output_type": "stream",
     "text": [
      "Processing queries (generate or skip): 882it [13:25,  1.09it/s]"
     ]
    },
    {
     "name": "stdout",
     "output_type": "stream",
     "text": [
      "Error generating for query 'Analog CMOS-based resistive processing unit for deep neural network training' (Attempt 1/5): API error occurred: Status 429\n",
      "{\"object\":\"error\",\"message\":\"Rate limit exceeded\",\"type\":\"rate_limited\",\"param\":null,\"code\":\"1300\"}\n",
      "Retrying in 1 seconds...\n"
     ]
    },
    {
     "name": "stderr",
     "output_type": "stream",
     "text": [
      "Processing queries (generate or skip): 886it [13:28,  1.22it/s]"
     ]
    },
    {
     "name": "stdout",
     "output_type": "stream",
     "text": [
      "Error generating for query 'An Overview of Data Mining Techniques Applied for Heart Disease Diagnosis and Prediction' (Attempt 1/5): API error occurred: Status 429\n",
      "{\"object\":\"error\",\"message\":\"Rate limit exceeded\",\"type\":\"rate_limited\",\"param\":null,\"code\":\"1300\"}\n",
      "Retrying in 1 seconds...\n"
     ]
    },
    {
     "name": "stderr",
     "output_type": "stream",
     "text": [
      "Processing queries (generate or skip): 889it [13:32,  1.06it/s]"
     ]
    },
    {
     "name": "stdout",
     "output_type": "stream",
     "text": [
      "Error generating for query 'Riesz Fractional Based Model for Enhancing License Plate Detection and Recognition' (Attempt 1/5): API error occurred: Status 429\n",
      "{\"object\":\"error\",\"message\":\"Rate limit exceeded\",\"type\":\"rate_limited\",\"param\":null,\"code\":\"1300\"}\n",
      "Retrying in 1 seconds...\n"
     ]
    },
    {
     "name": "stderr",
     "output_type": "stream",
     "text": [
      "Processing queries (generate or skip): 892it [13:34,  1.16it/s]"
     ]
    },
    {
     "name": "stdout",
     "output_type": "stream",
     "text": [
      "Error generating for query 'An adaptive threshold deep learning method for fire and smoke detection' (Attempt 1/5): API error occurred: Status 429\n",
      "{\"object\":\"error\",\"message\":\"Rate limit exceeded\",\"type\":\"rate_limited\",\"param\":null,\"code\":\"1300\"}\n",
      "Retrying in 1 seconds...\n"
     ]
    },
    {
     "name": "stderr",
     "output_type": "stream",
     "text": [
      "Processing queries (generate or skip): 899it [13:41,  1.27it/s]"
     ]
    },
    {
     "name": "stdout",
     "output_type": "stream",
     "text": [
      "Error generating for query 'Simulation and analysis of a single phase AC-DC boost PFC converter with a passive snubber for power quality improvement' (Attempt 1/5): API error occurred: Status 429\n",
      "{\"object\":\"error\",\"message\":\"Rate limit exceeded\",\"type\":\"rate_limited\",\"param\":null,\"code\":\"1300\"}\n",
      "Retrying in 1 seconds...\n"
     ]
    },
    {
     "name": "stderr",
     "output_type": "stream",
     "text": [
      "Processing queries (generate or skip): 902it [13:44,  1.23it/s]"
     ]
    },
    {
     "name": "stdout",
     "output_type": "stream",
     "text": [
      "Error generating for query 'Digital image forensics: a booklet for beginners' (Attempt 1/5): API error occurred: Status 429\n",
      "{\"object\":\"error\",\"message\":\"Rate limit exceeded\",\"type\":\"rate_limited\",\"param\":null,\"code\":\"1300\"}\n",
      "Retrying in 1 seconds...\n"
     ]
    },
    {
     "name": "stderr",
     "output_type": "stream",
     "text": [
      "Processing queries (generate or skip): 905it [13:47,  1.24it/s]"
     ]
    },
    {
     "name": "stdout",
     "output_type": "stream",
     "text": [
      "Error generating for query 'Inverse Kinematic Infrared Optical Finger Tracking' (Attempt 1/5): API error occurred: Status 429\n",
      "{\"object\":\"error\",\"message\":\"Rate limit exceeded\",\"type\":\"rate_limited\",\"param\":null,\"code\":\"1300\"}\n",
      "Retrying in 1 seconds...\n"
     ]
    },
    {
     "name": "stderr",
     "output_type": "stream",
     "text": [
      "Processing queries (generate or skip): 917it [14:00,  1.33it/s]"
     ]
    },
    {
     "name": "stdout",
     "output_type": "stream",
     "text": [
      "Error generating for query 'Recurrent World Models Facilitate Policy Evolution' (Attempt 1/5): API error occurred: Status 429\n",
      "{\"object\":\"error\",\"message\":\"Rate limit exceeded\",\"type\":\"rate_limited\",\"param\":null,\"code\":\"1300\"}\n",
      "Retrying in 1 seconds...\n"
     ]
    },
    {
     "name": "stderr",
     "output_type": "stream",
     "text": [
      "Processing queries (generate or skip): 920it [14:03,  1.20it/s]"
     ]
    },
    {
     "name": "stdout",
     "output_type": "stream",
     "text": [
      "Error generating for query 'Two types of dopamine neuron distinctly convey positive and negative motivational signals' (Attempt 1/5): API error occurred: Status 429\n",
      "{\"object\":\"error\",\"message\":\"Rate limit exceeded\",\"type\":\"rate_limited\",\"param\":null,\"code\":\"1300\"}\n",
      "Retrying in 1 seconds...\n"
     ]
    },
    {
     "name": "stderr",
     "output_type": "stream",
     "text": [
      "Processing queries (generate or skip): 923it [14:05,  1.21it/s]"
     ]
    },
    {
     "name": "stdout",
     "output_type": "stream",
     "text": [
      "Error generating for query 'Harnessing Automated Test Case Generators for GUI Testing in Industry' (Attempt 1/5): API error occurred: Status 429\n",
      "{\"object\":\"error\",\"message\":\"Rate limit exceeded\",\"type\":\"rate_limited\",\"param\":null,\"code\":\"1300\"}\n",
      "Retrying in 1 seconds...\n"
     ]
    },
    {
     "name": "stderr",
     "output_type": "stream",
     "text": [
      "Processing queries (generate or skip): 926it [14:08,  1.19it/s]"
     ]
    },
    {
     "name": "stdout",
     "output_type": "stream",
     "text": [
      "Error generating for query 'Analyzing inter-application communication in Android' (Attempt 1/5): API error occurred: Status 429\n",
      "{\"object\":\"error\",\"message\":\"Rate limit exceeded\",\"type\":\"rate_limited\",\"param\":null,\"code\":\"1300\"}\n",
      "Retrying in 1 seconds...\n"
     ]
    },
    {
     "name": "stderr",
     "output_type": "stream",
     "text": [
      "Processing queries (generate or skip): 929it [14:11,  1.15it/s]"
     ]
    },
    {
     "name": "stdout",
     "output_type": "stream",
     "text": [
      "Error generating for query 'Synthesizing open worlds with constraints using locally annealed reversible jump MCMC' (Attempt 1/5): API error occurred: Status 429\n",
      "{\"object\":\"error\",\"message\":\"Rate limit exceeded\",\"type\":\"rate_limited\",\"param\":null,\"code\":\"1300\"}\n",
      "Retrying in 1 seconds...\n"
     ]
    },
    {
     "name": "stderr",
     "output_type": "stream",
     "text": [
      "Processing queries (generate or skip): 932it [14:14,  1.22it/s]"
     ]
    },
    {
     "name": "stdout",
     "output_type": "stream",
     "text": [
      "Error generating for query 'Flexible and Fine-Grained Attribute-Based Data Storage in Cloud Computing' (Attempt 1/5): API error occurred: Status 429\n",
      "{\"object\":\"error\",\"message\":\"Rate limit exceeded\",\"type\":\"rate_limited\",\"param\":null,\"code\":\"1300\"}\n",
      "Retrying in 1 seconds...\n"
     ]
    },
    {
     "name": "stderr",
     "output_type": "stream",
     "text": [
      "Processing queries (generate or skip): 935it [14:18,  1.11it/s]"
     ]
    },
    {
     "name": "stdout",
     "output_type": "stream",
     "text": [
      "Error generating for query 'Miniaturized Circularly Polarized Patch Antenna With Low Back Radiation for GPS Satellite Communications' (Attempt 1/5): API error occurred: Status 429\n",
      "{\"object\":\"error\",\"message\":\"Rate limit exceeded\",\"type\":\"rate_limited\",\"param\":null,\"code\":\"1300\"}\n",
      "Retrying in 1 seconds...\n"
     ]
    },
    {
     "name": "stderr",
     "output_type": "stream",
     "text": [
      "Processing queries (generate or skip): 940it [14:22,  1.28it/s]"
     ]
    },
    {
     "name": "stdout",
     "output_type": "stream",
     "text": [
      "Error generating for query 'One-DOF Superimposed Rigid Origami with Multiple States' (Attempt 1/5): API error occurred: Status 429\n",
      "{\"object\":\"error\",\"message\":\"Rate limit exceeded\",\"type\":\"rate_limited\",\"param\":null,\"code\":\"1300\"}\n",
      "Retrying in 1 seconds...\n"
     ]
    },
    {
     "name": "stderr",
     "output_type": "stream",
     "text": [
      "Processing queries (generate or skip): 943it [14:25,  1.20it/s]"
     ]
    },
    {
     "name": "stdout",
     "output_type": "stream",
     "text": [
      "Error generating for query 'Text Mining for Biology And Biomedicine' (Attempt 1/5): API error occurred: Status 429\n",
      "{\"object\":\"error\",\"message\":\"Rate limit exceeded\",\"type\":\"rate_limited\",\"param\":null,\"code\":\"1300\"}\n",
      "Retrying in 1 seconds...\n"
     ]
    },
    {
     "name": "stderr",
     "output_type": "stream",
     "text": [
      "Processing queries (generate or skip): 946it [14:28,  1.18it/s]"
     ]
    },
    {
     "name": "stdout",
     "output_type": "stream",
     "text": [
      "Error generating for query 'Computer Vision Accelerators for Mobile Systems based on OpenCL GPGPU Co-Processing' (Attempt 1/5): API error occurred: Status 429\n",
      "{\"object\":\"error\",\"message\":\"Rate limit exceeded\",\"type\":\"rate_limited\",\"param\":null,\"code\":\"1300\"}\n",
      "Retrying in 1 seconds...\n"
     ]
    },
    {
     "name": "stderr",
     "output_type": "stream",
     "text": [
      "Processing queries (generate or skip): 949it [14:31,  1.20it/s]"
     ]
    },
    {
     "name": "stdout",
     "output_type": "stream",
     "text": [
      "Error generating for query 'Trust Region Policy Optimization' (Attempt 1/5): API error occurred: Status 429\n",
      "{\"object\":\"error\",\"message\":\"Rate limit exceeded\",\"type\":\"rate_limited\",\"param\":null,\"code\":\"1300\"}\n",
      "Retrying in 1 seconds...\n"
     ]
    },
    {
     "name": "stderr",
     "output_type": "stream",
     "text": [
      "Processing queries (generate or skip): 952it [14:34,  1.25it/s]"
     ]
    },
    {
     "name": "stdout",
     "output_type": "stream",
     "text": [
      "Error generating for query 'Control theoretic approach to tracking radar: First step towards cognition' (Attempt 1/5): API error occurred: Status 429\n",
      "{\"object\":\"error\",\"message\":\"Rate limit exceeded\",\"type\":\"rate_limited\",\"param\":null,\"code\":\"1300\"}\n",
      "Retrying in 1 seconds...\n"
     ]
    },
    {
     "name": "stderr",
     "output_type": "stream",
     "text": [
      "Processing queries (generate or skip): 954it [14:36,  1.07it/s]"
     ]
    },
    {
     "name": "stdout",
     "output_type": "stream",
     "text": [
      "Error generating for query 'Detecting deception: the scope and limits' (Attempt 1/5): API error occurred: Status 429\n",
      "{\"object\":\"error\",\"message\":\"Rate limit exceeded\",\"type\":\"rate_limited\",\"param\":null,\"code\":\"1300\"}\n",
      "Retrying in 1 seconds...\n"
     ]
    },
    {
     "name": "stderr",
     "output_type": "stream",
     "text": [
      "Processing queries (generate or skip): 958it [14:40,  1.19it/s]"
     ]
    },
    {
     "name": "stdout",
     "output_type": "stream",
     "text": [
      "Error generating for query 'A Survey of Visualization Construction User Interfaces' (Attempt 1/5): API error occurred: Status 429\n",
      "{\"object\":\"error\",\"message\":\"Rate limit exceeded\",\"type\":\"rate_limited\",\"param\":null,\"code\":\"1300\"}\n",
      "Retrying in 1 seconds...\n"
     ]
    },
    {
     "name": "stderr",
     "output_type": "stream",
     "text": [
      "Processing queries (generate or skip): 961it [14:43,  1.21it/s]"
     ]
    },
    {
     "name": "stdout",
     "output_type": "stream",
     "text": [
      "Error generating for query 'Classification of sensor errors for the statistical simulation of environmental perception in automated driving systems' (Attempt 1/5): API error occurred: Status 429\n",
      "{\"object\":\"error\",\"message\":\"Rate limit exceeded\",\"type\":\"rate_limited\",\"param\":null,\"code\":\"1300\"}\n",
      "Retrying in 1 seconds...\n"
     ]
    },
    {
     "name": "stderr",
     "output_type": "stream",
     "text": [
      "Processing queries (generate or skip): 965it [14:47,  1.22it/s]"
     ]
    },
    {
     "name": "stdout",
     "output_type": "stream",
     "text": [
      "Error generating for query 'Tradeoffs in Neural Variational Inference Thesis' (Attempt 1/5): API error occurred: Status 429\n",
      "{\"object\":\"error\",\"message\":\"Rate limit exceeded\",\"type\":\"rate_limited\",\"param\":null,\"code\":\"1300\"}\n",
      "Retrying in 1 seconds...\n"
     ]
    },
    {
     "name": "stderr",
     "output_type": "stream",
     "text": [
      "Processing queries (generate or skip): 969it [14:51,  1.21it/s]"
     ]
    },
    {
     "name": "stdout",
     "output_type": "stream",
     "text": [
      "Error generating for query 'Affordances as a Framework for Robot Control' (Attempt 1/5): API error occurred: Status 429\n",
      "{\"object\":\"error\",\"message\":\"Rate limit exceeded\",\"type\":\"rate_limited\",\"param\":null,\"code\":\"1300\"}\n",
      "Retrying in 1 seconds...\n"
     ]
    },
    {
     "name": "stderr",
     "output_type": "stream",
     "text": [
      "Processing queries (generate or skip): 972it [14:54,  1.18it/s]"
     ]
    },
    {
     "name": "stdout",
     "output_type": "stream",
     "text": [
      "Error generating for query 'Direct storage hybrid (DSH) inverter: A new concept of intelligent hybrid inverter' (Attempt 1/5): API error occurred: Status 429\n",
      "{\"object\":\"error\",\"message\":\"Rate limit exceeded\",\"type\":\"rate_limited\",\"param\":null,\"code\":\"1300\"}\n",
      "Retrying in 1 seconds...\n"
     ]
    },
    {
     "name": "stderr",
     "output_type": "stream",
     "text": [
      "Processing queries (generate or skip): 975it [14:57,  1.17it/s]"
     ]
    },
    {
     "name": "stdout",
     "output_type": "stream",
     "text": [
      "Error generating for query 'Identification of Design Elements for a Maturity Model for Interorganizational Integration: A Comparative Analysis' (Attempt 1/5): API error occurred: Status 429\n",
      "{\"object\":\"error\",\"message\":\"Rate limit exceeded\",\"type\":\"rate_limited\",\"param\":null,\"code\":\"1300\"}\n",
      "Retrying in 1 seconds...\n"
     ]
    },
    {
     "name": "stderr",
     "output_type": "stream",
     "text": [
      "Processing queries (generate or skip): 978it [15:00,  1.23it/s]"
     ]
    },
    {
     "name": "stdout",
     "output_type": "stream",
     "text": [
      "Error generating for query 'Facial feature detection: A facial symmetry approach' (Attempt 1/5): API error occurred: Status 429\n",
      "{\"object\":\"error\",\"message\":\"Rate limit exceeded\",\"type\":\"rate_limited\",\"param\":null,\"code\":\"1300\"}\n",
      "Retrying in 1 seconds...\n"
     ]
    },
    {
     "name": "stderr",
     "output_type": "stream",
     "text": [
      "Processing queries (generate or skip): 980it [15:02,  1.10it/s]"
     ]
    },
    {
     "name": "stdout",
     "output_type": "stream",
     "text": [
      "Error generating for query 'Intelligent phishing url detection using association rule mining' (Attempt 1/5): API error occurred: Status 429\n",
      "{\"object\":\"error\",\"message\":\"Rate limit exceeded\",\"type\":\"rate_limited\",\"param\":null,\"code\":\"1300\"}\n",
      "Retrying in 1 seconds...\n"
     ]
    },
    {
     "name": "stderr",
     "output_type": "stream",
     "text": [
      "Processing queries (generate or skip): 983it [15:05,  1.11it/s]"
     ]
    },
    {
     "name": "stdout",
     "output_type": "stream",
     "text": [
      "Error generating for query 'Learning to Solve Geometry Problems from Natural Language Demonstrations in Textbooks' (Attempt 1/5): API error occurred: Status 429\n",
      "{\"object\":\"error\",\"message\":\"Rate limit exceeded\",\"type\":\"rate_limited\",\"param\":null,\"code\":\"1300\"}\n",
      "Retrying in 1 seconds...\n"
     ]
    },
    {
     "name": "stderr",
     "output_type": "stream",
     "text": [
      "Processing queries (generate or skip): 986it [15:08,  1.22it/s]"
     ]
    },
    {
     "name": "stdout",
     "output_type": "stream",
     "text": [
      "Error generating for query 'An Attack Graph-Based Probabilistic Security Metric' (Attempt 1/5): API error occurred: Status 429\n",
      "{\"object\":\"error\",\"message\":\"Rate limit exceeded\",\"type\":\"rate_limited\",\"param\":null,\"code\":\"1300\"}\n",
      "Retrying in 1 seconds...\n"
     ]
    },
    {
     "name": "stderr",
     "output_type": "stream",
     "text": [
      "Processing queries (generate or skip): 988it [15:10,  1.09it/s]"
     ]
    },
    {
     "name": "stdout",
     "output_type": "stream",
     "text": [
      "Error generating for query 'Absolute Head Pose Estimation From Overhead Wide-Angle Cameras' (Attempt 1/5): API error occurred: Status 429\n",
      "{\"object\":\"error\",\"message\":\"Rate limit exceeded\",\"type\":\"rate_limited\",\"param\":null,\"code\":\"1300\"}\n",
      "Retrying in 1 seconds...\n"
     ]
    },
    {
     "name": "stderr",
     "output_type": "stream",
     "text": [
      "Processing queries (generate or skip): 991it [15:13,  1.20it/s]"
     ]
    },
    {
     "name": "stdout",
     "output_type": "stream",
     "text": [
      "Error generating for query 'Pooled motion features for first-person videos' (Attempt 1/5): API error occurred: Status 429\n",
      "{\"object\":\"error\",\"message\":\"Rate limit exceeded\",\"type\":\"rate_limited\",\"param\":null,\"code\":\"1300\"}\n",
      "Retrying in 1 seconds...\n"
     ]
    },
    {
     "name": "stderr",
     "output_type": "stream",
     "text": [
      "Processing queries (generate or skip): 993it [15:15,  1.11it/s]"
     ]
    },
    {
     "name": "stdout",
     "output_type": "stream",
     "text": [
      "Error generating for query 'Albatross: Lightweight Elasticity in Shared Storage Databases for the Cloud using Live Data Migration' (Attempt 1/5): API error occurred: Status 429\n",
      "{\"object\":\"error\",\"message\":\"Rate limit exceeded\",\"type\":\"rate_limited\",\"param\":null,\"code\":\"1300\"}\n",
      "Retrying in 1 seconds...\n"
     ]
    },
    {
     "name": "stderr",
     "output_type": "stream",
     "text": [
      "Processing queries (generate or skip): 996it [15:18,  1.14it/s]"
     ]
    },
    {
     "name": "stdout",
     "output_type": "stream",
     "text": [
      "Error generating for query 'Evolutionary Cost-sensitive Extreme Learning Machine and Subspace Extension' (Attempt 1/5): API error occurred: Status 429\n",
      "{\"object\":\"error\",\"message\":\"Rate limit exceeded\",\"type\":\"rate_limited\",\"param\":null,\"code\":\"1300\"}\n",
      "Retrying in 1 seconds...\n"
     ]
    },
    {
     "name": "stderr",
     "output_type": "stream",
     "text": [
      "Processing queries (generate or skip): 999it [15:21,  1.19it/s]"
     ]
    },
    {
     "name": "stdout",
     "output_type": "stream",
     "text": [
      "Error generating for query 'Analyzing EEG signals to detect unexpected obstacles during walking' (Attempt 1/5): API error occurred: Status 429\n",
      "{\"object\":\"error\",\"message\":\"Rate limit exceeded\",\"type\":\"rate_limited\",\"param\":null,\"code\":\"1300\"}\n",
      "Retrying in 1 seconds...\n"
     ]
    },
    {
     "name": "stderr",
     "output_type": "stream",
     "text": [
      "Processing queries (generate or skip): 1000it [15:23,  1.08it/s]"
     ]
    },
    {
     "name": "stdout",
     "output_type": "stream",
     "text": [
      "Document generation complete. Results saved in: ../doc_gen/rag_fusion/generated_documents_scidocs.jsonl\n"
     ]
    },
    {
     "name": "stderr",
     "output_type": "stream",
     "text": [
      "\n"
     ]
    }
   ],
   "source": [
    "fusion_rag.save_generated_docs('../doc_gen/rag_fusion/')"
   ]
  },
  {
   "cell_type": "code",
   "execution_count": 16,
   "id": "2c369099",
   "metadata": {},
   "outputs": [
    {
     "name": "stderr",
     "output_type": "stream",
     "text": [
      "obteniendo embedding de todos los doc generados: 100%|██████████| 1000/1000 [00:56<00:00, 17.82it/s]\n",
      "obteniendo resultados contriever: 1000it [00:07, 136.66it/s]\n",
      "obteniendo resultados contriever: 1000it [00:06, 143.60it/s]\n",
      "obteniendo resultados contriever: 1000it [00:06, 144.44it/s]\n",
      "obteniendo resultados contriever: 1000it [00:07, 141.41it/s]\n",
      "obteniendo resultados contriever_ft: 1000it [00:07, 141.82it/s]\n",
      "obteniendo resultados contriever_ft: 1000it [00:06, 144.75it/s]\n",
      "obteniendo resultados contriever_ft: 1000it [00:06, 144.85it/s]\n",
      "obteniendo resultados contriever_ft: 1000it [00:06, 145.02it/s]\n",
      "obteniendo resultados dpr: 1000it [00:06, 143.24it/s]\n",
      "obteniendo resultados dpr: 1000it [00:06, 142.98it/s]\n",
      "obteniendo resultados dpr: 1000it [00:06, 143.98it/s]\n",
      "obteniendo resultados dpr: 1000it [00:06, 144.00it/s]\n",
      "obteniendo resultados bge_large: 1000it [00:08, 112.18it/s]\n",
      "obteniendo resultados bge_large: 1000it [00:08, 114.32it/s]\n",
      "obteniendo resultados bge_large: 1000it [00:08, 114.09it/s]\n",
      "obteniendo resultados bge_large: 1000it [00:08, 114.06it/s]\n",
      "obteniendo resultados gte_large: 1000it [00:08, 114.16it/s]\n",
      "obteniendo resultados gte_large: 1000it [00:08, 114.31it/s]\n",
      "obteniendo resultados gte_large: 1000it [00:08, 114.44it/s]\n",
      "obteniendo resultados gte_large: 1000it [00:08, 114.25it/s]\n",
      "obteniendo resultados sparse_bm25: 1000it [00:02, 354.16it/s]\n",
      "obteniendo resultados sparse_bm25: 1000it [00:02, 372.97it/s]\n",
      "obteniendo resultados sparse_bm25: 1000it [00:02, 356.85it/s]\n",
      "obteniendo resultados sparse_bm25: 1000it [00:02, 422.71it/s]\n"
     ]
    }
   ],
   "source": [
    "fusion_rag.get_results_from_jsonl_rag_fusion(path_doc_gen=f'../doc_gen/rag_fusion/generated_documents_{dataset_name}.jsonl', path=f'../results/rag_fusion/{dataset_name}/',batch_size=32, top_k=10)"
   ]
  },
  {
   "cell_type": "code",
   "execution_count": 17,
   "id": "7f59383b",
   "metadata": {},
   "outputs": [
    {
     "name": "stdout",
     "output_type": "stream",
     "text": [
      "scidocs\n"
     ]
    },
    {
     "data": {
      "application/vnd.jupyter.widget-view+json": {
       "model_id": "20ec620f6bad4a5d86922d8d3a21139b",
       "version_major": 2,
       "version_minor": 0
      },
      "text/plain": [
       "  0%|          | 0/25657 [00:00<?, ?it/s]"
      ]
     },
     "metadata": {},
     "output_type": "display_data"
    },
    {
     "name": "stdout",
     "output_type": "stream",
     "text": [
      "Calculando metricas de results_contriever_ft.json\n",
      "  Métricas guardadas en: ../metrics/rag_fusion/scidocs/results_contriever_ft.json\n",
      "Calculando metricas de results_bge_large.json\n",
      "  Métricas guardadas en: ../metrics/rag_fusion/scidocs/results_bge_large.json\n",
      "Calculando metricas de results_dpr.json\n",
      "  Métricas guardadas en: ../metrics/rag_fusion/scidocs/results_dpr.json\n",
      "Calculando metricas de results_contriever.json\n",
      "  Métricas guardadas en: ../metrics/rag_fusion/scidocs/results_contriever.json\n",
      "Calculando metricas de results_gte_large.json\n",
      "  Métricas guardadas en: ../metrics/rag_fusion/scidocs/results_gte_large.json\n",
      "Calculando metricas de results_sparse_bm25.json\n",
      "  Métricas guardadas en: ../metrics/rag_fusion/scidocs/results_sparse_bm25.json\n"
     ]
    }
   ],
   "source": [
    "from kdir_src.utils.evaluation import evaluate_all_results\n",
    "evaluate_all_results(f'../results/rag_fusion/{dataset_name}')"
   ]
  },
  {
   "cell_type": "markdown",
   "id": "126a01f8",
   "metadata": {},
   "source": [
    "## Arguana"
   ]
  },
  {
   "cell_type": "code",
   "execution_count": 18,
   "id": "e6074bd0",
   "metadata": {},
   "outputs": [],
   "source": [
    "KEY = 'jTrxtC1mqMP1Lj9aMg8fvexSh2xDgZC4'\n",
    "dataset_name = 'arguana'\n",
    "promptor = Promptor(dataset_name)\n",
    "generator = MistralGenerator('mistral-small-2503', KEY, 4)\n",
    "#encoder_models = load_models()\n",
    "fusion_rag = RAG_fusion(dataset_name,promptor, generator, encoder_models)"
   ]
  },
  {
   "cell_type": "code",
   "execution_count": 20,
   "id": "d67a4d3f",
   "metadata": {},
   "outputs": [
    {
     "data": {
      "application/vnd.jupyter.widget-view+json": {
       "model_id": "9efb5b6da0ca40bda911ec950cd972eb",
       "version_major": 2,
       "version_minor": 0
      },
      "text/plain": [
       "  0%|          | 0/8674 [00:00<?, ?it/s]"
      ]
     },
     "metadata": {},
     "output_type": "display_data"
    },
    {
     "name": "stderr",
     "output_type": "stream",
     "text": [
      "Procesando queries: 100%|██████████| 1406/1406 [00:00<00:00, 4008967.66it/s]\n"
     ]
    },
    {
     "name": "stdout",
     "output_type": "stream",
     "text": [
      "Found 60 previously generated documents in '../doc_gen/rag_fusion/generated_documents_arguana.jsonl'.\n"
     ]
    },
    {
     "name": "stderr",
     "output_type": "stream",
     "text": [
      "Processing queries (generate or skip): 0it [00:00, ?it/s]"
     ]
    },
    {
     "name": "stderr",
     "output_type": "stream",
     "text": [
      "Processing queries (generate or skip): 142it [01:02,  1.32it/s]"
     ]
    },
    {
     "name": "stdout",
     "output_type": "stream",
     "text": [
      "Error generating for query 'The bidding process is too long, tying up funds and land  The bidding process takes too long. Bidding officially takes only two years (unless a city fails to make the shortlist), but most cities spend nearly a decade working on their bids. Obviously the bidding process costs money but it also ties up the land needed for any future Olympic Village or stadia from being developed until the bid outcome is known, as well as diverting government funds away from other sporting events and activities. Furthermore, the way the IOC works with each member deciding which city they wish to vote for means that personal relationships and international tension can count for more than the quality of the bid. For example, American foreign policy is thought to be disadvantaging New York in the 2012 bidding process. Given that the Olympics are 'rotated' between continents, if a city fails to be selected it will be 12 years before it has another chance.' (Attempt 1/5): API error occurred: Status 429\n",
      "{\"object\":\"error\",\"message\":\"Rate limit exceeded\",\"type\":\"rate_limited\",\"param\":null,\"code\":\"1300\"}\n",
      "Retrying in 1 seconds...\n"
     ]
    },
    {
     "name": "stderr",
     "output_type": "stream",
     "text": [
      "Processing queries (generate or skip): 144it [01:04,  1.06it/s]"
     ]
    },
    {
     "name": "stdout",
     "output_type": "stream",
     "text": [
      "Error generating for query 'Hosting only affects one city  In large countries like the United States or China, the benefits of the Olympics are almost entirely focused on the host city. Even in smaller countries, the benefits of a event played outside the host city or a training camp are negligible. Capital cities are often chosen (after failed bids from Birmingham in 1992 and Manchester in 1996 and 2000 the IOC told the United Kingdom that only a bid from London was likely to win), which concentrates growth and development where it is least needed. 90% of the economic impact of London 2012 is expected to come to London1; not surprising given that 'seventy-five pence in every pound on the Games is going towards the regeneration of East London.'2Furthermore, house prices have been seen to rise in host cities like Barcelona and Sydney around the time of their Olympics, without comparable rises elsewhere in Spain and Australia respectively2. As such, hosting only serves to entrench geographical economic divides.  1 Grobel, W. (2010, April 15). What are the London 2012 Olympics 2012 worth? Retrieved May 13, 2011, from Intangible Business:  2 Ormsby, A. (2010, May 21). Benefits of hosting Olympics unproven. Retrieved June 29, 2011 from Reuters:' (Attempt 1/5): API error occurred: Status 429\n",
      "{\"object\":\"error\",\"message\":\"Rate limit exceeded\",\"type\":\"rate_limited\",\"param\":null,\"code\":\"1300\"}\n",
      "Retrying in 1 seconds...\n"
     ]
    },
    {
     "name": "stderr",
     "output_type": "stream",
     "text": [
      "Processing queries (generate or skip): 146it [01:07,  1.07s/it]"
     ]
    },
    {
     "name": "stdout",
     "output_type": "stream",
     "text": [
      "Error generating for query 'Collisions are exciting and fun to watch.  Baseball is a form of entertainment, and few plays are as entertaining as bang-bang plays (a close call on whether the runner is thrown out) at the plate. As a sport that’s often criticized for being too slow and boring—“baseball has no clock,” the saying goes [1] —it’s important that it hold onto perhaps the most dramatic, vivid play it has to offer. One columnist described it this way: “When [collisions] do occur, they’re exciting. We watch to see how well the catcher blocks the plate, how hard the runner slides, and whether the catcher can hold the ball. As dangerous as that play may be, it’s exciting to watch.” [2]  Other sports—like American football, ice hockey, and rugby—feature plenty of violent hits. Baseball has so few of them that when they do happen, they are doubly entertaining. It is just not necessary for baseball to prohibit a small dose of something that is extremely common in other sports.  [1] William Deresiewicz, “Metaphors We Play By,” American Scholar, June 6, 2011,  .  [2] Nick Cafardo, “Let’s keep rule change off our plate, please,” Boston Globe, May 29, 2011,  .' (Attempt 1/5): API error occurred: Status 429\n",
      "{\"object\":\"error\",\"message\":\"Rate limit exceeded\",\"type\":\"rate_limited\",\"param\":null,\"code\":\"1300\"}\n",
      "Retrying in 1 seconds...\n"
     ]
    },
    {
     "name": "stderr",
     "output_type": "stream",
     "text": [
      "Processing queries (generate or skip): 148it [01:09,  1.15s/it]"
     ]
    },
    {
     "name": "stdout",
     "output_type": "stream",
     "text": [
      "Error generating for query 'Without collisions, either the catcher or the runner would have an enormous and unfair advantage.  There are two often-discussed ways to change the rules: require the runner to slide, just as they must do when attempting to reach other bases; or disallow catchers to block runners’ paths. Each results in an imbalance between the catcher and runner. A commentator describes this dynamic very well:  “If Major League Baseball was to employ a rule stating that runners must avoid contact with the catcher—similar to the ‘slide or avoid’ rule employed in amateur baseball—it would give the advantage to the catcher. The catcher would have the benefit of dictating the course of action that a baserunner must take, and would—perhaps more importantly—have peace of mind knowing that there is no chance of an ensuing collision. If Major League Baseball was to make a rule stating that the catcher cannot block the plate, the advantage would certainly go to the baserunner, who would enjoy the luxury of a straight path to the most sacred ground on a baseball diamond.” [1]  Allowing collisions is the fairest, most even match between the catcher and runner.  [1] Ricky Doyle, “Buster Posey’s Injury Unfortunate, But Home-Plate Collisions Still Have Place in Baseball,” NESN, May 29, 2011,  .' (Attempt 1/5): API error occurred: Status 429\n",
      "{\"object\":\"error\",\"message\":\"Rate limit exceeded\",\"type\":\"rate_limited\",\"param\":null,\"code\":\"1300\"}\n",
      "Retrying in 1 seconds...\n"
     ]
    },
    {
     "name": "stderr",
     "output_type": "stream",
     "text": [
      "Processing queries (generate or skip): 151it [01:13,  1.10s/it]"
     ]
    },
    {
     "name": "stdout",
     "output_type": "stream",
     "text": [
      "Error generating for query 'Collisions are unnecessary.  Baseball doesn’t need collisions. By requiring the runner to slide, just as they must do when attempting to reach other bases, or disallowing catchers to block runners’ paths, or—best of all—requiring both those steps, baseball can eliminate collisions.  Unlike in football or rugby, hits at the plate are not a necessary component of the sport. The game is played quite well at the amateur level without such brutal physical contact. [1] Collisions occur relatively infrequently, and the complexion of the game will not be dramatically different without them. Yet the benefits of improved safety are dramatic.  [1] See, for example, American Legion Baseball Rules, Rule 1(E),  .' (Attempt 1/5): API error occurred: Status 429\n",
      "{\"object\":\"error\",\"message\":\"Rate limit exceeded\",\"type\":\"rate_limited\",\"param\":null,\"code\":\"1300\"}\n",
      "Retrying in 1 seconds...\n"
     ]
    },
    {
     "name": "stderr",
     "output_type": "stream",
     "text": [
      "Processing queries (generate or skip): 153it [01:16,  1.18s/it]"
     ]
    },
    {
     "name": "stdout",
     "output_type": "stream",
     "text": [
      "Error generating for query 'Radio is cheap to produce and easily accessible.  Community radio relies on the power of its ideas and the thirst for those ideas among its audience. It accepts the notion that it is the exchange of information and views, freely given and received, that is more important than the ideas themselves.  It doesn’t require massive budgets and radio waves can be received on equipment that costs pennies; more importantly it can be shared.  For all of its pretensions of accessibility the devices used to access the Internet tend to be expensive and they also tend not to be shared – unlike radios [i] .  To give some context to this, even paying Western prices, a small radio station can be started for as little as $10,000 with monthly costs of $1,000 [ii] . Some of that, of course, relates to government issued licences, clearly this does not apply if the station is planning to be ignored by the authorities. These costs can be further reduced when the founders have a pre-existing knowledge of radio engineering or work with a partner organisation such as the BBC World Service or the various NGOs who specialise in the field [iii] .  [i] Plunkett, John, Community radio: A rare success story. The Guardian. 9 March 2009.  [ii] Prometheus Radio Project.  [iii] Wikipedia. Community Radio.' (Attempt 1/5): API error occurred: Status 429\n",
      "{\"object\":\"error\",\"message\":\"Rate limit exceeded\",\"type\":\"rate_limited\",\"param\":null,\"code\":\"1300\"}\n",
      "Retrying in 1 seconds...\n"
     ]
    },
    {
     "name": "stderr",
     "output_type": "stream",
     "text": [
      "Processing queries (generate or skip): 156it [01:20,  1.09s/it]"
     ]
    },
    {
     "name": "stdout",
     "output_type": "stream",
     "text": [
      "Error generating for query 'Radio is yesterday’s technology.  Proposition is right to point out the role that has traditionally been filled by relatively small scale radio – providing a relatively cheap method of getting in touch with anybody willing to listen. However, that has, effectively, been rendered redundant by Internet technology. The power of Facebook, Youtube and other sites to disseminate ideas and information as well as phone texting has not only matched that role but surpassed it.  With no capital costs in an era of internet cafes and omnipresent cell phones, the free exchange of information through digital and portable technology has met exactly the needs and concerns Proposition highlights. [i]  Suggesting that community radio will somehow supplement or enhance that process it taking a step backwards; support for the relatively monolithic radio model runs all of the risks of empowering extremists already mentioned without even equalling the benefits of texting and social media [ii] .  [i] Helling, Alex, ‘This House would use foreign aid funds to research and distribute software that allows bloggers and journalists in non democratic countries to evade censorship and conceal their online activities’, freespeechdebate.idebate.org, 18 May 2012.  [ii] Hood, Michael, NPR CEO: Internet will replace broadcast radio in 5-10 years. Blatherwatch, 3 June 2010.' (Attempt 1/5): API error occurred: Status 429\n",
      "{\"object\":\"error\",\"message\":\"Rate limit exceeded\",\"type\":\"rate_limited\",\"param\":null,\"code\":\"1300\"}\n",
      "Retrying in 1 seconds...\n"
     ]
    },
    {
     "name": "stderr",
     "output_type": "stream",
     "text": [
      "Processing queries (generate or skip): 158it [01:22,  1.18s/it]"
     ]
    },
    {
     "name": "stdout",
     "output_type": "stream",
     "text": [
      "Error generating for query 'Community radio just gives a megaphone to extremists.  Experience suggests that the airwaves, unregulated, tend to attract pedagogues seeking followers more than democrats seeking the views of others. Particularly in areas of high sectarian divisions, technologies that propagate the views of every mullah with a mic are unlikely to help democracy in the middle east. Indeed the experience with the nearest equivalent in the US, talk radio, shows how fantastically divisive it can be. [i]  Community radio in areas that do not have a history of plurality and diversity of opinion would be likely to see the spread of radio stations pandering to the specific views of every shard and splinter of opinion, reinforcing that particular set of beliefs while ignoring all others – it is difficult to imagine a more toxic – and less democratic – option to encourage in the Arab world [ii] .  The difficulty, as shown in the reference given in the previous paragraph, is that exactly the same ease of access applies to fanatics as to democrats – who may, frequently, be the same people. In the instance of Rwanda, extremists inciting violence (almost entirely Hutus) had acquired small scale radio equipment. The government couldn’t afford the jamming equipment (the US jamming flights would cost $8500 per hour) and sought assistance from the Americans. The UN objected as such actions were clearly sectarian. However, the wide use of Radio – initially funded by the West – which, in part at least had lead to the genocide then left a toxic legacy of fanatics dominating the airwaves, those involved were eventually convicted in 2003. [iii]  [i] Noriega, Chin A, and Iribarren, Francisco Javier, ‘Quantifying Hate Speech on Commercial Talk Radio’, Chicano Studies Research Center, November 2011.  [ii] Wisner, Frank G., ‘Memorandum for deputy assistant to the president for national security affairs, national security council, Department of Defense, 5 May 1994.  [iii] Smith, Russell, ‘The impact of hate media in Rwanda’, BBC News, 3 December 2003.  Dale, Alexander C., ‘Countering hate messages that lead to violence: The United Nations’s chapter VII authority to use radio jamming to halt incendiary broadcasts’, Duke Journal of Comparative &amp; International Law, Vol 11. 2001.' (Attempt 1/5): API error occurred: Status 429\n",
      "{\"object\":\"error\",\"message\":\"Rate limit exceeded\",\"type\":\"rate_limited\",\"param\":null,\"code\":\"1300\"}\n",
      "Retrying in 1 seconds...\n"
     ]
    },
    {
     "name": "stderr",
     "output_type": "stream",
     "text": [
      "Processing queries (generate or skip): 160it [01:25,  1.24s/it]"
     ]
    },
    {
     "name": "stdout",
     "output_type": "stream",
     "text": [
      "Error generating for query 'This was a piece of art, advertised and described as such, those likely to be offended were quite welcome not to watch it.  The allegation made by those who objected to the airing of this show was that it was blasphemous. There were also objections to the graphic nature of the language and sexual reference. It seems staggeringly unlikely that 55,000 [i] people had accidently been watching opera on BBC 2 having failed to watch any of the warnings in advance or the fairly extensive media discussion in advance of the broadcast.  Therefore, those who watched it made a choice to do so – and it seems reasonable to consider that an informed choice. A free society is predicated on the fact that adults have the right to make choices. In turn that is based on the shared understanding that those choices have consequences; which may, potentially, cause some degree of harm to the person making that choice. Having been warned that watching the broadcast may cause them offence, viewers still chose to and some, it seems, were duly offended.  It seems reasonable, therefore, to assume that the shock was either feigned or a matter of pretence. Which leaves the matter of blasphemy; an offence against a belief system. There was no secret that religious issues were likely to feature in the broadcast and no secret was made of the fact that those views were likely to be both critical and forthright. Tuning in, specifically to be offended by something that the viewer had been warned they might find offensive seems perverse.  By contrast, art lovers who wished to see the production - which had received four Lawrence Olivier Awards among other tributes – had the opportunity to experience a theatrical work they would have had a limited opportunity to witness had it not been broadcast nationally.  It would be bizarre to disadvantage those who wanted to – and actually did – see the performance (about 1.7 million [ii] )because of the views of those who neither wanted to see it or refused to do so  [i] Wikipedia entry: “Jerry Springer: The Opera”  [ii] BBC News Website. “Group to Act Over singer Opera.” 10 January 2005.' (Attempt 1/5): API error occurred: Status 429\n",
      "{\"object\":\"error\",\"message\":\"Rate limit exceeded\",\"type\":\"rate_limited\",\"param\":null,\"code\":\"1300\"}\n",
      "Retrying in 1 seconds...\n"
     ]
    },
    {
     "name": "stderr",
     "output_type": "stream",
     "text": [
      "Processing queries (generate or skip): 162it [01:28,  1.22s/it]"
     ]
    },
    {
     "name": "stdout",
     "output_type": "stream",
     "text": [
      "Error generating for query 'It is simply impractical for a major international broadcaster to hand out powers of veto to small sectional interests.  The BBC would quickly be left with a content either devoid of interest or of content were it to allow such a veto to become normative. Especially were it, as appears to be the case here, to offer such a veto to people who didn’t watch the programme.  As a result, although some of the responsibility for avoiding offence lies with the broadcaster at least an equal share must lie with the viewer. Even at the more basic level of ‘will I like this’, responsibility lies with both parties. The BBC undertakes to provide a diverse range of programming so that there is a reasonable chance that the overwhelming majority should be able to find something of interest but does so on the assumption that people will watch what they find interesting.  Likewise, it is reasonable to assume that people will not go out of their way to watch things that they already expect to find offensive.' (Attempt 1/5): API error occurred: Status 429\n",
      "{\"object\":\"error\",\"message\":\"Rate limit exceeded\",\"type\":\"rate_limited\",\"param\":null,\"code\":\"1300\"}\n",
      "Retrying in 1 seconds...\n"
     ]
    },
    {
     "name": "stderr",
     "output_type": "stream",
     "text": [
      "Processing queries (generate or skip): 165it [01:32,  1.20s/it]"
     ]
    },
    {
     "name": "stdout",
     "output_type": "stream",
     "text": [
      "Error generating for query 'If this work had been an attack on Mohammed it would never have been broadcast, the BBC is applying double standards.  A week before the broadcast of the opera, protest by Sikhs in Birmingham about the play Bezthi by the Birmingham Rep, brought the show to a close. Like many organisations, the BBC panics when it believes it has caused offence to some religions and yet Christianity – by far the world’s most populous and diverse creed [i] - is routinely ignored or expected to ‘take it on the chin.  Christian symbols and imagery are routinely profaned by major broadcasters, publishers and others in a way that would simply not be tolerated if they were directed at ‘minority’ faiths in the UK.  Article Four (4) of the BBC’s charter [ii] stipulates quite clearly that all of the UK’s communities should be reflected in all of its activities. Despite this the interests of the community that is represented by the established church of the country, headed by the monarch, receives the least support or consideration from the institution.  [i]   [ii] BBC Charter.' (Attempt 1/5): API error occurred: Status 429\n",
      "{\"object\":\"error\",\"message\":\"Rate limit exceeded\",\"type\":\"rate_limited\",\"param\":null,\"code\":\"1300\"}\n",
      "Retrying in 1 seconds...\n"
     ]
    },
    {
     "name": "stderr",
     "output_type": "stream",
     "text": [
      "Processing queries (generate or skip): 168it [01:35,  1.06s/it]"
     ]
    },
    {
     "name": "stdout",
     "output_type": "stream",
     "text": [
      "Error generating for query 'Transparency allows citizens to choose for a healthy leader as to ensure proper functioning  The health and fitness of a leader is a vital issue when choosing a leader; the electorate deserves to know if they are likely to serve out their term. When health conditions are hidden from the people they may mistakenly elect a leader who is unable to serve a full term or is at times not in control of the country. There would be little point in voting for a leader who will often not truely be in charge of the country, if voters are told it becomes their choice whether this is a problem. Transparency in terms of clear, accurate and up-to-date information is necessary for the electorate to judge the fitness of a leader which is a necessary precondition for election. In a democracy a leader needs to be accountable, he can only be accountable if the elctorate knows such vital information.' (Attempt 1/5): API error occurred: Status 429\n",
      "{\"object\":\"error\",\"message\":\"Rate limit exceeded\",\"type\":\"rate_limited\",\"param\":null,\"code\":\"1300\"}\n",
      "Retrying in 1 seconds...\n"
     ]
    },
    {
     "name": "stderr",
     "output_type": "stream",
     "text": [
      "Processing queries (generate or skip): 172it [01:39,  1.10it/s]"
     ]
    },
    {
     "name": "stdout",
     "output_type": "stream",
     "text": [
      "Error generating for query 'Markets like stability  Business and the markets prize political stability. Clearly when the leader of a country is ill this stability is damaged but the damage can be mitigated by being transparent. The markets will want to know how ill the leader is, and that the succession is secure so that they know what the future holds. Secrecy and the consequent spread of rumour is the worst option as businesses can have no idea what the future holds so cant make investment decisions that will be influenced by the political environment.  Leaders do matter to the economy; they set the parameters of the business environment, the taxes, subsidies, how much bureaucracy. They also influence other areas like the price of energy, the availability of transport links etc. It has been estimated that “a one standard deviation change in leader quality leads to a growth change of 1.5 percentage points”. 1 The leader who follows may be of the same quality in which case there will be little difference but equally it could mean a large change.  1 Jones, Benjjamin F., and Olken, Benjamin A., 'Do Leaders Matter? National Leadership and Growth Since World War II', Quarterly Journal of Economics, February 2005,' (Attempt 1/5): API error occurred: Status 429\n",
      "{\"object\":\"error\",\"message\":\"Rate limit exceeded\",\"type\":\"rate_limited\",\"param\":null,\"code\":\"1300\"}\n",
      "Retrying in 1 seconds...\n"
     ]
    },
    {
     "name": "stderr",
     "output_type": "stream",
     "text": [
      "Processing queries (generate or skip): 176it [01:43,  1.09it/s]"
     ]
    },
    {
     "name": "stdout",
     "output_type": "stream",
     "text": [
      "Error generating for query 'Maintaining the value of the degree  Employers and others expect certain degrees to mean certain things; they are more than just an expensive badge. In the case of elite western universities part of what that means is a critical approach to the world and the willingness to challenge ideas, regardless of the authority that holds them. Part of their exclusivity derives from their admission standards, partly from the academic rigour of their scholars and partly from the simple fact that there are only a relatively small number of graduates.  In other areas universities are all too aware of selling their reputation – impartiality, avoiding plagiarism and so forth – the same should be true here. If a degree from a western university does not mean that it recognises issues such as creativity and free thinking then it devalues the degree itself.  As a result the very governments that are so keen to acquire the creative, critical skills offered by graduates of western-style education will end up undermining the very thing that they seek. This impacts not only the graduates from Asian campuses of western universities but also their peers at the home institution [i] .  [i] US-China Today. Jasmine Ako. Unraveling Plagiarism in China. 28 March 2011.' (Attempt 1/5): API error occurred: Status 429\n",
      "{\"object\":\"error\",\"message\":\"Rate limit exceeded\",\"type\":\"rate_limited\",\"param\":null,\"code\":\"1300\"}\n",
      "Retrying in 1 seconds...\n"
     ]
    },
    {
     "name": "stderr",
     "output_type": "stream",
     "text": [
      "Processing queries (generate or skip): 182it [01:49,  1.17it/s]"
     ]
    },
    {
     "name": "stdout",
     "output_type": "stream",
     "text": [
      "Error generating for query 'Defending hip hop artists’ right to free speech  The intervention of the state is necessary in order to ensure that aggressive forms of hip hop remain accessible only to adults, especially in neighbourhoods and home environments that are not part of a cohesive, caring community. Some degree of public control over the content of hip hop will also help to preserve the diversity, accessibility of the genre in the face of commercial dominance by violent forms of rap.  Mainstream success in hip hop has become synonymous with gangsta rap, and with artists who have backgrounds that lend veracity to their lurid verses. However, many of these supposedly “authentic” experiences consist of little more than exaggeration and invented personas. When being interviewed about the controversial content of her son’s single “Fuck tha’ police”, the mother of rapper Ice Cube commented that “I don’t see [him] saying those curse words. I see him like an actor.”  The existence of pornography attests to the market for forms of media that fulfil base and simplistic human fantasies. Much the same can be said for the violent and cynical content of rap singles. Unlike the relationship between cinema and pornography, however, many commentators appear to regard gangsta rap as being synonymous with hip hop – a position as deceptive as a film critic claiming that all movies are inevitably tied to pornography.  The significant public profile and poor regulation of hip hop have meant that gangsta rap fans have become the genre’s dominant class of consumer. The amount of money that fans are willing to spend on singles, albums, concert tickets and associated branded goods means that labels that cultivate relationships with gangsta rappers have become the gatekeepers of the hip hop genre in general. “Conscious” rappers, who do not glorify violence, along with musicians working in other hip hop genres must work with labels that promote acts containing violent lyrics in order to publish their own music.  Either consciously, or by design, the terrain of contemporary hip hop is hostile to musicians who are not prepared to discuss “guns, bitches and bling” in their work. This constitutes a significant barrier to rappers ability to communicate novel messages and listeners’ ability to receive them. It could be called a market failure – the pervasive public presence of gangsta rap has effectively denied an audience to other rappers.  Classification has the potential to maximise the freedom and effectiveness of musical expression by hip hop artists who choose not to trade in brutality and misogyny.  The alternative is to allow hip hop to continue to be dominated by businesses such as Death Row Records, Low Life Records and Machete Music. This will lead to hip hop as a medium becoming inextricably linked with violent lyrics and the dubious businesses practices of gangsta labels’ bosses. Popular disengagement is much more likely under these circumstances, and will actively deny a voice, and opportunities, to musicians with a different perspective on hip hop.' (Attempt 1/5): API error occurred: Status 429\n",
      "{\"object\":\"error\",\"message\":\"Rate limit exceeded\",\"type\":\"rate_limited\",\"param\":null,\"code\":\"1300\"}\n",
      "Retrying in 1 seconds...\n"
     ]
    },
    {
     "name": "stderr",
     "output_type": "stream",
     "text": [
      "Processing queries (generate or skip): 194it [02:01,  1.12it/s]"
     ]
    },
    {
     "name": "stdout",
     "output_type": "stream",
     "text": [
      "Error generating for query 'Racialised Opposition  Some critics of ‘The Spear’ have criticised the artwork on the grounds that it ‘dehumanises’ black people in general [1] and President Zuma in particular and criticises him based upon his personal life rather than policy, using vulgar means to do it. This line of opposition is part of a dog-whistle tactic that the ANC has consistently used against white critics of its government in the past. [2]  ANC criticisms of its white critics, including the opposition Democratic Alliance have made discreet reference to the injustices of the past as a means of creating distrust in the minds of poor, black voters who maintain ANC support as a result. Some politicians within the ANC, most notably the former President of its youth wing Julius Malema, have made incendiary statements that could be seen to stoke up hatred against whites.  It is against this back drop that the double standards over criticism of Murray should be viewed. Murray, a white artist, has been criticised roundly for ‘The Spear’, while black artists have created works that could be seen to denigrate President Zuma in a similar manner to ‘The Spear’. A noticeable example is ‘Ngcono ihlwempu kunesibhanxo sesityebi’ (Better a fool than a rich man’s nonsense) by Ayanda Mabulu, that carried a much more graphic depiction of the President and other leading politicians of the past and present with barely a murmur raised. [3]  By bowing to the pressure exerted by the ANC and its followers, the Goodman Gallery and City Press have bowed to pressure, denying criticism of the government and accepting the implied view that White South Africans are unable to criticise the government without seeking to re-assert any forms of superiority that had existed under Apartheid. Whilst there may still be underlying problems of Far-Right activity in South Africa, to smear anyone who criticises the government based on their race does nothing to help move the country on from autocracy and institutionalised racism. The Goodman Gallery and City Press should have stood by displaying the image as it represented the opinion of Brett Murray, free from intimidation or race based slander.  [1] Dana, Simphiwe, ‘The 'Sarah Baartmanisation' of the black body’, Mail &amp; Guardian, 12 June 2012,   [2] Hlongwane, Sipho, ‘The ANC's best friend: Brett Murray &amp; The Spear’, Amandla,   [3] Ndlovu, Andile, ‘'Spear' sparks hot Twitter debate’, Times Live, 23 May 2012,' (Attempt 1/5): API error occurred: Status 429\n",
      "{\"object\":\"error\",\"message\":\"Rate limit exceeded\",\"type\":\"rate_limited\",\"param\":null,\"code\":\"1300\"}\n",
      "Retrying in 1 seconds...\n"
     ]
    },
    {
     "name": "stderr",
     "output_type": "stream",
     "text": [
      "Processing queries (generate or skip): 207it [02:14,  1.15it/s]"
     ]
    },
    {
     "name": "stdout",
     "output_type": "stream",
     "text": [
      "Error generating for query 'The confession of religious faith is far more important than the rather petty rules that banned the wearing of the cross.  People of faith attest that those beliefs determine the nature of their own identity and their place in the Universe. In the case of Nadia Eweida, at least, the employer’s case was based on the idea that wearing a symbol of that faith might not enhance their uniform. The difference between the significance of the claims could not be greater.  Indeed, British Airways, Eweida’s employer, has since changed their policy to permit staff to wear religious or charitable imagery [i] in large part because of the absurdity of the position.  The case against Chaplin was based on health and safety legislation - but not because the cross and chain posed a risk to others but to herself [ii] ; a risk she was, presumably, prepared to accept.  On one hand there are individuals protecting their sincere beliefs in the most profound of issues and, on the other, managers applying what the Archbishop of Canterbury described as “wooden-headed bureaucratic silliness”. [iii] There is no suggestion that harm to another could have been caused here and, therefore, no reason not to respect the heartfelt beliefs of the individuals involved.  [i] BBC News Website. “Christian Airline Employee Loses Cross ban Appeal”. 12 February 2010.  [ii] Daily Mail. “It's a very bad day for Christianity: Nurse's verdict after tribunal rules she can't wear crucifix at work”  [iii] The Telegraph, ‘Archbishop of Canterbury hits out at cross ban’, 4 April 2010,' (Attempt 1/5): API error occurred: Status 429\n",
      "{\"object\":\"error\",\"message\":\"Rate limit exceeded\",\"type\":\"rate_limited\",\"param\":null,\"code\":\"1300\"}\n",
      "Retrying in 1 seconds...\n"
     ]
    },
    {
     "name": "stderr",
     "output_type": "stream",
     "text": [
      "Processing queries (generate or skip): 215it [02:22,  1.35it/s]"
     ]
    },
    {
     "name": "stdout",
     "output_type": "stream",
     "text": [
      "Error generating for query 'Expanding Heathrow would be at the expense of the environment  Expanding Heathrow will directly contribute to climate change and make it impossible for the UK to stay within the EU legal limits. The EU has established limits on the levels of harmful pollution and the UK has signed a commitment to reduce Green House Gases by 80% by 2050 and also to emit no more CO2 in 2050 than it did in 2005. However, building a third runway would be enabling and encouraging greater number of flights which would result in Heathrow becoming the biggest emitter of carbon dioxide (CO2) in the country. [1] Attempts by the government to weaken pollution laws by lobbying Brussels would enable the third runway but at a deeply nefarious price, that of human health, currently fifty deaths a year are linked to Heathrow but with expansion this would go up to 150. [2]  [1] Stewart, John, ‘A briefing on Heathrow from HACAN: June 2012’   [2] Wilcockm David, and Harrism Dominic, ‘Heathrow third runway ‘would triple pollution deaths’’, The Independent, 13 October 2012,' (Attempt 1/5): API error occurred: Status 429\n",
      "{\"object\":\"error\",\"message\":\"Rate limit exceeded\",\"type\":\"rate_limited\",\"param\":null,\"code\":\"1300\"}\n",
      "Retrying in 1 seconds...\n"
     ]
    },
    {
     "name": "stderr",
     "output_type": "stream",
     "text": [
      "Processing queries (generate or skip): 220it [02:27,  1.22it/s]"
     ]
    },
    {
     "name": "stdout",
     "output_type": "stream",
     "text": [
      "Error generating for query 'Gambling is addictive.  Humans get a buzz from taking a risk and the hope that this time their luck will be in, this is similar to drug addicts [7]. The more people bet, the more they want to bet, so they become hooked on gambling which can wreck their lives. Internet gambling is worse because it is not a social activity. Unlike a casino or race track, you don’t have to go anywhere to do it, which can put a brake on the activity. The websites never shut. There won’t be people around you to talk you out of risky bets. There is nothing to stop you gambling your savings away while drunk.' (Attempt 1/5): API error occurred: Status 429\n",
      "{\"object\":\"error\",\"message\":\"Rate limit exceeded\",\"type\":\"rate_limited\",\"param\":null,\"code\":\"1300\"}\n",
      "Retrying in 1 seconds...\n"
     ]
    },
    {
     "name": "stderr",
     "output_type": "stream",
     "text": [
      "Processing queries (generate or skip): 223it [02:30,  1.17it/s]"
     ]
    },
    {
     "name": "stdout",
     "output_type": "stream",
     "text": [
      "Error generating for query 'Government only objects to online gambling because they dont benefit  Governments are hypocritical about gambling. They say they don’t like it but they often use it for their own purposes. Sometimes they only allow gambling in certain places in order to boost a local economy. Sometimes they profit themselves by running the only legal gambling business, such as a National Lottery [15] or public racecourse betting. This is bad for the public who want to gamble. Online gambling firms can break through government control by offering better odds and attractive new games.' (Attempt 1/5): API error occurred: Status 429\n",
      "{\"object\":\"error\",\"message\":\"Rate limit exceeded\",\"type\":\"rate_limited\",\"param\":null,\"code\":\"1300\"}\n",
      "Retrying in 1 seconds...\n"
     ]
    },
    {
     "name": "stderr",
     "output_type": "stream",
     "text": [
      "Processing queries (generate or skip): 228it [02:35,  1.20it/s]"
     ]
    },
    {
     "name": "stdout",
     "output_type": "stream",
     "text": [
      "Error generating for query 'A well-implemented progressive taxation scheme serve to promote economic growth  Progressive taxation can serve very effectively to increase the economic welfare and development of societies. It does so in three ways. First, it lifts the poor out of poverty by redistributing the tax burden from them onto the wealthy who are more able to pay, and gives them more disposable income to put back into the economy, which increases the velocity of money in the system, increasing growth. [1] Second, workers will be more likely to work harder since they will feel the system is more equitable; perceptions of fairness are very important to individuals. People will still work and save since they will want the goods and services they always did in the presence of progressive taxation, and will thus not be less motivated as detractors of progressive systems suggest. Third, progressive taxes serve as an automatic stabilizer in the event of recessions and temporary downturns in the market, in the sense that a loss of wages due to unemployment or wage cuts places an individual in a lower tax bracket, dampening the blow of the initial income loss. The American economy is a perfect example of how progressive taxation promotes broader economic growth; data shows that average yearly growth has been lessened since the 1950s after the reduction in progressively in the tax system. In the 1950s annual growth was 4.1%, while in the 1980s, when progressively in taxes fell dramatically, growth was only 3%. [2] Clearly, a progressive tax regime is best for workers and the economy generally.  [1] Boxx, T. William and Gary Quinlivan. The Cultural Context of Economics and Politics. Lanham: University Press of America. 1994.  [2] Batra, Ravi. The Great American Deception: What Politicians Won’t Tell You About Our Economy and Your Future. New York: John Wiley and Sons. 1996.' (Attempt 1/5): API error occurred: Status 429\n",
      "{\"object\":\"error\",\"message\":\"Rate limit exceeded\",\"type\":\"rate_limited\",\"param\":null,\"code\":\"1300\"}\n",
      "Retrying in 1 seconds...\n"
     ]
    },
    {
     "name": "stderr",
     "output_type": "stream",
     "text": [
      "Processing queries (generate or skip): 233it [02:40,  1.25it/s]"
     ]
    },
    {
     "name": "stdout",
     "output_type": "stream",
     "text": [
      "Error generating for query 'The aim of taxation should be to provide equality of opportunity, not of outcom  Taxation should not be about trying to engineer a more equal society. The purpose of taxes is to furnish necessary services people need to become competitive free agents in the economy. Progressive taxes take unduly from some to give to others in the hope of fostering social equality. Yet such efforts can only be harmful, as they breed resentment from rich toward the poor for taking undue amounts of their wealth for their consumption, and feelings of entitlement from poor who feel the wealthy owe them the money they pay, and thus feel happy to levy ever more odious taxes from them. [1] Society is best served by promoting a system of taxation that fosters equality of opportunity, by providing essential services to which everyone contributes in accordance with their ability to pay. This is better serviced through a system of flat-taxes, such as in Russia where there is a flat tax of 13%, [2] that promote a system of proportionality in taxation, rather than progressive taxes that focus unduly upon the contributions of the few to the many.  [1] The Frugal Libertarian. “Immorality of Progressive Income Tax”. Nolan Chart. 2008. Available:   [2] Mardell, Mark, ‘Pros and cons of Rick Perry’s flat tax plan’, BBC News, 26 October 2011,' (Attempt 1/5): API error occurred: Status 429\n",
      "{\"object\":\"error\",\"message\":\"Rate limit exceeded\",\"type\":\"rate_limited\",\"param\":null,\"code\":\"1300\"}\n",
      "Retrying in 1 seconds...\n"
     ]
    },
    {
     "name": "stderr",
     "output_type": "stream",
     "text": [
      "Processing queries (generate or skip): 236it [02:43,  1.10it/s]"
     ]
    },
    {
     "name": "stdout",
     "output_type": "stream",
     "text": [
      "Error generating for query 'Individuals’ property and income are an index of deserving achievement, and of value contributed in the market place to society  A progressive taxation system essentially assumes that the property rights of the poor are more sacred than those of the wealthy. Somehow the wealthy have a less proportionate ownership right than do the less well-off simply by dint of their greater wealth. [1] This is the height of injustice. An individual’s income is a measure of his overarching societal worth, by reflecting his ability to produce goods and services people find socially desirable and to signify his level of competence and desirability by his employer. The state should not punish people for this greater social worth by taxing them disproportionally to others. When it does so it expects people to work for the sake of others to an extent that is not fair, effectively consigning them to a kind of forced labor, by which parts of the wealth they work to acquire is appropriated by the state to a degree beyond which it is willing to do to others. [2] Such a regime is manifestly unjust.  [1] Seligman, Edwin. “Progressive Taxation in Theory and Practice”. Publications of the American Economic Association 9(1): 7-222. 1894.  [2] Nozick, R. Anarchy, State and Utopia. New York: Basic Books. 1974.' (Attempt 1/5): API error occurred: Status 429\n",
      "{\"object\":\"error\",\"message\":\"Rate limit exceeded\",\"type\":\"rate_limited\",\"param\":null,\"code\":\"1300\"}\n",
      "Retrying in 1 seconds...\n"
     ]
    },
    {
     "name": "stderr",
     "output_type": "stream",
     "text": [
      "Processing queries (generate or skip): 240it [02:47,  1.16it/s]"
     ]
    },
    {
     "name": "stdout",
     "output_type": "stream",
     "text": [
      "Error generating for query 'Women need alternatives for empowerment  Empowerment cannot be gained for women through employment, alternatives are required. A gender lens needs to be applied to women’s life course from the start. To tackle the discriminatory causes of gender inequality access to sexual and reproductive health rights is required for women. Access to such rights ensures women in Africa will be able to control their body, go to school, and choose the type of employment they wish to enter into.  The importance of enabling sexual and reproductive health rights for women is being put on the agenda for Africa [1] . There is a lot to be done beyond workforce participation - ending violence against women, promoting equal access to resources, opportunities and participation. Such features will reinforce women’s labour market participation, but in the jobs they want.  [1] See further readings: Chissano, 2013; Puri, 2013.' (Attempt 1/5): API error occurred: Status 429\n",
      "{\"object\":\"error\",\"message\":\"Rate limit exceeded\",\"type\":\"rate_limited\",\"param\":null,\"code\":\"1300\"}\n",
      "Retrying in 1 seconds...\n"
     ]
    },
    {
     "name": "stderr",
     "output_type": "stream",
     "text": [
      "Processing queries (generate or skip): 246it [02:53,  1.26it/s]"
     ]
    },
    {
     "name": "stdout",
     "output_type": "stream",
     "text": [
      "Error generating for query 'Trade is good for democracy.  Venezuela’s Hugo Chavez has been making sustained efforts to boost his influence in Latin America, with regional tours and substantial investments in neighbouring economies, fuelled by Venezuela’s oil money [1] . He is staunchly anti-American and a supporter of Iran. Meanwhile, he has been restricting freedom of speech in his own country, has done away with presidential term limits, and has essentially proven himself as yet another Latin American dictator in the making. If the US hopes to counterbalance his influence, it needs to become more economically connected to Latin America. Showing that the United States is willing to trade fairly with Latin America would undermine his message. This would not only be the case for the United States as it would also allow Brazil and other successful democratic Latin American states to boost their influence.  [1] Carroll, Rory. “Chavez Opens His Wallet Wider to Boost Latin American Influence.” The Guardian. 9 August 2007.' (Attempt 1/5): API error occurred: Status 429\n",
      "{\"object\":\"error\",\"message\":\"Rate limit exceeded\",\"type\":\"rate_limited\",\"param\":null,\"code\":\"1300\"}\n",
      "Retrying in 1 seconds...\n"
     ]
    },
    {
     "name": "stderr",
     "output_type": "stream",
     "text": [
      "Processing queries (generate or skip): 249it [02:56,  1.12it/s]"
     ]
    },
    {
     "name": "stdout",
     "output_type": "stream",
     "text": [
      "Error generating for query 'FTAA is bad for the environment.  Free trade creates a \"race to the bottom\", whereby developing countries lower their labor and environmental standards in an effort to attract foreign investment. Developed countries, which may have higher standards, are then forced to lower them as well in order to make sure companies don’t relocate or outsource their jobs abroad [1] .  [1] Hassoun, Nicole. “Free Trade and the Environment”. Environmental Ethics, Vol. 31.' (Attempt 1/5): API error occurred: Status 429\n",
      "{\"object\":\"error\",\"message\":\"Rate limit exceeded\",\"type\":\"rate_limited\",\"param\":null,\"code\":\"1300\"}\n",
      "Retrying in 1 seconds...\n"
     ]
    },
    {
     "name": "stderr",
     "output_type": "stream",
     "text": [
      "Processing queries (generate or skip): 253it [03:00,  1.21it/s]"
     ]
    },
    {
     "name": "stdout",
     "output_type": "stream",
     "text": [
      "Error generating for query 'There is greater potential for African women  There is great potential in educating African women. Two out of three illiterate Africans are women. In 1996 the countries with the highest illiteracy rates in women are Burkina Faso with a staggering 91.1%, Sierra Leone with 88.7%, Guinea with 86.6% and Chad with 82.1% of women illiterate [1] . The situation is however improving. Women are starting to reach their educational potential: by 2011 the illiteracy rate among female youth (15-24) had dropped to 52% in Sierra Leone, 22% in Guinea and 42% in Chad. [2]  Women in Africa are becoming much better educated. This means they are much more likely to be able to reach their full potential in the economy. Education provides opportunities as educated women will be better able to work in the manufacturing or services sectors. They will also be much more capable of setting up and running their own businesses or organisations. As a more educated cohort of women enters the workforce they will have a much greater effect on the economy than women have had in the past.  [1] ‘The role of Women in Post-independent Africa’, African Women Culture, 29 April 2011,   [2] UNESCO Institute of Statistics, ‘Literacy rate, youth female (% of females ages 15-24)’, data.worldbank.org, 2009-2013,' (Attempt 1/5): API error occurred: Status 429\n",
      "{\"object\":\"error\",\"message\":\"Rate limit exceeded\",\"type\":\"rate_limited\",\"param\":null,\"code\":\"1300\"}\n",
      "Retrying in 1 seconds...\n"
     ]
    },
    {
     "name": "stderr",
     "output_type": "stream",
     "text": [
      "Processing queries (generate or skip): 265it [03:12,  1.38it/s]"
     ]
    },
    {
     "name": "stdout",
     "output_type": "stream",
     "text": [
      "Error generating for query 'Exposing non-smokers to second-hand smoke goes against their rights.  The Universal Declaration of Human Rights (a list of rights to which the United Nations has declared that all human beings should be entitled) states that \"Everyone has the right to a standard of living adequate for the health and well-being of himself and of his family\"1. More than 50 studies carried out worldwide have found that people are at an increased risk of lung cancer if they work or live with somebody who smokes2. Given these very serious health risks, it goes against people's human rights to be exposed to second-hand smoke when they have not chosen to breathe it in. To avoid this happening, smoking should be banned in public places, so that non-smokers can be sure that they will not have to breathe in second-hand smoke.  1 The Universal Declaration of Human Rights', General Assembly of the United Nations,   2 'Tobacco Smoke and Involuntary Smoking', World Health Organisation, Vol.83, 24 July 2002,' (Attempt 1/5): API error occurred: Status 429\n",
      "{\"object\":\"error\",\"message\":\"Rate limit exceeded\",\"type\":\"rate_limited\",\"param\":null,\"code\":\"1300\"}\n",
      "Retrying in 1 seconds...\n"
     ]
    },
    {
     "name": "stderr",
     "output_type": "stream",
     "text": [
      "Processing queries (generate or skip): 270it [03:17,  1.22it/s]"
     ]
    },
    {
     "name": "stdout",
     "output_type": "stream",
     "text": [
      "Error generating for query 'This ban would be difficult to enforce.  Given the popularity of smoking, a ban on smoking in all enclosed public places would be difficult to enforce, requiring constant vigilance by many police officers or security cameras. It has been reported that smoking bans are not being enforced in Yakima, Washington 1, Atlantic City2, Berlin 3and other places. In New York City, the major has said that the New York Police Department (NYPD) are too busy to enforce the ban on smoking in their parks and on their beaches, and that the job will be left to citizens4.  1. Guenthner, Hayley, 'Smoking Ban Difficult to Enforce in Yakima', KIMA TV, 1 April 2011,   2. Sajor, Stephanie, 'Smoking Ban Not Enforced at Atlantic City Casinos', ThirdAge.com, 25 April 2011,   3. AFP, 'Smoking Ban not Enforced in Parts of Germany', Spiegel Online, 2 July 2008,   4. 'NYC Smoking Ban In Parks Will Not Be Enforced By NYPD: Mayor', Huffington Post, 2 November 2011,' (Attempt 1/5): API error occurred: Status 429\n",
      "{\"object\":\"error\",\"message\":\"Rate limit exceeded\",\"type\":\"rate_limited\",\"param\":null,\"code\":\"1300\"}\n",
      "Retrying in 1 seconds...\n"
     ]
    },
    {
     "name": "stderr",
     "output_type": "stream",
     "text": [
      "Processing queries (generate or skip): 277it [03:24,  1.21it/s]"
     ]
    },
    {
     "name": "stdout",
     "output_type": "stream",
     "text": [
      "Error generating for query 'CAP maintains European food security  The subsidies to agriculture are important for maintaining self-sufficiency to enable Europe to feed its own citizens. In the world of fluctuating markets, global climate change, commodity crisis such in 2008, the state intervention is even more important because that means that the needed goods can become unavailable. Without EU’s help the prices can fluctuate wildly which can be of concern mainly for poorer parts of EU, where the major part of household spending is still food and non-alcoholic beverages. To prevent this kind of situations only the continent-wide policy can be an effective measure. The markets of other countries can compensate losses from others and vice versa. The result of a secure supply of affordable food has been that the amount an average EU household devotes to food has halved since 1960. [1]  [1] European Commission, ‘CAP – how much does it cons’ ‘Food Prices’, ec.europa.eu,' (Attempt 1/5): API error occurred: Status 429\n",
      "{\"object\":\"error\",\"message\":\"Rate limit exceeded\",\"type\":\"rate_limited\",\"param\":null,\"code\":\"1300\"}\n",
      "Retrying in 1 seconds...\n"
     ]
    },
    {
     "name": "stderr",
     "output_type": "stream",
     "text": [
      "Processing queries (generate or skip): 282it [03:29,  1.15it/s]"
     ]
    },
    {
     "name": "stdout",
     "output_type": "stream",
     "text": [
      "Error generating for query 'It hits the most vulnerable part of society hardest  The practical consequence of an additional tax on what the government considers fatty unhealthy food will disproportionately affect the poorest part of the population, who often turn to such food due to economic constraints.  These were the concerns that stopped the Romanian government from introducing a fat tax in 2010. Experts there argued, that the countries people keep turning to junk food simply because they are poor and cannot afford the more expensive fresh produce. What such a fat tax would do is eliminate a very important source of calories from the society’s economic reach and replace the current diet with an even more nutritionally unbalanced one. Even the WHO described such policies as “regressive from an equity perspective.” [1]  Clearly, the government should be focusing its efforts on making healthy fresh produce more accessible and not on making food in general, regardless if it’s considered healthy or not, less accessible for the most vulnerable in our society.  [1] Stracansky, P., 'Fat Tax' May Hurt Poor, published 8/8/2011,  , accessed 9/12/2011' (Attempt 1/5): API error occurred: Status 429\n",
      "{\"object\":\"error\",\"message\":\"Rate limit exceeded\",\"type\":\"rate_limited\",\"param\":null,\"code\":\"1300\"}\n",
      "Retrying in 1 seconds...\n"
     ]
    },
    {
     "name": "stderr",
     "output_type": "stream",
     "text": [
      "Processing queries (generate or skip): 288it [03:35,  1.18it/s]"
     ]
    },
    {
     "name": "stdout",
     "output_type": "stream",
     "text": [
      "Error generating for query 'Rebuilding agricultural systems  Africa is faced with an agrarian crisis. Microfinance is providing rural communities a chance to gain food security and reduce vulnerability to risks such as climate change, unstable demand, and political tensions. Microfinance supports small scale agriculture – which is more sustainable, effective for growth, and beneficial for communities than larger scale agriculture. In Zimbabwe, small scale farming has the capability to improve production, benefiting households, communities, and the Nation (IRIN, 2013; Morrison, 2012).  Kiva, a microfinance NGO, is providing affordable capital to remote communities. Loans have been provided to small-scale farmers and a rental system has been set-up enabling farmers to borrow tools and resources needed.' (Attempt 1/5): API error occurred: Status 429\n",
      "{\"object\":\"error\",\"message\":\"Rate limit exceeded\",\"type\":\"rate_limited\",\"param\":null,\"code\":\"1300\"}\n",
      "Retrying in 1 seconds...\n"
     ]
    },
    {
     "name": "stderr",
     "output_type": "stream",
     "text": [
      "Processing queries (generate or skip): 291it [03:38,  1.11it/s]"
     ]
    },
    {
     "name": "stdout",
     "output_type": "stream",
     "text": [
      "Error generating for query 'Realistic barriers  There are significant barriers to introducing microfinance. Microfinance can’t reach everywhere; a lack of infrastructure, or poor infrastructure, can mean that microfinance initiatives often can’t reach where need is greatest. Those who are poorest most need money just to get buy, not to invest. They would be unable to repay even tiny loans. It returns to the question of who is the poorest, and what do we know about them - where they are, what they need, and why are they poor?  Secondly, structural constraints limit the ability for microfinance to be sustainable and provide a long term solution. Bad governance, inadequate structures to regulate microfinance, and political instability, mean the theoretical benefits of microfinance may not become a lived reality.  Thirdly, who is involved in the supply? The involvement of multiple actors - NGOs, communities, the state, and private sector, complicates how microfinance is being run and therefore the effectiveness. Tensions emerge with such partnerships as each actor has the different objectives and motivations.' (Attempt 1/5): API error occurred: Status 429\n",
      "{\"object\":\"error\",\"message\":\"Rate limit exceeded\",\"type\":\"rate_limited\",\"param\":null,\"code\":\"1300\"}\n",
      "Retrying in 1 seconds...\n"
     ]
    },
    {
     "name": "stderr",
     "output_type": "stream",
     "text": [
      "Processing queries (generate or skip): 296it [03:43,  1.17it/s]"
     ]
    },
    {
     "name": "stdout",
     "output_type": "stream",
     "text": [
      "Error generating for query 'Republicans more enthusiastically support market capitalism  A free market is at the core of many of the other freedoms we enjoy. When government gets too involved in the running of commerce – whether through taxation, regulation or the state ownership of companies, history has shown us that they start controlling other aspects of citizens lives in an effort to get the economic outcomes that they want. Corporations – along with organised religion – provide useful counter-balance to too much government power. As nice as it sounds that we should divert the wages of the rich to bring the poor up to middle class standards of living, it just doesn’t work [i] .  [i] “Why am I a Republican?” Early Riser. 7 February 2006.' (Attempt 1/5): API error occurred: Status 429\n",
      "{\"object\":\"error\",\"message\":\"Rate limit exceeded\",\"type\":\"rate_limited\",\"param\":null,\"code\":\"1300\"}\n",
      "Retrying in 1 seconds...\n"
     ]
    },
    {
     "name": "stderr",
     "output_type": "stream",
     "text": [
      "Processing queries (generate or skip): 311it [03:58,  1.38it/s]"
     ]
    },
    {
     "name": "stdout",
     "output_type": "stream",
     "text": [
      "Error generating for query 'Lack of capacity or room for expansion  The plans for the Hyperloop provide that “The capacity would be 840 passengers per hour which more than sufficient to transport all of the 6 million passengers traveling between Los Angeles and San Francisco areas per year.” With only 28 people per capsule and a maximum of one capsule every 30 seconds there is not much room for expansion. It would seem surprising if this service only carried 6million passengers a year. The Taiwan High Speed Rail running between Taipei and Zuoying carried 41.6 million passengers in 2011 [1] considering that Taiwan has a population of 23 million compared to the combined population of the San Francisco Bay and Los Angeles metropolitan areas of 26million this does not seem an unreasonable comparison. [2] Even if we assume it will not be used at all for commuting and take the Eurostar as the point of comparison the Hyperloop still has only two thirds of the capacity it would need as Eurostar’s ridership is currently approaching 10million. [3]  [1] \"Table 2-8 Passenger Traffic of High-Speed Rail\" . Monthly Statistics of Transportation &amp; Communications . MOTC Department of Statistics .  [2] ‘Annual Estimates of the Population of Combined Statistical Areas’, Census.gov, 2012,   [3] ‘’Strong’ 2012 for Eurostar’, Global Rail News, 25 March 2013,' (Attempt 1/5): API error occurred: Status 429\n",
      "{\"object\":\"error\",\"message\":\"Rate limit exceeded\",\"type\":\"rate_limited\",\"param\":null,\"code\":\"1300\"}\n",
      "Retrying in 1 seconds...\n"
     ]
    },
    {
     "name": "stderr",
     "output_type": "stream",
     "text": [
      "Processing queries (generate or skip): 317it [04:04,  1.18it/s]"
     ]
    },
    {
     "name": "stdout",
     "output_type": "stream",
     "text": [
      "Error generating for query 'Overseas competition  Tunisia’s tourism industry is at risk from overseas competition. International tourism is a very competitive market, relying on the industry is therefore an illogical policy. Tunisia is already being undercut on prices by other countries despite its low fees. Morocco, Spain and Turkey can afford to charge a lower price for package tours than Tunisia due to better air transportation links1. Even before the Jasmine revolution, Tunisia was starting to lose ground to these countries. The ten years before the removal of Ben Ali saw the number of tourists to Tunisia rise from five to seven million, whilst Morocco rose from five to nine million2. Outside of the Mediterranean, Tunisia must compete with popular tourist destinations such as the Far East, North America and Australasia.  1) African Manager, ‘Tunisia-Tourism: Clear Improvement, but a timid pace!’, data accessed 24 January 2014  2) Achy,L. ‘The Tourism Crisis in Tunisia Goes Beyond Security Issues’, Al Monitor, 26 June 2012' (Attempt 1/5): API error occurred: Status 429\n",
      "{\"object\":\"error\",\"message\":\"Rate limit exceeded\",\"type\":\"rate_limited\",\"param\":null,\"code\":\"1300\"}\n",
      "Retrying in 1 seconds...\n"
     ]
    },
    {
     "name": "stderr",
     "output_type": "stream",
     "text": [
      "Processing queries (generate or skip): 321it [04:08,  1.11it/s]"
     ]
    },
    {
     "name": "stdout",
     "output_type": "stream",
     "text": [
      "Error generating for query 'Produces Employment  Tourism is the second largest employer in the country. The industry produces over 400,000 jobs for Tunisians1. This employment figure is vital to Tunisia which has a large number of students in higher-education, around 346,000 in 2010, and a consequentially high expectation of employment2. Tourism also has a positive effect on other linked industries such as transport, creating jobs in these sectors as well. This creation of employment allows more people to sufficiently contribute to society through taxes and the purchasing of goods through their wages. This, in turn, produces economic growth and should therefore be encouraged.  1) Padmore,R. ‘Tunisia tourism industry looks to rebuild’, BBC, 22nd August 2013  2) Global Edge, ‘Tunisia: Economy’, data accessed 27 January 2014' (Attempt 1/5): API error occurred: Status 429\n",
      "{\"object\":\"error\",\"message\":\"Rate limit exceeded\",\"type\":\"rate_limited\",\"param\":null,\"code\":\"1300\"}\n",
      "Retrying in 1 seconds...\n"
     ]
    },
    {
     "name": "stderr",
     "output_type": "stream",
     "text": [
      "Processing queries (generate or skip): 325it [04:12,  1.24it/s]"
     ]
    },
    {
     "name": "stdout",
     "output_type": "stream",
     "text": [
      "Error generating for query 'Poor, uneducated people are lured into cities  The cause of rural-urban migration in developing nations and the main reason why it becomes problematic is that people who move to the cities are not making informed decisions. They are led to believe that the cities contain opportunities that they cannot find where they live, and there are no mechanisms such as efficient media or adequate education to eradicate this misconception. [1] Myths can be easily propagated by a single successful migrant returning home to visit that then attracts many others to try their luck without any knowledge of the possible costs. [2] This is exacerbated by unscrupulous organisations that prey on their desperation to take all their money to organise their move to the city. Some of those who are trafficked find themselves brought to the city and exploited through forced labour, begging, or even prostitution. [3] Many of those who move to cities find themselves in a worse situation but have lost any moving power they originally had and are thus trapped.  [1] Zhan, Shaohua. “What Determines Migrant Workers' Life Chances in Contemporary China? Hukou, Social Exclusion, and the Market.” 243, 2011, Vol. 37.  [2] Waibel, Hermann, and Schmidt, Erich, “Urban-rural relations”, in Feeding Asian Cities: Food Production and Processing Issues, FAO, November 2000,   [3] “UNIAP Vietnam”, United Nations Inter Agency Project on Human Trafficking, accessed March 2013,' (Attempt 1/5): API error occurred: Status 429\n",
      "{\"object\":\"error\",\"message\":\"Rate limit exceeded\",\"type\":\"rate_limited\",\"param\":null,\"code\":\"1300\"}\n",
      "Retrying in 1 seconds...\n"
     ]
    },
    {
     "name": "stderr",
     "output_type": "stream",
     "text": [
      "Processing queries (generate or skip): 328it [04:15,  1.11it/s]"
     ]
    },
    {
     "name": "stdout",
     "output_type": "stream",
     "text": [
      "Error generating for query 'Rural life is miserable and has higher mortality rates than cities  This planet does not find worse living standards anywhere than in the rural areas of developing countries. These are the areas where famine, child mortality and diseases (such as AIDS) plague the people. [1] China’s Hukou system has condemned millions of people to premature death by locking them in areas that never will develop. [2] While the cities enjoy the benefits of 12% growth, the villages are as poor and deprived as ever. [3] It is a poorly concealed policy aimed at maintaining a gaping social cleavage and allowing the rich to remain rich.  [1] Maxwell, Daniel., “The Political Economy of Urban Food Security in Sub-Saharan Africa.” 11, London : Elsevier Science Ltd., 1999, World Development, Vol. 27, p. 1939±1953. S0305-750X(99)00101-1.  [2] Dikötter, Frank. Mao's Great Famine. London : Walker &amp; Company, 2010. 0802777686.  [3] Wang, Fei-Ling. “Organising through Division and Exclusion: China's Hukou System\". 2005.' (Attempt 1/5): API error occurred: Status 429\n",
      "{\"object\":\"error\",\"message\":\"Rate limit exceeded\",\"type\":\"rate_limited\",\"param\":null,\"code\":\"1300\"}\n",
      "Retrying in 1 seconds...\n"
     ]
    },
    {
     "name": "stderr",
     "output_type": "stream",
     "text": [
      "Processing queries (generate or skip): 333it [04:20,  1.18it/s]"
     ]
    },
    {
     "name": "stdout",
     "output_type": "stream",
     "text": [
      "Error generating for query 'Development is about more than economic growth  Amartya Sen has argued that “the removal of substantial unfreedoms […] is constitutive of development [in so far as give people] the opportunity of exercising their reasoned agency [1] ”. In a broader sense, democracy is necessary for a developed society because a precondition of a developed society is for that society to be able to decide for itself what its objectives are. It is society as a whole that needs to define what it considers to be development. The Myanmar under the junta may have considered its goals to be a strong military showing that Burma was developed. But without the citizenry agreeing this would not make Burma a strong state. Quite the opposite the lack of freedoms would show the country is not actually developed. Development means more than economic growth, it has to include other indicators as in the Human Development Index, but also things that are not even captured by that measurement such as freedom of speech.  Economic growth and GDP are even worse at demonstrating which countries are developed. Development only occurs when the wealth, and the choices it brings, reaches the people which is why Equatorial Guinea is not a developed nation despite its high income. Even in the economic realm therefore it is not just the absolute growth that matters but how it is distributed. Przeworski and Limongi show that from 1951-1990 dictatorships had higher growth rates than democracies (4.42% against 3.95%) yet the growth rate in GDP per capita was higher in democracies (2.46% against 2%). [2]  [1] Sen, A. (1999). Development as Freedom. Oxford: Oxfor University Press. p. xii  [2] Przeworski, Adam and Fernando Limongi, 1997a; in M. ANTIĆ: “Democracy versus Dictatorship: The Influence of Political Regime on GDP Per Capita Growth”. EKONOMSKI PREGLED, 55 (9-10) pp. 773-803 (2004)' (Attempt 1/5): API error occurred: Status 429\n",
      "{\"object\":\"error\",\"message\":\"Rate limit exceeded\",\"type\":\"rate_limited\",\"param\":null,\"code\":\"1300\"}\n",
      "Retrying in 1 seconds...\n"
     ]
    },
    {
     "name": "stderr",
     "output_type": "stream",
     "text": [
      "Processing queries (generate or skip): 340it [04:27,  1.23it/s]"
     ]
    },
    {
     "name": "stdout",
     "output_type": "stream",
     "text": [
      "Error generating for query 'Returning to the 1967 borders would make war more likely.  The Foreign Minister of Israel, Avigdor Lieberman, said in 2009: “A return to the pre-1967 lines, with a Palestinian state in Judea and Samaria, would bring the conflict into Israel's borders. Establishing a Palestinian state will not bring an end to the conflict.” [1] This is why the American ambassador to the UN at the time of the 1967 war pointed out that “Israel's prior frontiers had proved to be notably insecure”, and American President Lyndon Johnson, shortly after the war, declared that Israel's return to its former lines would be “not a prescription for peace but for renewed hostilities.” Johnson advocated new 'recognized boundaries' that would provide \"security against terror, destruction, and war.” [2] An Israel that withdrew completely to the 1967 borders would offer a very tempting target, since it would be a narrow country with no strategic depth whose main population centres and strategic infrastructure would be within tactical range of forces deployed along the commanding heights of the West Bank. This would hurt Israel's ability to deter future attacks and thus make conflict in the region even more likely. This ability of Israel to deter aggressors is particularly important not only due to the region's history of aggression against Israel, but also due to the unpredictable future events in the highly volatile Middle East. There is no way, for example, to guarantee that Iraq will not evolve into a radical Shi'ite state that is dependent on Iran and hostile to Israel (indeed, King Abdullah of Jordan has warned of a hostile Shi'ite axis that could include Iran, Iraq, and Syria), nor that a Jordan's Palestinian majority might seize power in the state (leaving Israel to defend itself against a Palestinian state that stretches from Iraq to Kalkilya), nor that in the future, militant Islamic elements will not succeed in gaining control of the Egyptian regime. [3]  Given its narrow geographical dimensions, a future attack launched from the pre-1967 borders against Israel's nine-mile-wide waist could easily split the country in two. Especially seeing as Islamic militants throughout the Middle East are unlikely to be reconciled to Israel even by a withdrawal to the 1967 borders, such a withdrawal therefore would actually make peace in the region less likely and encourage war against Israel. [4]  [1] Lazaroff, Tovah. “Lieberman warns against '67 borders”. Jerusalem Post. 27 November 2009.   [2] Levin, Kenneth. “Peace Now: A 30-Year Fraud”. FrontPageMag.com. 5 September 2008.   [3] Amidror, Maj.-Gen. (res.) Yaakov. “Israel's Requirement for Defensible Borders”. Defensible Borders for a Lasting Peace. 2005.   [4] El-Khodary, Taghreed and Bronner, Ethan. “Hamas Fights Over Gaza’s Islamist Identity”. New York Times. 5 September 2009.' (Attempt 1/5): API error occurred: Status 429\n",
      "{\"object\":\"error\",\"message\":\"Rate limit exceeded\",\"type\":\"rate_limited\",\"param\":null,\"code\":\"1300\"}\n",
      "Retrying in 1 seconds...\n"
     ]
    },
    {
     "name": "stderr",
     "output_type": "stream",
     "text": [
      "Processing queries (generate or skip): 345it [04:32,  1.12it/s]"
     ]
    },
    {
     "name": "stdout",
     "output_type": "stream",
     "text": [
      "Error generating for query 'Free movement will provide benefits for productivity.  A free labour market provides a space for sharing (knowledge, ideas, and socio-cultural traditions), competing, and sustaining efficiency in development. As neoliberal theory advocates a laissez-faire approach is fundamental for growth. A free labour market will enhance economic productivity. Free labour movement enables access to new employment opportunities and markets.  Within the East African Community the Common Market Protocol (CMP) (2010) has removed barriers towards the movement of people, services, capital, and goods. Free regional movement is granted to citizens of any member state in order to aid economic growth. Free movement is providing solutions to regional poverty by expanding the employment opportunities available, enabling faster and efficient movement for labour, and reducing the risk of migration for labour. Similar to initial justifications of Europe’s labour market, a central idea is to promote labour productivity within the region [1] .  [1] Much criticism has been raised with regards to the flexible labour market in Europe - with high unemployment across national member states such as Spain, Ireland, and Greece; the prevalent Euro-crisis, and backlash over social welfare with rising migration. Disparities remain in jobs, growth, and productivity across the EU.' (Attempt 1/5): API error occurred: Status 429\n",
      "{\"object\":\"error\",\"message\":\"Rate limit exceeded\",\"type\":\"rate_limited\",\"param\":null,\"code\":\"1300\"}\n",
      "Retrying in 1 seconds...\n"
     ]
    },
    {
     "name": "stderr",
     "output_type": "stream",
     "text": [
      "Processing queries (generate or skip): 350it [04:37,  1.18it/s]"
     ]
    },
    {
     "name": "stdout",
     "output_type": "stream",
     "text": [
      "Error generating for query 'Migration reasonings and exploitation.  A free labour market perceives migration in a predominantly neoclassical light - people migrate due to pull factors, to balance the imbalance of jobs, people move due to economic laws. However, such a perspective fails to include the complex factors enticing migration and lack of choice in the decision. Promoting a labour market, whereby movement is free and trade enabled, makes it easier to move but does not take into account the fact migration is not only purely economical. By focusing on a free labour market as being economically valuable, we neglect a bigger picture of what the reasons for migration are.  Without effective management a free labour market raises the potential of forced migration and trafficking. Within the COMESA region trafficking has been identified as a growing issue with the 40,000 identified cases in 2012 being the tip of the iceberg (Musinguzi, 2013). A free labour market may mean victims of trafficking will remain undetected. Moving for ‘work’, how can distinctions be made to identify trafficked migrants; and clandestine migration be managed?  A free labour market, across Africa, justifies cheap and flexible labour to build emerging economies - however, remains unjust. Promoting free labour movement needs to be matched with a question on ‘what kind of labour movement’?' (Attempt 1/5): API error occurred: Status 429\n",
      "{\"object\":\"error\",\"message\":\"Rate limit exceeded\",\"type\":\"rate_limited\",\"param\":null,\"code\":\"1300\"}\n",
      "Retrying in 1 seconds...\n"
     ]
    },
    {
     "name": "stderr",
     "output_type": "stream",
     "text": [
      "Processing queries (generate or skip): 361it [04:48,  1.21it/s]"
     ]
    },
    {
     "name": "stdout",
     "output_type": "stream",
     "text": [
      "Error generating for query 'The Free Syrian Army is outgunned  The Syrian army is one of the biggest armies in the world; it is nothing like the poorly equipped Libyan army that was beaten by western backed rebels in 2011. The government has aircraft, and helicopters that are used to bomb the rebels, and heavy Russian built tanks that are impervious to most of the small arms the free Syrian army has. Providing arms would quickly even the odds; light anti-tank weapons would be effective against Syrian armoured vehicles repeating the success with which Hezbollah employed them when they knocked out sixty Israeli armoured vehicles in 2006, [1] while man portable air defence systems would quickly make the skies too dangerous for the Syrian airforce so protecting free Syrian controlled areas from the threat of attack from the air. [2]  [1] Cordesman, Anthony H., ‘Preliminary “Lessons” of the Israeli-Hezbollah War’, Center for Strategic and International Studies, 17 August 2006, P.18  [2] Doran, Michael, and Shaikh, Salman, ‘Arm the Syrian Rebels. Now’. Foreign Policy, 8 February 2013' (Attempt 1/5): API error occurred: Status 429\n",
      "{\"object\":\"error\",\"message\":\"Rate limit exceeded\",\"type\":\"rate_limited\",\"param\":null,\"code\":\"1300\"}\n",
      "Retrying in 1 seconds...\n"
     ]
    },
    {
     "name": "stderr",
     "output_type": "stream",
     "text": [
      "Processing queries (generate or skip): 366it [04:53,  1.17it/s]"
     ]
    },
    {
     "name": "stdout",
     "output_type": "stream",
     "text": [
      "Error generating for query 'Unforeseeable consequences  We do not know where arming the rebels will lead. The most obvious parallel has to be Afghanistan in the 1980s where the United States armed the mujahideen and succeeded in their objective of damaging the USSR through a war of attrition much as the US had suffered in Vietnam. Afghanistan became an albatross around the Soviet Union’s neck. [1] But the US did not win the peace, Afghanistan descended into civil conflict which had a Taliban victory that sheltered Osama bin Laden; US arms in Afghanistan unintentionally lead more than a decade later to September 11. In this case we would be arming a movement that has many jihadi elements that could end up with the weaponry. Other countries such as Turkey are also worried about where powerful weapons such as anti aircraft missiles could end up if provided to the rebels. They fear they could easily find their way across the border to militant Kurds. [2] Other paths that this could lead to are just as bad; for example helping the Libyan rebels lead to the conflict in Mali. [3] In this case the short term consequences could be just as bad. Arming the Sunnis could provoke retaliation from either Iran or Hezbollah who could feel undermined by the move, in the worst case scenario they could even attack western assets in the area. [4]  [1] Hoffman, David E., The Dead Hand: Reagan, Gorbachev and the Untold Story of the Cold War Arms Race, Icon Books Ltd, 2011, p.211  [2] Hokayem, Emile, in ‘Roundtable: arming the Syrian rebels’, Foreign Policy, 21 February 2013  [3] Jones, Owen, ‘The war in Libya was seen as a success, now here we are engaging with the blowback in Mali’, The Independent, 13 January 2013  [4] Yacoubian, Mona, in ‘Roundtable: arming the Syrian rebels’, Foreign Policy, 21 February 2013' (Attempt 1/5): API error occurred: Status 429\n",
      "{\"object\":\"error\",\"message\":\"Rate limit exceeded\",\"type\":\"rate_limited\",\"param\":null,\"code\":\"1300\"}\n",
      "Retrying in 1 seconds...\n"
     ]
    },
    {
     "name": "stderr",
     "output_type": "stream",
     "text": [
      "Processing queries (generate or skip): 372it [04:59,  1.16it/s]"
     ]
    },
    {
     "name": "stdout",
     "output_type": "stream",
     "text": [
      "Error generating for query 'Reparations would effectively right the economic imbalance caused by colonialism.  Given that much of the motive for colonisation was economic, many former colonies have suffered damage to their natural resources [1] or human resources, [2] which has left them less able to sustain a healthy economy. Colonists targeted countries with rich natural resources and little ability to defend themselves from invasion and manipulation. By this method, they could supply their own markets with the natural resources which they had already exploited at home [3] , and find cheap (or free) human labour for their markets [4] . Given that powerful countries such as Britain [5] and France [6] gained their own economic prosperity through the exploitation of the economic potential of the colonies, it is entirely appropriate and logical that they should pay reparations as compensation. In this way, the economic disparity between former colonies and colonists would be equalised.  [1] Accessed from  on12/09/11  [2] Accessed from  on 12/09/11  [3] Accessed from  12/09/11  [4] Accessed from  on 12/09/11  [5] Accessed from  on 12/09/11  [6] ‘The Haitian Revolution and its Effects’. Patrick E. Bryan. Accessed from  on 12/09/11.' (Attempt 1/5): API error occurred: Status 429\n",
      "{\"object\":\"error\",\"message\":\"Rate limit exceeded\",\"type\":\"rate_limited\",\"param\":null,\"code\":\"1300\"}\n",
      "Retrying in 1 seconds...\n"
     ]
    },
    {
     "name": "stderr",
     "output_type": "stream",
     "text": [
      "Processing queries (generate or skip): 377it [05:05,  1.09it/s]"
     ]
    },
    {
     "name": "stdout",
     "output_type": "stream",
     "text": [
      "Error generating for query 'Georgian rule in South Ossetia is historically illegitimate and oppressive  Modern Georgia never really controlled S. Ossetia. South Ossetia declared independence from Georgia shortly after Georgia gained independence from the disintegrating USSR in 1991. South Ossetia has maintained de facto independence ever since. [1] Georgia, therefore, cannot really claim to have had sustained, legitimate sovereign control over South Ossetia in modern times. Even the USSR recognised S. Ossetia as distinct from Georgia, with the Kremlin stating in 1920 that “we consider that Ossetia should have the power it prefers. Georgian intrusion into affairs of Ossetia would be an unjustified intervention into foreign internal affairs”. [2] S. Ossetia was an autonomous region within the USSR. It was not considered part of the same region that is now Georgia, and thus during its years under the USSR, S. Ossetia built up a significant degree of autonomy and independence in its internal functioning. Therefore, Georgia's only real claim to South Ossetia must extend back nearly a century, before the time of the Soviet Union.  This significantly weakens Georgia's claim over South Ossetia, but moreover Georgia's historical claim on South Ossetia is quite weak even in isolation. This is because S. Ossetia has its own distinct language and history to that of Georgia. Ossetian or Ossetic is a member of the Northeastern Iranian branch of Indo-European languages. About 500,000 people speak Ossetian in Ossetia. [3] , [4] That Ossetia has this distinct language is an important fact in favour of its status as a nation-state and in favor of its independence. Georgia, however, has been accused of committing genocide against the South Ossetians in 1920, 1993, and 2008, with tens of thousands of S. Ossetians dying over the course of these conflicts. [5] The Georgian government has also attempted to suppress S. Ossetian culture and identity, for example banning the use of the Ossetian language in official documents and abolishing S. Ossetian autonomy within Georgia. [6] Georgian rule in S. Ossetia is therefore both ahistorical, due to S. Ossetia's long and recognised history of independence and cultural and linguistic distinctness, and illegitimate, as the Georgian government has waged war upon the very lives and identity of the S. Ossetian people.  [1] BBC News. “S Ossetia votes for independence”. BBC News. 13 November 2006.   [2] Bzarov, Ruslan. “Independence of the Republic of South Ossetia – a guarantee of safety and reliable future of the Ossetian people”. Speech of Doctor of historical sciences, Professor Ruslan Bzarov at the VI congress of the Ossetian people. September 2007.   [3] BBC News. “S Ossetia votes for independence”. BBC News. 13 November 2006.   [4] Omniglot. “Ossetian”. Omniglot.   [5] Portyakova, Natalya and Sysoyev, Gennady. “Measuring South Ossetia by Kosovo”. Kommersant. 15 November 2006.   [6] Makarkin, Alexei. “How is South Ossetia different from Kosovo?”. RIA Novosti. 9 March 2006.' (Attempt 1/5): API error occurred: Status 429\n",
      "{\"object\":\"error\",\"message\":\"Rate limit exceeded\",\"type\":\"rate_limited\",\"param\":null,\"code\":\"1300\"}\n",
      "Retrying in 1 seconds...\n"
     ]
    },
    {
     "name": "stderr",
     "output_type": "stream",
     "text": [
      "Processing queries (generate or skip): 387it [05:14,  1.17it/s]"
     ]
    },
    {
     "name": "stdout",
     "output_type": "stream",
     "text": [
      "Error generating for query 'Africa is the most warlike continent  In 2012 Africa had the most distinct conflicts of any region with 13 ongoing conflicts. [1] While Africa and Asia have throughout most of the last fifty years had roughly similar numbers of conflicts – approximately 10 per year [2] - Africa has had many more non state conflicts and the number has not declined since 2004 when there were 20 non-state conflicts; in 2011 there were 22. [3] All in all there is little hope of managing to end all these conflicts by 2020.  [1] ‘Armed Conflicts 2012’, Uppsala Conflict Data Program, 2013,   [2] ‘Armed Conflict by Region’, UCDP, 2013,   [3] ‘Non-state Conflicts by Region, 1989-2011’, UCDP, 2012,' (Attempt 1/5): API error occurred: Status 429\n",
      "{\"object\":\"error\",\"message\":\"Rate limit exceeded\",\"type\":\"rate_limited\",\"param\":null,\"code\":\"1300\"}\n",
      "Retrying in 1 seconds...\n"
     ]
    },
    {
     "name": "stderr",
     "output_type": "stream",
     "text": [
      "Processing queries (generate or skip): 392it [05:20,  1.12it/s]"
     ]
    },
    {
     "name": "stdout",
     "output_type": "stream",
     "text": [
      "Error generating for query 'The hard part is the cutting of emissions  The problem with a non-binding agreement, even one where the targets have been submitted by the governments themselves is exactly that it is non-binding. If governments are not bound to cut emissions then there is a good chance that many of them wont. [1] The British government, which has binding targets, has been on course to miss its 2025 targets with reductions of only 23% against targets of 31% due to a decision to reduce subsidies for housing insulation. [2] If countries which have set targets for themselves in the past are missing them what hope do we have for these voluntary targets?  [1] Taylor, Lenore, ‘Paris climate talks: the real test is whether countries will keep their word’, The Guardian, 30 November 2015,   [2] Harvey, Fiona, ‘UK on track to miss carbon targets, climate change advisers warn’, The Guardian, 15 July 2014,' (Attempt 1/5): API error occurred: Status 429\n",
      "{\"object\":\"error\",\"message\":\"Rate limit exceeded\",\"type\":\"rate_limited\",\"param\":null,\"code\":\"1300\"}\n",
      "Retrying in 1 seconds...\n"
     ]
    },
    {
     "name": "stderr",
     "output_type": "stream",
     "text": [
      "Processing queries (generate or skip): 397it [05:25,  1.24it/s]"
     ]
    },
    {
     "name": "stdout",
     "output_type": "stream",
     "text": [
      "Error generating for query 'On issues such as gay marriage, human rights activists have taken the line that the right to marry is nobody else’s business. That principle of privacy should work both ways.  Many have argued that issues relating to homosexual relations are, fundamentally, a matter of privacy. That we should respect the rights of individuals to live their lives as they see fit without having the views, actions and opinions imposed upon them. [1] It’s a reasonable position but must surely relate to viewers and readers as much as it does to the subjects of news stories.  If gay men and women have the right to live their lives free from the intervention of other traditions and beliefs then so do those communities – religious and otherwise – that find some of their demands offensive or objectionable.  If the rights to privacy and self-determination are supported by those who support gay rights, then it would be inconsistent to suggest that this does not generate a right to avoid offence on behalf of those receiving news.  [1] Human rights campaign, ‘Should gay marriage be legal?’, procon.org, updated 10th August 2012,' (Attempt 1/5): API error occurred: Status 429\n",
      "{\"object\":\"error\",\"message\":\"Rate limit exceeded\",\"type\":\"rate_limited\",\"param\":null,\"code\":\"1300\"}\n",
      "Retrying in 1 seconds...\n"
     ]
    },
    {
     "name": "stderr",
     "output_type": "stream",
     "text": [
      "Processing queries (generate or skip): 409it [05:37,  1.20it/s]"
     ]
    },
    {
     "name": "stdout",
     "output_type": "stream",
     "text": [
      "Error generating for query 'Ratification of the International Criminal Court would be a violation of national sovereignty  Any state ratifying the Rome Statute, is placing its citizens at the mercy of a court that operates outside of national control. This is an unacceptable ceding of national sovereignty – thus no state other than the US has the power to deal with American criminals, and no one but Israel should deal with Israeli criminals. International criminal law and national sovereignty are inevitably enemies  Not only does the ICC threaten American sovereignty, it threatens the sovereignty of all nations – the ICC can, in some cases, prosecute citizens of nations that are not state parties. Authority for justice within one’s territory is however at the heart of the concept of sovereignty. As a matter of principle the US should not be supporting measures that affect the sovereignty of any nation, let alone the US itself.' (Attempt 1/5): API error occurred: Status 429\n",
      "{\"object\":\"error\",\"message\":\"Rate limit exceeded\",\"type\":\"rate_limited\",\"param\":null,\"code\":\"1300\"}\n",
      "Retrying in 1 seconds...\n"
     ]
    },
    {
     "name": "stderr",
     "output_type": "stream",
     "text": [
      "Processing queries (generate or skip): 414it [05:42,  1.14it/s]"
     ]
    },
    {
     "name": "stdout",
     "output_type": "stream",
     "text": [
      "Error generating for query 'A UN standing army is unnecessary  A UN standing army is unnecessary; in many cases UN missions are very successful. In Guatemala for example, a UN peacekeeping mission was essential in enabling the conclusion of a decades-long civil war in 1997. When there are problems these are more to do with lengthy and difficult Security Council deliberations, inadequate mandates, etc. rather than how long it took to gather a force together. In Srebrenica for example, where thousands of Bosnian men and boys were slaughtered by Serbian troops, the problem was not the absence of peacekeepers on the ground, but an inadequate mandate to use force. The UN would be much better spending its efforts on setting up a proper peacekeeping department, and streamlining the UN as a whole.' (Attempt 1/5): API error occurred: Status 429\n",
      "{\"object\":\"error\",\"message\":\"Rate limit exceeded\",\"type\":\"rate_limited\",\"param\":null,\"code\":\"1300\"}\n",
      "Retrying in 1 seconds...\n"
     ]
    },
    {
     "name": "stderr",
     "output_type": "stream",
     "text": [
      "Processing queries (generate or skip): 420it [05:48,  1.10it/s]"
     ]
    },
    {
     "name": "stdout",
     "output_type": "stream",
     "text": [
      "Error generating for query ': Main purpose of UN, to prevent war, has clearly not been achieved.  The UN was set up with the express purpose of preventing global wars, yet it has done absolutely nothing to prevent them. Indeed, the UN has often served merely as a forum for countries to abuse and criticise each other, rather than resolve disputes peacefully.  In some cases, such as the 2003 invasion of Iraq, UN resolutions have arguably been used as a justification for wars, rather than to prevent them. Research shows that the number of armed conflicts in the world rose steadily in the years after 1945 and has only begun to plateau or fall since the end of the Cold War. [1]  [1] Harrison, Mark &amp; Wolf, Nikolaus. “The Frequency of Wars”. University of Warwick, 10th March 2011.' (Attempt 1/5): API error occurred: Status 429\n",
      "{\"object\":\"error\",\"message\":\"Rate limit exceeded\",\"type\":\"rate_limited\",\"param\":null,\"code\":\"1300\"}\n",
      "Retrying in 1 seconds...\n"
     ]
    },
    {
     "name": "stderr",
     "output_type": "stream",
     "text": [
      "Processing queries (generate or skip): 425it [05:53,  1.08it/s]"
     ]
    },
    {
     "name": "stdout",
     "output_type": "stream",
     "text": [
      "Error generating for query 'Solution to problems of UN is to reform outdated structures.  It is undeniably true that some of the UN’s procedures need to be improved, and standards of financial transparency improved. However, this is true of many governments and international organisations, not just the UN. The answer to the UN’s problems is not to give up on it but rather reform it for the 21st century, including perhaps changing or augmenting the permanent membership of the Security Council to reflect the reality of the modern world. [1]  [1] London, Jacqueline. “Reform of the United Nations Security Council”. International Affairs and Foreign Policy Institute. 29th June 2007.' (Attempt 1/5): API error occurred: Status 429\n",
      "{\"object\":\"error\",\"message\":\"Rate limit exceeded\",\"type\":\"rate_limited\",\"param\":null,\"code\":\"1300\"}\n",
      "Retrying in 1 seconds...\n"
     ]
    },
    {
     "name": "stderr",
     "output_type": "stream",
     "text": [
      "Processing queries (generate or skip): 430it [05:58,  1.20it/s]"
     ]
    },
    {
     "name": "stdout",
     "output_type": "stream",
     "text": [
      "Error generating for query 'States should not be isolated on political grounds  The isolation of Myanmar by some of the developed Western powers is arbitrary and marked by hypocrisy. The real reasons for the stance taken by these countries are political. There is little consistency in the attitude taken towards other governments and dictatorships across the world that also have questionable human rights records (Saudi Arabia and Egypt, to name a few), but either offer other strategic and economic benefits, or are much more influential in international affairs than Myanmar. Myanmar is only part of a group of countries (also including Cuba and North Korea) whose economic and political policies have remained relatively opaque to arm-twisting by the US and the EU. It is unfair to impose sanctions on and isolate Myanmar on this basis, especially in an emerging multi-polar international environment.' (Attempt 1/5): API error occurred: Status 429\n",
      "{\"object\":\"error\",\"message\":\"Rate limit exceeded\",\"type\":\"rate_limited\",\"param\":null,\"code\":\"1300\"}\n",
      "Retrying in 1 seconds...\n"
     ]
    },
    {
     "name": "stderr",
     "output_type": "stream",
     "text": [
      "Processing queries (generate or skip): 435it [06:03,  1.16it/s]"
     ]
    },
    {
     "name": "stdout",
     "output_type": "stream",
     "text": [
      "Error generating for query 'Re-engagement will weaken the reform movement  International and domestic pressure has forced the military junta to set up a nominal civilian government. It is important to make sure that change goes further and becomes meaningful. This will involve bringing into force a fair constitution, curbing human rights violations and bringing its perpetrators to justice, and creating conditions for legitimate democratic elections to take place. By reengaging at this juncture, the signal the ruling elite in Myanmar will get is that this piecemeal, nominal change is sufficient to hold them in good stead in the international political arena for a longer period. It would also be a betrayal of the pro-democracy supporters in Myanmar, who continue to be cast out of the constitutional process and have little actual political influence under the existing system.1  1 Thanegi, Ma, ‘Burma sanctions: The case against’, BBC news, ‘4 March 2002’.' (Attempt 1/5): API error occurred: Status 429\n",
      "{\"object\":\"error\",\"message\":\"Rate limit exceeded\",\"type\":\"rate_limited\",\"param\":null,\"code\":\"1300\"}\n",
      "Retrying in 1 seconds...\n"
     ]
    },
    {
     "name": "stderr",
     "output_type": "stream",
     "text": [
      "Processing queries (generate or skip): 440it [06:08,  1.23it/s]"
     ]
    },
    {
     "name": "stdout",
     "output_type": "stream",
     "text": [
      "Error generating for query 'Setting Rwanda's priorities  Rwanda is an emerging democracy healing from the wounds of the horrific past. To achieve the set vision, there should be a priority which in this case is economic development[1].  A large number of Rwandans believe that the government should focus on transforming the nation economically although it may mean restricting free speech, which has prompted a huge participation in government development programs like Ubudehe[2]. Freedom of speech and press needs to be restricted if the government wants to engage in unlimited development; there is no time to engage in long debates over whether a particular project is being implemented the correct way. Having freedom of speech and press would hinder the government’s ability to manage the resources of the state and to encourage investors who don’t want to have protests to their building factories, or have labour complaining about not being paid enough.  Whether a country puts rights or the economy first is up to the individual country, Rwanda has chosen.  [1] Horand, Knaup, ‘Kagame's Priorities for Rwanda: First Prosperity, then Freedom of Expression’, Spiegel.de, 12 August 2010  [2] NS world, ‘Rwanda Engages Citizens in Community-Level development’, nsworld.org' (Attempt 1/5): API error occurred: Status 429\n",
      "{\"object\":\"error\",\"message\":\"Rate limit exceeded\",\"type\":\"rate_limited\",\"param\":null,\"code\":\"1300\"}\n",
      "Retrying in 1 seconds...\n"
     ]
    },
    {
     "name": "stderr",
     "output_type": "stream",
     "text": [
      "Processing queries (generate or skip): 444it [06:12,  1.16it/s]"
     ]
    },
    {
     "name": "stdout",
     "output_type": "stream",
     "text": [
      "Error generating for query 'Annexation will allow the free movement of Basotho people, goods and services  For the Basotho in a landlocked country the free movement of their people is a right that is in large part dependent on the South African (SA) government rather their own national one. Its importance is shown by 40% of border crossings into South Africa being from Lesotho. Acknowledging the fact that Lesotho is an enclave state surrounded by SA, the ability of people to move freely depends on whether they are allowed to enter SA or not. There is corruption at border posts and the number of crossings results in long queues and slow service; 63% of border crossers experience problems. [1] This is sometimes made even more difficult by SA government actions as before the World Cup in 2010 when border restrictions were tightened making it almost impossible for Basotho to leave their country. [2] This happened due to the detention of several Lesotho nationals after a spate of criminal activities along the border.  The same situation applies to trade. Lesotho is dependent on the trade with South Africa, even for goods that come from beyond South Africa as Lesotho has no port of its own most goods will have to be transported through South Africa. This dependency is rising. In 1980, Lesotho produced 80% of the cereals it consumed. Now it imports 70%. [3] Annexation would eliminate these borders boosting trade between the countries, helping to make both richer. In the best interest of Basotho is to be able to control and be listened to by the entity that is metaphorically and literally feeding them.  [1] Crush, Jonathan, ‘The border within: The future of the Lesotho-South African international boundary’, Migration Policy Series No.26,   [2] Patel, Khadija, Lesotho and South Africa: ‘Good fences make good neighbours’, 19 April 2013,   [3] Smith, Alex Duval, ‘Lesotho's people plead with South Africa to annex their troubled country’, theguardian.com, 6 June 2010' (Attempt 1/5): API error occurred: Status 429\n",
      "{\"object\":\"error\",\"message\":\"Rate limit exceeded\",\"type\":\"rate_limited\",\"param\":null,\"code\":\"1300\"}\n",
      "Retrying in 1 seconds...\n"
     ]
    },
    {
     "name": "stderr",
     "output_type": "stream",
     "text": [
      "Processing queries (generate or skip): 448it [06:16,  1.16it/s]"
     ]
    },
    {
     "name": "stdout",
     "output_type": "stream",
     "text": [
      "Error generating for query 'It is not in the interest of South Africa to annex a poor, underdeveloped country  It is not in South Africa’s interests to annex Lesotho. Lesotho would be a burden; it is poor, might cause instability, and has no resources as compensation. On a simple cost-benefit analysis made by the SA government they would clearly see they would have more responsibility towards the Basotho population but new resources to fulfil those responsibilities. South Africa has its own problems that it should be focusing on first. Poverty is officially at 52.3% [1] and unemployment is a great problem for South Africans; a quarter of the majority black workforce is unemployed. [2] Moreover, Only 40.2% of black infants live in a home with a flush toilet, a convenience enjoyed by almost all their white and Indian counterparts showing the inequality that still exists in the ‘rainbow nation’. [3] Why add more people under your protection when you can’t take care of your own?  [1] ‘Statement by Minister in The Presidency for Performance Monitoring and Evaluation, Collins Chabane, on the occasion of the launch of the Development Indicators 2012 Report’, thepresidency.gov.za, 20 August 2013,   [2] Mcgroarty, Patrick, ‘Poverty Still Plagues South Africa's Black Majority’, The Wall Street Journal, 8 December 2013,   [3] Kielburger, Craig &amp; Marc, ‘Why South Africa is Still Dealing With Segregation and Poverty’, Huffington Post, 18 December 2013,' (Attempt 1/5): API error occurred: Status 429\n",
      "{\"object\":\"error\",\"message\":\"Rate limit exceeded\",\"type\":\"rate_limited\",\"param\":null,\"code\":\"1300\"}\n",
      "Retrying in 1 seconds...\n"
     ]
    },
    {
     "name": "stderr",
     "output_type": "stream",
     "text": [
      "Processing queries (generate or skip): 457it [06:25,  1.09it/s]"
     ]
    },
    {
     "name": "stdout",
     "output_type": "stream",
     "text": [
      "Error generating for query 'The concept of federalism lacks political support  Euroscepticism is highest in Latvia, the United Kingdom, and Hungary, with only 25%–32% viewing membership as a good thing. Belief that the citizen's country has benefited from EU membership is lowest (below 50%) in the UK, Hungary, Latvia, Italy, Austria, Sweden and Bulgaria. A significant minority (36%) do not tend to trust the European Parliament. The European Parliament does not command the same sense of respect as national Parliaments, nor the connection with ordinary people. [1]  [1] Directorate-General for Communication, ‘EUROBAROMETER 71 Public opinion in the European Union’' (Attempt 1/5): API error occurred: Status 429\n",
      "{\"object\":\"error\",\"message\":\"Rate limit exceeded\",\"type\":\"rate_limited\",\"param\":null,\"code\":\"1300\"}\n",
      "Retrying in 1 seconds...\n"
     ]
    },
    {
     "name": "stderr",
     "output_type": "stream",
     "text": [
      "Processing queries (generate or skip): 462it [06:30,  1.20it/s]"
     ]
    },
    {
     "name": "stdout",
     "output_type": "stream",
     "text": [
      "Error generating for query 'Endangered animals are a source of pride for African countries  Endangered animals warrant a tougher degree of protection in Africa as they have notable cultural significance. Some groups believe that African elephants have mystic powers attached to them and have coveted them for centuries. [1] African lions have been depicted on the coat of arms for states and institutions both past and present. [2] They are intrinsically linked with Africa’s past and its identity. The extinction of these animals, therefore, would have a negative cultural impact and should be prevented.  [1] University of California, Los Angeles, ‘Elephant: The Animal and its Ivory in African Culture’  [2] Coleman, Q. ‘The importance of African lions’' (Attempt 1/5): API error occurred: Status 429\n",
      "{\"object\":\"error\",\"message\":\"Rate limit exceeded\",\"type\":\"rate_limited\",\"param\":null,\"code\":\"1300\"}\n",
      "Retrying in 1 seconds...\n"
     ]
    },
    {
     "name": "stderr",
     "output_type": "stream",
     "text": [
      "Processing queries (generate or skip): 465it [06:33,  1.11it/s]"
     ]
    },
    {
     "name": "stdout",
     "output_type": "stream",
     "text": [
      "Error generating for query 'Heavy handed approaches do not solve the motivations for poaching  Creating tougher responses to poaching will not deter poachers as they fail to recognise the motivations for illegal hunting. Many hunters, especially those who aren’t native to Africa, take part in poaching as there is a thrill in the illegal status. [1] The close calls, challenges and sense of independence will all be multiplied by increased protection on the game reserves.  Then there are those who take part out of necessity. Poachers will often be able to make $50-100 per kilogram for a rhinoceros’ horn [2] and the bush meat from kills can be a necessary source of nutrition. [3] Poaching creates opportunities for Africans which are usually unavailable in licit work. Tougher protection of animals fails to provide an alternative livelihood for these poachers.  [1] Forsyth, C. &amp; Marckese, T. ‘Thrills and skills: a sociological analysis of poaching’ pg.162  [2] Stewart, C. ‘Illegal ivory trade funds al-shabaab’s terrorist attacks’  [3] BBC, “Lions ‘facing extinction in West Africa’”' (Attempt 1/5): API error occurred: Status 429\n",
      "{\"object\":\"error\",\"message\":\"Rate limit exceeded\",\"type\":\"rate_limited\",\"param\":null,\"code\":\"1300\"}\n",
      "Retrying in 1 seconds...\n"
     ]
    },
    {
     "name": "stderr",
     "output_type": "stream",
     "text": [
      "Processing queries (generate or skip): 470it [06:38,  1.12it/s]"
     ]
    },
    {
     "name": "stdout",
     "output_type": "stream",
     "text": [
      "Error generating for query 'Reform treaties are too important to be left to politicians of the day  Decisions that affect the national sovereignty of a country should not just be left to elected politicians who have power for a limited time but should be given to the citizens through direct vote. The nature of the Lisbon Treaty changed the relationship between member states and Brussels; it is clearly a constitutional issue and therefore needs to be ratified by all citizens. The Blair Labour Government held referenda on a whole range of constitutional changes, including not only devolution in Scotland, Wales and Northern Ireland, but even on whether individual cities should have directly elected mayors' (Attempt 1/5): API error occurred: Status 429\n",
      "{\"object\":\"error\",\"message\":\"Rate limit exceeded\",\"type\":\"rate_limited\",\"param\":null,\"code\":\"1300\"}\n",
      "Retrying in 1 seconds...\n"
     ]
    },
    {
     "name": "stderr",
     "output_type": "stream",
     "text": [
      "Processing queries (generate or skip): 478it [06:46,  1.19it/s]"
     ]
    },
    {
     "name": "stdout",
     "output_type": "stream",
     "text": [
      "Error generating for query 'Deters future offences  By prosecuting those who commit crimes against humanity and war crimes future leaders are dissuaded from committing such acts [1]. When criminals are held accountable, the belief in the reliability of the legal system is enhanced, society is strengthened by the experience that the legal system is able to defend itself and the sense of justice is upheld or rectified [2].  Since the Office of the Prosecutor announced its interest in Colombia in 2006, the government has taken a number of measures particularly the Peace and Justice Law to ensure domestic prosecution of those who could potentially be tried by the ICC. The threat of ICC prosecution appears to have concerned former President Pastrana. Vincente Castrano (AUC) a paramilitary leader was fearful of the possibility of ICC prosecution, a fear that reportedly directly contributed to his group’s demobilisation[3].  [1] Safferlin, Christoph J.M., ‘Can Criminal prosecution be the answer to massive Human Rights Violations?’, issafrica.org,   [2] Grono, Nick, ‘ The Deterrent Effect of the ICC on the Commission of International Crimes by Government Leaders ’, globalpolicy.org, 5 October 2012,' (Attempt 1/5): API error occurred: Status 429\n",
      "{\"object\":\"error\",\"message\":\"Rate limit exceeded\",\"type\":\"rate_limited\",\"param\":null,\"code\":\"1300\"}\n",
      "Retrying in 1 seconds...\n"
     ]
    },
    {
     "name": "stderr",
     "output_type": "stream",
     "text": [
      "Processing queries (generate or skip): 483it [06:51,  1.14it/s]"
     ]
    },
    {
     "name": "stdout",
     "output_type": "stream",
     "text": [
      "Error generating for query 'Technology has enabled Africa’s cultural industries to grow.  Technology has enabled the development of entrepreneurial ideas for business, but also within Africa’s cultural industry. Access to video recording mobile phones, the internet, and televised publications has created a new culture of expression for African youths. Cultural industries are raising critical questions for politics, and empowering youth to tell their stories. The use of journalism has become mobilised by youths - as seen in initiatives such as, African Slum Voices, of which are encouraging youths to pro-actively raise their opinions and voices on issues occurring within their communities.  Furthermore, the music and film industry in Africa has arisen as a result of access to new technologies at a lower-cost. Two key components responsible for the growth of Nollywood (Nigeria’s Film Industry) include access to digital technology and entrepreneurship. Youths have become vital within Nollywood, as actors, producers and editors. Today Nollywood’s low-budget films have inspired the growth of regional film industries across Africa and contributed to its status as the third largest film industry. Nollywood’s revenue stand’s at around $200mn a year [1] .  [1] See further readings: ABN, 2013.' (Attempt 1/5): API error occurred: Status 429\n",
      "{\"object\":\"error\",\"message\":\"Rate limit exceeded\",\"type\":\"rate_limited\",\"param\":null,\"code\":\"1300\"}\n",
      "Retrying in 1 seconds...\n"
     ]
    },
    {
     "name": "stderr",
     "output_type": "stream",
     "text": [
      "Processing queries (generate or skip): 489it [06:57,  1.23it/s]"
     ]
    },
    {
     "name": "stdout",
     "output_type": "stream",
     "text": [
      "Error generating for query 'Technology remains insecure and a security risk.  The internet remains at risk. Cybersecurity is a key concern, and the prevalence of hacking events across Africa identifies the need to promote security for the new digital users. Cyber-crime costs the Kenyan government around Ksh.2 billion (Mutegi, 2013); and affects around 70% of South Africans. In order to encourage more users in technology their safety, against fraud, hacking, and identity theft, needs to be prioritised. Without security technology can’t help entrepreneurs as customer details, business plans etc can’t be kept private.' (Attempt 1/5): API error occurred: Status 429\n",
      "{\"object\":\"error\",\"message\":\"Rate limit exceeded\",\"type\":\"rate_limited\",\"param\":null,\"code\":\"1300\"}\n",
      "Retrying in 1 seconds...\n"
     ]
    },
    {
     "name": "stderr",
     "output_type": "stream",
     "text": [
      "Processing queries (generate or skip): 498it [07:06,  1.16it/s]"
     ]
    },
    {
     "name": "stdout",
     "output_type": "stream",
     "text": [
      "Error generating for query 'Turkey has a poor human rights record  Turkey’s human rights record is improving rapidly, with the abolition of the death penalty and the removal of restrictions on the use of the Kurdish language. \"Encouraged by the EU, Turkey has pursued legislative and constitutional reforms liberalizing the political system and relaxing restrictions on freedom of the press, association, and expression. Turkey signed and ratified Protocols 6 and 13 of the European Convention on Human Rights. It abolished the death penalty and adopted measures to promote independence of the judiciary, end torture during police interrogations, and reform the prison system. In addition, Turkey has significantly reduced the scope of its antiterrorism statutes, which had been used to curtail political expression, and it amended the Penal Code and Codes of Criminal and Administrative Procedure. Police powers have been curbed and the administration of justice strengthened, due partly to the dismantling of state security courts.\" [1]  The Kurdish minority is also enjoying better treatment. “The protection and promotion of the rights of the Kurds, which make up about a fifth of Turkey's population, have also progressed… In June, an appeals court ordered the release of Leyla Zana and three other Kurdish parliamentarians who were jailed ten years ago after the Kurdistan Workers' Party was banned.\" [2]  Surely countries with a history of bad human rights activities should be embraced by the EU, in the hope that the EU will have a positive influence on them. It is true that banning them from membership is an effective punishment but that will not enforce any change. If we wish to see compliance with Human Rights conventions we have to ensure that countries that may contravene them are under its jurisdiction in the first place. Once they are members we can then encourage better behaviour through punishing any further contraventions.  [1]  ‘Turkey’s Dreams of Accession’ by David Phillips, Foreign Affairs September/October 2004  [2]  ‘Turkey’s Dreams of Accession’ by David Phillips, Foreign Affairs September/October 2004' (Attempt 1/5): API error occurred: Status 429\n",
      "{\"object\":\"error\",\"message\":\"Rate limit exceeded\",\"type\":\"rate_limited\",\"param\":null,\"code\":\"1300\"}\n",
      "Retrying in 1 seconds...\n"
     ]
    },
    {
     "name": "stderr",
     "output_type": "stream",
     "text": [
      "Processing queries (generate or skip): 510it [07:18,  1.33it/s]"
     ]
    },
    {
     "name": "stdout",
     "output_type": "stream",
     "text": [
      "Error generating for query 'The New START treaty maintains US nuclear and missile defence.  The US’ Nuclear armament will be modernized along with New START. “The Obama administration has agreed to provide for modernization of the infrastructure essential to maintaining our nuclear arsenal. Funding these efforts has become part of the negotiations in the ratification process. The administration has put forth a 10-year plan to spend $84 billion on the Energy Department's nuclear weapons complex. Much of the credit for getting the administration to add $14 billion to the originally proposed $70 billion for modernization goes to Sen. Jon Kyl, the Arizona Republican who has been vigilant in this effort. Implementing this modernization program in a timely fashion would be important in ensuring that our nuclear arsenal is maintained appropriately over the next decade and beyond.” [1]  Both US Military and civilian leaders insist that the new START treaty will still allow the US to deploy effective missile defenses, something which Russia was opposed to, and so will not affect US missile defense plans. The main limit on missile defense is that the treaty prevents the conversion of existing launchers for this purpose this would be more expensive than building new missiles specifically for defense purposes. [2]  Furthermore, as Joe Biden argues, New START is important to Russian cooperation on missile defense: \"This [missile defense] system demonstrates America's enduring commitment to Article 5 of the Washington Treaty—that an attack on one is an attack on all. NATO missile defense also provides the opportunity for further improvements in both NATO-Russian and U.S.-Russian relations. NATO and Russia agreed at Lisbon to carry out a joint ballistic missile threat assessment, to resume theater missile-defense exercises, and to explore further cooperation on territorial missile defense—things that were nearly unimaginable two years ago. These agreements underscore the strategic importance the alliance attaches to improving its relationship with Russia. But trust and confidence in our relationship with Russia would be undermined without Senate approval of the New Start Treaty, which reduces strategic nuclear forces to levels not seen since the 1950s, and restores important verification mechanisms that ceased when the first Start Treaty expired last December.\" [3]  In many ways, in the 21st Century having an abundance of nuclear weapons, particularly having too many, is more of a liability than an advantage. The United States will be far safer with fewer nuclear weapons in the world and a stronger, more stable relationship with Russia under New START, and this is desirable. Therefore it is clear that New START maintains the important parts of US nuclear capabilities while removing the over-abundance which may become a liability due to security and medical concerns, and so New START should be supported.  [1] Kissinger, Henry A. ; Shultz, George P. ; Baker III, James A’ ; Eagleburger , Lawrence S. ; and Powell, Colin L. \"The Republican case for ratifying New START\". Washington Post. 2 December 2010.   [2] ibid  [3] Biden, Joseph. \"The case for ratifying New START\". Wall Street Journal. 25 November 2010.' (Attempt 1/5): API error occurred: Status 429\n",
      "{\"object\":\"error\",\"message\":\"Rate limit exceeded\",\"type\":\"rate_limited\",\"param\":null,\"code\":\"1300\"}\n",
      "Retrying in 1 seconds...\n"
     ]
    },
    {
     "name": "stderr",
     "output_type": "stream",
     "text": [
      "Processing queries (generate or skip): 515it [07:23,  1.12it/s]"
     ]
    },
    {
     "name": "stdout",
     "output_type": "stream",
     "text": [
      "Error generating for query 'Environmental Damage  Both licit and illicit resource extraction have caused ecological and environmental damage in Africa. The procurement of many natural resources requires processes such as mining and deforestation, which are harmful to the environment. Deforestation for access purposes, timber and cattle has led to around 3.4 million hectares of woodland being destroyed between 2000 and 2010 and, in turn, soil degradation [1] . As Africa’s rainforest are necessary for global ecological systems, this is a significant loss. Mining and transportation also create damage through pollution and the scarring of the landscape. Mining produces various harmful chemicals which contaminate water and soil, a process which is worsened by illicit groups who cut corners to ensure higher profits [2] .  [1] Food and Agriculture Organization of the United States ‘World deforestation decreases, but remains in many countries’   [2] Kolver,L. ‘Illegal mining threat to lawful operations, safety and the environment’ Mining Weekly 16 August 2013' (Attempt 1/5): API error occurred: Status 429\n",
      "{\"object\":\"error\",\"message\":\"Rate limit exceeded\",\"type\":\"rate_limited\",\"param\":null,\"code\":\"1300\"}\n",
      "Retrying in 1 seconds...\n"
     ]
    },
    {
     "name": "stderr",
     "output_type": "stream",
     "text": [
      "Processing queries (generate or skip): 520it [07:28,  1.17it/s]"
     ]
    },
    {
     "name": "stdout",
     "output_type": "stream",
     "text": [
      "Error generating for query 'Natural resources create employment  The extraction of natural resources creates the possibility of job creation which can strengthen African economies. Both domestic and foreign firms require man power for their operations, and they will often draw from the local labour force. Employment ensures a better standard of living for the workers and injects money in to the home economy leading to greater regional economic stability. In Nigeria, for example, the company Shell hires 6000 employees and contractors, with 90% being Nigerian and at higher wages than the GDP per capita [1] . This would indicate that the presence of natural resources is economically strengthening Africa.  [1] Shell Nigeria ‘Shell at a glance’ date accessed 16 December 2013' (Attempt 1/5): API error occurred: Status 429\n",
      "{\"object\":\"error\",\"message\":\"Rate limit exceeded\",\"type\":\"rate_limited\",\"param\":null,\"code\":\"1300\"}\n",
      "Retrying in 1 seconds...\n"
     ]
    },
    {
     "name": "stderr",
     "output_type": "stream",
     "text": [
      "Processing queries (generate or skip): 525it [07:33,  1.19it/s]"
     ]
    },
    {
     "name": "stdout",
     "output_type": "stream",
     "text": [
      "Error generating for query 'Social Policy for satisfied teachers  The creation of national social policies which provide secure, and stable, wages for teachers is fundamental. Social policy can make satisfied teachers. A key concern amongst teachers is finance - inadequate wages and insurance. Teacher wages is considerably lower than other formal professions - combining to enforce low morale and occupational motivation as pay is too low to sustain individuals and households (Bennell, 2004). In South Africa an average teaching salary is 19,535 ZAR in contrast to the 28,235 ZAR average granted in all jobs in South Africa (Salary Explorer, 2013).  Further, social policy is required to introduce teacher pension schemes. Pension schemes are provided for workers within the formal employment sector, by various public organisations - including the government and GEPF [1] . However, some national pension schemes are more developed than others and teachers need to be ensured the profession can provide investments for future security. An ageing population only reinforces its importance.  [1] See further readings: GEPF, 2013.' (Attempt 1/5): API error occurred: Status 429\n",
      "{\"object\":\"error\",\"message\":\"Rate limit exceeded\",\"type\":\"rate_limited\",\"param\":null,\"code\":\"1300\"}\n",
      "Retrying in 1 seconds...\n"
     ]
    },
    {
     "name": "stderr",
     "output_type": "stream",
     "text": [
      "Processing queries (generate or skip): 529it [07:37,  1.20it/s]"
     ]
    },
    {
     "name": "stdout",
     "output_type": "stream",
     "text": [
      "Error generating for query 'Teaching begins at home  For the target of universal primary education to be achieved we need to look beyond a narrow education policy. Programs are required to enable teaching at home. The benefits of education need to be accessed nationwide; which will cumulatively encourage children to go to school and participate to do their best. For example, by introducing adult training/education courses to parents and elderly populations, parents are able to assist children at home, and to recognise the benefits of gaining an education. Simply providing better teachers at school fails to recognise the importance of intra-household decisions and life. For universal education the whole population strata needs to be included; and adult courses provided on basic maths, english and science.' (Attempt 1/5): API error occurred: Status 429\n",
      "{\"object\":\"error\",\"message\":\"Rate limit exceeded\",\"type\":\"rate_limited\",\"param\":null,\"code\":\"1300\"}\n",
      "Retrying in 1 seconds...\n"
     ]
    },
    {
     "name": "stderr",
     "output_type": "stream",
     "text": [
      "Processing queries (generate or skip): 532it [07:40,  1.11it/s]"
     ]
    },
    {
     "name": "stdout",
     "output_type": "stream",
     "text": [
      "Error generating for query 'Shared sovereignty  If there are no countries willing to cede complete sovereignty over territory then some kind of shared sovereignty could be considered. “This conferred jurisdiction must include rights to become a citizen, migrate, work, access health care, and access social security.” [1] Additionally there would almost certainly need to be sovereignty over justice, law and order. However this would potentially leave large areas of sovereignty in the remit of the host nation; such as providing defense. The most notable compromise by both might be to maintain sovereignty over people rather than just territory.  There have been suggestions such as by Krasner that shared sovereignty should be considered, and become much more normal. And some forms of shared sovereignty have happened before such as foreign control over some tax revenues, or the status of forces agreements the USA had with Germany that restricted German ability to make war after WWII. [2] Or more obviously the members of the EU increasingly cede some sovereignty to the international entity. As the deal would be voluntary for both the Seychelles and its host country and both would potentially gain such a deal would seem feasible.  [1] Yu, 2013,   [2] Krasner, Stephen D., ‘The case for shared sovereignty’, Journal of Democracy, vol.16, No.1, January 2005,  , p.77' (Attempt 1/5): API error occurred: Status 429\n",
      "{\"object\":\"error\",\"message\":\"Rate limit exceeded\",\"type\":\"rate_limited\",\"param\":null,\"code\":\"1300\"}\n",
      "Retrying in 1 seconds...\n"
     ]
    },
    {
     "name": "stderr",
     "output_type": "stream",
     "text": [
      "Processing queries (generate or skip): 536it [07:44,  1.22it/s]"
     ]
    },
    {
     "name": "stdout",
     "output_type": "stream",
     "text": [
      "Error generating for query 'Other states would not want to waste resources on a refugee state  The Seychelles are not a particularly rich place. Their main industries are tourism and tuna fishing accounting for 32% of employment, [1] both of which are unfortunately entirely dependent upon the territory of the islands themselves and cannot be moved. The result is that the Seychelles have little to offer those states that might consider giving up territory. The country will therefore have difficulty rebuilding its economy and would likely be a drain upon its host making countries unwilling to take on the commitment.  [1] The World Bank, ‘Seychelles Overview’, October 2013,' (Attempt 1/5): API error occurred: Status 429\n",
      "{\"object\":\"error\",\"message\":\"Rate limit exceeded\",\"type\":\"rate_limited\",\"param\":null,\"code\":\"1300\"}\n",
      "Retrying in 1 seconds...\n"
     ]
    },
    {
     "name": "stderr",
     "output_type": "stream",
     "text": [
      "Processing queries (generate or skip): 540it [07:48,  1.14it/s]"
     ]
    },
    {
     "name": "stdout",
     "output_type": "stream",
     "text": [
      "Error generating for query 'Greater Access to Technology  Proponents of this view claim that the traditional image of ‘Dark Africa’ is becoming outdated in the light of greater access to technology. Due to poor infrastructure, mobile communications have had a transformative impact on African life. In the past decade there has been a notable increase in mobile phone ownership, with the trend set to continue. There are over 600 million mobile phone users in Africa, which is more than in North America and Europe [1] . Mobile phones allow the use of services such as agro-info and mobile banking to further their businesses. It is thought that by 2017, 30% of households will have a television in their house. Household technologies becoming more available have gone hand in hand with the development of more sophisticated farming and industrial techniques. A recent Pan-African project designed at improving legume technology and enrich low-nitrogen soils has made it possible for farmers to increase their yields and has reached 250,000 smallholder farmers so far [2] .  [1] The Economist, ‘The hopeful continent’, 2011  [2] Abuje, ‘Putting biological nitrogen fixation to work for smallholder farmers’, 2011' (Attempt 1/5): API error occurred: Status 429\n",
      "{\"object\":\"error\",\"message\":\"Rate limit exceeded\",\"type\":\"rate_limited\",\"param\":null,\"code\":\"1300\"}\n",
      "Retrying in 1 seconds...\n"
     ]
    },
    {
     "name": "stderr",
     "output_type": "stream",
     "text": [
      "Processing queries (generate or skip): 544it [07:52,  1.24it/s]"
     ]
    },
    {
     "name": "stdout",
     "output_type": "stream",
     "text": [
      "Error generating for query 'Millennium Development Goals have not yet been reached  While the majority of African governments have made efforts to reach the Millennium Development Goals (MDG), the deadlines for achieving them are fast approaching with little sign of complete success. The MDGs were established in 2000, and laid out a set of criteria which each country should aspire to in order to become developed. These development goals are essential for Africa to be able to effectively grow. The United Nations Development Programme readily recognises that the eradication of hunger, reduction of child mortality, improvement of maternal health and ensuring environmental sustainability are all off track in Africa [1] . Observing the causes of this failure, the inequality existing in Africa is blamed as a fundamental roadblock.  [1] UNDP, ‘MDG Progress Reports – Africa’, 2013' (Attempt 1/5): API error occurred: Status 429\n",
      "{\"object\":\"error\",\"message\":\"Rate limit exceeded\",\"type\":\"rate_limited\",\"param\":null,\"code\":\"1300\"}\n",
      "Retrying in 1 seconds...\n"
     ]
    },
    {
     "name": "stderr",
     "output_type": "stream",
     "text": [
      "Processing queries (generate or skip): 548it [07:56,  1.11it/s]"
     ]
    },
    {
     "name": "stdout",
     "output_type": "stream",
     "text": [
      "Error generating for query 'Cannot avoid dealing with a UNSC member  The PRC is a member of the United Nations Security Council and as such is one of the key members of the UN. It is therefore difficult for countries to avoid dealing with it. The Pacific island of Tonga’s switched recognition because it feared the PRC would veto its membership of the UN. [1] São Tomé is already a member but that does not mean the PRC can’t cause problems in the international body; it clearly has the ability to scupper any initiative São Tomé wishes to pursue. Similarly in other international institutions while the PRC does not wield as much power as it does in the UN it still has considerably more influence than Taiwan; this includes over some organisations that provide aid such as the World Bank and IMF. São Tomé therefore must deal with the PRC, this being the case it should not let recognition get in the way.  [1] Fossen, Anthony Van, ‘The Struggle for Recognition: Diplomatic Competition between China and Taiwan in Oceania’, The Journal of Chinese Political Science, Col.12, No.2, 2007,  , p.4' (Attempt 1/5): API error occurred: Status 429\n",
      "{\"object\":\"error\",\"message\":\"Rate limit exceeded\",\"type\":\"rate_limited\",\"param\":null,\"code\":\"1300\"}\n",
      "Retrying in 1 seconds...\n"
     ]
    },
    {
     "name": "stderr",
     "output_type": "stream",
     "text": [
      "Processing queries (generate or skip): 553it [08:01,  1.18it/s]"
     ]
    },
    {
     "name": "stdout",
     "output_type": "stream",
     "text": [
      "Error generating for query 'The current austerity measures are not working  The Austerity measures put in place by the ECB, IMF and European Commission have led to nothing but misery for the Greek people. They have failed to cut down the total debt % GDP ratio and have also failed to increase the competitiveness of the Greek economy. This is because raising taxes and slashing the minimum wage has sent the economy deeper and deeper into recession. Unemployment is at a record high of 21% and there is a severe shortage of credit leading to severe difficulties in companies financing their day to day projects. What’s more, the country itself is plunged into depression. Escalated (inevitably) by the local and international media, the climate is one of despair and investment is at the bottom of anyone’s priorities. This further perpetuates the cycles of recession and prevents any of the austerity measures having their desired effect. Additionally, the drastic fall in GDP every quarter means that cuts in government spending are also not having their desired effect on reducing the budget deficit % GDP ratio. Worst of all, the economic hardships have drawn many people to despair and the suicide rates in Greece have dramatically risen over the last year and access to healthcare has drastically declined. [1] In this manner, the government is failing in fulfilling its most basic duties of safeguarding the lives and wellbeing of its citizens. If the current measures are not working then a new approach is needed. A default would alleviate much of the suffering caused by austerity.  [1] Armitsead, Louise: “Why Greece should default and exit the euro” 23 February 2012, The Telegraph,' (Attempt 1/5): API error occurred: Status 429\n",
      "{\"object\":\"error\",\"message\":\"Rate limit exceeded\",\"type\":\"rate_limited\",\"param\":null,\"code\":\"1300\"}\n",
      "Retrying in 1 seconds...\n"
     ]
    },
    {
     "name": "stderr",
     "output_type": "stream",
     "text": [
      "Processing queries (generate or skip): 561it [08:09,  1.30it/s]"
     ]
    },
    {
     "name": "stdout",
     "output_type": "stream",
     "text": [
      "Error generating for query 'China can’t be ignored  Europe has a developing strategic partnership with China. China is Europe’s largest trading partner with EU exports in goods of €113.1billiion and imports of €281.9billion and in services of €20.2billion and €16.3billion respectively, [1] and as China's rapid growth continues it is playing an increasingly important part in the global economy and in international affairs. Clearly it is in the EU's interests to work together with this emerging superpower. Ma Zhaoxu a Foreign Ministry spokesman called it ‘the obstacle to the sound growth of the China-EU relationship,’ [2] after more than fifteen years, it is time to lift it. China has repeatedly said that it will never enjoy a normal trading relationship with the EU until the ban is lifted. Europe’s first responsibility is to its own citizens economic wellbeing which would benefit from greater trade ties between China and the European Union.  [1] European Commission, ‘China’, 2011   [2] Xinhua, ‘China calls for end to “prejudiced” EU arms embargo’, 2010' (Attempt 1/5): API error occurred: Status 429\n",
      "{\"object\":\"error\",\"message\":\"Rate limit exceeded\",\"type\":\"rate_limited\",\"param\":null,\"code\":\"1300\"}\n",
      "Retrying in 1 seconds...\n"
     ]
    },
    {
     "name": "stderr",
     "output_type": "stream",
     "text": [
      "Processing queries (generate or skip): 566it [08:14,  1.20it/s]"
     ]
    },
    {
     "name": "stdout",
     "output_type": "stream",
     "text": [
      "Error generating for query 'There is no reason to strengthen China militarily  Lifting the arms ban will strengthen China militarily. The US fears less the Chinese purchase of EU weaponry and armour, than that the regime will get hold of advanced communications and control systems, as well as high-technology guidance systems, night-vision equipment, etc. [1] - all of which would make its existing military far more effective. Even if the EU is reluctant to sell such material to China, the possibility will give the Chinese leverage in negotiations with existing suppliers like Israel and Russia, who will feel under more pressure to sell China their most modern technology. In time, China's ability to \"reverse engineer\" high-technology equipment will also boost their own military research and development programmes. [2]  [1] Archick, Kristin, et al., ‘European Union’s Arms Embargo on China’, 2005, p16.   [2] Page, Jeremy, ‘China Clones, Sells Russian Fighter Jets’, 2010.' (Attempt 1/5): API error occurred: Status 429\n",
      "{\"object\":\"error\",\"message\":\"Rate limit exceeded\",\"type\":\"rate_limited\",\"param\":null,\"code\":\"1300\"}\n",
      "Retrying in 1 seconds...\n"
     ]
    },
    {
     "name": "stderr",
     "output_type": "stream",
     "text": [
      "Processing queries (generate or skip): 570it [08:18,  1.18it/s]"
     ]
    },
    {
     "name": "stdout",
     "output_type": "stream",
     "text": [
      "Error generating for query 'Advancing national interests  A nation’s foreign policy should be primarily concerned with advancing the national interest. By the national interest we mean promoting the interest of the nation as a whole rather than any of its subnational groups; whether this is building up the state's military power to protect its citizens through alliances or military bases, benefiting the nation's economy through trade deals, or encouraging the creation of friendly governments around the globe. [1] Circumventing censorship helps obtain this last objective for democracies by encouraging peoples in autocracies to find their own voice and push for democracy; a system of government that is more compatible to other democracies. Ultimately this will also provide other benefits; friendly governments with similar political systems are more likely to create trade agreements with each other so providing economic benefits, in the 1990s the volume of trade between a democracy and autocracy was on average 40% less than two democracies. [2] Equally importantly democracies do not fight other democracies so helping to create stability. [3]  [1] Realism emphasises the alliances bit, Liberalism the economic self interest, and constructivists spreading values. Walt, Stephen M, “International Relations: One World, Many Theories”, Foreign Policy, Spring 1998,   [2] Mansfield, Edward D., et al., “Free to Trade: Democracies, Autocracies, and International Trade”, The American Political Science Review, Vol. 94, No. 2,  p.318  [3] Rousseau, David L., et al., “Assessing the Dayadic Nature of the Democratic Peace, 1918-88”, The American Political Science Review, Vol.90, No.3,  p.515' (Attempt 1/5): API error occurred: Status 429\n",
      "{\"object\":\"error\",\"message\":\"Rate limit exceeded\",\"type\":\"rate_limited\",\"param\":null,\"code\":\"1300\"}\n",
      "Retrying in 1 seconds...\n"
     ]
    },
    {
     "name": "stderr",
     "output_type": "stream",
     "text": [
      "Processing queries (generate or skip): 574it [08:22,  1.15it/s]"
     ]
    },
    {
     "name": "stdout",
     "output_type": "stream",
     "text": [
      "Error generating for query 'Aggressive foreign policy is not legitimate foreign policy  Foreign policy is legitimate when it is peaceful and based upon mutual respect. It is no surprise that the most controversial foreign policy actions are those that are aggressive whether this is invading another state such as the Iraq war, attempting humanitarian intervention as in Kosovo, or engaging in clandestine actions such as Iran-Contra. This is because there is a powerful norm against aggressive action in international relations in order to maintain stability.  Undermining states by circumventing censorship is simply a new method of engaging in aggressive actions against another state. NATO has accepted that cyber operations can be considered to constitute an armed conflict, [1] so it is increasingly accepted that actions on the internet can be aggressive action. Indeed “If such cyber operations are intended to coerce the government… the operation may constitute a prohibited ‘intervention’”. [2] While no one would argue that this policy will create a war it is not a very big step from considering cyber attacks to be armed conflict to considering undermining states through circumventing censorship to be an aggressive action.  [1] Bowcott, Owen, “Rules of cyberwar: don't target nuclear plants or hospitals, says Nato manual”, The Guardian, 18 March 2013,   [2] Schmitt, Michael N., ed., “The Tallinn Manual on the International Law Applicable to Cyber Warfare”, Cambridge University Press, 2013, p.17.' (Attempt 1/5): API error occurred: Status 429\n",
      "{\"object\":\"error\",\"message\":\"Rate limit exceeded\",\"type\":\"rate_limited\",\"param\":null,\"code\":\"1300\"}\n",
      "Retrying in 1 seconds...\n"
     ]
    },
    {
     "name": "stderr",
     "output_type": "stream",
     "text": [
      "Processing queries (generate or skip): 579it [08:27,  1.16it/s]"
     ]
    },
    {
     "name": "stdout",
     "output_type": "stream",
     "text": [
      "Error generating for query 'A livelihoods approach  The livelihoods approach provides a useful model to understand how poor people live [1] ; and remains important to recognising the benefits of microfinance.  The provision of microfinance reduces vulnerability to shocks and changes such as losing a job; enhances people’s access to assets that they use and need (such as finance, friend networks, and land); and this fundamentally acts to change the lives of the poor. Microfinance provides social protection through tapping into social capital. Further, microfinance means aid is not simply provided, but the individual is taught valuable financial skills and given the means to sustain themselves for their lifetime.  [1] See further readings: IFAD, 2013.' (Attempt 1/5): API error occurred: Status 429\n",
      "{\"object\":\"error\",\"message\":\"Rate limit exceeded\",\"type\":\"rate_limited\",\"param\":null,\"code\":\"1300\"}\n",
      "Retrying in 1 seconds...\n"
     ]
    },
    {
     "name": "stderr",
     "output_type": "stream",
     "text": [
      "Processing queries (generate or skip): 583it [08:31,  1.15it/s]"
     ]
    },
    {
     "name": "stdout",
     "output_type": "stream",
     "text": [
      "Error generating for query 'Debt cycles and the curse of microfinance  Microfinance is incorporating free market ideologies and subprime (lending to those who may not be able to repay) lending at a smaller scale. Unstable crises’ form as a result, and debt is intensified for the poorest - of which are given access to credit they are not able to repay. This is a problem with all lending, microfinance is no exception.  In India the pressures of microfinance repayment has become linked to suicide and early mortality (Biswas, 2010). The stress of looking for microcredit, and then how to pay it back, has created a crisis within the microfinance industry. Regulation is required on the microfinance organisation: controlling the distribution of credit and the use of threats if the individual defaults.' (Attempt 1/5): API error occurred: Status 429\n",
      "{\"object\":\"error\",\"message\":\"Rate limit exceeded\",\"type\":\"rate_limited\",\"param\":null,\"code\":\"1300\"}\n",
      "Retrying in 1 seconds...\n"
     ]
    },
    {
     "name": "stderr",
     "output_type": "stream",
     "text": [
      "Processing queries (generate or skip): 587it [08:35,  1.23it/s]"
     ]
    },
    {
     "name": "stdout",
     "output_type": "stream",
     "text": [
      "Error generating for query 'Strategic position and energy benefits  There would be immense strategic benefits both to Europe and to Turkey if she were allowed to join the European Union. Turkey is already a important regional power with a lot of influence in the Middle East and Central Asia and it is already a member of NATO, which most members of the EU are also a part of. [1] This is in part because Turkey is in an immensely strategic geographic situation as the border between Europe and Asia. Historically this has meant Turkey is ideally located for trade, today it means it is strategically close to the oil and gas fields advanced economies like the EU’s depend on.  Turkey is therefore vital for Europe’s energy security. According to the EU energy minister “Turkey comes first in these countries for cooperation” on energy issues because of its location. [2] This is because Turkey is an important transit point for Oil coming through the Bosporus from the Caspian Sea and Russia and also for gas. Turkey acts as a bridge both to the Caspian and the Gulf and creates a second option for importing gas into Europe through pipelines that Europe needs as shown by the cut offs caused by Russian disputes with Belarus and Ukraine. Having gas pipelines through Turkey to the EU, such as the Nabucco pipeline, would shatter Russia’s gas monopoly in Europe. [3]  [1] Solana, Javier, ‘Why Turkey must join the European Union’, CNN World, 13 June 2011,   [2] Kurtaran, Gökhan, ‘Turkey vital for energy, EU commissioner says’, Daily News, 10 February 2012,   [3] Tekin, Ali, and Williams, Paul A., ‘Europe’s External Energy Policy and Turkey’s Accession Process’, Center for European Studies Working Paper Series #170, 2009,' (Attempt 1/5): API error occurred: Status 429\n",
      "{\"object\":\"error\",\"message\":\"Rate limit exceeded\",\"type\":\"rate_limited\",\"param\":null,\"code\":\"1300\"}\n",
      "Retrying in 1 seconds...\n"
     ]
    },
    {
     "name": "stderr",
     "output_type": "stream",
     "text": [
      "Processing queries (generate or skip): 591it [08:39,  1.19it/s]"
     ]
    },
    {
     "name": "stdout",
     "output_type": "stream",
     "text": [
      "Error generating for query 'The fact that it is a Representative highlights the fact that the EU is based on consultation and consensus, and that is a positive thing.  While the new ‘EU High Representative for Foreign and Security Policy’ marks only a bold first step towards a more unified voice for the EU, the decisions are indeed still based on a state by state consultation mechanism – hence the name representative. This should however not to be downplayed as a less significant change in how the EU approaches its foreign policy. The consultation aspect is in fact essential to reaching agreement and the importance of not only presenting a united front to the rest of the world (the EU is exemplary in trade policy and environmental policy, but less important when it comes to presenting a united voice in foreign policy as Belgian Foreign minister Mark Eyskens put it in 1991 “Europe is an economic giant, a political dwarf, and a military worm” 1, but also creating a united front through collaboration and debate. One should thus see this not only as a means to an end, but rather as an important mechanism in itself, whereby new identities are slowly created along with a deeper sense of commitment to a common set of values.  1. Craig R Whitney, ‘WAR IN THE GULF: EUROPE; Gulf Fighting Shatters Europeans’ Fragile Unity’,' (Attempt 1/5): API error occurred: Status 429\n",
      "{\"object\":\"error\",\"message\":\"Rate limit exceeded\",\"type\":\"rate_limited\",\"param\":null,\"code\":\"1300\"}\n",
      "Retrying in 1 seconds...\n"
     ]
    },
    {
     "name": "stderr",
     "output_type": "stream",
     "text": [
      "Processing queries (generate or skip): 601it [08:49,  1.29it/s]"
     ]
    },
    {
     "name": "stdout",
     "output_type": "stream",
     "text": [
      "Error generating for query 'In context of other teachings, does not promote the spread of AIDS/HIV.  The Catholic Church does not only forbid the use of barrier contraception but also of casual sex. The issue is not that the Church is being irresponsible by banning the use of barrier contraception but that people are choosing to follow some of the Church's teachings but not others. Pope Benedict XVI argues AIDS is \"a tragedy that cannot be overcome by money alone, that cannot be overcome through the distribution of condoms, which even aggravates the problems\"1. If people followed the Church's teachings on casual sex as well as their teachings on barrier contraception, the AIDS epidemic would be dramatically decreased. Given, therefore, that it also forbids any sex outside of marriage, the Catholic Church is totally justified in forbidding barrier methods of contraception2. 1 Wynne-Jones, Jonathan. \"The Pope drops Catholic ban on condoms in historic shift.\" The Telegraph, 20 November 2010, 2 Pope John Paul II. \"Evangelium Vitae.\" 1995.' (Attempt 1/5): API error occurred: Status 429\n",
      "{\"object\":\"error\",\"message\":\"Rate limit exceeded\",\"type\":\"rate_limited\",\"param\":null,\"code\":\"1300\"}\n",
      "Retrying in 1 seconds...\n"
     ]
    },
    {
     "name": "stderr",
     "output_type": "stream",
     "text": [
      "Processing queries (generate or skip): 607it [08:55,  1.15it/s]"
     ]
    },
    {
     "name": "stdout",
     "output_type": "stream",
     "text": [
      "Error generating for query 'Opposed by much of the Church  In spite of the Catholic Church's ruling, a huge number of people who identify as Catholic do not adhere to the Church's teachings on contraception. Additionally, many Catholic priests and nuns openly support non-abortive forms of contraception, including barrier contraception. In 2003 a poll found 43% of catholic priests in England and wales were against the church's stance and a further 19% were unsure1. The Church should listen to the requests and opinions of those who are part of it 2. 1 Day, Elizabeth. \"Most Catholic priests 'do not support Rome over contraception'.\" The Telegraph, 6 April 2003, 2 Short, Claire. \"HIV/AIDS' (Attempt 1/5): API error occurred: Status 429\n",
      "{\"object\":\"error\",\"message\":\"Rate limit exceeded\",\"type\":\"rate_limited\",\"param\":null,\"code\":\"1300\"}\n",
      "Retrying in 1 seconds...\n"
     ]
    },
    {
     "name": "stderr",
     "output_type": "stream",
     "text": [
      "Processing queries (generate or skip): 612it [09:00,  1.19it/s]"
     ]
    },
    {
     "name": "stdout",
     "output_type": "stream",
     "text": [
      "Error generating for query 'It is impossible to acquire the information necessary to create a coherent economy  A planned economy requires that the planners have the information necessary to allocate resources in the right way. This is a virtually impossible task.  The world contains trillions of different resources: my labour, iron ore, Hong Kong harbour, pine trees, satellites, car factories – etc. The number of different ways to use, combine and recombine these resources is unimaginably vast.  And almost all of them are useless. For example, it would be a mistake to combine Arnold Schwarzenegger with medical equipment and have him perform brain surgery.  Centralised planning cannot possibly sort through the myriad of way of arranging resources to arrive at the most efficient usage. Only a decentralised price system can achieve this via the institution of private property and associated duties and rights. [1]  [1] Boudreaux, Donald J, ‘Information and Prices’.' (Attempt 1/5): API error occurred: Status 429\n",
      "{\"object\":\"error\",\"message\":\"Rate limit exceeded\",\"type\":\"rate_limited\",\"param\":null,\"code\":\"1300\"}\n",
      "Retrying in 1 seconds...\n"
     ]
    },
    {
     "name": "stderr",
     "output_type": "stream",
     "text": [
      "Processing queries (generate or skip): 618it [09:06,  1.20it/s]"
     ]
    },
    {
     "name": "stdout",
     "output_type": "stream",
     "text": [
      "Error generating for query 'The decision to die is a deeply personal one - it is no business of the state.  Ultimately, the decision to die is a personal one, it may affect others but, clearly it has the greatest impact on the person who decides to die.  Clearly those who remain behind will have to deal with the consequences of that death and the end of their relationship with that person but, one would hope, that would be the case if she had died of natural causes at a later date. Furthermore the experience of watching someone die can by as traumatic, or more so, for the carer or loved one than it is for the individual concerned.  What it clearly is not, is an issue for legislators and other strangers who have no connection to the person involved. There are deeply personal issues such as love, death, sex, and reproduction where we accept the state may have a role in the formal sense of preventing their abuse but otherwise should not have an opinion either way. With the right to die the state has maintained not only an opinion but a criminal sanction. This is a clear example of where the role of the state is to respect the individual and step back; legislation is far too cumbersome a tool with be used in circumstances as varied and complex as these.  Dealing with the loss of a loved one, particularly in a situation such as assisted suicide, is painful and traumatic enough for all concerned without adding to that the additional stress of a threat of criminal sanction.' (Attempt 1/5): API error occurred: Status 429\n",
      "{\"object\":\"error\",\"message\":\"Rate limit exceeded\",\"type\":\"rate_limited\",\"param\":null,\"code\":\"1300\"}\n",
      "Retrying in 1 seconds...\n"
     ]
    },
    {
     "name": "stderr",
     "output_type": "stream",
     "text": [
      "Processing queries (generate or skip): 621it [09:09,  1.09it/s]"
     ]
    },
    {
     "name": "stdout",
     "output_type": "stream",
     "text": [
      "Error generating for query 'There is a risk that even a free choice may have some coercion involved.  By far the biggest worry is that a right to die will create a silent form of coercion that cannot be detected. In the West’s increasingly elderly society the role of older people in that society, their value and their continuing contribution is all too likely to be masked by the issue of the cost placed on those of working age. Even where older people do not face pressure from their families, society needs to be aware of this wider narrative. Such a narrative will slowly create a norm where the elderly feel that they are a burden and it is expected that they will exercise their right to die. The ‘choice’ will remain and they will even think it a choice free of coercion but will exercise their right not because they really want to die but because they feel it is what they ought to do, once the right to die is completely normalised those exercising it may not even consider that what they are doing is not really of their free will. Perceiving oneself as a burden is already a common cause of suicide [i] and would certainly increase if it were to no longer be considered taboo. Not having a right to die will not stop arguments about the burden placed on the working members of society by the elderly but it will stop this going any further towards the creation of a culture where individuals consider it normal that they should die when they feel they are a burden.  [i] Joiner, Thomas E. et al., ‘The Psychology and Neurobiology of Suicidal Behaviour’, Annual Review of Psychology, 10 September 2004, p.304 .' (Attempt 1/5): API error occurred: Status 429\n",
      "{\"object\":\"error\",\"message\":\"Rate limit exceeded\",\"type\":\"rate_limited\",\"param\":null,\"code\":\"1300\"}\n",
      "Retrying in 1 seconds...\n"
     ]
    },
    {
     "name": "stderr",
     "output_type": "stream",
     "text": [
      "Processing queries (generate or skip): 627it [09:15,  1.26it/s]"
     ]
    },
    {
     "name": "stdout",
     "output_type": "stream",
     "text": [
      "Error generating for query 'Some groups of people have less capacity for suffering than most animals  It is possible to conceive of human persons almost totally lacking in a capacity for suffering, or indeed a capacity to develop and possess interests. Take for example a person in a persistent vegetative state, or a person born with the most severe of cognitive impairments.  We can take three possible stances toward such persons within this debate. Firstly we could experiment on animals, but not such persons. This would be a morally inconsistent and specieist stance to adopt, and as such unsatisfactory. We could be morally consistent, and experiment on both animals and such persons. Common morality suggests that it would be abhorrent to conduct potentially painful medical research on the severely disabled, and so this stance seems equally unsatisfactory. Finally we could maintain moral consistency and avoid experimenting on the disabled, by adopting the stance of experimenting on neither group, thus prohibiting experimentation upon animals. [1]  [1] Fox, M. A., “The Moral Community”, in La Follette (ed.), Ethics in Practice, (Malden, Mass; Oxford : Blackwell Pub, 2007)' (Attempt 1/5): API error occurred: Status 429\n",
      "{\"object\":\"error\",\"message\":\"Rate limit exceeded\",\"type\":\"rate_limited\",\"param\":null,\"code\":\"1300\"}\n",
      "Retrying in 1 seconds...\n"
     ]
    },
    {
     "name": "stderr",
     "output_type": "stream",
     "text": [
      "Processing queries (generate or skip): 630it [09:18,  1.18it/s]"
     ]
    },
    {
     "name": "stdout",
     "output_type": "stream",
     "text": [
      "Error generating for query 'Animal research is only used where other research methods are not suitable  Developed countries, including the US and all members of the EU (since EU Directive 2010/63/EU) have created laws and professional regulations that prevent scientists from using animals for research if other, non-animal research methods would produce equally clear and detailed results.  The principle described above is also enshrined in the \"3Rs\" doctrine, which states that researchers and their employers have a duty to identify ways to refine experiments conducted on animals, so that yield better results and cause less suffering; replace animals used in research the non-animal alternatives where possible; and reduce the number of animals used in research. Not only does the 3Rs doctrine represent a practical way to reconcile the necessity of animal research with the universal human desire not to cause suffering, it also drives scientists to increase the overall quality of the research that they conduct. Governments and academic institutions take the 3Rs doctrine very seriously. In EU countries scientists are required to show that they have considered other methods of research before being granted a license for an animal experiment.  There are a huge number of ways of learning about our physiology and the pathologies which affect it, including to computer models, cell cultures, animal models, human microdosing and population studies. These methods are used to complement one another, for example animal models may well produce data that creates a computer model. Nonetheless, there is some research which cannot be done any other way. It is difficult to understand the interaction of specific sets of genes without being able to change only these genes – something possible through genetically modified animals.  Finally, as noted above, given the high cost of conducting animal research relative to other methods, there is a financial incentive for institutions to adopt non-animal methods where they produce as useful and accurate results.' (Attempt 1/5): API error occurred: Status 429\n",
      "{\"object\":\"error\",\"message\":\"Rate limit exceeded\",\"type\":\"rate_limited\",\"param\":null,\"code\":\"1300\"}\n",
      "Retrying in 1 seconds...\n"
     ]
    },
    {
     "name": "stderr",
     "output_type": "stream",
     "text": [
      "Processing queries (generate or skip): 634it [09:22,  1.19it/s]"
     ]
    },
    {
     "name": "stdout",
     "output_type": "stream",
     "text": [
      "Error generating for query 'As humans we try to save as many people as possible  There exists a basic right to life which, as humans, we try to follow. Killing others is outlawed because we generally believe that every person has the right to live their life and no one else has the right to take that life away. In the situation with the train there are two possible outcomes which both lead to life being cut short. Due to the fact that we place such value on life we have a duty to reduce the number of people who die. One ought to commit the act that results in the fewest deaths, and this is to kill the one and save the five.' (Attempt 1/5): API error occurred: Status 429\n",
      "{\"object\":\"error\",\"message\":\"Rate limit exceeded\",\"type\":\"rate_limited\",\"param\":null,\"code\":\"1300\"}\n",
      "Retrying in 1 seconds...\n"
     ]
    },
    {
     "name": "stderr",
     "output_type": "stream",
     "text": [
      "Processing queries (generate or skip): 638it [09:26,  1.15it/s]"
     ]
    },
    {
     "name": "stdout",
     "output_type": "stream",
     "text": [
      "Error generating for query 'We do not want a society in which killing can be acceptable  As soon as we agree that there are situations where killing is acceptable we have reason to fear for our own safety. By accepting killing in certain situations society as a whole becomes more open to the idea. It then becomes hard to draw the line as to where killing is acceptable and where killing is unacceptable. It is much better to outlaw all instances of killing so that we have a general moral standard to follow in all situations.' (Attempt 1/5): API error occurred: Status 429\n",
      "{\"object\":\"error\",\"message\":\"Rate limit exceeded\",\"type\":\"rate_limited\",\"param\":null,\"code\":\"1300\"}\n",
      "Retrying in 1 seconds...\n"
     ]
    },
    {
     "name": "stderr",
     "output_type": "stream",
     "text": [
      "Processing queries (generate or skip): 642it [09:30,  1.20it/s]"
     ]
    },
    {
     "name": "stdout",
     "output_type": "stream",
     "text": [
      "Error generating for query 'The apparent loss of liberty is overstated.  Negative cases of security abuse are few and have been greatly exaggerated by an emphatic civil rights lobby that has no empathy for the victims of terrorism. Of course, with any wide-scale attempt to fight terrorism there are bound to be a few cases of abuse of security measures. For example in the UK terrorism suspects were originally detained without charge under the Anti-Terrorism, Crime and Security Act however the detention was declared unlawful by the law lords in 2005 so the government introduced new scaled back policies such as ‘control orders’. [1] Therefore government has always been willing to scale back its security legislation when the courts believe it goes too far. Nonetheless it is not a good idea to shut down all security measures under a pretext that they violate rights [2] . The majority of the measures are intended to safeguard those civil liberties instead of abusing them.  [1] Hewitt, Steve, THE BRITISH WAR ON TERROR TIMELINE, Libertas, 2007,  , accessed 9 September 2011  [2] Stratton, Allegra and Wintour, Patrick, ‘Nick Clegg goes to war with Labour over civil liberties’, guardian.co.uk, 13 April 2010,  , accessed 9 September 2011' (Attempt 1/5): API error occurred: Status 429\n",
      "{\"object\":\"error\",\"message\":\"Rate limit exceeded\",\"type\":\"rate_limited\",\"param\":null,\"code\":\"1300\"}\n",
      "Retrying in 1 seconds...\n"
     ]
    },
    {
     "name": "stderr",
     "output_type": "stream",
     "text": [
      "Processing queries (generate or skip): 657it [09:45,  1.44it/s]"
     ]
    },
    {
     "name": "stdout",
     "output_type": "stream",
     "text": [
      "Error generating for query 'Affirmative action will not work  The underlying issue which affirmative action tries to gloss over is the embedded social problems which put the poor and ethnic monitories in continual disadvantages generation after generation. This policy merely papers over the cracks by masking the fact that the failures of state-funded schooling and attempts at integration have led to a situation in which ethnic minorities and the poor are so vastly underrepresented in universities. The state should do more to address these underlying problems, rather than covering up its failures with a tokenistic policy. Better funding of state schools, real parental choice in education, and accountability through the publication of comparable examination data would all drive up standards and allow more underprivileged children to fulfil their potential. [1] [2]  [1] Gryphon, M. “The Affirmative Action Myth”. Cato Institute Policy Analysis. No 540. April 13, 2005.   [2] Rosado, C. “Affirmative Action: A Time for Change?” March 3, 1997.' (Attempt 1/5): API error occurred: Status 429\n",
      "{\"object\":\"error\",\"message\":\"Rate limit exceeded\",\"type\":\"rate_limited\",\"param\":null,\"code\":\"1300\"}\n",
      "Retrying in 1 seconds...\n"
     ]
    },
    {
     "name": "stderr",
     "output_type": "stream",
     "text": [
      "Processing queries (generate or skip): 661it [09:49,  1.15it/s]"
     ]
    },
    {
     "name": "stdout",
     "output_type": "stream",
     "text": [
      "Error generating for query 'Neo-functionalism explains the cause of integration  Spill-over is the following concept – in order to enjoy the full benefits of integration of the first sector you need to integrate the related sectors. An example of this is the ECSC (European Coal and Steel Community) evolving into other energy sectors and forming Euratom. There are three types of spill-over – functional spill-over, political spill-over and cultivated spill-over. Firstly, functional spill-over, which regards spill-over in an economic context. For example, this might involve integrating coal and steel, then integrating transport systems so that coal and steel are moved around more easily. Secondly, there is Political spill-over, where political actors shift their allegiance to a new centre, for example from the national parliament to Brussels. Thirdly, there is cultivated spill-over, which is the idea that institutions drive further integration by being in practice; for example the European Commission’s growing autonomy. [1]  [1] Tranholm-Mikkelsen, Jeppe \"Neo-functionalism: Obstinate or Obsolete? A Reappraisal in the Light of the New Dynamism of the EC Millennium - Journal of International Studies, Vol. 20, No. 1, pp.1-22,' (Attempt 1/5): API error occurred: Status 429\n",
      "{\"object\":\"error\",\"message\":\"Rate limit exceeded\",\"type\":\"rate_limited\",\"param\":null,\"code\":\"1300\"}\n",
      "Retrying in 1 seconds...\n"
     ]
    },
    {
     "name": "stderr",
     "output_type": "stream",
     "text": [
      "Processing queries (generate or skip): 666it [09:54,  1.13it/s]"
     ]
    },
    {
     "name": "stdout",
     "output_type": "stream",
     "text": [
      "Error generating for query 'The Empty Chair Crisis 1965  In 1965 during the Empty Chair Crisis brought integration came to a halt and shifted the institutional balance of power away from the commission to the Council of Ministers, it shows that spillover will not always occur. [1] It was caused by President de Gaulle of France being in conflict with other member states, specifically Germany and Italy. France wanted a deal on the Common Agricultural Policy but was unwilling to agree to further integration through creating majority voting in the Council of Ministers. When France took on the Presidency the normal system of mediation was lost. Bonn and Rome were unwilling to give way. [2] De Gaulle pulled his ministers out of the Council of Ministers thus reasserting the power of national governments. This showed that states would not automatically be prepared to give up their national sovereignty and might of helped lead to the abandonment of Neo-functionalism in the 1970s.  [1] Moga, Teodor Lucian, ‘The Contribution of the Neofunctionalist and Intergovernmentalist Theories to the Evolution of the European Integration Process’, Journal of Alternative Perspectives in the Social Sciences, Vol. 1, No. 3, 2009 pp.796-807,  , p.799  [2] Ludlow, N. Piers, ‘De-commissioning the Empty Chair Crisis : the Community institutions and the crisis of 1965-6’, LSE Research Online, 2007,' (Attempt 1/5): API error occurred: Status 429\n",
      "{\"object\":\"error\",\"message\":\"Rate limit exceeded\",\"type\":\"rate_limited\",\"param\":null,\"code\":\"1300\"}\n",
      "Retrying in 1 seconds...\n"
     ]
    },
    {
     "name": "stderr",
     "output_type": "stream",
     "text": [
      "Processing queries (generate or skip): 671it [09:59,  1.22it/s]"
     ]
    },
    {
     "name": "stdout",
     "output_type": "stream",
     "text": [
      "Error generating for query 'Judges are better at delivering justice than juries are.  Juries are not technically trained in evaluating evidence.1 Additionally, judges are trained to recognize and suppress their own prejudices, evaluate information given to them, recognize prosecutorial strategy etc., better allowing them to make objective decisions. Furthermore, some studies suggest that juries actually work against the innocent; a 1979 study found that \"more than 5 per cent of defendants found guilty by juries were considered by professionals to have been convicted in questionable circumstances.\"2This is hardly surprising given that jurors are ordinary citizens who are forced to sit through what are often dull and protracted trials, and who may have little interest in actually listening to what is being said (Joanne Frail, a juror convicted for contempt of court stated that she 'drew more than she wrote [during the trial]').3 Perhaps we should trust in the expertise of screened and trained justices instead.  1Sir Louis Blum Cooper QC, \"A Judge Can Do the Work of 12 Amateurs, and Better  2Baldwin and McConville, \"Jury Trials\"  3BBC, \"Juror Admits Contempt of Court Over Facebook Case\"' (Attempt 1/5): API error occurred: Status 429\n",
      "{\"object\":\"error\",\"message\":\"Rate limit exceeded\",\"type\":\"rate_limited\",\"param\":null,\"code\":\"1300\"}\n",
      "Retrying in 1 seconds...\n"
     ]
    },
    {
     "name": "stderr",
     "output_type": "stream",
     "text": [
      "Processing queries (generate or skip): 675it [10:03,  1.21it/s]"
     ]
    },
    {
     "name": "stdout",
     "output_type": "stream",
     "text": [
      "Error generating for query 'Trial by jury is a fundamental right and should never be abridged.  Trial by jury is an essential check on abuse in the court system for three main reasons. First, it prevents governmental oppression by ensuring that non-state actors determine guilt 1. It is dangerous to allow the government—the same body which makes and enforces the laws—to also decide who is guilty of breaking the laws. Second, it checks against corrupt judges and prosecutors2. Judges are only human, and are susceptible to the same weaknesses, like prejudice and corruption, as the rest of us. Consequently, it is very dangerous to put the future of defendants in their hands. A representative group of jurors, approved by both sides, is far less likely to reach an unjust decision, since they are generally required to reach unanimous decisions to convict, and it is unlikely that an entire jury will be made up of biased, corrupt, or negligent people. Third, trial by jury allows for community input in the justice system (see Opp Argument 4 and response to Prop Argument 3 for more explanation). Thus trial by jury is essential to ensuring that innocent individuals are fairly treated, and is a fundamental right which ought never be denied. As Chairman of the Criminal Bar Association Paul Mendelle QC said, \"Some principles of justice are beyond price. Trial by your peers is one of them.\"3  1.Robert P. Connolly, \"The Petty Offence Exception and Right to a Jury Trial\"  2.Robert P. Connolly, \"The Petty Offence Exception and Right to a Jury Trial\"  3.Clive Coleman, “Debating non-jury criminal trial”' (Attempt 1/5): API error occurred: Status 429\n",
      "{\"object\":\"error\",\"message\":\"Rate limit exceeded\",\"type\":\"rate_limited\",\"param\":null,\"code\":\"1300\"}\n",
      "Retrying in 1 seconds...\n"
     ]
    },
    {
     "name": "stderr",
     "output_type": "stream",
     "text": [
      "Processing queries (generate or skip): 683it [10:11,  1.19it/s]"
     ]
    },
    {
     "name": "stdout",
     "output_type": "stream",
     "text": [
      "Error generating for query 'Corrupt states  States or institutions created in concession to terror are often corrupt, dominated by men of violence with links to organised crime. Nothing is achieved to improve the lives of the people in whose name terror has been used. Terrorist organisations have often a military and violent character. The sort of people who attracted to committing acts of terror often glorify illegitimate acts of violence and justify the possible harm done to civilians by proving their complicity or the outcome of the actions. More precisely, they have only the interest of their ideology or the minority they are supporting. When these people are put in a position of power, they are likely to follow the same lines as before, especially when they do not have a political background. They are likely to be ignorant of how political processes work, and will appoint people that have the ideology in other powerful positions. This will make the whole political system inefficient and biased towards a minority or a fringe interest. As a result, level of corruption could rise, and in extreme cases people with other opinions can be persecuted. Iran went from a Westernizing state to an Islamic one, and is now hostile to dissidents. [1]  [1] BBC News. (2012). Iran Profile, Retrieved 17 February 2012 from BBC News:' (Attempt 1/5): API error occurred: Status 429\n",
      "{\"object\":\"error\",\"message\":\"Rate limit exceeded\",\"type\":\"rate_limited\",\"param\":null,\"code\":\"1300\"}\n",
      "Retrying in 1 seconds...\n"
     ]
    },
    {
     "name": "stderr",
     "output_type": "stream",
     "text": [
      "Processing queries (generate or skip): 687it [10:15,  1.18it/s]"
     ]
    },
    {
     "name": "stdout",
     "output_type": "stream",
     "text": [
      "Error generating for query 'Encourages a culture of respect for human rights  Capital punishment is, in general seen as a significant human rights violation by the international community - not only most liberal democracies, but much of international civil society.  Abolition will help lead to the development of a culture of human rights and the rule of law by acting as a benchmark of progress, and a symbol of a commitment to these principles. It is notable that Guinea Bissau is the only abolitionist nation in the bottom ten countries in Africa for the rule of law – according to the Ibrahim Index of African Governance’s safety and rule of law category, compared to six abolitionist countries in the top ten [1] .  [1] Mo Ibrahim Foundation, “Ibrahim Index of African Governance”, Mo Ibrahim Foundation, 2013,' (Attempt 1/5): API error occurred: Status 429\n",
      "{\"object\":\"error\",\"message\":\"Rate limit exceeded\",\"type\":\"rate_limited\",\"param\":null,\"code\":\"1300\"}\n",
      "Retrying in 1 seconds...\n"
     ]
    },
    {
     "name": "stderr",
     "output_type": "stream",
     "text": [
      "Processing queries (generate or skip): 692it [10:20,  1.17it/s]"
     ]
    },
    {
     "name": "stdout",
     "output_type": "stream",
     "text": [
      "Error generating for query '“Benefits” of capital punishment apply universally  The same arguments about capital punishment apply in Africa - deterrence value, potential cost savings, and principles of justice. [1] This could be more acute, with growing issues of international crime, such as drugs, growing in Africa [2] .  Africa has had many issues of conflict and crimes against humanity – these are the kind of crimes that many who are less enthusiastic about capital punishment would still support it for.  [1] See “This House Supports the Death Penalty” -   [2] See Cockayne, James, “Africa and the War on Drugs: the West African cocaine trade is not just business as usual”, African Arguments, 2012,' (Attempt 1/5): API error occurred: Status 429\n",
      "{\"object\":\"error\",\"message\":\"Rate limit exceeded\",\"type\":\"rate_limited\",\"param\":null,\"code\":\"1300\"}\n",
      "Retrying in 1 seconds...\n"
     ]
    },
    {
     "name": "stderr",
     "output_type": "stream",
     "text": [
      "Processing queries (generate or skip): 701it [10:29,  1.21it/s]"
     ]
    },
    {
     "name": "stdout",
     "output_type": "stream",
     "text": [
      "Error generating for query 'Suicide is a waste of life  Suicide is a waste of life. It is an immoral act that ignores the sacrosanct nature of human life – something that is universally considered to be the case as shown by being something nearly all religions consider to be the case. [1] Failure to criminalize such a flagrant violation of the sanctity of human life condemns any society as irreligious and immoral. Nowadays we hear everyone talking about human rights; we hear precious little about human obligations. If we believe in the moral worth of human rights we do so because we think that human life is a wonderful thing and something with which we should not interfere. Whether the interference is by others or by ourselves, any action that denigrates human life is morally wrong for precisely the reason that we support human rights. We have an obligation to preserve all life, including our own.  [1] Perrett, Roy Wo., ‘Buddhism, euthanasia and the sanctity of life’, Journal of Medical Ethics, Vol. 22, No. 5, October 1996,' (Attempt 1/5): API error occurred: Status 429\n",
      "{\"object\":\"error\",\"message\":\"Rate limit exceeded\",\"type\":\"rate_limited\",\"param\":null,\"code\":\"1300\"}\n",
      "Retrying in 1 seconds...\n"
     ]
    },
    {
     "name": "stderr",
     "output_type": "stream",
     "text": [
      "Processing queries (generate or skip): 705it [10:33,  1.19it/s]"
     ]
    },
    {
     "name": "stdout",
     "output_type": "stream",
     "text": [
      "Error generating for query 'We are all dying  Death is an inevitable fact of life. We will all die. Suicide is therefore not a matter of choosing between life and death per se, but of choosing the time and manner of death one wishes. We would all prefer a painless death over a slow and agonising one, and it is better to be able to prepare oneself and if possible anyone else who will be affected, so why should the difference between the two be a matter of luck and not one of choice?' (Attempt 1/5): API error occurred: Status 429\n",
      "{\"object\":\"error\",\"message\":\"Rate limit exceeded\",\"type\":\"rate_limited\",\"param\":null,\"code\":\"1300\"}\n",
      "Retrying in 1 seconds...\n"
     ]
    },
    {
     "name": "stderr",
     "output_type": "stream",
     "text": [
      "Processing queries (generate or skip): 709it [10:37,  1.11it/s]"
     ]
    },
    {
     "name": "stdout",
     "output_type": "stream",
     "text": [
      "Error generating for query 'Interferes with a democratic mandate  Unlike many of the other ICC defendants, Uhuru Kenyatta and William Ruto have a democratic mandate from elections that “represented the will of the voters” [1] – electoral mandates given to them after their indictment by the International Criminal Court.  This must be respected by the ICC and the international community as a whole: even though they are suspected of crimes against humanity by a foreign court.  [1] European Union Election Observation Mission To Kenya, General Elections 2013 :Final Report,' (Attempt 1/5): API error occurred: Status 429\n",
      "{\"object\":\"error\",\"message\":\"Rate limit exceeded\",\"type\":\"rate_limited\",\"param\":null,\"code\":\"1300\"}\n",
      "Retrying in 1 seconds...\n"
     ]
    },
    {
     "name": "stderr",
     "output_type": "stream",
     "text": [
      "Processing queries (generate or skip): 714it [10:42,  1.17it/s]"
     ]
    },
    {
     "name": "stdout",
     "output_type": "stream",
     "text": [
      "Error generating for query 'Coca production can be justified on cultural grounds  Coca chewing is hugely prevalent amongst the peoples of the Andes, and their social relationship with it is akin to that of ours with coffee in Western nations. This is why so many nations in this region cannot and simply will not ever conform to any international ban that calls for phasing it out. The custom of chewing coca leaves may date back as far as 3000 BC in the region, and so hugely pre-dates cocaine consumption, and thus shouldn't be bundled with it or banned on the grounds that cocaine is banned. [1] Coca has also been a vital part of the religious traditions of the Andean peoples from the pre-Inca period through to the present, being used 'to communicate with the supernatural world and obtain its protection, especially with offerings to the Pachamama, the personification and spiritual form of the earth.' [2] All South American countries have signed several declarations by the Union of South American Nations (UNASUR) that acknowledged that the chewing of coca leaves is an ancestral cultural expression that should be respected by the international community. [3] The international discouragement of the practice of chewing coca leaves and the prohibition on its use by Andeans when they travel or reside abroad can thus be seen as a violation of their indigenous religious and traditional rights, and therefore is not acceptable on a moral level.  [1] Morales, Evo. “Let Me Chew My Coca Leaves”. New York Times. March 13, 2009.   [2] Transnational Institute Debate Papers. “Coca yes, cocaine, no?”. Transnational Institute. No. 2006/2. No. 13. May 2006.   [3] Jelsma, Martin. “Lifting the Ban on Coca Chewing”. Transnational Institute, Series on Legislative Reform of Drug Policies Nr. 11. March 2011.' (Attempt 1/5): API error occurred: Status 429\n",
      "{\"object\":\"error\",\"message\":\"Rate limit exceeded\",\"type\":\"rate_limited\",\"param\":null,\"code\":\"1300\"}\n",
      "Retrying in 1 seconds...\n"
     ]
    },
    {
     "name": "stderr",
     "output_type": "stream",
     "text": [
      "Processing queries (generate or skip): 718it [10:46,  1.18it/s]"
     ]
    },
    {
     "name": "stdout",
     "output_type": "stream",
     "text": [
      "Error generating for query 'Coca chewing is harmful and should be proscribed  The original decision to ban coca chewing was based on evidence that this was indeed harmful to human health. A 1950 report elaborated by the UN Commission of Inquiry on the Coca Leaf with a mandate from ECOSOC states that: \"We believe that the daily, inveterate use of coca leaves by chewing ... is thoroughly noxious and therefore detrimental.\" [1] Therefore the risk of health harms should not be dismissed or undermined. Coca is also different to caffeine and other similar products in in its capacity to be diverted to highly potent, dangerous, and damaging use in cocaine. Therefore it has unique health considerations which make its prohibition acceptable.  [1] Jelsma, Martin. “Lifting the Ban on Coca Chewing”. Transnational Institute, Series on Legislative Reform of Drug Policies Nr. 11. March 2011.' (Attempt 1/5): API error occurred: Status 429\n",
      "{\"object\":\"error\",\"message\":\"Rate limit exceeded\",\"type\":\"rate_limited\",\"param\":null,\"code\":\"1300\"}\n",
      "Retrying in 1 seconds...\n"
     ]
    },
    {
     "name": "stderr",
     "output_type": "stream",
     "text": [
      "Processing queries (generate or skip): 722it [10:50,  1.19it/s]"
     ]
    },
    {
     "name": "stdout",
     "output_type": "stream",
     "text": [
      "Error generating for query 'The current system is unfairly weighted in favour of criminals.  It is unfair that those who repeatedly re-offend should be treated in the same manner as those who have committed one offence; a singular offence could mark a mistake or accident in the defendant’s choices, but repeated criminal acts mark a habit and a lack of regret for past crimes. Failing to take past convictions into account can lead to many dangerous offenders being underestimated by the jury, and so released. This is particularly pertinent in cases of child molestation, where child molesters have a particularly high rate of re-offending – expected to be even ‘larger than the reported 50 per cent’ - but ‘only a small proportion of sexual offences against children result in a conviction’. This conviction rate, however, does rise for ‘those with a history of prior sexual offences’ [1] .  Under the current conditions, this system is unfairly weighted against the innocent victims of repeated crime. A higher conviction rate, informed by the knowledge of previous offences, helps to reach justice for these victims and their families, as well as promoting justice and the safety of the general public who find it frustrating that so many dangerous offenders are released without appropriate conviction [2] . Moreover, jurors themselves lose confidence in the justice system when they find out that they have just acquitted a defendant who has committed a similar crime before. One notable example of this was series of trials of Kirk Reid, who committed many sexual assaults against women including several instances of rape and who was ‘wrongfully acquitted’ of his first offence in 1996. Not only did his victim lose all sense of hope in the justice system – she had faced her attacked and been discredited – but one of the jurors at the trial who believed that he was guilty went on to criticise the justice system itself [3] . The current system seriously risks acquitting criminals who have already committed similar crimes; it is time to rebalance the justice system to acknowledge the needs of the victims who suffer through wrongful acquittal of their attackers.  [1] Victims of Violence, ‘Research – Protecting Children from Sexual Abuse’, 28 February 2011  [2] Hughes, David, ‘Sex offenders to lose right to get out of jail early’, The Daily Mail  [3] Lette, Kathy, ‘For sexual assault, justice is on trial’, The Guardian, 1 July 2010' (Attempt 1/5): API error occurred: Status 429\n",
      "{\"object\":\"error\",\"message\":\"Rate limit exceeded\",\"type\":\"rate_limited\",\"param\":null,\"code\":\"1300\"}\n",
      "Retrying in 1 seconds...\n"
     ]
    },
    {
     "name": "stderr",
     "output_type": "stream",
     "text": [
      "Processing queries (generate or skip): 726it [10:54,  1.22it/s]"
     ]
    },
    {
     "name": "stdout",
     "output_type": "stream",
     "text": [
      "Error generating for query 'Allowing this motion would lead to a miscarriage of justice.  This motion removes the incentive for police to conduct vigorous investigations. Given the increasing pressure on policemen and women to gain convictions [1] , this motion will mean that their best chance of obtaining those convictions is simply to accuse those whose backgrounds could feasibly lead a jury to believe that they are not only capable of crime, but have committed the crime in question. Subsequently, the real culprits may be left to go free as suspicion is routinely pointed towards those who already have a criminal record. Given that poor police investigation [2] and poor case preparation by the prosecution [3] are currently a large source of dissatisfaction with the justice system, it is important to prevent either police or the prosecution from becoming dependent on the negative records of the defendants rather than properly fulfilling their roles.  [1] Bushywood, ‘CPS - Crown Persecution Service’.  [2] The Guardian, ‘The cost of poor policing’. 11 October 2010  [3] Human Rights Watch, ‘Justice at Risk: War Crimes Trials in Croatia, Bosnia and Herzegovina, and Serbia and Montenegro’, 14 October 2004, D1607.' (Attempt 1/5): API error occurred: Status 429\n",
      "{\"object\":\"error\",\"message\":\"Rate limit exceeded\",\"type\":\"rate_limited\",\"param\":null,\"code\":\"1300\"}\n",
      "Retrying in 1 seconds...\n"
     ]
    },
    {
     "name": "stderr",
     "output_type": "stream",
     "text": [
      "Processing queries (generate or skip): 730it [10:58,  1.15it/s]"
     ]
    },
    {
     "name": "stdout",
     "output_type": "stream",
     "text": [
      "Error generating for query 'Televising turns justice into entertainment  Broadcasting trials would be likely to turn the court in to entertainment. The Simpson trial showed how harmful a televised high profile trial can be degenerating into a freak show. The ICC trials are among the most high profile in the world so are likely to be susceptible to this. Much of the interest in the SCSL Charles Taylor trial came along when Naomi Campbell gave evidence so giving the trial celebrity interest that had little to do with the legalities involved [1] .  Jurisdictions where cameras are not permitted in courts still can and do have accurate, informative and timely reports of cases, however high profile, without filming them. Courtroom sketches, written transcripts and other tools allow reportage without the use of original footage in a tawdry manner.  [1] Bowcott, Owen, ‘Charles Taylor and the ‘dirty-looking stones’ given to Naomi Campbell’, theguardian.com, 26 April 2012,' (Attempt 1/5): API error occurred: Status 429\n",
      "{\"object\":\"error\",\"message\":\"Rate limit exceeded\",\"type\":\"rate_limited\",\"param\":null,\"code\":\"1300\"}\n",
      "Retrying in 1 seconds...\n"
     ]
    },
    {
     "name": "stderr",
     "output_type": "stream",
     "text": [
      "Processing queries (generate or skip): 740it [11:08,  1.32it/s]"
     ]
    },
    {
     "name": "stdout",
     "output_type": "stream",
     "text": [
      "Error generating for query 'Hand Guns Are Required For Self Defence.  Under the status quo handguns are legal. This means that should a criminal initially wish to consider mugging someone he has to consider the possibility that he might be shot should he choose to take this action. A visceral fear of death and injury means that a significant number of criminals will be deterred from engaging in burglaries, violent robberies or muggings if they suspect that they might face armed resistance. As such the presence of handguns within a community contributes to the general deterrence of crime within that community.7  Secondly, should someone try to attack someone else with a handgun, if the other person is armed then they are in a much better position to negotiate with their attacker and prevent harm to either party. Creating a public culture in which handguns are held and used sensibly, and in which firearms training is widely available, allows a parity of power to be created between ordinary citizens and criminals. However, this parity of power is changed in favour of the defender. This is because there are more law abiding citizens than criminals. If the mugger is caught by another citizen then it is possible that citizen will also have a handgun leading to a situation where the mugger will likely be arrested or risk death.8  Finally, the normalisation of handguns in society means that people are less likely to panic should they be attacked by a mugger who has one. Deaths from mugging can often be caused by the victim simply panicking in response to the mugger. Shots are often fired by desperate and unstable assailants who are unprepared for their victim’s reaction. In a society acclimatised to handguns and aware of the risk they present, incidents of this type- fuelled by panic, uncertainty and fear- are much less likely to occur.' (Attempt 1/5): API error occurred: Status 429\n",
      "{\"object\":\"error\",\"message\":\"Rate limit exceeded\",\"type\":\"rate_limited\",\"param\":null,\"code\":\"1300\"}\n",
      "Retrying in 1 seconds...\n"
     ]
    },
    {
     "name": "stderr",
     "output_type": "stream",
     "text": [
      "Processing queries (generate or skip): 744it [11:12,  1.19it/s]"
     ]
    },
    {
     "name": "stdout",
     "output_type": "stream",
     "text": [
      "Error generating for query 'The liberal democratic paradigm is not the only legitimate model of government, a fact that democracies should accept and embrace  Ultimately, states’ laws have to be respected. Liberal democracy has not proven to be the end of history as Fukuyama suggested, but is rather one robust system of government among many. China has become the example of a state-led capitalist model that relies on a covenant with the people fundamentally different from that between democratic governments and their citizens. [1] Chinas ruling communist party has legitimacy as a result of its performance and its role in modernising the country. [2] China’s people have accepted a trade-off; economic growth and prosperity in exchange for their liberties. When dissidents challenge this paradigm, the government becomes aggrieved and seeks to re-establish its power and authority. If the dissidents are breaking that country’s laws then the state has every right to punish them. Singapore similarly has an authoritarian version of democracy that delivers an efficient, peaceful state at the expense of constraints on the ability to criticise the government. [3] This collective model of rights has no inherent value that is lesser to that of the civil liberties-centric model of liberal democracy. In the end, as the geopolitical map becomes complicated with different versions of governance, states must learn to live with one another. The problem of offering amnesty to bloggers is that democracies and the West seek to enforce their paradigm onto that of states that differ. This will engender resentment and conflict. The world economy and social system relies on cooperation, trade, and peace. The difference between systems and cultures should be celebrated rather than simply assuming that there is only one true model and all others are somehow inferior.  [1] Acemoglu, D. and Robinson, J. “Is State Capitalism Winning?”. Project Syndicate. 31 December 2012.   [2] Li, Eric X, “The Life of the Party”, Foreign Affairs, January/February 2013,   [3] Henderson, Drew, “Singapore suppresses dissident” Yale Daily News, 5 November 2010,' (Attempt 1/5): API error occurred: Status 429\n",
      "{\"object\":\"error\",\"message\":\"Rate limit exceeded\",\"type\":\"rate_limited\",\"param\":null,\"code\":\"1300\"}\n",
      "Retrying in 1 seconds...\n"
     ]
    },
    {
     "name": "stderr",
     "output_type": "stream",
     "text": [
      "Processing queries (generate or skip): 748it [11:16,  1.16it/s]"
     ]
    },
    {
     "name": "stdout",
     "output_type": "stream",
     "text": [
      "Error generating for query 'The Settlements commit future Israeli governments to a harder stand in future negotiations  Whether deliberate or not, the settlements are changing the “facts on the ground” by changing the political calculus for future Israeli governments.  While most Israeli politicians accept the need to abandon some smaller settlements, the vast majority are unlikely to be evacuated. It was politically divisive to the point of breaking the Likud party in two when Ariel Sharon, a man with more credit than anyone else on the Israeli right pulled out of Gaza in 2005, and there were only a little over 7000 Israeli settlers there. By contrast there are now more than 300,000 settlers in the West Bank, and this number is rising fast. [1] There were less than 200,000 in 2000. [2]  Of these settlers, many are religious and vote for the Haridam (Orthodox) parties like the National Religious Party . [3] Because the party has served in governments of both the Left and the Right in recent years, in practice they and the ultra-nationalist Israel Beitinu tend to hold the balance of power in the Israeli Knesset.  Therefore every time Israel expands settlements, they are reducing their room to manoeuvre in future Peace Negotiations, and forcing themselves to take a harder stance. This means that Peace will either become less likely (because Israel will set more extreme terms) or that Israel will face more internal divisions in order to offer it. In either case, as the settlements expand  [1] Levinson, Chaim, ‘IDF: More than 300, 000 settlers live in West Bank’, Haaretz.com, 27 July 2009,   [2] Wikipedia, ‘Population statistics for Israeli West Bank settlements’, en.wikipedia.org,  , accessed 20 January 2012  [3] Etkes, Dror, ‘The Ultra-Orthodox Jews in the West Bank’, Peace Now, October 2005,' (Attempt 1/5): API error occurred: Status 429\n",
      "{\"object\":\"error\",\"message\":\"Rate limit exceeded\",\"type\":\"rate_limited\",\"param\":null,\"code\":\"1300\"}\n",
      "Retrying in 1 seconds...\n"
     ]
    },
    {
     "name": "stderr",
     "output_type": "stream",
     "text": [
      "Processing queries (generate or skip): 752it [11:20,  1.15it/s]"
     ]
    },
    {
     "name": "stdout",
     "output_type": "stream",
     "text": [
      "Error generating for query 'Settlements provide economic investment in the Occupied Territories  The fundamental fact is that the West Bank, whatever its status, is not an economically viable entity on its own. It produces few goods, while Gaza produces next to none, and independence without a major influx of capital will not change this situation.  The best source for a supply of capitol in the region lies in Israel, which has an enormous demand for a low-wage work-force. Millions of Palestinians worked in Israel until after 2000, and with travel into Israel proper restricted, settlement construction and cultivation provide economic development opportunities for the region and create jobs for Palestinians. [1] This is an important prospect when the unemployment figures for the Palestinians are at nearly 30%. [2]  Furthermore the very need for such labor is likely to further incentivise Israel to loosen restrictions on Palestinian workers in the West Bank and Gaza.  [1] Hass, Amira, ‘Israel to lift restrictions on Palestinian Jordan Valley travel’, Haaretz.com, 26 April 2007,   [2] ‘Palestinian unemployment shows gradual decline’, Jmcc, 21 February 2010,' (Attempt 1/5): API error occurred: Status 429\n",
      "{\"object\":\"error\",\"message\":\"Rate limit exceeded\",\"type\":\"rate_limited\",\"param\":null,\"code\":\"1300\"}\n",
      "Retrying in 1 seconds...\n"
     ]
    },
    {
     "name": "stderr",
     "output_type": "stream",
     "text": [
      "Processing queries (generate or skip): 758it [11:26,  1.18it/s]"
     ]
    },
    {
     "name": "stdout",
     "output_type": "stream",
     "text": [
      "Error generating for query 'An ICC Enforcement arm would bring in a higher proportion of defendants in to trial  Eight out of the thirty people indicted by the ICC (four in the Darfur situation, including Omar al-Bashir, three Lord’s Resistance Army leaders in Uganda and one in the DR Congo investigation) are still alive and avoiding justice. An in-house enforcement arm would be more effective at capturing indictees than many of the forces of the state parties, as it is likely to be more competent than many of the under-resourced or under-trained national forces. An in house force would be solely focused on capturing the wanted war criminals so would both be focusing resources and much less likely to be sidetracked by other priorities (many of which may be influenced by politics) than national forces. One of the suggested solutions to the failure to capture Joseph Kony and leaders of the LRA is to have greater involvement of peacekeepers; an ICC force would provide the same kind of help. [1]  [1] Van Woudenberg, Anneke, ‘How to Catch Joseph Kony’, Human Rights Watch, 9 March 2012,' (Attempt 1/5): API error occurred: Status 429\n",
      "{\"object\":\"error\",\"message\":\"Rate limit exceeded\",\"type\":\"rate_limited\",\"param\":null,\"code\":\"1300\"}\n",
      "Retrying in 1 seconds...\n"
     ]
    },
    {
     "name": "stderr",
     "output_type": "stream",
     "text": [
      "Processing queries (generate or skip): 761it [11:29,  1.13it/s]"
     ]
    },
    {
     "name": "stdout",
     "output_type": "stream",
     "text": [
      "Error generating for query 'ICC enforcement would create resentment  There are good reasons for why an ICC enforcement arm would be ineffective on its own. It may have all the necessary equipment and training but it would be a foreign force, that may or may not be seen as legitimate, attempting to arrest a native of that country. The result would be resentment in the community at the intrusion. This regularly occurs to national police forces when policing in minority areas. In London the Brixton race riots were seen by one inquiry as “essentially an outburst of anger and resentment by young black people against the police” as the police did not represent them. [1] The result with the ICC as elsewhere would likely to at the least be a lack of cooperation, and with most of the force unable to speak the native language altering perceptions would be difficult. Such a force may bring even fewer results than using local forces and would provide a scapegoat for local politicians. [2]  [1] Bowling, Ben, and Phillips, Coretta, ‘Policing ethnic minority communities’, LSE Research Online, 2003,  p.4  [2] Perritt, Henry H., ‘Policing International Peace and Security: International Police Forces’, Chicago-Kent College of Law, March 1999,  p.294' (Attempt 1/5): API error occurred: Status 429\n",
      "{\"object\":\"error\",\"message\":\"Rate limit exceeded\",\"type\":\"rate_limited\",\"param\":null,\"code\":\"1300\"}\n",
      "Retrying in 1 seconds...\n"
     ]
    },
    {
     "name": "stderr",
     "output_type": "stream",
     "text": [
      "Processing queries (generate or skip): 765it [11:33,  1.19it/s]"
     ]
    },
    {
     "name": "stdout",
     "output_type": "stream",
     "text": [
      "Error generating for query 'Needle exchanges prevent the transmission of disease  A needle exchange as mentioned in the introduction allows drug users to trade in dirty needles for new ones. This can prevent disease simply by preventing transfer of fluids from one drug user to another. As such, if one drug addict has HIV and has not yet been diagnosed it becomes less likely that he will transmit the disease to another person. Further, many drug addicts fail to even consider the possibility of infection via dirty needles, the mere presence of a needle exchange in the nearby vicinity causes drug addicts to be more aware of the dangers associated with dirty needles.  Further, the liberalising effect that needle exchanges have on public opinion can often cause societal change that allows needles to be bought over the counter. This is especially good in targeting drug users who do not wish to reveal that they have an addiction and allows them use of clean needles.  To back this up it has been found by some researchers that, there has been a one-third reduction in HIV prevalence in New Haven, Connecticut, after its NEP had been in operation for only 4 months. Researchers found an 18.6% average annual decrease in HIV seroprevalence in cities that had introduced an NEP, compared to an 8.1% annual increase in HIV seroprevalence in cities that had never introduced NEPs. HIV prevalence among NEP attenders in a Canadian city was low, even though high-risk behaviors were common. Injecting drug users in Seattle who had formerly attended an NEP were found to be more likely than non-exchangers to reduce the frequency of injection, to stop injecting altogether, and to remain in drug treatment, while new users of the NEP were five times more likely to enter drug treatment than never-exchangers.\"1  1. Debra L. O’Neill. \"Needle Exchange Programs: A Review of the Issues\". Missouri Institute of Mental Health. September 27, 2004 www.mimh200.mimh.edu/mimhweb/pie/reports/Needle%20Exchange.pdf' (Attempt 1/5): API error occurred: Status 429\n",
      "{\"object\":\"error\",\"message\":\"Rate limit exceeded\",\"type\":\"rate_limited\",\"param\":null,\"code\":\"1300\"}\n",
      "Retrying in 1 seconds...\n"
     ]
    },
    {
     "name": "stderr",
     "output_type": "stream",
     "text": [
      "Processing queries (generate or skip): 769it [11:37,  1.20it/s]"
     ]
    },
    {
     "name": "stdout",
     "output_type": "stream",
     "text": [
      "Error generating for query 'Creating needle exchange may normalise drug-taking behaviour  Needle exchanges increase drug use. The state implicitly accepts that drug use is an acceptable practice when it aids drug users in practicing their habit. As such drug users feel less afraid of taking drugs. This can extend to first time users who might be encouraged by friends to take drugs using the morally grey area created by needle exchanges as an argument.  Further, it is principally wrong that the state should help those who choose to take drugs to begin with. In doing so these people are choosing to firstly harm themselves and secondly cause harm to society as well as contravene the law. The state should exist in such a way that should someone contravene the law they be punished, not rewarded with extra supplies from the taxpayer with no further strings.1  1. Toni Meyer. \"Making the case for opposing needle  exchange\". New Jersey Family Policy Council. November 16, 2007.' (Attempt 1/5): API error occurred: Status 429\n",
      "{\"object\":\"error\",\"message\":\"Rate limit exceeded\",\"type\":\"rate_limited\",\"param\":null,\"code\":\"1300\"}\n",
      "Retrying in 1 seconds...\n"
     ]
    },
    {
     "name": "stderr",
     "output_type": "stream",
     "text": [
      "Processing queries (generate or skip): 774it [11:42,  1.25it/s]"
     ]
    },
    {
     "name": "stdout",
     "output_type": "stream",
     "text": [
      "Error generating for query 'Creates the perception that fines are like taxes, rather than a punishment  If we detach fines from the crimes committed, people are more likely to see fines as unrelated to justice. Rather, they will see fines as another mechanism by which the government makes money, this will be especially the case if as in New Zealand the money goes into government coffers without being hypothecated.1  This is similar to the way in which some people in the UK see speed cameras as less about preventing speeding, and more about getting money from motorists with one poll showing 49% of people believe they are primarily about revenue raising.2  This is harmful because it decreases the probability of people who deem the fine ‘worth it’ nevertheless abstaining from the criminal act.  1 ‘Frequently Asked Questions’, New Zealand Police,   2 ‘Drivers conflicted over cameras’, IAM Driving Road Safety, 11 August 2010,' (Attempt 1/5): API error occurred: Status 429\n",
      "{\"object\":\"error\",\"message\":\"Rate limit exceeded\",\"type\":\"rate_limited\",\"param\":null,\"code\":\"1300\"}\n",
      "Retrying in 1 seconds...\n"
     ]
    },
    {
     "name": "stderr",
     "output_type": "stream",
     "text": [
      "Processing queries (generate or skip): 779it [11:47,  1.14it/s]"
     ]
    },
    {
     "name": "stdout",
     "output_type": "stream",
     "text": [
      "Error generating for query 'Introducing the use of violence into the justice system means that liberties that have taken centuries to secure are lost  The principle that all people are presumed innocent and, as a result, should not be abused either physically or mentally by officers of the state is one that took centuries- not to mention a great deal of blood and sweat- to establish. In the words of British Chief Justice Phillips this respect for human rights is, in and of itself, “a vital part in the fight against terror”, as if terrorism is to be defeated states that ascribe to such principles must show that they remain true to them in order to win the ideological battle.  Using torture on suspected terrorist would be to tear apart that basic principle in response to crimes, which, it has been noted, are on nothing like the scale of the industrialised warfare of the twentieth century, would be a massively damaging step. Regardless of the scale of the crime the individual must have protections against false accusation and punishment, this means that a fair trial is necessary in order to determine innocence or guilt.' (Attempt 1/5): API error occurred: Status 429\n",
      "{\"object\":\"error\",\"message\":\"Rate limit exceeded\",\"type\":\"rate_limited\",\"param\":null,\"code\":\"1300\"}\n",
      "Retrying in 1 seconds...\n"
     ]
    },
    {
     "name": "stderr",
     "output_type": "stream",
     "text": [
      "Processing queries (generate or skip): 783it [11:51,  1.26it/s]"
     ]
    },
    {
     "name": "stdout",
     "output_type": "stream",
     "text": [
      "Error generating for query 'People should have a right of access to justice.  Given that people are already allowed to watch court proceedings from the public gallery – including the Judicial Committee of the House of Lords in the UK [1] , and the Supreme Court in the US [2] – there is little reason why this should not be extended to give better access across the nation to anybody who wants to watch. Those with full-time jobs or who live far away from the courts are currently unfairly limited in this respect, and those who do wish to attend well-publicised trials often have to arrive hours in advance to get a seat. Individuals should not have to give up so much time and money just to be able to watch a democratic proceeding, which is a cornerstone of democratic nations. Given that many closed trials such as the trial of the Guantánamo Bay terrorism suspects [3] have still led to intense media coverage, we would be better off showing the courts to be transparent and just instead of vainly trying to hide everything behind closed doors.  [1]  , accessed 05/08/11  [2]  , accessed 05/08/11  [3]  , accessed 19/08/11.' (Attempt 1/5): API error occurred: Status 429\n",
      "{\"object\":\"error\",\"message\":\"Rate limit exceeded\",\"type\":\"rate_limited\",\"param\":null,\"code\":\"1300\"}\n",
      "Retrying in 1 seconds...\n"
     ]
    },
    {
     "name": "stderr",
     "output_type": "stream",
     "text": [
      "Processing queries (generate or skip): 789it [11:57,  1.17it/s]"
     ]
    },
    {
     "name": "stdout",
     "output_type": "stream",
     "text": [
      "Error generating for query 'Protection of Minors  We need to protect minors (those under the age of majority) from exposure to obscene, offensive or potentially damaging materials. While this would be a restriction on the freedom of speech it should be something that the government is responsible for and we would all agree needs some kind of restriction or regulation.' (Attempt 1/5): API error occurred: Status 429\n",
      "{\"object\":\"error\",\"message\":\"Rate limit exceeded\",\"type\":\"rate_limited\",\"param\":null,\"code\":\"1300\"}\n",
      "Retrying in 1 seconds...\n"
     ]
    },
    {
     "name": "stderr",
     "output_type": "stream",
     "text": [
      "Processing queries (generate or skip): 794it [12:02,  1.19it/s]"
     ]
    },
    {
     "name": "stdout",
     "output_type": "stream",
     "text": [
      "Error generating for query 'Free speech allows challenges to orthodox beliefs  Free speech is not merely a ‘nice thing to have’, it is a mechanism which brings real, tangible benefits to society by allowing people to challenge orthodoxy. States that do not allow orthodox beliefs to be challenged stagnate and decline.  Reducing restrictions on free speech to ‘special exceptions’ frustrates the whole point because it is precisely those special exceptions where established truth needs to be challenged. This is not restricted to matters of pure opinion – the modern scientific process relies upon professionals being able to vehemently disagree on matters of crucial fact. “Real science depends for its progress on continual challenges to the current state of always-imperfect knowledge.” [1]  [1] Sarewitz, Daniel, ‘The voice of science: let’s agree to disagree’, Nature, Vol 487, No.7, 5 October 2011,' (Attempt 1/5): API error occurred: Status 429\n",
      "{\"object\":\"error\",\"message\":\"Rate limit exceeded\",\"type\":\"rate_limited\",\"param\":null,\"code\":\"1300\"}\n",
      "Retrying in 1 seconds...\n"
     ]
    },
    {
     "name": "stderr",
     "output_type": "stream",
     "text": [
      "Processing queries (generate or skip): 799it [12:07,  1.15it/s]"
     ]
    },
    {
     "name": "stdout",
     "output_type": "stream",
     "text": [
      "Error generating for query 'Legal drugs would increase tax revenue  In 2009-2010, the tax revenue from tobacco in the UK was £10.5 billion. [1] If the state legalizes drugs, it can tax them and use the revenue from this practise to fund treatment. At the moment such treatment is difficult to justify as it appears to be spending ordinary taxpayers’ money on junkies.  [1] Tobacco Manufacturers’ Association, ‘Tax Revenue From Tobacco’, accessed 16th June 2011 -' (Attempt 1/5): API error occurred: Status 429\n",
      "{\"object\":\"error\",\"message\":\"Rate limit exceeded\",\"type\":\"rate_limited\",\"param\":null,\"code\":\"1300\"}\n",
      "Retrying in 1 seconds...\n"
     ]
    },
    {
     "name": "stderr",
     "output_type": "stream",
     "text": [
      "Processing queries (generate or skip): 803it [12:11,  1.18it/s]"
     ]
    },
    {
     "name": "stdout",
     "output_type": "stream",
     "text": [
      "Error generating for query 'Drugs will either be too cheap or too expensive  Low prices for drugs will hugely increase consumption of drugs, amongst all groups - addicts, previously casual users, and those who were not previously users. If drug provision is strictly regulated, an illegal black market may remain.' (Attempt 1/5): API error occurred: Status 429\n",
      "{\"object\":\"error\",\"message\":\"Rate limit exceeded\",\"type\":\"rate_limited\",\"param\":null,\"code\":\"1300\"}\n",
      "Retrying in 1 seconds...\n"
     ]
    },
    {
     "name": "stderr",
     "output_type": "stream",
     "text": [
      "Processing queries (generate or skip): 807it [12:15,  1.13it/s]"
     ]
    },
    {
     "name": "stdout",
     "output_type": "stream",
     "text": [
      "Error generating for query 'Rehabilitation Doesn’t Actually Work  While some rehabilitative programmes work with some offenders (those who would probably change by themselves anyway), most do not. Many programs cannot overcome, or even appreciably reduce, the powerful tendency for offenders to continue in criminal behaviour. In Britain, where rehabilitation has long been purported to stop re-offending, 58 per cent of those over-21 find themselves in trouble with the law within two years of release. [1] The rehabilitation programs simply do not work. ‘Rehabilitation’ is therefore a false promise – and the danger with such an illusory and impossible goal is that it is used as a front to justify keeping offenders locked up for longer than they deserve and sometimes even indefinitely (‘if we keep him here longer maybe he might change’). We cannot justify passing any heavier or more onerous a sentence on a person in the name of “rehabilitation” if “rehabilitation” does not work.  [1] Stanford, P., ‘The road to redemption: Does the rehabilitation of prisoners work?’, The Independent, 23 August 2007.' (Attempt 1/5): API error occurred: Status 429\n",
      "{\"object\":\"error\",\"message\":\"Rate limit exceeded\",\"type\":\"rate_limited\",\"param\":null,\"code\":\"1300\"}\n",
      "Retrying in 1 seconds...\n"
     ]
    },
    {
     "name": "stderr",
     "output_type": "stream",
     "text": [
      "Processing queries (generate or skip): 812it [12:20,  1.20it/s]"
     ]
    },
    {
     "name": "stdout",
     "output_type": "stream",
     "text": [
      "Error generating for query 'Attorney client privilege need not be sacrosanct in all situations  Most obviously it seems unnecessary for there to be attorney client privilege when the defendant’s interests cannot be adversely affected. For example when the confidential information just does not incriminate the client himself but it might clear somebody else, or when the client is dead. Few people will be discouraged from being candid with their lawyers if there is merely the possibility that the communications may be disclosed after their death.  In addition there are situations where the client’s interest may indeed be hurt but where this should be outweighed by some other very important public interest. In other words perhaps there should be ‘necessity’ or ‘public interest’ or ‘in the interests of justice’ balancing exceptions to the privilege. This would be the case when public safety is at risk, for example if the client holds some very vital information but is not willing to disclose it to anyone other than his lawyer. In such cases the courts should weigh up and balance the client’s interests against society’s and make the decision accordingly rather than rigidly sticking to attorney-client privilege.' (Attempt 1/5): API error occurred: Status 429\n",
      "{\"object\":\"error\",\"message\":\"Rate limit exceeded\",\"type\":\"rate_limited\",\"param\":null,\"code\":\"1300\"}\n",
      "Retrying in 1 seconds...\n"
     ]
    },
    {
     "name": "stderr",
     "output_type": "stream",
     "text": [
      "Processing queries (generate or skip): 817it [12:25,  1.18it/s]"
     ]
    },
    {
     "name": "stdout",
     "output_type": "stream",
     "text": [
      "Error generating for query 'Client-Attorney Privilege is already qualified appropriately  In exceptional circumstances, solicitors are told that they may depart from the rule of confidentiality contained in Rule 4 of the Solicitors' Code of conduct. Note 9 states that there are some regulatory bodies that are entitled to be informed of apparently confidential client communications. [1] In cases of suspected money laundering, solicitors have a duty under the Money Laundering Regulations 2007 [2] to inform relevant bodies of any suspected money laundering or any handling of the proceeds of crime. This means that there is flexibility in the rule of client confidentiality and client-attorney privilege which allows for justice to take its course in serious circumstances.  [1] Rule 4: Confidentiality and disclosure, Solicitors’ Code of Conduct 2007,  accessed 18/05/11  [2] The Money Laundering Regulations 2007, legislation.gov.uk, No2157, 2007,' (Attempt 1/5): API error occurred: Status 429\n",
      "{\"object\":\"error\",\"message\":\"Rate limit exceeded\",\"type\":\"rate_limited\",\"param\":null,\"code\":\"1300\"}\n",
      "Retrying in 1 seconds...\n"
     ]
    },
    {
     "name": "stderr",
     "output_type": "stream",
     "text": [
      "Processing queries (generate or skip): 822it [12:30,  1.13it/s]"
     ]
    },
    {
     "name": "stdout",
     "output_type": "stream",
     "text": [
      "Error generating for query 'It may be in the best interests of victims and their state for war criminals not to be brought to trial.  The ICC may well lead to the political prosecution of war criminals, but that is not necessarily the most effective means to peace, or lasting peace for victims. As U.S. policy papers have pointed out, despots like Pol Pot and Saddam Hussein did not consult lawyers over potential legal ramifications before they committed their respective human rights violations1. Furthermore, the impact on an oppressed population of a long, protracted trial of their fallen dictator is not always therapeutic for it can dredge up events of particularly melancholic qualities and grants the dictator a platform to continue his psychological control over his population.  1 Elsea, J. K. (2006). U.S. Policy Regarding the International Criminal Court. Congressional Research Service, p. 22.' (Attempt 1/5): API error occurred: Status 429\n",
      "{\"object\":\"error\",\"message\":\"Rate limit exceeded\",\"type\":\"rate_limited\",\"param\":null,\"code\":\"1300\"}\n",
      "Retrying in 1 seconds...\n"
     ]
    },
    {
     "name": "stderr",
     "output_type": "stream",
     "text": [
      "Processing queries (generate or skip): 826it [12:34,  1.18it/s]"
     ]
    },
    {
     "name": "stdout",
     "output_type": "stream",
     "text": [
      "Error generating for query 'The ICC generates crippling expenses.  Cautious estimates suggest an operating budget of $100 million per year1. The costs of the ICTY and ICTR have already spiralled out of control, and the latter tribunal has a legacy of maladministration and internal corruption. The US contributes 25% of the budget for both the tribunals, which amounted to $58 million in the fiscal year 20002. It is dubious whether the ICC could survive without US financial support. The UN as a whole is obligated only to fund investigations and prosecutions initiated at the request of the Security Council. Every other investigation must be funded by assessed contributions from the States that have ratified the Rome Statute. Although the UN could authorise the transfer of additional funds, the procedure would require a UN Security Council resolution that would of course be subject to the US veto. Alternatively, it is accepted that State Parties to the Statute could directly contribute funds or personnel to the ICC. However, the possibility of partiality or even corruption is manifest where States with their individual political interests are deploying and directing their own staff within the Office of the Prosecutor of the ICC.  1 Irwin, R. (2010, January 8). ICC Trials Hit by Budget Cuts. Retrieved May 11, 2011, from Institute for War &amp; Peace Reporting:  2 Scharf, M. P. (2000, October). The Special Court for Sierra Leone. Retrieved May 11, 2011, from American Society of International Law:' (Attempt 1/5): API error occurred: Status 429\n",
      "{\"object\":\"error\",\"message\":\"Rate limit exceeded\",\"type\":\"rate_limited\",\"param\":null,\"code\":\"1300\"}\n",
      "Retrying in 1 seconds...\n"
     ]
    },
    {
     "name": "stderr",
     "output_type": "stream",
     "text": [
      "Processing queries (generate or skip): 835it [12:43,  1.25it/s]"
     ]
    },
    {
     "name": "stdout",
     "output_type": "stream",
     "text": [
      "Error generating for query 'Online courses are more convenient for students than traditional university  The vast popularity of MOOCs can be explained by the fact that people are finding it easier to learn this way. The best feature of online learning that it can be done in the privacy of one's home, which is more convenient than having to move cities or even countries for a university degree. Moreover, online courses are inherently more flexible. Lectures can be watched and tests taken at any time a person desires (within the deadlines), unlike with scheduled lectures and tests at the traditional university. Not only this means a more personal approach to studying, it also provides people with more flexibility to manage their other commitments, such as work and childcare. Such personal and flexible approach to learning will overtake the rigidity of the traditional university.' (Attempt 1/5): API error occurred: Status 429\n",
      "{\"object\":\"error\",\"message\":\"Rate limit exceeded\",\"type\":\"rate_limited\",\"param\":null,\"code\":\"1300\"}\n",
      "Retrying in 1 seconds...\n"
     ]
    },
    {
     "name": "stderr",
     "output_type": "stream",
     "text": [
      "Processing queries (generate or skip): 838it [12:46,  1.18it/s]"
     ]
    },
    {
     "name": "stdout",
     "output_type": "stream",
     "text": [
      "Error generating for query 'Online courses make it impossible to ensure academic honesty  With online courses, unlike with actual tests and lectures, there is no way to ensure the person is not cheating on the other side of the screen. There is no way to ensure that essays and papers are written by people who will be getting degrees, and especially that tests and examinations are taken by the people who will be getting the degrees. But even if they are the same people, there is no way to prevent cheating during tests and examinations, as people can just have the cheat sheets in front of them and there are no supervisors to stop them from doing so. The crucial point about university degrees is that they ensure that the person is the professional. With online courses, that is not possible, which undermines the whole idea of the university degree.' (Attempt 1/5): API error occurred: Status 429\n",
      "{\"object\":\"error\",\"message\":\"Rate limit exceeded\",\"type\":\"rate_limited\",\"param\":null,\"code\":\"1300\"}\n",
      "Retrying in 1 seconds...\n"
     ]
    },
    {
     "name": "stderr",
     "output_type": "stream",
     "text": [
      "Processing queries (generate or skip): 843it [12:51,  1.25it/s]"
     ]
    },
    {
     "name": "stdout",
     "output_type": "stream",
     "text": [
      "Error generating for query 'The state benefits from the skills of a university educated populace  A university educated society is of great value to any state, and provides three main benefits. Firstly, it provides extensive economic benefits. There is a profound advantage to countries that actively promote a culture of “smart economy”3, with a highly educated and technically able workforce. They are more likely to be innovative and highly productive. Secondly, higher education leads to an increase in cultural awareness via subjects like the arts, history, and the classics. The third benefit is the development of leaders in society. The barrier created by university fees will prevent some potentially high­ worth individuals from ever reaching their potential.' (Attempt 1/5): API error occurred: Status 429\n",
      "{\"object\":\"error\",\"message\":\"Rate limit exceeded\",\"type\":\"rate_limited\",\"param\":null,\"code\":\"1300\"}\n",
      "Retrying in 1 seconds...\n"
     ]
    },
    {
     "name": "stderr",
     "output_type": "stream",
     "text": [
      "Processing queries (generate or skip): 845it [12:53,  1.07it/s]"
     ]
    },
    {
     "name": "stdout",
     "output_type": "stream",
     "text": [
      "Error generating for query 'Individuals have a right to equal opportunities that free university provides.  The employment prospects created by a university degree are substantial, and many lines of work are only available to university graduates. True merit should define the ability to attend university, not the accident of birth. With the institution of fees, access becomes more difficult, and will certainly lead to lower attendance by poorer groups. This serves to lock people into the economic situation when they are born, as getting out is much more difficult when denied access to most high­income jobs.5  5 Tribune Opinion. 2005. “Education Paves Way Out of Poverty”. Greeley Tribune​ . Available:' (Attempt 1/5): API error occurred: Status 429\n",
      "{\"object\":\"error\",\"message\":\"Rate limit exceeded\",\"type\":\"rate_limited\",\"param\":null,\"code\":\"1300\"}\n",
      "Retrying in 1 seconds...\n"
     ]
    },
    {
     "name": "stderr",
     "output_type": "stream",
     "text": [
      "Processing queries (generate or skip): 849it [12:57,  1.13it/s]"
     ]
    },
    {
     "name": "stdout",
     "output_type": "stream",
     "text": [
      "Error generating for query 'Free university education unjustly benefits one subset of society at the expense of everyone  The state funds essential services, but higher education is not such a service. The specific subset free university education tends to benefit not the disadvantaged, but rather the middle and upper classes who would have paid fees, but are now relieved of this burden. This pattern has been seen in Ireland where poorer communities still view higher education as something for the rich even though it is free. These groups continue to enter the workforce in similar numbers as they had before the ending of fees, and they still tend to prefer trade schools to universities if they do seek qualifications beyond the secondary level. [1]  [1] Brady, Hugh. 2008. “We Must Invest Now in Our Universities or Pay Later”. University College Dublin News. Available:  ​ 14 Government of Ireland. 1997. “Universities Act, 1997”. Available:' (Attempt 1/5): API error occurred: Status 429\n",
      "{\"object\":\"error\",\"message\":\"Rate limit exceeded\",\"type\":\"rate_limited\",\"param\":null,\"code\":\"1300\"}\n",
      "Retrying in 1 seconds...\n"
     ]
    },
    {
     "name": "stderr",
     "output_type": "stream",
     "text": [
      "Processing queries (generate or skip): 853it [13:01,  1.21it/s]"
     ]
    },
    {
     "name": "stdout",
     "output_type": "stream",
     "text": [
      "Error generating for query 'There is a moral obligation to provide affirmative action programs  Society has a moral obligation to right its wrongs and compensate those they have treated unjustly.  Discrimination, whether overt or convert, is an unacceptable practice that arbitrarily disadvantages certain people on grounds that they have no control over. Discrimination not only is theoretically a bad thing to do to people, but also has tangible negative impacts. Discrimination against groups such as the African American community in the USA has left them without the education or employment opportunities to even have a chance at achieving the success and happiness they deserve [1] . Discrimination is unacceptable practice for any society to engage in and victims of discrimination deserve compensation for the physical and psychological harms they suffered from being rejected by their very own community [2] .  Past discrimination has left communities without the physical goods and psychological feelings of acceptance and safety all individuals deserve from their country and thus there is a moral obligation of society to take steps to offer the physical and symbolic advantages they have been denied through affirmative action.  [1] Aka, Philip. \"Affirmative Action and the Black Experience in America.\" American Bar Association. 36.4 (2009): Print.  [2] Aka, Philip. \"Affirmative Action and the Black Experience in America.\" American Bar Association. 36.4 (2009): Print.' (Attempt 1/5): API error occurred: Status 429\n",
      "{\"object\":\"error\",\"message\":\"Rate limit exceeded\",\"type\":\"rate_limited\",\"param\":null,\"code\":\"1300\"}\n",
      "Retrying in 1 seconds...\n"
     ]
    },
    {
     "name": "stderr",
     "output_type": "stream",
     "text": [
      "Processing queries (generate or skip): 856it [13:04,  1.19it/s]"
     ]
    },
    {
     "name": "stdout",
     "output_type": "stream",
     "text": [
      "Error generating for query 'Affirmative action perpetuates prejudice  Affirmative action causes prejudice against minorities in society.  The existence of affirmative action creates a de-facto assumption that anyone of that particular minority must have gotten where they are not on their own merit, but simply because they are that particular minority. This causes people to resent the minority group for getting for “free” what people feel they had to work hard for. People feel as though that minority is getting a “free-ride” and are inherently less worthy of what they achieve.  This is damaging on a societal level because minorities who receive affirmative action are assumed to be less qualified and less valuable than others in society simply because many of them are aided by affirmative action policies. This not only creates damaging stereotypes, but also causes resentment and backlash from others in society who view affirmative action as simply unfair.  This is best demonstrated by the backlash in America in the mid-1990s over the existence of affirmative action policies [1] .  [1] Aka, Philip. \"Affirmative Action and the Black Experience in America.\" American Bar Association. 36.4 (2009): Print.' (Attempt 1/5): API error occurred: Status 429\n",
      "{\"object\":\"error\",\"message\":\"Rate limit exceeded\",\"type\":\"rate_limited\",\"param\":null,\"code\":\"1300\"}\n",
      "Retrying in 1 seconds...\n"
     ]
    },
    {
     "name": "stderr",
     "output_type": "stream",
     "text": [
      "Processing queries (generate or skip): 860it [13:08,  1.18it/s]"
     ]
    },
    {
     "name": "stdout",
     "output_type": "stream",
     "text": [
      "Error generating for query 'A graduate tax would make access to higher education fairer and more equitable  A graduate tax would be fairer for everyone in society. Graduates earn considerably more than non-graduates, on average over £100,000 more in a lifetime (Channel 4 News, 2010.), experience lower rates of unemployment and greater job security, they therefore benefit hugely from higher education. They should therefore be expected to pay for the privilege of having an education which has put them in that position rather than having the rest of society fund there degrees, going to university should be an honor and not a privilege. While having a degree is useful it is not necessary for getting on with life, if someone wants to go to university they should have that opportunity regardless of their background but they should be expected to contribute to that education which is why the graduate tax works as students of all social classes can join university, not be loaded with debt and can contribute fiscally when viable.' (Attempt 1/5): API error occurred: Status 429\n",
      "{\"object\":\"error\",\"message\":\"Rate limit exceeded\",\"type\":\"rate_limited\",\"param\":null,\"code\":\"1300\"}\n",
      "Retrying in 1 seconds...\n"
     ]
    },
    {
     "name": "stderr",
     "output_type": "stream",
     "text": [
      "Processing queries (generate or skip): 863it [13:11,  1.17it/s]"
     ]
    },
    {
     "name": "stdout",
     "output_type": "stream",
     "text": [
      "Error generating for query 'A graduate tax would reduce teh autonomy of universities  If a graduate tax were introduced the money would go to the national treasury which would result in universities competing for the same money as colleges. At the moment the money generated from tuition fees goes straight to where it should go, straight to the universities bank accounts who provide the education. Under graduate tax proposals from the UK’s National Union of Students, raised revenue from the tax would go into a centralized higher education fund which could be distributed by the government through various means which could result in some universities getting unfair levels of funding relative to both their standing and student bodies. (Barr, N. 2009) This is impractical for universities to plan investments as they will never be entirely sure what funding they will have and furthermore and for many arguably most importantly universities will ultimately lose their independence from the state.' (Attempt 1/5): API error occurred: Status 429\n",
      "{\"object\":\"error\",\"message\":\"Rate limit exceeded\",\"type\":\"rate_limited\",\"param\":null,\"code\":\"1300\"}\n",
      "Retrying in 1 seconds...\n"
     ]
    },
    {
     "name": "stderr",
     "output_type": "stream",
     "text": [
      "Processing queries (generate or skip): 867it [13:15,  1.11it/s]"
     ]
    },
    {
     "name": "stdout",
     "output_type": "stream",
     "text": [
      "Error generating for query 'There is a very real controversy regarding the origin and development of life, and children deserve to hear both sides.  Many scientists do not accept the conclusions of the evolutionists. People like Dr. Michael Behe have dedicated themselves to exposing the flaws in evolution and showing that there is very real disagreement within the scientific community. This controversy is highlighted in the many court cases, books, and televised debates occurring in countries all over the world [1] . Children deserve to hear about the controversy, and not to simply be fed one story set for them by the prevailing majority in the scientific community, even if that community cannot claim anything near consensus. Until consensus is reached and indisputable proof of one theory or the other given, both sides should be taught in schools.  [1] Linder, Doug, 2011. “The Evolution Controversy”. University of Missouri-Kansas City School of Law.' (Attempt 1/5): API error occurred: Status 429\n",
      "{\"object\":\"error\",\"message\":\"Rate limit exceeded\",\"type\":\"rate_limited\",\"param\":null,\"code\":\"1300\"}\n",
      "Retrying in 1 seconds...\n"
     ]
    },
    {
     "name": "stderr",
     "output_type": "stream",
     "text": [
      "Processing queries (generate or skip): 876it [13:24,  1.09it/s]"
     ]
    },
    {
     "name": "stdout",
     "output_type": "stream",
     "text": [
      "Error generating for query 'Increasing parents' freedom of choice  Different parents have different values and priorities, and it is entirely legitimate for them to wish to pass these on to their children. The state does not know any better than them with which values the ideal life can be lived.  Further, children are individuals who respond in very different ways to different styles of teaching. Parents know their children better than central government possibly could, and so are the best placed to decide what sort of school their child should go to. Currently, there is very little state provision for non-mainstream styles of learning, whereas in the private sector there is a big incentive for educational innovation.' (Attempt 1/5): API error occurred: Status 429\n",
      "{\"object\":\"error\",\"message\":\"Rate limit exceeded\",\"type\":\"rate_limited\",\"param\":null,\"code\":\"1300\"}\n",
      "Retrying in 1 seconds...\n"
     ]
    },
    {
     "name": "stderr",
     "output_type": "stream",
     "text": [
      "Processing queries (generate or skip): 880it [13:28,  1.17it/s]"
     ]
    },
    {
     "name": "stdout",
     "output_type": "stream",
     "text": [
      "Error generating for query 'Most universities are publically funded so should have to be open with their materials.  The United States University system is famously expensive and as a result it is probably the system in a developed country that has least public funding yet $346.8billion was spent, mostly by the states, on higher education in 2008-9. [1] In Europe almost 85% of universities funding came from government sources. [2] Considering the huge amounts of money spent on universities by taxpayers they should be able to demand access to the academic work those institutions produce.  Even in countries where there are tuition fees that make up some of the funding for the university it is right that the public should have access to these materials as the tuition fees are being paid for the personal teaching time provided by the lecturers not for the academics’ publications. Moreover those who have paid for a university course would benefit by the materials still being available to access after they have finished university  [1] Caplan, Bruan, “Correction: Total Government Spending on Higher Education”, Library of Economics and Liberty, 16 November 2012,   [2] Vught, F., et al., “Funding Higher Education: A View Across Europe”, Ben Jongbloed Center for Higher Education Policy Studies University of Twente, 2010.' (Attempt 1/5): API error occurred: Status 429\n",
      "{\"object\":\"error\",\"message\":\"Rate limit exceeded\",\"type\":\"rate_limited\",\"param\":null,\"code\":\"1300\"}\n",
      "Retrying in 1 seconds...\n"
     ]
    },
    {
     "name": "stderr",
     "output_type": "stream",
     "text": [
      "Processing queries (generate or skip): 884it [13:32,  1.16it/s]"
     ]
    },
    {
     "name": "stdout",
     "output_type": "stream",
     "text": [
      "Error generating for query 'Making everything free to access will damage universities ability to tap private funding  For most universities even if the government is generous with funding it will still need for some projects require private funding. When providing money for research projects the government often requires cost sharing so the university needs to find other sources of funding. [1] Third parties however are unlikely to be willing to help provide funding for research if they know that all the results of that research will be made open to anyone and everyone. These businesses are funding specific research to solve a particular problem with the intention of profiting from the result. Even if universities themselves don’t want to profit from their research they cannot ignore the private funding as it is rapidly growing, up 250% in the U.S. from 1985-2005, while the government support is shrinking. [2]  [1] Anon. (November 2010), “Research &amp; Sponsored Projects”, University of Michigan.   [2] Schindler, Adam, “Follow the Money Corporate funding of university research”, Berkley Science Review, Issue 13.' (Attempt 1/5): API error occurred: Status 429\n",
      "{\"object\":\"error\",\"message\":\"Rate limit exceeded\",\"type\":\"rate_limited\",\"param\":null,\"code\":\"1300\"}\n",
      "Retrying in 1 seconds...\n"
     ]
    },
    {
     "name": "stderr",
     "output_type": "stream",
     "text": [
      "Processing queries (generate or skip): 888it [13:36,  1.16it/s]"
     ]
    },
    {
     "name": "stdout",
     "output_type": "stream",
     "text": [
      "Error generating for query 'Standardized Tests are skewed in favour of the wealthy  Standardized tests are inherently skewed in favour of high-income students. Tutoring is and industry unto itself and the resulting rise in scores among high income students skews the scale against students whose families cannot afford it. By contrast, even if the money is available, the impact that tutoring can have on a student’s academic performance is limited. A tutor cannot write papers or take tests for them, and nor can they answer questions in class, or participate in sports or other extracurricular activities. As a consequence, eliminating easily tutored standardized tests helps even the playing field between richer and poorer students.' (Attempt 1/5): API error occurred: Status 429\n",
      "{\"object\":\"error\",\"message\":\"Rate limit exceeded\",\"type\":\"rate_limited\",\"param\":null,\"code\":\"1300\"}\n",
      "Retrying in 1 seconds...\n"
     ]
    },
    {
     "name": "stderr",
     "output_type": "stream",
     "text": [
      "Processing queries (generate or skip): 894it [13:42,  1.19it/s]"
     ]
    },
    {
     "name": "stdout",
     "output_type": "stream",
     "text": [
      "Error generating for query 'It is the only single standard that everyone ends up taking  All measures applied during University admissions processes are arbitrary to one extent or another. Grades depend on the whims on individual instructors, curriculum choices, and school quality. Every single one of the flaws the proposition applies to the SATs or other standardized tests may well be true, but the fact is that they are true for everyone who takes them. The SATs are the only part of the application to a university that every single applicant will likely have been taken, and therefore the only one where all applicants can be objectively compared.' (Attempt 1/5): API error occurred: Status 429\n",
      "{\"object\":\"error\",\"message\":\"Rate limit exceeded\",\"type\":\"rate_limited\",\"param\":null,\"code\":\"1300\"}\n",
      "Retrying in 1 seconds...\n"
     ]
    },
    {
     "name": "stderr",
     "output_type": "stream",
     "text": [
      "Processing queries (generate or skip): 899it [13:47,  1.13it/s]"
     ]
    },
    {
     "name": "stdout",
     "output_type": "stream",
     "text": [
      "Error generating for query 'Safeguarding the teacher-student relationship  Random drug tests change the student-teacher relationship from one of trust into one of suspicion, whereby the teachers and the school establishment become a body which many students will perceive as being out to catch them, and suspicious of all. The destruction of this trust makes it far harder for teachers to impart useful information on illegal drugs and the consequences of their use to students, and students may be less willing to seek teachers out on this information. This would lead to students relying increasingly on their peers and the internet for information on illegal drugs, and this information is far more likely to be of questionable policy or influenced by notions of drug use as 'cool' or glamorous. Thus schools' anti-drugs message may be harmed by random drug tests.' (Attempt 1/5): API error occurred: Status 429\n",
      "{\"object\":\"error\",\"message\":\"Rate limit exceeded\",\"type\":\"rate_limited\",\"param\":null,\"code\":\"1300\"}\n",
      "Retrying in 1 seconds...\n"
     ]
    },
    {
     "name": "stderr",
     "output_type": "stream",
     "text": [
      "Processing queries (generate or skip): 903it [13:51,  1.16it/s]"
     ]
    },
    {
     "name": "stdout",
     "output_type": "stream",
     "text": [
      "Error generating for query 'A healthy breakfast improves students concentration  Children are in school to learn. To do this they need to concentrate. To be able to concentrate they need to have a balanced meal – one without too much sugar – that will ensure they are not hungry until lunchtime. A child who is hungry is not going to be concentrating on their studies. A study by the Indian National Institute of Nutrition has shown a regular breakfast to result in a 2% increase in test scores in addition to other health benefits. [1]  [1] Gajre, N.S., Fernandez, S., Balakrishna, N., and Vazir, S., ‘Breakfast Eating Habit and its Influence on Attention-concentration, Immediate Memory and School Achievement’, National Institute of Nutrition, 31 March 2008,' (Attempt 1/5): API error occurred: Status 429\n",
      "{\"object\":\"error\",\"message\":\"Rate limit exceeded\",\"type\":\"rate_limited\",\"param\":null,\"code\":\"1300\"}\n",
      "Retrying in 1 seconds...\n"
     ]
    },
    {
     "name": "stderr",
     "output_type": "stream",
     "text": [
      "Processing queries (generate or skip): 908it [13:56,  1.15it/s]"
     ]
    },
    {
     "name": "stdout",
     "output_type": "stream",
     "text": [
      "Error generating for query 'Nutrition is the parents responsibility  Parents are responsible for their children, and this includes responsibility for their meals. The parent has had to provide meals up until the start of school. They know their own child’s preferences there is little reason for this to change. Splitting responsibility between parents and schools means the burden of responsibility will no longer be clearly don't placed.' (Attempt 1/5): API error occurred: Status 429\n",
      "{\"object\":\"error\",\"message\":\"Rate limit exceeded\",\"type\":\"rate_limited\",\"param\":null,\"code\":\"1300\"}\n",
      "Retrying in 1 seconds...\n"
     ]
    },
    {
     "name": "stderr",
     "output_type": "stream",
     "text": [
      "Processing queries (generate or skip): 918it [14:06,  1.17it/s]"
     ]
    },
    {
     "name": "stdout",
     "output_type": "stream",
     "text": [
      "Error generating for query 'Russia as a state and Russians as a nation need strong leadership  Historically, Russia has always needed strong centralised leadership for it to make progress. This was true both in imperial times under tsars such as Peter the Great (who made Russia a European power and built St Petersburg) and Alexander II (who freed the serfs), and since 1917 under Lenin and Stalin. Russia is too big, too diverse and too thinly-populated for western systems of representative democracy to be applied. Culturally its people are temperamentally suited to following the decisive lead of a strong ruler who can unite them in the face of great challenges. Without such a ruler Russia is likely to fragment with local strongmen grabbing power in the regions, religious fundamentalism dominating much of the Caucasus and Central Asia, and economic stagnation.' (Attempt 1/5): API error occurred: Status 429\n",
      "{\"object\":\"error\",\"message\":\"Rate limit exceeded\",\"type\":\"rate_limited\",\"param\":null,\"code\":\"1300\"}\n",
      "Retrying in 1 seconds...\n"
     ]
    },
    {
     "name": "stderr",
     "output_type": "stream",
     "text": [
      "Processing queries (generate or skip): 925it [14:14,  1.25it/s]"
     ]
    },
    {
     "name": "stdout",
     "output_type": "stream",
     "text": [
      "Error generating for query 'EU economic preference will no longer bind Britain  As a customs union the EU has a common external tariff set at the EU level meaning that the UK cannot tailor its external trade policy to its own needs. Instead the UK will be free to negotiate its own free trade agreements with any power it wishes. This may be individually or joining larger trade groupings such as the currently being negotiated Trans Atlantic Trade and Investment Partnership deal between the USA, Canada, and the EU. it also means the UK is free to reject such joint agreements, as many campaigning groups would like with the Trans Atlantic Trade and Investment Partnership deal. [1] Countries which are not in regional blocks have not suffered as a result, South Korea has 24 free trade agreements [2] and despite an economy that is just over half the size of the UK’s has trade in goods worth similar amounts;$1,098bln $1,190bln [3] but importantly gets to negotiate each one itself and to its own terms and conditions.  [1] See #noTTIP,   [2] ‘Free Trade Agreements’, Asia Regional Integration Centre, 2015,   [3] Adding exports and imports of merchandise, ‘Korea, Republic of and United Kingdom’, World Trade Organisation,' (Attempt 1/5): API error occurred: Status 429\n",
      "{\"object\":\"error\",\"message\":\"Rate limit exceeded\",\"type\":\"rate_limited\",\"param\":null,\"code\":\"1300\"}\n",
      "Retrying in 1 seconds...\n"
     ]
    },
    {
     "name": "stderr",
     "output_type": "stream",
     "text": [
      "Processing queries (generate or skip): 932it [14:21,  1.13it/s]"
     ]
    },
    {
     "name": "stdout",
     "output_type": "stream",
     "text": [
      "Error generating for query 'The constitution should not be amended  We should always be cautious of altering the United States’ Constitution. Once an amendment is passed, it is extremely hard to overturn, even if its consequences are clearly negative (as the experience of constitutionally-mandated prohibition of alcohol should make clear). It would be both difficult and unnecessary. There are problems of wording and interpretation. The 1996 Act covered 22 pages and went into great detail to define the extent and limits of Presidential authority under the legislation, including the exact meanings of “single item of appropriation”, ''direct spending'' and ''limited tax benefit'', as well as the means by which Congress could override his decisions.1 It is hard to believe that a one-paragraph amendment to the Constitution could achieve such precision, opening the budgetary process up to confusion, shifting interpretation and constant legal challenge. It is also unnecessary. Supreme Court Justice Antonin Scalia argues \"The short of the matter is this: Had the Line Item Veto Act authorized the president to 'decline to spend' any item of spending ... there is not the slightest doubt that authorization would have been constitutional… What the Line Item Veto Act does instead -- authorizing the president to 'cancel' an item of spending -- is technically different.\"2 Thus the act could simply have been worded differently in order to make it constitutional. This would not change the substance of the ability of the ‘veto’ to cut spending.  1 One hundred fourth Congress of the United States of America at the second session, “Line Item Veto Act”, 3/1/1996, The Library of Congress, accessed 6/5/11  2 Supreme Court Justice Scalia quoted in Michael Kirkland, ‘Under the U.S. Supreme Court: Like the South, will line item veto rise again?’, upi.com, 17/4/11 accessed 6/5/11  improve this  COUNTERPOINT  \"I do not take these matters lightly in amending the Constitution. However, I am convinced in this case it is the only way to provide the President with the same authority that 44 Governors already have to influence spending.\"1It would in general be preferable to make such a change through normal legislation, but that was attempted in 1996 and found unconstitutional. Supreme Court Justice Stevens in his majority opinion for the Supreme Court argued that it was necessary for there to be an amendment to make it constitutional, \"If there is to be a new procedure in which the president will play a different role in determining the text of what may \"become a law\", such change must come not by legislation but through the amendment procedures set forth in Article V of the Constitution.\"2  1 Item veto constitutional amendment hearing before the subcommittee on the constitution of the Committee on the Judiciary House of Representatives, 23/3/00, accessed 5/5/11  2 Clinton, President of the United States, et al. v. City of New York et al. No.97-1374, United States Supreme Court, 1998,accessed 5/5/11  improve this  APPENDIX' (Attempt 1/5): API error occurred: Status 429\n",
      "{\"object\":\"error\",\"message\":\"Rate limit exceeded\",\"type\":\"rate_limited\",\"param\":null,\"code\":\"1300\"}\n",
      "Retrying in 1 seconds...\n"
     ]
    },
    {
     "name": "stderr",
     "output_type": "stream",
     "text": [
      "Processing queries (generate or skip): 953it [14:42,  1.24it/s]"
     ]
    },
    {
     "name": "stdout",
     "output_type": "stream",
     "text": [
      "Error generating for query 'Constitutional imperative  The Constitution of the United States is designed to prevent power from being concentrated in one place, with each of the three branches (executive, legislative and judicial) placing checks and balances upon each other. As James Madison wrote “It is of great importance in a republic not only to guard the society against the oppression of its rulers, but to guard one part of the society against the injustice of the other part.” [1]  This principle ensures that power is divided, facilitating greater dialogue between the branches and between the two houses of Congress which seeks to compromise with each other to provide the best possible expression of Congress’ will.  Such a need for compromise between the branches lends itself to having control of the two elected branches being spilt between two parties necessitating compromise as opposed to single party control of both houses, where compromise can be pre-arranged to fit the aims of the executive. Therefore, Divided Government is an extra requirement to government, ensuring that powers are not concentrated to the detriment of Americans.  [1] Madison, James, ‘The Federalist No.51 The Structure of the Government Must Furnish the Proper Checks and Balances Between the Different Departments’, Independent Journal, 6 February 1788,' (Attempt 1/5): API error occurred: Status 429\n",
      "{\"object\":\"error\",\"message\":\"Rate limit exceeded\",\"type\":\"rate_limited\",\"param\":null,\"code\":\"1300\"}\n",
      "Retrying in 1 seconds...\n"
     ]
    },
    {
     "name": "stderr",
     "output_type": "stream",
     "text": [
      "Processing queries (generate or skip): 959it [14:48,  1.14it/s]"
     ]
    },
    {
     "name": "stdout",
     "output_type": "stream",
     "text": [
      "Error generating for query 'Growing partisanship  The current political climate makes divided government difficult anyway. The terms of debate in American politics is based on a perceived ‘culture war’ between liberals and conservatives over what it means to be American, something that has been exacerbated by 24-hour news and a proliferation of partisan blogging.  This makes agreements on core issues difficult to achieve and this has become apparent in recent years, with opposition to Barack Obama’s $1 trillion stimulus package helping to spawn the Tea Party movement [1] that has helped move the Republican Party to the right, making the compromise required for effective divided government unachievable. [2]  While it has been most noticeable recently the US political climate has been becoming more polarized for the last twenty-five years. This polarization helps to create gridlock and less public policy. [3] The stasis in Congress created by the dogmatic Republicans winning the House in the 2010 mid-terms shows how America’s political climate is now much more suited to Single-Party Government, allowing for much more effective decision making than divided government.  [1] Ferrara, Peter, ‘The tea Party Revolution’, The American Spectator, 15 April 2009,   [2] Rawls, Caroline, ‘Moderate Republicans Lament GOP Shift Further Right’, newsmax, 27 July 2011,   [3] McCarty, Nolan, ‘The Policy Consequences of Partisan Polarization in the United States’, bcep.haas.berkeley.edu/papers/McCarty.doc' (Attempt 1/5): API error occurred: Status 429\n",
      "{\"object\":\"error\",\"message\":\"Rate limit exceeded\",\"type\":\"rate_limited\",\"param\":null,\"code\":\"1300\"}\n",
      "Retrying in 1 seconds...\n"
     ]
    },
    {
     "name": "stderr",
     "output_type": "stream",
     "text": [
      "Processing queries (generate or skip): 966it [14:55,  1.24it/s]"
     ]
    },
    {
     "name": "stdout",
     "output_type": "stream",
     "text": [
      "Error generating for query 'North Korea is an irrational regime that is a strategic threat to numerous great powers  North Korea is an irrational and irresponsible regime that can’t simply be ignored. As the United States National Security Council spokesman Tonny Vietor said in response to the 12th December 2012 missile test “This action is yet another example of North Korea's pattern of irresponsible behavior.” As a power that is willing to defy international sanctions and resolutions such as “Resolution 1874, which demands the DPRK not to conduct \"any launch using ballistic missile technology\" and urges it to \"suspend all activities related to its ballistic missile programme\"” [1] it is essential that there is engagement to prevent the regime breaking more international norms.  It is impossible simply to ignore a regime with such a propensity to engage in provocative actions when it borders you, as is the case with China and Russia, or when it has tested missiles that can potentially hit targets 6000km away, so most of Asia, including numerous US bases. [2]  [1] ‘North Korea rocket: International reaction’, BBC News, 12 December 2012,   [2] ‘North Korea’s missile programme’, BBC News, 12 December 2012,' (Attempt 1/5): API error occurred: Status 429\n",
      "{\"object\":\"error\",\"message\":\"Rate limit exceeded\",\"type\":\"rate_limited\",\"param\":null,\"code\":\"1300\"}\n",
      "Retrying in 1 seconds...\n"
     ]
    },
    {
     "name": "stderr",
     "output_type": "stream",
     "text": [
      "Processing queries (generate or skip): 970it [14:59,  1.16it/s]"
     ]
    },
    {
     "name": "stdout",
     "output_type": "stream",
     "text": [
      "Error generating for query 'Celebrity involvement counters financial power to the benefit of the disenfranchised  Parties advocating policies that benefit the most financially powerful (big business etc.) are able to make large revenues from donations from wealthy business personalities involved in those industries.  Film and music stars tend towards the ‘liberal’ or ‘left’ wing of politics [1] . Consequently, in being prevented from exerting non-financial power (through endorsement) the different political parties are not equally affected: rather, you disproportionately punish the liberal parties. This is significant, given the necessity of a counter-balance to the power of big business (through donations – for example in the USA 90% of donations from mining and the automotive industry goes to the republicans [2] ) over our political system (which is not being similarly banned).  [1] Meyer, D., Gamson, J. ‘The Challenge of Cultural Elites: Celebrities and Social Movements’, Sociological Inquiry. Vol.65 No.2, 1995, pp.181-206  [2] Duffy, Robert J., ‘Business, Elections, and the Environment’, in Michael E. Kraft and Sheldon Kamieniecki, Business and Environmental Policy, 2007, pp.61-90, p.74,' (Attempt 1/5): API error occurred: Status 429\n",
      "{\"object\":\"error\",\"message\":\"Rate limit exceeded\",\"type\":\"rate_limited\",\"param\":null,\"code\":\"1300\"}\n",
      "Retrying in 1 seconds...\n"
     ]
    },
    {
     "name": "stderr",
     "output_type": "stream",
     "text": [
      "Processing queries (generate or skip): 976it [15:05,  1.23it/s]"
     ]
    },
    {
     "name": "stdout",
     "output_type": "stream",
     "text": [
      "Error generating for query 'Joining the Euro would reduce the cost of travel in Europe.  Before the arrival of the single currency, holiday makers would spend much money on preparing for the trip, before they had even bought a single souvenir or postcard; “travellers touring this fragmented continent could spend large amounts of their money simply changing it from one currency to another.”1 The loss incurred by currency conversion would be eliminated and accommodation abroad will also be cheaper and easier to book; “Joining the Euro will also make it cheaper to send money around Europe. Sending money to book a holiday cottage in another country with another currency can cost £40. Within Euroland, it would cost less than one Euro - much less than one pound.”2  1Browne, A., 2001, \"The Euro: Should Britain Join\". page 102  2Browne, A., 2001, \"The Euro: Should Britain Join\". page 103' (Attempt 1/5): API error occurred: Status 429\n",
      "{\"object\":\"error\",\"message\":\"Rate limit exceeded\",\"type\":\"rate_limited\",\"param\":null,\"code\":\"1300\"}\n",
      "Retrying in 1 seconds...\n"
     ]
    },
    {
     "name": "stderr",
     "output_type": "stream",
     "text": [
      "Processing queries (generate or skip): 981it [15:10,  1.17it/s]"
     ]
    },
    {
     "name": "stdout",
     "output_type": "stream",
     "text": [
      "Error generating for query 'The current austerity measures are not working  The Austerity measures put in place by the ECB, IMF and European Commission have led to nothing but misery for the Greek people. They have failed to cut down the total debt % GDP ratio and have also failed to increase the competitiveness of the Greek economy. This is because raising taxes and slashing the minimum wage has sent the economy deeper and deeper into recession. Unemployment is at a record high of 21% and there is a severe shortage of credit leading to severe difficulties in companies financing their day to day projects. What’s more, the country itself is plunged into depression. Escalated (inevitably) by the local and international media, the climate is one of despair and investment is at the bottom of anyone’s priorities. This further perpetuates the cycles of recession and prevents any of the austerity measures having their desired effect. Additionally, the drastic fall in GDP every quarter means that cuts in government spending are also not having their desired effect on reducing the budget deficit % GDP ratio. Worst of all, the economic hardships have drawn many people to despair and the suicide rates in Greece have dramatically risen over the last year and access to healthcare has drastically declined. [1] In this manner, the government is failing in fulfilling its most basic duties of safeguarding the lives and wellbeing of its citizens. If the current measures are not working then a new approach is needed. A default would alleviate much of the suffering caused by austerity.  [1] Armitsead, Louise: “Why Greece should default and exit the euro” 23 February 2012, The Telegraph,' (Attempt 1/5): API error occurred: Status 429\n",
      "{\"object\":\"error\",\"message\":\"Rate limit exceeded\",\"type\":\"rate_limited\",\"param\":null,\"code\":\"1300\"}\n",
      "Retrying in 1 seconds...\n"
     ]
    },
    {
     "name": "stderr",
     "output_type": "stream",
     "text": [
      "Processing queries (generate or skip): 988it [15:17,  1.21it/s]"
     ]
    },
    {
     "name": "stdout",
     "output_type": "stream",
     "text": [
      "Error generating for query 'It will reduce the power of special interest groups  A benefit of compulsory voting is that it makes it more difficult for special interest groups to vote themselves into power. Under a non-compulsory voting system, if fewer people vote then it is easier for smaller sectional interests and lobby groups to control the outcome of the political process. A notable example would be the disproportionate influence of agriculture in policy making as seen in both European politics and well as American with enormous amounts of subsidies for farmers who represent a minute percentage of the population. 1 2  The outcome of the election therefore reflects less the will of the people (Who do I want to lead the country?) but instead reflects who was logistically more organized and more able to convince people to take time out of their day to cast a vote (Do I even want to vote today?).  1 Ira M. Sheskin and Arnold Dashefsky, \"Jewish Population of the United States, 2006,\" in the American Jewish Year Book 2006, Volume 106, David Singer and Lawrence Grossman, Editors. NY: American Jewish Committee, 2006. 2: Mark Weber, Feb. 2009, 'A Straight Look at the Jewish Lobby', Institute for Historical Review (Accessed 10/06/2011)' (Attempt 1/5): API error occurred: Status 429\n",
      "{\"object\":\"error\",\"message\":\"Rate limit exceeded\",\"type\":\"rate_limited\",\"param\":null,\"code\":\"1300\"}\n",
      "Retrying in 1 seconds...\n"
     ]
    },
    {
     "name": "stderr",
     "output_type": "stream",
     "text": [
      "Processing queries (generate or skip): 1000it [15:29,  1.11it/s]"
     ]
    },
    {
     "name": "stdout",
     "output_type": "stream",
     "text": [
      "Error generating for query 'Developed countries have a greater responsibility to take in migrants  Developed countries have a responsibility to take in large numbers of migrants. There are several reasons for this. First they have a historical responsibility resulting from a legacy of colonialism, imperialism, and industrialisation that benefited the developed world at the expense of the developing world. This helped create the inequalities in the world that drive migration so developed countries should accept that a greater responsibility for migrants is the price.  Second developed countries have a much greater capacity to absorb migrants than developing countries. Developed countries have more jobs, and the ability to create more through using the state’s financial resources to increase investment. They already have the legal framework for large numbers of migrants; laws that ensure equality and fair treatment regardless of religion or ethnicity. And in many cases they already have sizeable migrant communities (with some exceptions such as Japan) that help create a culture of tolerance that embraces the diversity migrants bring.' (Attempt 1/5): API error occurred: Status 429\n",
      "{\"object\":\"error\",\"message\":\"Rate limit exceeded\",\"type\":\"rate_limited\",\"param\":null,\"code\":\"1300\"}\n",
      "Retrying in 1 seconds...\n"
     ]
    },
    {
     "name": "stderr",
     "output_type": "stream",
     "text": [
      "Processing queries (generate or skip): 1005it [15:34,  1.19it/s]"
     ]
    },
    {
     "name": "stdout",
     "output_type": "stream",
     "text": [
      "Error generating for query 'Collective bargaining has been recognised as an enforcable right  Collective bargaining is a right. If the state allows freedom of association, individuals will gather together and exchange their ideas and views as a natural consequence of this freedom. Further, free association and free expression allows groups to then select a representative to express their ideas in a way that the individuals in the group might not be able to. In preventing people from using this part of their right to assembly, we weaken the entire concept of the right to assembly. The point of the right to assembly is to allow the best possible representation for individuals. When a group of individuals are prevented from enjoying this right then it leads to those individuals feeling isolated from the rest of society who are able to enjoy this right.  This is particularly problematic in the case of public sector workers as the state that is isolating them also happens to be their employer. This hurts the way that people in the public sector view the state that ideally is meant to represent them above all as they actively contribute to the well being of the state.1  Bloomberg, Michael. “Limit Pay, Not Unions.” New York Times. 27/02/2011' (Attempt 1/5): API error occurred: Status 429\n",
      "{\"object\":\"error\",\"message\":\"Rate limit exceeded\",\"type\":\"rate_limited\",\"param\":null,\"code\":\"1300\"}\n",
      "Retrying in 1 seconds...\n"
     ]
    },
    {
     "name": "stderr",
     "output_type": "stream",
     "text": [
      "Processing queries (generate or skip): 1010it [15:39,  1.18it/s]"
     ]
    },
    {
     "name": "stdout",
     "output_type": "stream",
     "text": [
      "Error generating for query 'The New START treaty helps Russia more than the US  Not only does New START leave in place Russia’s extant tactical nuclear advantage but it has further loopholes for Russian weapons. As Mitt Romney argued in 2010: \"Does the treaty provide gaping loopholes that Russia could use to escape nuclear weapon limits entirely? Yes. For example, multiple warhead missile bombers are counted under the treaty as only one warhead. While we currently have more bombers than the Russians, they have embarked on new programs for long-range bombers and for air-launched nuclear cruise missiles. Thus, it is no surprise that Russia is happy to undercount missiles on bombers.\" [1]  New START also fails to limit rail-mobile intercontinental ballistic missiles (ICBMs), which Russia could potentially make use of. The definition of rail-mobile ICBM launchers was established in the expired START as “an erector-launcher mechanism for launching ICBMs and the railcar or flatcar on which it is mounted.” [2] This and associated restrictions and limitations in START, are not in the New START. This makes it possible for Russia to claim that any new Rail Mobile ICBMs are not subject to New START limitations. [3] Mitt Romney worries that Russia is already working to take advantage of these omissions: “As drafted, it lets Russia escape the limit on its number of strategic nuclear warheads. Loopholes and lapses -- presumably carefully crafted by Moscow -- provide a path to entirely avoid the advertised warhead-reduction targets. …. These omissions would be consistent with Russia's plans for a new heavy bomber and reports of growing interest in rail-mobile ICBMs.\" [4]  This means that under the treaty limits, the United States is the only country that must reduce its launchers and strategic nuclear weapons. Russia has managed to negotiate the treaty limits so that they simply restrict it to reductions it was already planning to do. As a result the United States is making what are effectively unilateral reductions. [5] Therefore, New START is an unequal treaty as it offers more to Russia than to the US. This is bad for the balance of power and thus bad for world peace, and so New START should be opposed.  [1] Romney, Mitt. \"Stop START.\" Boston.com. 3 December 2010.   [2] ‘Terms and Definitions’, The Treaty Between The United States Of America And The Union Of Soviet Socialist Republics On The Reduction And Limitation Of Strategic Offensive Arms And Associated Documents, 1991,   [3] Spring, Baker. \"Twelve Flaws of New START That Will Be Difficult to Fix\". Heritage Foundation, The Foundry. 16 September 2010.   [4] Romney, Mitt. \"Stop START.\" Boston.com. 3 December 2010.   [5] Romney, Mitt. \"Stop START.\" Boston.com. 3 December 2010.' (Attempt 1/5): API error occurred: Status 429\n",
      "{\"object\":\"error\",\"message\":\"Rate limit exceeded\",\"type\":\"rate_limited\",\"param\":null,\"code\":\"1300\"}\n",
      "Retrying in 1 seconds...\n"
     ]
    },
    {
     "name": "stderr",
     "output_type": "stream",
     "text": [
      "Processing queries (generate or skip): 1030it [15:59,  1.20it/s]"
     ]
    },
    {
     "name": "stdout",
     "output_type": "stream",
     "text": [
      "Error generating for query 'The role of PMCs has had a negative effect on traditional militaries and their operations.  Soldiers trained at high expense by the state may leave for the greater income of private employment, reducing the power of the state’s military and bolstering the attraction of PMCs. PMCs also have a much more relaxed, business-like attitude to conflict. Being unregulated gives them a freedom to work outside of the law to an extent, using illicit practices such as torture and bribery which goes unnoticed. However, these practices strengthen the morale and line the purses of “the enemy”, such as warlords or the Taliban in Afghanistan, putting the militaries they are fighting alongside in danger.' (Attempt 1/5): API error occurred: Status 429\n",
      "{\"object\":\"error\",\"message\":\"Rate limit exceeded\",\"type\":\"rate_limited\",\"param\":null,\"code\":\"1300\"}\n",
      "Retrying in 1 seconds...\n"
     ]
    },
    {
     "name": "stderr",
     "output_type": "stream",
     "text": [
      "Processing queries (generate or skip): 1038it [16:07,  1.18it/s]"
     ]
    },
    {
     "name": "stdout",
     "output_type": "stream",
     "text": [
      "Error generating for query 'Effective gun control is not achievable in democratic states with a tradition of civilian gun ownership  Much like the failure of the prohibition era to stop alcohol consumption, trying to restrict the use of guns that are already widely owned and prevalent in a society is an impossible task. [1]  The people who intend to use guns for illegitimate purposes are obviously unconcerned with the fact that it is illegal to acquire the guns in the first place in countries where this is already the case such as in the UK . [2] [3]  [1] Kates, Don B. ‘Why a Civil Libertarian Opposes Gun Control’. The Civil Liberties Review. June/July 1976   [2] The Independent. ‘Up to 4m guns in UK and police are losing the battle’. 4th September 2005.   [3] The Guardian. ‘Firearms: cheap, easy to get and on a street near you’ 30th August 2008.' (Attempt 1/5): API error occurred: Status 429\n",
      "{\"object\":\"error\",\"message\":\"Rate limit exceeded\",\"type\":\"rate_limited\",\"param\":null,\"code\":\"1300\"}\n",
      "Retrying in 1 seconds...\n"
     ]
    },
    {
     "name": "stderr",
     "output_type": "stream",
     "text": [
      "Processing queries (generate or skip): 1045it [16:14,  1.21it/s]"
     ]
    },
    {
     "name": "stdout",
     "output_type": "stream",
     "text": [
      "Error generating for query 'Seeing a politician put on trial hurts the integrity of their office.  It does tremendous damage to the public perception of a given political position to see the holder of that position on trial for criminal acts. Politicians are important role models for the populace at large, and shining light on everyone one of their misdeeds is not conducive to them playing such a role. This hurts the ability of their successors who, though completely innocent, are stepping into an institution now tainted with the image of corruption or scandal. Finally, the very process of prosecution can be damaging to the country, as citizens on opposing sides of the political spectrum disagree over the legitimacy of charges. These effects all deal real damage to the political institutions necessary for the functioning of the state.' (Attempt 1/5): API error occurred: Status 429\n",
      "{\"object\":\"error\",\"message\":\"Rate limit exceeded\",\"type\":\"rate_limited\",\"param\":null,\"code\":\"1300\"}\n",
      "Retrying in 1 seconds...\n"
     ]
    },
    {
     "name": "stderr",
     "output_type": "stream",
     "text": [
      "Processing queries (generate or skip): 1050it [16:19,  1.17it/s]"
     ]
    },
    {
     "name": "stdout",
     "output_type": "stream",
     "text": [
      "Error generating for query 'The ability to prosecute politicians is the ultimate protection against the abuse of power.  It is impossible to overstate the power that the threat of prosecution has to stay the hand of anyone, including a politician, from transgressing the laws of the state. In fact, we need more aggressive prosecution of politicians. Not a single person has been prosecuted for approval illegal torture or wiretapping. These are illegal actions actually happening which the populace, with only the blunt instrument of voting for or against a politician on the sum total of their policies, is unable to effectively influence. There is no greater deterrent that could be used against politicians.' (Attempt 1/5): API error occurred: Status 429\n",
      "{\"object\":\"error\",\"message\":\"Rate limit exceeded\",\"type\":\"rate_limited\",\"param\":null,\"code\":\"1300\"}\n",
      "Retrying in 1 seconds...\n"
     ]
    },
    {
     "name": "stderr",
     "output_type": "stream",
     "text": [
      "Processing queries (generate or skip): 1056it [16:25,  1.21it/s]"
     ]
    },
    {
     "name": "stdout",
     "output_type": "stream",
     "text": [
      "Error generating for query 'Avoids the costs and uncertainty of elections  It is hard to see what the benefit of an election that can change nothing is, but there are certainly all the costs associated with a normal election. Elections can be costly in financial terms, the United States elections cost several billion dollars but even much smaller and less extravagant elections need financing. Zimbabwe’s elections in 2013 forced the government to ask its neighbours for $85 million to carry out the polls, for a nation that is essentially bankrupt this is a lot of money. [1]  Another cost is uncertainty. In fully democratic elections the uncertainty is with what the policies will be when the government changes. With sham elections the uncertainty is whether the elections will be a focus for violence. Sometimes this is during campaigning itself as with Zimbabwe in 2008 where up to 200 people were killed. [2] Otherwise violence occurs when there is a perception that an election has been stolen so the Green Movement in Iran took to the streets and was met with a violent crackdown in 2009. [3]  [1] VOA News, ‘Zimbabwe Seeks Help to Cover Election Costs’, Voice of America, 10 July 2013,   [2] ‘Zimbabwe: No Justice for Rampant Killings, Torture’, Human Rights Watch, 8 March 2011,   [3] AFP, ‘Iran opposition says 72 killed in vote protests’, Google, 3 September 2009,' (Attempt 1/5): API error occurred: Status 429\n",
      "{\"object\":\"error\",\"message\":\"Rate limit exceeded\",\"type\":\"rate_limited\",\"param\":null,\"code\":\"1300\"}\n",
      "Retrying in 1 seconds...\n"
     ]
    },
    {
     "name": "stderr",
     "output_type": "stream",
     "text": [
      "Processing queries (generate or skip): 1061it [16:30,  1.22it/s]"
     ]
    },
    {
     "name": "stdout",
     "output_type": "stream",
     "text": [
      "Error generating for query 'Sham elections do not mean the elections have no influence or impact.  For an autocracy the election for the top job needs to be predetermined, but the other elections do not. This means that elections for the legislature can still be competitive. The seats do have some influence, provide patronage, and have status attached so there are plenty of people who want to contest them. In the Arab world before the Arab spring there was a less than 25% incumbency rate for legislatures. [1] Having elections that determine control in local areas or allow opposition some control in parliament is far preferable to the alternative where the government appoints everyone. Aung San Suu Kyi and the National League for Democracy in Burma have for example gained entry into Parliament and have despite being a minority had an impact. This has particularly been the case internationally. They have helped liberalise the new Foreign Investment Law and have encouraged more liberalised freedom of the press and association. [2]  [1] Lust, Ellen, ‘The Multiple Meanings of Elections In Non-Democratic Regimes: Breakdown, Response and Outcome in the Arab Uprisings’, Yale University, p.7.   [2] Turnell, Sean, ‘Myanmar has made a good start to economic reform’, East Asia Forum, 27 March 2013,' (Attempt 1/5): API error occurred: Status 429\n",
      "{\"object\":\"error\",\"message\":\"Rate limit exceeded\",\"type\":\"rate_limited\",\"param\":null,\"code\":\"1300\"}\n",
      "Retrying in 1 seconds...\n"
     ]
    },
    {
     "name": "stderr",
     "output_type": "stream",
     "text": [
      "Processing queries (generate or skip): 1066it [16:35,  1.26it/s]"
     ]
    },
    {
     "name": "stdout",
     "output_type": "stream",
     "text": [
      "Error generating for query 'Elected Mayors would attract the best candidates to run for office.  Elected mayors would allow talented individuals to make a difference, regardless of their party affiliation. The present system rewards long-serving and loyal party hacks rather than innovative managers, thinkers and leaders; polls show that the public think councillors put party politics above the needs of their community. Those who are most talented who are elected are simply using the council as a stepping stone for running for national office. If mayors were directly elected, local parties would have to find dynamic candidates with a proven ability to solve problems and manage big organisations, or risk such candidates running and winning as independents. This has already been shown to be the case in London where Ken Livingstone (who initially became Mayor as an independent) and Boris Johnson, both established and well known politicians, ran for Mayor, and in Birmingham where Lam Byrne, formally no.2 at the treasury, has expressed an interest in running. [1]  [1] BBC News, ‘Labour’s Liam Byrne wants to run for Birmingham mayor’, 30 March 2012.' (Attempt 1/5): API error occurred: Status 429\n",
      "{\"object\":\"error\",\"message\":\"Rate limit exceeded\",\"type\":\"rate_limited\",\"param\":null,\"code\":\"1300\"}\n",
      "Retrying in 1 seconds...\n"
     ]
    },
    {
     "name": "stderr",
     "output_type": "stream",
     "text": [
      "Processing queries (generate or skip): 1076it [16:45,  1.22it/s]"
     ]
    },
    {
     "name": "stdout",
     "output_type": "stream",
     "text": [
      "Error generating for query 'Unilateral action is burdensome, and dangerous.  POINT  The motion suggests that a particular government is imposing democracy, but in fact it is far better to try and encourage democracy multilaterally. Multilateral assistance, like the UN Democracy Fund which seeks to \"strengthen the voice of civil society, promote human rights, and encourages the participation of all groups in the democratic process\"1, is better, because it makes the support seem less political and colonial, and more honest. By using the international community to encourage democracy in a given country, we increase the chances of the people in that country respecting and supporting our attempts, rather than viewing them with suspicion2.  1 United Nations Democracy Fund, 'About UNDEF', 2010,  2 Doyle , Michael. \"Promoting Democracy is Not Imposing Democracy.\" The Huffington Post.' (Attempt 1/5): API error occurred: Status 429\n",
      "{\"object\":\"error\",\"message\":\"Rate limit exceeded\",\"type\":\"rate_limited\",\"param\":null,\"code\":\"1300\"}\n",
      "Retrying in 1 seconds...\n"
     ]
    },
    {
     "name": "stderr",
     "output_type": "stream",
     "text": [
      "Processing queries (generate or skip): 1083it [16:52,  1.18it/s]"
     ]
    },
    {
     "name": "stdout",
     "output_type": "stream",
     "text": [
      "Error generating for query 'Reform would strengthen the House of Lords  Reform of the House of Lords would strengthen the legitimacy of the house and therefore improve its functions. By electing the second chamber they would gain the legitimacy to not simply stall bills but reject them all together or drafts bills of their own, thus facilitating a more dynamic government, able to change. Using a different electoral technique, for example Proportional Representation with members sitting for longer periods would allow them to still be of a different composition to the House of Commons and not sway to short-term political popularity. Electing different portions at different times would also guard against a freak landslide result affecting the house’s balance. By creating a worthy opposition to the House of Commons all issues would be debated and decided upon more fairly and government would be more closely monitored.' (Attempt 1/5): API error occurred: Status 429\n",
      "{\"object\":\"error\",\"message\":\"Rate limit exceeded\",\"type\":\"rate_limited\",\"param\":null,\"code\":\"1300\"}\n",
      "Retrying in 1 seconds...\n"
     ]
    },
    {
     "name": "stderr",
     "output_type": "stream",
     "text": [
      "Processing queries (generate or skip): 1090it [16:59,  1.13it/s]"
     ]
    },
    {
     "name": "stdout",
     "output_type": "stream",
     "text": [
      "Error generating for query 'Transparency prevents public relations disasters  Transparency is necessary to avoid public relations disasters; particularly in countries where the media has some freedom to investigate for themselves. It is clearly the best policy for the military to make sure all the information is released along with the reasons behind actions rather than having the media finding individual pieces of a whole and speculating to fill the gaps.  A good example would be a collision on 16th January 1966 between a B-52 bomber and a KC-135 tanker while attempting to refuel that destroyed both planes. Accidents happen, and this one cost 11 lives, but could have been much worse as the B-52 had four nuclear bombs on board were not armed and did not detonate. In this case an initial lack of information rapidly turned into a public relations disaster that was stemmed by much more openness by the military and the US Ambassador in Spain. The release of the information reduces the room for the press to fill in the gaps with harmful speculation. [1] In this case there was never much chance of national security implications or a break with Spain as the country was ruled by the dictator Franco, someone who would hardly pay attention to public opinion. But in a democracy a slow and closed response could seriously damage relations.  [1] Stiles, David, ‘A Fusion Bomb over Andalucia: U.S. Information Policy and the 1966 Palomares Incident’, Journal of War Studies, Vol.8, No.1, Winter 2006, pp.49-67, p.65' (Attempt 1/5): API error occurred: Status 429\n",
      "{\"object\":\"error\",\"message\":\"Rate limit exceeded\",\"type\":\"rate_limited\",\"param\":null,\"code\":\"1300\"}\n",
      "Retrying in 1 seconds...\n"
     ]
    },
    {
     "name": "stderr",
     "output_type": "stream",
     "text": [
      "Processing queries (generate or skip): 1101it [17:10,  1.12it/s]"
     ]
    },
    {
     "name": "stdout",
     "output_type": "stream",
     "text": [
      "Error generating for query 'The creation of the post of a High Representative marked an important change in the EU.  The creation of a post of High Representative and Vice President of the Commission (HRVP) marks an important change in the decision making process at the EU level with regards to foreign policy. Agreement on the post showed a clear commitment to the pursuit of a common EU foreign policy and to developing a unique cooperative model for foreign and defense policy decision making that goes beyond the nation state. Member states should now deliver on that commitment by seeking as much common ground as possible to ensure that the High Representative’s role is truly significant. The goal of a common foreign and security policy should thus be supported not only as a mechanism to streamline EU’s position and role in world politics, but also to reinforce notions of cooperation and consultation essential for maintaining a stable international system, in line with the stated goals of the EU. (The 12 stars in a circle is meant to symbolize the ideals of unity, solidarity and harmony among the peoples of Europe)1.  1 Europa.eu, 'Symbols',accessed 1/8/11' (Attempt 1/5): API error occurred: Status 429\n",
      "{\"object\":\"error\",\"message\":\"Rate limit exceeded\",\"type\":\"rate_limited\",\"param\":null,\"code\":\"1300\"}\n",
      "Retrying in 1 seconds...\n"
     ]
    },
    {
     "name": "stderr",
     "output_type": "stream",
     "text": [
      "Processing queries (generate or skip): 1108it [17:17,  1.12it/s]"
     ]
    },
    {
     "name": "stdout",
     "output_type": "stream",
     "text": [
      "Error generating for query 'An independent Scotland has enormous economic potential to join other small European nations, especially as a leader in technology and renewable energy  Many of Scotland’s problems are grounded in the fact that its potential has consistently been held back. Because the focus for economic development from a Westminster perspective has focused for generations on North Sea oil and the coal fields of Lanarkshire, huge opportunities were missed and the best and the brightest tended be dragged down south for jobs worthy of their skills.  Even with the limited powers allowed by devolution a burgeoning life-sciences sector, a growing IT sector in silicon glen are adding to the traditional industries. Since 2003 Scotland has generally had faster economic growth than the UK with 13% during the period from 2003-2007 compared to the UK’s 11.4%. [i] Independence would stretch people still further.  [i] CPPR Centre for Public Policy for Regions, ‘The changing pattern of Scotland’s economic growth since Devolution’, CPPR Briefing Note, June 2011,' (Attempt 1/5): API error occurred: Status 429\n",
      "{\"object\":\"error\",\"message\":\"Rate limit exceeded\",\"type\":\"rate_limited\",\"param\":null,\"code\":\"1300\"}\n",
      "Retrying in 1 seconds...\n"
     ]
    },
    {
     "name": "stderr",
     "output_type": "stream",
     "text": [
      "Processing queries (generate or skip): 1115it [17:24,  1.21it/s]"
     ]
    },
    {
     "name": "stdout",
     "output_type": "stream",
     "text": [
      "Error generating for query 'Prohibition is counterproductive  As tempting as it is to feel that banning is the solution to problems, it doesn’t work. Almost all states prohibits certain drugs, but that does not stop them being used. [1] Despite being banned in Ghana, skin whitening creams are still openly advertised on billboards [2] .  Counterfeit cosmetics of all types exist worldwide [3] , they are illegal for a variety of reasons, not least intellectual property abuse: banning skin lighting creams would simply give more space to the counterfeits. A ban could lead users towards either a homemade substance, or pills and injections which would almost certainly be more damaging as a result of a lack of regulation.  [1] See the Debatabase debate ‘ This House supports the legalisation of drugs’  [2] Al Jazeera English, “The Stream: Fair Beauty”, YouTube, 22 August 2013,  , roughly 18 minutes in  [3] RIA Novosti, “Counterfeit cosmetics: Turning beauties in to beasts”, RT, 08 November 2010,' (Attempt 1/5): API error occurred: Status 429\n",
      "{\"object\":\"error\",\"message\":\"Rate limit exceeded\",\"type\":\"rate_limited\",\"param\":null,\"code\":\"1300\"}\n",
      "Retrying in 1 seconds...\n"
     ]
    },
    {
     "name": "stderr",
     "output_type": "stream",
     "text": [
      "Processing queries (generate or skip): 1121it [17:30,  1.24it/s]"
     ]
    },
    {
     "name": "stdout",
     "output_type": "stream",
     "text": [
      "Error generating for query 'There are too many advertisements in everyday life.  The sheer volume of advertising in our society is incredible. You cannot watch television, ride on a bus or even walk down the street without someone trying to sell you something or inform you of something. Recent research suggests people living in a city today sees up to 5,000 advertisements a day1. 50% of those surveyed said they thought 'advertising today was out of control'1. People shouldn't have to go about their lives having their minds saturated with such a vast quantity of, in most cases, redudant and profiteering information. They should be able to go about their daily lives in peace without being forced to watch, listen or view an advertisement.  1 Anywhere the Eye Can See, It's Likely to See an Ad. New York Times.' (Attempt 1/5): API error occurred: Status 429\n",
      "{\"object\":\"error\",\"message\":\"Rate limit exceeded\",\"type\":\"rate_limited\",\"param\":null,\"code\":\"1300\"}\n",
      "Retrying in 1 seconds...\n"
     ]
    },
    {
     "name": "stderr",
     "output_type": "stream",
     "text": [
      "Processing queries (generate or skip): 1126it [17:35,  1.22it/s]"
     ]
    },
    {
     "name": "stdout",
     "output_type": "stream",
     "text": [
      "Error generating for query 'Advertisements promote healthy products and lifestyles.  Advertising is used to promote healthy activities, products and lifestyles and is further regulated to ensure that unhealthy products are not promoted. The School Food Trust in Britain, for example, used celebrities in advertisements to promote healthy eating in 20071. Furthermore, adverts which promote seriously unhealthy things are becoming very rare. Cigarette advertising is all but extinct, and alcohol adverts are being more restricted. With adverts such as fast food we see as well that companies are changing their message to promote healthier options. This is because it is bad for businesses to be viewed as harming children. Public pressure and successful regulation will always bring any advertising problems back under control.  1 Schools Food Trust uses celebs to promote healthy eating. Campaign Live.' (Attempt 1/5): API error occurred: Status 429\n",
      "{\"object\":\"error\",\"message\":\"Rate limit exceeded\",\"type\":\"rate_limited\",\"param\":null,\"code\":\"1300\"}\n",
      "Retrying in 1 seconds...\n"
     ]
    },
    {
     "name": "stderr",
     "output_type": "stream",
     "text": [
      "Processing queries (generate or skip): 1132it [17:41,  1.19it/s]"
     ]
    },
    {
     "name": "stdout",
     "output_type": "stream",
     "text": [
      "Error generating for query 'Restriction based on social disgust prevents socially liberal ideas from flourishing  Great, socially liberal movements have always been controversial, and always been supported, encouraged and propagated by art. Art is a realm wherein an artist’s expression is less limited by social structures (like the necessity of pleasing your box; of being ‘commercially viable’). Subsequently it has easily, and often, been utilised as a means of changing public opinion.  Some of these movements, for example, the breaking down of stereotypes and norms surrounding sexuality (in particular female sexuality) and gender that Sarah Lucas, Tracey Emin and others contributed to in the liberalising 80s and 90s, attract social disgust. In any situation where a taboo is being attacked, this will happen. The converse however, is not the case: it is almost impossible to provoke social disgust by maintaining the status quo.  As a result, restriction of art that provokes social disgust will disproportionately attack the socially liberal, and thus help to maintain the status quo, regardless of whether it is worthy of such protection.' (Attempt 1/5): API error occurred: Status 429\n",
      "{\"object\":\"error\",\"message\":\"Rate limit exceeded\",\"type\":\"rate_limited\",\"param\":null,\"code\":\"1300\"}\n",
      "Retrying in 1 seconds...\n"
     ]
    },
    {
     "name": "stderr",
     "output_type": "stream",
     "text": [
      "Processing queries (generate or skip): 1142it [17:51,  1.17it/s]"
     ]
    },
    {
     "name": "stdout",
     "output_type": "stream",
     "text": [
      "Error generating for query 'Women have a right to be free of stereotyping.  Women's rights to be free from stereotyping, prejudice, discrimination and objectification should be a matter of deep concern as they infringe on human rights related to gender. Advertising messages influence younger generations as well as send stereotypical images of men. As a result the objectification and violence against women will continue. Gender inequality and sexual harassment in the work place is not likely to diminish.1 This means that women will continue to suffer from discrimination based upon their gender. 1 Newswise.com, \"Study Find Rise in Sexualized Images of Women.\" 2010' (Attempt 1/5): API error occurred: Status 429\n",
      "{\"object\":\"error\",\"message\":\"Rate limit exceeded\",\"type\":\"rate_limited\",\"param\":null,\"code\":\"1300\"}\n",
      "Retrying in 1 seconds...\n"
     ]
    },
    {
     "name": "stderr",
     "output_type": "stream",
     "text": [
      "Processing queries (generate or skip): 1148it [17:57,  1.16it/s]"
     ]
    },
    {
     "name": "stdout",
     "output_type": "stream",
     "text": [
      "Error generating for query 'Any changes in advertising should come from businesses themselves rather than through banning.  Banning requires a legal framework and enforcement mechanism. External organizations interfere with the ability of business to conduct business. Should the social cultural environment change, businesses are likely to respond to the attitudes of their consumers. A recent change in the California Milk Board's website occurred due to public pressure.1 Social corporate responsibility is another possibility which business could embrace if changing social attitudes develop.2Banning is a repressive method which interferes with competition. Self determined methods should be allowed to competitors in the economic marketplace. Therefore, any changes in advertising should come from the business community rather than through banning. 1 Kumar, Sheila. \"Milk Board Alters Sexist PMS-Themed Ad Campaign.\" The Huffington Post. 2011/July 22. 2 Skibola, Nicole. \"Gender and Ethics in Advertising: The New CSR.\" Forbes.com. 2011/August 4' (Attempt 1/5): API error occurred: Status 429\n",
      "{\"object\":\"error\",\"message\":\"Rate limit exceeded\",\"type\":\"rate_limited\",\"param\":null,\"code\":\"1300\"}\n",
      "Retrying in 1 seconds...\n"
     ]
    },
    {
     "name": "stderr",
     "output_type": "stream",
     "text": [
      "Processing queries (generate or skip): 1169it [18:18,  1.31it/s]"
     ]
    },
    {
     "name": "stdout",
     "output_type": "stream",
     "text": [
      "Error generating for query 'Bilingual education hurts students  Bilingual education segregates students in its system from those outside it. This limits the opportunities for interaction.  This is harmful in a number of ways. For one thing, it limits their interaction with peers who will speak English. While it’s possible they may practice English with their friends in a bilingual school, it seems unlikely, as it would be easier to talk in the existing language.  Furthermore, it also limits the exposure of English-speaking students to immigrants who don’t speak English, allowing negative stereotypes to arise out of ignorance that then can influence governmental policy through the ballot box.  Finally, this segregation may extend to within bilingual schools themselves, since not everyone seeking bilingual education has the same non-English language. The result might well be that students would group socially into groups based on country of origin, and due to simple demographics this would place the Spanish-speaking students at a significant advantage as there are nearly 30 million of them in the country. This polarization in turn could lead to splits between minority language groups that could reduce their overall social capital.' (Attempt 1/5): API error occurred: Status 429\n",
      "{\"object\":\"error\",\"message\":\"Rate limit exceeded\",\"type\":\"rate_limited\",\"param\":null,\"code\":\"1300\"}\n",
      "Retrying in 1 seconds...\n"
     ]
    },
    {
     "name": "stderr",
     "output_type": "stream",
     "text": [
      "Processing queries (generate or skip): 1178it [18:27,  1.09it/s]"
     ]
    },
    {
     "name": "stdout",
     "output_type": "stream",
     "text": [
      "Error generating for query 'Reparations and the use of the term 'cultural appropriation' is a mask for more deep-rooted issues of racism in society.  The use of compensation as a means of redress for cultural appropriation doesn’t tackle the root problems that are expressed. The problems given as examples of cultural appropriation, like a Caucasian person wearing their hair in dreadlocks- a style that has meaning and historic prejudice to the afro-Caribbean community is redirecting attention and division. The individuals wearing their hair in this fashion however are not the problem. Demanding compensation from them 'does not challenge racism in any meaningful way' [1]. Instead targeting and punishing those who actively discriminate against those with the dreadlock style of hair is more effective and encourages equality.  [1] Malik, Kenan, ‘The Bane of Cultural Appropriation’, AlJazeera, 14th April 2016,' (Attempt 1/5): API error occurred: Status 429\n",
      "{\"object\":\"error\",\"message\":\"Rate limit exceeded\",\"type\":\"rate_limited\",\"param\":null,\"code\":\"1300\"}\n",
      "Retrying in 1 seconds...\n"
     ]
    },
    {
     "name": "stderr",
     "output_type": "stream",
     "text": [
      "Processing queries (generate or skip): 1185it [18:34,  1.16it/s]"
     ]
    },
    {
     "name": "stdout",
     "output_type": "stream",
     "text": [
      "Error generating for query 'The storing and sale of personal data aids companies by making marketing more efficient and allows niche markets to thrive  Businesses have been able to use consumers’ personal information to produce far better, more efficient, and more targeted advertising. Traditionally advertisement has been used to reach mass markets and has thus been used mostly as a blunt instrument, targeting the largest and wealthiest demographics in order to get the most efficient use of scarce advertising budgets. The focus on large markets has often left smaller, more niche, markets by the wayside. [1] Yet with the advent of the internet, targeted marketing, and data collection services, firms have been able to create whole new markets that cater to less homogenous needs and wants. The result has been a Renaissance of specialty manufacturers and service providers that could never arise if it were not for the collection of personal consumer data. By targeting their advertising, firms have been able to scale back on the broader advertising, making the whole endeavour less costly and more efficient. On the broader level, companies are able to utilize the vast amounts of individual data compiled to allow them to determine broader changes in society’s consumer desires, to establish aggregate trends. [2] E-commerce accounts for more than $300 billion in the US. This information gathering makes all businesses more responsive to consumer demands and to cause them to change their offered services and products far more swiftly, to the benefit of all consumers. Businesses have thus been able to flourish that might once have languished without access to a means of accessing their market or been unable to change with changing tastes. Because of the proliferation of personal information aggregation we can enjoy a far more efficient business world, with lots of producers that can compete with the larger mainstream on a more even footing, and a mainstream that is more able to meet the ever-changing demand structure of consumers.  [1] Columbus Metropolitan Library. “Using Demographics to Target Your Market”. 2012.' (Attempt 1/5): API error occurred: Status 429\n",
      "{\"object\":\"error\",\"message\":\"Rate limit exceeded\",\"type\":\"rate_limited\",\"param\":null,\"code\":\"1300\"}\n",
      "Retrying in 1 seconds...\n"
     ]
    },
    {
     "name": "stderr",
     "output_type": "stream",
     "text": [
      "Processing queries (generate or skip): 1190it [18:39,  1.23it/s]"
     ]
    },
    {
     "name": "stdout",
     "output_type": "stream",
     "text": [
      "Error generating for query 'Open source software undermines national security.  Even if closed source software firms are ultimately answerable to their shareholders, their shareholders want them to produce software which meets the needs of their customers so that they can sell their products. That is why Microsoft has offered a cheap version of Windows Vista to developing nations, and has been willing to cut the price of its software in negotiations with governments around the world.  More worrying than the burden that closed source software places on a government’s coffers is the threat that open source software presents to a state’s security.  By definition, the code for open source software is freely available. However, the continual attempts to hack into government computer systems demonstrate that many of the same hackers are now moving beyond mere targets of opportunity. Hackers could well take advantage of the increasing ubiquity of open source code to attack national computer systems.  The additional security that open source software claims to benefit from is an illusion. Rather, it is the lack of ubiquitous open source platforms that has kept OSs such as Linux and BSD safe from attack. The possibility that an might yield some form of a reward is reduced when a hacker is presented with fewer viable targets.  Although open source code may give ethical and honest coders more opportunities to spot the flaws in programmes, it also incentivises hackers to invest their efforts in spotting such flaws first.' (Attempt 1/5): API error occurred: Status 429\n",
      "{\"object\":\"error\",\"message\":\"Rate limit exceeded\",\"type\":\"rate_limited\",\"param\":null,\"code\":\"1300\"}\n",
      "Retrying in 1 seconds...\n"
     ]
    },
    {
     "name": "stderr",
     "output_type": "stream",
     "text": [
      "Processing queries (generate or skip): 1198it [18:47,  1.21it/s]"
     ]
    },
    {
     "name": "stdout",
     "output_type": "stream",
     "text": [
      "Error generating for query 'It is better to monitor riots through the social media rioters are using  It is wrong to suggest that social networks only provide advantages to the rioters in a riot. Many of the networks that can be used are open to the public and even where they are not as with blackberry messenger the police and intelligence services can likely gain access. This means that the police can also benefit from rioters use of social networks. Allowing the rioters to communicate can help the police to track what the rioters are doing and potentially to intercept any plans before they can be put into action. The same logic is used with websites that promote extremist ideologies; it is often better to monitor them for the intelligence they provide. The police already monitor protest groups in this way during demonstrations and even use it to help police impromptu raves so will surely apply it to riots. [1] Yet the social media is useful in other ways, particularly after the rioting it can be used to work out who was involved and to provide evidence against them so making the police much more efficient at catching and charging rioters.  [1] Rawlinson, K., “Activists warned to watch what they say as social media monitoring becomes 'next big thing in law enforcement”, The Independent, 1 October 2012,' (Attempt 1/5): API error occurred: Status 429\n",
      "{\"object\":\"error\",\"message\":\"Rate limit exceeded\",\"type\":\"rate_limited\",\"param\":null,\"code\":\"1300\"}\n",
      "Retrying in 1 seconds...\n"
     ]
    },
    {
     "name": "stderr",
     "output_type": "stream",
     "text": [
      "Processing queries (generate or skip): 1204it [18:53,  1.17it/s]"
     ]
    },
    {
     "name": "stdout",
     "output_type": "stream",
     "text": [
      "Error generating for query 'Internet regulation is an attempt by big interest groups to regulate the internet in their favour  Large companies have an active interest in shaping the structure of the internet. One example of this is the Stop Online Piracy-Act (SOPA), [1] wherein U.S.-based music and movie companies proposed that they themselves would be able to police copyright infringements against websites that are hosted outside of the United States. [2]  The phenomenon whereby companies succeed in shaping government policies according to their own wishes is called ‘regulatory capture’. Another example from the telecommunications industry is the lobby effort by several large corporations, who have succeeded in eroding consumer protection in their favour. [3] If the government wouldn’t have been involved in regulating the internet in the first place, big companies wouldn’t have had any incentive to attempt regulatory capture.  [1] 112th Congress, ‘H.R.3261 – Stop Online Piracy Act’  [2] Post, ‘SOPA and the Future of Internet Governance’, 2012  [3] Kushnick, ‘ALEC, Tech and the Telecom Wars: Killing America's Telecom Utilities’, 2012' (Attempt 1/5): API error occurred: Status 429\n",
      "{\"object\":\"error\",\"message\":\"Rate limit exceeded\",\"type\":\"rate_limited\",\"param\":null,\"code\":\"1300\"}\n",
      "Retrying in 1 seconds...\n"
     ]
    },
    {
     "name": "stderr",
     "output_type": "stream",
     "text": [
      "Processing queries (generate or skip): 1211it [19:00,  1.22it/s]"
     ]
    },
    {
     "name": "stdout",
     "output_type": "stream",
     "text": [
      "Error generating for query 'Google will help Chinese internet freedom more by staying  As Google itself argued in 2006 when it first entered the Chinese domestic market; when Google is fully present in China, it can at least do its very best to allow its Chinese users as much access to all the information that Chinese users are allowed to look up. By expanding their access, Google can at least contribute to a broadening of the amount of information Chinese internet users can gather. The alternative is them relying on an even more censored Chinese search engine called Baidu, or having them try to access a heavily blocked, slowed down, restricted and monitored version of Google outside of China, for example google.com or the Hong Kong-based Google.com.hk. Having a locally accessible version of Google that is censored might not be optimal, but it’s better than nothing. [1]  [1] Karen Wickre, ‘Testimony: The Internet in China’, February 15, 2006. URL:  Last consulted: December 22, 2011' (Attempt 1/5): API error occurred: Status 429\n",
      "{\"object\":\"error\",\"message\":\"Rate limit exceeded\",\"type\":\"rate_limited\",\"param\":null,\"code\":\"1300\"}\n",
      "Retrying in 1 seconds...\n"
     ]
    },
    {
     "name": "stderr",
     "output_type": "stream",
     "text": [
      "Processing queries (generate or skip): 1218it [19:07,  1.19it/s]"
     ]
    },
    {
     "name": "stdout",
     "output_type": "stream",
     "text": [
      "Error generating for query 'The graduated response is a violation of the basic right to due process  Detection of copyright infringement isn’t usually done by a detective sitting behind a computer. It relies on software like automated crawlers and fingerprinting, often created by commercial vendors and hired by the copyright holders. This software automatically sends detected infringements to the ISP, without someone actually checking if this allegation is correct. This means many consumers can be unjustly accused of copyright infringement.  Moreover, most graduated response policies proposed require no judicial intervention at all for the sanction to be invoked. This means private organisations get to decide who has committed a crime and deserves the punishment. The ISPs and copyright holders therefore act as accuser, prosecution, judge and executioner. On top of this if a consumer would go to court, he would also face a reversal of the burden of proof: since he is suing against being fined, he has to prove that he is not guilty, a reversal of the presumption of innocence. [1]  [1] Peter K. Yu, ‘The Graduated Response’. 2010. Florida Law Review, Volume 62. Available for download (PDF) at:' (Attempt 1/5): API error occurred: Status 429\n",
      "{\"object\":\"error\",\"message\":\"Rate limit exceeded\",\"type\":\"rate_limited\",\"param\":null,\"code\":\"1300\"}\n",
      "Retrying in 1 seconds...\n"
     ]
    },
    {
     "name": "stderr",
     "output_type": "stream",
     "text": [
      "Processing queries (generate or skip): 1224it [19:13,  1.10it/s]"
     ]
    },
    {
     "name": "stdout",
     "output_type": "stream",
     "text": [
      "Error generating for query 'Internet access cannot be a human right when it is not available to all.  If human rights are inalienable and inherent in humans then no technology can be a human right as not everyone can ever expect access all of the time. Certainly at the moment huge swathes of the world have no internet access and this does not mean that their governments are violating their human rights.  The analogy might be given to freedom of movement. Freedom of movement is a human right however we don’t need the aid of a car to be able to exercise this right the technology itself is unnecessary as we have an inherent ability to move just as we do to communicate.' (Attempt 1/5): API error occurred: Status 429\n",
      "{\"object\":\"error\",\"message\":\"Rate limit exceeded\",\"type\":\"rate_limited\",\"param\":null,\"code\":\"1300\"}\n",
      "Retrying in 1 seconds...\n"
     ]
    },
    {
     "name": "stderr",
     "output_type": "stream",
     "text": [
      "Processing queries (generate or skip): 1230it [19:19,  1.20it/s]"
     ]
    },
    {
     "name": "stdout",
     "output_type": "stream",
     "text": [
      "Error generating for query 'No one will ever actually look at the information  If the concern is privacy then there really should be little concern at all because there is safety in numbers. The NSA and other intelligence services don’t have the time or motivation to be tracking down all of our foibles. [1] If the intelligence agencies are watching everyone then they clearly do not have the personnel to be watching the actual communications. Instead certain things or patterns will raise alarm bells and a tiny number will be investigated more closely.  [1] Walt, Stephen M., ‘The real threat behind the NSA surveillance programs’, Foreign Policy, 10 June 2013,' (Attempt 1/5): API error occurred: Status 429\n",
      "{\"object\":\"error\",\"message\":\"Rate limit exceeded\",\"type\":\"rate_limited\",\"param\":null,\"code\":\"1300\"}\n",
      "Retrying in 1 seconds...\n"
     ]
    },
    {
     "name": "stderr",
     "output_type": "stream",
     "text": [
      "Processing queries (generate or skip): 1237it [19:26,  1.19it/s]"
     ]
    },
    {
     "name": "stdout",
     "output_type": "stream",
     "text": [
      "Error generating for query 'Privacy  This was the clinching argument in the Dutch example. Labour MP Martijn van Dam, one of the bill’s co-authors said that Dutch ISP KPN was similar to “a postal worker who delivers a letter, looks to see what’s in it and then claims he hasn’t read it. It is simply a basic principle of the Internet that for it to continue working as it does now, all data needs to be treated the same otherwise judgements will be formed on ‘right’ and ‘wrong’ data [i] .  The principle here is that the data being used is simply none of the ISPs business. Their job is simply to provide an agreed bandwidth, at an agreed price to the end user. How the end user makes use of that band width is up to them. If, for example, they’re choosing to Skype from a mobile device – one of the points of contention – it’s hard to see what that has to do with the ISP.  [i] PCWorld. Matthew Honan, MacWorld. “Inside Net Neutrality: Privacy and BitTorrent. 14 February 2008.' (Attempt 1/5): API error occurred: Status 429\n",
      "{\"object\":\"error\",\"message\":\"Rate limit exceeded\",\"type\":\"rate_limited\",\"param\":null,\"code\":\"1300\"}\n",
      "Retrying in 1 seconds...\n"
     ]
    },
    {
     "name": "stderr",
     "output_type": "stream",
     "text": [
      "Processing queries (generate or skip): 1245it [19:34,  1.27it/s]"
     ]
    },
    {
     "name": "stdout",
     "output_type": "stream",
     "text": [
      "Error generating for query 'The God hypothesis is unnecessary  Science provides us with the tools to form a comprehensive view of the Universe which does not include a supernatural being. From Galileo to Darwin to the modern day, scientists have continually uncovered the true natural mechanisms behind the creation and evolution of the universe. There are no gaps left for God to act in [1] - science has revealed a closed natural order governed by natural laws. Brain science has shown that there is not a ‘soul’ but that all our mental states are simply caused by brain activity. There is, therefore, no reason to believe in life after death - one of the main tenets of religious belief.  [1] Bube, Richard H, ‘Man Come of Age: Bonhoeffer’s Response to the God-of-the-gaps’, Journal of the Evangelical Theological Society,  , p.207' (Attempt 1/5): API error occurred: Status 429\n",
      "{\"object\":\"error\",\"message\":\"Rate limit exceeded\",\"type\":\"rate_limited\",\"param\":null,\"code\":\"1300\"}\n",
      "Retrying in 1 seconds...\n"
     ]
    },
    {
     "name": "stderr",
     "output_type": "stream",
     "text": [
      "Processing queries (generate or skip): 1249it [19:38,  1.19it/s]"
     ]
    },
    {
     "name": "stdout",
     "output_type": "stream",
     "text": [
      "Error generating for query 'Revealed wisdom  Godly wisdom is not the same as human wisdom and cannot be subject to the same criticism. The nature of humanity means that our ability to understand God’s wisdom is fundamentally limited; and thus arguments based on morality or science are irrelevant – what matters is that God has revealed Himself.' (Attempt 1/5): API error occurred: Status 429\n",
      "{\"object\":\"error\",\"message\":\"Rate limit exceeded\",\"type\":\"rate_limited\",\"param\":null,\"code\":\"1300\"}\n",
      "Retrying in 1 seconds...\n"
     ]
    },
    {
     "name": "stderr",
     "output_type": "stream",
     "text": [
      "Processing queries (generate or skip): 1266it [19:55,  1.25it/s]"
     ]
    },
    {
     "name": "stdout",
     "output_type": "stream",
     "text": [
      "Error generating for query 'Poor families would be helped far more by investment in education and healthcare  This has been an urban and political obsession from the outset. The idea that the hungry and homeless need condoms more than food and shelter is clearly absurd. The poor would be better helped through “accessible education, better hospitals and lesser government corruption.” [i] Rather than interfering in the moral life of the nation, parliamentarians would be better exercised in tackling these concerns.  This issue has consumed political energy for over a decade and received massive national and international attention and yet there are far more pressing concerns for the nation – and its political leaders.  Instead this bill, which carries the marks of both political and moral corruption has been the main focus of the president and congress. At the very least this suggests a questionable sense of priority, at worst a gross lack of interest in the welfare of the Filipino people.  [i] Villegas, Socrates B., ‘Contraception is Corruption!’, CBCP News, 15 December 2012,' (Attempt 1/5): API error occurred: Status 429\n",
      "{\"object\":\"error\",\"message\":\"Rate limit exceeded\",\"type\":\"rate_limited\",\"param\":null,\"code\":\"1300\"}\n",
      "Retrying in 1 seconds...\n"
     ]
    },
    {
     "name": "stderr",
     "output_type": "stream",
     "text": [
      "Processing queries (generate or skip): 1274it [20:03,  1.17it/s]"
     ]
    },
    {
     "name": "stdout",
     "output_type": "stream",
     "text": [
      "Error generating for query 'Many symbols are seen as a symbol of oppression on women.  Religious symbols are seen to, in some cases, increase the equality divide between genders. As an example, the Muslim Hijab is considered by some as a very powerful symbol for the oppression of women, particularly in countries such as Saudi Arabia or Afghanistan where it is compulsory. Therefore, when it is worn in Western countries that encourage democracy and equality, the wearing of the Hijab is seen as almost counter-productive to the goals of democratic society. For this reason Belgium has recently banned the wearing of the full Muslim veil, much like France in 2010.1 Often Muslim dress rules for women are seen as more severe than those for men. Inequality between men and women is a form of discrimination and liberal societies should fight all forms of discrimination.  1 ' Belgian ban on full veils comes into force', BBC News Europe, 23rd July 2011, accessed on 23rd July 2011' (Attempt 1/5): API error occurred: Status 429\n",
      "{\"object\":\"error\",\"message\":\"Rate limit exceeded\",\"type\":\"rate_limited\",\"param\":null,\"code\":\"1300\"}\n",
      "Retrying in 1 seconds...\n"
     ]
    },
    {
     "name": "stderr",
     "output_type": "stream",
     "text": [
      "Processing queries (generate or skip): 1287it [20:16,  1.14it/s]"
     ]
    },
    {
     "name": "stdout",
     "output_type": "stream",
     "text": [
      "Error generating for query 'The government here may legitimately limit ‘free speech’.  We already set boundaries on what constitutes ‘free speech’ within our society. For example, we often endorse a ‘balancing act’ [1] an individual may express their beliefs or opinions, but only up to the point where it does not impede the ‘protection of other human rights’ [2] – other peoples’ right not to be abused. In this case, if an individual expresses abuse towards another – especially racism - they may be deemed to be outside of the boundaries or free speech and can be punished for it. This motion is simply an extension of this principle; the kinds of sites which would be banned are those which perpetuate hatred or attack other groups in society, an so already fall outside of the protection of free speech. The harms that stem from these kinds of sites outweigh any potential harm from limiting speech in a small number of cases.  [1] Hera.org, ‘Freedom of Expression’, Human Rights Education Association,  on 09/09/11  [2] Hera.org, ‘Freedom of Expression’, Human Rights Education Association,  on 09/09/11' (Attempt 1/5): API error occurred: Status 429\n",
      "{\"object\":\"error\",\"message\":\"Rate limit exceeded\",\"type\":\"rate_limited\",\"param\":null,\"code\":\"1300\"}\n",
      "Retrying in 1 seconds...\n"
     ]
    },
    {
     "name": "stderr",
     "output_type": "stream",
     "text": [
      "Processing queries (generate or skip): 1296it [20:25,  1.19it/s]"
     ]
    },
    {
     "name": "stdout",
     "output_type": "stream",
     "text": [
      "Error generating for query 'Animals shouldn’t be harmed  The difference between us and other animals is a matter of degree rather than type [2]. Their bodies resemble ours, as do their ways of conveying meaning. They recoil from pain, appear to express fear of a tormentor, and appear to take pleasure in activities; a point clear to anyone who has observed a pet dog on hearing the word “walk”.  We believe other people experience feelings like us because they are like us in appearance and behaviour. An animal sharing our anatomical, physiological, and behavioural characteristics is surely likely to have feelings like us.  If people have a right to not be harmed, we must ask ourselves what makes animals different? If animals feel what we feel, and suffer like us, to condemn one to testing because of them being of a different species is similar to racism or sexism.[3]' (Attempt 1/5): API error occurred: Status 429\n",
      "{\"object\":\"error\",\"message\":\"Rate limit exceeded\",\"type\":\"rate_limited\",\"param\":null,\"code\":\"1300\"}\n",
      "Retrying in 1 seconds...\n"
     ]
    },
    {
     "name": "stderr",
     "output_type": "stream",
     "text": [
      "Processing queries (generate or skip): 1300it [20:29,  1.18it/s]"
     ]
    },
    {
     "name": "stdout",
     "output_type": "stream",
     "text": [
      "Error generating for query 'Research animals are well treated  Animals used in research generally don’t suffer. While they may be in pain, they are generally given pain killers, and when they are put down this is done humanely. [16] They are looked after, as healthy animals mean better experimental results. These animals live better lives than they would in the wild.  As long as animals are treated well there shouldn’t be a moral objection to animal research. This is exactly the same as with raising animals that will be used for meat.' (Attempt 1/5): API error occurred: Status 429\n",
      "{\"object\":\"error\",\"message\":\"Rate limit exceeded\",\"type\":\"rate_limited\",\"param\":null,\"code\":\"1300\"}\n",
      "Retrying in 1 seconds...\n"
     ]
    },
    {
     "name": "stderr",
     "output_type": "stream",
     "text": [
      "Processing queries (generate or skip): 1305it [20:34,  1.15it/s]"
     ]
    },
    {
     "name": "stdout",
     "output_type": "stream",
     "text": [
      "Error generating for query 'Facebook encourages socialisation  One of the most crucial elements in any child's development is the ability to socialize with peers. By having a large circle of friends to talk to and share interests, the child gains trust, self-esteem and self-confidence. If you have people to talk to when you have a problem, it is much easier to overcome any problems.  Facebook and social networks in general help teenagers on multiple levels to maintain and expand their circle of friends. Firstly, it lets you remain in touch with friends even if you are very far apart. As we live in an increasingly globalized world, friend circles tend to be broken up very easily. As a result, individuals need to be able to keep in touch in spite of the physical distance. Facebook enables them to do that. (1)  Secondly, by allowing people with shared opinions, hobbies or interests to gather, social networks allow users to expand their circle of friends, something that is more applicable the bigger the social network. Thirdly, it allows young people to spend more time with the friends and people they already know through chat conversations, shared photos or status updates. As a result, people who are engaged on these social networks have more self esteem, more confidence in them, feel more appreciated and tend to be happier in general due to their wide circle of friends. (2)  (1) Keith Wilcox and Andrew T. Stephen “Are Close Friends the Enemy? Online Social Networks, Self-Esteem, and Self-Control” Journal of Consumer Research, 2012   (2) Brittany Gentilea, Jean M. Twengeb, Elise C. Freemanb, W. Keith Campbella “The effect of social networking websites on positive self-views: An experimental investigation” 2012' (Attempt 1/5): API error occurred: Status 429\n",
      "{\"object\":\"error\",\"message\":\"Rate limit exceeded\",\"type\":\"rate_limited\",\"param\":null,\"code\":\"1300\"}\n",
      "Retrying in 1 seconds...\n"
     ]
    },
    {
     "name": "stderr",
     "output_type": "stream",
     "text": [
      "Processing queries (generate or skip): 1310it [20:39,  1.15it/s]"
     ]
    },
    {
     "name": "stdout",
     "output_type": "stream",
     "text": [
      "Error generating for query 'Cyber attacks can do serious damage to the state  Large scale cyber attacks can result in substantial harms to the state equivalent to those of an armed attack. Many states are dependent on flawless functioning of government and financial services online, and attacking them would cause mass disruption. For example, massive cyber attacks can cause serious disruption to economy by targeting financial, banking and commercial services; they can target government websites and steal confidential information that would compromise country's security, as was the case with USA in 2007 [10]; they could target power grids and shut down infrastructure on a massive scale across the country. All these instances cause disruption and leave the targeted country vulnerable with the government unable to operate successfully. This way, for instance, a large scale cyber attack from Russia on Georgia 2008 caused massive disruption to government, banking services, and communication within and outside of the country [11]. For these reasons USA's Pentagon decided to consider a cyber attack that 'produces the death, damage, destruction or high-level disruption that a traditional military attack would cause' an act of war [12]. Given the damage of possible attacks to the state, large-scale cyber attacks should be considered an act of war.' (Attempt 1/5): API error occurred: Status 429\n",
      "{\"object\":\"error\",\"message\":\"Rate limit exceeded\",\"type\":\"rate_limited\",\"param\":null,\"code\":\"1300\"}\n",
      "Retrying in 1 seconds...\n"
     ]
    },
    {
     "name": "stderr",
     "output_type": "stream",
     "text": [
      "Processing queries (generate or skip): 1317it [20:46,  1.20it/s]"
     ]
    },
    {
     "name": "stdout",
     "output_type": "stream",
     "text": [
      "Error generating for query 'A teacher-student relationship is not one between friends or equals.  According to Carol Shakeshaft an expert in sexual misconduct by teachers: “[e]ducators who use social media for personal and intimate conversations and contact are not much different from those who spend their time hanging out with students at the beach. You have to ask why a teacher would do this. The honest answer is that it rarely has anything to do with student learning. [1] ” Interacting with one’s teachers the same way as with one’s friends, sharing personal information, can only erode the respect and distance that a teacher needs in order to be an authority figure and a mentor for her young charges. Even if such ‘friendships’ were entirely innocent, they would still cast enough suspicion on the teacher-student relationship to put considerable strain on the teacher’s role as educator and their ability to do the job.  [1] Shakeshaft, Carol. “Using Social Media to Teach: Keep it Transparent, Open and Safe.” The New York Times. 19 December 2011.' (Attempt 1/5): API error occurred: Status 429\n",
      "{\"object\":\"error\",\"message\":\"Rate limit exceeded\",\"type\":\"rate_limited\",\"param\":null,\"code\":\"1300\"}\n",
      "Retrying in 1 seconds...\n"
     ]
    },
    {
     "name": "stderr",
     "output_type": "stream",
     "text": [
      "Processing queries (generate or skip): 1323it [20:52,  1.12it/s]"
     ]
    },
    {
     "name": "stdout",
     "output_type": "stream",
     "text": [
      "Error generating for query 'Social media can be powerful educational resources.  Many teachers have been using social media as an extension of the classroom, some of them setting up discussion pages, or allowing students to contact them about homework or things that they did not understand in the classroom, it allows the teachers to provide extra help whenever the student needs it. This keeps students interested and makes learning fun by using a tool that they are already fond of. The enormous success of tools like ‘The Khan Academy’, which uses youtube videos to deliver lectures to kids, is proof of that [1] . It also allows even those students who are too shy to speak out in class or ask for help, to participate3. Tools like facebook and twitter have the advantage of being ready-made platforms that lend themselves well to extending classroom discussions through groups, pages, pictures, and videos. Not all schools have access to the funding to set up such pages separately and not all teachers have the skills to create them. It would be a mistake for schools to dismiss their use and their value.  [1] Khan, Salman. ”Turning the Classroom Upside Down.” The Wall Street Journal. 9 April 2011.' (Attempt 1/5): API error occurred: Status 429\n",
      "{\"object\":\"error\",\"message\":\"Rate limit exceeded\",\"type\":\"rate_limited\",\"param\":null,\"code\":\"1300\"}\n",
      "Retrying in 1 seconds...\n"
     ]
    },
    {
     "name": "stderr",
     "output_type": "stream",
     "text": [
      "Processing queries (generate or skip): 1341it [21:10,  1.21it/s]"
     ]
    },
    {
     "name": "stdout",
     "output_type": "stream",
     "text": [
      "Error generating for query 'GMOs would create too much dependency on biotechnology companies  The legislative framework and historical behavior governing and guiding the operation of big business is geared towards maximizing shareholder returns. This propensity has been demonstrated time and again and might suggest that the GM companies are not modifying the food in the interests of better health, but of better profit. This is reinforced by the nature of many of the GM modifications, including terminator seeds (infertile seed requiring a re-purchase of seed stock each season), various forms of pest and herbicide resistance potentially leading to pests (and weeds) resistant to the current crop of chemical defenses. One of the more disturbing manifestations of this is the licensing of genes that are naturally occurring and suing those who dare to grow them, even if they are there because of cross contamination by wind-blown seeds or some other mechanism. [1] One has only to look at the history of corporations under North American and similar corporations’ law to see the effect of this pressure to perform on behalf of the shareholder. The pollution of water supplies, the continued sale of tobacco, dioxins, asbestos, and the list goes on. Most of those anti-social examples are done with the full knowledge of the corporation involved. [2]  The example of potato farmers in the US illustrates big company dependence: \"By ''opening and using this product,'' it is stated, that farmers only have the license to grow these potatoes for a single generation. The problem is that the genes remain the intellectual property of Monsanto, protected under numerous United States patents (Nos. 5,196,525, 5,164,316, 5,322,938 and 5,352,605), under these patents, people are not allowed to save even crop for next year, because with this they would break Federal law of intellectual property. [3]  [1] Barlett D., Monsanto’s Harvest of Fear, published May 2008,  , accessed 08/27/2011  [2] Hurt H., The Toxic Ten, published 02/19/2008,  , accessed 09/05/2011  [3] Pollan M., Playing God in the Garden, published 10/25/1998,  , accessed 09/02/2011' (Attempt 1/5): API error occurred: Status 429\n",
      "{\"object\":\"error\",\"message\":\"Rate limit exceeded\",\"type\":\"rate_limited\",\"param\":null,\"code\":\"1300\"}\n",
      "Retrying in 1 seconds...\n"
     ]
    },
    {
     "name": "stderr",
     "output_type": "stream",
     "text": [
      "Processing queries (generate or skip): 1349it [21:18,  1.25it/s]"
     ]
    },
    {
     "name": "stdout",
     "output_type": "stream",
     "text": [
      "Error generating for query 'Profiling exacerbates terrorism as it reinforces the perception that Muslims and marginalised ethnic groups face prejudice.  The reality is that if a plane can be held up with a box-cutter, a broken glass bottle from duty free or flammable alcohol from the same source could be just as threatening.  However, increased use of air marshals- armed plainclothes police officers who travel secretly on certain flights- means that even these desperate tactics are likely to be ineffectual.  Institutionalising prejudice and assumption will add legitimacy and grativas to terrorist propaganda that seeks to radicalise curious or confused young people.  Not only is profiling ineffectual, it is likely to exacerbate the situation.' (Attempt 1/5): API error occurred: Status 429\n",
      "{\"object\":\"error\",\"message\":\"Rate limit exceeded\",\"type\":\"rate_limited\",\"param\":null,\"code\":\"1300\"}\n",
      "Retrying in 1 seconds...\n"
     ]
    },
    {
     "name": "stderr",
     "output_type": "stream",
     "text": [
      "Processing queries (generate or skip): 1354it [21:23,  1.21it/s]"
     ]
    },
    {
     "name": "stdout",
     "output_type": "stream",
     "text": [
      "Error generating for query 'Facebook has some dangerous consequences  Facebook is becoming more and more integrated into our lives, but unfortunately the uncertainty of who is at the other end of the computer is proving to be a massive threat to our mental and physical safety.  First of all, undoubtedly, rape is one of the most serious and unforgiveable crimes anyone can commit, as it leaves permanent physical and mental scars on women. Unfortunately, Facebook is used by troubled men to take advantage of naive women. They use Facebook in order to get in touch with their victims (often posing as someone who he is not), and after they get to know each other, after he gained the victims trust he deceives her into meeting him, a mistake she’ll regret forever. As physical integrity is one of the rights most fundamental rights, and as Facebook is facilitating the violation of this right, it is absolutely clear that these social networks are detrimental to the society.(1)(2)  Secondly, another level on which Facebook is harmful is cyber bullying. It affects many adolescents and teens on a daily basis. Cyber bullying involves using technology to bully or harass another person. Sending mean Facebook messages or threats to a person, spreading rumours online or posting hurtful or threatening messages on social networking sites are just a few of the ways in which a lot of children get bullied every single day.  “Despite the potential damage of cyber bullying, it is alarmingly common among adolescents and teens. According to Cyber bullying statistics from the i-SAFE foundation:  Over half of adolescents and teens have been bullied online, and about the same number have engaged in cyber bullying. More than 1 in 3 young people have experienced cyberthreats online.”(3)  (1) Justin Davenport “Hunt for ‘Facebook rapists’ before they can strike again” London Evening Standard, 15 November 2012   (2) “Two men gang-rape girl in Kota after befriending her on Facebook”, Times of India, Aug 21, 2013   (3) Bullying Statistics' (Attempt 1/5): API error occurred: Status 429\n",
      "{\"object\":\"error\",\"message\":\"Rate limit exceeded\",\"type\":\"rate_limited\",\"param\":null,\"code\":\"1300\"}\n",
      "Retrying in 1 seconds...\n"
     ]
    },
    {
     "name": "stderr",
     "output_type": "stream",
     "text": [
      "Processing queries (generate or skip): 1359it [21:28,  1.14it/s]"
     ]
    },
    {
     "name": "stdout",
     "output_type": "stream",
     "text": [
      "Error generating for query 'Quotas encourage women to pursue education and professional job positions  Quotas attempting to maximise the number of educated and skilled women in executive positions could improve corporate performance and help raise national productivity. But doing so will depend on keeping ambitious, well-qualified women moving up the management ranks. Gender quotas will encourage more women to pursue education and career options leading to the top of executive positions. Quotas create incentives for women to adapt their job preferences to the more accessible boardroom positions and develop necessary skills which would reduce the need for positive discrimination in the future. Encouraged to develop relevant skills, women will contribute to the long-term talent pool and the economy. According to McKinsey report, women’s interest in being leaders increases as they progress from entry level to middle management [1] which is exactly what the principle behind quotas aims to encourage - more women following professional career development. This is very important in the short run during which, according to research, women who have high position stimulate other women’s interest in traditionally male-dominated sectors and encourage them to pursue similar career paths. [2]  [1] Barsh, Joanna, and Lareina Yee. \"Unlocking the Full Potential of Women in the US Economy.\" McKinsey &amp; Company. N.p., 2011. Web .  [2] Australian Human Rights Commission, “Women in leadership”' (Attempt 1/5): API error occurred: Status 429\n",
      "{\"object\":\"error\",\"message\":\"Rate limit exceeded\",\"type\":\"rate_limited\",\"param\":null,\"code\":\"1300\"}\n",
      "Retrying in 1 seconds...\n"
     ]
    },
    {
     "name": "stderr",
     "output_type": "stream",
     "text": [
      "Processing queries (generate or skip): 1369it [21:38,  1.20it/s]"
     ]
    },
    {
     "name": "stdout",
     "output_type": "stream",
     "text": [
      "Error generating for query 'The feminist movement cannot afford to alienate itself from society  The term ‘feminism’ is often associated with men-hating and the radical view that women are superior to men as opposed to gender equality. This happens because extreme feminists who uphold such opinions are consistently given greater media coverage by virtue of having the loudest voices and creating headlines that sell. As a result, the feminist movement is currently lacking the support it deserves and even those who take feminist positions often don’t want to call themselves feminists. (Scharff) [1]  It would be a bad move for it to further radicalise itself and attempt to ban something as present in society as pornography. It will never work, and it will merely make women and men more reluctant to espouse feminist ideologies for fear of being associated with a ‘hate group’.  [1] Scharff, Christina, “Myths of man-hating feminists make feminism unpopular”, Economic &amp; Social Research Council, 7 March 2013,' (Attempt 1/5): API error occurred: Status 429\n",
      "{\"object\":\"error\",\"message\":\"Rate limit exceeded\",\"type\":\"rate_limited\",\"param\":null,\"code\":\"1300\"}\n",
      "Retrying in 1 seconds...\n"
     ]
    },
    {
     "name": "stderr",
     "output_type": "stream",
     "text": [
      "Processing queries (generate or skip): 1374it [21:43,  1.17it/s]"
     ]
    },
    {
     "name": "stdout",
     "output_type": "stream",
     "text": [
      "Error generating for query 'Labour participation and rights  Labour participation enables an awareness, and acquirement, of equal gender rights. Firstly, labour participation is challenging cultural ideologies and norms of which see the woman’s responsibility as limited to the reproductive sphere. Entering the productive sphere brings women equal work rights and the right to enter public space. By such a change gender norms of the male breadwinner are challenged. Secondly, labour force participation by women has resulted in the emergence of community lawyers and organisations to represent them. The Declaration of the African Regional Domestic Workers Network is a case in point. [1] With the rising number of female domestic workers, the network is working to change conditions - upholding Conferences, sharing information, and taking action.  [1] See' (Attempt 1/5): API error occurred: Status 429\n",
      "{\"object\":\"error\",\"message\":\"Rate limit exceeded\",\"type\":\"rate_limited\",\"param\":null,\"code\":\"1300\"}\n",
      "Retrying in 1 seconds...\n"
     ]
    },
    {
     "name": "stderr",
     "output_type": "stream",
     "text": [
      "Processing queries (generate or skip): 1381it [21:50,  1.13it/s]"
     ]
    },
    {
     "name": "stdout",
     "output_type": "stream",
     "text": [
      "Error generating for query 'Patenting inhibits research and therapeutics  The prevailing belief is that this is an area of such great importance and potential benefit to mankind, as such there should be no, self-interested impediment to genome research. The only barriers should be those of conscience.  The Human Genome Project is one of the government funded projects that makes all its research freely and publicly available. They are not driven by profit and offer information on their discoveries for free enabling others to build upon their findings.  The problem with patents is that companies claim ownership without regard towards moral issues. It is purely in the pursuit of their profits that they decide not to allow others to build on their findings and make the process of discovering treatments far more difficult. An example of this is the Myriad company which, whilst holding patents on BRCA 1 &amp; 2, genes connected with breast cancer, prevented the University of Pennsylvania from using a test for these genes which was substantially cheaper than the company’s own screening procedure. 1  Instead of protecting their research investment, companies should have a moral duty to facilitate in any way they can to the development of cheap, available treatments and screenings for diseases which are so dangerous to so many people.  1. Spektor, Michelle, \"Genes Are Still Patentable, Federal Appeals Court Rules\", Science Progress, 17 August 2011,' (Attempt 1/5): API error occurred: Status 429\n",
      "{\"object\":\"error\",\"message\":\"Rate limit exceeded\",\"type\":\"rate_limited\",\"param\":null,\"code\":\"1300\"}\n",
      "Retrying in 1 seconds...\n"
     ]
    },
    {
     "name": "stderr",
     "output_type": "stream",
     "text": [
      "Processing queries (generate or skip): 1387it [21:56,  1.15it/s]"
     ]
    },
    {
     "name": "stdout",
     "output_type": "stream",
     "text": [
      "Error generating for query 'The system is open to abuse  It is extremely difficult to tell if someone is a genuine asylum seeker or not; for obvious reasons many will have little or no documentation, and all the evidence that they have suffered persecution may be in a faraway country and impossible to obtain. In many cases it may be impossible to prove that the person claiming asylum is even from the country that they claim to be from.  Asylum decisions are therefore based largely on a judgement call by the investigating officer on whether they thing the person in front of them is being truthful or not – that leaves the system open to motivated people who are economic migrants or may even pose a security threat.' (Attempt 1/5): API error occurred: Status 429\n",
      "{\"object\":\"error\",\"message\":\"Rate limit exceeded\",\"type\":\"rate_limited\",\"param\":null,\"code\":\"1300\"}\n",
      "Retrying in 1 seconds...\n"
     ]
    },
    {
     "name": "stderr",
     "output_type": "stream",
     "text": [
      "Processing queries (generate or skip): 1393it [22:02,  1.14it/s]"
     ]
    },
    {
     "name": "stdout",
     "output_type": "stream",
     "text": [
      "Error generating for query 'Removing barriers to demobilisation, disarmament and rehabilitation  It can easily be conceded, without weakening the resolution, that war and combat are horrific, damaging experiences. Over the last seventy years, the international community has attempted to limit the suffering that follows the end of a conflict by giving soldiers and civilians access to medical and psychological care. This is now an accepted part of the practice of post-conflict reconstruction, referred to as Disarmament, Demobilisation and Reintegration (DDR) [i] .  The effects of chronic war and chronic engagement with war are best addressed by a slow and continuous process of habituation to normal life. Former child soldiers are sent to treatment centres specialising in this type of care in states such as Sierra Leone [ii] .  What is harmful to this process of recovery is the branding of child soldiers as war criminals. The stigma attached to such a conviction would condemn hundreds of former child soldiers to suffering extended beyond the end of armed conflicts.  Sentencing guidelines binding on the ICC state that anyone convicted of war crimes who is younger than eighteen should not be subject to a sentence of life imprisonment. Their treatment, once incarcerated, is required to be oriented toward rehabilitation.  Many child soldiers become officers within the organisations that they join. Alternately, they might find themselves ordered to seek more recruits from their villages and communities. For these children participation in the conflict becomes participation in the crime itself. What began as a choice of necessity during war-time could, under the status quo, damage and stigmatise a child during peace-time [iii] . Even if their sentence emphasises reform and education, a former child soldier is likely to become an uninjured casualty of the war, marked out as complicit in acts of aggression. When labelled as such children will become vulnerable to reprisal attacks and entrenched social exclusion.  Discussing attempts to foster former Colombian child combatants, the Coalition to Stop the Use of Child Soldiers state that, “The stigmatization of child soldiers, frequently perceived as violent and threatening, meant that families were reluctant to receive former child soldiers. Those leaving the specialized care centres moved either to youth homes or youth protection facilities for those with special protection problems. While efforts continued to strengthen fostering and family-based care, approximately 60 per cent of those entering the DDR program were in institutional care in 2007.” [iv]  Crucially, fear of being targeted by the ICC may lead former child soldiers to avoid disclosing their status to officials running demobilisation programs. They may be deterred from participating in the DDR process [v] .  Moreover, the authority of the ICC is often subject to criticism on the international stage by politicians and jurists linked to both democratic states [vi] and the non-liberal or authoritarian regimes most likely to become involved in conflicts that breach humanitarian law. It cannot assist the claims of the ICC to be a body that represents universal concepts of compassion and justice if it is seen to target children- often barely in their teens- in the course of prosecuting war crimes.  As the Child Soliders 2008 Global Report notes, “Prosecutions should not, by focusing solely on the recruitment and use of child soldiers, exclude other crimes committed against children. Such an approach risks stigmatizing child soldiers and ignores the wider abuses experienced by children in conflict situations. It is on these grounds that some have questioned the exclusive child-soldier focus of the ICC’s charges against Thomas Lubanga. After all, the Union of Congolese Patriots (UPC/L), the armed group he led, is widely acknowledged to have committed numerous other serious crimes against children, as well as adults.” [vii]  [i] “Case Studies in War to Peace Transition”, Coletta, N., Kostner, M., Widerhofer, I. The World Bank, 1996  [ii] “Return of Sierra Leone’s Lost Generation”, The Guardian, 02 March 2000,   [iii] “Agony Without End for Liberia’s Child Soldiers”, The Guardian, 12 July 2009,   [iv] “Child Soldiers: Global Report 2008”, Coalition to Stop the Use of Child Soldiers, 2007, p103,   [v] “Child Soldiers: Global Report 2008”, Coalition to Stop the Use of Child Soldiers, 2007, p16,   [vi] “America Attacked for ICC Tactics”, The Guardian, 27 August 2002,   [vii] “Child Soldiers: Global Report 2008”, Coalition to Stop the Use of Child Soldiers, 2007, pp32-33,' (Attempt 1/5): API error occurred: Status 429\n",
      "{\"object\":\"error\",\"message\":\"Rate limit exceeded\",\"type\":\"rate_limited\",\"param\":null,\"code\":\"1300\"}\n",
      "Retrying in 1 seconds...\n"
     ]
    },
    {
     "name": "stderr",
     "output_type": "stream",
     "text": [
      "Processing queries (generate or skip): 1400it [22:10,  1.21it/s]"
     ]
    },
    {
     "name": "stdout",
     "output_type": "stream",
     "text": [
      "Error generating for query 'Restrictions would benefit rural areas  Unlimited rural-urban migration erodes the economy of the cities, as shown in the previous argument, and limits their economic growth and available resources. On a national level, this causes decision makers to prioritise the cities, as the country relies more on urban than rural areas, thus preventing them from investing in the country-side. [1] China is a good example of this where urban privilege has become entrenched with ‘special economic zones’ being created in urban areas (though sometimes built from scratch in rural areas) with money being poured into infrastructure for the urban areas which as a result have rapidly modernised leaving rural areas behind. This leads to a whole culture of divisions where urbanites consider those from rural areas to be backward and less civilized. [2]  Moreover, there will be little other reason to invest in rural areas, as the workforce in those areas has left for the cities. By preserving resources in the cities and keeping the workforce in the rural areas, it becomes possible to invest in rural communities and change their lives for the better as these areas maintain the balanced workforce necessary to attract investors.  [1] Maxwell, Daniel., “The Political Economy of Urban Food Security in Sub-Saharan Africa.” 11, London : Elsevier Science Ltd., 1999, World Development, Vol. 27, p. 1939±1953. S0305-750X(99)00101-1.  [2] Whyte, Martin King, “Social Change and the Urban-Rural Divide in China”, China in the 21st Century, June 2007,  p.54' (Attempt 1/5): API error occurred: Status 429\n",
      "{\"object\":\"error\",\"message\":\"Rate limit exceeded\",\"type\":\"rate_limited\",\"param\":null,\"code\":\"1300\"}\n",
      "Retrying in 1 seconds...\n"
     ]
    },
    {
     "name": "stderr",
     "output_type": "stream",
     "text": [
      "Processing queries (generate or skip): 1406it [22:16,  1.05it/s]"
     ]
    },
    {
     "name": "stdout",
     "output_type": "stream",
     "text": [
      "Document generation complete. Results saved in: ../doc_gen/rag_fusion/generated_documents_arguana.jsonl\n"
     ]
    },
    {
     "name": "stderr",
     "output_type": "stream",
     "text": [
      "\n"
     ]
    }
   ],
   "source": [
    "fusion_rag.save_generated_docs('../doc_gen/rag_fusion/')"
   ]
  },
  {
   "cell_type": "code",
   "execution_count": 21,
   "id": "a8f53f7a",
   "metadata": {},
   "outputs": [
    {
     "name": "stderr",
     "output_type": "stream",
     "text": [
      "obteniendo embedding de todos los doc generados: 100%|██████████| 1406/1406 [01:28<00:00, 15.86it/s]\n",
      "obteniendo resultados contriever: 1406it [00:05, 243.49it/s]\n",
      "obteniendo resultados contriever: 1406it [00:05, 247.54it/s]\n",
      "obteniendo resultados contriever: 1406it [00:05, 253.75it/s]\n",
      "obteniendo resultados contriever: 1406it [00:05, 245.03it/s]\n",
      "obteniendo resultados contriever_ft: 1406it [00:05, 244.76it/s]\n",
      "obteniendo resultados contriever_ft: 1406it [00:05, 253.40it/s]\n",
      "obteniendo resultados contriever_ft: 1406it [00:05, 252.21it/s]\n",
      "obteniendo resultados contriever_ft: 1406it [00:05, 248.74it/s]\n",
      "obteniendo resultados dpr: 1406it [00:05, 252.25it/s]\n",
      "obteniendo resultados dpr: 1406it [00:05, 254.46it/s]\n",
      "obteniendo resultados dpr: 1406it [00:07, 192.68it/s]\n",
      "obteniendo resultados dpr: 1406it [00:05, 245.23it/s]\n",
      "obteniendo resultados bge_large: 1406it [00:06, 206.37it/s]\n",
      "obteniendo resultados bge_large: 1406it [00:06, 209.93it/s]\n",
      "obteniendo resultados bge_large: 1406it [00:06, 212.32it/s]\n",
      "obteniendo resultados bge_large: 1406it [00:06, 213.32it/s]\n",
      "obteniendo resultados gte_large: 1406it [00:06, 211.03it/s]\n",
      "obteniendo resultados gte_large: 1406it [00:06, 210.82it/s]\n",
      "obteniendo resultados gte_large: 1406it [00:06, 210.35it/s]\n",
      "obteniendo resultados gte_large: 1406it [00:06, 211.39it/s]\n",
      "obteniendo resultados sparse_bm25: 1406it [00:03, 365.14it/s]\n",
      "obteniendo resultados sparse_bm25: 1406it [00:03, 358.93it/s]\n",
      "obteniendo resultados sparse_bm25: 1406it [00:05, 267.51it/s]\n",
      "obteniendo resultados sparse_bm25: 1406it [00:05, 249.09it/s]\n"
     ]
    }
   ],
   "source": [
    "fusion_rag.get_results_from_jsonl_rag_fusion(path_doc_gen=f'../doc_gen/rag_fusion/generated_documents_{dataset_name}.jsonl', path=f'../results/rag_fusion/{dataset_name}/',batch_size=32, top_k=10)"
   ]
  },
  {
   "cell_type": "code",
   "execution_count": 22,
   "id": "fbbed3d2",
   "metadata": {},
   "outputs": [
    {
     "name": "stdout",
     "output_type": "stream",
     "text": [
      "arguana\n"
     ]
    },
    {
     "data": {
      "application/vnd.jupyter.widget-view+json": {
       "model_id": "68da648c0e8b442dbf1288e98b55ed8a",
       "version_major": 2,
       "version_minor": 0
      },
      "text/plain": [
       "  0%|          | 0/8674 [00:00<?, ?it/s]"
      ]
     },
     "metadata": {},
     "output_type": "display_data"
    },
    {
     "name": "stdout",
     "output_type": "stream",
     "text": [
      "Calculando metricas de results_contriever_ft.json\n",
      "  Métricas guardadas en: ../metrics/rag_fusion/arguana/results_contriever_ft.json\n",
      "Calculando metricas de results_bge_large.json\n",
      "  Métricas guardadas en: ../metrics/rag_fusion/arguana/results_bge_large.json\n",
      "Calculando metricas de results_dpr.json\n",
      "  Métricas guardadas en: ../metrics/rag_fusion/arguana/results_dpr.json\n",
      "Calculando metricas de results_contriever.json\n",
      "  Métricas guardadas en: ../metrics/rag_fusion/arguana/results_contriever.json\n",
      "Calculando metricas de results_gte_large.json\n",
      "  Métricas guardadas en: ../metrics/rag_fusion/arguana/results_gte_large.json\n",
      "Calculando metricas de results_sparse_bm25.json\n",
      "  Métricas guardadas en: ../metrics/rag_fusion/arguana/results_sparse_bm25.json\n"
     ]
    }
   ],
   "source": [
    "from kdir_src.utils.evaluation import evaluate_all_results\n",
    "evaluate_all_results(f'../results/rag_fusion/{dataset_name}')"
   ]
  },
  {
   "cell_type": "code",
   "execution_count": null,
   "id": "c8768c0a",
   "metadata": {},
   "outputs": [],
   "source": []
  }
 ],
 "metadata": {
  "kernelspec": {
   "display_name": "env_kdir",
   "language": "python",
   "name": "python3"
  },
  "language_info": {
   "codemirror_mode": {
    "name": "ipython",
    "version": 3
   },
   "file_extension": ".py",
   "mimetype": "text/x-python",
   "name": "python",
   "nbconvert_exporter": "python",
   "pygments_lexer": "ipython3",
   "version": "3.10.14"
  }
 },
 "nbformat": 4,
 "nbformat_minor": 5
}
