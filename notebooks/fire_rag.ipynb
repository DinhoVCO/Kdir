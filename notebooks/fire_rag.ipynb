{
 "cells": [
  {
   "cell_type": "markdown",
   "id": "f9e44147-65d5-45ee-a240-22075622eede",
   "metadata": {},
   "source": [
    "## Scifact"
   ]
  },
  {
   "cell_type": "code",
   "execution_count": 1,
   "id": "df8ddb35-54bc-47ce-9649-41fa554d63ef",
   "metadata": {},
   "outputs": [
    {
     "name": "stderr",
     "output_type": "stream",
     "text": [
      "/local1/ronaldinho/enviroments/env_kdir/lib/python3.10/site-packages/beir/util.py:11: TqdmExperimentalWarning: Using `tqdm.autonotebook.tqdm` in notebook mode. Use `tqdm.tqdm` instead to force console mode (e.g. in jupyter console)\n",
      "  from tqdm.autonotebook import tqdm\n"
     ]
    }
   ],
   "source": [
    "from kdir_src.fire.Fire import Fire\n",
    "from kdir_src.fire.promptor_fire import Promptor_fire\n",
    "from kdir_src.generators.mistral_ai import MistralGenerator\n",
    "from kdir_src.models.all_models import load_models"
   ]
  },
  {
   "cell_type": "code",
   "execution_count": 2,
   "id": "bdeece49-8583-44ba-900e-90a088f6bffd",
   "metadata": {},
   "outputs": [
    {
     "name": "stdout",
     "output_type": "stream",
     "text": [
      "Loading contriever...\n",
      "Loading contriever FT...\n",
      "Loading question dpr...\n"
     ]
    },
    {
     "name": "stderr",
     "output_type": "stream",
     "text": [
      "Some weights of the model checkpoint at facebook/dpr-question_encoder-single-nq-base were not used when initializing DPRQuestionEncoder: ['question_encoder.bert_model.pooler.dense.bias', 'question_encoder.bert_model.pooler.dense.weight']\n",
      "- This IS expected if you are initializing DPRQuestionEncoder from the checkpoint of a model trained on another task or with another architecture (e.g. initializing a BertForSequenceClassification model from a BertForPreTraining model).\n",
      "- This IS NOT expected if you are initializing DPRQuestionEncoder from the checkpoint of a model that you expect to be exactly identical (initializing a BertForSequenceClassification model from a BertForSequenceClassification model).\n",
      "The tokenizer class you load from this checkpoint is not the same type as the class this function is called from. It may result in unexpected tokenization. \n",
      "The tokenizer class you load from this checkpoint is 'DPRQuestionEncoderTokenizer'. \n",
      "The class this function is called from is 'DPRContextEncoderTokenizer'.\n"
     ]
    },
    {
     "name": "stdout",
     "output_type": "stream",
     "text": [
      "Loading context dpr...\n"
     ]
    },
    {
     "name": "stderr",
     "output_type": "stream",
     "text": [
      "Some weights of the model checkpoint at facebook/dpr-ctx_encoder-single-nq-base were not used when initializing DPRContextEncoder: ['ctx_encoder.bert_model.pooler.dense.bias', 'ctx_encoder.bert_model.pooler.dense.weight']\n",
      "- This IS expected if you are initializing DPRContextEncoder from the checkpoint of a model trained on another task or with another architecture (e.g. initializing a BertForSequenceClassification model from a BertForPreTraining model).\n",
      "- This IS NOT expected if you are initializing DPRContextEncoder from the checkpoint of a model that you expect to be exactly identical (initializing a BertForSequenceClassification model from a BertForSequenceClassification model).\n"
     ]
    },
    {
     "name": "stdout",
     "output_type": "stream",
     "text": [
      "Loading bge large...\n",
      "Loading gte large...\n",
      "Loading bm25...\n"
     ]
    }
   ],
   "source": [
    "dataset_name='scifact'\n",
    "promptor = Promptor_fire(dataset_name)\n",
    "encoder_models = load_models()\n",
    "KEY = 'jTrxtC1mqMP1Lj9aMg8fvexSh2xDgZC4'\n",
    "generator = MistralGenerator('mistral-small-2503', KEY, 1, 512, 0.0)\n",
    "fire_rag = Fire(dataset_name, promptor, generator, encoder_models)"
   ]
  },
  {
   "cell_type": "code",
   "execution_count": 7,
   "id": "b5b4c491-bf63-43d2-8f4f-a2fe2e5c8024",
   "metadata": {
    "scrolled": true
   },
   "outputs": [
    {
     "data": {
      "application/vnd.jupyter.widget-view+json": {
       "model_id": "fa2110dcb30a44beb40b46395beef3db",
       "version_major": 2,
       "version_minor": 0
      },
      "text/plain": [
       "  0%|          | 0/5183 [00:00<?, ?it/s]"
      ]
     },
     "metadata": {},
     "output_type": "display_data"
    },
    {
     "name": "stderr",
     "output_type": "stream",
     "text": [
      "Procesando queries: 100%|███████████████████████████████████████████████████████████████| 300/300 [00:00<00:00, 2833989.19it/s]\n",
      "Procesando contriever...: 100%|███████████████████████████████████████████████████████████████| 3/3 [00:00<00:00, 10.86batch/s]\n",
      "Procesando contriever...: 100%|███████████████████████████████████████████████████████████████| 3/3 [00:00<00:00, 10.79batch/s]\n",
      "Procesando dpr...: 100%|██████████████████████████████████████████████████████████████████████| 3/3 [00:00<00:00,  8.86batch/s]\n"
     ]
    },
    {
     "data": {
      "application/vnd.jupyter.widget-view+json": {
       "model_id": "1d8ae77c58f74d0395a885eb5706e77d",
       "version_major": 2,
       "version_minor": 0
      },
      "text/plain": [
       "Batches:   0%|          | 0/3 [00:00<?, ?it/s]"
      ]
     },
     "metadata": {},
     "output_type": "display_data"
    },
    {
     "data": {
      "application/vnd.jupyter.widget-view+json": {
       "model_id": "d25c8adf28cc40648628e82adfec2aa8",
       "version_major": 2,
       "version_minor": 0
      },
      "text/plain": [
       "Batches:   0%|          | 0/3 [00:00<?, ?it/s]"
      ]
     },
     "metadata": {},
     "output_type": "display_data"
    },
    {
     "name": "stdout",
     "output_type": "stream",
     "text": [
      "Procesando BM25 embeddings\n",
      "Embeddings finalizado\n"
     ]
    },
    {
     "name": "stderr",
     "output_type": "stream",
     "text": [
      "obteniendo rel_docs contriever: 300it [00:01, 211.27it/s]\n",
      "obteniendo rel_docs contriever_ft: 300it [00:01, 221.50it/s]\n",
      "obteniendo rel_docs dpr: 300it [00:01, 227.57it/s]\n",
      "obteniendo rel_docs bge_large: 300it [00:01, 182.67it/s]\n",
      "obteniendo rel_docs gte_large: 300it [00:01, 175.35it/s]\n",
      "obteniendo rel_docs sparse_bm25: 300it [00:00, 471.39it/s]\n"
     ]
    },
    {
     "name": "stdout",
     "output_type": "stream",
     "text": [
      "Found 300 previously generated documents in '../doc_gen/fire/doc5/contriever/generated_documents_scifact.jsonl'.\n"
     ]
    },
    {
     "name": "stderr",
     "output_type": "stream",
     "text": [
      "Processing queries (generate or skip): 300it [00:00, 1923992.66it/s]\n"
     ]
    },
    {
     "name": "stdout",
     "output_type": "stream",
     "text": [
      "Document generation complete. Results saved in: ../doc_gen/fire/doc5/contriever/generated_documents_scifact.jsonl\n",
      "Found 300 previously generated documents in '../doc_gen/fire/doc5/contriever_ft/generated_documents_scifact.jsonl'.\n"
     ]
    },
    {
     "name": "stderr",
     "output_type": "stream",
     "text": [
      "Processing queries (generate or skip): 300it [00:00, 2615990.02it/s]\n"
     ]
    },
    {
     "name": "stdout",
     "output_type": "stream",
     "text": [
      "Document generation complete. Results saved in: ../doc_gen/fire/doc5/contriever_ft/generated_documents_scifact.jsonl\n",
      "Found 300 previously generated documents in '../doc_gen/fire/doc5/dpr/generated_documents_scifact.jsonl'.\n"
     ]
    },
    {
     "name": "stderr",
     "output_type": "stream",
     "text": [
      "Processing queries (generate or skip): 300it [00:00, 2700195.71it/s]\n"
     ]
    },
    {
     "name": "stdout",
     "output_type": "stream",
     "text": [
      "Document generation complete. Results saved in: ../doc_gen/fire/doc5/dpr/generated_documents_scifact.jsonl\n",
      "Found 300 previously generated documents in '../doc_gen/fire/doc5/bge_large/generated_documents_scifact.jsonl'.\n"
     ]
    },
    {
     "name": "stderr",
     "output_type": "stream",
     "text": [
      "Processing queries (generate or skip): 300it [00:00, 2234975.49it/s]\n"
     ]
    },
    {
     "name": "stdout",
     "output_type": "stream",
     "text": [
      "Document generation complete. Results saved in: ../doc_gen/fire/doc5/bge_large/generated_documents_scifact.jsonl\n",
      "Found 300 previously generated documents in '../doc_gen/fire/doc5/gte_large/generated_documents_scifact.jsonl'.\n"
     ]
    },
    {
     "name": "stderr",
     "output_type": "stream",
     "text": [
      "Processing queries (generate or skip): 300it [00:00, 2275390.96it/s]\n"
     ]
    },
    {
     "name": "stdout",
     "output_type": "stream",
     "text": [
      "Document generation complete. Results saved in: ../doc_gen/fire/doc5/gte_large/generated_documents_scifact.jsonl\n",
      "Found 288 previously generated documents in '../doc_gen/fire/doc5/sparse_bm25/generated_documents_scifact.jsonl'.\n"
     ]
    },
    {
     "name": "stderr",
     "output_type": "stream",
     "text": [
      "Processing queries (generate or skip): 300it [04:28,  1.12it/s]"
     ]
    },
    {
     "name": "stdout",
     "output_type": "stream",
     "text": [
      "Document generation complete. Results saved in: ../doc_gen/fire/doc5/sparse_bm25/generated_documents_scifact.jsonl\n"
     ]
    },
    {
     "name": "stderr",
     "output_type": "stream",
     "text": [
      "\n"
     ]
    }
   ],
   "source": [
    "fire_rag.generate_and_save_prf(path='../doc_gen/fire/doc5/', batch_size=128, top_k=5)"
   ]
  },
  {
   "cell_type": "code",
   "execution_count": 4,
   "id": "0d6a5e4d-bcd7-4897-8870-a37c4ab084e2",
   "metadata": {
    "scrolled": true
   },
   "outputs": [
    {
     "name": "stderr",
     "output_type": "stream",
     "text": [
      "Procesando contriever...: 100%|████████████████████████████████████████████████████████| 3/3 [00:00<00:00,  3.70batch/s]\n",
      "Procesando contriever...: 100%|████████████████████████████████████████████████████████| 3/3 [00:02<00:00,  1.48batch/s]\n",
      "Procesando contriever...: 100%|████████████████████████████████████████████████████████| 3/3 [00:00<00:00,  7.28batch/s]\n",
      "Procesando contriever...: 100%|████████████████████████████████████████████████████████| 3/3 [00:02<00:00,  1.19batch/s]\n",
      "obteniendo resultados contriever: 300it [00:01, 265.91it/s]\n",
      "obteniendo resultados contriever: 300it [00:01, 292.45it/s]\n",
      "obteniendo resultados contriever: 300it [00:00, 303.57it/s]\n",
      "obteniendo resultados contriever: 300it [00:00, 301.67it/s]\n",
      "Procesando contriever...: 100%|████████████████████████████████████████████████████████| 3/3 [00:00<00:00, 11.69batch/s]\n",
      "Procesando contriever...: 100%|████████████████████████████████████████████████████████| 3/3 [00:01<00:00,  1.64batch/s]\n",
      "Procesando contriever...: 100%|████████████████████████████████████████████████████████| 3/3 [00:00<00:00,  6.98batch/s]\n",
      "Procesando contriever...: 100%|████████████████████████████████████████████████████████| 3/3 [00:02<00:00,  1.11batch/s]\n",
      "obteniendo resultados contriever_ft: 300it [00:00, 302.21it/s]\n",
      "obteniendo resultados contriever_ft: 300it [00:00, 302.53it/s]\n",
      "obteniendo resultados contriever_ft: 300it [00:00, 304.64it/s]\n",
      "obteniendo resultados contriever_ft: 300it [00:00, 300.74it/s]\n",
      "Procesando dpr...: 100%|███████████████████████████████████████████████████████████████| 3/3 [00:00<00:00,  8.87batch/s]\n",
      "Procesando dpr...: 100%|███████████████████████████████████████████████████████████████| 3/3 [00:03<00:00,  1.06s/batch]\n",
      "Procesando dpr...: 100%|███████████████████████████████████████████████████████████████| 3/3 [00:00<00:00,  4.84batch/s]\n",
      "Procesando dpr...: 100%|███████████████████████████████████████████████████████████████| 3/3 [00:03<00:00,  1.07s/batch]\n",
      "obteniendo resultados dpr: 300it [00:00, 303.25it/s]\n",
      "obteniendo resultados dpr: 300it [00:00, 303.54it/s]\n",
      "obteniendo resultados dpr: 300it [00:00, 301.82it/s]\n",
      "obteniendo resultados dpr: 300it [00:01, 299.66it/s]\n"
     ]
    },
    {
     "data": {
      "application/vnd.jupyter.widget-view+json": {
       "model_id": "ada6a810970344a49d1125b449c1c0a1",
       "version_major": 2,
       "version_minor": 0
      },
      "text/plain": [
       "Batches:   0%|          | 0/3 [00:00<?, ?it/s]"
      ]
     },
     "metadata": {},
     "output_type": "display_data"
    },
    {
     "data": {
      "application/vnd.jupyter.widget-view+json": {
       "model_id": "c2f10dfb9c714f349c839457ad8be95c",
       "version_major": 2,
       "version_minor": 0
      },
      "text/plain": [
       "Batches:   0%|          | 0/3 [00:00<?, ?it/s]"
      ]
     },
     "metadata": {},
     "output_type": "display_data"
    },
    {
     "data": {
      "application/vnd.jupyter.widget-view+json": {
       "model_id": "80ebe4d01bfa466bb73cf7d11be7c422",
       "version_major": 2,
       "version_minor": 0
      },
      "text/plain": [
       "Batches:   0%|          | 0/3 [00:00<?, ?it/s]"
      ]
     },
     "metadata": {},
     "output_type": "display_data"
    },
    {
     "data": {
      "application/vnd.jupyter.widget-view+json": {
       "model_id": "13e45b61c6f042d8a0959334bb81a0b4",
       "version_major": 2,
       "version_minor": 0
      },
      "text/plain": [
       "Batches:   0%|          | 0/3 [00:00<?, ?it/s]"
      ]
     },
     "metadata": {},
     "output_type": "display_data"
    },
    {
     "name": "stderr",
     "output_type": "stream",
     "text": [
      "obteniendo resultados bge_large: 300it [00:01, 252.95it/s]\n",
      "obteniendo resultados bge_large: 300it [00:01, 254.71it/s]\n",
      "obteniendo resultados bge_large: 300it [00:01, 254.88it/s]\n",
      "obteniendo resultados bge_large: 300it [00:01, 254.12it/s]\n"
     ]
    },
    {
     "data": {
      "application/vnd.jupyter.widget-view+json": {
       "model_id": "deb91ed8b81548d5a097949916d3691d",
       "version_major": 2,
       "version_minor": 0
      },
      "text/plain": [
       "Batches:   0%|          | 0/3 [00:00<?, ?it/s]"
      ]
     },
     "metadata": {},
     "output_type": "display_data"
    },
    {
     "data": {
      "application/vnd.jupyter.widget-view+json": {
       "model_id": "5043b756b9b94532ac95a5888f3f2759",
       "version_major": 2,
       "version_minor": 0
      },
      "text/plain": [
       "Batches:   0%|          | 0/3 [00:00<?, ?it/s]"
      ]
     },
     "metadata": {},
     "output_type": "display_data"
    },
    {
     "data": {
      "application/vnd.jupyter.widget-view+json": {
       "model_id": "ee10063a37b84688a6cefef52ad5efcd",
       "version_major": 2,
       "version_minor": 0
      },
      "text/plain": [
       "Batches:   0%|          | 0/3 [00:00<?, ?it/s]"
      ]
     },
     "metadata": {},
     "output_type": "display_data"
    },
    {
     "data": {
      "application/vnd.jupyter.widget-view+json": {
       "model_id": "a095c07b99f048ea8dad3a75d0469968",
       "version_major": 2,
       "version_minor": 0
      },
      "text/plain": [
       "Batches:   0%|          | 0/3 [00:00<?, ?it/s]"
      ]
     },
     "metadata": {},
     "output_type": "display_data"
    },
    {
     "name": "stderr",
     "output_type": "stream",
     "text": [
      "obteniendo resultados gte_large: 300it [00:01, 254.24it/s]\n",
      "obteniendo resultados gte_large: 300it [00:01, 249.18it/s]\n",
      "obteniendo resultados gte_large: 300it [00:01, 246.16it/s]\n",
      "obteniendo resultados gte_large: 300it [00:01, 253.63it/s]\n"
     ]
    },
    {
     "name": "stdout",
     "output_type": "stream",
     "text": [
      "Procesando BM25 embeddings\n",
      "Procesando BM25 embeddings\n",
      "Procesando BM25 embeddings\n",
      "Procesando BM25 embeddings\n"
     ]
    },
    {
     "name": "stderr",
     "output_type": "stream",
     "text": [
      "obteniendo resultados sparse_bm25: 300it [00:00, 464.89it/s]\n",
      "obteniendo resultados sparse_bm25: 300it [00:01, 221.61it/s]\n",
      "obteniendo resultados sparse_bm25: 300it [00:00, 393.93it/s]\n",
      "obteniendo resultados sparse_bm25: 300it [00:01, 273.58it/s]\n"
     ]
    }
   ],
   "source": [
    "fire_rag.get_results_from_jsonl_fire('../doc_gen/fire/doc5/',f'../results/fire/doc5/{dataset_name}/', 32,10,10)"
   ]
  },
  {
   "cell_type": "code",
   "execution_count": 7,
   "id": "39f1393d-c899-47a3-8c3c-35f40b9c5cb6",
   "metadata": {},
   "outputs": [
    {
     "name": "stdout",
     "output_type": "stream",
     "text": [
      "scifact\n"
     ]
    },
    {
     "data": {
      "application/vnd.jupyter.widget-view+json": {
       "model_id": "f4511d1160b841cd8ac7e88137ac8ab8",
       "version_major": 2,
       "version_minor": 0
      },
      "text/plain": [
       "  0%|          | 0/5183 [00:00<?, ?it/s]"
      ]
     },
     "metadata": {},
     "output_type": "display_data"
    },
    {
     "name": "stdout",
     "output_type": "stream",
     "text": [
      "Calculando metricas de results_contriever_ft.json\n",
      "  Métricas guardadas en: ../metrics/doc5/scifact/results_contriever_ft.json\n",
      "Calculando metricas de results_bge_large.json\n",
      "  Métricas guardadas en: ../metrics/doc5/scifact/results_bge_large.json\n",
      "Calculando metricas de results_dpr.json\n",
      "  Métricas guardadas en: ../metrics/doc5/scifact/results_dpr.json\n",
      "Calculando metricas de results_contriever.json\n",
      "  Métricas guardadas en: ../metrics/doc5/scifact/results_contriever.json\n",
      "Calculando metricas de results_gte_large.json\n",
      "  Métricas guardadas en: ../metrics/doc5/scifact/results_gte_large.json\n",
      "Calculando metricas de results_sparse_bm25.json\n",
      "  Métricas guardadas en: ../metrics/doc5/scifact/results_sparse_bm25.json\n"
     ]
    }
   ],
   "source": [
    "from kdir_src.utils.evaluation import evaluate_all_results\n",
    "evaluate_all_results(f'../results/fire/doc5/{dataset_name}')"
   ]
  },
  {
   "cell_type": "code",
   "execution_count": null,
   "id": "8be3931d-7db2-4743-a92c-a032c9f2b85a",
   "metadata": {},
   "outputs": [],
   "source": [
    "## solo del docs"
   ]
  },
  {
   "cell_type": "code",
   "execution_count": 3,
   "id": "00c6ed35-c77e-4497-b9bd-3af4c95ad119",
   "metadata": {},
   "outputs": [
    {
     "name": "stderr",
     "output_type": "stream",
     "text": [
      "Procesando contriever...: 100%|████████████████████████████████████████████████████████| 3/3 [00:02<00:00,  1.12batch/s]\n",
      "obteniendo resultados contriever: 300it [00:01, 195.09it/s]\n",
      "Procesando contriever...: 100%|████████████████████████████████████████████████████████| 3/3 [00:02<00:00,  1.47batch/s]\n",
      "obteniendo resultados contriever_ft: 300it [00:01, 203.67it/s]\n",
      "Procesando dpr...: 100%|███████████████████████████████████████████████████████████████| 3/3 [00:03<00:00,  1.18s/batch]\n",
      "obteniendo resultados dpr: 300it [00:01, 205.15it/s]\n"
     ]
    },
    {
     "data": {
      "application/vnd.jupyter.widget-view+json": {
       "model_id": "38f02be8dcd64b4ab6bb61e141c5dbb4",
       "version_major": 2,
       "version_minor": 0
      },
      "text/plain": [
       "Batches:   0%|          | 0/3 [00:00<?, ?it/s]"
      ]
     },
     "metadata": {},
     "output_type": "display_data"
    },
    {
     "name": "stderr",
     "output_type": "stream",
     "text": [
      "obteniendo resultados bge_large: 300it [00:01, 173.76it/s]\n"
     ]
    },
    {
     "data": {
      "application/vnd.jupyter.widget-view+json": {
       "model_id": "1e00e411d5324c9cb8b804b716c6e841",
       "version_major": 2,
       "version_minor": 0
      },
      "text/plain": [
       "Batches:   0%|          | 0/3 [00:00<?, ?it/s]"
      ]
     },
     "metadata": {},
     "output_type": "display_data"
    },
    {
     "name": "stderr",
     "output_type": "stream",
     "text": [
      "obteniendo resultados gte_large: 300it [00:01, 173.96it/s]\n"
     ]
    },
    {
     "name": "stdout",
     "output_type": "stream",
     "text": [
      "Procesando BM25 embeddings\n"
     ]
    },
    {
     "name": "stderr",
     "output_type": "stream",
     "text": [
      "obteniendo resultados sparse_bm25: 300it [00:00, 363.00it/s]\n"
     ]
    }
   ],
   "source": [
    "fire_rag.get_results_only_docs_from_jsonl_fire('../doc_gen/fire/doc5/',f'../results/fire/doc5_onlydoc/{dataset_name}/', 32,10,10)"
   ]
  },
  {
   "cell_type": "code",
   "execution_count": 4,
   "id": "a6defa45-2085-417b-867d-375b084187be",
   "metadata": {},
   "outputs": [
    {
     "name": "stdout",
     "output_type": "stream",
     "text": [
      "scifact\n"
     ]
    },
    {
     "data": {
      "application/vnd.jupyter.widget-view+json": {
       "model_id": "ef924fd72ecc41eea7061a1bfbf7ebdc",
       "version_major": 2,
       "version_minor": 0
      },
      "text/plain": [
       "  0%|          | 0/5183 [00:00<?, ?it/s]"
      ]
     },
     "metadata": {},
     "output_type": "display_data"
    },
    {
     "name": "stdout",
     "output_type": "stream",
     "text": [
      "Calculando metricas de results_contriever_ft.json\n",
      "  Métricas guardadas en: ../metrics/doc5_onlydoc/scifact/results_contriever_ft.json\n",
      "Calculando metricas de results_bge_large.json\n",
      "  Métricas guardadas en: ../metrics/doc5_onlydoc/scifact/results_bge_large.json\n",
      "Calculando metricas de results_dpr.json\n",
      "  Métricas guardadas en: ../metrics/doc5_onlydoc/scifact/results_dpr.json\n",
      "Calculando metricas de results_contriever.json\n",
      "  Métricas guardadas en: ../metrics/doc5_onlydoc/scifact/results_contriever.json\n",
      "Calculando metricas de results_gte_large.json\n",
      "  Métricas guardadas en: ../metrics/doc5_onlydoc/scifact/results_gte_large.json\n",
      "Calculando metricas de results_sparse_bm25.json\n",
      "  Métricas guardadas en: ../metrics/doc5_onlydoc/scifact/results_sparse_bm25.json\n"
     ]
    }
   ],
   "source": [
    "from kdir_src.utils.evaluation import evaluate_all_results\n",
    "evaluate_all_results(f'../results/fire/doc5_onlydoc/{dataset_name}')"
   ]
  },
  {
   "cell_type": "code",
   "execution_count": 3,
   "id": "3d84fbc1-9998-427e-b5e7-e889cde17781",
   "metadata": {},
   "outputs": [
    {
     "name": "stderr",
     "output_type": "stream",
     "text": [
      "Procesando contriever...: 100%|████████████████████████████████████████████████████████| 3/3 [00:00<00:00,  3.27batch/s]\n",
      "obteniendo resultados contriever: 300it [00:01, 200.10it/s]\n",
      "Procesando contriever...: 100%|████████████████████████████████████████████████████████| 3/3 [00:00<00:00,  6.60batch/s]\n",
      "obteniendo resultados contriever_ft: 300it [00:01, 198.36it/s]\n",
      "Procesando dpr...: 100%|███████████████████████████████████████████████████████████████| 3/3 [00:00<00:00,  4.56batch/s]\n",
      "obteniendo resultados dpr: 300it [00:01, 198.85it/s]\n"
     ]
    },
    {
     "data": {
      "application/vnd.jupyter.widget-view+json": {
       "model_id": "89f85cee000245c681a99b710c0c4b6f",
       "version_major": 2,
       "version_minor": 0
      },
      "text/plain": [
       "Batches:   0%|          | 0/3 [00:00<?, ?it/s]"
      ]
     },
     "metadata": {},
     "output_type": "display_data"
    },
    {
     "name": "stderr",
     "output_type": "stream",
     "text": [
      "obteniendo resultados bge_large: 300it [00:01, 173.81it/s]\n"
     ]
    },
    {
     "data": {
      "application/vnd.jupyter.widget-view+json": {
       "model_id": "76452b2639b84094ae7f3a9a36743998",
       "version_major": 2,
       "version_minor": 0
      },
      "text/plain": [
       "Batches:   0%|          | 0/3 [00:00<?, ?it/s]"
      ]
     },
     "metadata": {},
     "output_type": "display_data"
    },
    {
     "name": "stderr",
     "output_type": "stream",
     "text": [
      "obteniendo resultados gte_large: 300it [00:01, 166.59it/s]\n"
     ]
    },
    {
     "name": "stdout",
     "output_type": "stream",
     "text": [
      "Procesando BM25 embeddings\n"
     ]
    },
    {
     "name": "stderr",
     "output_type": "stream",
     "text": [
      "obteniendo resultados sparse_bm25: 300it [00:00, 393.43it/s]\n"
     ]
    }
   ],
   "source": [
    "## Solo uno \n",
    "pseudo = 'generated_query' # \"generated_document\"    \"generated_query\"   \"generated_answer\"\n",
    "fire_rag.get_results_only_one_from_jsonl_fire(pseudo, '../doc_gen/fire/doc5/',f'../results/fire/fire_{pseudo}/{dataset_name}/', 32,10,10)\n"
   ]
  },
  {
   "cell_type": "code",
   "execution_count": 4,
   "id": "44ba3cd7-faf2-49b6-99de-d97ad6c4f997",
   "metadata": {},
   "outputs": [
    {
     "name": "stdout",
     "output_type": "stream",
     "text": [
      "scifact\n"
     ]
    },
    {
     "data": {
      "application/vnd.jupyter.widget-view+json": {
       "model_id": "a4a549d3645c49dd807408a21e2690af",
       "version_major": 2,
       "version_minor": 0
      },
      "text/plain": [
       "  0%|          | 0/5183 [00:00<?, ?it/s]"
      ]
     },
     "metadata": {},
     "output_type": "display_data"
    },
    {
     "name": "stdout",
     "output_type": "stream",
     "text": [
      "Calculando metricas de results_contriever_ft.json\n",
      "  Métricas guardadas en: ../metrics/fire_generated_query/scifact/results_contriever_ft.json\n",
      "Calculando metricas de results_bge_large.json\n",
      "  Métricas guardadas en: ../metrics/fire_generated_query/scifact/results_bge_large.json\n",
      "Calculando metricas de results_dpr.json\n",
      "  Métricas guardadas en: ../metrics/fire_generated_query/scifact/results_dpr.json\n",
      "Calculando metricas de results_contriever.json\n",
      "  Métricas guardadas en: ../metrics/fire_generated_query/scifact/results_contriever.json\n",
      "Calculando metricas de results_gte_large.json\n",
      "  Métricas guardadas en: ../metrics/fire_generated_query/scifact/results_gte_large.json\n",
      "Calculando metricas de results_sparse_bm25.json\n",
      "  Métricas guardadas en: ../metrics/fire_generated_query/scifact/results_sparse_bm25.json\n"
     ]
    }
   ],
   "source": [
    "from kdir_src.utils.evaluation import evaluate_all_results\n",
    "evaluate_all_results(f'../results/fire/fire_{pseudo}/{dataset_name}')"
   ]
  },
  {
   "cell_type": "code",
   "execution_count": 5,
   "id": "078893db-63d8-4ed4-aae7-88c8481640e4",
   "metadata": {},
   "outputs": [
    {
     "name": "stderr",
     "output_type": "stream",
     "text": [
      "Procesando contriever...: 100%|████████████████████████████████████████████████████████| 3/3 [00:02<00:00,  1.12batch/s]\n",
      "obteniendo resultados contriever: 300it [00:01, 230.61it/s]\n",
      "Procesando contriever...: 100%|████████████████████████████████████████████████████████| 3/3 [00:02<00:00,  1.08batch/s]\n",
      "obteniendo resultados contriever_ft: 300it [00:01, 221.70it/s]\n",
      "Procesando dpr...: 100%|███████████████████████████████████████████████████████████████| 3/3 [00:03<00:00,  1.15s/batch]\n",
      "obteniendo resultados dpr: 300it [00:01, 221.06it/s]\n"
     ]
    },
    {
     "data": {
      "application/vnd.jupyter.widget-view+json": {
       "model_id": "e3be237c839e49709463afd50ea78eb9",
       "version_major": 2,
       "version_minor": 0
      },
      "text/plain": [
       "Batches:   0%|          | 0/3 [00:00<?, ?it/s]"
      ]
     },
     "metadata": {},
     "output_type": "display_data"
    },
    {
     "name": "stderr",
     "output_type": "stream",
     "text": [
      "obteniendo resultados bge_large: 300it [00:01, 185.69it/s]\n"
     ]
    },
    {
     "data": {
      "application/vnd.jupyter.widget-view+json": {
       "model_id": "75e3bd51bd76487286f8f4a306ffa133",
       "version_major": 2,
       "version_minor": 0
      },
      "text/plain": [
       "Batches:   0%|          | 0/3 [00:00<?, ?it/s]"
      ]
     },
     "metadata": {},
     "output_type": "display_data"
    },
    {
     "name": "stderr",
     "output_type": "stream",
     "text": [
      "obteniendo resultados gte_large: 300it [00:01, 183.64it/s]\n"
     ]
    },
    {
     "name": "stdout",
     "output_type": "stream",
     "text": [
      "Procesando BM25 embeddings\n"
     ]
    },
    {
     "name": "stderr",
     "output_type": "stream",
     "text": [
      "obteniendo resultados sparse_bm25: 300it [00:00, 416.60it/s]\n"
     ]
    }
   ],
   "source": [
    "## only answer\n",
    "pseudo = 'generated_answer' # \"generated_document\"    \"generated_query\"   \"generated_answer\"\n",
    "fire_rag.get_results_only_one_from_jsonl_fire(pseudo, '../doc_gen/fire/doc5/',f'../results/fire/fire_{pseudo}/{dataset_name}/', 32,10,10)"
   ]
  },
  {
   "cell_type": "code",
   "execution_count": 6,
   "id": "2ead7643-ba52-4468-aba8-47579e83c34d",
   "metadata": {},
   "outputs": [
    {
     "name": "stdout",
     "output_type": "stream",
     "text": [
      "scifact\n"
     ]
    },
    {
     "data": {
      "application/vnd.jupyter.widget-view+json": {
       "model_id": "dc76aede20b24dbf9515fa50ce7980ea",
       "version_major": 2,
       "version_minor": 0
      },
      "text/plain": [
       "  0%|          | 0/5183 [00:00<?, ?it/s]"
      ]
     },
     "metadata": {},
     "output_type": "display_data"
    },
    {
     "name": "stdout",
     "output_type": "stream",
     "text": [
      "Calculando metricas de results_contriever_ft.json\n",
      "  Métricas guardadas en: ../metrics/fire_generated_answer/scifact/results_contriever_ft.json\n",
      "Calculando metricas de results_bge_large.json\n",
      "  Métricas guardadas en: ../metrics/fire_generated_answer/scifact/results_bge_large.json\n",
      "Calculando metricas de results_dpr.json\n",
      "  Métricas guardadas en: ../metrics/fire_generated_answer/scifact/results_dpr.json\n",
      "Calculando metricas de results_contriever.json\n",
      "  Métricas guardadas en: ../metrics/fire_generated_answer/scifact/results_contriever.json\n",
      "Calculando metricas de results_gte_large.json\n",
      "  Métricas guardadas en: ../metrics/fire_generated_answer/scifact/results_gte_large.json\n",
      "Calculando metricas de results_sparse_bm25.json\n",
      "  Métricas guardadas en: ../metrics/fire_generated_answer/scifact/results_sparse_bm25.json\n"
     ]
    }
   ],
   "source": [
    "from kdir_src.utils.evaluation import evaluate_all_results\n",
    "evaluate_all_results(f'../results/fire/fire_{pseudo}/{dataset_name}')"
   ]
  },
  {
   "cell_type": "code",
   "execution_count": null,
   "id": "dd56e769-7a9b-4479-bd1b-b6d634b2961d",
   "metadata": {},
   "outputs": [],
   "source": []
  }
 ],
 "metadata": {
  "kernelspec": {
   "display_name": "kdir_envi",
   "language": "python",
   "name": "python3"
  },
  "language_info": {
   "codemirror_mode": {
    "name": "ipython",
    "version": 3
   },
   "file_extension": ".py",
   "mimetype": "text/x-python",
   "name": "python",
   "nbconvert_exporter": "python",
   "pygments_lexer": "ipython3",
   "version": "3.10.18"
  }
 },
 "nbformat": 4,
 "nbformat_minor": 5
}
