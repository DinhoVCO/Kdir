{
 "cells": [
  {
   "cell_type": "markdown",
   "id": "226f21bf-c42c-42ec-9e4a-ea11bbfb04d3",
   "metadata": {
    "jp-MarkdownHeadingCollapsed": true
   },
   "source": [
    "# scifact"
   ]
  },
  {
   "cell_type": "code",
   "execution_count": 1,
   "id": "ccdd33ad-06aa-41df-867b-0921b79488cb",
   "metadata": {},
   "outputs": [
    {
     "name": "stderr",
     "output_type": "stream",
     "text": [
      "/local1/ronaldinho/enviroments/env_kdir/lib/python3.10/site-packages/beir/util.py:11: TqdmExperimentalWarning: Using `tqdm.autonotebook.tqdm` in notebook mode. Use `tqdm.tqdm` instead to force console mode (e.g. in jupyter console)\n",
      "  from tqdm.autonotebook import tqdm\n"
     ]
    }
   ],
   "source": [
    "from kdir_src.fire.Fire import Fire\n",
    "from kdir_src.fire.promptor_fire import Promptor_fire\n",
    "from kdir_src.generators.mistral_ai import MistralGenerator\n",
    "from kdir_src.models.all_models import load_models"
   ]
  },
  {
   "cell_type": "code",
   "execution_count": null,
   "id": "8b73b9ca-998e-48b1-8c7b-1da5511c82c3",
   "metadata": {
    "scrolled": true
   },
   "outputs": [
    {
     "name": "stdout",
     "output_type": "stream",
     "text": [
      "Loading contriever...\n",
      "Loading contriever FT...\n",
      "Loading question dpr...\n"
     ]
    },
    {
     "name": "stderr",
     "output_type": "stream",
     "text": [
      "Some weights of the model checkpoint at facebook/dpr-question_encoder-single-nq-base were not used when initializing DPRQuestionEncoder: ['question_encoder.bert_model.pooler.dense.bias', 'question_encoder.bert_model.pooler.dense.weight']\n",
      "- This IS expected if you are initializing DPRQuestionEncoder from the checkpoint of a model trained on another task or with another architecture (e.g. initializing a BertForSequenceClassification model from a BertForPreTraining model).\n",
      "- This IS NOT expected if you are initializing DPRQuestionEncoder from the checkpoint of a model that you expect to be exactly identical (initializing a BertForSequenceClassification model from a BertForSequenceClassification model).\n"
     ]
    },
    {
     "name": "stdout",
     "output_type": "stream",
     "text": [
      "Loading context dpr...\n"
     ]
    },
    {
     "name": "stderr",
     "output_type": "stream",
     "text": [
      "The tokenizer class you load from this checkpoint is not the same type as the class this function is called from. It may result in unexpected tokenization. \n",
      "The tokenizer class you load from this checkpoint is 'DPRQuestionEncoderTokenizer'. \n",
      "The class this function is called from is 'DPRContextEncoderTokenizer'.\n",
      "Some weights of the model checkpoint at facebook/dpr-ctx_encoder-single-nq-base were not used when initializing DPRContextEncoder: ['ctx_encoder.bert_model.pooler.dense.bias', 'ctx_encoder.bert_model.pooler.dense.weight']\n",
      "- This IS expected if you are initializing DPRContextEncoder from the checkpoint of a model trained on another task or with another architecture (e.g. initializing a BertForSequenceClassification model from a BertForPreTraining model).\n",
      "- This IS NOT expected if you are initializing DPRContextEncoder from the checkpoint of a model that you expect to be exactly identical (initializing a BertForSequenceClassification model from a BertForSequenceClassification model).\n"
     ]
    },
    {
     "name": "stdout",
     "output_type": "stream",
     "text": [
      "Loading bge large...\n",
      "Loading gte large...\n",
      "Loading bm25...\n"
     ]
    }
   ],
   "source": [
    "dataset_name='scifact'\n",
    "promptor = Promptor_fire(dataset_name)\n",
    "encoder_models = load_models()\n",
    "KEY = ''\n",
    "generator = MistralGenerator('mistral-small-2503', KEY, 1, 512, 0.0)\n",
    "fire_rag = Fire(dataset_name, promptor, generator, encoder_models)"
   ]
  },
  {
   "cell_type": "markdown",
   "id": "ce285ed0",
   "metadata": {},
   "source": [
    "## Obtain results from Gen doc, Gen answer, and original query"
   ]
  },
  {
   "cell_type": "code",
   "execution_count": 3,
   "id": "1cdd0121-22d1-474e-8419-863a423d25d0",
   "metadata": {},
   "outputs": [
    {
     "name": "stderr",
     "output_type": "stream",
     "text": [
      "Procesando contriever...: 100%|████████████████████████████████████████████████████████| 3/3 [00:00<00:00,  5.76batch/s]\n",
      "Procesando contriever...: 100%|████████████████████████████████████████████████████████| 3/3 [00:02<00:00,  1.47batch/s]\n",
      "Procesando contriever...: 100%|████████████████████████████████████████████████████████| 3/3 [00:02<00:00,  1.19batch/s]\n",
      "obteniendo resultados contriever: 300it [00:00, 300.28it/s]\n",
      "obteniendo resultados contriever: 300it [00:00, 300.28it/s]\n",
      "obteniendo resultados contriever: 300it [00:01, 298.27it/s]\n",
      "Procesando contriever...: 100%|████████████████████████████████████████████████████████| 3/3 [00:00<00:00, 11.29batch/s]\n",
      "Procesando contriever...: 100%|████████████████████████████████████████████████████████| 3/3 [00:01<00:00,  1.63batch/s]\n",
      "Procesando contriever...: 100%|████████████████████████████████████████████████████████| 3/3 [00:02<00:00,  1.14batch/s]\n",
      "obteniendo resultados contriever_ft: 300it [00:01, 298.81it/s]\n",
      "obteniendo resultados contriever_ft: 300it [00:00, 300.17it/s]\n",
      "obteniendo resultados contriever_ft: 300it [00:01, 299.98it/s]\n",
      "Procesando dpr...: 100%|███████████████████████████████████████████████████████████████| 3/3 [00:00<00:00,  8.80batch/s]\n",
      "Procesando dpr...: 100%|███████████████████████████████████████████████████████████████| 3/3 [00:03<00:00,  1.07s/batch]\n",
      "Procesando dpr...: 100%|███████████████████████████████████████████████████████████████| 3/3 [00:03<00:00,  1.08s/batch]\n",
      "obteniendo resultados dpr: 300it [00:01, 299.65it/s]\n",
      "obteniendo resultados dpr: 300it [00:00, 303.27it/s]\n",
      "obteniendo resultados dpr: 300it [00:01, 299.48it/s]\n"
     ]
    },
    {
     "data": {
      "application/vnd.jupyter.widget-view+json": {
       "model_id": "2d132c2c89054a899312d89191e8d4a6",
       "version_major": 2,
       "version_minor": 0
      },
      "text/plain": [
       "Batches:   0%|          | 0/3 [00:00<?, ?it/s]"
      ]
     },
     "metadata": {},
     "output_type": "display_data"
    },
    {
     "data": {
      "application/vnd.jupyter.widget-view+json": {
       "model_id": "da909c12e1f344b7bf5d2b019f1be8dd",
       "version_major": 2,
       "version_minor": 0
      },
      "text/plain": [
       "Batches:   0%|          | 0/3 [00:00<?, ?it/s]"
      ]
     },
     "metadata": {},
     "output_type": "display_data"
    },
    {
     "data": {
      "application/vnd.jupyter.widget-view+json": {
       "model_id": "a6ffca1396e14753b143b2635c24f0dd",
       "version_major": 2,
       "version_minor": 0
      },
      "text/plain": [
       "Batches:   0%|          | 0/3 [00:00<?, ?it/s]"
      ]
     },
     "metadata": {},
     "output_type": "display_data"
    },
    {
     "name": "stderr",
     "output_type": "stream",
     "text": [
      "obteniendo resultados bge_large: 300it [00:01, 252.95it/s]\n",
      "obteniendo resultados bge_large: 300it [00:01, 254.86it/s]\n",
      "obteniendo resultados bge_large: 300it [00:01, 254.07it/s]\n"
     ]
    },
    {
     "data": {
      "application/vnd.jupyter.widget-view+json": {
       "model_id": "f4c37d62adac4491b914dead48e8d88b",
       "version_major": 2,
       "version_minor": 0
      },
      "text/plain": [
       "Batches:   0%|          | 0/3 [00:00<?, ?it/s]"
      ]
     },
     "metadata": {},
     "output_type": "display_data"
    },
    {
     "data": {
      "application/vnd.jupyter.widget-view+json": {
       "model_id": "22588d0490ca4f13af474d2225e3320f",
       "version_major": 2,
       "version_minor": 0
      },
      "text/plain": [
       "Batches:   0%|          | 0/3 [00:00<?, ?it/s]"
      ]
     },
     "metadata": {},
     "output_type": "display_data"
    },
    {
     "data": {
      "application/vnd.jupyter.widget-view+json": {
       "model_id": "b802941914044a0e973d6261d012d517",
       "version_major": 2,
       "version_minor": 0
      },
      "text/plain": [
       "Batches:   0%|          | 0/3 [00:00<?, ?it/s]"
      ]
     },
     "metadata": {},
     "output_type": "display_data"
    },
    {
     "name": "stderr",
     "output_type": "stream",
     "text": [
      "obteniendo resultados gte_large: 300it [00:01, 253.12it/s]\n",
      "obteniendo resultados gte_large: 300it [00:01, 255.77it/s]\n",
      "obteniendo resultados gte_large: 300it [00:01, 256.11it/s]\n"
     ]
    },
    {
     "name": "stdout",
     "output_type": "stream",
     "text": [
      "Procesando BM25 embeddings\n",
      "Procesando BM25 embeddings\n",
      "Procesando BM25 embeddings\n"
     ]
    },
    {
     "name": "stderr",
     "output_type": "stream",
     "text": [
      "obteniendo resultados sparse_bm25: 300it [00:00, 573.47it/s]\n",
      "obteniendo resultados sparse_bm25: 300it [00:00, 371.18it/s]\n",
      "obteniendo resultados sparse_bm25: 300it [00:00, 347.26it/s]\n"
     ]
    }
   ],
   "source": [
    "fire_rag.get_3best_results_rrf_from_jsonl_fire('../doc_gen/fire/doc5/',f'../results/fire/3_rrf/{dataset_name}/', 32,10,10)"
   ]
  },
  {
   "cell_type": "code",
   "execution_count": 4,
   "id": "6caacaa0-c7ee-40df-bbfb-1cb032536a68",
   "metadata": {},
   "outputs": [
    {
     "name": "stdout",
     "output_type": "stream",
     "text": [
      "scifact\n"
     ]
    },
    {
     "data": {
      "application/vnd.jupyter.widget-view+json": {
       "model_id": "8323fb7e9916464c8137b952827c958f",
       "version_major": 2,
       "version_minor": 0
      },
      "text/plain": [
       "  0%|          | 0/5183 [00:00<?, ?it/s]"
      ]
     },
     "metadata": {},
     "output_type": "display_data"
    },
    {
     "name": "stdout",
     "output_type": "stream",
     "text": [
      "Calculando metricas de results_contriever_ft.json\n",
      "  Métricas guardadas en: ../metrics/3_rrf/scifact/results_contriever_ft.json\n",
      "Calculando metricas de results_bge_large.json\n",
      "  Métricas guardadas en: ../metrics/3_rrf/scifact/results_bge_large.json\n",
      "Calculando metricas de results_dpr.json\n",
      "  Métricas guardadas en: ../metrics/3_rrf/scifact/results_dpr.json\n",
      "Calculando metricas de results_contriever.json\n",
      "  Métricas guardadas en: ../metrics/3_rrf/scifact/results_contriever.json\n",
      "Calculando metricas de results_gte_large.json\n",
      "  Métricas guardadas en: ../metrics/3_rrf/scifact/results_gte_large.json\n",
      "Calculando metricas de results_sparse_bm25.json\n",
      "  Métricas guardadas en: ../metrics/3_rrf/scifact/results_sparse_bm25.json\n"
     ]
    }
   ],
   "source": [
    "from kdir_src.utils.evaluation import evaluate_all_results\n",
    "evaluate_all_results(f'../results/fire/3_rrf/{dataset_name}')"
   ]
  },
  {
   "cell_type": "markdown",
   "id": "110d99ec-849e-47f3-9b48-1842f6bcf75b",
   "metadata": {},
   "source": [
    "## Obtain results from Gen doc, Gen answer , Gen Query and original query"
   ]
  },
  {
   "cell_type": "code",
   "execution_count": 3,
   "id": "b186c036-6600-4131-afda-eaf8ec00b7bc",
   "metadata": {
    "scrolled": true
   },
   "outputs": [
    {
     "name": "stderr",
     "output_type": "stream",
     "text": [
      "Procesando contriever...: 100%|████████████████████████████████████████████████████████| 3/3 [00:00<00:00,  4.44batch/s]\n",
      "Procesando contriever...: 100%|████████████████████████████████████████████████████████| 3/3 [00:02<00:00,  1.34batch/s]\n",
      "Procesando contriever...: 100%|████████████████████████████████████████████████████████| 3/3 [00:00<00:00,  6.71batch/s]\n",
      "Procesando contriever...: 100%|████████████████████████████████████████████████████████| 3/3 [00:02<00:00,  1.08batch/s]\n",
      "obteniendo resultados contriever: 300it [00:01, 199.45it/s]\n",
      "obteniendo resultados contriever: 300it [00:01, 205.54it/s]\n",
      "obteniendo resultados contriever: 300it [00:01, 204.51it/s]\n",
      "obteniendo resultados contriever: 300it [00:01, 217.56it/s]\n",
      "Procesando contriever...: 100%|████████████████████████████████████████████████████████| 3/3 [00:00<00:00, 11.60batch/s]\n",
      "Procesando contriever...: 100%|████████████████████████████████████████████████████████| 3/3 [00:02<00:00,  1.48batch/s]\n",
      "Procesando contriever...: 100%|████████████████████████████████████████████████████████| 3/3 [00:00<00:00,  6.69batch/s]\n",
      "Procesando contriever...: 100%|████████████████████████████████████████████████████████| 3/3 [00:02<00:00,  1.05batch/s]\n",
      "obteniendo resultados contriever_ft: 300it [00:01, 213.46it/s]\n",
      "obteniendo resultados contriever_ft: 300it [00:01, 201.88it/s]\n",
      "obteniendo resultados contriever_ft: 300it [00:01, 215.05it/s]\n",
      "obteniendo resultados contriever_ft: 300it [00:01, 205.07it/s]\n",
      "Procesando dpr...: 100%|███████████████████████████████████████████████████████████████| 3/3 [00:00<00:00,  7.69batch/s]\n",
      "Procesando dpr...: 100%|███████████████████████████████████████████████████████████████| 3/3 [00:03<00:00,  1.19s/batch]\n",
      "Procesando dpr...: 100%|███████████████████████████████████████████████████████████████| 3/3 [00:00<00:00,  4.37batch/s]\n",
      "Procesando dpr...: 100%|███████████████████████████████████████████████████████████████| 3/3 [00:03<00:00,  1.20s/batch]\n",
      "obteniendo resultados dpr: 300it [00:01, 212.47it/s]\n",
      "obteniendo resultados dpr: 300it [00:01, 212.30it/s]\n",
      "obteniendo resultados dpr: 300it [00:01, 206.89it/s]\n",
      "obteniendo resultados dpr: 300it [00:01, 207.76it/s]\n"
     ]
    },
    {
     "data": {
      "application/vnd.jupyter.widget-view+json": {
       "model_id": "da87e57ddf494e07a93a0e40e10d0969",
       "version_major": 2,
       "version_minor": 0
      },
      "text/plain": [
       "Batches:   0%|          | 0/3 [00:00<?, ?it/s]"
      ]
     },
     "metadata": {},
     "output_type": "display_data"
    },
    {
     "data": {
      "application/vnd.jupyter.widget-view+json": {
       "model_id": "e0e84dc80ca24e129a6c06010e755ab6",
       "version_major": 2,
       "version_minor": 0
      },
      "text/plain": [
       "Batches:   0%|          | 0/3 [00:00<?, ?it/s]"
      ]
     },
     "metadata": {},
     "output_type": "display_data"
    },
    {
     "data": {
      "application/vnd.jupyter.widget-view+json": {
       "model_id": "b7ad179b9aa748d4be37078998b53e09",
       "version_major": 2,
       "version_minor": 0
      },
      "text/plain": [
       "Batches:   0%|          | 0/3 [00:00<?, ?it/s]"
      ]
     },
     "metadata": {},
     "output_type": "display_data"
    },
    {
     "data": {
      "application/vnd.jupyter.widget-view+json": {
       "model_id": "d6f3ff60166c49b7b60f29e950d5b9d7",
       "version_major": 2,
       "version_minor": 0
      },
      "text/plain": [
       "Batches:   0%|          | 0/3 [00:00<?, ?it/s]"
      ]
     },
     "metadata": {},
     "output_type": "display_data"
    },
    {
     "name": "stderr",
     "output_type": "stream",
     "text": [
      "obteniendo resultados bge_large: 300it [00:01, 175.31it/s]\n",
      "obteniendo resultados bge_large: 300it [00:01, 176.65it/s]\n",
      "obteniendo resultados bge_large: 300it [00:01, 173.03it/s]\n",
      "obteniendo resultados bge_large: 300it [00:01, 173.38it/s]\n"
     ]
    },
    {
     "data": {
      "application/vnd.jupyter.widget-view+json": {
       "model_id": "fc5850a89d4f4741952c69c53a17c7ee",
       "version_major": 2,
       "version_minor": 0
      },
      "text/plain": [
       "Batches:   0%|          | 0/3 [00:00<?, ?it/s]"
      ]
     },
     "metadata": {},
     "output_type": "display_data"
    },
    {
     "data": {
      "application/vnd.jupyter.widget-view+json": {
       "model_id": "a0d6be0faec942d1a3f96975a4e4fe2f",
       "version_major": 2,
       "version_minor": 0
      },
      "text/plain": [
       "Batches:   0%|          | 0/3 [00:00<?, ?it/s]"
      ]
     },
     "metadata": {},
     "output_type": "display_data"
    },
    {
     "data": {
      "application/vnd.jupyter.widget-view+json": {
       "model_id": "68375227d99b4a9793105f1d0e041e76",
       "version_major": 2,
       "version_minor": 0
      },
      "text/plain": [
       "Batches:   0%|          | 0/3 [00:00<?, ?it/s]"
      ]
     },
     "metadata": {},
     "output_type": "display_data"
    },
    {
     "data": {
      "application/vnd.jupyter.widget-view+json": {
       "model_id": "b9a92cc24bf84f2c8630962a006b484d",
       "version_major": 2,
       "version_minor": 0
      },
      "text/plain": [
       "Batches:   0%|          | 0/3 [00:00<?, ?it/s]"
      ]
     },
     "metadata": {},
     "output_type": "display_data"
    },
    {
     "name": "stderr",
     "output_type": "stream",
     "text": [
      "obteniendo resultados gte_large: 300it [00:01, 171.45it/s]\n",
      "obteniendo resultados gte_large: 300it [00:01, 175.11it/s]\n",
      "obteniendo resultados gte_large: 300it [00:01, 177.63it/s]\n",
      "obteniendo resultados gte_large: 300it [00:01, 172.32it/s]\n"
     ]
    },
    {
     "name": "stdout",
     "output_type": "stream",
     "text": [
      "Procesando BM25 embeddings\n",
      "Procesando BM25 embeddings\n",
      "Procesando BM25 embeddings\n",
      "Procesando BM25 embeddings\n"
     ]
    },
    {
     "name": "stderr",
     "output_type": "stream",
     "text": [
      "obteniendo resultados sparse_bm25: 300it [00:00, 405.63it/s]\n",
      "obteniendo resultados sparse_bm25: 300it [00:00, 343.82it/s]\n",
      "obteniendo resultados sparse_bm25: 300it [00:00, 370.52it/s]\n",
      "obteniendo resultados sparse_bm25: 300it [00:00, 357.23it/s]\n"
     ]
    }
   ],
   "source": [
    "fire_rag.get_all_results_rrf_from_jsonl_fire('../doc_gen/fire/doc5/',f'../results/fire/all_rrf/{dataset_name}/', 32,10,10)"
   ]
  },
  {
   "cell_type": "code",
   "execution_count": 5,
   "id": "e77dec80-f17c-4831-82ee-6063bd0f9008",
   "metadata": {},
   "outputs": [
    {
     "name": "stdout",
     "output_type": "stream",
     "text": [
      "scifact\n"
     ]
    },
    {
     "data": {
      "application/vnd.jupyter.widget-view+json": {
       "model_id": "44599081903d4daaa3d6bffdbd2ec424",
       "version_major": 2,
       "version_minor": 0
      },
      "text/plain": [
       "  0%|          | 0/5183 [00:00<?, ?it/s]"
      ]
     },
     "metadata": {},
     "output_type": "display_data"
    },
    {
     "name": "stdout",
     "output_type": "stream",
     "text": [
      "Calculando metricas de results_contriever_ft.json\n",
      "  Métricas guardadas en: ../metrics/all_rrf/scifact/results_contriever_ft.json\n",
      "Calculando metricas de results_bge_large.json\n",
      "  Métricas guardadas en: ../metrics/all_rrf/scifact/results_bge_large.json\n",
      "Calculando metricas de results_dpr.json\n",
      "  Métricas guardadas en: ../metrics/all_rrf/scifact/results_dpr.json\n",
      "Calculando metricas de results_contriever.json\n",
      "  Métricas guardadas en: ../metrics/all_rrf/scifact/results_contriever.json\n",
      "Calculando metricas de results_gte_large.json\n",
      "  Métricas guardadas en: ../metrics/all_rrf/scifact/results_gte_large.json\n",
      "Calculando metricas de results_sparse_bm25.json\n",
      "  Métricas guardadas en: ../metrics/all_rrf/scifact/results_sparse_bm25.json\n"
     ]
    }
   ],
   "source": [
    "from kdir_src.utils.evaluation import evaluate_all_results\n",
    "evaluate_all_results(f'../results/fire/all_rrf/{dataset_name}')"
   ]
  },
  {
   "cell_type": "markdown",
   "id": "f9c01e47-a8d6-4468-accb-20c92b70cc6e",
   "metadata": {},
   "source": [
    "# nfcorpus"
   ]
  },
  {
   "cell_type": "code",
   "execution_count": 1,
   "id": "806d4c71-1ac5-46f8-b757-f7f423ed48e4",
   "metadata": {},
   "outputs": [
    {
     "name": "stderr",
     "output_type": "stream",
     "text": [
      "/local1/ronaldinho/enviroments/env_kdir/lib/python3.10/site-packages/beir/util.py:11: TqdmExperimentalWarning: Using `tqdm.autonotebook.tqdm` in notebook mode. Use `tqdm.tqdm` instead to force console mode (e.g. in jupyter console)\n",
      "  from tqdm.autonotebook import tqdm\n"
     ]
    }
   ],
   "source": [
    "from kdir_src.fire.Fire import Fire\n",
    "from kdir_src.fire.promptor_fire import Promptor_fire\n",
    "from kdir_src.generators.mistral_ai import MistralGenerator\n",
    "from kdir_src.models.all_models import load_models"
   ]
  },
  {
   "cell_type": "code",
   "execution_count": null,
   "id": "a8ac9747-ae31-4eb3-a0ca-c7a46bb8cf1e",
   "metadata": {
    "scrolled": true
   },
   "outputs": [
    {
     "name": "stdout",
     "output_type": "stream",
     "text": [
      "Loading contriever...\n",
      "Loading contriever FT...\n",
      "Loading question dpr...\n"
     ]
    },
    {
     "name": "stderr",
     "output_type": "stream",
     "text": [
      "Some weights of the model checkpoint at facebook/dpr-question_encoder-single-nq-base were not used when initializing DPRQuestionEncoder: ['question_encoder.bert_model.pooler.dense.bias', 'question_encoder.bert_model.pooler.dense.weight']\n",
      "- This IS expected if you are initializing DPRQuestionEncoder from the checkpoint of a model trained on another task or with another architecture (e.g. initializing a BertForSequenceClassification model from a BertForPreTraining model).\n",
      "- This IS NOT expected if you are initializing DPRQuestionEncoder from the checkpoint of a model that you expect to be exactly identical (initializing a BertForSequenceClassification model from a BertForSequenceClassification model).\n",
      "The tokenizer class you load from this checkpoint is not the same type as the class this function is called from. It may result in unexpected tokenization. \n",
      "The tokenizer class you load from this checkpoint is 'DPRQuestionEncoderTokenizer'. \n",
      "The class this function is called from is 'DPRContextEncoderTokenizer'.\n"
     ]
    },
    {
     "name": "stdout",
     "output_type": "stream",
     "text": [
      "Loading context dpr...\n"
     ]
    },
    {
     "name": "stderr",
     "output_type": "stream",
     "text": [
      "Some weights of the model checkpoint at facebook/dpr-ctx_encoder-single-nq-base were not used when initializing DPRContextEncoder: ['ctx_encoder.bert_model.pooler.dense.bias', 'ctx_encoder.bert_model.pooler.dense.weight']\n",
      "- This IS expected if you are initializing DPRContextEncoder from the checkpoint of a model trained on another task or with another architecture (e.g. initializing a BertForSequenceClassification model from a BertForPreTraining model).\n",
      "- This IS NOT expected if you are initializing DPRContextEncoder from the checkpoint of a model that you expect to be exactly identical (initializing a BertForSequenceClassification model from a BertForSequenceClassification model).\n"
     ]
    },
    {
     "name": "stdout",
     "output_type": "stream",
     "text": [
      "Loading bge large...\n",
      "Loading gte large...\n",
      "Loading bm25...\n"
     ]
    }
   ],
   "source": [
    "dataset_name='nfcorpus'\n",
    "promptor = Promptor_fire(dataset_name)\n",
    "encoder_models = load_models()\n",
    "KEY = ''\n",
    "generator = MistralGenerator('mistral-small-2503', KEY, 1, 512, 0.0)\n",
    "fire_rag = Fire(dataset_name, promptor, generator, encoder_models)"
   ]
  },
  {
   "cell_type": "markdown",
   "id": "949b6df6",
   "metadata": {},
   "source": [
    "## Obtain results from Gen document and original query"
   ]
  },
  {
   "cell_type": "code",
   "execution_count": 4,
   "id": "e8762e52-9d66-4f21-978a-27d71230726e",
   "metadata": {
    "scrolled": true
   },
   "outputs": [
    {
     "name": "stderr",
     "output_type": "stream",
     "text": [
      "Procesando contriever...: 100%|████████████████████████████████████████████████████████| 3/3 [00:03<00:00,  1.01s/batch]\n",
      "Procesando contriever...: 100%|████████████████████████████████████████████████████████| 3/3 [00:00<00:00, 95.52batch/s]\n",
      "obteniendo resultados contriever: 323it [00:01, 294.66it/s]\n",
      "obteniendo resultados contriever: 323it [00:00, 334.92it/s]\n",
      "Procesando contriever...: 100%|████████████████████████████████████████████████████████| 3/3 [00:02<00:00,  1.07batch/s]\n",
      "Procesando contriever...: 100%|███████████████████████████████████████████████████████| 3/3 [00:00<00:00, 106.11batch/s]\n",
      "obteniendo resultados contriever_ft: 323it [00:01, 321.76it/s]\n",
      "obteniendo resultados contriever_ft: 323it [00:00, 340.32it/s]\n",
      "Procesando dpr...: 100%|███████████████████████████████████████████████████████████████| 3/3 [00:03<00:00,  1.28s/batch]\n",
      "Procesando dpr...: 100%|███████████████████████████████████████████████████████████████| 3/3 [00:00<00:00, 69.22batch/s]\n",
      "obteniendo resultados dpr: 323it [00:00, 335.37it/s]\n",
      "obteniendo resultados dpr: 323it [00:00, 337.92it/s]\n"
     ]
    },
    {
     "data": {
      "application/vnd.jupyter.widget-view+json": {
       "model_id": "c694e7bc77e345079ac0eb9788d0bcf6",
       "version_major": 2,
       "version_minor": 0
      },
      "text/plain": [
       "Batches:   0%|          | 0/3 [00:00<?, ?it/s]"
      ]
     },
     "metadata": {},
     "output_type": "display_data"
    },
    {
     "data": {
      "application/vnd.jupyter.widget-view+json": {
       "model_id": "34dcf620797a4f5a9a23d3682192bbf6",
       "version_major": 2,
       "version_minor": 0
      },
      "text/plain": [
       "Batches:   0%|          | 0/3 [00:00<?, ?it/s]"
      ]
     },
     "metadata": {},
     "output_type": "display_data"
    },
    {
     "name": "stderr",
     "output_type": "stream",
     "text": [
      "obteniendo resultados bge_large: 323it [00:01, 282.59it/s]\n",
      "obteniendo resultados bge_large: 323it [00:01, 285.30it/s]\n"
     ]
    },
    {
     "data": {
      "application/vnd.jupyter.widget-view+json": {
       "model_id": "3d23304b0514406883a485bc5bd028cf",
       "version_major": 2,
       "version_minor": 0
      },
      "text/plain": [
       "Batches:   0%|          | 0/3 [00:00<?, ?it/s]"
      ]
     },
     "metadata": {},
     "output_type": "display_data"
    },
    {
     "data": {
      "application/vnd.jupyter.widget-view+json": {
       "model_id": "34147582a1074be9ae3b36f3f4776907",
       "version_major": 2,
       "version_minor": 0
      },
      "text/plain": [
       "Batches:   0%|          | 0/3 [00:00<?, ?it/s]"
      ]
     },
     "metadata": {},
     "output_type": "display_data"
    },
    {
     "name": "stderr",
     "output_type": "stream",
     "text": [
      "obteniendo resultados gte_large: 323it [00:01, 284.39it/s]\n",
      "obteniendo resultados gte_large: 323it [00:01, 283.30it/s]\n"
     ]
    },
    {
     "name": "stdout",
     "output_type": "stream",
     "text": [
      "Procesando BM25 embeddings\n",
      "Procesando BM25 embeddings\n"
     ]
    },
    {
     "name": "stderr",
     "output_type": "stream",
     "text": [
      "obteniendo resultados sparse_bm25: 323it [00:00, 355.46it/s]\n",
      "obteniendo resultados sparse_bm25: 323it [00:00, 360.56it/s]\n"
     ]
    }
   ],
   "source": [
    "fire_rag.get_o_query_doc__results_rrf_from_jsonl_fire('../doc_gen/fire/doc5/',f'../results/fire/oq_doc_rrf/{dataset_name}/', 32,10,10)"
   ]
  },
  {
   "cell_type": "code",
   "execution_count": 5,
   "id": "7a298863-ab92-4b78-b6d9-efd450c6fdf1",
   "metadata": {
    "scrolled": true
   },
   "outputs": [
    {
     "name": "stdout",
     "output_type": "stream",
     "text": [
      "nfcorpus\n"
     ]
    },
    {
     "data": {
      "application/vnd.jupyter.widget-view+json": {
       "model_id": "17eee9dd02164bf99ea7a174abee23b9",
       "version_major": 2,
       "version_minor": 0
      },
      "text/plain": [
       "  0%|          | 0/3633 [00:00<?, ?it/s]"
      ]
     },
     "metadata": {},
     "output_type": "display_data"
    },
    {
     "name": "stdout",
     "output_type": "stream",
     "text": [
      "Calculando metricas de results_contriever_ft.json\n",
      "  Métricas guardadas en: ../metrics/oq_doc_rrf/nfcorpus/results_contriever_ft.json\n",
      "Calculando metricas de results_bge_large.json\n",
      "  Métricas guardadas en: ../metrics/oq_doc_rrf/nfcorpus/results_bge_large.json\n",
      "Calculando metricas de results_dpr.json\n",
      "  Métricas guardadas en: ../metrics/oq_doc_rrf/nfcorpus/results_dpr.json\n",
      "Calculando metricas de results_contriever.json\n",
      "  Métricas guardadas en: ../metrics/oq_doc_rrf/nfcorpus/results_contriever.json\n",
      "Calculando metricas de results_gte_large.json\n",
      "  Métricas guardadas en: ../metrics/oq_doc_rrf/nfcorpus/results_gte_large.json\n",
      "Calculando metricas de results_sparse_bm25.json\n",
      "  Métricas guardadas en: ../metrics/oq_doc_rrf/nfcorpus/results_sparse_bm25.json\n"
     ]
    }
   ],
   "source": [
    "from kdir_src.utils.evaluation import evaluate_all_results\n",
    "evaluate_all_results(f'../results/fire/oq_doc_rrf/{dataset_name}')"
   ]
  },
  {
   "cell_type": "markdown",
   "id": "0f0e7d65",
   "metadata": {},
   "source": [
    "## Obtain results from Gen answer, and original query"
   ]
  },
  {
   "cell_type": "code",
   "execution_count": 6,
   "id": "759d2f63-735f-4f79-a8f8-c977df3dbdbb",
   "metadata": {},
   "outputs": [
    {
     "name": "stderr",
     "output_type": "stream",
     "text": [
      "Procesando contriever...: 100%|████████████████████████████████████████████████████████| 3/3 [00:00<00:00, 77.09batch/s]\n",
      "Procesando contriever...: 100%|████████████████████████████████████████████████████████| 3/3 [00:02<00:00,  1.43batch/s]\n",
      "obteniendo resultados contriever: 323it [00:00, 335.45it/s]\n",
      "obteniendo resultados contriever: 323it [00:00, 340.23it/s]\n",
      "Procesando contriever...: 100%|████████████████████████████████████████████████████████| 3/3 [00:00<00:00, 94.79batch/s]\n",
      "Procesando contriever...: 100%|████████████████████████████████████████████████████████| 3/3 [00:02<00:00,  1.26batch/s]\n",
      "obteniendo resultados contriever_ft: 323it [00:00, 338.49it/s]\n",
      "obteniendo resultados contriever_ft: 323it [00:00, 333.34it/s]\n",
      "Procesando dpr...: 100%|███████████████████████████████████████████████████████████████| 3/3 [00:00<00:00, 63.03batch/s]\n",
      "Procesando dpr...: 100%|███████████████████████████████████████████████████████████████| 3/3 [00:02<00:00,  1.13batch/s]\n",
      "obteniendo resultados dpr: 323it [00:00, 335.88it/s]\n",
      "obteniendo resultados dpr: 323it [00:00, 336.62it/s]\n"
     ]
    },
    {
     "data": {
      "application/vnd.jupyter.widget-view+json": {
       "model_id": "6cacfc929cad48ebb41fc73b0a085e28",
       "version_major": 2,
       "version_minor": 0
      },
      "text/plain": [
       "Batches:   0%|          | 0/3 [00:00<?, ?it/s]"
      ]
     },
     "metadata": {},
     "output_type": "display_data"
    },
    {
     "data": {
      "application/vnd.jupyter.widget-view+json": {
       "model_id": "893d26c85ab5468fa4808393455d16e4",
       "version_major": 2,
       "version_minor": 0
      },
      "text/plain": [
       "Batches:   0%|          | 0/3 [00:00<?, ?it/s]"
      ]
     },
     "metadata": {},
     "output_type": "display_data"
    },
    {
     "name": "stderr",
     "output_type": "stream",
     "text": [
      "obteniendo resultados bge_large: 323it [00:01, 282.89it/s]\n",
      "obteniendo resultados bge_large: 323it [00:01, 285.23it/s]\n"
     ]
    },
    {
     "data": {
      "application/vnd.jupyter.widget-view+json": {
       "model_id": "2e6cac89d77c471fbceddd94345df7a9",
       "version_major": 2,
       "version_minor": 0
      },
      "text/plain": [
       "Batches:   0%|          | 0/3 [00:00<?, ?it/s]"
      ]
     },
     "metadata": {},
     "output_type": "display_data"
    },
    {
     "data": {
      "application/vnd.jupyter.widget-view+json": {
       "model_id": "0fcc752fa7ae4a5a96ecafbc8720b1fe",
       "version_major": 2,
       "version_minor": 0
      },
      "text/plain": [
       "Batches:   0%|          | 0/3 [00:00<?, ?it/s]"
      ]
     },
     "metadata": {},
     "output_type": "display_data"
    },
    {
     "name": "stderr",
     "output_type": "stream",
     "text": [
      "obteniendo resultados gte_large: 323it [00:01, 281.48it/s]\n",
      "obteniendo resultados gte_large: 323it [00:01, 284.75it/s]\n"
     ]
    },
    {
     "name": "stdout",
     "output_type": "stream",
     "text": [
      "Procesando BM25 embeddings\n",
      "Procesando BM25 embeddings\n"
     ]
    },
    {
     "name": "stderr",
     "output_type": "stream",
     "text": [
      "obteniendo resultados sparse_bm25: 323it [00:00, 366.26it/s]\n",
      "obteniendo resultados sparse_bm25: 323it [00:01, 225.36it/s]\n"
     ]
    }
   ],
   "source": [
    "fire_rag.get_o_query_answer_results_rrf_from_jsonl_fire('../doc_gen/fire/doc5/',f'../results/fire/oq_ans_rrf/{dataset_name}/', 32,10,10)"
   ]
  },
  {
   "cell_type": "code",
   "execution_count": 7,
   "id": "445904be-504a-4ffc-adbe-382d113e11b3",
   "metadata": {},
   "outputs": [
    {
     "name": "stdout",
     "output_type": "stream",
     "text": [
      "nfcorpus\n"
     ]
    },
    {
     "data": {
      "application/vnd.jupyter.widget-view+json": {
       "model_id": "354a3436518b41329182f896df4f4ee9",
       "version_major": 2,
       "version_minor": 0
      },
      "text/plain": [
       "  0%|          | 0/3633 [00:00<?, ?it/s]"
      ]
     },
     "metadata": {},
     "output_type": "display_data"
    },
    {
     "name": "stdout",
     "output_type": "stream",
     "text": [
      "Calculando metricas de results_contriever_ft.json\n",
      "  Métricas guardadas en: ../metrics/oq_ans_rrf/nfcorpus/results_contriever_ft.json\n",
      "Calculando metricas de results_bge_large.json\n",
      "  Métricas guardadas en: ../metrics/oq_ans_rrf/nfcorpus/results_bge_large.json\n",
      "Calculando metricas de results_dpr.json\n",
      "  Métricas guardadas en: ../metrics/oq_ans_rrf/nfcorpus/results_dpr.json\n",
      "Calculando metricas de results_contriever.json\n",
      "  Métricas guardadas en: ../metrics/oq_ans_rrf/nfcorpus/results_contriever.json\n",
      "Calculando metricas de results_gte_large.json\n",
      "  Métricas guardadas en: ../metrics/oq_ans_rrf/nfcorpus/results_gte_large.json\n",
      "Calculando metricas de results_sparse_bm25.json\n",
      "  Métricas guardadas en: ../metrics/oq_ans_rrf/nfcorpus/results_sparse_bm25.json\n"
     ]
    }
   ],
   "source": [
    "from kdir_src.utils.evaluation import evaluate_all_results\n",
    "evaluate_all_results(f'../results/fire/oq_ans_rrf/{dataset_name}')"
   ]
  },
  {
   "cell_type": "markdown",
   "id": "8c53ebd9",
   "metadata": {},
   "source": [
    "## Obtain results from Gen doc, Gen answer , Gen Query and original query"
   ]
  },
  {
   "cell_type": "code",
   "execution_count": 3,
   "id": "e584163d-80f6-4539-9575-e63286e17fb0",
   "metadata": {
    "scrolled": true
   },
   "outputs": [
    {
     "name": "stderr",
     "output_type": "stream",
     "text": [
      "Procesando contriever...: 100%|████████████████████████████████████████████████████████| 3/3 [00:00<00:00,  6.11batch/s]\n",
      "Procesando contriever...: 100%|████████████████████████████████████████████████████████| 3/3 [00:03<00:00,  1.01s/batch]\n",
      "Procesando contriever...: 100%|████████████████████████████████████████████████████████| 3/3 [00:00<00:00,  5.53batch/s]\n",
      "Procesando contriever...: 100%|████████████████████████████████████████████████████████| 3/3 [00:02<00:00,  1.30batch/s]\n",
      "obteniendo resultados contriever: 323it [00:01, 213.72it/s]\n",
      "obteniendo resultados contriever: 323it [00:01, 227.64it/s]\n",
      "obteniendo resultados contriever: 323it [00:01, 225.27it/s]\n",
      "obteniendo resultados contriever: 323it [00:01, 233.05it/s]\n",
      "Procesando contriever...: 100%|████████████████████████████████████████████████████████| 3/3 [00:00<00:00, 22.96batch/s]\n",
      "Procesando contriever...: 100%|████████████████████████████████████████████████████████| 3/3 [00:03<00:00,  1.02s/batch]\n",
      "Procesando contriever...: 100%|████████████████████████████████████████████████████████| 3/3 [00:00<00:00,  5.73batch/s]\n",
      "Procesando contriever...: 100%|████████████████████████████████████████████████████████| 3/3 [00:02<00:00,  1.15batch/s]\n",
      "obteniendo resultados contriever_ft: 323it [00:01, 232.76it/s]\n",
      "obteniendo resultados contriever_ft: 323it [00:01, 231.50it/s]\n",
      "obteniendo resultados contriever_ft: 323it [00:01, 231.32it/s]\n",
      "obteniendo resultados contriever_ft: 323it [00:01, 227.17it/s]\n",
      "Procesando dpr...: 100%|███████████████████████████████████████████████████████████████| 3/3 [00:00<00:00, 16.94batch/s]\n",
      "Procesando dpr...: 100%|███████████████████████████████████████████████████████████████| 3/3 [00:04<00:00,  1.45s/batch]\n",
      "Procesando dpr...: 100%|███████████████████████████████████████████████████████████████| 3/3 [00:00<00:00,  3.79batch/s]\n",
      "Procesando dpr...: 100%|███████████████████████████████████████████████████████████████| 3/3 [00:02<00:00,  1.02batch/s]\n",
      "obteniendo resultados dpr: 323it [00:01, 238.28it/s]\n",
      "obteniendo resultados dpr: 323it [00:01, 227.65it/s]\n",
      "obteniendo resultados dpr: 323it [00:01, 233.13it/s]\n",
      "obteniendo resultados dpr: 323it [00:01, 232.90it/s]\n"
     ]
    },
    {
     "data": {
      "application/vnd.jupyter.widget-view+json": {
       "model_id": "636a58e0c96f467da58c2f13aac7464f",
       "version_major": 2,
       "version_minor": 0
      },
      "text/plain": [
       "Batches:   0%|          | 0/3 [00:00<?, ?it/s]"
      ]
     },
     "metadata": {},
     "output_type": "display_data"
    },
    {
     "data": {
      "application/vnd.jupyter.widget-view+json": {
       "model_id": "ba529e9c4c8347a49e90fa92f5ca1c75",
       "version_major": 2,
       "version_minor": 0
      },
      "text/plain": [
       "Batches:   0%|          | 0/3 [00:00<?, ?it/s]"
      ]
     },
     "metadata": {},
     "output_type": "display_data"
    },
    {
     "data": {
      "application/vnd.jupyter.widget-view+json": {
       "model_id": "212ccc2ad490462687aeca1ce7fe5838",
       "version_major": 2,
       "version_minor": 0
      },
      "text/plain": [
       "Batches:   0%|          | 0/3 [00:00<?, ?it/s]"
      ]
     },
     "metadata": {},
     "output_type": "display_data"
    },
    {
     "data": {
      "application/vnd.jupyter.widget-view+json": {
       "model_id": "20a5515059254aefa5e686f058acfc4f",
       "version_major": 2,
       "version_minor": 0
      },
      "text/plain": [
       "Batches:   0%|          | 0/3 [00:00<?, ?it/s]"
      ]
     },
     "metadata": {},
     "output_type": "display_data"
    },
    {
     "name": "stderr",
     "output_type": "stream",
     "text": [
      "obteniendo resultados bge_large: 323it [00:01, 195.68it/s]\n",
      "obteniendo resultados bge_large: 323it [00:01, 199.71it/s]\n",
      "obteniendo resultados bge_large: 323it [00:01, 204.67it/s]\n",
      "obteniendo resultados bge_large: 323it [00:01, 195.24it/s]\n"
     ]
    },
    {
     "data": {
      "application/vnd.jupyter.widget-view+json": {
       "model_id": "5b54919d656a4973ba502f73003d101c",
       "version_major": 2,
       "version_minor": 0
      },
      "text/plain": [
       "Batches:   0%|          | 0/3 [00:00<?, ?it/s]"
      ]
     },
     "metadata": {},
     "output_type": "display_data"
    },
    {
     "data": {
      "application/vnd.jupyter.widget-view+json": {
       "model_id": "3024a183c06940789e03d19a3b3abc74",
       "version_major": 2,
       "version_minor": 0
      },
      "text/plain": [
       "Batches:   0%|          | 0/3 [00:00<?, ?it/s]"
      ]
     },
     "metadata": {},
     "output_type": "display_data"
    },
    {
     "data": {
      "application/vnd.jupyter.widget-view+json": {
       "model_id": "7738255717724814a4120fa32278b4ca",
       "version_major": 2,
       "version_minor": 0
      },
      "text/plain": [
       "Batches:   0%|          | 0/3 [00:00<?, ?it/s]"
      ]
     },
     "metadata": {},
     "output_type": "display_data"
    },
    {
     "data": {
      "application/vnd.jupyter.widget-view+json": {
       "model_id": "51ab4de5d96b42f687d1697ba32c2fcb",
       "version_major": 2,
       "version_minor": 0
      },
      "text/plain": [
       "Batches:   0%|          | 0/3 [00:00<?, ?it/s]"
      ]
     },
     "metadata": {},
     "output_type": "display_data"
    },
    {
     "name": "stderr",
     "output_type": "stream",
     "text": [
      "obteniendo resultados gte_large: 323it [00:01, 191.71it/s]\n",
      "obteniendo resultados gte_large: 323it [00:01, 192.18it/s]\n",
      "obteniendo resultados gte_large: 323it [00:01, 198.31it/s]\n",
      "obteniendo resultados gte_large: 323it [00:01, 199.25it/s]\n"
     ]
    },
    {
     "name": "stdout",
     "output_type": "stream",
     "text": [
      "Procesando BM25 embeddings\n",
      "Procesando BM25 embeddings\n",
      "Procesando BM25 embeddings\n",
      "Procesando BM25 embeddings\n"
     ]
    },
    {
     "name": "stderr",
     "output_type": "stream",
     "text": [
      "obteniendo resultados sparse_bm25: 323it [00:00, 472.20it/s]\n",
      "obteniendo resultados sparse_bm25: 323it [00:00, 347.79it/s]\n",
      "obteniendo resultados sparse_bm25: 323it [00:00, 391.77it/s]\n",
      "obteniendo resultados sparse_bm25: 323it [00:00, 392.04it/s]\n"
     ]
    }
   ],
   "source": [
    "fire_rag.get_all_results_rrf_from_jsonl_fire('../doc_gen/fire/doc5/',f'../results/fire/all_rrf/{dataset_name}/', 32,10,10)"
   ]
  },
  {
   "cell_type": "code",
   "execution_count": 4,
   "id": "2d65f033-2253-41aa-b0d1-c67a73c55f37",
   "metadata": {},
   "outputs": [
    {
     "name": "stdout",
     "output_type": "stream",
     "text": [
      "nfcorpus\n"
     ]
    },
    {
     "data": {
      "application/vnd.jupyter.widget-view+json": {
       "model_id": "382d65ae8c17465eb12433a30a7dbed1",
       "version_major": 2,
       "version_minor": 0
      },
      "text/plain": [
       "  0%|          | 0/3633 [00:00<?, ?it/s]"
      ]
     },
     "metadata": {},
     "output_type": "display_data"
    },
    {
     "name": "stdout",
     "output_type": "stream",
     "text": [
      "Calculando metricas de results_contriever_ft.json\n",
      "  Métricas guardadas en: ../metrics/all_rrf/nfcorpus/results_contriever_ft.json\n",
      "Calculando metricas de results_bge_large.json\n",
      "  Métricas guardadas en: ../metrics/all_rrf/nfcorpus/results_bge_large.json\n",
      "Calculando metricas de results_dpr.json\n",
      "  Métricas guardadas en: ../metrics/all_rrf/nfcorpus/results_dpr.json\n",
      "Calculando metricas de results_contriever.json\n",
      "  Métricas guardadas en: ../metrics/all_rrf/nfcorpus/results_contriever.json\n",
      "Calculando metricas de results_gte_large.json\n",
      "  Métricas guardadas en: ../metrics/all_rrf/nfcorpus/results_gte_large.json\n",
      "Calculando metricas de results_sparse_bm25.json\n",
      "  Métricas guardadas en: ../metrics/all_rrf/nfcorpus/results_sparse_bm25.json\n"
     ]
    }
   ],
   "source": [
    "from kdir_src.utils.evaluation import evaluate_all_results\n",
    "evaluate_all_results(f'../results/fire/all_rrf/{dataset_name}')"
   ]
  },
  {
   "cell_type": "markdown",
   "id": "06a38172",
   "metadata": {},
   "source": [
    "## Obtain results from Gen doc, Gen answer and original query"
   ]
  },
  {
   "cell_type": "code",
   "execution_count": 3,
   "id": "93e5ee16-3305-4169-9ca0-1da2a70e1ae9",
   "metadata": {
    "scrolled": true
   },
   "outputs": [
    {
     "name": "stderr",
     "output_type": "stream",
     "text": [
      "Procesando contriever...: 100%|████████████████████████████████████████████████████████| 3/3 [00:00<00:00,  7.57batch/s]\n",
      "Procesando contriever...: 100%|████████████████████████████████████████████████████████| 3/3 [00:02<00:00,  1.09batch/s]\n",
      "Procesando contriever...: 100%|████████████████████████████████████████████████████████| 3/3 [00:02<00:00,  1.44batch/s]\n",
      "obteniendo resultados contriever: 323it [00:01, 300.83it/s]\n",
      "obteniendo resultados contriever: 323it [00:00, 330.74it/s]\n",
      "obteniendo resultados contriever: 323it [00:00, 335.84it/s]\n",
      "Procesando contriever...: 100%|████████████████████████████████████████████████████████| 3/3 [00:00<00:00, 24.56batch/s]\n",
      "Procesando contriever...: 100%|████████████████████████████████████████████████████████| 3/3 [00:02<00:00,  1.07batch/s]\n",
      "Procesando contriever...: 100%|████████████████████████████████████████████████████████| 3/3 [00:02<00:00,  1.26batch/s]\n",
      "obteniendo resultados contriever_ft: 323it [00:00, 334.56it/s]\n",
      "obteniendo resultados contriever_ft: 323it [00:00, 332.80it/s]\n",
      "obteniendo resultados contriever_ft: 323it [00:00, 334.58it/s]\n",
      "Procesando dpr...: 100%|███████████████████████████████████████████████████████████████| 3/3 [00:00<00:00, 18.40batch/s]\n",
      "Procesando dpr...: 100%|███████████████████████████████████████████████████████████████| 3/3 [00:03<00:00,  1.27s/batch]\n",
      "Procesando dpr...: 100%|███████████████████████████████████████████████████████████████| 3/3 [00:02<00:00,  1.13batch/s]\n",
      "obteniendo resultados dpr: 323it [00:00, 336.29it/s]\n",
      "obteniendo resultados dpr: 323it [00:00, 332.29it/s]\n",
      "obteniendo resultados dpr: 323it [00:00, 337.41it/s]\n"
     ]
    },
    {
     "data": {
      "application/vnd.jupyter.widget-view+json": {
       "model_id": "438e2241876a40448bca4f6eee58270c",
       "version_major": 2,
       "version_minor": 0
      },
      "text/plain": [
       "Batches:   0%|          | 0/3 [00:00<?, ?it/s]"
      ]
     },
     "metadata": {},
     "output_type": "display_data"
    },
    {
     "data": {
      "application/vnd.jupyter.widget-view+json": {
       "model_id": "11f7b9ebc4884ab69cbd9626377718d3",
       "version_major": 2,
       "version_minor": 0
      },
      "text/plain": [
       "Batches:   0%|          | 0/3 [00:00<?, ?it/s]"
      ]
     },
     "metadata": {},
     "output_type": "display_data"
    },
    {
     "data": {
      "application/vnd.jupyter.widget-view+json": {
       "model_id": "c5518b48d41343d3b8f32212adaa3524",
       "version_major": 2,
       "version_minor": 0
      },
      "text/plain": [
       "Batches:   0%|          | 0/3 [00:00<?, ?it/s]"
      ]
     },
     "metadata": {},
     "output_type": "display_data"
    },
    {
     "name": "stderr",
     "output_type": "stream",
     "text": [
      "obteniendo resultados bge_large: 323it [00:01, 283.42it/s]\n",
      "obteniendo resultados bge_large: 323it [00:01, 284.63it/s]\n",
      "obteniendo resultados bge_large: 323it [00:01, 286.70it/s]\n"
     ]
    },
    {
     "data": {
      "application/vnd.jupyter.widget-view+json": {
       "model_id": "a760b3eeec3b4b5ca20eaed7fc24e53c",
       "version_major": 2,
       "version_minor": 0
      },
      "text/plain": [
       "Batches:   0%|          | 0/3 [00:00<?, ?it/s]"
      ]
     },
     "metadata": {},
     "output_type": "display_data"
    },
    {
     "data": {
      "application/vnd.jupyter.widget-view+json": {
       "model_id": "8a385be905df40cab43161dbf07c9017",
       "version_major": 2,
       "version_minor": 0
      },
      "text/plain": [
       "Batches:   0%|          | 0/3 [00:00<?, ?it/s]"
      ]
     },
     "metadata": {},
     "output_type": "display_data"
    },
    {
     "data": {
      "application/vnd.jupyter.widget-view+json": {
       "model_id": "37aeed14f2d846058c6caaf62f1b883b",
       "version_major": 2,
       "version_minor": 0
      },
      "text/plain": [
       "Batches:   0%|          | 0/3 [00:00<?, ?it/s]"
      ]
     },
     "metadata": {},
     "output_type": "display_data"
    },
    {
     "name": "stderr",
     "output_type": "stream",
     "text": [
      "obteniendo resultados gte_large: 323it [00:01, 284.35it/s]\n",
      "obteniendo resultados gte_large: 323it [00:01, 286.13it/s]\n",
      "obteniendo resultados gte_large: 323it [00:01, 285.98it/s]\n"
     ]
    },
    {
     "name": "stdout",
     "output_type": "stream",
     "text": [
      "Procesando BM25 embeddings\n",
      "Procesando BM25 embeddings\n",
      "Procesando BM25 embeddings\n"
     ]
    },
    {
     "name": "stderr",
     "output_type": "stream",
     "text": [
      "obteniendo resultados sparse_bm25: 323it [00:00, 600.95it/s]\n",
      "obteniendo resultados sparse_bm25: 323it [00:00, 346.68it/s]\n",
      "obteniendo resultados sparse_bm25: 323it [00:01, 224.91it/s]\n"
     ]
    },
    {
     "name": "stdout",
     "output_type": "stream",
     "text": [
      "nfcorpus\n"
     ]
    },
    {
     "data": {
      "application/vnd.jupyter.widget-view+json": {
       "model_id": "5dd43779861a4466a800707296be40b7",
       "version_major": 2,
       "version_minor": 0
      },
      "text/plain": [
       "  0%|          | 0/3633 [00:00<?, ?it/s]"
      ]
     },
     "metadata": {},
     "output_type": "display_data"
    },
    {
     "name": "stdout",
     "output_type": "stream",
     "text": [
      "Calculando metricas de results_contriever_ft.json\n",
      "  Métricas guardadas en: ../metrics/all_rrf/nfcorpus/results_contriever_ft.json\n",
      "Calculando metricas de results_bge_large.json\n",
      "  Métricas guardadas en: ../metrics/all_rrf/nfcorpus/results_bge_large.json\n",
      "Calculando metricas de results_dpr.json\n",
      "  Métricas guardadas en: ../metrics/all_rrf/nfcorpus/results_dpr.json\n",
      "Calculando metricas de results_contriever.json\n",
      "  Métricas guardadas en: ../metrics/all_rrf/nfcorpus/results_contriever.json\n",
      "Calculando metricas de results_gte_large.json\n",
      "  Métricas guardadas en: ../metrics/all_rrf/nfcorpus/results_gte_large.json\n",
      "Calculando metricas de results_sparse_bm25.json\n",
      "  Métricas guardadas en: ../metrics/all_rrf/nfcorpus/results_sparse_bm25.json\n"
     ]
    }
   ],
   "source": [
    "fire_rag.get_3best_results_rrf_from_jsonl_fire('../doc_gen/fire/doc5/',f'../results/fire/3_rrf/{dataset_name}/', 32,10,10)"
   ]
  },
  {
   "cell_type": "code",
   "execution_count": 10,
   "id": "9d1c58c2-1e88-40d9-9d58-0d0c8631be37",
   "metadata": {},
   "outputs": [
    {
     "name": "stdout",
     "output_type": "stream",
     "text": [
      "nfcorpus\n"
     ]
    },
    {
     "data": {
      "application/vnd.jupyter.widget-view+json": {
       "model_id": "21a9ddcf099c40b7bf855ae93f6cebd1",
       "version_major": 2,
       "version_minor": 0
      },
      "text/plain": [
       "  0%|          | 0/3633 [00:00<?, ?it/s]"
      ]
     },
     "metadata": {},
     "output_type": "display_data"
    },
    {
     "name": "stdout",
     "output_type": "stream",
     "text": [
      "Calculando metricas de results_contriever_ft.json\n",
      "  Métricas guardadas en: ../metrics/3_rrf/nfcorpus/results_contriever_ft.json\n",
      "Calculando metricas de results_bge_large.json\n",
      "  Métricas guardadas en: ../metrics/3_rrf/nfcorpus/results_bge_large.json\n",
      "Calculando metricas de results_dpr.json\n",
      "  Métricas guardadas en: ../metrics/3_rrf/nfcorpus/results_dpr.json\n",
      "Calculando metricas de results_contriever.json\n",
      "  Métricas guardadas en: ../metrics/3_rrf/nfcorpus/results_contriever.json\n",
      "Calculando metricas de results_gte_large.json\n",
      "  Métricas guardadas en: ../metrics/3_rrf/nfcorpus/results_gte_large.json\n",
      "Calculando metricas de results_sparse_bm25.json\n",
      "  Métricas guardadas en: ../metrics/3_rrf/nfcorpus/results_sparse_bm25.json\n"
     ]
    }
   ],
   "source": [
    "from kdir_src.utils.evaluation import evaluate_all_results\n",
    "evaluate_all_results(f'../results/fire/3_rrf/{dataset_name}')"
   ]
  },
  {
   "cell_type": "markdown",
   "id": "475bbe6a-0ea9-4255-89b0-7602cf177e68",
   "metadata": {},
   "source": [
    "# fiqa"
   ]
  },
  {
   "cell_type": "code",
   "execution_count": 1,
   "id": "bb744954-2fbd-4971-8c36-84546f936b36",
   "metadata": {},
   "outputs": [
    {
     "name": "stderr",
     "output_type": "stream",
     "text": [
      "/local1/ronaldinho/enviroments/env_kdir/lib/python3.10/site-packages/beir/util.py:11: TqdmExperimentalWarning: Using `tqdm.autonotebook.tqdm` in notebook mode. Use `tqdm.tqdm` instead to force console mode (e.g. in jupyter console)\n",
      "  from tqdm.autonotebook import tqdm\n"
     ]
    }
   ],
   "source": [
    "from kdir_src.fire.Fire import Fire\n",
    "from kdir_src.fire.promptor_fire import Promptor_fire\n",
    "from kdir_src.generators.mistral_ai import MistralGenerator\n",
    "from kdir_src.models.all_models import load_models"
   ]
  },
  {
   "cell_type": "code",
   "execution_count": null,
   "id": "46f4e5b8-f746-46c8-9522-ac6fda45e109",
   "metadata": {
    "scrolled": true
   },
   "outputs": [],
   "source": [
    "dataset_name='fiqa'\n",
    "promptor = Promptor_fire(dataset_name)\n",
    "#encoder_models = load_models()\n",
    "KEY = ''\n",
    "generator = MistralGenerator('mistral-small-2503', KEY, 1, 512, 0.0)\n",
    "fire_rag = Fire(dataset_name, promptor, generator, encoder_models)"
   ]
  },
  {
   "cell_type": "markdown",
   "id": "056009d0",
   "metadata": {},
   "source": [
    "## Obtain results from Gen doc and original query"
   ]
  },
  {
   "cell_type": "code",
   "execution_count": 9,
   "id": "d8897ac1-72e3-498a-a57f-315b052a0cc3",
   "metadata": {},
   "outputs": [
    {
     "name": "stderr",
     "output_type": "stream",
     "text": [
      "Procesando contriever...: 100%|████████████████████████████████████████████████████████| 6/6 [00:05<00:00,  1.11batch/s]\n",
      "Procesando contriever...: 100%|███████████████████████████████████████████████████████| 6/6 [00:00<00:00, 109.76batch/s]\n",
      "obteniendo resultados contriever: 648it [00:03, 198.59it/s]\n",
      "obteniendo resultados contriever: 648it [00:03, 209.30it/s]\n",
      "Procesando contriever...: 100%|████████████████████████████████████████████████████████| 6/6 [00:05<00:00,  1.06batch/s]\n",
      "Procesando contriever...: 100%|███████████████████████████████████████████████████████| 6/6 [00:00<00:00, 100.02batch/s]\n",
      "obteniendo resultados contriever_ft: 648it [00:02, 218.21it/s]\n",
      "obteniendo resultados contriever_ft: 648it [00:02, 225.44it/s]\n",
      "Procesando dpr...: 100%|███████████████████████████████████████████████████████████████| 6/6 [00:07<00:00,  1.29s/batch]\n",
      "Procesando dpr...: 100%|███████████████████████████████████████████████████████████████| 6/6 [00:00<00:00, 71.45batch/s]\n",
      "obteniendo resultados dpr: 648it [00:02, 236.35it/s]\n",
      "obteniendo resultados dpr: 648it [00:02, 236.75it/s]\n"
     ]
    },
    {
     "data": {
      "application/vnd.jupyter.widget-view+json": {
       "model_id": "113306b7c70c41a4a04cd46ec08156c5",
       "version_major": 2,
       "version_minor": 0
      },
      "text/plain": [
       "Batches:   0%|          | 0/6 [00:00<?, ?it/s]"
      ]
     },
     "metadata": {},
     "output_type": "display_data"
    },
    {
     "data": {
      "application/vnd.jupyter.widget-view+json": {
       "model_id": "91201c90b7ac4df394d418524179f922",
       "version_major": 2,
       "version_minor": 0
      },
      "text/plain": [
       "Batches:   0%|          | 0/6 [00:00<?, ?it/s]"
      ]
     },
     "metadata": {},
     "output_type": "display_data"
    },
    {
     "name": "stderr",
     "output_type": "stream",
     "text": [
      "obteniendo resultados bge_large: 648it [00:03, 203.74it/s]\n",
      "obteniendo resultados bge_large: 648it [00:03, 201.92it/s]\n"
     ]
    },
    {
     "data": {
      "application/vnd.jupyter.widget-view+json": {
       "model_id": "26be6b797e2d45e8a20fc20edb5f5aba",
       "version_major": 2,
       "version_minor": 0
      },
      "text/plain": [
       "Batches:   0%|          | 0/6 [00:00<?, ?it/s]"
      ]
     },
     "metadata": {},
     "output_type": "display_data"
    },
    {
     "data": {
      "application/vnd.jupyter.widget-view+json": {
       "model_id": "91428daed16146f09c81990864789981",
       "version_major": 2,
       "version_minor": 0
      },
      "text/plain": [
       "Batches:   0%|          | 0/6 [00:00<?, ?it/s]"
      ]
     },
     "metadata": {},
     "output_type": "display_data"
    },
    {
     "name": "stderr",
     "output_type": "stream",
     "text": [
      "obteniendo resultados gte_large: 648it [00:03, 200.49it/s]\n",
      "obteniendo resultados gte_large: 648it [00:03, 189.49it/s]\n"
     ]
    },
    {
     "name": "stdout",
     "output_type": "stream",
     "text": [
      "Procesando BM25 embeddings\n",
      "Procesando BM25 embeddings\n"
     ]
    },
    {
     "name": "stderr",
     "output_type": "stream",
     "text": [
      "obteniendo resultados sparse_bm25: 648it [00:03, 213.21it/s]\n",
      "obteniendo resultados sparse_bm25: 648it [00:02, 318.77it/s]\n"
     ]
    }
   ],
   "source": [
    "fire_rag.get_o_query_doc__results_rrf_from_jsonl_fire('../doc_gen/fire/doc5/',f'../results/fire/oq_doc_rrf/{dataset_name}/', 32,10,10)"
   ]
  },
  {
   "cell_type": "code",
   "execution_count": 10,
   "id": "c08cfed5-05a9-48af-8a2e-3285673dc394",
   "metadata": {},
   "outputs": [
    {
     "name": "stdout",
     "output_type": "stream",
     "text": [
      "fiqa\n"
     ]
    },
    {
     "data": {
      "application/vnd.jupyter.widget-view+json": {
       "model_id": "bcd25cf60b7f4631b05cfa08f7ace2a6",
       "version_major": 2,
       "version_minor": 0
      },
      "text/plain": [
       "  0%|          | 0/57638 [00:00<?, ?it/s]"
      ]
     },
     "metadata": {},
     "output_type": "display_data"
    },
    {
     "name": "stdout",
     "output_type": "stream",
     "text": [
      "Calculando metricas de results_contriever_ft.json\n",
      "  Métricas guardadas en: ../metrics/oq_doc_rrf/fiqa/results_contriever_ft.json\n",
      "Calculando metricas de results_bge_large.json\n",
      "  Métricas guardadas en: ../metrics/oq_doc_rrf/fiqa/results_bge_large.json\n",
      "Calculando metricas de results_dpr.json\n",
      "  Métricas guardadas en: ../metrics/oq_doc_rrf/fiqa/results_dpr.json\n",
      "Calculando metricas de results_contriever.json\n",
      "  Métricas guardadas en: ../metrics/oq_doc_rrf/fiqa/results_contriever.json\n",
      "Calculando metricas de results_gte_large.json\n",
      "  Métricas guardadas en: ../metrics/oq_doc_rrf/fiqa/results_gte_large.json\n",
      "Calculando metricas de results_sparse_bm25.json\n",
      "  Métricas guardadas en: ../metrics/oq_doc_rrf/fiqa/results_sparse_bm25.json\n"
     ]
    }
   ],
   "source": [
    "from kdir_src.utils.evaluation import evaluate_all_results\n",
    "evaluate_all_results(f'../results/fire/oq_doc_rrf/{dataset_name}')"
   ]
  },
  {
   "cell_type": "markdown",
   "id": "a4e291fb",
   "metadata": {},
   "source": [
    "## Obtain results from Gen answer and original query"
   ]
  },
  {
   "cell_type": "code",
   "execution_count": 11,
   "id": "efd951ec-0f97-4ec3-b146-643ab0bbff95",
   "metadata": {},
   "outputs": [
    {
     "name": "stderr",
     "output_type": "stream",
     "text": [
      "Procesando contriever...: 100%|████████████████████████████████████████████████████████| 6/6 [00:00<00:00, 85.86batch/s]\n",
      "Procesando contriever...: 100%|████████████████████████████████████████████████████████| 6/6 [00:03<00:00,  1.67batch/s]\n",
      "obteniendo resultados contriever: 648it [00:03, 209.43it/s]\n",
      "obteniendo resultados contriever: 648it [00:02, 219.02it/s]\n",
      "Procesando contriever...: 100%|████████████████████████████████████████████████████████| 6/6 [00:00<00:00, 98.52batch/s]\n",
      "Procesando contriever...: 100%|████████████████████████████████████████████████████████| 6/6 [00:03<00:00,  1.53batch/s]\n",
      "obteniendo resultados contriever_ft: 648it [00:02, 225.04it/s]\n",
      "obteniendo resultados contriever_ft: 648it [00:02, 238.75it/s]\n",
      "Procesando dpr...: 100%|███████████████████████████████████████████████████████████████| 6/6 [00:00<00:00, 63.71batch/s]\n",
      "Procesando dpr...: 100%|███████████████████████████████████████████████████████████████| 6/6 [00:04<00:00,  1.28batch/s]\n",
      "obteniendo resultados dpr: 648it [00:02, 250.49it/s]\n",
      "obteniendo resultados dpr: 648it [00:02, 242.17it/s]\n"
     ]
    },
    {
     "data": {
      "application/vnd.jupyter.widget-view+json": {
       "model_id": "4c377562caae4754a7dfaeeb66adf9c7",
       "version_major": 2,
       "version_minor": 0
      },
      "text/plain": [
       "Batches:   0%|          | 0/6 [00:00<?, ?it/s]"
      ]
     },
     "metadata": {},
     "output_type": "display_data"
    },
    {
     "data": {
      "application/vnd.jupyter.widget-view+json": {
       "model_id": "40276ea48bc648ccaaf89154b96b1613",
       "version_major": 2,
       "version_minor": 0
      },
      "text/plain": [
       "Batches:   0%|          | 0/6 [00:00<?, ?it/s]"
      ]
     },
     "metadata": {},
     "output_type": "display_data"
    },
    {
     "name": "stderr",
     "output_type": "stream",
     "text": [
      "obteniendo resultados bge_large: 648it [00:03, 201.30it/s]\n",
      "obteniendo resultados bge_large: 648it [00:03, 208.48it/s]\n"
     ]
    },
    {
     "data": {
      "application/vnd.jupyter.widget-view+json": {
       "model_id": "9f1ca0826b00494f90342bfd12307462",
       "version_major": 2,
       "version_minor": 0
      },
      "text/plain": [
       "Batches:   0%|          | 0/6 [00:00<?, ?it/s]"
      ]
     },
     "metadata": {},
     "output_type": "display_data"
    },
    {
     "data": {
      "application/vnd.jupyter.widget-view+json": {
       "model_id": "137690026da44abaab6ed392f119d4cd",
       "version_major": 2,
       "version_minor": 0
      },
      "text/plain": [
       "Batches:   0%|          | 0/6 [00:00<?, ?it/s]"
      ]
     },
     "metadata": {},
     "output_type": "display_data"
    },
    {
     "name": "stderr",
     "output_type": "stream",
     "text": [
      "obteniendo resultados gte_large: 648it [00:03, 189.54it/s]\n",
      "obteniendo resultados gte_large: 648it [00:03, 203.90it/s]\n"
     ]
    },
    {
     "name": "stdout",
     "output_type": "stream",
     "text": [
      "Procesando BM25 embeddings\n",
      "Procesando BM25 embeddings\n"
     ]
    },
    {
     "name": "stderr",
     "output_type": "stream",
     "text": [
      "obteniendo resultados sparse_bm25: 648it [00:01, 493.40it/s]\n",
      "obteniendo resultados sparse_bm25: 648it [00:02, 300.44it/s]\n"
     ]
    }
   ],
   "source": [
    "fire_rag.get_o_query_answer_results_rrf_from_jsonl_fire('../doc_gen/fire/doc5/',f'../results/fire/oq_ans_rrf/{dataset_name}/', 32,10,10)"
   ]
  },
  {
   "cell_type": "code",
   "execution_count": 12,
   "id": "384d8b2d-368b-4ef3-8fc0-c04c75adf4c5",
   "metadata": {},
   "outputs": [
    {
     "name": "stdout",
     "output_type": "stream",
     "text": [
      "fiqa\n"
     ]
    },
    {
     "data": {
      "application/vnd.jupyter.widget-view+json": {
       "model_id": "ca6e63ae0500439f9de5e10206db6d91",
       "version_major": 2,
       "version_minor": 0
      },
      "text/plain": [
       "  0%|          | 0/57638 [00:00<?, ?it/s]"
      ]
     },
     "metadata": {},
     "output_type": "display_data"
    },
    {
     "name": "stdout",
     "output_type": "stream",
     "text": [
      "Calculando metricas de results_contriever_ft.json\n",
      "  Métricas guardadas en: ../metrics/oq_ans_rrf/fiqa/results_contriever_ft.json\n",
      "Calculando metricas de results_bge_large.json\n",
      "  Métricas guardadas en: ../metrics/oq_ans_rrf/fiqa/results_bge_large.json\n",
      "Calculando metricas de results_dpr.json\n",
      "  Métricas guardadas en: ../metrics/oq_ans_rrf/fiqa/results_dpr.json\n",
      "Calculando metricas de results_contriever.json\n",
      "  Métricas guardadas en: ../metrics/oq_ans_rrf/fiqa/results_contriever.json\n",
      "Calculando metricas de results_gte_large.json\n",
      "  Métricas guardadas en: ../metrics/oq_ans_rrf/fiqa/results_gte_large.json\n",
      "Calculando metricas de results_sparse_bm25.json\n",
      "  Métricas guardadas en: ../metrics/oq_ans_rrf/fiqa/results_sparse_bm25.json\n"
     ]
    }
   ],
   "source": [
    "from kdir_src.utils.evaluation import evaluate_all_results\n",
    "evaluate_all_results(f'../results/fire/oq_ans_rrf/{dataset_name}')"
   ]
  },
  {
   "cell_type": "markdown",
   "id": "a472ee5a",
   "metadata": {},
   "source": [
    "## Obtain results from Gen doc, Gen answer , Gen Query and original query"
   ]
  },
  {
   "cell_type": "code",
   "execution_count": 3,
   "id": "80e66b9e-97b7-4fc7-9f15-7979355705d7",
   "metadata": {
    "scrolled": true
   },
   "outputs": [
    {
     "name": "stderr",
     "output_type": "stream",
     "text": [
      "Procesando contriever...: 100%|████████████████████████████████████████████████████████| 6/6 [00:00<00:00,  7.53batch/s]\n",
      "Procesando contriever...: 100%|████████████████████████████████████████████████████████| 6/6 [00:05<00:00,  1.01batch/s]\n",
      "Procesando contriever...: 100%|████████████████████████████████████████████████████████| 6/6 [00:01<00:00,  4.67batch/s]\n",
      "Procesando contriever...: 100%|████████████████████████████████████████████████████████| 6/6 [00:03<00:00,  1.54batch/s]\n",
      "obteniendo resultados contriever: 648it [00:05, 119.51it/s]\n",
      "obteniendo resultados contriever: 648it [00:04, 133.30it/s]\n",
      "obteniendo resultados contriever: 648it [00:04, 133.46it/s]\n",
      "obteniendo resultados contriever: 648it [00:04, 133.57it/s]\n",
      "Procesando contriever...: 100%|████████████████████████████████████████████████████████| 6/6 [00:00<00:00, 15.68batch/s]\n",
      "Procesando contriever...: 100%|████████████████████████████████████████████████████████| 6/6 [00:06<00:00,  1.03s/batch]\n",
      "Procesando contriever...: 100%|████████████████████████████████████████████████████████| 6/6 [00:01<00:00,  4.65batch/s]\n",
      "Procesando contriever...: 100%|████████████████████████████████████████████████████████| 6/6 [00:04<00:00,  1.41batch/s]\n",
      "obteniendo resultados contriever_ft: 648it [00:04, 146.11it/s]\n",
      "obteniendo resultados contriever_ft: 648it [00:04, 142.55it/s]\n",
      "obteniendo resultados contriever_ft: 648it [00:04, 153.09it/s]\n",
      "obteniendo resultados contriever_ft: 648it [00:04, 153.54it/s]\n",
      "Procesando dpr...: 100%|███████████████████████████████████████████████████████████████| 6/6 [00:00<00:00, 11.43batch/s]\n",
      "Procesando dpr...: 100%|███████████████████████████████████████████████████████████████| 6/6 [00:08<00:00,  1.45s/batch]\n",
      "Procesando dpr...: 100%|███████████████████████████████████████████████████████████████| 6/6 [00:01<00:00,  3.17batch/s]\n",
      "Procesando dpr...: 100%|███████████████████████████████████████████████████████████████| 6/6 [00:05<00:00,  1.17batch/s]\n",
      "obteniendo resultados dpr: 648it [00:04, 146.60it/s]\n",
      "obteniendo resultados dpr: 648it [00:04, 153.56it/s]\n",
      "obteniendo resultados dpr: 648it [00:04, 155.11it/s]\n",
      "obteniendo resultados dpr: 648it [00:04, 153.32it/s]\n"
     ]
    },
    {
     "data": {
      "application/vnd.jupyter.widget-view+json": {
       "model_id": "1b936ba100034bf5bb4106ed1ba1b6e8",
       "version_major": 2,
       "version_minor": 0
      },
      "text/plain": [
       "Batches:   0%|          | 0/6 [00:00<?, ?it/s]"
      ]
     },
     "metadata": {},
     "output_type": "display_data"
    },
    {
     "data": {
      "application/vnd.jupyter.widget-view+json": {
       "model_id": "d8b3468ce8f94e02b39041b23ad79b71",
       "version_major": 2,
       "version_minor": 0
      },
      "text/plain": [
       "Batches:   0%|          | 0/6 [00:00<?, ?it/s]"
      ]
     },
     "metadata": {},
     "output_type": "display_data"
    },
    {
     "data": {
      "application/vnd.jupyter.widget-view+json": {
       "model_id": "f6b1462c4bc943bf831007535c18926f",
       "version_major": 2,
       "version_minor": 0
      },
      "text/plain": [
       "Batches:   0%|          | 0/6 [00:00<?, ?it/s]"
      ]
     },
     "metadata": {},
     "output_type": "display_data"
    },
    {
     "data": {
      "application/vnd.jupyter.widget-view+json": {
       "model_id": "f185711e8e424b3ca9afe0eb980ac0d8",
       "version_major": 2,
       "version_minor": 0
      },
      "text/plain": [
       "Batches:   0%|          | 0/6 [00:00<?, ?it/s]"
      ]
     },
     "metadata": {},
     "output_type": "display_data"
    },
    {
     "name": "stderr",
     "output_type": "stream",
     "text": [
      "obteniendo resultados bge_large: 648it [00:04, 130.51it/s]\n",
      "obteniendo resultados bge_large: 648it [00:04, 137.62it/s]\n",
      "obteniendo resultados bge_large: 648it [00:04, 135.75it/s]\n",
      "obteniendo resultados bge_large: 648it [00:04, 139.35it/s]\n"
     ]
    },
    {
     "data": {
      "application/vnd.jupyter.widget-view+json": {
       "model_id": "8b014c7b4f0d4ba78e5ecb0cd83dfbd3",
       "version_major": 2,
       "version_minor": 0
      },
      "text/plain": [
       "Batches:   0%|          | 0/6 [00:00<?, ?it/s]"
      ]
     },
     "metadata": {},
     "output_type": "display_data"
    },
    {
     "data": {
      "application/vnd.jupyter.widget-view+json": {
       "model_id": "d193ca7e0c494e3a8d41f5bc6106158b",
       "version_major": 2,
       "version_minor": 0
      },
      "text/plain": [
       "Batches:   0%|          | 0/6 [00:00<?, ?it/s]"
      ]
     },
     "metadata": {},
     "output_type": "display_data"
    },
    {
     "data": {
      "application/vnd.jupyter.widget-view+json": {
       "model_id": "2046e247699a492f9cf356ae1f045778",
       "version_major": 2,
       "version_minor": 0
      },
      "text/plain": [
       "Batches:   0%|          | 0/6 [00:00<?, ?it/s]"
      ]
     },
     "metadata": {},
     "output_type": "display_data"
    },
    {
     "data": {
      "application/vnd.jupyter.widget-view+json": {
       "model_id": "afdfd8fac35341349e3e0bc94270c0f0",
       "version_major": 2,
       "version_minor": 0
      },
      "text/plain": [
       "Batches:   0%|          | 0/6 [00:00<?, ?it/s]"
      ]
     },
     "metadata": {},
     "output_type": "display_data"
    },
    {
     "name": "stderr",
     "output_type": "stream",
     "text": [
      "obteniendo resultados gte_large: 648it [00:05, 128.84it/s]\n",
      "obteniendo resultados gte_large: 648it [00:04, 133.74it/s]\n",
      "obteniendo resultados gte_large: 648it [00:04, 132.95it/s]\n",
      "obteniendo resultados gte_large: 648it [00:04, 137.22it/s]\n"
     ]
    },
    {
     "name": "stdout",
     "output_type": "stream",
     "text": [
      "Procesando BM25 embeddings\n",
      "Procesando BM25 embeddings\n",
      "Procesando BM25 embeddings\n",
      "Procesando BM25 embeddings\n"
     ]
    },
    {
     "name": "stderr",
     "output_type": "stream",
     "text": [
      "obteniendo resultados sparse_bm25: 648it [00:01, 375.83it/s]\n",
      "obteniendo resultados sparse_bm25: 648it [00:02, 248.71it/s]\n",
      "obteniendo resultados sparse_bm25: 648it [00:01, 330.58it/s]\n",
      "obteniendo resultados sparse_bm25: 648it [00:02, 309.31it/s]\n"
     ]
    }
   ],
   "source": [
    "fire_rag.get_all_results_rrf_from_jsonl_fire('../doc_gen/fire/doc5/',f'../results/fire/all_rrf/{dataset_name}/', 32,10,10)"
   ]
  },
  {
   "cell_type": "code",
   "execution_count": 4,
   "id": "0a5951f3-83b6-4adf-ad64-451eece20d40",
   "metadata": {},
   "outputs": [
    {
     "name": "stdout",
     "output_type": "stream",
     "text": [
      "fiqa\n"
     ]
    },
    {
     "data": {
      "application/vnd.jupyter.widget-view+json": {
       "model_id": "4dfe5aeecb0f4fbab171606ed5df0986",
       "version_major": 2,
       "version_minor": 0
      },
      "text/plain": [
       "  0%|          | 0/57638 [00:00<?, ?it/s]"
      ]
     },
     "metadata": {},
     "output_type": "display_data"
    },
    {
     "name": "stdout",
     "output_type": "stream",
     "text": [
      "Calculando metricas de results_contriever_ft.json\n",
      "  Métricas guardadas en: ../metrics/all_rrf/fiqa/results_contriever_ft.json\n",
      "Calculando metricas de results_bge_large.json\n",
      "  Métricas guardadas en: ../metrics/all_rrf/fiqa/results_bge_large.json\n",
      "Calculando metricas de results_dpr.json\n",
      "  Métricas guardadas en: ../metrics/all_rrf/fiqa/results_dpr.json\n",
      "Calculando metricas de results_contriever.json\n",
      "  Métricas guardadas en: ../metrics/all_rrf/fiqa/results_contriever.json\n",
      "Calculando metricas de results_gte_large.json\n",
      "  Métricas guardadas en: ../metrics/all_rrf/fiqa/results_gte_large.json\n",
      "Calculando metricas de results_sparse_bm25.json\n",
      "  Métricas guardadas en: ../metrics/all_rrf/fiqa/results_sparse_bm25.json\n"
     ]
    }
   ],
   "source": [
    "from kdir_src.utils.evaluation import evaluate_all_results\n",
    "evaluate_all_results(f'../results/fire/all_rrf/{dataset_name}')"
   ]
  },
  {
   "cell_type": "markdown",
   "id": "4bcc84b6",
   "metadata": {},
   "source": [
    "## Obtain results from Gen doc, Gen answer and original query"
   ]
  },
  {
   "cell_type": "code",
   "execution_count": 5,
   "id": "33274ed4-19bc-491e-91cb-737398d09ca6",
   "metadata": {
    "scrolled": true
   },
   "outputs": [
    {
     "name": "stderr",
     "output_type": "stream",
     "text": [
      "Procesando contriever...: 100%|████████████████████████████████████████████████████████| 6/6 [00:00<00:00, 16.83batch/s]\n",
      "Procesando contriever...: 100%|████████████████████████████████████████████████████████| 6/6 [00:05<00:00,  1.10batch/s]\n",
      "Procesando contriever...: 100%|████████████████████████████████████████████████████████| 6/6 [00:03<00:00,  1.66batch/s]\n",
      "obteniendo resultados contriever: 648it [00:03, 207.05it/s]\n",
      "obteniendo resultados contriever: 648it [00:02, 221.30it/s]\n",
      "obteniendo resultados contriever: 648it [00:02, 219.84it/s]\n",
      "Procesando contriever...: 100%|████████████████████████████████████████████████████████| 6/6 [00:00<00:00, 16.88batch/s]\n",
      "Procesando contriever...: 100%|████████████████████████████████████████████████████████| 6/6 [00:05<00:00,  1.05batch/s]\n",
      "Procesando contriever...: 100%|████████████████████████████████████████████████████████| 6/6 [00:03<00:00,  1.51batch/s]\n",
      "obteniendo resultados contriever_ft: 648it [00:02, 233.13it/s]\n",
      "obteniendo resultados contriever_ft: 648it [00:02, 236.04it/s]\n",
      "obteniendo resultados contriever_ft: 648it [00:02, 240.49it/s]\n",
      "Procesando dpr...: 100%|███████████████████████████████████████████████████████████████| 6/6 [00:00<00:00, 12.61batch/s]\n",
      "Procesando dpr...: 100%|███████████████████████████████████████████████████████████████| 6/6 [00:07<00:00,  1.30s/batch]\n",
      "Procesando dpr...: 100%|███████████████████████████████████████████████████████████████| 6/6 [00:04<00:00,  1.26batch/s]\n",
      "obteniendo resultados dpr: 648it [00:02, 230.75it/s]\n",
      "obteniendo resultados dpr: 648it [00:02, 239.62it/s]\n",
      "obteniendo resultados dpr: 648it [00:02, 242.31it/s]\n"
     ]
    },
    {
     "data": {
      "application/vnd.jupyter.widget-view+json": {
       "model_id": "60b54b88ae464dfb837a4762e56a340b",
       "version_major": 2,
       "version_minor": 0
      },
      "text/plain": [
       "Batches:   0%|          | 0/6 [00:00<?, ?it/s]"
      ]
     },
     "metadata": {},
     "output_type": "display_data"
    },
    {
     "data": {
      "application/vnd.jupyter.widget-view+json": {
       "model_id": "babecc5b8edc494b847fb333fb8529c1",
       "version_major": 2,
       "version_minor": 0
      },
      "text/plain": [
       "Batches:   0%|          | 0/6 [00:00<?, ?it/s]"
      ]
     },
     "metadata": {},
     "output_type": "display_data"
    },
    {
     "data": {
      "application/vnd.jupyter.widget-view+json": {
       "model_id": "6cdcb5d618a241b1a2489b7aaf37d3bc",
       "version_major": 2,
       "version_minor": 0
      },
      "text/plain": [
       "Batches:   0%|          | 0/6 [00:00<?, ?it/s]"
      ]
     },
     "metadata": {},
     "output_type": "display_data"
    },
    {
     "name": "stderr",
     "output_type": "stream",
     "text": [
      "obteniendo resultados bge_large: 648it [00:03, 198.43it/s]\n",
      "obteniendo resultados bge_large: 648it [00:03, 207.91it/s]\n",
      "obteniendo resultados bge_large: 648it [00:03, 208.90it/s]\n"
     ]
    },
    {
     "data": {
      "application/vnd.jupyter.widget-view+json": {
       "model_id": "b6179405787e4e9eb2893ecac14deb64",
       "version_major": 2,
       "version_minor": 0
      },
      "text/plain": [
       "Batches:   0%|          | 0/6 [00:00<?, ?it/s]"
      ]
     },
     "metadata": {},
     "output_type": "display_data"
    },
    {
     "data": {
      "application/vnd.jupyter.widget-view+json": {
       "model_id": "a3ee7a2d02f5458f94d1816a13a685ce",
       "version_major": 2,
       "version_minor": 0
      },
      "text/plain": [
       "Batches:   0%|          | 0/6 [00:00<?, ?it/s]"
      ]
     },
     "metadata": {},
     "output_type": "display_data"
    },
    {
     "data": {
      "application/vnd.jupyter.widget-view+json": {
       "model_id": "db98ac6a7de44a0380eb067692d7a2f7",
       "version_major": 2,
       "version_minor": 0
      },
      "text/plain": [
       "Batches:   0%|          | 0/6 [00:00<?, ?it/s]"
      ]
     },
     "metadata": {},
     "output_type": "display_data"
    },
    {
     "name": "stderr",
     "output_type": "stream",
     "text": [
      "obteniendo resultados gte_large: 648it [00:03, 197.95it/s]\n",
      "obteniendo resultados gte_large: 648it [00:03, 203.99it/s]\n",
      "obteniendo resultados gte_large: 648it [00:03, 203.56it/s]\n"
     ]
    },
    {
     "name": "stdout",
     "output_type": "stream",
     "text": [
      "Procesando BM25 embeddings\n",
      "Procesando BM25 embeddings\n",
      "Procesando BM25 embeddings\n"
     ]
    },
    {
     "name": "stderr",
     "output_type": "stream",
     "text": [
      "obteniendo resultados sparse_bm25: 648it [00:01, 366.14it/s]\n",
      "obteniendo resultados sparse_bm25: 648it [00:02, 250.62it/s]\n",
      "obteniendo resultados sparse_bm25: 648it [00:03, 203.55it/s]"
     ]
    },
    {
     "name": "stdout",
     "output_type": "stream",
     "text": [
      "fiqa\n"
     ]
    },
    {
     "name": "stderr",
     "output_type": "stream",
     "text": [
      "\n"
     ]
    },
    {
     "data": {
      "application/vnd.jupyter.widget-view+json": {
       "model_id": "a74968b223e34dca9a33272cec0663d9",
       "version_major": 2,
       "version_minor": 0
      },
      "text/plain": [
       "  0%|          | 0/57638 [00:00<?, ?it/s]"
      ]
     },
     "metadata": {},
     "output_type": "display_data"
    },
    {
     "name": "stdout",
     "output_type": "stream",
     "text": [
      "Calculando metricas de results_contriever_ft.json\n",
      "  Métricas guardadas en: ../metrics/all_rrf/fiqa/results_contriever_ft.json\n",
      "Calculando metricas de results_bge_large.json\n",
      "  Métricas guardadas en: ../metrics/all_rrf/fiqa/results_bge_large.json\n",
      "Calculando metricas de results_dpr.json\n",
      "  Métricas guardadas en: ../metrics/all_rrf/fiqa/results_dpr.json\n",
      "Calculando metricas de results_contriever.json\n",
      "  Métricas guardadas en: ../metrics/all_rrf/fiqa/results_contriever.json\n",
      "Calculando metricas de results_gte_large.json\n",
      "  Métricas guardadas en: ../metrics/all_rrf/fiqa/results_gte_large.json\n",
      "Calculando metricas de results_sparse_bm25.json\n",
      "  Métricas guardadas en: ../metrics/all_rrf/fiqa/results_sparse_bm25.json\n"
     ]
    }
   ],
   "source": [
    "fire_rag.get_3best_results_rrf_from_jsonl_fire('../doc_gen/fire/doc5/',f'../results/fire/3_rrf/{dataset_name}/', 32,10,10)\n"
   ]
  },
  {
   "cell_type": "code",
   "execution_count": 12,
   "id": "58daf0d4-4ebe-4d1d-b238-0c425fe59795",
   "metadata": {},
   "outputs": [
    {
     "name": "stdout",
     "output_type": "stream",
     "text": [
      "fiqa\n"
     ]
    },
    {
     "data": {
      "application/vnd.jupyter.widget-view+json": {
       "model_id": "4540991551f54ce5b779abc92ce2699a",
       "version_major": 2,
       "version_minor": 0
      },
      "text/plain": [
       "  0%|          | 0/57638 [00:00<?, ?it/s]"
      ]
     },
     "metadata": {},
     "output_type": "display_data"
    },
    {
     "name": "stdout",
     "output_type": "stream",
     "text": [
      "Calculando metricas de results_contriever_ft.json\n",
      "  Métricas guardadas en: ../metrics/3_rrf/fiqa/results_contriever_ft.json\n",
      "Calculando metricas de results_bge_large.json\n",
      "  Métricas guardadas en: ../metrics/3_rrf/fiqa/results_bge_large.json\n",
      "Calculando metricas de results_dpr.json\n",
      "  Métricas guardadas en: ../metrics/3_rrf/fiqa/results_dpr.json\n",
      "Calculando metricas de results_contriever.json\n",
      "  Métricas guardadas en: ../metrics/3_rrf/fiqa/results_contriever.json\n",
      "Calculando metricas de results_gte_large.json\n",
      "  Métricas guardadas en: ../metrics/3_rrf/fiqa/results_gte_large.json\n",
      "Calculando metricas de results_sparse_bm25.json\n",
      "  Métricas guardadas en: ../metrics/3_rrf/fiqa/results_sparse_bm25.json\n"
     ]
    }
   ],
   "source": [
    "from kdir_src.utils.evaluation import evaluate_all_results\n",
    "evaluate_all_results(f'../results/fire/3_rrf/{dataset_name}')"
   ]
  },
  {
   "cell_type": "markdown",
   "id": "bf637c22-0068-43d4-8da8-21eaac7b516c",
   "metadata": {},
   "source": [
    "# Scidocs "
   ]
  },
  {
   "cell_type": "code",
   "execution_count": 1,
   "id": "6a1d00ea-d7e4-4217-bd6f-f2cd38438e1f",
   "metadata": {},
   "outputs": [
    {
     "name": "stderr",
     "output_type": "stream",
     "text": [
      "/local1/ronaldinho/enviroments/env_kdir/lib/python3.10/site-packages/beir/util.py:11: TqdmExperimentalWarning: Using `tqdm.autonotebook.tqdm` in notebook mode. Use `tqdm.tqdm` instead to force console mode (e.g. in jupyter console)\n",
      "  from tqdm.autonotebook import tqdm\n"
     ]
    }
   ],
   "source": [
    "from kdir_src.fire.Fire import Fire\n",
    "from kdir_src.fire.promptor_fire import Promptor_fire\n",
    "from kdir_src.generators.mistral_ai import MistralGenerator\n",
    "from kdir_src.models.all_models import load_models"
   ]
  },
  {
   "cell_type": "code",
   "execution_count": null,
   "id": "68f07435-111c-4fab-843a-3c78a5e6ce7f",
   "metadata": {
    "scrolled": true
   },
   "outputs": [],
   "source": [
    "dataset_name='scidocs'\n",
    "promptor = Promptor_fire(dataset_name)\n",
    "#encoder_models = load_models()\n",
    "KEY = ''\n",
    "generator = MistralGenerator('mistral-small-2503', KEY, 1, 512, 0.0)\n",
    "fire_rag = Fire(dataset_name, promptor, generator, encoder_models)"
   ]
  },
  {
   "cell_type": "markdown",
   "id": "0220fb69",
   "metadata": {},
   "source": [
    "## Obtain results from Gen doc, Gen answer , Gen Query and original query"
   ]
  },
  {
   "cell_type": "code",
   "execution_count": 3,
   "id": "ea00cb7a-65a3-4009-b98d-a4fabdf6c05b",
   "metadata": {
    "scrolled": true
   },
   "outputs": [
    {
     "name": "stderr",
     "output_type": "stream",
     "text": [
      "Procesando contriever...: 100%|████████████████████████████████████████████████████████| 8/8 [00:01<00:00,  7.74batch/s]\n",
      "Procesando contriever...: 100%|████████████████████████████████████████████████████████| 8/8 [00:08<00:00,  1.07s/batch]\n",
      "Procesando contriever...: 100%|████████████████████████████████████████████████████████| 8/8 [00:01<00:00,  6.69batch/s]\n",
      "Procesando contriever...: 100%|████████████████████████████████████████████████████████| 8/8 [00:04<00:00,  1.73batch/s]\n",
      "obteniendo resultados contriever: 1000it [00:07, 130.16it/s]\n",
      "obteniendo resultados contriever: 1000it [00:07, 127.95it/s]\n",
      "obteniendo resultados contriever: 1000it [00:07, 138.87it/s]\n",
      "obteniendo resultados contriever: 1000it [00:07, 136.67it/s]\n",
      "Procesando contriever...: 100%|████████████████████████████████████████████████████████| 8/8 [00:00<00:00, 12.90batch/s]\n",
      "Procesando contriever...: 100%|████████████████████████████████████████████████████████| 8/8 [00:08<00:00,  1.12s/batch]\n",
      "Procesando contriever...: 100%|████████████████████████████████████████████████████████| 8/8 [00:01<00:00,  7.02batch/s]\n",
      "Procesando contriever...: 100%|████████████████████████████████████████████████████████| 8/8 [00:05<00:00,  1.42batch/s]\n",
      "obteniendo resultados contriever_ft: 1000it [00:07, 132.25it/s]\n",
      "obteniendo resultados contriever_ft: 1000it [00:07, 135.83it/s]\n",
      "obteniendo resultados contriever_ft: 1000it [00:07, 137.52it/s]\n",
      "obteniendo resultados contriever_ft: 1000it [00:07, 138.14it/s]\n",
      "Procesando dpr...: 100%|███████████████████████████████████████████████████████████████| 8/8 [00:00<00:00,  9.65batch/s]\n",
      "Procesando dpr...: 100%|███████████████████████████████████████████████████████████████| 8/8 [00:11<00:00,  1.46s/batch]\n",
      "Procesando dpr...: 100%|███████████████████████████████████████████████████████████████| 8/8 [00:01<00:00,  4.71batch/s]\n",
      "Procesando dpr...: 100%|███████████████████████████████████████████████████████████████| 8/8 [00:07<00:00,  1.00batch/s]\n",
      "obteniendo resultados dpr: 1000it [00:07, 130.71it/s]\n",
      "obteniendo resultados dpr: 1000it [00:07, 139.89it/s]\n",
      "obteniendo resultados dpr: 1000it [00:07, 140.77it/s]\n",
      "obteniendo resultados dpr: 1000it [00:07, 140.65it/s]\n"
     ]
    },
    {
     "data": {
      "application/vnd.jupyter.widget-view+json": {
       "model_id": "1bc6a75c46b44c83a60bedd7824cd394",
       "version_major": 2,
       "version_minor": 0
      },
      "text/plain": [
       "Batches:   0%|          | 0/8 [00:00<?, ?it/s]"
      ]
     },
     "metadata": {},
     "output_type": "display_data"
    },
    {
     "data": {
      "application/vnd.jupyter.widget-view+json": {
       "model_id": "72d682c7f091413aa4bb3511e26811ec",
       "version_major": 2,
       "version_minor": 0
      },
      "text/plain": [
       "Batches:   0%|          | 0/8 [00:00<?, ?it/s]"
      ]
     },
     "metadata": {},
     "output_type": "display_data"
    },
    {
     "data": {
      "application/vnd.jupyter.widget-view+json": {
       "model_id": "56a5d3f4a07e48f9b5fc633b608bba10",
       "version_major": 2,
       "version_minor": 0
      },
      "text/plain": [
       "Batches:   0%|          | 0/8 [00:00<?, ?it/s]"
      ]
     },
     "metadata": {},
     "output_type": "display_data"
    },
    {
     "data": {
      "application/vnd.jupyter.widget-view+json": {
       "model_id": "da8a210f4018409bb76892858f20c154",
       "version_major": 2,
       "version_minor": 0
      },
      "text/plain": [
       "Batches:   0%|          | 0/8 [00:00<?, ?it/s]"
      ]
     },
     "metadata": {},
     "output_type": "display_data"
    },
    {
     "name": "stderr",
     "output_type": "stream",
     "text": [
      "obteniendo resultados bge_large: 1000it [00:08, 111.81it/s]\n",
      "obteniendo resultados bge_large: 1000it [00:08, 112.60it/s]\n",
      "obteniendo resultados bge_large: 1000it [00:09, 105.36it/s]\n",
      "obteniendo resultados bge_large: 1000it [00:12, 78.36it/s]\n"
     ]
    },
    {
     "data": {
      "application/vnd.jupyter.widget-view+json": {
       "model_id": "617fc67d394b407b858f895538012fb1",
       "version_major": 2,
       "version_minor": 0
      },
      "text/plain": [
       "Batches:   0%|          | 0/8 [00:00<?, ?it/s]"
      ]
     },
     "metadata": {},
     "output_type": "display_data"
    },
    {
     "data": {
      "application/vnd.jupyter.widget-view+json": {
       "model_id": "8eca6840026e48db92b3f6cc946dd467",
       "version_major": 2,
       "version_minor": 0
      },
      "text/plain": [
       "Batches:   0%|          | 0/8 [00:00<?, ?it/s]"
      ]
     },
     "metadata": {},
     "output_type": "display_data"
    },
    {
     "data": {
      "application/vnd.jupyter.widget-view+json": {
       "model_id": "7aa3705fb66740f8b92944bdbe87511e",
       "version_major": 2,
       "version_minor": 0
      },
      "text/plain": [
       "Batches:   0%|          | 0/8 [00:00<?, ?it/s]"
      ]
     },
     "metadata": {},
     "output_type": "display_data"
    },
    {
     "data": {
      "application/vnd.jupyter.widget-view+json": {
       "model_id": "56d1a7c1d0b145f38547e1c334c2b07f",
       "version_major": 2,
       "version_minor": 0
      },
      "text/plain": [
       "Batches:   0%|          | 0/8 [00:00<?, ?it/s]"
      ]
     },
     "metadata": {},
     "output_type": "display_data"
    },
    {
     "name": "stderr",
     "output_type": "stream",
     "text": [
      "obteniendo resultados gte_large: 1000it [00:10, 91.95it/s]\n",
      "obteniendo resultados gte_large: 1000it [00:10, 99.40it/s]\n",
      "obteniendo resultados gte_large: 1000it [00:10, 93.15it/s]\n",
      "obteniendo resultados gte_large: 1000it [00:10, 92.03it/s]\n"
     ]
    },
    {
     "name": "stdout",
     "output_type": "stream",
     "text": [
      "Procesando BM25 embeddings\n",
      "Procesando BM25 embeddings\n",
      "Procesando BM25 embeddings\n",
      "Procesando BM25 embeddings\n"
     ]
    },
    {
     "name": "stderr",
     "output_type": "stream",
     "text": [
      "obteniendo resultados sparse_bm25: 1000it [00:02, 417.28it/s]\n",
      "obteniendo resultados sparse_bm25: 1000it [00:02, 340.95it/s]\n",
      "obteniendo resultados sparse_bm25: 1000it [00:02, 425.33it/s]\n",
      "obteniendo resultados sparse_bm25: 1000it [00:03, 313.92it/s]\n"
     ]
    }
   ],
   "source": [
    "fire_rag.get_all_results_rrf_from_jsonl_fire('../doc_gen/fire/doc5/',f'../results/fire/all_rrf/{dataset_name}/', 32,10,10)"
   ]
  },
  {
   "cell_type": "code",
   "execution_count": 4,
   "id": "25ea21f5-7d9a-4507-9700-fb03bae7041a",
   "metadata": {},
   "outputs": [
    {
     "name": "stdout",
     "output_type": "stream",
     "text": [
      "scidocs\n"
     ]
    },
    {
     "data": {
      "application/vnd.jupyter.widget-view+json": {
       "model_id": "f45332bdb0504b458b5e419c96aeadeb",
       "version_major": 2,
       "version_minor": 0
      },
      "text/plain": [
       "  0%|          | 0/25657 [00:00<?, ?it/s]"
      ]
     },
     "metadata": {},
     "output_type": "display_data"
    },
    {
     "name": "stdout",
     "output_type": "stream",
     "text": [
      "Calculando metricas de results_contriever_ft.json\n",
      "  Métricas guardadas en: ../metrics/all_rrf/scidocs/results_contriever_ft.json\n",
      "Calculando metricas de results_bge_large.json\n",
      "  Métricas guardadas en: ../metrics/all_rrf/scidocs/results_bge_large.json\n",
      "Calculando metricas de results_dpr.json\n",
      "  Métricas guardadas en: ../metrics/all_rrf/scidocs/results_dpr.json\n",
      "Calculando metricas de results_contriever.json\n",
      "  Métricas guardadas en: ../metrics/all_rrf/scidocs/results_contriever.json\n",
      "Calculando metricas de results_gte_large.json\n",
      "  Métricas guardadas en: ../metrics/all_rrf/scidocs/results_gte_large.json\n",
      "Calculando metricas de results_sparse_bm25.json\n",
      "  Métricas guardadas en: ../metrics/all_rrf/scidocs/results_sparse_bm25.json\n"
     ]
    }
   ],
   "source": [
    "from kdir_src.utils.evaluation import evaluate_all_results\n",
    "evaluate_all_results(f'../results/fire/all_rrf/scidocs')"
   ]
  },
  {
   "cell_type": "markdown",
   "id": "d297d391",
   "metadata": {},
   "source": [
    "## Obtain results from Gen doc, Gen answer and original query"
   ]
  },
  {
   "cell_type": "code",
   "execution_count": 7,
   "id": "77caa923-0b20-40aa-a4a5-ef2c20daeb1a",
   "metadata": {},
   "outputs": [
    {
     "name": "stderr",
     "output_type": "stream",
     "text": [
      "Procesando contriever...: 100%|████████████████████████████████████████████████████████| 8/8 [00:00<00:00, 12.43batch/s]\n",
      "Procesando contriever...: 100%|████████████████████████████████████████████████████████| 8/8 [00:07<00:00,  1.02batch/s]\n",
      "Procesando contriever...: 100%|████████████████████████████████████████████████████████| 8/8 [00:04<00:00,  1.77batch/s]\n",
      "obteniendo resultados contriever: 1000it [00:06, 145.41it/s]\n",
      "obteniendo resultados contriever: 1000it [00:06, 146.64it/s]\n",
      "obteniendo resultados contriever: 1000it [00:06, 146.55it/s]\n",
      "Procesando contriever...: 100%|████████████████████████████████████████████████████████| 8/8 [00:00<00:00, 12.62batch/s]\n",
      "Procesando contriever...: 100%|████████████████████████████████████████████████████████| 8/8 [00:08<00:00,  1.11s/batch]\n",
      "Procesando contriever...: 100%|████████████████████████████████████████████████████████| 8/8 [00:05<00:00,  1.43batch/s]\n",
      "obteniendo resultados contriever_ft: 1000it [00:06, 145.52it/s]\n",
      "obteniendo resultados contriever_ft: 1000it [00:06, 145.57it/s]\n",
      "obteniendo resultados contriever_ft: 1000it [00:06, 144.18it/s]\n",
      "Procesando dpr...: 100%|███████████████████████████████████████████████████████████████| 8/8 [00:00<00:00,  9.49batch/s]\n",
      "Procesando dpr...: 100%|███████████████████████████████████████████████████████████████| 8/8 [00:11<00:00,  1.44s/batch]\n",
      "Procesando dpr...: 100%|███████████████████████████████████████████████████████████████| 8/8 [00:07<00:00,  1.06batch/s]\n",
      "obteniendo resultados dpr: 1000it [00:06, 146.03it/s]\n",
      "obteniendo resultados dpr: 1000it [00:06, 146.06it/s]\n",
      "obteniendo resultados dpr: 1000it [00:06, 145.27it/s]\n"
     ]
    },
    {
     "data": {
      "application/vnd.jupyter.widget-view+json": {
       "model_id": "ed39b8f934364ff5bdcf418e9896b273",
       "version_major": 2,
       "version_minor": 0
      },
      "text/plain": [
       "Batches:   0%|          | 0/8 [00:00<?, ?it/s]"
      ]
     },
     "metadata": {},
     "output_type": "display_data"
    },
    {
     "data": {
      "application/vnd.jupyter.widget-view+json": {
       "model_id": "020b9b85bc694d78a84ff26f2b6859fc",
       "version_major": 2,
       "version_minor": 0
      },
      "text/plain": [
       "Batches:   0%|          | 0/8 [00:00<?, ?it/s]"
      ]
     },
     "metadata": {},
     "output_type": "display_data"
    },
    {
     "data": {
      "application/vnd.jupyter.widget-view+json": {
       "model_id": "a39c5696c991488486c81b51836024ab",
       "version_major": 2,
       "version_minor": 0
      },
      "text/plain": [
       "Batches:   0%|          | 0/8 [00:00<?, ?it/s]"
      ]
     },
     "metadata": {},
     "output_type": "display_data"
    },
    {
     "name": "stderr",
     "output_type": "stream",
     "text": [
      "obteniendo resultados bge_large: 1000it [00:08, 115.44it/s]\n",
      "obteniendo resultados bge_large: 1000it [00:08, 115.16it/s]\n",
      "obteniendo resultados bge_large: 1000it [00:08, 115.28it/s]\n"
     ]
    },
    {
     "data": {
      "application/vnd.jupyter.widget-view+json": {
       "model_id": "6a93b3c0751746cfa1aca4e5dcbbafcf",
       "version_major": 2,
       "version_minor": 0
      },
      "text/plain": [
       "Batches:   0%|          | 0/8 [00:00<?, ?it/s]"
      ]
     },
     "metadata": {},
     "output_type": "display_data"
    },
    {
     "data": {
      "application/vnd.jupyter.widget-view+json": {
       "model_id": "19d23916ffab4bb4938e7a9b413c87c9",
       "version_major": 2,
       "version_minor": 0
      },
      "text/plain": [
       "Batches:   0%|          | 0/8 [00:00<?, ?it/s]"
      ]
     },
     "metadata": {},
     "output_type": "display_data"
    },
    {
     "data": {
      "application/vnd.jupyter.widget-view+json": {
       "model_id": "56f5cb1937ea46e9adc7aa3b5fec741b",
       "version_major": 2,
       "version_minor": 0
      },
      "text/plain": [
       "Batches:   0%|          | 0/8 [00:00<?, ?it/s]"
      ]
     },
     "metadata": {},
     "output_type": "display_data"
    },
    {
     "name": "stderr",
     "output_type": "stream",
     "text": [
      "obteniendo resultados gte_large: 1000it [00:08, 115.91it/s]\n",
      "obteniendo resultados gte_large: 1000it [00:08, 115.56it/s]\n",
      "obteniendo resultados gte_large: 1000it [00:08, 115.16it/s]\n"
     ]
    },
    {
     "name": "stdout",
     "output_type": "stream",
     "text": [
      "Procesando BM25 embeddings\n",
      "Procesando BM25 embeddings\n",
      "Procesando BM25 embeddings\n"
     ]
    },
    {
     "name": "stderr",
     "output_type": "stream",
     "text": [
      "obteniendo resultados sparse_bm25: 1000it [00:02, 416.42it/s]\n",
      "obteniendo resultados sparse_bm25: 1000it [00:03, 275.08it/s]\n",
      "obteniendo resultados sparse_bm25: 1000it [00:03, 311.26it/s]\n"
     ]
    },
    {
     "name": "stdout",
     "output_type": "stream",
     "text": [
      "scidocs\n"
     ]
    },
    {
     "data": {
      "application/vnd.jupyter.widget-view+json": {
       "model_id": "4c680eb175064b08b3fd4af8a2c2fa8e",
       "version_major": 2,
       "version_minor": 0
      },
      "text/plain": [
       "  0%|          | 0/25657 [00:00<?, ?it/s]"
      ]
     },
     "metadata": {},
     "output_type": "display_data"
    },
    {
     "name": "stdout",
     "output_type": "stream",
     "text": [
      "Calculando metricas de results_contriever_ft.json\n",
      "  Métricas guardadas en: ../metrics/3_rrf/scidocs/results_contriever_ft.json\n",
      "Calculando metricas de results_bge_large.json\n",
      "  Métricas guardadas en: ../metrics/3_rrf/scidocs/results_bge_large.json\n",
      "Calculando metricas de results_dpr.json\n",
      "  Métricas guardadas en: ../metrics/3_rrf/scidocs/results_dpr.json\n",
      "Calculando metricas de results_contriever.json\n",
      "  Métricas guardadas en: ../metrics/3_rrf/scidocs/results_contriever.json\n",
      "Calculando metricas de results_gte_large.json\n",
      "  Métricas guardadas en: ../metrics/3_rrf/scidocs/results_gte_large.json\n",
      "Calculando metricas de results_sparse_bm25.json\n",
      "  Métricas guardadas en: ../metrics/3_rrf/scidocs/results_sparse_bm25.json\n"
     ]
    }
   ],
   "source": [
    "fire_rag.get_3best_results_rrf_from_jsonl_fire('../doc_gen/fire/doc5/',f'../results/fire/3_rrf/{dataset_name}/', 32,10,10)\n",
    "from kdir_src.utils.evaluation import evaluate_all_results\n",
    "evaluate_all_results(f'../results/fire/3_rrf/{dataset_name}')"
   ]
  },
  {
   "cell_type": "markdown",
   "id": "693d3a50-36b3-4725-8772-863f91969d78",
   "metadata": {},
   "source": [
    "# Obtain results from only Gen doc ans onlu Gen answer"
   ]
  },
  {
   "cell_type": "markdown",
   "id": "e85d77a6-a3ec-436e-a044-645e107895e0",
   "metadata": {},
   "source": [
    "## scifact"
   ]
  },
  {
   "cell_type": "code",
   "execution_count": 1,
   "id": "9dd0c868-05c1-4216-a694-11651906d140",
   "metadata": {},
   "outputs": [
    {
     "name": "stderr",
     "output_type": "stream",
     "text": [
      "/local1/ronaldinho/enviroments/env_kdir/lib/python3.10/site-packages/beir/util.py:11: TqdmExperimentalWarning: Using `tqdm.autonotebook.tqdm` in notebook mode. Use `tqdm.tqdm` instead to force console mode (e.g. in jupyter console)\n",
      "  from tqdm.autonotebook import tqdm\n"
     ]
    }
   ],
   "source": [
    "from kdir_src.fire.Fire import Fire\n",
    "from kdir_src.fire.promptor_fire import Promptor_fire\n",
    "from kdir_src.generators.mistral_ai import MistralGenerator\n",
    "from kdir_src.models.all_models import load_models"
   ]
  },
  {
   "cell_type": "code",
   "execution_count": null,
   "id": "ee1b0b23-8fbc-4f87-b757-53ecb1e3552e",
   "metadata": {
    "scrolled": true
   },
   "outputs": [
    {
     "name": "stdout",
     "output_type": "stream",
     "text": [
      "Loading contriever...\n",
      "Loading contriever FT...\n",
      "Loading question dpr...\n"
     ]
    },
    {
     "name": "stderr",
     "output_type": "stream",
     "text": [
      "Some weights of the model checkpoint at facebook/dpr-question_encoder-single-nq-base were not used when initializing DPRQuestionEncoder: ['question_encoder.bert_model.pooler.dense.bias', 'question_encoder.bert_model.pooler.dense.weight']\n",
      "- This IS expected if you are initializing DPRQuestionEncoder from the checkpoint of a model trained on another task or with another architecture (e.g. initializing a BertForSequenceClassification model from a BertForPreTraining model).\n",
      "- This IS NOT expected if you are initializing DPRQuestionEncoder from the checkpoint of a model that you expect to be exactly identical (initializing a BertForSequenceClassification model from a BertForSequenceClassification model).\n"
     ]
    },
    {
     "name": "stdout",
     "output_type": "stream",
     "text": [
      "Loading context dpr...\n"
     ]
    },
    {
     "name": "stderr",
     "output_type": "stream",
     "text": [
      "The tokenizer class you load from this checkpoint is not the same type as the class this function is called from. It may result in unexpected tokenization. \n",
      "The tokenizer class you load from this checkpoint is 'DPRQuestionEncoderTokenizer'. \n",
      "The class this function is called from is 'DPRContextEncoderTokenizer'.\n",
      "Some weights of the model checkpoint at facebook/dpr-ctx_encoder-single-nq-base were not used when initializing DPRContextEncoder: ['ctx_encoder.bert_model.pooler.dense.bias', 'ctx_encoder.bert_model.pooler.dense.weight']\n",
      "- This IS expected if you are initializing DPRContextEncoder from the checkpoint of a model trained on another task or with another architecture (e.g. initializing a BertForSequenceClassification model from a BertForPreTraining model).\n",
      "- This IS NOT expected if you are initializing DPRContextEncoder from the checkpoint of a model that you expect to be exactly identical (initializing a BertForSequenceClassification model from a BertForSequenceClassification model).\n"
     ]
    },
    {
     "name": "stdout",
     "output_type": "stream",
     "text": [
      "Loading bge large...\n",
      "Loading gte large...\n",
      "Loading bm25...\n"
     ]
    }
   ],
   "source": [
    "dataset_name='scifact'\n",
    "promptor = Promptor_fire(dataset_name)\n",
    "encoder_models = load_models()\n",
    "KEY = ''\n",
    "generator = MistralGenerator('mistral-small-2503', KEY, 1, 512, 0.0)\n",
    "fire_rag = Fire(dataset_name, promptor, generator, encoder_models)"
   ]
  },
  {
   "cell_type": "markdown",
   "id": "f9df94e1",
   "metadata": {},
   "source": [
    "## Obtain results from Gen doc and Gen answer"
   ]
  },
  {
   "cell_type": "code",
   "execution_count": 3,
   "id": "db19c7e0-0173-407f-b433-9a6e53f99829",
   "metadata": {},
   "outputs": [
    {
     "name": "stderr",
     "output_type": "stream",
     "text": [
      "Procesando contriever...: 100%|████████████████████████████████████████████████████████| 3/3 [00:02<00:00,  1.19batch/s]\n",
      "Procesando contriever...: 100%|████████████████████████████████████████████████████████| 3/3 [00:02<00:00,  1.13batch/s]\n",
      "obteniendo resultados contriever: 300it [00:01, 204.76it/s]\n",
      "obteniendo resultados contriever: 300it [00:01, 226.71it/s]\n",
      "Procesando contriever...: 100%|████████████████████████████████████████████████████████| 3/3 [00:01<00:00,  1.51batch/s]\n",
      "Procesando contriever...: 100%|████████████████████████████████████████████████████████| 3/3 [00:02<00:00,  1.06batch/s]\n",
      "obteniendo resultados contriever_ft: 300it [00:01, 221.58it/s]\n",
      "obteniendo resultados contriever_ft: 300it [00:01, 216.79it/s]\n",
      "Procesando dpr...: 100%|███████████████████████████████████████████████████████████████| 3/3 [00:03<00:00,  1.20s/batch]\n",
      "Procesando dpr...: 100%|███████████████████████████████████████████████████████████████| 3/3 [00:03<00:00,  1.20s/batch]\n",
      "obteniendo resultados dpr: 300it [00:01, 224.11it/s]\n",
      "obteniendo resultados dpr: 300it [00:01, 221.20it/s]\n"
     ]
    },
    {
     "data": {
      "application/vnd.jupyter.widget-view+json": {
       "model_id": "7180ce72166146a0a0c1f2aa634dc1dd",
       "version_major": 2,
       "version_minor": 0
      },
      "text/plain": [
       "Batches:   0%|          | 0/3 [00:00<?, ?it/s]"
      ]
     },
     "metadata": {},
     "output_type": "display_data"
    },
    {
     "data": {
      "application/vnd.jupyter.widget-view+json": {
       "model_id": "702a7c5bb43a4eaa9ec3e8986c804d95",
       "version_major": 2,
       "version_minor": 0
      },
      "text/plain": [
       "Batches:   0%|          | 0/3 [00:00<?, ?it/s]"
      ]
     },
     "metadata": {},
     "output_type": "display_data"
    },
    {
     "name": "stderr",
     "output_type": "stream",
     "text": [
      "obteniendo resultados bge_large: 300it [00:01, 192.45it/s]\n",
      "obteniendo resultados bge_large: 300it [00:01, 192.04it/s]\n"
     ]
    },
    {
     "data": {
      "application/vnd.jupyter.widget-view+json": {
       "model_id": "521d7fd418cf49b19417286fb44d9a29",
       "version_major": 2,
       "version_minor": 0
      },
      "text/plain": [
       "Batches:   0%|          | 0/3 [00:00<?, ?it/s]"
      ]
     },
     "metadata": {},
     "output_type": "display_data"
    },
    {
     "data": {
      "application/vnd.jupyter.widget-view+json": {
       "model_id": "c6f05b055bc74858a69b09b076d74f2b",
       "version_major": 2,
       "version_minor": 0
      },
      "text/plain": [
       "Batches:   0%|          | 0/3 [00:00<?, ?it/s]"
      ]
     },
     "metadata": {},
     "output_type": "display_data"
    },
    {
     "name": "stderr",
     "output_type": "stream",
     "text": [
      "obteniendo resultados gte_large: 300it [00:01, 193.12it/s]\n",
      "obteniendo resultados gte_large: 300it [00:01, 203.86it/s]\n"
     ]
    },
    {
     "name": "stdout",
     "output_type": "stream",
     "text": [
      "Procesando BM25 embeddings\n",
      "Procesando BM25 embeddings\n"
     ]
    },
    {
     "name": "stderr",
     "output_type": "stream",
     "text": [
      "obteniendo resultados sparse_bm25: 300it [00:00, 436.85it/s]\n",
      "obteniendo resultados sparse_bm25: 300it [00:00, 444.48it/s]\n"
     ]
    }
   ],
   "source": [
    "fire_rag.get_doc_answer_results_rrf_from_jsonl_fire('../doc_gen/fire/doc5/',f'../results/fire/doc_ans_rrf/{dataset_name}/', 32,10,10)"
   ]
  },
  {
   "cell_type": "code",
   "execution_count": 5,
   "id": "7e4f0d6c-8d45-491b-a84b-2b6111badc39",
   "metadata": {},
   "outputs": [
    {
     "name": "stdout",
     "output_type": "stream",
     "text": [
      "scifact\n"
     ]
    },
    {
     "data": {
      "application/vnd.jupyter.widget-view+json": {
       "model_id": "5c26b44f536641fcb4a9741f40c7e94f",
       "version_major": 2,
       "version_minor": 0
      },
      "text/plain": [
       "  0%|          | 0/5183 [00:00<?, ?it/s]"
      ]
     },
     "metadata": {},
     "output_type": "display_data"
    },
    {
     "name": "stdout",
     "output_type": "stream",
     "text": [
      "Calculando metricas de results_contriever_ft.json\n",
      "  Métricas guardadas en: ../metrics/doc_ans_rrf/scifact/results_contriever_ft.json\n",
      "Calculando metricas de results_bge_large.json\n",
      "  Métricas guardadas en: ../metrics/doc_ans_rrf/scifact/results_bge_large.json\n",
      "Calculando metricas de results_dpr.json\n",
      "  Métricas guardadas en: ../metrics/doc_ans_rrf/scifact/results_dpr.json\n",
      "Calculando metricas de results_contriever.json\n",
      "  Métricas guardadas en: ../metrics/doc_ans_rrf/scifact/results_contriever.json\n",
      "Calculando metricas de results_gte_large.json\n",
      "  Métricas guardadas en: ../metrics/doc_ans_rrf/scifact/results_gte_large.json\n",
      "Calculando metricas de results_sparse_bm25.json\n",
      "  Métricas guardadas en: ../metrics/doc_ans_rrf/scifact/results_sparse_bm25.json\n"
     ]
    }
   ],
   "source": [
    "from kdir_src.utils.evaluation import evaluate_all_results\n",
    "evaluate_all_results(f'../results/fire/doc_ans_rrf/{dataset_name}')"
   ]
  },
  {
   "cell_type": "markdown",
   "id": "177f18fe-7fd7-483c-8f99-1b5617727073",
   "metadata": {
    "jp-MarkdownHeadingCollapsed": true
   },
   "source": [
    "## nfCorpus"
   ]
  },
  {
   "cell_type": "code",
   "execution_count": 6,
   "id": "648d70cb-9cb6-4a05-b85e-ada7ba3792d9",
   "metadata": {},
   "outputs": [],
   "source": [
    "from kdir_src.fire.Fire import Fire\n",
    "from kdir_src.fire.promptor_fire import Promptor_fire\n",
    "from kdir_src.generators.mistral_ai import MistralGenerator\n",
    "from kdir_src.models.all_models import load_models"
   ]
  },
  {
   "cell_type": "code",
   "execution_count": null,
   "id": "418d4381-077b-42e5-aabe-6a05f38efe9c",
   "metadata": {},
   "outputs": [],
   "source": [
    "dataset_name='nfcorpus'\n",
    "promptor = Promptor_fire(dataset_name)\n",
    "#encoder_models = load_models()\n",
    "KEY = ''\n",
    "generator = MistralGenerator('mistral-small-2503', KEY, 1, 512, 0.0)\n",
    "fire_rag = Fire(dataset_name, promptor, generator, encoder_models)"
   ]
  },
  {
   "cell_type": "markdown",
   "id": "afee2d25",
   "metadata": {},
   "source": [
    "## Obtain results from Gen doc and Gen answer"
   ]
  },
  {
   "cell_type": "code",
   "execution_count": 8,
   "id": "4a9da6e7-2565-4a2d-afe6-0d4483880fcf",
   "metadata": {},
   "outputs": [
    {
     "name": "stderr",
     "output_type": "stream",
     "text": [
      "Procesando contriever...: 100%|████████████████████████████████████████████████████████| 3/3 [00:02<00:00,  1.02batch/s]\n",
      "Procesando contriever...: 100%|████████████████████████████████████████████████████████| 3/3 [00:02<00:00,  1.36batch/s]\n",
      "obteniendo resultados contriever: 323it [00:01, 222.49it/s]\n",
      "obteniendo resultados contriever: 323it [00:01, 240.23it/s]\n",
      "Procesando contriever...: 100%|████████████████████████████████████████████████████████| 3/3 [00:03<00:00,  1.01s/batch]\n",
      "Procesando contriever...: 100%|████████████████████████████████████████████████████████| 3/3 [00:02<00:00,  1.18batch/s]\n",
      "obteniendo resultados contriever_ft: 323it [00:01, 238.24it/s]\n",
      "obteniendo resultados contriever_ft: 323it [00:01, 238.50it/s]\n",
      "Procesando dpr...: 100%|███████████████████████████████████████████████████████████████| 3/3 [00:04<00:00,  1.46s/batch]\n",
      "Procesando dpr...: 100%|███████████████████████████████████████████████████████████████| 3/3 [00:02<00:00,  1.03batch/s]\n",
      "obteniendo resultados dpr: 323it [00:01, 240.37it/s]\n",
      "obteniendo resultados dpr: 323it [00:01, 238.44it/s]\n"
     ]
    },
    {
     "data": {
      "application/vnd.jupyter.widget-view+json": {
       "model_id": "5db4912110a54e87ac8aea70a18ad2ae",
       "version_major": 2,
       "version_minor": 0
      },
      "text/plain": [
       "Batches:   0%|          | 0/3 [00:00<?, ?it/s]"
      ]
     },
     "metadata": {},
     "output_type": "display_data"
    },
    {
     "data": {
      "application/vnd.jupyter.widget-view+json": {
       "model_id": "34e34f95021844199dbf51db38607e1f",
       "version_major": 2,
       "version_minor": 0
      },
      "text/plain": [
       "Batches:   0%|          | 0/3 [00:00<?, ?it/s]"
      ]
     },
     "metadata": {},
     "output_type": "display_data"
    },
    {
     "name": "stderr",
     "output_type": "stream",
     "text": [
      "obteniendo resultados bge_large: 323it [00:01, 210.07it/s]\n",
      "obteniendo resultados bge_large: 323it [00:01, 211.33it/s]\n"
     ]
    },
    {
     "data": {
      "application/vnd.jupyter.widget-view+json": {
       "model_id": "2fd46a2519494c449a8f8c33298c9f22",
       "version_major": 2,
       "version_minor": 0
      },
      "text/plain": [
       "Batches:   0%|          | 0/3 [00:00<?, ?it/s]"
      ]
     },
     "metadata": {},
     "output_type": "display_data"
    },
    {
     "data": {
      "application/vnd.jupyter.widget-view+json": {
       "model_id": "ba2812dea82f4eebad14d649f7bf87e4",
       "version_major": 2,
       "version_minor": 0
      },
      "text/plain": [
       "Batches:   0%|          | 0/3 [00:00<?, ?it/s]"
      ]
     },
     "metadata": {},
     "output_type": "display_data"
    },
    {
     "name": "stderr",
     "output_type": "stream",
     "text": [
      "obteniendo resultados gte_large: 323it [00:01, 208.76it/s]\n",
      "obteniendo resultados gte_large: 323it [00:01, 209.92it/s]\n"
     ]
    },
    {
     "name": "stdout",
     "output_type": "stream",
     "text": [
      "Procesando BM25 embeddings\n",
      "Procesando BM25 embeddings\n"
     ]
    },
    {
     "name": "stderr",
     "output_type": "stream",
     "text": [
      "obteniendo resultados sparse_bm25: 323it [00:00, 356.09it/s]\n",
      "obteniendo resultados sparse_bm25: 323it [00:00, 389.92it/s]\n"
     ]
    }
   ],
   "source": [
    "fire_rag.get_doc_answer_results_rrf_from_jsonl_fire('../doc_gen/fire/doc5/',f'../results/fire/doc_ans_rrf/{dataset_name}/', 32,10,10)"
   ]
  },
  {
   "cell_type": "code",
   "execution_count": 9,
   "id": "a5f81c62-1158-43e2-b9be-8ed2a8e00825",
   "metadata": {},
   "outputs": [
    {
     "name": "stdout",
     "output_type": "stream",
     "text": [
      "nfcorpus\n"
     ]
    },
    {
     "data": {
      "application/vnd.jupyter.widget-view+json": {
       "model_id": "159e6a566c20476991dcc9d8b1ec392d",
       "version_major": 2,
       "version_minor": 0
      },
      "text/plain": [
       "  0%|          | 0/3633 [00:00<?, ?it/s]"
      ]
     },
     "metadata": {},
     "output_type": "display_data"
    },
    {
     "name": "stdout",
     "output_type": "stream",
     "text": [
      "Calculando metricas de results_contriever_ft.json\n",
      "  Métricas guardadas en: ../metrics/doc_ans_rrf/nfcorpus/results_contriever_ft.json\n",
      "Calculando metricas de results_bge_large.json\n",
      "  Métricas guardadas en: ../metrics/doc_ans_rrf/nfcorpus/results_bge_large.json\n",
      "Calculando metricas de results_dpr.json\n",
      "  Métricas guardadas en: ../metrics/doc_ans_rrf/nfcorpus/results_dpr.json\n",
      "Calculando metricas de results_contriever.json\n",
      "  Métricas guardadas en: ../metrics/doc_ans_rrf/nfcorpus/results_contriever.json\n",
      "Calculando metricas de results_gte_large.json\n",
      "  Métricas guardadas en: ../metrics/doc_ans_rrf/nfcorpus/results_gte_large.json\n",
      "Calculando metricas de results_sparse_bm25.json\n",
      "  Métricas guardadas en: ../metrics/doc_ans_rrf/nfcorpus/results_sparse_bm25.json\n"
     ]
    }
   ],
   "source": [
    "from kdir_src.utils.evaluation import evaluate_all_results\n",
    "evaluate_all_results(f'../results/fire/doc_ans_rrf/{dataset_name}')"
   ]
  },
  {
   "cell_type": "markdown",
   "id": "e2300f4d-619b-425e-a231-6e2e69f806f2",
   "metadata": {},
   "source": [
    "## scidocs "
   ]
  },
  {
   "cell_type": "code",
   "execution_count": null,
   "id": "3507c951-417b-4020-8a3d-3428cf3fcc8e",
   "metadata": {},
   "outputs": [],
   "source": [
    "dataset_name='scidocs'\n",
    "promptor = Promptor_fire(dataset_name)\n",
    "#encoder_models = load_models()\n",
    "KEY = ''\n",
    "generator = MistralGenerator('mistral-small-2503', KEY, 1, 512, 0.0)\n",
    "fire_rag = Fire(dataset_name, promptor, generator, encoder_models)"
   ]
  },
  {
   "cell_type": "markdown",
   "id": "d9a09e5e",
   "metadata": {},
   "source": [
    "## Obtain results from Gen doc and Gen answer"
   ]
  },
  {
   "cell_type": "code",
   "execution_count": 11,
   "id": "dccbd713-d691-47ec-b2c9-df7fb450dfa6",
   "metadata": {},
   "outputs": [
    {
     "name": "stderr",
     "output_type": "stream",
     "text": [
      "Procesando contriever...: 100%|████████████████████████████████████████████████████████| 8/8 [00:08<00:00,  1.04s/batch]\n",
      "Procesando contriever...: 100%|████████████████████████████████████████████████████████| 8/8 [00:04<00:00,  1.64batch/s]\n",
      "obteniendo resultados contriever: 1000it [00:08, 114.07it/s]\n",
      "obteniendo resultados contriever: 1000it [00:08, 119.09it/s]\n",
      "Procesando contriever...: 100%|████████████████████████████████████████████████████████| 8/8 [00:09<00:00,  1.16s/batch]\n",
      "Procesando contriever...: 100%|████████████████████████████████████████████████████████| 8/8 [00:05<00:00,  1.34batch/s]\n",
      "obteniendo resultados contriever_ft: 1000it [00:08, 113.42it/s]\n",
      "obteniendo resultados contriever_ft: 1000it [00:08, 121.49it/s]\n",
      "Procesando dpr...: 100%|███████████████████████████████████████████████████████████████| 8/8 [00:12<00:00,  1.57s/batch]\n",
      "Procesando dpr...: 100%|███████████████████████████████████████████████████████████████| 8/8 [00:08<00:00,  1.05s/batch]\n",
      "obteniendo resultados dpr: 1000it [00:08, 111.21it/s]\n",
      "obteniendo resultados dpr: 1000it [00:08, 122.30it/s]\n"
     ]
    },
    {
     "data": {
      "application/vnd.jupyter.widget-view+json": {
       "model_id": "5ab981ced2a0490d8de158d90e9489a2",
       "version_major": 2,
       "version_minor": 0
      },
      "text/plain": [
       "Batches:   0%|          | 0/8 [00:00<?, ?it/s]"
      ]
     },
     "metadata": {},
     "output_type": "display_data"
    },
    {
     "data": {
      "application/vnd.jupyter.widget-view+json": {
       "model_id": "7adabfd284574f5dafe41a6056f2b956",
       "version_major": 2,
       "version_minor": 0
      },
      "text/plain": [
       "Batches:   0%|          | 0/8 [00:00<?, ?it/s]"
      ]
     },
     "metadata": {},
     "output_type": "display_data"
    },
    {
     "name": "stderr",
     "output_type": "stream",
     "text": [
      "obteniendo resultados bge_large: 1000it [00:10, 92.69it/s]\n",
      "obteniendo resultados bge_large: 1000it [00:10, 91.58it/s]\n"
     ]
    },
    {
     "data": {
      "application/vnd.jupyter.widget-view+json": {
       "model_id": "df3bef7b58884a58b9c32fb61f28ca2a",
       "version_major": 2,
       "version_minor": 0
      },
      "text/plain": [
       "Batches:   0%|          | 0/8 [00:00<?, ?it/s]"
      ]
     },
     "metadata": {},
     "output_type": "display_data"
    },
    {
     "data": {
      "application/vnd.jupyter.widget-view+json": {
       "model_id": "d4ad5371e73643f4bf9e9f37048a9079",
       "version_major": 2,
       "version_minor": 0
      },
      "text/plain": [
       "Batches:   0%|          | 0/8 [00:00<?, ?it/s]"
      ]
     },
     "metadata": {},
     "output_type": "display_data"
    },
    {
     "name": "stderr",
     "output_type": "stream",
     "text": [
      "obteniendo resultados gte_large: 1000it [00:10, 94.17it/s]\n",
      "obteniendo resultados gte_large: 1000it [00:10, 92.81it/s]\n"
     ]
    },
    {
     "name": "stdout",
     "output_type": "stream",
     "text": [
      "Procesando BM25 embeddings\n",
      "Procesando BM25 embeddings\n"
     ]
    },
    {
     "name": "stderr",
     "output_type": "stream",
     "text": [
      "obteniendo resultados sparse_bm25: 1000it [00:03, 282.33it/s]\n",
      "obteniendo resultados sparse_bm25: 1000it [00:03, 305.14it/s]\n"
     ]
    }
   ],
   "source": [
    "fire_rag.get_doc_answer_results_rrf_from_jsonl_fire('../doc_gen/fire/doc5/',f'../results/fire/doc_ans_rrf/{dataset_name}/', 32,10,10)"
   ]
  },
  {
   "cell_type": "code",
   "execution_count": 12,
   "id": "eef5e998-75d3-4b0f-9e46-446f5b791ead",
   "metadata": {},
   "outputs": [
    {
     "name": "stdout",
     "output_type": "stream",
     "text": [
      "scidocs\n"
     ]
    },
    {
     "data": {
      "application/vnd.jupyter.widget-view+json": {
       "model_id": "d3dd07b22e664b54be98cd2fcec477c0",
       "version_major": 2,
       "version_minor": 0
      },
      "text/plain": [
       "  0%|          | 0/25657 [00:00<?, ?it/s]"
      ]
     },
     "metadata": {},
     "output_type": "display_data"
    },
    {
     "name": "stdout",
     "output_type": "stream",
     "text": [
      "Calculando metricas de results_contriever_ft.json\n",
      "  Métricas guardadas en: ../metrics/doc_ans_rrf/scidocs/results_contriever_ft.json\n",
      "Calculando metricas de results_bge_large.json\n",
      "  Métricas guardadas en: ../metrics/doc_ans_rrf/scidocs/results_bge_large.json\n",
      "Calculando metricas de results_dpr.json\n",
      "  Métricas guardadas en: ../metrics/doc_ans_rrf/scidocs/results_dpr.json\n",
      "Calculando metricas de results_contriever.json\n",
      "  Métricas guardadas en: ../metrics/doc_ans_rrf/scidocs/results_contriever.json\n",
      "Calculando metricas de results_gte_large.json\n",
      "  Métricas guardadas en: ../metrics/doc_ans_rrf/scidocs/results_gte_large.json\n",
      "Calculando metricas de results_sparse_bm25.json\n",
      "  Métricas guardadas en: ../metrics/doc_ans_rrf/scidocs/results_sparse_bm25.json\n"
     ]
    }
   ],
   "source": [
    "from kdir_src.utils.evaluation import evaluate_all_results\n",
    "evaluate_all_results(f'../results/fire/doc_ans_rrf/{dataset_name}')"
   ]
  },
  {
   "cell_type": "markdown",
   "id": "671929a1-c010-4e40-a396-862212dd4f48",
   "metadata": {},
   "source": [
    "## Fiqa"
   ]
  },
  {
   "cell_type": "code",
   "execution_count": null,
   "id": "4933053d-e64a-4ae2-88b9-d8cefdab4e5a",
   "metadata": {},
   "outputs": [],
   "source": [
    "dataset_name='fiqa'\n",
    "promptor = Promptor_fire(dataset_name)\n",
    "#encoder_models = load_models()\n",
    "KEY = ''\n",
    "generator = MistralGenerator('mistral-small-2503', KEY, 1, 512, 0.0)\n",
    "fire_rag = Fire(dataset_name, promptor, generator, encoder_models)"
   ]
  },
  {
   "cell_type": "markdown",
   "id": "56bc02d1",
   "metadata": {},
   "source": [
    "## Obtain results from Gen doc and Gen answer"
   ]
  },
  {
   "cell_type": "code",
   "execution_count": 14,
   "id": "f39e44ae-f221-4fbd-9a5c-1899bfe3972f",
   "metadata": {},
   "outputs": [
    {
     "name": "stderr",
     "output_type": "stream",
     "text": [
      "Procesando contriever...: 100%|████████████████████████████████████████████████████████| 6/6 [00:05<00:00,  1.05batch/s]\n",
      "Procesando contriever...: 100%|████████████████████████████████████████████████████████| 6/6 [00:03<00:00,  1.58batch/s]\n",
      "obteniendo resultados contriever: 648it [00:04, 147.34it/s]\n",
      "obteniendo resultados contriever: 648it [00:04, 156.63it/s]\n",
      "Procesando contriever...: 100%|████████████████████████████████████████████████████████| 6/6 [00:06<00:00,  1.01s/batch]\n",
      "Procesando contriever...: 100%|████████████████████████████████████████████████████████| 6/6 [00:04<00:00,  1.44batch/s]\n",
      "obteniendo resultados contriever_ft: 648it [00:03, 188.51it/s]\n",
      "obteniendo resultados contriever_ft: 648it [00:03, 176.82it/s]\n",
      "Procesando dpr...: 100%|███████████████████████████████████████████████████████████████| 6/6 [00:08<00:00,  1.45s/batch]\n",
      "Procesando dpr...: 100%|███████████████████████████████████████████████████████████████| 6/6 [00:05<00:00,  1.17batch/s]\n",
      "obteniendo resultados dpr: 648it [00:03, 167.54it/s]\n",
      "obteniendo resultados dpr: 648it [00:03, 179.29it/s]\n"
     ]
    },
    {
     "data": {
      "application/vnd.jupyter.widget-view+json": {
       "model_id": "c538b01b316d44539cdc08526c3489e9",
       "version_major": 2,
       "version_minor": 0
      },
      "text/plain": [
       "Batches:   0%|          | 0/6 [00:00<?, ?it/s]"
      ]
     },
     "metadata": {},
     "output_type": "display_data"
    },
    {
     "data": {
      "application/vnd.jupyter.widget-view+json": {
       "model_id": "0ec4e5b5b0844c4a91e203f355c374b7",
       "version_major": 2,
       "version_minor": 0
      },
      "text/plain": [
       "Batches:   0%|          | 0/6 [00:00<?, ?it/s]"
      ]
     },
     "metadata": {},
     "output_type": "display_data"
    },
    {
     "name": "stderr",
     "output_type": "stream",
     "text": [
      "obteniendo resultados bge_large: 648it [00:04, 148.42it/s]\n",
      "obteniendo resultados bge_large: 648it [00:04, 155.76it/s]\n"
     ]
    },
    {
     "data": {
      "application/vnd.jupyter.widget-view+json": {
       "model_id": "9939e5ee73ed4b1eb55d7b1f3a8f9d55",
       "version_major": 2,
       "version_minor": 0
      },
      "text/plain": [
       "Batches:   0%|          | 0/6 [00:00<?, ?it/s]"
      ]
     },
     "metadata": {},
     "output_type": "display_data"
    },
    {
     "data": {
      "application/vnd.jupyter.widget-view+json": {
       "model_id": "151b8940683d4ea988a46eb40f4c6e01",
       "version_major": 2,
       "version_minor": 0
      },
      "text/plain": [
       "Batches:   0%|          | 0/6 [00:00<?, ?it/s]"
      ]
     },
     "metadata": {},
     "output_type": "display_data"
    },
    {
     "name": "stderr",
     "output_type": "stream",
     "text": [
      "obteniendo resultados gte_large: 648it [00:04, 145.14it/s]\n",
      "obteniendo resultados gte_large: 648it [00:04, 150.93it/s]\n"
     ]
    },
    {
     "name": "stdout",
     "output_type": "stream",
     "text": [
      "Procesando BM25 embeddings\n",
      "Procesando BM25 embeddings\n"
     ]
    },
    {
     "name": "stderr",
     "output_type": "stream",
     "text": [
      "obteniendo resultados sparse_bm25: 648it [00:02, 269.07it/s]\n",
      "obteniendo resultados sparse_bm25: 648it [00:01, 376.84it/s]\n"
     ]
    }
   ],
   "source": [
    "fire_rag.get_doc_answer_results_rrf_from_jsonl_fire('../doc_gen/fire/doc5/',f'../results/fire/doc_ans_rrf/{dataset_name}/', 32,10,10)"
   ]
  },
  {
   "cell_type": "code",
   "execution_count": 15,
   "id": "bbce1998-2f9e-4f03-b650-d774b6b811fc",
   "metadata": {},
   "outputs": [
    {
     "name": "stdout",
     "output_type": "stream",
     "text": [
      "fiqa\n"
     ]
    },
    {
     "data": {
      "application/vnd.jupyter.widget-view+json": {
       "model_id": "3506b3cf2ca349b1b922060ab6e92aa9",
       "version_major": 2,
       "version_minor": 0
      },
      "text/plain": [
       "  0%|          | 0/57638 [00:00<?, ?it/s]"
      ]
     },
     "metadata": {},
     "output_type": "display_data"
    },
    {
     "name": "stdout",
     "output_type": "stream",
     "text": [
      "Calculando metricas de results_contriever_ft.json\n",
      "  Métricas guardadas en: ../metrics/doc_ans_rrf/fiqa/results_contriever_ft.json\n",
      "Calculando metricas de results_bge_large.json\n",
      "  Métricas guardadas en: ../metrics/doc_ans_rrf/fiqa/results_bge_large.json\n",
      "Calculando metricas de results_dpr.json\n",
      "  Métricas guardadas en: ../metrics/doc_ans_rrf/fiqa/results_dpr.json\n",
      "Calculando metricas de results_contriever.json\n",
      "  Métricas guardadas en: ../metrics/doc_ans_rrf/fiqa/results_contriever.json\n",
      "Calculando metricas de results_gte_large.json\n",
      "  Métricas guardadas en: ../metrics/doc_ans_rrf/fiqa/results_gte_large.json\n",
      "Calculando metricas de results_sparse_bm25.json\n",
      "  Métricas guardadas en: ../metrics/doc_ans_rrf/fiqa/results_sparse_bm25.json\n"
     ]
    }
   ],
   "source": [
    "from kdir_src.utils.evaluation import evaluate_all_results\n",
    "evaluate_all_results(f'../results/fire/doc_ans_rrf/{dataset_name}')"
   ]
  }
 ],
 "metadata": {
  "kernelspec": {
   "display_name": "Python 3 (ipykernel)",
   "language": "python",
   "name": "python3"
  },
  "language_info": {
   "codemirror_mode": {
    "name": "ipython",
    "version": 3
   },
   "file_extension": ".py",
   "mimetype": "text/x-python",
   "name": "python",
   "nbconvert_exporter": "python",
   "pygments_lexer": "ipython3",
   "version": "3.10.14"
  }
 },
 "nbformat": 4,
 "nbformat_minor": 5
}
