{
 "cells": [
  {
   "cell_type": "code",
   "execution_count": 1,
   "id": "6e973ffc-7ac7-4879-a034-9810452f55a8",
   "metadata": {},
   "outputs": [],
   "source": [
    "from kdir_src.sota.query2doc import Query2Doc\n",
    "from kdir_src.generators.mistral_ai import MistralGenerator\n",
    "from kdir_src.models.all_models import load_models, get_query_embeddings"
   ]
  },
  {
   "cell_type": "code",
   "execution_count": 2,
   "id": "0939ec96-6c6b-437f-97f2-1fb4e930de1a",
   "metadata": {},
   "outputs": [],
   "source": [
    "KEY = 'jTrxtC1mqMP1Lj9aMg8fvexSh2xDgZC4'\n",
    "dataset_name = 'nfcorpus'\n",
    "generator = MistralGenerator('mistral-small-2503', KEY, 1)\n",
    "#encoder_models = load_models()\n",
    "query2doc = Query2Doc(dataset_name, generator, None)"
   ]
  },
  {
   "cell_type": "code",
   "execution_count": null,
   "id": "369a82db-8b45-4236-986f-048e7a9cfa72",
   "metadata": {},
   "outputs": [
    {
     "data": {
      "application/vnd.jupyter.widget-view+json": {
       "model_id": "05376449c1c34f2f8e4920dbf47c23cb",
       "version_major": 2,
       "version_minor": 0
      },
      "text/plain": [
       "  0%|          | 0/3633 [00:00<?, ?it/s]"
      ]
     },
     "metadata": {},
     "output_type": "display_data"
    },
    {
     "data": {
      "application/vnd.jupyter.widget-view+json": {
       "model_id": "6bbde42093444b31a79e78130791183d",
       "version_major": 2,
       "version_minor": 0
      },
      "text/plain": [
       "  0%|          | 0/3633 [00:00<?, ?it/s]"
      ]
     },
     "metadata": {},
     "output_type": "display_data"
    },
    {
     "name": "stderr",
     "output_type": "stream",
     "text": [
      "Procesando queries: 100%|████████████████████████████████████████████████████████| 323/323 [00:00<00:00, 3072018.58it/s]\n"
     ]
    },
    {
     "name": "stdout",
     "output_type": "stream",
     "text": [
      "Found 0 previously generated documents in '../doc_gen/query2doc/generated_documents_nfcorpus.jsonl'.\n"
     ]
    },
    {
     "name": "stderr",
     "output_type": "stream",
     "text": [
      "Processing queries (generate or skip): 14it [00:50,  3.10s/it]"
     ]
    }
   ],
   "source": [
    "query2doc.get_and_save_passages('../doc_gen/query2doc/')"
   ]
  },
  {
   "cell_type": "code",
   "execution_count": null,
   "id": "761e2990-e5b7-4bbc-8977-ee37208b5e48",
   "metadata": {},
   "outputs": [],
   "source": []
  }
 ],
 "metadata": {
  "kernelspec": {
   "display_name": "Python 3 (ipykernel)",
   "language": "python",
   "name": "python3"
  },
  "language_info": {
   "codemirror_mode": {
    "name": "ipython",
    "version": 3
   },
   "file_extension": ".py",
   "mimetype": "text/x-python",
   "name": "python",
   "nbconvert_exporter": "python",
   "pygments_lexer": "ipython3",
   "version": "3.10.14"
  }
 },
 "nbformat": 4,
 "nbformat_minor": 5
}
