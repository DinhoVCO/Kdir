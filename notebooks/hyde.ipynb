{
 "cells": [
  {
   "cell_type": "markdown",
   "id": "fb14c18a-e63c-497d-9ca5-d206053f118c",
   "metadata": {},
   "source": [
    "## Hyde Arguana"
   ]
  },
  {
   "cell_type": "code",
   "execution_count": 1,
   "id": "d5c1906d-0afc-4574-926f-e11054509108",
   "metadata": {},
   "outputs": [],
   "source": [
    "from kdir_src.sota.hyde import HyDE, Promptor\n",
    "from kdir_src.generators.mistral_ai import MistralGenerator\n",
    "from kdir_src.models.all_models import load_models, get_query_embeddings"
   ]
  },
  {
   "cell_type": "code",
   "execution_count": 2,
   "id": "306767b5-dd9c-42a7-ba8a-216ce2df36f4",
   "metadata": {
    "scrolled": true
   },
   "outputs": [
    {
     "name": "stdout",
     "output_type": "stream",
     "text": [
      "Loading contriever...\n",
      "Loading contriever FT...\n",
      "Loading question dpr...\n"
     ]
    },
    {
     "name": "stderr",
     "output_type": "stream",
     "text": [
      "Some weights of the model checkpoint at facebook/dpr-question_encoder-single-nq-base were not used when initializing DPRQuestionEncoder: ['question_encoder.bert_model.pooler.dense.bias', 'question_encoder.bert_model.pooler.dense.weight']\n",
      "- This IS expected if you are initializing DPRQuestionEncoder from the checkpoint of a model trained on another task or with another architecture (e.g. initializing a BertForSequenceClassification model from a BertForPreTraining model).\n",
      "- This IS NOT expected if you are initializing DPRQuestionEncoder from the checkpoint of a model that you expect to be exactly identical (initializing a BertForSequenceClassification model from a BertForSequenceClassification model).\n",
      "The tokenizer class you load from this checkpoint is not the same type as the class this function is called from. It may result in unexpected tokenization. \n",
      "The tokenizer class you load from this checkpoint is 'DPRQuestionEncoderTokenizer'. \n",
      "The class this function is called from is 'DPRContextEncoderTokenizer'.\n"
     ]
    },
    {
     "name": "stdout",
     "output_type": "stream",
     "text": [
      "Loading context dpr...\n"
     ]
    },
    {
     "name": "stderr",
     "output_type": "stream",
     "text": [
      "Some weights of the model checkpoint at facebook/dpr-ctx_encoder-single-nq-base were not used when initializing DPRContextEncoder: ['ctx_encoder.bert_model.pooler.dense.bias', 'ctx_encoder.bert_model.pooler.dense.weight']\n",
      "- This IS expected if you are initializing DPRContextEncoder from the checkpoint of a model trained on another task or with another architecture (e.g. initializing a BertForSequenceClassification model from a BertForPreTraining model).\n",
      "- This IS NOT expected if you are initializing DPRContextEncoder from the checkpoint of a model that you expect to be exactly identical (initializing a BertForSequenceClassification model from a BertForSequenceClassification model).\n"
     ]
    },
    {
     "name": "stdout",
     "output_type": "stream",
     "text": [
      "Loading bge large...\n",
      "Loading gte large...\n",
      "Loading bm25...\n"
     ]
    }
   ],
   "source": [
    "KEY = 'jTrxtC1mqMP1Lj9aMg8fvexSh2xDgZC4'\n",
    "dataset_name = 'arguana'\n",
    "promptor = Promptor(dataset_name)\n",
    "generator = MistralGenerator('mistral-small-2503', KEY, 4)\n",
    "encoder_models = load_models()\n",
    "hyde = HyDE(dataset_name, promptor, generator, encoder_models)"
   ]
  },
  {
   "cell_type": "code",
   "execution_count": 6,
   "id": "525dafbb-de62-44bd-8451-30ace5b5cc60",
   "metadata": {},
   "outputs": [
    {
     "data": {
      "application/vnd.jupyter.widget-view+json": {
       "model_id": "a83e15c627384a28afa9d4ceabe1ea7c",
       "version_major": 2,
       "version_minor": 0
      },
      "text/plain": [
       "  0%|          | 0/8674 [00:00<?, ?it/s]"
      ]
     },
     "metadata": {},
     "output_type": "display_data"
    },
    {
     "name": "stderr",
     "output_type": "stream",
     "text": [
      "Procesando queries: 100%|██████████████████████████████████████████████████████| 1406/1406 [00:00<00:00, 4083927.58it/s]\n"
     ]
    },
    {
     "name": "stdout",
     "output_type": "stream",
     "text": [
      "Found 966 previously generated documents in '../doc_gen/hyde/generated_documents_arguana.jsonl'.\n"
     ]
    },
    {
     "name": "stderr",
     "output_type": "stream",
     "text": [
      "Processing queries (generate or skip): 1406it [36:46,  1.57s/it]"
     ]
    },
    {
     "name": "stdout",
     "output_type": "stream",
     "text": [
      "Document generation complete. Results saved in: ../doc_gen/hyde/generated_documents_arguana.jsonl\n"
     ]
    },
    {
     "name": "stderr",
     "output_type": "stream",
     "text": [
      "\n"
     ]
    }
   ],
   "source": [
    "hyde.save_generated_docs(path=f'../doc_gen/hyde/')"
   ]
  },
  {
   "cell_type": "code",
   "execution_count": null,
   "id": "5030481d-bc82-4301-a9d5-60f477d627ee",
   "metadata": {},
   "outputs": [],
   "source": [
    "#hyde.get_results_hyde(path=f'../results/hyde/{dataset_name}/',batch_size=32, top_k=10)"
   ]
  },
  {
   "cell_type": "code",
   "execution_count": 4,
   "id": "55abf62a-0402-40b0-89cd-2cba9db07073",
   "metadata": {},
   "outputs": [
    {
     "name": "stderr",
     "output_type": "stream",
     "text": [
      "obteniendo embedding de todos los doc generados: 100%|██████████████████████████████| 1406/1406 [12:24<00:00,  1.89it/s]\n",
      "obteniendo resultados contriever: 1406it [00:07, 185.61it/s]\n",
      "obteniendo resultados contriever_ft: 1406it [00:07, 194.49it/s]\n",
      "obteniendo resultados dpr: 1406it [00:06, 213.69it/s]\n",
      "obteniendo resultados bge_large: 1406it [00:08, 171.13it/s]\n",
      "obteniendo resultados gte_large: 1406it [00:08, 167.61it/s]\n",
      "obteniendo resultados sparse_bm25: 1406it [00:04, 291.24it/s]\n"
     ]
    }
   ],
   "source": [
    "hyde.get_results_from_jsonl_hyde(path_doc_gen='../doc_gen/hyde/generated_documents_arguana.jsonl', path=f'../results/hyde/{dataset_name}/',batch_size=32, top_k=10)"
   ]
  },
  {
   "cell_type": "code",
   "execution_count": 5,
   "id": "2eb8d1a5-bd1a-42af-bae6-14f9e10d46b3",
   "metadata": {},
   "outputs": [],
   "source": [
    "from kdir_src.utils.evaluation import evaluate_all_results"
   ]
  },
  {
   "cell_type": "code",
   "execution_count": 6,
   "id": "26f39c95-3a5d-48af-8cfc-22901bd406d3",
   "metadata": {},
   "outputs": [
    {
     "name": "stdout",
     "output_type": "stream",
     "text": [
      "arguana\n"
     ]
    },
    {
     "data": {
      "application/vnd.jupyter.widget-view+json": {
       "model_id": "d5dbb039a97a4d4eb23e588977a2e09d",
       "version_major": 2,
       "version_minor": 0
      },
      "text/plain": [
       "  0%|          | 0/8674 [00:00<?, ?it/s]"
      ]
     },
     "metadata": {},
     "output_type": "display_data"
    },
    {
     "name": "stdout",
     "output_type": "stream",
     "text": [
      "Calculando metricas de results_contriever_ft.json\n",
      "  Métricas guardadas en: ../metrics/hyde/arguana/results_contriever_ft.json\n",
      "Calculando metricas de results_bge_large.json\n",
      "  Métricas guardadas en: ../metrics/hyde/arguana/results_bge_large.json\n",
      "Calculando metricas de results_dpr.json\n",
      "  Métricas guardadas en: ../metrics/hyde/arguana/results_dpr.json\n",
      "Calculando metricas de results_contriever.json\n",
      "  Métricas guardadas en: ../metrics/hyde/arguana/results_contriever.json\n",
      "Calculando metricas de results_gte_large.json\n",
      "  Métricas guardadas en: ../metrics/hyde/arguana/results_gte_large.json\n",
      "Calculando metricas de results_sparse_bm25.json\n",
      "  Métricas guardadas en: ../metrics/hyde/arguana/results_sparse_bm25.json\n"
     ]
    }
   ],
   "source": [
    "evaluate_all_results('../results/hyde/arguana')"
   ]
  },
  {
   "cell_type": "markdown",
   "id": "47441229-7539-429e-a3ed-9c73cad158d0",
   "metadata": {
    "jp-MarkdownHeadingCollapsed": true
   },
   "source": [
    "## Hyde NFCorpus"
   ]
  },
  {
   "cell_type": "code",
   "execution_count": 1,
   "id": "d39cef2a-9fa4-4bee-8154-a9e60b855187",
   "metadata": {},
   "outputs": [],
   "source": [
    "from kdir_src.sota.hyde import HyDE, Promptor\n",
    "from kdir_src.generators.mistral_ai import MistralGenerator\n",
    "from kdir_src.models.all_models import load_models, get_query_embeddings"
   ]
  },
  {
   "cell_type": "code",
   "execution_count": 2,
   "id": "f0951159-b213-4393-901f-02c498019b15",
   "metadata": {
    "scrolled": true
   },
   "outputs": [
    {
     "name": "stdout",
     "output_type": "stream",
     "text": [
      "Loading contriever...\n",
      "Loading contriever FT...\n",
      "Loading question dpr...\n"
     ]
    },
    {
     "name": "stderr",
     "output_type": "stream",
     "text": [
      "Some weights of the model checkpoint at facebook/dpr-question_encoder-single-nq-base were not used when initializing DPRQuestionEncoder: ['question_encoder.bert_model.pooler.dense.bias', 'question_encoder.bert_model.pooler.dense.weight']\n",
      "- This IS expected if you are initializing DPRQuestionEncoder from the checkpoint of a model trained on another task or with another architecture (e.g. initializing a BertForSequenceClassification model from a BertForPreTraining model).\n",
      "- This IS NOT expected if you are initializing DPRQuestionEncoder from the checkpoint of a model that you expect to be exactly identical (initializing a BertForSequenceClassification model from a BertForSequenceClassification model).\n",
      "The tokenizer class you load from this checkpoint is not the same type as the class this function is called from. It may result in unexpected tokenization. \n",
      "The tokenizer class you load from this checkpoint is 'DPRQuestionEncoderTokenizer'. \n",
      "The class this function is called from is 'DPRContextEncoderTokenizer'.\n"
     ]
    },
    {
     "name": "stdout",
     "output_type": "stream",
     "text": [
      "Loading context dpr...\n"
     ]
    },
    {
     "name": "stderr",
     "output_type": "stream",
     "text": [
      "Some weights of the model checkpoint at facebook/dpr-ctx_encoder-single-nq-base were not used when initializing DPRContextEncoder: ['ctx_encoder.bert_model.pooler.dense.bias', 'ctx_encoder.bert_model.pooler.dense.weight']\n",
      "- This IS expected if you are initializing DPRContextEncoder from the checkpoint of a model trained on another task or with another architecture (e.g. initializing a BertForSequenceClassification model from a BertForPreTraining model).\n",
      "- This IS NOT expected if you are initializing DPRContextEncoder from the checkpoint of a model that you expect to be exactly identical (initializing a BertForSequenceClassification model from a BertForSequenceClassification model).\n"
     ]
    },
    {
     "name": "stdout",
     "output_type": "stream",
     "text": [
      "Loading bge large...\n",
      "Loading gte large...\n",
      "Loading bm25...\n"
     ]
    }
   ],
   "source": [
    "KEY = 'jTrxtC1mqMP1Lj9aMg8fvexSh2xDgZC4'\n",
    "dataset_name = 'nfcorpus'\n",
    "promptor = Promptor(dataset_name)\n",
    "generator = MistralGenerator('mistral-small-2503', KEY, 4)\n",
    "encoder_models = load_models()\n",
    "hyde = HyDE(dataset_name, promptor, generator, encoder_models)"
   ]
  },
  {
   "cell_type": "code",
   "execution_count": 3,
   "id": "a3bd48e1-a032-41f3-974f-dba88a1ef559",
   "metadata": {},
   "outputs": [
    {
     "data": {
      "application/vnd.jupyter.widget-view+json": {
       "model_id": "0aa3fea7865147ff9ee0ac184ec538b2",
       "version_major": 2,
       "version_minor": 0
      },
      "text/plain": [
       "  0%|          | 0/3633 [00:00<?, ?it/s]"
      ]
     },
     "metadata": {},
     "output_type": "display_data"
    },
    {
     "name": "stderr",
     "output_type": "stream",
     "text": [
      "Procesando queries: 100%|████████████████████████████████████████████████████████| 323/323 [00:00<00:00, 2970965.33it/s]\n"
     ]
    },
    {
     "name": "stdout",
     "output_type": "stream",
     "text": [
      "Found 0 previously generated documents in '../doc_gen/hyde/generated_documents_nfcorpus.jsonl'.\n"
     ]
    },
    {
     "name": "stderr",
     "output_type": "stream",
     "text": [
      "Processing queries (generate or skip): 323it [30:18,  5.63s/it]"
     ]
    },
    {
     "name": "stdout",
     "output_type": "stream",
     "text": [
      "Document generation complete. Results saved in: ../doc_gen/hyde/generated_documents_nfcorpus.jsonl\n"
     ]
    },
    {
     "name": "stderr",
     "output_type": "stream",
     "text": [
      "\n"
     ]
    }
   ],
   "source": [
    "hyde.save_generated_docs(path=f'../doc_gen/hyde/')"
   ]
  },
  {
   "cell_type": "code",
   "execution_count": 4,
   "id": "c744acc2-893a-499d-8f6f-4d1744a449b7",
   "metadata": {},
   "outputs": [
    {
     "name": "stderr",
     "output_type": "stream",
     "text": [
      "obteniendo embedding de todos los doc generados: 100%|████████████████████████████████| 323/323 [05:15<00:00,  1.02it/s]\n",
      "obteniendo resultados contriever: 323it [00:01, 316.40it/s]\n",
      "obteniendo resultados contriever_ft: 323it [00:00, 325.19it/s]\n",
      "obteniendo resultados dpr: 323it [00:00, 331.95it/s]\n",
      "obteniendo resultados bge_large: 323it [00:01, 280.49it/s]\n",
      "obteniendo resultados gte_large: 323it [00:01, 274.83it/s]\n",
      "obteniendo resultados sparse_bm25: 323it [00:00, 455.30it/s]\n"
     ]
    }
   ],
   "source": [
    "hyde.get_results_from_jsonl_hyde(path_doc_gen='../doc_gen/hyde/generated_documents_nfcorpus.jsonl', path=f'../results/hyde/{dataset_name}/',batch_size=32, top_k=10)"
   ]
  },
  {
   "cell_type": "code",
   "execution_count": 5,
   "id": "f3b6aa0e-b0c2-4f83-85e5-5649962700ef",
   "metadata": {},
   "outputs": [
    {
     "name": "stdout",
     "output_type": "stream",
     "text": [
      "nfcorpus\n"
     ]
    },
    {
     "data": {
      "application/vnd.jupyter.widget-view+json": {
       "model_id": "a88a5eeed5504ed6a16b3779141119af",
       "version_major": 2,
       "version_minor": 0
      },
      "text/plain": [
       "  0%|          | 0/3633 [00:00<?, ?it/s]"
      ]
     },
     "metadata": {},
     "output_type": "display_data"
    },
    {
     "name": "stdout",
     "output_type": "stream",
     "text": [
      "Calculando metricas de results_contriever_ft.json\n",
      "  Métricas guardadas en: ../metrics/hyde/nfcorpus/results_contriever_ft.json\n",
      "Calculando metricas de results_bge_large.json\n",
      "  Métricas guardadas en: ../metrics/hyde/nfcorpus/results_bge_large.json\n",
      "Calculando metricas de results_dpr.json\n",
      "  Métricas guardadas en: ../metrics/hyde/nfcorpus/results_dpr.json\n",
      "Calculando metricas de results_contriever.json\n",
      "  Métricas guardadas en: ../metrics/hyde/nfcorpus/results_contriever.json\n",
      "Calculando metricas de results_gte_large.json\n",
      "  Métricas guardadas en: ../metrics/hyde/nfcorpus/results_gte_large.json\n",
      "Calculando metricas de results_sparse_bm25.json\n",
      "  Métricas guardadas en: ../metrics/hyde/nfcorpus/results_sparse_bm25.json\n"
     ]
    }
   ],
   "source": [
    "from kdir_src.utils.evaluation import evaluate_all_results\n",
    "evaluate_all_results('../results/hyde/nfcorpus')"
   ]
  },
  {
   "cell_type": "markdown",
   "id": "4a3c13eb-9117-499f-b093-be84996f0d89",
   "metadata": {
    "jp-MarkdownHeadingCollapsed": true
   },
   "source": [
    "## hyde FIQA2018"
   ]
  },
  {
   "cell_type": "code",
   "execution_count": 1,
   "id": "b9086b3f-3a5b-4fc2-8902-09ee25bae48f",
   "metadata": {},
   "outputs": [],
   "source": [
    "from kdir_src.sota.hyde import HyDE, Promptor\n",
    "from kdir_src.generators.mistral_ai import MistralGenerator\n",
    "from kdir_src.models.all_models import load_models, get_query_embeddings"
   ]
  },
  {
   "cell_type": "code",
   "execution_count": 2,
   "id": "9c2d353b-f523-446d-9846-bf31cce9141f",
   "metadata": {},
   "outputs": [
    {
     "name": "stdout",
     "output_type": "stream",
     "text": [
      "Loading contriever...\n",
      "Loading contriever FT...\n",
      "Loading question dpr...\n"
     ]
    },
    {
     "name": "stderr",
     "output_type": "stream",
     "text": [
      "Some weights of the model checkpoint at facebook/dpr-question_encoder-single-nq-base were not used when initializing DPRQuestionEncoder: ['question_encoder.bert_model.pooler.dense.bias', 'question_encoder.bert_model.pooler.dense.weight']\n",
      "- This IS expected if you are initializing DPRQuestionEncoder from the checkpoint of a model trained on another task or with another architecture (e.g. initializing a BertForSequenceClassification model from a BertForPreTraining model).\n",
      "- This IS NOT expected if you are initializing DPRQuestionEncoder from the checkpoint of a model that you expect to be exactly identical (initializing a BertForSequenceClassification model from a BertForSequenceClassification model).\n"
     ]
    },
    {
     "name": "stdout",
     "output_type": "stream",
     "text": [
      "Loading context dpr...\n"
     ]
    },
    {
     "name": "stderr",
     "output_type": "stream",
     "text": [
      "The tokenizer class you load from this checkpoint is not the same type as the class this function is called from. It may result in unexpected tokenization. \n",
      "The tokenizer class you load from this checkpoint is 'DPRQuestionEncoderTokenizer'. \n",
      "The class this function is called from is 'DPRContextEncoderTokenizer'.\n",
      "Some weights of the model checkpoint at facebook/dpr-ctx_encoder-single-nq-base were not used when initializing DPRContextEncoder: ['ctx_encoder.bert_model.pooler.dense.bias', 'ctx_encoder.bert_model.pooler.dense.weight']\n",
      "- This IS expected if you are initializing DPRContextEncoder from the checkpoint of a model trained on another task or with another architecture (e.g. initializing a BertForSequenceClassification model from a BertForPreTraining model).\n",
      "- This IS NOT expected if you are initializing DPRContextEncoder from the checkpoint of a model that you expect to be exactly identical (initializing a BertForSequenceClassification model from a BertForSequenceClassification model).\n"
     ]
    },
    {
     "name": "stdout",
     "output_type": "stream",
     "text": [
      "Loading bge large...\n",
      "Loading gte large...\n",
      "Loading bm25...\n"
     ]
    }
   ],
   "source": [
    "KEY = 'jTrxtC1mqMP1Lj9aMg8fvexSh2xDgZC4'\n",
    "dataset_name = 'fiqa'\n",
    "promptor = Promptor(dataset_name)\n",
    "generator = MistralGenerator('mistral-small-2503', KEY, 4)\n",
    "encoder_models = load_models()\n",
    "hyde = HyDE(dataset_name, promptor, generator, encoder_models)"
   ]
  },
  {
   "cell_type": "code",
   "execution_count": 3,
   "id": "e56f2dd7-67c5-4eb5-bb8c-f2d587d33a6f",
   "metadata": {},
   "outputs": [
    {
     "data": {
      "application/vnd.jupyter.widget-view+json": {
       "model_id": "32549bd42aa64b83aa901079d23d2768",
       "version_major": 2,
       "version_minor": 0
      },
      "text/plain": [
       "  0%|          | 0/57638 [00:00<?, ?it/s]"
      ]
     },
     "metadata": {},
     "output_type": "display_data"
    },
    {
     "name": "stderr",
     "output_type": "stream",
     "text": [
      "Procesando queries: 100%|████████████████████████████████████████████████████████| 648/648 [00:00<00:00, 3790668.05it/s]\n"
     ]
    },
    {
     "name": "stdout",
     "output_type": "stream",
     "text": [
      "Found 0 previously generated documents in '../doc_gen/hyde/generated_documents_fiqa.jsonl'.\n"
     ]
    },
    {
     "name": "stderr",
     "output_type": "stream",
     "text": [
      "Processing queries (generate or skip): 648it [54:04,  5.01s/it]"
     ]
    },
    {
     "name": "stdout",
     "output_type": "stream",
     "text": [
      "Document generation complete. Results saved in: ../doc_gen/hyde/generated_documents_fiqa.jsonl\n"
     ]
    },
    {
     "name": "stderr",
     "output_type": "stream",
     "text": [
      "\n"
     ]
    }
   ],
   "source": [
    "hyde.save_generated_docs(path=f'../doc_gen/hyde/')"
   ]
  },
  {
   "cell_type": "code",
   "execution_count": 4,
   "id": "5424e945-2fba-4666-88f6-294bf881b3b0",
   "metadata": {},
   "outputs": [
    {
     "name": "stderr",
     "output_type": "stream",
     "text": [
      "obteniendo embedding de todos los doc generados: 100%|████████████████████████████████| 648/648 [11:15<00:00,  1.04s/it]\n",
      "obteniendo resultados contriever: 648it [00:03, 199.97it/s]\n",
      "obteniendo resultados contriever_ft: 648it [00:03, 214.41it/s]\n",
      "obteniendo resultados dpr: 648it [00:02, 221.16it/s]\n",
      "obteniendo resultados bge_large: 648it [00:03, 192.51it/s]\n",
      "obteniendo resultados gte_large: 648it [00:03, 187.55it/s]\n",
      "obteniendo resultados sparse_bm25: 648it [00:02, 286.83it/s]\n"
     ]
    }
   ],
   "source": [
    "hyde.get_results_from_jsonl_hyde(path_doc_gen='../doc_gen/hyde/generated_documents_fiqa.jsonl', path=f'../results/hyde/{dataset_name}/',batch_size=32, top_k=10)"
   ]
  },
  {
   "cell_type": "code",
   "execution_count": 5,
   "id": "62174c9e-97f5-4929-9e27-5dd273a6f90e",
   "metadata": {},
   "outputs": [
    {
     "name": "stdout",
     "output_type": "stream",
     "text": [
      "fiqa\n"
     ]
    },
    {
     "data": {
      "application/vnd.jupyter.widget-view+json": {
       "model_id": "bb6dcd04786e45fa9ae852df71cce06b",
       "version_major": 2,
       "version_minor": 0
      },
      "text/plain": [
       "  0%|          | 0/57638 [00:00<?, ?it/s]"
      ]
     },
     "metadata": {},
     "output_type": "display_data"
    },
    {
     "name": "stdout",
     "output_type": "stream",
     "text": [
      "Calculando metricas de results_contriever_ft.json\n",
      "  Métricas guardadas en: ../metrics/hyde/fiqa/results_contriever_ft.json\n",
      "Calculando metricas de results_bge_large.json\n",
      "  Métricas guardadas en: ../metrics/hyde/fiqa/results_bge_large.json\n",
      "Calculando metricas de results_dpr.json\n",
      "  Métricas guardadas en: ../metrics/hyde/fiqa/results_dpr.json\n",
      "Calculando metricas de results_contriever.json\n",
      "  Métricas guardadas en: ../metrics/hyde/fiqa/results_contriever.json\n",
      "Calculando metricas de results_gte_large.json\n",
      "  Métricas guardadas en: ../metrics/hyde/fiqa/results_gte_large.json\n",
      "Calculando metricas de results_sparse_bm25.json\n",
      "  Métricas guardadas en: ../metrics/hyde/fiqa/results_sparse_bm25.json\n"
     ]
    }
   ],
   "source": [
    "from kdir_src.utils.evaluation import evaluate_all_results\n",
    "evaluate_all_results('../results/hyde/fiqa')"
   ]
  },
  {
   "cell_type": "markdown",
   "id": "3067e8ee-f3d9-4e27-b780-aa1338bacd5b",
   "metadata": {},
   "source": [
    "## Scidocs"
   ]
  },
  {
   "cell_type": "code",
   "execution_count": 1,
   "id": "a41edcef-42b9-4b8a-889a-9a796fdd12df",
   "metadata": {},
   "outputs": [],
   "source": [
    "from kdir_src.sota.hyde import HyDE, Promptor\n",
    "from kdir_src.generators.mistral_ai import MistralGenerator\n",
    "from kdir_src.models.all_models import load_models, get_query_embeddings"
   ]
  },
  {
   "cell_type": "code",
   "execution_count": 2,
   "id": "89c15757-e680-40b3-897f-821b5757dd9b",
   "metadata": {
    "scrolled": true
   },
   "outputs": [
    {
     "name": "stdout",
     "output_type": "stream",
     "text": [
      "Loading contriever...\n",
      "Loading contriever FT...\n",
      "Loading question dpr...\n"
     ]
    },
    {
     "name": "stderr",
     "output_type": "stream",
     "text": [
      "Some weights of the model checkpoint at facebook/dpr-question_encoder-single-nq-base were not used when initializing DPRQuestionEncoder: ['question_encoder.bert_model.pooler.dense.bias', 'question_encoder.bert_model.pooler.dense.weight']\n",
      "- This IS expected if you are initializing DPRQuestionEncoder from the checkpoint of a model trained on another task or with another architecture (e.g. initializing a BertForSequenceClassification model from a BertForPreTraining model).\n",
      "- This IS NOT expected if you are initializing DPRQuestionEncoder from the checkpoint of a model that you expect to be exactly identical (initializing a BertForSequenceClassification model from a BertForSequenceClassification model).\n",
      "The tokenizer class you load from this checkpoint is not the same type as the class this function is called from. It may result in unexpected tokenization. \n",
      "The tokenizer class you load from this checkpoint is 'DPRQuestionEncoderTokenizer'. \n",
      "The class this function is called from is 'DPRContextEncoderTokenizer'.\n"
     ]
    },
    {
     "name": "stdout",
     "output_type": "stream",
     "text": [
      "Loading context dpr...\n"
     ]
    },
    {
     "name": "stderr",
     "output_type": "stream",
     "text": [
      "Some weights of the model checkpoint at facebook/dpr-ctx_encoder-single-nq-base were not used when initializing DPRContextEncoder: ['ctx_encoder.bert_model.pooler.dense.bias', 'ctx_encoder.bert_model.pooler.dense.weight']\n",
      "- This IS expected if you are initializing DPRContextEncoder from the checkpoint of a model trained on another task or with another architecture (e.g. initializing a BertForSequenceClassification model from a BertForPreTraining model).\n",
      "- This IS NOT expected if you are initializing DPRContextEncoder from the checkpoint of a model that you expect to be exactly identical (initializing a BertForSequenceClassification model from a BertForSequenceClassification model).\n"
     ]
    },
    {
     "name": "stdout",
     "output_type": "stream",
     "text": [
      "Loading bge large...\n",
      "Loading gte large...\n",
      "Loading bm25...\n"
     ]
    }
   ],
   "source": [
    "KEY = 'jTrxtC1mqMP1Lj9aMg8fvexSh2xDgZC4'\n",
    "dataset_name = 'scidocs'\n",
    "promptor = Promptor(dataset_name)\n",
    "generator = MistralGenerator('mistral-small-2503', KEY, 4)\n",
    "encoder_models = load_models()\n",
    "hyde = HyDE(dataset_name, promptor, generator, encoder_models)"
   ]
  },
  {
   "cell_type": "code",
   "execution_count": 3,
   "id": "5712f2cb-02ed-4771-9aab-cac1ed074ada",
   "metadata": {},
   "outputs": [
    {
     "data": {
      "application/vnd.jupyter.widget-view+json": {
       "model_id": "11674776706a4838abcb2156616038bb",
       "version_major": 2,
       "version_minor": 0
      },
      "text/plain": [
       "  0%|          | 0/25657 [00:00<?, ?it/s]"
      ]
     },
     "metadata": {},
     "output_type": "display_data"
    },
    {
     "name": "stderr",
     "output_type": "stream",
     "text": [
      "Procesando queries: 100%|██████████████████████████████████████████████████████| 1000/1000 [00:00<00:00, 3930931.58it/s]\n"
     ]
    },
    {
     "name": "stdout",
     "output_type": "stream",
     "text": [
      "Found 0 previously generated documents in '../doc_gen/hyde/generated_documents_scidocs.jsonl'.\n"
     ]
    },
    {
     "name": "stderr",
     "output_type": "stream",
     "text": [
      "Processing queries (generate or skip): 1000it [1:28:47,  5.33s/it]"
     ]
    },
    {
     "name": "stdout",
     "output_type": "stream",
     "text": [
      "Document generation complete. Results saved in: ../doc_gen/hyde/generated_documents_scidocs.jsonl\n"
     ]
    },
    {
     "name": "stderr",
     "output_type": "stream",
     "text": [
      "\n"
     ]
    }
   ],
   "source": [
    "hyde.save_generated_docs(path=f'../doc_gen/hyde/')"
   ]
  },
  {
   "cell_type": "code",
   "execution_count": 4,
   "id": "77525e71-485d-4810-b276-f94333496ec4",
   "metadata": {},
   "outputs": [
    {
     "name": "stderr",
     "output_type": "stream",
     "text": [
      "obteniendo embedding de todos los doc generados: 100%|██████████████████████████████| 1000/1000 [08:36<00:00,  1.94it/s]\n",
      "obteniendo resultados contriever: 1000it [00:07, 131.90it/s]\n",
      "obteniendo resultados contriever_ft: 1000it [00:07, 142.32it/s]\n",
      "obteniendo resultados dpr: 1000it [00:06, 143.93it/s]\n",
      "obteniendo resultados bge_large: 1000it [00:08, 113.78it/s]\n",
      "obteniendo resultados gte_large: 1000it [00:08, 114.64it/s]\n",
      "obteniendo resultados sparse_bm25: 1000it [00:03, 269.58it/s]\n"
     ]
    }
   ],
   "source": [
    "hyde.get_results_from_jsonl_hyde(path_doc_gen='../doc_gen/hyde/generated_documents_scidocs.jsonl', path=f'../results/hyde/{dataset_name}/',batch_size=32, top_k=10)"
   ]
  },
  {
   "cell_type": "code",
   "execution_count": 5,
   "id": "f23d48e8-29ca-4082-a075-058a94afb83b",
   "metadata": {},
   "outputs": [
    {
     "name": "stdout",
     "output_type": "stream",
     "text": [
      "scidocs\n"
     ]
    },
    {
     "data": {
      "application/vnd.jupyter.widget-view+json": {
       "model_id": "b5bb231fe9214e1c84c821f508537543",
       "version_major": 2,
       "version_minor": 0
      },
      "text/plain": [
       "  0%|          | 0/25657 [00:00<?, ?it/s]"
      ]
     },
     "metadata": {},
     "output_type": "display_data"
    },
    {
     "name": "stdout",
     "output_type": "stream",
     "text": [
      "Calculando metricas de results_contriever_ft.json\n",
      "  Métricas guardadas en: ../metrics/hyde/scidocs/results_contriever_ft.json\n",
      "Calculando metricas de results_bge_large.json\n",
      "  Métricas guardadas en: ../metrics/hyde/scidocs/results_bge_large.json\n",
      "Calculando metricas de results_dpr.json\n",
      "  Métricas guardadas en: ../metrics/hyde/scidocs/results_dpr.json\n",
      "Calculando metricas de results_contriever.json\n",
      "  Métricas guardadas en: ../metrics/hyde/scidocs/results_contriever.json\n",
      "Calculando metricas de results_gte_large.json\n",
      "  Métricas guardadas en: ../metrics/hyde/scidocs/results_gte_large.json\n",
      "Calculando metricas de results_sparse_bm25.json\n",
      "  Métricas guardadas en: ../metrics/hyde/scidocs/results_sparse_bm25.json\n"
     ]
    }
   ],
   "source": [
    "from kdir_src.utils.evaluation import evaluate_all_results\n",
    "evaluate_all_results('../results/hyde/scidocs')"
   ]
  },
  {
   "cell_type": "markdown",
   "id": "bf583ed0-ccee-49c6-b1d5-8b71dbea697d",
   "metadata": {},
   "source": [
    "## Scifact"
   ]
  },
  {
   "cell_type": "code",
   "execution_count": 1,
   "id": "45584f7e-4d7e-4f45-81ca-d179447a0fba",
   "metadata": {},
   "outputs": [],
   "source": [
    "from kdir_src.sota.hyde import HyDE, Promptor\n",
    "from kdir_src.generators.mistral_ai import MistralGenerator\n",
    "from kdir_src.models.all_models import load_models, get_query_embeddings"
   ]
  },
  {
   "cell_type": "code",
   "execution_count": 2,
   "id": "8fdaa332-56d1-4db0-8052-c11a65d5157e",
   "metadata": {},
   "outputs": [
    {
     "name": "stdout",
     "output_type": "stream",
     "text": [
      "Loading contriever...\n",
      "Loading contriever FT...\n",
      "Loading question dpr...\n"
     ]
    },
    {
     "name": "stderr",
     "output_type": "stream",
     "text": [
      "Some weights of the model checkpoint at facebook/dpr-question_encoder-single-nq-base were not used when initializing DPRQuestionEncoder: ['question_encoder.bert_model.pooler.dense.bias', 'question_encoder.bert_model.pooler.dense.weight']\n",
      "- This IS expected if you are initializing DPRQuestionEncoder from the checkpoint of a model trained on another task or with another architecture (e.g. initializing a BertForSequenceClassification model from a BertForPreTraining model).\n",
      "- This IS NOT expected if you are initializing DPRQuestionEncoder from the checkpoint of a model that you expect to be exactly identical (initializing a BertForSequenceClassification model from a BertForSequenceClassification model).\n",
      "The tokenizer class you load from this checkpoint is not the same type as the class this function is called from. It may result in unexpected tokenization. \n",
      "The tokenizer class you load from this checkpoint is 'DPRQuestionEncoderTokenizer'. \n",
      "The class this function is called from is 'DPRContextEncoderTokenizer'.\n"
     ]
    },
    {
     "name": "stdout",
     "output_type": "stream",
     "text": [
      "Loading context dpr...\n"
     ]
    },
    {
     "name": "stderr",
     "output_type": "stream",
     "text": [
      "Some weights of the model checkpoint at facebook/dpr-ctx_encoder-single-nq-base were not used when initializing DPRContextEncoder: ['ctx_encoder.bert_model.pooler.dense.bias', 'ctx_encoder.bert_model.pooler.dense.weight']\n",
      "- This IS expected if you are initializing DPRContextEncoder from the checkpoint of a model trained on another task or with another architecture (e.g. initializing a BertForSequenceClassification model from a BertForPreTraining model).\n",
      "- This IS NOT expected if you are initializing DPRContextEncoder from the checkpoint of a model that you expect to be exactly identical (initializing a BertForSequenceClassification model from a BertForSequenceClassification model).\n"
     ]
    },
    {
     "name": "stdout",
     "output_type": "stream",
     "text": [
      "Loading bge large...\n",
      "Loading gte large...\n",
      "Loading bm25...\n"
     ]
    }
   ],
   "source": [
    "KEY = 'jTrxtC1mqMP1Lj9aMg8fvexSh2xDgZC4'\n",
    "dataset_name = 'scifact'\n",
    "promptor = Promptor(dataset_name)\n",
    "generator = MistralGenerator('mistral-small-2503', KEY, 4)\n",
    "encoder_models = load_models()\n",
    "hyde = HyDE(dataset_name, promptor, generator, encoder_models)"
   ]
  },
  {
   "cell_type": "code",
   "execution_count": 3,
   "id": "aa483133-3ad9-4bbe-a6a4-3b37348d6044",
   "metadata": {},
   "outputs": [
    {
     "data": {
      "application/vnd.jupyter.widget-view+json": {
       "model_id": "6fff9c781cb247fdb4a1827174bdb7da",
       "version_major": 2,
       "version_minor": 0
      },
      "text/plain": [
       "  0%|          | 0/5183 [00:00<?, ?it/s]"
      ]
     },
     "metadata": {},
     "output_type": "display_data"
    },
    {
     "name": "stderr",
     "output_type": "stream",
     "text": [
      "Procesando queries: 100%|████████████████████████████████████████████████████████| 300/300 [00:00<00:00, 3226387.69it/s]\n"
     ]
    },
    {
     "name": "stdout",
     "output_type": "stream",
     "text": [
      "Found 0 previously generated documents in '../doc_gen/hyde/generated_documents_scifact.jsonl'.\n"
     ]
    },
    {
     "name": "stderr",
     "output_type": "stream",
     "text": [
      "Processing queries (generate or skip): 300it [24:44,  4.95s/it]"
     ]
    },
    {
     "name": "stdout",
     "output_type": "stream",
     "text": [
      "Document generation complete. Results saved in: ../doc_gen/hyde/generated_documents_scifact.jsonl\n"
     ]
    },
    {
     "name": "stderr",
     "output_type": "stream",
     "text": [
      "\n"
     ]
    }
   ],
   "source": [
    "hyde.save_generated_docs(path=f'../doc_gen/hyde/')"
   ]
  },
  {
   "cell_type": "code",
   "execution_count": 3,
   "id": "75512be4-4d63-4afc-a4c3-44f08e8090cc",
   "metadata": {},
   "outputs": [
    {
     "name": "stderr",
     "output_type": "stream",
     "text": [
      "obteniendo embedding de todos los doc generados: 100%|███████████████████████████████████████| 300/300 [02:39<00:00,  1.88it/s]\n",
      "obteniendo resultados contriever: 300it [00:01, 193.30it/s]\n",
      "obteniendo resultados contriever_ft: 300it [00:01, 237.05it/s]\n",
      "obteniendo resultados dpr: 300it [00:01, 213.94it/s]\n",
      "obteniendo resultados bge_large: 300it [00:01, 172.92it/s]\n",
      "obteniendo resultados gte_large: 300it [00:01, 179.96it/s]\n",
      "obteniendo resultados sparse_bm25: 300it [00:00, 302.97it/s]\n"
     ]
    }
   ],
   "source": [
    "hyde.get_results_from_jsonl_hyde(path_doc_gen=f'../doc_gen/hyde/generated_documents_{dataset_name}.jsonl', path=f'../results/hyde/{dataset_name}/',batch_size=32, top_k=10)"
   ]
  },
  {
   "cell_type": "code",
   "execution_count": 4,
   "id": "82bb845a-9fbf-451e-947d-5188be990c66",
   "metadata": {},
   "outputs": [
    {
     "name": "stdout",
     "output_type": "stream",
     "text": [
      "scifact\n"
     ]
    },
    {
     "data": {
      "application/vnd.jupyter.widget-view+json": {
       "model_id": "7c84959c41ed41b498adce99584275cc",
       "version_major": 2,
       "version_minor": 0
      },
      "text/plain": [
       "  0%|          | 0/5183 [00:00<?, ?it/s]"
      ]
     },
     "metadata": {},
     "output_type": "display_data"
    },
    {
     "name": "stdout",
     "output_type": "stream",
     "text": [
      "Calculando metricas de results_contriever_ft.json\n",
      "  Métricas guardadas en: ../metrics/hyde/scifact/results_contriever_ft.json\n",
      "Calculando metricas de results_bge_large.json\n",
      "  Métricas guardadas en: ../metrics/hyde/scifact/results_bge_large.json\n",
      "Calculando metricas de results_dpr.json\n",
      "  Métricas guardadas en: ../metrics/hyde/scifact/results_dpr.json\n",
      "Calculando metricas de results_contriever.json\n",
      "  Métricas guardadas en: ../metrics/hyde/scifact/results_contriever.json\n",
      "Calculando metricas de results_gte_large.json\n",
      "  Métricas guardadas en: ../metrics/hyde/scifact/results_gte_large.json\n",
      "Calculando metricas de results_sparse_bm25.json\n",
      "  Métricas guardadas en: ../metrics/hyde/scifact/results_sparse_bm25.json\n"
     ]
    }
   ],
   "source": [
    "from kdir_src.utils.evaluation import evaluate_all_results\n",
    "evaluate_all_results(f'../results/hyde/{dataset_name}')"
   ]
  },
  {
   "cell_type": "code",
   "execution_count": null,
   "id": "fb7676c3-da4a-4569-bbd6-06fc2dd95e80",
   "metadata": {},
   "outputs": [],
   "source": []
  }
 ],
 "metadata": {
  "kernelspec": {
   "display_name": "Python 3 (ipykernel)",
   "language": "python",
   "name": "python3"
  },
  "language_info": {
   "codemirror_mode": {
    "name": "ipython",
    "version": 3
   },
   "file_extension": ".py",
   "mimetype": "text/x-python",
   "name": "python",
   "nbconvert_exporter": "python",
   "pygments_lexer": "ipython3",
   "version": "3.10.14"
  }
 },
 "nbformat": 4,
 "nbformat_minor": 5
}
