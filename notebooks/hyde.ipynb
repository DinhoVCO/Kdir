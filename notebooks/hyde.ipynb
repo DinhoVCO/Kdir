{
 "cells": [
  {
   "cell_type": "code",
   "execution_count": 1,
   "id": "d5c1906d-0afc-4574-926f-e11054509108",
   "metadata": {},
   "outputs": [],
   "source": [
    "from kdir_src.sota.hyde import HyDE, Promptor\n",
    "from kdir_src.generators.mistral_ai import MistralGenerator\n",
    "from kdir_src.models.all_models import load_models, get_query_embeddings"
   ]
  },
  {
   "cell_type": "code",
   "execution_count": 2,
   "id": "306767b5-dd9c-42a7-ba8a-216ce2df36f4",
   "metadata": {
    "scrolled": true
   },
   "outputs": [
    {
     "name": "stdout",
     "output_type": "stream",
     "text": [
      "Loading contriever...\n",
      "Loading contriever FT...\n",
      "Loading question dpr...\n"
     ]
    },
    {
     "name": "stderr",
     "output_type": "stream",
     "text": [
      "Some weights of the model checkpoint at facebook/dpr-question_encoder-single-nq-base were not used when initializing DPRQuestionEncoder: ['question_encoder.bert_model.pooler.dense.bias', 'question_encoder.bert_model.pooler.dense.weight']\n",
      "- This IS expected if you are initializing DPRQuestionEncoder from the checkpoint of a model trained on another task or with another architecture (e.g. initializing a BertForSequenceClassification model from a BertForPreTraining model).\n",
      "- This IS NOT expected if you are initializing DPRQuestionEncoder from the checkpoint of a model that you expect to be exactly identical (initializing a BertForSequenceClassification model from a BertForSequenceClassification model).\n",
      "The tokenizer class you load from this checkpoint is not the same type as the class this function is called from. It may result in unexpected tokenization. \n",
      "The tokenizer class you load from this checkpoint is 'DPRQuestionEncoderTokenizer'. \n",
      "The class this function is called from is 'DPRContextEncoderTokenizer'.\n"
     ]
    },
    {
     "name": "stdout",
     "output_type": "stream",
     "text": [
      "Loading context dpr...\n"
     ]
    },
    {
     "name": "stderr",
     "output_type": "stream",
     "text": [
      "Some weights of the model checkpoint at facebook/dpr-ctx_encoder-single-nq-base were not used when initializing DPRContextEncoder: ['ctx_encoder.bert_model.pooler.dense.bias', 'ctx_encoder.bert_model.pooler.dense.weight']\n",
      "- This IS expected if you are initializing DPRContextEncoder from the checkpoint of a model trained on another task or with another architecture (e.g. initializing a BertForSequenceClassification model from a BertForPreTraining model).\n",
      "- This IS NOT expected if you are initializing DPRContextEncoder from the checkpoint of a model that you expect to be exactly identical (initializing a BertForSequenceClassification model from a BertForSequenceClassification model).\n"
     ]
    },
    {
     "name": "stdout",
     "output_type": "stream",
     "text": [
      "Loading bge large...\n",
      "Loading gte large...\n",
      "Loading bm25...\n"
     ]
    }
   ],
   "source": [
    "KEY = 'jTrxtC1mqMP1Lj9aMg8fvexSh2xDgZC4'\n",
    "dataset_name = 'arguana'\n",
    "promptor = Promptor(dataset_name)\n",
    "generator = MistralGenerator('mistral-small-2503', KEY, 4)\n",
    "encoder_models = load_models()\n",
    "hyde = HyDE(dataset_name, promptor, generator, encoder_models)"
   ]
  },
  {
   "cell_type": "code",
   "execution_count": 6,
   "id": "525dafbb-de62-44bd-8451-30ace5b5cc60",
   "metadata": {},
   "outputs": [
    {
     "data": {
      "application/vnd.jupyter.widget-view+json": {
       "model_id": "a83e15c627384a28afa9d4ceabe1ea7c",
       "version_major": 2,
       "version_minor": 0
      },
      "text/plain": [
       "  0%|          | 0/8674 [00:00<?, ?it/s]"
      ]
     },
     "metadata": {},
     "output_type": "display_data"
    },
    {
     "name": "stderr",
     "output_type": "stream",
     "text": [
      "Procesando queries: 100%|██████████████████████████████████████████████████████| 1406/1406 [00:00<00:00, 4083927.58it/s]\n"
     ]
    },
    {
     "name": "stdout",
     "output_type": "stream",
     "text": [
      "Found 966 previously generated documents in '../doc_gen/hyde/generated_documents_arguana.jsonl'.\n"
     ]
    },
    {
     "name": "stderr",
     "output_type": "stream",
     "text": [
      "Processing queries (generate or skip): 1406it [36:46,  1.57s/it]"
     ]
    },
    {
     "name": "stdout",
     "output_type": "stream",
     "text": [
      "Document generation complete. Results saved in: ../doc_gen/hyde/generated_documents_arguana.jsonl\n"
     ]
    },
    {
     "name": "stderr",
     "output_type": "stream",
     "text": [
      "\n"
     ]
    }
   ],
   "source": [
    "hyde.save_generated_docs(path=f'../doc_gen/hyde/')"
   ]
  },
  {
   "cell_type": "code",
   "execution_count": null,
   "id": "5030481d-bc82-4301-a9d5-60f477d627ee",
   "metadata": {},
   "outputs": [],
   "source": [
    "#hyde.get_results_hyde(path=f'../results/hyde/{dataset_name}/',batch_size=32, top_k=10)"
   ]
  },
  {
   "cell_type": "code",
   "execution_count": null,
   "id": "15f509fc-521d-48d9-aff5-3cd1f9861e2f",
   "metadata": {},
   "outputs": [],
   "source": []
  },
  {
   "cell_type": "code",
   "execution_count": null,
   "id": "50d282ad-80da-4979-ab4f-2f56cf675b46",
   "metadata": {},
   "outputs": [],
   "source": []
  },
  {
   "cell_type": "markdown",
   "id": "46a6e5df-2738-4bcc-a12b-73378df2889b",
   "metadata": {},
   "source": [
    "## Test"
   ]
  },
  {
   "cell_type": "code",
   "execution_count": 1,
   "id": "9e050ab7-8bb8-419d-bdba-f99ca76a8a1a",
   "metadata": {},
   "outputs": [],
   "source": [
    "from kdir_src.sota.hyde import HyDE, Promptor\n",
    "from kdir_src.generators.mistral_ai import MistralGenerator\n",
    "from kdir_src.models.all_models import load_models, get_query_embeddings"
   ]
  },
  {
   "cell_type": "code",
   "execution_count": 2,
   "id": "66a1b57a-d348-45bf-adb2-7f6402843443",
   "metadata": {},
   "outputs": [
    {
     "name": "stdout",
     "output_type": "stream",
     "text": [
      "Loading contriever...\n",
      "Loading contriever FT...\n",
      "Loading question dpr...\n"
     ]
    },
    {
     "name": "stderr",
     "output_type": "stream",
     "text": [
      "Some weights of the model checkpoint at facebook/dpr-question_encoder-single-nq-base were not used when initializing DPRQuestionEncoder: ['question_encoder.bert_model.pooler.dense.bias', 'question_encoder.bert_model.pooler.dense.weight']\n",
      "- This IS expected if you are initializing DPRQuestionEncoder from the checkpoint of a model trained on another task or with another architecture (e.g. initializing a BertForSequenceClassification model from a BertForPreTraining model).\n",
      "- This IS NOT expected if you are initializing DPRQuestionEncoder from the checkpoint of a model that you expect to be exactly identical (initializing a BertForSequenceClassification model from a BertForSequenceClassification model).\n",
      "The tokenizer class you load from this checkpoint is not the same type as the class this function is called from. It may result in unexpected tokenization. \n",
      "The tokenizer class you load from this checkpoint is 'DPRQuestionEncoderTokenizer'. \n",
      "The class this function is called from is 'DPRContextEncoderTokenizer'.\n"
     ]
    },
    {
     "name": "stdout",
     "output_type": "stream",
     "text": [
      "Loading context dpr...\n"
     ]
    },
    {
     "name": "stderr",
     "output_type": "stream",
     "text": [
      "Some weights of the model checkpoint at facebook/dpr-ctx_encoder-single-nq-base were not used when initializing DPRContextEncoder: ['ctx_encoder.bert_model.pooler.dense.bias', 'ctx_encoder.bert_model.pooler.dense.weight']\n",
      "- This IS expected if you are initializing DPRContextEncoder from the checkpoint of a model trained on another task or with another architecture (e.g. initializing a BertForSequenceClassification model from a BertForPreTraining model).\n",
      "- This IS NOT expected if you are initializing DPRContextEncoder from the checkpoint of a model that you expect to be exactly identical (initializing a BertForSequenceClassification model from a BertForSequenceClassification model).\n"
     ]
    },
    {
     "name": "stdout",
     "output_type": "stream",
     "text": [
      "Loading bge large...\n",
      "Loading gte large...\n",
      "Loading bm25...\n"
     ]
    }
   ],
   "source": [
    "KEY = 'jTrxtC1mqMP1Lj9aMg8fvexSh2xDgZC4' # replace with your API key, it can be OpenAI api key or Cohere api key\n",
    "promptor = Promptor('arguana')\n",
    "generator = MistralGenerator('mistral-small-2503', KEY, 3)\n",
    "encoder_models = load_models()"
   ]
  },
  {
   "cell_type": "code",
   "execution_count": 3,
   "id": "92aea853-0077-4dd4-826e-ba9d17ec6dbe",
   "metadata": {},
   "outputs": [],
   "source": [
    "hyde = HyDE(promptor, generator, encoder_models)"
   ]
  },
  {
   "cell_type": "code",
   "execution_count": 4,
   "id": "5bc1e5f0-6a60-446e-8a08-56be0ad82b40",
   "metadata": {},
   "outputs": [
    {
     "name": "stdout",
     "output_type": "stream",
     "text": [
      "Please write a counter argument for the passage.\n",
      "Passage: how long does it take to remove wisdom tooth\n",
      "Counter Argument:\n"
     ]
    }
   ],
   "source": [
    "query = 'how long does it take to remove wisdom tooth'\n",
    "prompt = hyde.prompt(query)\n",
    "print(prompt)"
   ]
  },
  {
   "cell_type": "code",
   "execution_count": 5,
   "id": "fbbe39ba-f577-40fe-9962-56a1ff6b3447",
   "metadata": {},
   "outputs": [],
   "source": [
    "hypothesis_documents = hyde.generate(query)"
   ]
  },
  {
   "cell_type": "code",
   "execution_count": 6,
   "id": "f7d580b7-8dae-4e91-a939-681982ece004",
   "metadata": {},
   "outputs": [
    {
     "data": {
      "text/plain": [
       "['To counter the passage \"How long does it take to remove a wisdom tooth,\" one could argue from several angles, depending on the context. Here are a few possible counterarguments:\\n\\n1. **Individual Variability**:\\n   - **Argument**: The time it takes to remove a wisdom tooth can vary greatly from person to person. Factors such as the position of the tooth, the complexity of the extraction, and the patient\\'s overall oral health can significantly impact the duration of the procedure.\\n   - **Counter**: Therefore, it is misleading to provide a general timeline without considering these individual variables.\\n\\n2. **Technological and Surgical Advances**:\\n   - **Argument**: Modern dental technology and surgical techniques have made wisdom tooth removal faster and more efficient than in the past.\\n   - **Counter**: This means that the time it takes to remove a wisdom tooth today is likely shorter than it was a decade ago, making any general timeline outdated.\\n\\n3. **Pre- and Post-Operative Care**:\\n   - **Argument**: The actual removal of the wisdom tooth is just one part of the process. Pre-operative consultations, anesthesia administration, and post-operative recovery can all add to the overall time commitment.\\n   - **Counter**: Thus, focusing solely on the extraction time can be misleading, as the total time involved in the procedure is much longer.\\n\\n4. **Complications and Unexpected Issues**:\\n   - **Argument**: Sometimes, complications arise during the extraction process, such as encountering impacted teeth, nerve damage, or excessive bleeding, which can extend the procedure time.\\n   - **Counter**: These unforeseen issues can make it impossible to predict the exact duration of the surgery.\\n\\n5. **Patient Comfort and Anesthesia**:\\n   - **Argument**: The time it takes to administer and wear off anesthesia can vary, affecting the total time spent in the dental chair.\\n   - **Counter**: This means that the actual extraction time is just a small part of the overall procedure time.\\n\\nBy considering these counterarguments, one can see that the question \"How long does it take to remove a wisdom tooth?\" is more complex than it initially appears and requires a more nuanced answer.',\n",
       " 'To provide a counter argument to the passage \"How long does it take to remove wisdom teeth,\" we need to challenge the implicit assumption that the duration of the procedure is the most important factor or that it is a straightforward process. Here’s a counter argument:\\n\\n---\\n\\nWhile the duration of a wisdom tooth removal procedure is a common concern, it is not the only factor that should be considered when evaluating the process. The complexity of the extraction, the patient\\'s individual anatomy, and the potential for complications are equally, if not more, important.\\n\\nFirstly, the duration of the procedure can vary greatly depending on the position and condition of the wisdom teeth. Impacted wisdom teeth, for example, may require more time and a more invasive procedure, which could involve cutting into the gum and removing bone. This complexity can significantly extend the time needed for the surgery.\\n\\nSecondly, the patient\\'s overall health and dental history play a crucial role. Patients with underlying health conditions, such as diabetes or heart disease, may require additional precautions and monitoring, which can affect the duration and complexity of the procedure.\\n\\nMoreover, the potential for complications, such as nerve damage, infection, or excessive bleeding, should not be overlooked. These risks can arise regardless of the procedure\\'s duration and can have long-term impacts on the patient\\'s health and recovery.\\n\\nLastly, the expertise and experience of the oral surgeon or dentist performing the extraction are critical. A more experienced practitioner might take longer to ensure precision and minimize risks, which is ultimately more beneficial for the patient\\'s long-term oral health.\\n\\nIn summary, while the duration of wisdom tooth removal is a relevant factor, it should not be the sole consideration. The focus should be on the overall safety, effectiveness, and long-term outcomes of the procedure, which are influenced by a variety of factors beyond just the time it takes to complete the extraction.\\n\\n---\\n\\nThis counter argument emphasizes the importance of considering multiple factors beyond just the duration of the procedure, highlighting the complexity and individual nature of wisdom tooth removal.']"
      ]
     },
     "execution_count": 6,
     "metadata": {},
     "output_type": "execute_result"
    }
   ],
   "source": [
    "hypothesis_documents"
   ]
  },
  {
   "cell_type": "code",
   "execution_count": 7,
   "id": "6d6bdbde-863d-4b3c-a5c5-d78b5b911525",
   "metadata": {},
   "outputs": [
    {
     "name": "stderr",
     "output_type": "stream",
     "text": [
      "Procesando contriever...: 100%|████████████████████████████████████████████████████████| 1/1 [00:00<00:00,  2.42batch/s]\n",
      "Procesando contriever...: 100%|████████████████████████████████████████████████████████| 1/1 [00:00<00:00, 31.09batch/s]\n",
      "Procesando dpr...: 100%|███████████████████████████████████████████████████████████████| 1/1 [00:00<00:00, 24.03batch/s]\n"
     ]
    },
    {
     "data": {
      "application/vnd.jupyter.widget-view+json": {
       "model_id": "2d1e6381fa444670a78841be87b303e4",
       "version_major": 2,
       "version_minor": 0
      },
      "text/plain": [
       "Batches:   0%|          | 0/1 [00:00<?, ?it/s]"
      ]
     },
     "metadata": {},
     "output_type": "display_data"
    },
    {
     "data": {
      "application/vnd.jupyter.widget-view+json": {
       "model_id": "3cbfa446e7164758bda26d9e8179d70f",
       "version_major": 2,
       "version_minor": 0
      },
      "text/plain": [
       "Batches:   0%|          | 0/1 [00:00<?, ?it/s]"
      ]
     },
     "metadata": {},
     "output_type": "display_data"
    },
    {
     "name": "stdout",
     "output_type": "stream",
     "text": [
      "Procesando BM25 embeddings\n",
      "Embeddings finalizado\n"
     ]
    },
    {
     "ename": "AttributeError",
     "evalue": "'list' object has no attribute 'shape'",
     "output_type": "error",
     "traceback": [
      "\u001b[0;31m---------------------------------------------------------------------------\u001b[0m",
      "\u001b[0;31mAttributeError\u001b[0m                            Traceback (most recent call last)",
      "Cell \u001b[0;32mIn[7], line 2\u001b[0m\n\u001b[1;32m      1\u001b[0m hyde_vector \u001b[38;5;241m=\u001b[39m hyde\u001b[38;5;241m.\u001b[39mencode(query, hypothesis_documents)\n\u001b[0;32m----> 2\u001b[0m \u001b[38;5;28mprint\u001b[39m(\u001b[43mhyde_vector\u001b[49m\u001b[38;5;241;43m.\u001b[39;49m\u001b[43mshape\u001b[49m)\n",
      "\u001b[0;31mAttributeError\u001b[0m: 'list' object has no attribute 'shape'"
     ]
    }
   ],
   "source": [
    "hyde_vector = hyde.encode(query, hypothesis_documents)"
   ]
  },
  {
   "cell_type": "code",
   "execution_count": 7,
   "id": "0be621e3-ccec-43d8-8118-e04e13d52920",
   "metadata": {},
   "outputs": [
    {
     "name": "stderr",
     "output_type": "stream",
     "text": [
      "Procesando contriever...: 100%|████████████████████████████████████████████████████████| 1/1 [00:00<00:00,  2.42batch/s]\n",
      "Procesando contriever...: 100%|████████████████████████████████████████████████████████| 1/1 [00:00<00:00, 31.09batch/s]\n",
      "Procesando dpr...: 100%|███████████████████████████████████████████████████████████████| 1/1 [00:00<00:00, 24.03batch/s]\n"
     ]
    },
    {
     "data": {
      "application/vnd.jupyter.widget-view+json": {
       "model_id": "2d1e6381fa444670a78841be87b303e4",
       "version_major": 2,
       "version_minor": 0
      },
      "text/plain": [
       "Batches:   0%|          | 0/1 [00:00<?, ?it/s]"
      ]
     },
     "metadata": {},
     "output_type": "display_data"
    },
    {
     "data": {
      "application/vnd.jupyter.widget-view+json": {
       "model_id": "3cbfa446e7164758bda26d9e8179d70f",
       "version_major": 2,
       "version_minor": 0
      },
      "text/plain": [
       "Batches:   0%|          | 0/1 [00:00<?, ?it/s]"
      ]
     },
     "metadata": {},
     "output_type": "display_data"
    },
    {
     "name": "stdout",
     "output_type": "stream",
     "text": [
      "Procesando BM25 embeddings\n",
      "Embeddings finalizado\n"
     ]
    },
    {
     "ename": "AttributeError",
     "evalue": "'list' object has no attribute 'shape'",
     "output_type": "error",
     "traceback": [
      "\u001b[0;31m---------------------------------------------------------------------------\u001b[0m",
      "\u001b[0;31mAttributeError\u001b[0m                            Traceback (most recent call last)",
      "Cell \u001b[0;32mIn[7], line 2\u001b[0m\n\u001b[1;32m      1\u001b[0m hyde_vector \u001b[38;5;241m=\u001b[39m hyde\u001b[38;5;241m.\u001b[39mencode(query, hypothesis_documents)\n\u001b[0;32m----> 2\u001b[0m \u001b[38;5;28mprint\u001b[39m(\u001b[43mhyde_vector\u001b[49m\u001b[38;5;241;43m.\u001b[39;49m\u001b[43mshape\u001b[49m)\n",
      "\u001b[0;31mAttributeError\u001b[0m: 'list' object has no attribute 'shape'"
     ]
    }
   ],
   "source": [
    "hyde_vector = hyde.encode(query, hypothesis_documents)"
   ]
  },
  {
   "cell_type": "code",
   "execution_count": 9,
   "id": "2273c016-6ed9-48de-8f40-fe1091ad2cf8",
   "metadata": {},
   "outputs": [
    {
     "data": {
      "text/plain": [
       "6"
      ]
     },
     "execution_count": 9,
     "metadata": {},
     "output_type": "execute_result"
    }
   ],
   "source": [
    "len(hyde_vector)"
   ]
  },
  {
   "cell_type": "code",
   "execution_count": 10,
   "id": "da8988c0-3972-4c60-80df-0f2a042814e8",
   "metadata": {},
   "outputs": [],
   "source": [
    "from kdir_src.utils.qdrant import recuperar_documentos, recuperar_documentos_sparsos"
   ]
  },
  {
   "cell_type": "code",
   "execution_count": 15,
   "id": "4c859ca2-640d-4b9b-9e5f-14c87b672a02",
   "metadata": {},
   "outputs": [],
   "source": [
    "docs = recuperar_documentos(\"kdir_arguana\", hyde_vector[0][0], \"contriever\", top_k=10)"
   ]
  },
  {
   "cell_type": "code",
   "execution_count": 16,
   "id": "6868cfe2-1a6b-47e4-947d-43a1fe92c66e",
   "metadata": {
    "scrolled": true
   },
   "outputs": [
    {
     "data": {
      "text/plain": [
       "[ScoredPoint(id=116, version=0, score=0.392328, payload={'doc_id': 'test-health-ppelfhwbpba-con03b', 'title': 'pregnancy philosophy ethics life family house would ban partial birth abortions', 'text': 'There is no medical consensus on this issue. Where Dilation and Extraction is performed without inducing partial birth then it has the potential to be just as safe for the mother.'}, vector=None, shard_key=None, order_value=None),\n",
       " ScoredPoint(id=2442, version=19, score=0.38509426, payload={'doc_id': 'test-religion-frghbbgi-con01a', 'title': 'faith religion general house believes belief god irrational', 'text': 'Revealed wisdom  Godly wisdom is not the same as human wisdom and cannot be subject to the same criticism. The nature of humanity means that our ability to understand God’s wisdom is fundamentally limited; and thus arguments based on morality or science are irrelevant – what matters is that God has revealed Himself.'}, vector=None, shard_key=None, order_value=None),\n",
       " ScoredPoint(id=2439, version=19, score=0.3477339, payload={'doc_id': 'test-religion-frghbbgi-con01b', 'title': 'faith religion general house believes belief god irrational', 'text': 'This is just special pleading; firstly there is no reason to consider Godly wisdom as being beyond our capacity to comprehend; and secondly there are discernable flaws in that wisdom as it is presented in a way that humans are supposed to be able to perceive and understand.'}, vector=None, shard_key=None, order_value=None),\n",
       " ScoredPoint(id=6303, version=49, score=0.33541322, payload={'doc_id': 'training-education-eghbpsbhrt-pro02b', 'title': '', 'text': 'The temporal linking argument itself cannot be disputed, but the idea that this is what gets parents invested can again be questioned, as noted above.'}, vector=None, shard_key=None, order_value=None),\n",
       " ScoredPoint(id=7772, version=60, score=0.33407998, payload={'doc_id': 'validation-environment-ceshbwpsbpf-con03b', 'title': '', 'text': 'Both tidal and geo-thermal are untried technologies and have significant environmental implications in their own right.  It also seems highly unlikely that deploying nuclear as a ‘bridge’ technology would be anything like that, certainly the history of energy production does not suggest that industries are likely to plan for their own extinction in favour of more environmentally sensitive technologies.  This is especially true of nuclear power; it simply is not a short-term technology as the reprocessing and containment schedules are enormous. A decision to use nuclear even for a matter of decades would have implications that would run for longer than the history of human civilization to date.  Wind, by contrast, is a developed technology that has no implications for future generations.'}, vector=None, shard_key=None, order_value=None),\n",
       " ScoredPoint(id=6006, version=46, score=0.32848895, payload={'doc_id': 'training-law-phsdpww-pro02a', 'title': '', 'text': 'Could be cheaper  While budget should not be the primary concern of the justice system, The death penalty, when applied properly, can be cheaper. A lethal injection, or a few bullets, costs far less than keeping a person incarcerated for a long time, especially if they need long term health or other care in old age. The longer someone is in jail the greater the cost to the state.  The costs of the implementation of the death penalty are driven up by anti-death penalty activists using the appeals system. Since the death penalty would only be applied to the worst of the worst when there is absolute moral certainty there would be less need for extensive appeals because there would be less marginal cases.'}, vector=None, shard_key=None, order_value=None),\n",
       " ScoredPoint(id=3068, version=23, score=0.3284353, payload={'doc_id': 'training-health-ahghhwdsas-pro05a', 'title': '', 'text': 'As smokers have a higher chance of harm from surgery due to complications arising from their habit, it is more efficient to prioritize non-smokers  Failure to quit smoking before surgical procedures increases cardiac and pulmonary complications, impairs tissue healing, and is associated with more infections and other complications at the surgical site. For example, in a study of wound and other complications after hip or knee surgery, no smoker who quit beforehand developed a wound infection compared with 26% of ongoing smokers and 27% of those who only reduced tobacco use. Overall complications were reduced to 10% in those who quit smoking compared with 44% in those who continued1. This means that surgery costs more on average for smokers and is also less likely to be effective. Treating more smokers means devoting more resources for lower results. Therefore, prioritizing non-smokers, at least in certain areas of healthcare, would be beneficial to society as a whole. 1http Peters, M.J. (2007) Should smokers be refused surgery? British Medical Journal,'}, vector=None, shard_key=None, order_value=None),\n",
       " ScoredPoint(id=1219, version=9, score=0.32343665, payload={'doc_id': 'test-philosophy-elhbrd-pro03a', 'title': 'ethics life house believes right die', 'text': 'The decision to die is a deeply personal one - it is no business of the state.  Ultimately, the decision to die is a personal one, it may affect others but, clearly it has the greatest impact on the person who decides to die.  Clearly those who remain behind will have to deal with the consequences of that death and the end of their relationship with that person but, one would hope, that would be the case if she had died of natural causes at a later date. Furthermore the experience of watching someone die can by as traumatic, or more so, for the carer or loved one than it is for the individual concerned.  What it clearly is not, is an issue for legislators and other strangers who have no connection to the person involved. There are deeply personal issues such as love, death, sex, and reproduction where we accept the state may have a role in the formal sense of preventing their abuse but otherwise should not have an opinion either way. With the right to die the state has maintained not only an opinion but a criminal sanction. This is a clear example of where the role of the state is to respect the individual and step back; legislation is far too cumbersome a tool with be used in circumstances as varied and complex as these.  Dealing with the loss of a loved one, particularly in a situation such as assisted suicide, is painful and traumatic enough for all concerned without adding to that the additional stress of a threat of criminal sanction.'}, vector=None, shard_key=None, order_value=None),\n",
       " ScoredPoint(id=3080, version=24, score=0.3225387, payload={'doc_id': 'training-health-ahghhwdsas-con03a', 'title': '', 'text': 'Denying access to healthcare for smokers will hurt the economy  Economically, the healthcare of the nation is important for maintaining a productive workforce. Do we really want to lose otherwise functional members of the workforce the first time they contract an aggravated throat infection and cannot afford, or delay for financial reasons, a simple course of antibiotics? Quite apart from productivity, as The Guardian notes, smokers in the United Kingdom also contribute over £10 billion to government coffers through the tobacco tax 1. To lose this source of revenue will do more to hurt national health services than the occasional complication in surgery granted to a smoker. Lastly, because smokers die younger than non-smokers, though they cost more per year, over their lifetime their average health costs are lower than those of longer-living, non-smokers.  1.'}, vector=None, shard_key=None, order_value=None),\n",
       " ScoredPoint(id=700, version=5, score=0.31909597, payload={'doc_id': 'test-international-miasimyhw-con02b', 'title': 'ment international africa society immigration minorities youth house would', 'text': 'Working within informal employment is better than nothing. Although debates have raised over the costs-benefits of informal employment - when considering the need for capital, money, and an income, informal employment presents a better alternative.'}, vector=None, shard_key=None, order_value=None)]"
      ]
     },
     "execution_count": 16,
     "metadata": {},
     "output_type": "execute_result"
    }
   ],
   "source": [
    "docs"
   ]
  },
  {
   "cell_type": "code",
   "execution_count": 19,
   "id": "4b6633a9-38f7-4dbc-b068-28d73d69b2ab",
   "metadata": {},
   "outputs": [],
   "source": [
    "docs = recuperar_documentos_sparsos(\"kdir_arguana\", hyde_vector[5], \"sparse_bm25\", top_k=10)"
   ]
  },
  {
   "cell_type": "code",
   "execution_count": 20,
   "id": "cdb0804a-61db-41e0-b96b-e5c3ab77f4c6",
   "metadata": {
    "scrolled": true
   },
   "outputs": [
    {
     "data": {
      "text/plain": [
       "[ScoredPoint(id=3044, version=23, score=71.016495, payload={'doc_id': 'training-health-hpessghwgt-con01a', 'title': '', 'text': 'Disastrous impact on medical trials  We need medical trials. It is important to have large groups of recruits, which can often be very difficult: a problem with the speed at which new treatments for rare diseases is the rate of recruitment (and therefore the length of time taken to complete the trial)1.  If you pass this motion, trials will face large problems with recruitment, an area where there are already sometimes shortages2: if people can get access to the drug without a) the possibility of being placed in the placebo arm or b) inconveniences of being part of a trial, there is a reduced chance of them choosing to enter the trial.  Consequently, the sample size in trials will be decreased. This will have a couple of outcomes:  First trials will take a longer time to be completed as a result of fewer volunteers and this is bad for patients currently taking the new drug as well as for future patients. This is because it will take longer to determine the safety of the drug meaning if it is dangerous those taking the drug will be taking it for longer before the danger is fully appreciated and if safe then the drug will have taken longer to get to the market than it could have. The longer the trials take to complete, the more people are forced to decide whether to take the drug in the absence of reliable information. This means that, at such a stressful time, people are effectively forced to gamble the quality of their remaining years with the hope of gaining a few more (new drugs are unlikely to be ‘miracle cures’. Rather, they are likely to extend life by driving the disease into remission).  It is important to remember that, at this stage, it has yet to be determined whether new drugs are more effective than old ones, and second, that the sorts of drugs used to treat terminal illnesses tend to come with substantial side effects. As a consequence, if many people are using a new treatment before trialling has been completed, they may be using something that is not effective and has side-effects that significantly impact the quality of the last years of their life.  Finally, the longer trials are delayed, the greater the chance that future trials will be biased by media hype ad speculation. It is both easy and profitable for media outlets to exaggerate early successes of a drug with claims and headlines such as “wonder drug”.  This is problematic because of the tendency towards confirmation bias on the part of researchers: the greater their expectation of a positive result, the more likely they are to alter data to receive that result. Note that this is not as a result of deliberate fraud or deception, but rather, the result of any number of small decisions that, cumulatively, create a large result.  1 Jenkins, John, ‘Considerations for Clinical Trial Designs’, U.S. Food and Drug Administration,   2 ‘Volunteer for research at UNClinicalStudies.org’, University of Michigan Comprehensive Cancer Center,'}, vector=None, shard_key=None, order_value=None),\n",
       " ScoredPoint(id=5528, version=43, score=70.97032, payload={'doc_id': 'training-philosophy-eppppghwe-con03a', 'title': '', 'text': 'Experienced legislators who understand the workings of the legislative system are needed for their expertise and wisdom:  The process of drafting legislation and shepherding it through the legislature often requires a delicate and practiced hand, especially when the issue under discussion is of a controversial nature. By forcing politicians out of the legislature on the basis of term limits, the depth of knowledge and experience available to the assembly is reduced, often to its serious detriment [1] . Seasoned politicians are also needed to help newcomers acclimate to the environment of the legislature; something first-time elected individuals are completely unused to. Naiveté on the part of new policymakers who are unused to the system will leave them vulnerable and exploitable. Lobbyists and special interest groups will seek to influence politicians while they develop their first impressions of life in the legislature, and will immediately capitalize upon any perceived vulnerability. Luann Ridgeway a Republican senator in the Missouri senate argues that term limits mean “we rely more on the trustworthiness of those established -- government relations individuals and staff persons -- because we have to”, [2] this would include more taking advice from the long standing lobbyists. Furthermore, legislation often requires lengthy periods of negotiation, that require not only the experienced hand of long-standing legislators, but also the continuity they offer. If legislators are constrained by term limits their time horizons are narrowed causing them to put too much emphasis on near-term, rather than long-term legislation. Clearly, term limits undermine the effective operation of government and deny the legislature an invaluable source of experience and ability.  [1] Kouser, Thad. 2004. Term Limits and the Dismantling of State LegislativeProfessionalism. Cambridge: Cambridge University Press.  [2] Coleman, Emily and Bushnel, Michael, (2009). “Legislators attribute heightened partisanship to term limits”, Missourian, 16th May 2009'}, vector=None, shard_key=None, order_value=None),\n",
       " ScoredPoint(id=3430, version=26, score=69.39786, payload={'doc_id': 'training-free-speech-debate-esdbphwlfsr-pro01a', 'title': '', 'text': 'Corporates that attempt to address social issues damage political discourse.  Corporate personhood is a challenging concept for liberal democracies. On the one hand, the legal fiction that underlies personhood enables groups of citizens to quickly and efficiently join forces to make collective grievances heard and to use weight of numbers to match the influence of wealthier individuals. However, corporations, particularly in the business context, can also be large and unaccountable organisations.  This proposition must address two issues. First, whether acts of free expression engaged in by corporations generally should benefit from the same protection as acts of expression engaged in by individuals. Second, whether there should be more scrutiny of the membership and objectives of corporations – or whether corporations should receive rights conditional on their activities.  If we follow the reasoning in the Citizens United case, which radically changed the interpretation of corporate speech rights in American law, it is clear that acts of corporate speech should benefit from a high standard of protection. Corporations can take the form of churches, trades unions or political campaigning groups [1] . The fiction of personhood allows these organisations to operate more freely, ignoring many of the bureaucratic burdens associated with partnership organisations. It also allows citizens to found non-profit making groups, such as PACs, without the risk of being made liable for the debts that those groups generate.  Profit-led corporations may be used to publish examples of free expression, without necessarily wishing to influence or misuse the ideas expressed. The publishers of political science textbooks, of annotated editions of Kapital and of Capitalism and Freedom are still profit-led businesses. In short, free speech in liberal democracies cannot be exercised effectively without the ability to disseminate speech among a large audience, and without the ability to co-operate with others in order to do so. For this reason, where a corporation is permitted to engage in free expression, the contents of its acts of expression should not be subject to restrictions that differ radically from those applied to individual acts of expression.  But what about the second issue? Natural persons are allowed- as a general rule- a broad right to free expression. This right is subject to certain caveats, but there is always a presumption that expression should be free and subject to as few limitations as possible. Should corporations benefit from the same presumption? No. The proposition side suggests that corporations’ access to constitutional free speech rights should depend on their goals, objectives and membership.  Corporations, unlike natural persons, are inflexible in their motives and influences. Free speech is preferable to conflict because it acts as a conduit for compromise, but before compromise can take place it must be possible for the participants and audience in a discussion or an exchange of views to be influenced by their opponents’ arguments. Profit-led corporations owe a very specific duty to their shareholders- the individual who support and constitute the corporation. Under the corporate-laws of almost all liberal democracies, business corporations must act in their interests, and this invariably means generating profit and increasing the value of the equity that each shareholder has in the business [2] . Because this duty is a legal one, and failure to uphold it can be cause to remove corporate decision makers (directors and executives) from their jobs and even to bring them to trial.  This behavioural imperative is absolute. Were a business corporation to announce that it would no longer operate with profit as its core priority, it would collapse [3] . Even if this process might not be inevitable in the real world, it still informs corporate culture to a significant degree. Natural persons are flexible and pragmatic; at the very least they have the potential to be so. Profit-led corporations are not. Free speech rights exercised by a profit-led corporation will always be exercised in the service of the profit motive.  [1] Citizens United v Federal Election Commission. Supreme Court of the United States, 21 January 2010. 558 US  [2] Bakan, J. “The Corporation”, Free Press, 2004  [3] “Kay needs to replace ‘shareholder value’ with ‘corporate value’.” Professor Simon Deakin. Financial times, 20 March 2012.'}, vector=None, shard_key=None, order_value=None),\n",
       " ScoredPoint(id=3786, version=29, score=68.48496, payload={'doc_id': 'training-economy-epsfhwpusss-con01a', 'title': '', 'text': 'Privatising social security will harm retirees  As Greg Anrig and Bernard Wasow of the non-partisan think tank the Century Foundation argue: \"Privatization advocates like to stress the appeal of \\'individual choice\\' and \\'personal control,\\' while assuming in their forecasts that everyone’s accounts will match the overall performance of the stock market. But… research by Princeton University economist Burton G. Malkiel found that even professional money managers over time significantly underperformed indexes of the entire market.” [1] Most people don’t have the knowledge to manage their own investments. A Securities and Exchange Commission report showed the extent of financial illiteracy for example half of adults don’t know what a stock market is, half don’t understand the purpose of diversifying investments and 45% believe it provides “a guarantee that [their] portfolio won’t suffer if the stock market falls” [2] Including all the management costs it is safe to say that growth from individual accounts will be lower than the market average.  The private sector is therefore in no better a position to make investment decisions than the state. Privatised accounts would bring their own problems. They are vulnerable to market downturns. Despite crashes the long term return from shares has always been positive. But this does not help those that hit retirement age during a period when the stock market is down. With private pensions people would be relying on luck that they retire at the right time or happened to pick winning stocks. [3]  The economist Paul Krugman has pointed out, privatizers make incredible assumptions about the likely performance of the market in order to be able to justify their claim that private accounts would outdo the current system. The price-earnings ratio would need to be around 70 to 1 by 2050. This is unrealistic and would be an immense bubble as a P/E ratio of 20 to 1 is considered more normal today. [4]  If returns are low then there the added worry that privatized social security may not beat inflation. This would mean that retiree’s pensions become worth less and less. At the moment Social Security payouts are indexed to wages, which historically have exceeded inflation so providing protection. Privatizing social security would have a big impact on those who want to remain in the system through falling tax revenues. Implementing private accounts will take 4 per-cent of the 12.4 per-cent taken from each worker’s annual pay out of the collective fund. Thus, almost a 3rd of the revenue generated by social security taxes will be removed. Drastic benefit cuts or increased taxes will have to occur even sooner, which is a recipe for disaster. [5]  It is for reasons such as these that privatization of similar social security systems has disappointed elsewhere, as Anrig and Wasow argue: \"Advocates of privatization often cite other countries, such as Chile and the United Kingdom, where the governments pushed workers into personal investment accounts to reduce the long-term obligations of their Social Security systems, as models for the United States to emulate. But the sobering experiences in those countries actually provide strong arguments against privatization. A report last year from the World Bank, once an enthusiastic privatization proponent, expressed disappointment that in Chile, and in most other Latin American countries that followed in its footsteps, “more than half of all workers [are excluded] from even a semblance of a safety net during their old age.”” [6] Therefore privatizing Social Security would actually harm retirees and undermine the entire system, and so Social Security should not be privatized.  [1] Anrig, Greg and Wasow, Bernard. \"Twelve reasons why privatizing social security is a bad idea\". The Century Foundation. 14 February 2005.   [2] Office of Investor Education and Assistance Securities and Exchange Commission, ‘The Facts on Saving and Investing’, April 1999,  pp.16-19  [3] Spitzer, Elliot. \"Can we finally kill this terrible idea?\" Slate. 4 February 2009.   [4] Spitzer, Elliot. \"Can we finally kill this terrible idea?\" Slate. 4 February 2009.   [5] Anrig, Greg and Wasow, Bernard. \"Twelve reasons why privatizing social security is a bad idea\". The Century Foundation. 14 February 2005.   [6] Anrig, Greg and Wasow, Bernard. \"Twelve reasons why privatizing social security is a bad idea\". The Century Foundation. 14 February 2005.'}, vector=None, shard_key=None, order_value=None),\n",
       " ScoredPoint(id=2930, version=22, score=66.65879, payload={'doc_id': 'training-environment-cephwcear-pro02a', 'title': '', 'text': 'The Arctic is a diverse but fragile ecosystem  Mineral extraction is not a clean process [1] and the Arctic is acknowledged as a fragile ecosystem. In addition to the pollution that using these fuels will cause elsewhere in the world, the process of extraction itself is fraught with risks. There is some destruction caused simply by the process of building and running rigs with everything running normally, but the nightmare scenario is a major spill. [2] Let’s be clear, with the best will in the world, there will be a spill; difficult and unpredictable conditions, gruelling tests for both the machinery and the engineers that manage it, and a track record that leaves a lot to be desired in far more habitable and accessible environments. There are two difficulties posed in terms of an off-shore (or below-ice in this case) spill. The first problem is that stopping the spill would be vastly more complicated logistically than anything previously attempted, making previous deep-sea containment exercises seem simple by comparison. [3]  The Exxon Valdez disaster showed the large scale damage that oil spills near the poles can have large and long lasting effects on the ecosystem; hundreds of thousands of seabirds were killed in the spill and it is estimates some habitats will take 30 years to recover. [4] Any such disaster is made much worse above the arctic circle because of the cold. Oil degrades faster in warmer waters because the metabolism of microbes that break the oil down works much more slowly in the cold arctic waters, at the same time the oil spreads out less so provides less surface area. [5] In 2010 it was reported that more than two decades after the spill there were still 23,000 gallons of relatively un-weathered oil in Prince William Sound. [6]  The second issue, as demonstrated by large scale experimentation in the 1970s is that the oil would interact with the Polar ice to affect a far larger area than would normally be the case.  At the very least, it seems sensible to have a moratorium on sub-glacial drilling until the technology is available to deal safely and securely with a spill.  [1] Bibby, N. Is Norman Baker Serious about Saving the Environment? Liberalconspiracy.org. 18 march 2012.   [2] McCarthy, Michael, The Independent. Oil exploration under the arctic could cause ‘uncontrollable’ natural disaster. 6 September 201   [3] Vidal, John, ‘Why an oil spill in Arctic waters would be devastating’, The Guardian, 22 April 2011,   [4] Williamson, David, ‘Exxon Valdez oil spill impacts lasting far longer than expected, scientists say’, UNC News Services, 18 December 2003, no.648,   [5] Atlas, Ronald M., et al., ‘Microbes &amp; Oil Spills – FAQ’, Fisheries and Oceans Canada, 22 April 2013,   [6] National Oceanic and Atmospheric Administration, ‘Intent to Prepare a Supplemental Environmental Impact Statement on the Exxon Valdez Oil Spill Trustee Council’s Restoration Efforts’, Federal Register, Vol.75., No. 14, 22 January 2010, p.3707'}, vector=None, shard_key=None, order_value=None),\n",
       " ScoredPoint(id=558, version=4, score=66.51848, payload={'doc_id': 'test-economy-thhghwhwift-pro01a', 'title': 'tax health health general healthcare weight house would implement fat tax', 'text': \"An individual's BMI is no longer a purely personal matter  The obesity epidemic is taking an enormous toll on global medical costs. In the US alone the health care costs attributable to either direct or indirect consequences of obesity have been estimated at $147bn. [1] Put into context, this amounts to roughly 9% of the health spending in the US. [2]  The figure might seem excessive, but we need to remember that obesity is linked to Type 2 Diabetes, several kinds of cancer, coronary artery disease, stroke, congestive heart failure, asthma, chronic back pain and hypertension, to name just a few.  We also need to realize that many of the diseases on this list are chronic in nature, requiring lifelong pharmacological therapy, which often follows complex and expensive diagnostic procedures, frequent medical specialist consultations, and not infrequent emergency interventions. [3]  Adding to the list is the value of income lost due to decreased productivity, restricted activity, and absenteeism, not to mention the value of future income lost by premature death.  Thus it becomes increasingly clear that due to the substantial cost obesity presents to the society, individual choices that might lead to excessive weight gain, can no longer be considered as solely individual in nature. [4]  Therefore the government is legitimate in its action to introduce a form of a fat tax in order to try to dissuade the population from becoming obese and cover the increasing societal costs the already obese individuals are responsible for.  [1] CDC, Obesity: Economic Consequences, published 3/28/2011,  , accessed 9/12/2011  [2] RTI international, Obesity Costs U.S. About $147 Billion Annually, Study Finds, published 7/27/2009,  , accessed 9/14/2011  [3] The Council of State Governments, Costs of Chronic Diseases: What Are States Facing?, published in 2006,  , accessed, 9/14/2011  [4] Los Angeles Times, Should there be a 'fat tax'?, published 4/11/2011,  , accessed 9/12/2011\"}, vector=None, shard_key=None, order_value=None),\n",
       " ScoredPoint(id=3431, version=26, score=66.287544, payload={'doc_id': 'training-free-speech-debate-esdbphwlfsr-pro01b', 'title': '', 'text': 'The proposition side have resurrected an old legal mechanism that was of limited use in order to defend an inaccurate and polarising interpretation of corporate rights.  The proposition argues that the actions and behaviour of profit making business corporations will always be guided by the profit motive and that, for this reason, corporations will never be able to contribute to the accommodations and compromises that free speech is used to foster. In plainer terms, side proposition see corporations as being inherently deceptive and untrustworthy.  The proposition side have failed to consider that it is possible for corporations to function within free markets, and to participate fully in capitalist democracies, without being bound to a single minded pursuit of profit.  Corporations have now recognised that the growth and maintenance of profits in the long term can often best be served by under-emphasising profit in the short term. Corporations have become increasingly conscious of the effects that their activities have on the societies that they operate in. Ostensibly profitable actions that undermine the cohesiveness of communities, make enemies of politicians or, ultimately, create less stable market conditions will not contribute to the long-term health of the corporation. Indeed, long term planning and long term impact is more important to corporations as they exist in perpetuity. Unlike natural persons, corporations will never die.  The profit motive is no longer the primary driving force behind corporate activity. There is little need for the state to take drastic steps to curtail corporations’ freedoms , because the behavioural imperative that the proposition side objects to is no longer the central priority of businesses operating in liberal democracies.  Another way to address this problem is to adopt the perspective of NPR columnist Bradley Smith. Smith correctly observes that states, including the USA, may grant rights to individuals and that those rights may be exercised under certain circumstances that the state prescribes. An individual can, for example, exercise a right to receive income support, or can obtain a right to drive a car by passing a driving test. Similarly, corporate persons have been granted a certain body of rights by the state [1] . The individuals that band together as a corporation have the right to limit their liability for the corporations losses; to have the corporation treated as a single person and to benefit (in the US at least) from similar rights to due process and freedom from discrimination.  Simply because a corporation is granted certain rights by the state that improve the efficiency of its operations and the financial position of its members, this does not mean that it should lose its right to speak freely.  In a liberal democracy, rights are not traded, hedged and swapped by states and citizens. Nor do constitutional rights exist in a hierarchy. Rights are incommensurate, because they can be applied in a wide variety of ways to defend a wide variety of causes. The right to speech are persuasion must always remain flexible because different audiences and different groups respond to different arguments. There is nothing dishonest in a company choosing the most persuasive manner of speech that it can find in order to defend its own interests.  [1] “Corporations are people, too”. National Public Radio online, 10 September 2009.'}, vector=None, shard_key=None, order_value=None),\n",
       " ScoredPoint(id=3191, version=24, score=65.601234, payload={'doc_id': 'training-health-bhhghwapc-pro03a', 'title': '', 'text': 'Advertising will enable patients to get better treatment earlier in their illnesses  Advertisements—especially those that identify symptoms—can lead to a healthier citizenry, as consumers become aware of their diseases earlier, and can thus find the drug that targets their problem at an earlier stage. Many drugs can prevent or reduce the likelihood of a patient requiring surgery (for instance anti-cholesterol drugs can reduce the buildup of atheroma in blood vessels, which cause cardiovascular heart disease and strokes, thus reducing the likelihood of a heart bypass being required and improving any post-stroke rehabilitation). This not only saves money but is also better for patients. Surgery involves the risk of complications as well as taking time both directly and in post-operation rehabilitation.  Also many degenerative conditions can be best treated by early intervention; if patients are aware of the drugs that are available at an early stage they are more likely to take them, thereby increasing their standard of living and reducing their long-term cost to state or private health cover providers.'}, vector=None, shard_key=None, order_value=None),\n",
       " ScoredPoint(id=3186, version=24, score=64.66551, payload={'doc_id': 'training-health-bhhghwapc-pro02a', 'title': '', 'text': 'Patients will be better informed than under the status quo  Advertising prescription drugs enables patients to learn, and to request innovation faster in order to benefit from the new drugs that health personnel still have not gotten used to.  Advertising increases consumer awareness of drugs, which makes consumers more likely to take appropriate medication. The drugs market is complex and so advertising can help explain the differences between treatments, for example between contraceptive pills intended to reduce period pain, period flow and those simply to prevent pregnancy.  Advertising under current rules is used to inform patients of new drugs which may be appropriate for conditions which they suffer from (such as recent asthma drugs which reduce the frequency of attacks), but which their doctor might overlook or not have the time to crosscheck against her list of patients. [1]  56% of AMA general practitioners believed that direct-to-consumer advertising had prompted some of their patients to seek treatment for a condition which would have otherwise been neglected. [2] If a patient has taken the time to actively consider a particular drug and then visits their doctor, whether they are prescribed it or not, they are building up a positive relationship with their doctor and are more likely to continue to take an active interest in their health.  Further on, in states where there is no direct to consumer advertising but there is advertising to doctors, patients are disadvantaged because it is in the interest for private medical insurance firms or national health services to keep information about expensive new drugs from patients.  In the UK it was because of cost that the Primary Care Trusts (PCTs) refused to allow the prescription of Herceptin, a drug which US studies have shown reduces the damage done by breast cancer. Ultimately pressure from Roche, the drug’s manufacturer and from patients resulted in the drug being authorized for use, but the process was much faster in the US where Roche could run advertisements alerting consumers to the potential benefits of Herceptin, and thereby immediately giving patients access to a similar level of information as their doctors and allowing them to push for its authorization.  [1] Patient View – for improving patient care, Information on prescription medicines: the views of EU-based patient groups,  , accessed 08/07/2011  [2] Lyles A., Direct Marketing of Pharmaceuticals to Consumers, Annual Review of Public Health, published May 2002,  , accessed 08/08/2011'}, vector=None, shard_key=None, order_value=None),\n",
       " ScoredPoint(id=3031, version=23, score=63.0679, payload={'doc_id': 'training-health-hgwhwbutffs-con01a', 'title': '', 'text': \"Trans fats are not uniquely unhealthy  The issue with trans-fat is that there is no better substitute. The fact is that the substitutes are also as bad, if not worse, than trans-fat itself. By banning trans-fat, restaurants will have to adopt these substitute substances, thus undermining the work of the government. This process is a waste of our resources as the government will have to spend huge amount of money to bring about a ban on trans-fat without getting any positive outcome.  The trans-fat ban would only have clear benefits if it were to cause a general reduction in the overconsumption of high-fat foods, but a restaurant ban on one ingredient will not achieve this. This will mean that money will be wasted as increased costs will be passed on to the consumer while there is no benefit.(8) Trans fats are not uniquely and excessively unhealthy. Sugar is unhealthy. Salt is unhealthy. Runny eggs, rare meat, processed flour, nearly anything consumed too frequently or excessively is potentially dangerous. We would not ban these foods because they are unhealthy so the same should apply to trans fats.  The current obesity crisis within the US is not the result of regulatory failure and will not be solved by a ban on trans fats. Better choices, better parenting, exercise and personal restraint are the keys. None of these behavioural traits can be mandated by government.(9) Even if trans fats were eliminated from food products, overall a ban would do nothing to help individuals develop healthy lifestyles. While the ban would curtail consumption of onion rings (if they were cooked in trans fats), for example, it would remain perfectly legal to gorge oneself on Häagen-Dazs or chocolate, both unhealthy foods that contain no trans-fat.(10)  The main alternatives to trans-fat is not even that much healthier. In most cases, food makers will move to saturated fat, which carries all of the same health risks, for example it has been linked to diabetes and cancer.(9) The ban is therefore unlikely to have a perceptible effect on public health.  Trans-fats actually serve two useful purposes. Firstly, trans fats serve an important function of extending the shelf life of products.(1) This is necessary for both producers and consumers as it makes producing these foods cheaper and reduces waste. It also means that consumers are less likely to consume spoiled food and become sick as a result. Secondly, trans fats are tasty and offer enjoyment to consumers. Trans fats keep foods from turning rancid on store shelves; give croissants their flakiness, keep muffins moist and satisfy the sweet tooth. The enjoyment of such tasty foods has a qualitative value to one's emotions and happiness.(3) Therefore trans fats are not uniquely unhealthy and a ban would not improve general public health -it would simply remove a useful and tasty substance from the market. Thus a ban is unjustified.\"}, vector=None, shard_key=None, order_value=None)]"
      ]
     },
     "execution_count": 20,
     "metadata": {},
     "output_type": "execute_result"
    }
   ],
   "source": [
    "docs"
   ]
  },
  {
   "cell_type": "code",
   "execution_count": null,
   "id": "60ea2ffc-3fbf-4bf0-83ba-21f47e5f42ce",
   "metadata": {},
   "outputs": [],
   "source": []
  }
 ],
 "metadata": {
  "kernelspec": {
   "display_name": "Python 3 (ipykernel)",
   "language": "python",
   "name": "python3"
  },
  "language_info": {
   "codemirror_mode": {
    "name": "ipython",
    "version": 3
   },
   "file_extension": ".py",
   "mimetype": "text/x-python",
   "name": "python",
   "nbconvert_exporter": "python",
   "pygments_lexer": "ipython3",
   "version": "3.10.14"
  }
 },
 "nbformat": 4,
 "nbformat_minor": 5
}
