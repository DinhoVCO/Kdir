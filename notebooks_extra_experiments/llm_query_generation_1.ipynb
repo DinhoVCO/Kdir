{
 "cells": [
  {
   "cell_type": "markdown",
   "id": "ca287872",
   "metadata": {},
   "source": [
    "# Input Prompt for RFG \n",
    "\n",
    "We generate the input prompt to create the pseudo-documents, pseudo-queries, and pseudo-responses."
   ]
  },
  {
   "cell_type": "code",
   "execution_count": 1,
   "id": "f1b01385",
   "metadata": {},
   "outputs": [
    {
     "name": "stderr",
     "output_type": "stream",
     "text": [
      "/local1/ronaldinho/enviroments/env_kdir/lib/python3.10/site-packages/beir/util.py:11: TqdmExperimentalWarning: Using `tqdm.autonotebook.tqdm` in notebook mode. Use `tqdm.tqdm` instead to force console mode (e.g. in jupyter console)\n",
      "  from tqdm.autonotebook import tqdm\n"
     ]
    }
   ],
   "source": [
    "from kdir_src.utils.evaluate_tokens import get_input_prompt_fire_bge"
   ]
  },
  {
   "cell_type": "code",
   "execution_count": 2,
   "id": "65f54215",
   "metadata": {},
   "outputs": [
    {
     "name": "stdout",
     "output_type": "stream",
     "text": [
      "Loading contriever...\n",
      "Loading contriever FT...\n",
      "Loading question dpr...\n"
     ]
    },
    {
     "name": "stderr",
     "output_type": "stream",
     "text": [
      "Some weights of the model checkpoint at facebook/dpr-question_encoder-single-nq-base were not used when initializing DPRQuestionEncoder: ['question_encoder.bert_model.pooler.dense.bias', 'question_encoder.bert_model.pooler.dense.weight']\n",
      "- This IS expected if you are initializing DPRQuestionEncoder from the checkpoint of a model trained on another task or with another architecture (e.g. initializing a BertForSequenceClassification model from a BertForPreTraining model).\n",
      "- This IS NOT expected if you are initializing DPRQuestionEncoder from the checkpoint of a model that you expect to be exactly identical (initializing a BertForSequenceClassification model from a BertForSequenceClassification model).\n",
      "The tokenizer class you load from this checkpoint is not the same type as the class this function is called from. It may result in unexpected tokenization. \n",
      "The tokenizer class you load from this checkpoint is 'DPRQuestionEncoderTokenizer'. \n",
      "The class this function is called from is 'DPRContextEncoderTokenizer'.\n"
     ]
    },
    {
     "name": "stdout",
     "output_type": "stream",
     "text": [
      "Loading context dpr...\n"
     ]
    },
    {
     "name": "stderr",
     "output_type": "stream",
     "text": [
      "Some weights of the model checkpoint at facebook/dpr-ctx_encoder-single-nq-base were not used when initializing DPRContextEncoder: ['ctx_encoder.bert_model.pooler.dense.bias', 'ctx_encoder.bert_model.pooler.dense.weight']\n",
      "- This IS expected if you are initializing DPRContextEncoder from the checkpoint of a model trained on another task or with another architecture (e.g. initializing a BertForSequenceClassification model from a BertForPreTraining model).\n",
      "- This IS NOT expected if you are initializing DPRContextEncoder from the checkpoint of a model that you expect to be exactly identical (initializing a BertForSequenceClassification model from a BertForSequenceClassification model).\n"
     ]
    },
    {
     "name": "stdout",
     "output_type": "stream",
     "text": [
      "Loading bge large...\n",
      "Loading gte large...\n",
      "Loading bm25...\n"
     ]
    },
    {
     "data": {
      "application/vnd.jupyter.widget-view+json": {
       "model_id": "d5c45b75e0534a1881da6a9f17144ea8",
       "version_major": 2,
       "version_minor": 0
      },
      "text/plain": [
       "  0%|          | 0/3633 [00:00<?, ?it/s]"
      ]
     },
     "metadata": {},
     "output_type": "display_data"
    },
    {
     "name": "stderr",
     "output_type": "stream",
     "text": [
      "Procesando queries: 100%|██████████| 323/323 [00:00<00:00, 2356104.68it/s]\n",
      "Procesando contriever...: 100%|██████████| 11/11 [00:00<00:00, 29.06batch/s]\n",
      "Procesando contriever...: 100%|██████████| 11/11 [00:00<00:00, 105.83batch/s]\n",
      "Procesando dpr...: 100%|██████████| 11/11 [00:00<00:00, 81.05batch/s]\n"
     ]
    },
    {
     "data": {
      "application/vnd.jupyter.widget-view+json": {
       "model_id": "9dfc5fe630f6428d9112863b48cb4a69",
       "version_major": 2,
       "version_minor": 0
      },
      "text/plain": [
       "Batches:   0%|          | 0/11 [00:00<?, ?it/s]"
      ]
     },
     "metadata": {},
     "output_type": "display_data"
    },
    {
     "data": {
      "application/vnd.jupyter.widget-view+json": {
       "model_id": "8cf70fc2ae214adeaf0060eb2b74e8a9",
       "version_major": 2,
       "version_minor": 0
      },
      "text/plain": [
       "Batches:   0%|          | 0/11 [00:00<?, ?it/s]"
      ]
     },
     "metadata": {},
     "output_type": "display_data"
    },
    {
     "name": "stdout",
     "output_type": "stream",
     "text": [
      "Procesando BM25 embeddings\n",
      "Embeddings finalizado\n"
     ]
    },
    {
     "name": "stderr",
     "output_type": "stream",
     "text": [
      "obteniendo rel_docs contriever: 323it [00:00, 342.90it/s]\n",
      "obteniendo rel_docs contriever_ft: 323it [00:00, 346.63it/s]\n",
      "obteniendo rel_docs dpr: 323it [00:00, 346.92it/s]\n",
      "obteniendo rel_docs bge_large: 323it [00:01, 298.44it/s]\n",
      "obteniendo rel_docs gte_large: 323it [00:01, 298.95it/s]\n",
      "obteniendo rel_docs sparse_bm25: 323it [00:00, 685.05it/s]\n",
      "Processing queries (generate or skip): 323it [00:00, 34730.32it/s]\n"
     ]
    },
    {
     "name": "stdout",
     "output_type": "stream",
     "text": [
      "✅ Resultados guardados exitosamente en: ../input_prompt/fire/\n"
     ]
    }
   ],
   "source": [
    "get_input_prompt_fire_bge('nfcorpus','../input_prompt/fire/')"
   ]
  },
  {
   "cell_type": "markdown",
   "id": "f2878213",
   "metadata": {},
   "source": [
    "# Generation  RFG\n",
    "Generation of different queries with different LLMs"
   ]
  },
  {
   "cell_type": "markdown",
   "id": "2e215031",
   "metadata": {},
   "source": [
    "## OpenAi Models"
   ]
  },
  {
   "cell_type": "markdown",
   "id": "01c0f8f8",
   "metadata": {},
   "source": [
    "### GPt 3.5"
   ]
  },
  {
   "cell_type": "code",
   "execution_count": 2,
   "id": "1339e796",
   "metadata": {},
   "outputs": [],
   "source": [
    "from kdir_src.generators.open_ai import OpenAIGenerator\n",
    "from kdir_src.fire.Fire import Fire\n",
    "from kdir_src.fire.promptor_fire import Promptor_fire"
   ]
  },
  {
   "cell_type": "code",
   "execution_count": 3,
   "id": "18f349e2",
   "metadata": {},
   "outputs": [],
   "source": [
    "dataset_name='nfcorpus'\n",
    "promptor = Promptor_fire(dataset_name)\n",
    "generator = OpenAIGenerator('gpt-35-turbo-petrobras', 1, 512, 0.0)\n",
    "fire_rag = Fire(dataset_name, promptor, generator, None)"
   ]
  },
  {
   "cell_type": "code",
   "execution_count": 4,
   "id": "4c051c44",
   "metadata": {},
   "outputs": [
    {
     "name": "stderr",
     "output_type": "stream",
     "text": [
      "  0%|          | 0/3633 [00:00<?, ?it/s]"
     ]
    },
    {
     "name": "stderr",
     "output_type": "stream",
     "text": [
      "100%|██████████| 3633/3633 [00:00<00:00, 34855.63it/s]\n",
      "Procesando queries: 100%|██████████| 323/323 [00:00<?, ?it/s]\n"
     ]
    },
    {
     "name": "stdout",
     "output_type": "stream",
     "text": [
      "Found 0 previously generated documents in '../doc_gen/fire/openai/bge_large/gpt-35_generated_documents_nfcorpus.jsonl'.\n"
     ]
    },
    {
     "name": "stderr",
     "output_type": "stream",
     "text": [
      "Processing queries (generate or skip): 323it [07:11,  1.34s/it]"
     ]
    },
    {
     "name": "stdout",
     "output_type": "stream",
     "text": [
      "Document generation complete. Results saved in: ../doc_gen/fire/openai/bge_large/gpt-35_generated_documents_nfcorpus.jsonl\n"
     ]
    },
    {
     "name": "stderr",
     "output_type": "stream",
     "text": [
      "\n"
     ]
    }
   ],
   "source": [
    "# \"gpt-4o-petrobras\",\"gpt-35-turbo-petrobras\"\n",
    "fire_rag.generate_openai_doc_and_save_prf('gpt-35','../input_prompt/fire/input_prompt.json','../doc_gen/fire/openai/')"
   ]
  },
  {
   "cell_type": "markdown",
   "id": "599e5588",
   "metadata": {},
   "source": [
    "### gpt-4o"
   ]
  },
  {
   "cell_type": "code",
   "execution_count": 5,
   "id": "821e5438",
   "metadata": {},
   "outputs": [],
   "source": [
    "from kdir_src.generators.open_ai import OpenAIGenerator\n",
    "from kdir_src.fire.Fire import Fire\n",
    "from kdir_src.fire.promptor_fire import Promptor_fire"
   ]
  },
  {
   "cell_type": "code",
   "execution_count": 6,
   "id": "4b08dea1",
   "metadata": {},
   "outputs": [],
   "source": [
    "dataset_name='nfcorpus'\n",
    "promptor = Promptor_fire(dataset_name)\n",
    "generator = OpenAIGenerator('gpt-4o-petrobras', 1, 512, 0.0)\n",
    "fire_rag = Fire(dataset_name, promptor, generator, None)"
   ]
  },
  {
   "cell_type": "code",
   "execution_count": 7,
   "id": "f3e4e03f",
   "metadata": {},
   "outputs": [
    {
     "name": "stderr",
     "output_type": "stream",
     "text": [
      "100%|██████████| 3633/3633 [00:00<00:00, 75168.00it/s]\n",
      "Procesando queries: 100%|██████████| 323/323 [00:00<00:00, 323331.79it/s]\n"
     ]
    },
    {
     "name": "stdout",
     "output_type": "stream",
     "text": [
      "Found 0 previously generated documents in '../doc_gen/fire/openai/bge_large/gpt-4o_generated_documents_nfcorpus.jsonl'.\n"
     ]
    },
    {
     "name": "stderr",
     "output_type": "stream",
     "text": [
      "Processing queries (generate or skip): 323it [15:21,  2.85s/it]"
     ]
    },
    {
     "name": "stdout",
     "output_type": "stream",
     "text": [
      "Document generation complete. Results saved in: ../doc_gen/fire/openai/bge_large/gpt-4o_generated_documents_nfcorpus.jsonl\n"
     ]
    },
    {
     "name": "stderr",
     "output_type": "stream",
     "text": [
      "\n"
     ]
    }
   ],
   "source": [
    "fire_rag.generate_openai_doc_and_save_prf('gpt-4o','../input_prompt/fire/input_prompt.json','../doc_gen/fire/openai/')"
   ]
  },
  {
   "cell_type": "markdown",
   "id": "ec8566f8",
   "metadata": {},
   "source": [
    "## Mistral Large"
   ]
  },
  {
   "cell_type": "code",
   "execution_count": 1,
   "id": "5b55f5e3",
   "metadata": {},
   "outputs": [
    {
     "name": "stderr",
     "output_type": "stream",
     "text": [
      "c:\\Users\\FXO0\\AppData\\Local\\miniforge3\\envs\\kdir_envi\\lib\\site-packages\\beir\\util.py:11: TqdmWarning: IProgress not found. Please update jupyter and ipywidgets. See https://ipywidgets.readthedocs.io/en/stable/user_install.html\n",
      "  from tqdm.autonotebook import tqdm\n"
     ]
    }
   ],
   "source": [
    "from kdir_src.generators.lite_llm import LiteLLMGenerator\n",
    "from kdir_src.fire.Fire import Fire\n",
    "from kdir_src.fire.promptor_fire import Promptor_fire"
   ]
  },
  {
   "cell_type": "code",
   "execution_count": null,
   "id": "689231f1",
   "metadata": {},
   "outputs": [],
   "source": [
    "dataset_name='nfcorpus'\n",
    "promptor = Promptor_fire(dataset_name)\n",
    "generator = LiteLLMGenerator('mistral-large', 1, 512, 0.0)\n",
    "fire_rag = Fire(dataset_name, promptor, generator, None)"
   ]
  },
  {
   "cell_type": "code",
   "execution_count": 3,
   "id": "5b6b9d9a",
   "metadata": {},
   "outputs": [
    {
     "name": "stderr",
     "output_type": "stream",
     "text": [
      "100%|██████████| 3633/3633 [00:00<00:00, 75450.49it/s]\n",
      "Procesando queries: 100%|██████████| 323/323 [00:00<?, ?it/s]\n"
     ]
    },
    {
     "name": "stdout",
     "output_type": "stream",
     "text": [
      "Found 0 previously generated documents in '../doc_gen/fire/mistral_l/bge_large/mistral_l_generated_documents_nfcorpus.jsonl'.\n"
     ]
    },
    {
     "name": "stderr",
     "output_type": "stream",
     "text": [
      "Processing queries (generate or skip): 323it [44:51,  8.33s/it]"
     ]
    },
    {
     "name": "stdout",
     "output_type": "stream",
     "text": [
      "Document generation complete. Results saved in: ../doc_gen/fire/mistral_l/bge_large/mistral_l_generated_documents_nfcorpus.jsonl\n"
     ]
    },
    {
     "name": "stderr",
     "output_type": "stream",
     "text": [
      "\n"
     ]
    }
   ],
   "source": [
    "fire_rag.generate_openai_doc_and_save_prf('mistral_l','../input_prompt/fire/input_prompt.json','../doc_gen/fire/mistral_l/')"
   ]
  },
  {
   "cell_type": "markdown",
   "id": "3d213caa",
   "metadata": {},
   "source": [
    "## deepseek-r1-v1"
   ]
  },
  {
   "cell_type": "code",
   "execution_count": 1,
   "id": "aa2828d9",
   "metadata": {},
   "outputs": [
    {
     "name": "stderr",
     "output_type": "stream",
     "text": [
      "c:\\Users\\FXO0\\AppData\\Local\\miniforge3\\envs\\kdir_envi\\lib\\site-packages\\beir\\util.py:11: TqdmWarning: IProgress not found. Please update jupyter and ipywidgets. See https://ipywidgets.readthedocs.io/en/stable/user_install.html\n",
      "  from tqdm.autonotebook import tqdm\n"
     ]
    }
   ],
   "source": [
    "from kdir_src.generators.lite_llm import LiteLLMGenerator\n",
    "from kdir_src.fire.Fire import Fire\n",
    "from kdir_src.fire.promptor_fire import Promptor_fire"
   ]
  },
  {
   "cell_type": "code",
   "execution_count": 2,
   "id": "0b0cc24f",
   "metadata": {},
   "outputs": [],
   "source": [
    "dataset_name='nfcorpus'\n",
    "model='deepseek-r1-v1'\n",
    "promptor = Promptor_fire(dataset_name)\n",
    "generator = LiteLLMGenerator(model, 1, 512, 0.0)\n",
    "fire_rag = Fire(dataset_name, promptor, generator, None)"
   ]
  },
  {
   "cell_type": "code",
   "execution_count": 3,
   "id": "bd7a179b",
   "metadata": {},
   "outputs": [
    {
     "name": "stderr",
     "output_type": "stream",
     "text": [
      "100%|██████████| 3633/3633 [00:00<00:00, 72237.08it/s]\n",
      "Procesando queries: 100%|██████████| 323/323 [00:00<?, ?it/s]\n"
     ]
    },
    {
     "name": "stdout",
     "output_type": "stream",
     "text": [
      "Found 0 previously generated documents in '../doc_gen/fire/deepseek-r1-v1/bge_large/deepseek-r1-v1_generated_documents_nfcorpus.jsonl'.\n"
     ]
    },
    {
     "name": "stderr",
     "output_type": "stream",
     "text": [
      "Processing queries (generate or skip): 323it [21:15,  3.95s/it]"
     ]
    },
    {
     "name": "stdout",
     "output_type": "stream",
     "text": [
      "Document generation complete. Results saved in: ../doc_gen/fire/deepseek-r1-v1/bge_large/deepseek-r1-v1_generated_documents_nfcorpus.jsonl\n"
     ]
    },
    {
     "name": "stderr",
     "output_type": "stream",
     "text": [
      "\n"
     ]
    }
   ],
   "source": [
    "fire_rag.generate_openai_doc_and_save_prf(model,'../input_prompt/fire/input_prompt.json',f'../doc_gen/fire/{model}/')"
   ]
  },
  {
   "cell_type": "markdown",
   "id": "8a9ff64e",
   "metadata": {},
   "source": [
    "## Pequeños modelos"
   ]
  },
  {
   "cell_type": "markdown",
   "id": "4ab3a6a5",
   "metadata": {},
   "source": [
    "### O4-mini"
   ]
  },
  {
   "cell_type": "code",
   "execution_count": 1,
   "id": "f32f59d4",
   "metadata": {},
   "outputs": [
    {
     "name": "stderr",
     "output_type": "stream",
     "text": [
      "c:\\Users\\FXO0\\AppData\\Local\\miniforge3\\envs\\kdir_envi\\lib\\site-packages\\beir\\util.py:11: TqdmWarning: IProgress not found. Please update jupyter and ipywidgets. See https://ipywidgets.readthedocs.io/en/stable/user_install.html\n",
      "  from tqdm.autonotebook import tqdm\n"
     ]
    }
   ],
   "source": [
    "from kdir_src.generators.lite_llm import LiteLLMGenerator\n",
    "from kdir_src.fire.Fire import Fire\n",
    "from kdir_src.fire.promptor_fire import Promptor_fire"
   ]
  },
  {
   "cell_type": "code",
   "execution_count": 2,
   "id": "544181f9",
   "metadata": {},
   "outputs": [],
   "source": [
    "dataset_name='nfcorpus'\n",
    "model='o4-mini'\n",
    "promptor = Promptor_fire(dataset_name)\n",
    "generator = LiteLLMGenerator(model, 1, 512, 0.0)\n",
    "fire_rag = Fire(dataset_name, promptor, generator, None)"
   ]
  },
  {
   "cell_type": "code",
   "execution_count": null,
   "id": "36b82c71",
   "metadata": {},
   "outputs": [
    {
     "name": "stderr",
     "output_type": "stream",
     "text": [
      "  0%|          | 0/3633 [00:00<?, ?it/s]"
     ]
    },
    {
     "name": "stderr",
     "output_type": "stream",
     "text": [
      "100%|██████████| 3633/3633 [00:00<00:00, 68595.65it/s]\n",
      "Procesando queries: 100%|██████████| 323/323 [00:00<?, ?it/s]\n"
     ]
    },
    {
     "name": "stdout",
     "output_type": "stream",
     "text": [
      "Found 0 previously generated documents in '../doc_gen/fire/o4-mini/bge_large/o4-mini_generated_documents_nfcorpus.jsonl'.\n"
     ]
    },
    {
     "name": "stderr",
     "output_type": "stream",
     "text": [
      "Processing queries (generate or skip): 174it [14:05,  5.47s/it]"
     ]
    }
   ],
   "source": [
    "fire_rag.generate_openai_doc_and_save_prf(model,'../input_prompt/fire/input_prompt.json',f'../doc_gen/fire/{model}/')"
   ]
  },
  {
   "cell_type": "markdown",
   "id": "170dea12",
   "metadata": {},
   "source": [
    "### llama3-2-3b-instruct-v1"
   ]
  },
  {
   "cell_type": "code",
   "execution_count": null,
   "id": "f1325244",
   "metadata": {},
   "outputs": [],
   "source": [
    "from kdir_src.generators.lite_llm import LiteLLMGenerator\n",
    "from kdir_src.fire.Fire import Fire\n",
    "from kdir_src.fire.promptor_fire import Promptor_fire"
   ]
  },
  {
   "cell_type": "code",
   "execution_count": null,
   "id": "73c7214f",
   "metadata": {},
   "outputs": [],
   "source": [
    "dataset_name='nfcorpus'\n",
    "model='llama3-2-3b-instruct-v1'\n",
    "promptor = Promptor_fire(dataset_name)\n",
    "generator = LiteLLMGenerator(model, 1, 512, 0.0)\n",
    "fire_rag = Fire(dataset_name, promptor, generator, None)"
   ]
  },
  {
   "cell_type": "code",
   "execution_count": null,
   "id": "4211c679",
   "metadata": {},
   "outputs": [],
   "source": [
    "fire_rag.generate_openai_doc_and_save_prf(model,'../input_prompt/fire/input_prompt.json',f'../doc_gen/fire/{model}/')"
   ]
  },
  {
   "cell_type": "markdown",
   "id": "87ceebc3",
   "metadata": {},
   "source": [
    "## Command-r-plus"
   ]
  },
  {
   "cell_type": "code",
   "execution_count": 1,
   "id": "7f85a459",
   "metadata": {},
   "outputs": [
    {
     "name": "stderr",
     "output_type": "stream",
     "text": [
      "c:\\Users\\FXO0\\AppData\\Local\\miniforge3\\envs\\kdir_envi\\lib\\site-packages\\beir\\util.py:11: TqdmWarning: IProgress not found. Please update jupyter and ipywidgets. See https://ipywidgets.readthedocs.io/en/stable/user_install.html\n",
      "  from tqdm.autonotebook import tqdm\n",
      "100%|██████████| 3633/3633 [00:00<00:00, 73981.19it/s]\n",
      "Procesando queries: 100%|██████████| 323/323 [00:00<?, ?it/s]\n"
     ]
    },
    {
     "name": "stdout",
     "output_type": "stream",
     "text": [
      "Found 0 previously generated documents in '../doc_gen/fire/command-r-plus/bge_large/command-r-plus_generated_documents_nfcorpus.jsonl'.\n"
     ]
    },
    {
     "name": "stderr",
     "output_type": "stream",
     "text": [
      "Processing queries (generate or skip): 323it [32:33,  6.05s/it]"
     ]
    },
    {
     "name": "stdout",
     "output_type": "stream",
     "text": [
      "Document generation complete. Results saved in: ../doc_gen/fire/command-r-plus/bge_large/command-r-plus_generated_documents_nfcorpus.jsonl\n"
     ]
    },
    {
     "name": "stderr",
     "output_type": "stream",
     "text": [
      "\n"
     ]
    }
   ],
   "source": [
    "from kdir_src.generators.lite_llm import LiteLLMGenerator\n",
    "from kdir_src.fire.Fire import Fire\n",
    "from kdir_src.fire.promptor_fire import Promptor_fire\n",
    "dataset_name='nfcorpus'\n",
    "model='command-r-plus'\n",
    "promptor = Promptor_fire(dataset_name)\n",
    "generator = LiteLLMGenerator(model, 1, 512, 0.0)\n",
    "fire_rag = Fire(dataset_name, promptor, generator, None)\n",
    "fire_rag.generate_openai_doc_and_save_prf(model,'../input_prompt/fire/input_prompt.json',f'../doc_gen/fire/{model}/')"
   ]
  },
  {
   "cell_type": "markdown",
   "id": "18781ee8",
   "metadata": {},
   "source": [
    "## Command R"
   ]
  },
  {
   "cell_type": "code",
   "execution_count": 2,
   "id": "3ce51d73",
   "metadata": {},
   "outputs": [
    {
     "name": "stderr",
     "output_type": "stream",
     "text": [
      "100%|██████████| 3633/3633 [00:00<00:00, 21114.70it/s]\n",
      "Procesando queries: 100%|██████████| 323/323 [00:00<?, ?it/s]\n"
     ]
    },
    {
     "name": "stdout",
     "output_type": "stream",
     "text": [
      "Found 0 previously generated documents in '../doc_gen/fire/command-r/bge_large/command-r_generated_documents_nfcorpus.jsonl'.\n"
     ]
    },
    {
     "name": "stderr",
     "output_type": "stream",
     "text": [
      "Processing queries (generate or skip): 323it [09:43,  1.81s/it]"
     ]
    },
    {
     "name": "stdout",
     "output_type": "stream",
     "text": [
      "Document generation complete. Results saved in: ../doc_gen/fire/command-r/bge_large/command-r_generated_documents_nfcorpus.jsonl\n"
     ]
    },
    {
     "name": "stderr",
     "output_type": "stream",
     "text": [
      "\n"
     ]
    }
   ],
   "source": [
    "from kdir_src.generators.lite_llm import LiteLLMGenerator\n",
    "from kdir_src.fire.Fire import Fire\n",
    "from kdir_src.fire.promptor_fire import Promptor_fire\n",
    "dataset_name='nfcorpus'\n",
    "model='command-r'\n",
    "promptor = Promptor_fire(dataset_name)\n",
    "generator = LiteLLMGenerator(model, 1, 512, 0.0)\n",
    "fire_rag = Fire(dataset_name, promptor, generator, None)\n",
    "fire_rag.generate_openai_doc_and_save_prf(model,'../input_prompt/fire/input_prompt.json',f'../doc_gen/fire/{model}/')"
   ]
  },
  {
   "cell_type": "markdown",
   "id": "9931ceb2",
   "metadata": {},
   "source": [
    "## Llama3-3-70b"
   ]
  },
  {
   "cell_type": "code",
   "execution_count": 3,
   "id": "a3aeb1a2",
   "metadata": {},
   "outputs": [
    {
     "name": "stderr",
     "output_type": "stream",
     "text": [
      "100%|██████████| 3633/3633 [00:00<00:00, 17134.49it/s]\n",
      "Procesando queries: 100%|██████████| 323/323 [00:00<00:00, 326920.90it/s]\n"
     ]
    },
    {
     "name": "stdout",
     "output_type": "stream",
     "text": [
      "Found 0 previously generated documents in '../doc_gen/fire/llama3-3-70b-instruct-v1/bge_large/llama3-3-70b-instruct-v1_generated_documents_nfcorpus.jsonl'.\n"
     ]
    },
    {
     "name": "stderr",
     "output_type": "stream",
     "text": [
      "Processing queries (generate or skip): 323it [04:41,  1.15it/s]"
     ]
    },
    {
     "name": "stdout",
     "output_type": "stream",
     "text": [
      "Document generation complete. Results saved in: ../doc_gen/fire/llama3-3-70b-instruct-v1/bge_large/llama3-3-70b-instruct-v1_generated_documents_nfcorpus.jsonl\n"
     ]
    },
    {
     "name": "stderr",
     "output_type": "stream",
     "text": [
      "\n"
     ]
    }
   ],
   "source": [
    "from kdir_src.generators.lite_llm import LiteLLMGenerator\n",
    "from kdir_src.fire.Fire import Fire\n",
    "from kdir_src.fire.promptor_fire import Promptor_fire\n",
    "dataset_name='nfcorpus'\n",
    "model='llama3-3-70b-instruct-v1'\n",
    "promptor = Promptor_fire(dataset_name)\n",
    "generator = LiteLLMGenerator(model, 1, 512, 0.0)\n",
    "fire_rag = Fire(dataset_name, promptor, generator, None)\n",
    "fire_rag.generate_openai_doc_and_save_prf(model,'../input_prompt/fire/input_prompt.json',f'../doc_gen/fire/{model}/')"
   ]
  }
 ],
 "metadata": {
  "kernelspec": {
   "display_name": "kdir_envi",
   "language": "python",
   "name": "python3"
  },
  "language_info": {
   "codemirror_mode": {
    "name": "ipython",
    "version": 3
   },
   "file_extension": ".py",
   "mimetype": "text/x-python",
   "name": "python",
   "nbconvert_exporter": "python",
   "pygments_lexer": "ipython3",
   "version": "3.10.18"
  }
 },
 "nbformat": 4,
 "nbformat_minor": 5
}
